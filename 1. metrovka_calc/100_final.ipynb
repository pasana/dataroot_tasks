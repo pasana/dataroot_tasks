{
 "cells": [
  {
   "cell_type": "code",
   "execution_count": null,
   "metadata": {
    "collapsed": true
   },
   "outputs": [],
   "source": [
    "import json\n",
    "import matplotlib.pyplot as plt\n",
    "import numpy as np\n",
    "from sklearn import datasets, linear_model\n",
    "from sklearn import preprocessing\n",
    "from sklearn import cross_validation\n",
    "from sklearn.feature_selection import VarianceThreshold\n",
    "\n",
    "DISTRICT_NAMES_RU = [\"Печерский\", \"Соломенский\", \"Деснянский\", \"Шевченковский\", \"Голосеевский\", \"Дарницкий\", \"Подольский\", \"Святошинский\", \"Оболонский\", \"Днепровский\"] \n",
    "\n",
    "DISTRICT_NAMES_UA = [\"Печерський\", \"Солом'янський\", \"Деснянський\", \"Шевченківський\", \"Голосіївський\", \"Дарницький\", \"Подільський\", \"Святошинський\", \"Оболонський\", \"Дніпровський\"] \n",
    "\n",
    "METRO_RU = [u'Академгородок',u'Арсенальная',u'Берестейская',u'Бориспольская',u'Васильковская',u'Вокзальная',u'Выдубичи',u'Вырлица',u'Выставочный центр (ВДНХ)',u'Героев Днепра',u'Гидропарк',u'Голосеевская',u'Дарница',u'Дворец Украина',u'Дворец спорта',u'Демеевская',u'Днепр',u'Дорогожичи',u'Дружбы народов',u'Житомирская',u'Золотые Ворота',u'Ипподром',u'Кловская',u'Контрактовая площадь',u'Красный хутор',u'Крещатик',u'Левобережная',u'Лесная',u'Лукьяновская',u'Лыбидская',u'Майдан Незалежности',u'Минская',u'Нивки',u'Оболонь',u'Олимпийская (Республиканский стадион)',u'Осокорки',u'Петровка',u'Печерская',u'Площадь Льва Толстого',u'Позняки',u'Политехнический институт',u'Почтовая площадь',u'Святошино',u'Славутич',u'Сырец',u'Тараса Шевченко',u'Театральная',u'Теремки',u'Университет',u'Харьковская',u'Черниговская',u'Шулявская']\n",
    "\n",
    "WALLS_RU = [u'Газоблок',u'Дерево/кирпич',u'Керамзито-бетон',u'Кирпич',u'Комбинир.',u'Монолит',u'Павильон (стекло)',u'Панель',u'Пенобетон',u'Пеноблок',u'Пеноблок/кирпич']\n",
    "   \n",
    "ROOMS_ARRANGEMENT = [u'\\u0420', u'\\u0421', u'\\u0421-\\u0440']\n",
    "\n",
    "WC_TYPES = [ u'\\u0420\\u0430\\u0437\\u0434.', u'\\u0421\\u043e\\u0432\\u043c\\u0435\\u0441\\u0442\\u043d\\u044b\\u0439']\n",
    "\n",
    "STATES = [u'\\u0415\\u0432\\u0440\\u043e\\u0440\\u0435\\u043c\\u043e\\u043d\\u0442', u'\\u041a\\u043e\\u0441\\u043c. \\u0440\\u0435\\u043c\\u043e\\u043d\\u0442', u'\\u0420\\u0435\\u043c\\u043e\\u043d\\u0442']\n",
    "\n",
    "FLOOR_RU = [u'\\u0414\\u0435\\u0440\\u0435\\u0432\\u043e',  u'\\u0414\\u043e\\u0441\\u043a\\u0430', u'\\u041a\\u043e\\u0432\\u0440\\u043e\\u043b\\u0438\\u043d',\n",
    " u'\\u041a\\u043e\\u043c\\u0431\\u0438\\u043d\\u0438\\u0440.',  u'\\u041b\\u0430\\u043c\\u0438\\u043d\\u0430\\u0442',  u'\\u041b\\u0438\\u043d\\u043e\\u043b\\u0435\\u0443\\u043c',\n",
    " u'\\u041f\\u0430\\u0440\\u043a\\u0435\\u0442',  u'\\u041f\\u0430\\u0440\\u043a\\u0435\\u0442\\u043d\\u0430\\u044f \\u0434\\u043e\\u0441\\u043a\\u0430',\n",
    " u'\\u041f\\u043b\\u0438\\u0442\\u043a\\u0430', u'\\u0421\\u0442\\u044f\\u0436\\u043a\\u0430']\n",
    "\n",
    "X_RU = [u'\\u0414\\u0435\\u0440\\u0435\\u0432\\u043e',\n",
    " u'\\u0416\\u0435\\u043b\\u0435\\u0437\\u043e\\u0431\\u0435\\u0442\\u043e\\u043d',\n",
    " u'\\u041a\\u043e\\u043c\\u0431\\u0438\\u043d\\u0438\\u0440\\u043e\\u0432\\u0430\\u043d\\u043d\\u044b\\u0435']\n",
    "\n",
    "DETAILS = [\"square\", \n",
    "           \"kitchen_square\",\n",
    "           \"live_square\", \n",
    "           \"rooms\", \n",
    "#           \"floor_count\", \n",
    "           \"floor\", \n",
    "           'wc_count'\n",
    "          ] #, 'levels']\n",
    "\n",
    "NOMINAL_DETAILS = ['material', 'rooms_arrangement','state', 'wc_type'] #, 'floor_material', 'x_material']\n",
    "\n",
    "YES_OR_NO_DETAILS = ['parking', 'telephone', 'refrigerator', 'tvset', 'balcon']\n",
    "\n",
    "FIELDS = DETAILS + NOMINAL_DETAILS + YES_OR_NO_DETAILS\n",
    "\n",
    "stop_price = [u'222502230000', u'2777780000', u'2777750000', u'1036680000', u'300000000', u'225000000', u'700000000', u'16750000']\n",
    "\n",
    "FEATURES = DETAILS + DISTRICT_NAMES_RU + METRO_RU + WALLS_RU + ROOMS_ARRANGEMENT + STATES + WC_TYPES + FLOOR_RU + X_RU\n",
    "\n",
    "USD = 24.5\n",
    "EUR =  26.9"
   ]
  },
  {
   "cell_type": "code",
   "execution_count": null,
   "metadata": {
    "collapsed": true
   },
   "outputs": [],
   "source": [
    "def get_list_of(data, field):\n",
    "    smth = []\n",
    "    for d in data:\n",
    "        try:\n",
    "            smth += [d[field]]\n",
    "        except:\n",
    "            pass\n",
    "    smth = list(set(smth))\n",
    "    smth.sort()\n",
    "    for m in smth:\n",
    "        print m\n",
    "    return smth"
   ]
  },
  {
   "cell_type": "code",
   "execution_count": null,
   "metadata": {
    "collapsed": true
   },
   "outputs": [],
   "source": [
    "def district_vector(district_name):\n",
    "    vec = [0]*len(DISTRICT_NAMES_RU)\n",
    "    try:\n",
    "        name = district_name.split()[0].encode('utf-8')\n",
    "        vec[DISTRICT_NAMES_RU.index(name)] = 1\n",
    "    except ValueError:\n",
    "        try:\n",
    "            vec[DISTRICT_NAMES_UA.index(name)] = 1\n",
    "        except: \n",
    "            pass\n",
    "    except:\n",
    "        pass\n",
    "    return vec"
   ]
  },
  {
   "cell_type": "code",
   "execution_count": null,
   "metadata": {
    "collapsed": true
   },
   "outputs": [],
   "source": [
    "def metro_vector(metro_list):\n",
    "    vec = [0]*len(METRO_RU)\n",
    "    for metro_name in metro_list:\n",
    "        try:\n",
    "            vec[METRO_RU.index(metro_name)] = 1\n",
    "        except:\n",
    "            pass\n",
    "    return vec\n",
    "\n",
    "def nominal_vector(name, VALUES):\n",
    "    vec = [0]*len(VALUES)\n",
    "    try:\n",
    "        vec[VALUES.index(name)] = 1\n",
    "    except:\n",
    "        pass\n",
    "    return vec\n",
    "\n",
    "def yes_or_no(ans):\n",
    "    if ans.encode('utf-8') == 'да':\n",
    "        return 1\n",
    "    if ans.encode('utf-8') == 'Есть':\n",
    "        return 1\n",
    "    return 0"
   ]
  },
  {
   "cell_type": "code",
   "execution_count": null,
   "metadata": {
    "collapsed": false
   },
   "outputs": [],
   "source": [
    "def extract_data(flat):\n",
    "    X = []\n",
    "    for d in DETAILS:\n",
    "        try:\n",
    "            X += [float(flat[d])]\n",
    "            if d == 'live_square':\n",
    "                if X[-1] > X[0]:\n",
    "                    X[-1] = 0\n",
    "            if d == 'kitchen_square':\n",
    "                if X[-1] > X[0]:\n",
    "                    X[-1] = 0\n",
    "            if d == 'rooms':\n",
    "                if X[-1] > 10:\n",
    "                    X[-1] = 0\n",
    "            if d == 'square':\n",
    "                if X[-1] > 900:\n",
    "                    X[-1] = 0\n",
    "        except:\n",
    "            X += [0]\n",
    "    try:\n",
    "        X += district_vector(flat['district'])\n",
    "    except KeyError:\n",
    "        X += [0] * len(DISTRICT_NAMES_RU)\n",
    "    try:\n",
    "        if type(flat['metro']) == list:\n",
    "            X += metro_vector(flat['metro'])\n",
    "        if type(flat['metro']) == dict:\n",
    "            X += metro_vector(flat['metro'].keys())        \n",
    "        X += [len(flat['metro'])]\n",
    "    except KeyError:\n",
    "        X += [0] * (len(METRO_RU)+1)\n",
    "#        X += [0] \n",
    "    try:\n",
    "        X += nominal_vector(flat['material'],WALLS_RU)\n",
    "    except KeyError:\n",
    "        X += [0] * len(WALLS_RU)\n",
    "    try:\n",
    "        X += nominal_vector(flat['rooms_arrangement'],ROOMS_ARRANGEMENT)\n",
    "    except KeyError:\n",
    "        X += [0] * len(ROOMS_ARRANGEMENT)\n",
    "    try:\n",
    "        X += nominal_vector(flat['state'],STATES)\n",
    "    except KeyError:\n",
    "        X += [0] * len(STATES)\n",
    "    try:\n",
    "        X += nominal_vector(flat['wc_type'],WC_TYPES)\n",
    "    except KeyError:\n",
    "        X += [0] * len(WC_TYPES)\n",
    "    try:\n",
    "        X += nominal_vector(flat['floor_material'],FLOOR_RU)\n",
    "    except KeyError:\n",
    "        X += [0] * len(FLOOR_RU)\n",
    "    try:\n",
    "        X += nominal_vector(flat['x_material'],X_RU)\n",
    "    except KeyError:\n",
    "        X += [0] * len(X_RU)\n",
    "    for d in YES_OR_NO_DETAILS:\n",
    "        try:\n",
    "            X += [yes_or_no(flat[d])]\n",
    "        except:\n",
    "            X += [0]\n",
    "    y=0\n",
    "    try:\n",
    "        y = float(flat['price'])\n",
    "    except:\n",
    "        print flat['code']\n",
    "    try:\n",
    "        if flat['currency'].lower().encode() == 'usd':\n",
    "            y *= USD\n",
    "        if flat['currency'].lower().encode() == 'eur':\n",
    "            y *= EUR\n",
    "    except:\n",
    "        pass\n",
    "    return [X, y]"
   ]
  },
  {
   "cell_type": "code",
   "execution_count": null,
   "metadata": {
    "collapsed": true
   },
   "outputs": [],
   "source": [
    "def process_with(X,y, info=False, short=False, return_short = False, new_coef = []):\n",
    "    train_X, test_X, train_y, test_y = cross_validation.train_test_split(X, y, test_size = 0.18, random_state = 3)\n",
    "    regr = linear_model.LinearRegression(normalize=False)\n",
    "    if new_coef != []:\n",
    "        print \"new coefs\"\n",
    "        regr.coef_ = new_coef\n",
    "    regr.fit(train_X, train_y)\n",
    "    if info:\n",
    "        print \"Total: %d, train: %d, test: %d\" %(len(X), len(train_X), len(test_X))\n",
    "        print(\"Residual sum of squares: %.2f\"% np.mean((regr.predict(test_X) - test_y) ** 2))\n",
    "        print(\"Train absolute: %.2f\"% np.mean(abs(regr.predict(train_X) - train_y)))\n",
    "        print(\"Test absolute: %.2f\"% np.mean(abs(regr.predict(test_X) - test_y)))\n",
    "        print(\"Absolute to mean: %.2f%%\"% (np.mean(abs(regr.predict(test_X) - test_y))/np.mean(test_y)*100))\n",
    "        print('Train variance score: %.2f' % regr.score(train_X, train_y))\n",
    "        print('Test variance score: %.2f' % regr.score(test_X, test_y))\n",
    "    if short:\n",
    "        print np.mean(abs(regr.predict(test_X) - test_y)),regr.score(test_X, test_y)\n",
    "    if return_short:\n",
    "        return np.mean(abs(regr.predict(test_X) - test_y)),regr.score(test_X, test_y)\n",
    "    return regr"
   ]
  },
  {
   "cell_type": "code",
   "execution_count": null,
   "metadata": {
    "collapsed": false
   },
   "outputs": [],
   "source": [
    "#remove data without price\n",
    "#field - str, data - list of dicts\n",
    "def remove_with_no(field, t_data):\n",
    "    c = 1\n",
    "    while c!=0:\n",
    "        c=0\n",
    "        for d in t_data:\n",
    "            try:\n",
    "                d[field]\n",
    "            except:\n",
    "                #print d\n",
    "                c+=1\n",
    "                t_data.remove(d)\n",
    "        print c\n",
    "    return t_data"
   ]
  },
  {
   "cell_type": "code",
   "execution_count": null,
   "metadata": {
    "collapsed": true
   },
   "outputs": [],
   "source": [
    "def get_X_y_from(t_data):\n",
    "    t_cleaned_data = [extract_data(i) for i in t_data]\n",
    "    X = np.array([i[0] for i in t_cleaned_data])\n",
    "    y = np.array([i[1] for i in t_cleaned_data])\n",
    "    return X,y"
   ]
  },
  {
   "cell_type": "markdown",
   "metadata": {},
   "source": [
    "## Load data & clean data"
   ]
  },
  {
   "cell_type": "code",
   "execution_count": null,
   "metadata": {
    "collapsed": false
   },
   "outputs": [],
   "source": [
    "with open('./spider_1000realty/realty_flats.json') as data_file: #last scray\n",
    "#with open('./spider_1000realty/results_new.json') as data_file: #first scrapy\n",
    "#with open('./filtered_data_1.json') as data_file:\n",
    "#with open('./filtered_realty_data_no_required.json') as data_file: #last nice\n",
    "#with open('./filtered_realty_data_no_required.json') as data_file: #last nice\n",
    "    json_data = json.load(data_file)\n",
    "print len(json_data)\n",
    "\n",
    "realty_data = [i for i in json_data if i['city'].strip().encode('utf-8') in [\"Киев\",\"Київ\"]]\n",
    "print len(realty_data)"
   ]
  },
  {
   "cell_type": "code",
   "execution_count": null,
   "metadata": {
    "collapsed": false
   },
   "outputs": [],
   "source": [
    "with open('metrovka_flats.json') as data_file:\n",
    "#with open('metrovka_flats_metro.json') as data_file:\n",
    "#with open('metrovka_flats_district.json') as data_file:    \n",
    "    json_data = json.load(data_file)\n",
    "print len(json_data)\n",
    "\n",
    "for d in json_data:\n",
    "    d['district']=[]\n",
    "\n",
    "#filter city Kiyv\n",
    "metrovka_data = [i for i in json_data ] #if i['city'].encode('utf-8') in [\"Киев\",\"Київ\"]]\n",
    "print len(metrovka_data)"
   ]
  },
  {
   "cell_type": "code",
   "execution_count": null,
   "metadata": {
    "collapsed": false
   },
   "outputs": [],
   "source": [
    "print len(realty_data)\n",
    "realty_data = remove_with_no('price', realty_data)\n",
    "realty_data = remove_with_no('square', realty_data)\n",
    "realty_data = remove_with_no('district', realty_data)\n",
    "#realty_data = remove_with_no('metro', realty_data)\n",
    "print len(realty_data)"
   ]
  },
  {
   "cell_type": "code",
   "execution_count": null,
   "metadata": {
    "collapsed": false
   },
   "outputs": [],
   "source": [
    "print len(metrovka_data)\n",
    "metrovka_data = remove_with_no('price', metrovka_data)\n",
    "metrovka_data = remove_with_no('square', metrovka_data)\n",
    "#metrovka_data = remove_with_no('district', metrovka_data)\n",
    "metrovka_data = remove_with_no('metro', metrovka_data)\n",
    "print len(metrovka_data)"
   ]
  },
  {
   "cell_type": "code",
   "execution_count": null,
   "metadata": {
    "collapsed": true
   },
   "outputs": [],
   "source": [
    "realty_data = []"
   ]
  },
  {
   "cell_type": "code",
   "execution_count": null,
   "metadata": {
    "collapsed": false
   },
   "outputs": [],
   "source": [
    "#merging\n",
    "realty_data += metrovka_data\n",
    "print len(realty_data)"
   ]
  },
  {
   "cell_type": "code",
   "execution_count": null,
   "metadata": {
    "collapsed": true
   },
   "outputs": [],
   "source": [
    "realty_data_1 = [i for i in realty_data if i['type'] == 1]\n",
    "realty_data_2 = [i for i in realty_data if i['type'] == 2]"
   ]
  },
  {
   "cell_type": "code",
   "execution_count": null,
   "metadata": {
    "collapsed": true
   },
   "outputs": [],
   "source": [
    "metrovka_data_1 = [i for i in metrovka_data if i['type'] == 1]\n",
    "metrovka_data_2 = [i for i in metrovka_data if i['type'] == 2]"
   ]
  },
  {
   "cell_type": "markdown",
   "metadata": {},
   "source": [
    "## First models"
   ]
  },
  {
   "cell_type": "code",
   "execution_count": null,
   "metadata": {
    "collapsed": true
   },
   "outputs": [],
   "source": [
    "realty_X_2, realty_y_2 = get_X_y_from(realty_data_2)"
   ]
  },
  {
   "cell_type": "code",
   "execution_count": null,
   "metadata": {
    "collapsed": false
   },
   "outputs": [],
   "source": [
    "regr = process_with(realty_X_2, realty_y_2, info=True)"
   ]
  },
  {
   "cell_type": "code",
   "execution_count": null,
   "metadata": {
    "collapsed": false
   },
   "outputs": [],
   "source": [
    "metrovka_X_2, metrovka_y_2 = get_X_y_from(metrovka_data_2)"
   ]
  },
  {
   "cell_type": "code",
   "execution_count": null,
   "metadata": {
    "collapsed": false
   },
   "outputs": [],
   "source": [
    "print(\"Residual sum of squares: %.2f\"% np.mean((regr.predict(metrovka_X_2) - metrovka_y_2) ** 2))\n",
    "print(\"Test absolute: %.2f\"% np.mean(abs(regr.predict(metrovka_X_2) - metrovka_y_2)))\n",
    "print(\"Absolute to mean: %.2f%%\"% (np.mean(abs(regr.predict(metrovka_X_2) - metrovka_y_2))/np.mean(metrovka_y_2)*100))\n",
    "print('Test variance score: %.2f' % regr.score(metrovka_X_2, metrovka_y_2))"
   ]
  },
  {
   "cell_type": "code",
   "execution_count": null,
   "metadata": {
    "collapsed": false,
    "scrolled": true
   },
   "outputs": [],
   "source": [
    "print \"Features sorted by their score:\"\n",
    "#f = sorted(zip(map(lambda x: round(x, 4), regr.coef_), FEATURES), reverse=True)\n",
    "f = zip(map(lambda x: round(x, 4), regr.coef_), FEATURES)\n",
    "print regr.intercept_\n",
    "print len(FEATURES)\n",
    "for i in f:\n",
    "    print \"%4f \\t %s\" %(i[0], i[1])"
   ]
  },
  {
   "cell_type": "code",
   "execution_count": null,
   "metadata": {
    "collapsed": false
   },
   "outputs": [],
   "source": [
    "#!-----extract frequency------\n",
    "counts = [0] * len(FIELDS)\n",
    "for d in realty_data:\n",
    "    for k in d.keys():\n",
    "        try:\n",
    "            counts[FIELDS.index(k)]+=1\n",
    "        except:\n",
    "            pass\n",
    "\n",
    "together = []\n",
    "for i in range(0, len(FIELDS)):\n",
    "    together += [[counts[i], FIELDS[i]]]\n",
    "\n",
    "together.sort(reverse=True)\n",
    "\n",
    "for i in range(0, len(FIELDS)):\n",
    "    together[i] += [round(together[i][0]/float(len(realty_data))*100,2)]\n",
    "\n",
    "for i in together:\n",
    "    print i\n",
    "#!---------------------------"
   ]
  },
  {
   "cell_type": "markdown",
   "metadata": {},
   "source": [
    "## Plots"
   ]
  },
  {
   "cell_type": "code",
   "execution_count": null,
   "metadata": {
    "collapsed": false
   },
   "outputs": [],
   "source": [
    "#show dots from all data\n",
    "plt.scatter([np.linalg.norm(i) for i in realty_X_2], realty_y_2, color='black')\n",
    "#plt.plot([np.linalg.norm(i) for i in X_2], regr.predict(X_2), color='blue', linewidth=1)\n",
    "#plt.scatter(np.linalg.norm(X_2[ind]), y_2[ind], color='blue')\n",
    "#plt.scatter([np.linalg.norm(i) for i in X_2[inx]], y_2[inx], color='blue')\n",
    "plt.xticks(())\n",
    "plt.yticks(())\n",
    "plt.show()"
   ]
  },
  {
   "cell_type": "markdown",
   "metadata": {},
   "source": [
    "##  Good vs bad"
   ]
  },
  {
   "cell_type": "code",
   "execution_count": null,
   "metadata": {
    "collapsed": true
   },
   "outputs": [],
   "source": [
    "good = []\n",
    "bad = []\n",
    "all = zip(metrovka_X_2, metrovka_y_2)\n",
    "for i,z in enumerate(all):\n",
    "    r = regr.predict(z[0])\n",
    "    err_procent = np.mean(abs(r - z[1])/z[1]*100)\n",
    "    if err_procent > 30:\n",
    "        bad += [[metrovka_data_2[i], r[0], err_procent]]\n",
    "    else:\n",
    "        good += [[metrovka_data_2[i], r[0], err_procent]]"
   ]
  },
  {
   "cell_type": "code",
   "execution_count": null,
   "metadata": {
    "collapsed": false
   },
   "outputs": [],
   "source": [
    "print len(metrovka_data_2)\n",
    "print len(bad), len(good)\n",
    "print len(bad)/float(len(metrovka_data_2)), len(good)/float(len(metrovka_data_2))\n",
    "print np.mean(map(lambda x: x[2], bad)), np.mean(map(lambda x: x[2], good))\n",
    "print np.median(map(lambda x: x[2], bad)), np.median(map(lambda x: x[2], good))\n",
    "#print bad[0]\n",
    "#for b in bad:\n",
    "#    b[-2]=b[-2][0]\n",
    "#with open('bad.json', 'w') as outfile:\n",
    "#    json.dump(bad, outfile)"
   ]
  },
  {
   "cell_type": "code",
   "execution_count": null,
   "metadata": {
    "collapsed": false
   },
   "outputs": [],
   "source": [
    "print \"Всего элементов: %d\" % len(metrovka_data_2)\n",
    "print \"Плохих: %d \\nХороших: %d\" % (len(bad), len(good))\n",
    "print \"Процент плохих: %.2f \\nПроцент хороших: %.2f\" % (len(bad)/float(len(metrovka_data_2)), len(good)/float(len(metrovka_data_2)))\n",
    "print \"Среднее плохих: %.3f \\nСреднее хороших: %.3f\" % (np.mean(map(lambda x: x[2], bad)), np.mean(map(lambda x: x[2], good)))\n",
    "print \"Медиана плохих: %.3f \\nМедиана хороших: %.3f\" % (np.median(map(lambda x: x[2], bad)), np.median(map(lambda x: x[2], good)))\n",
    "#print bad[0]\n",
    "#for b in bad:\n",
    "#    b[-2]=b[-2][0]\n",
    "#with open('bad.json', 'w') as outfile:\n",
    "#    json.dump(bad, outfile)"
   ]
  },
  {
   "cell_type": "markdown",
   "metadata": {},
   "source": [
    "## Manual checking"
   ]
  },
  {
   "cell_type": "code",
   "execution_count": null,
   "metadata": {
    "collapsed": false
   },
   "outputs": [],
   "source": [
    "ind = 1129\n",
    "#for i in metrovka_data_2[ind].values():\n",
    "#    print i\n",
    "#print metrovka_data_2[ind]\n",
    "[x,y] = extract_data(metrovka_data_2[ind])\n",
    "print metrovka_data_2[ind]['rooms']\n",
    "print\n",
    "print(\"%.2f \\t diff\"% np.mean((regr.predict(x) - y)))\n",
    "print y, \"real\"\n",
    "print regr.predict(x)[0]\n",
    "print(\"%.2f\"% np.mean(abs(regr.predict(x) - y)/y*100))"
   ]
  },
  {
   "cell_type": "code",
   "execution_count": null,
   "metadata": {
    "collapsed": false
   },
   "outputs": [],
   "source": [
    "[x,y] =extract_data({\n",
    " u'district': u'Оболонский',\n",
    " u'price': u'3000000.00',\n",
    " #u'rooms': u'2',\n",
    " u'square': u'80',\n",
    " u'type': 2,\n",
    "})\n",
    "print\n",
    "print(\"%.2f \\t diff\"% np.mean((regr.predict(x) - y)))\n",
    "print y, \"real\"\n",
    "print regr.predict(x)[0]\n",
    "print(\"%.2f\"% np.mean(abs(regr.predict(x) - y)/y*100))"
   ]
  },
  {
   "cell_type": "code",
   "execution_count": null,
   "metadata": {
    "collapsed": false,
    "scrolled": true
   },
   "outputs": [],
   "source": [
    "for d in DISTRICT_NAMES_RU:\n",
    "    [x,y] =extract_data({\n",
    "     u'district': d.decode('utf-8'),\n",
    "     u'price': u'3000000.00',\n",
    "     #u'rooms': u'2',\n",
    "     u'square': u'45',\n",
    "     u'type': 2,\n",
    "    })\n",
    "    print \"%s: \\t %f\" %(d,regr.predict(x)[0])"
   ]
  },
  {
   "cell_type": "code",
   "execution_count": null,
   "metadata": {
    "collapsed": false,
    "scrolled": true
   },
   "outputs": [],
   "source": [
    "for d in METRO_RU:\n",
    "    [x,y] =extract_data({\n",
    "     u'metro': [d],\n",
    "     u'price': u'3000000.00',\n",
    "     #u'rooms': u'2',\n",
    "     u'square': u'45',\n",
    "     u'type': 2,\n",
    "    })\n",
    "    print \"%50s: \\t %f\" %(d,regr.predict(x)[0])"
   ]
  },
  {
   "cell_type": "code",
   "execution_count": null,
   "metadata": {
    "collapsed": false
   },
   "outputs": [],
   "source": [
    "from collections import Counter\n",
    "data = Counter([i['square'] for i in metrovka_data])\n",
    "data.most_common()   # Returns all unique items and their counts\n",
    "data.most_common(2)"
   ]
  },
  {
   "cell_type": "markdown",
   "metadata": {},
   "source": [
    "## Making some fields requiered"
   ]
  },
  {
   "cell_type": "code",
   "execution_count": null,
   "metadata": {
    "collapsed": false
   },
   "outputs": [],
   "source": [
    "#remove_data_with_no_district_in_X\n",
    "def make_field_required(t_data):\n",
    "    ind = []\n",
    "    X = get_X_y_from(t_data)[0]\n",
    "    print \"Elements: %d\" % len(X)\n",
    "    for i, x in enumerate(X):\n",
    "        if np.count_nonzero(x[6:16])==0:\n",
    "            ind += [i]\n",
    "    print \"Deleted: %d\" % len(ind)\n",
    "    ind = sorted(ind, reverse=True)\n",
    "    for i in ind:\n",
    "        t=t_data.pop(i)\n",
    "    return t_data"
   ]
  },
  {
   "cell_type": "code",
   "execution_count": null,
   "metadata": {
    "collapsed": false
   },
   "outputs": [],
   "source": [
    "realty_data_2=make_field_required(realty_data_2)"
   ]
  },
  {
   "cell_type": "code",
   "execution_count": null,
   "metadata": {
    "collapsed": false
   },
   "outputs": [],
   "source": [
    "metrovka_data_2=make_field_required(metrovka_data_2)"
   ]
  },
  {
   "cell_type": "markdown",
   "metadata": {},
   "source": [
    "## Delete data with big diffs"
   ]
  },
  {
   "cell_type": "code",
   "execution_count": null,
   "metadata": {
    "collapsed": true
   },
   "outputs": [],
   "source": [
    "def mean_diff(t_data, normalize = True, plots = True, info=True):\n",
    "    X, y = get_X_y_from(t_data)\n",
    "    print \"Before:\"\n",
    "    before = process_with(X, y, return_short=True)\n",
    "    print before\n",
    "    \n",
    "    if normalize:\n",
    "        min_max_scaler = preprocessing.MinMaxScaler()\n",
    "        X = min_max_scaler.fit_transform(X)\n",
    "        y = min_max_scaler.fit_transform(y)\n",
    "    \n",
    "    pts = np.float32(zip(map(lambda x: np.linalg.norm(x), X),y))\n",
    "    \n",
    "    mean_pt = np.mean(pts,axis=0)\n",
    "    mean_x,mean_y = mean_pt\n",
    "    diffs = np.apply_along_axis(np.linalg.norm,1,pts - mean_pt)\n",
    "    mean_diff = np.mean(diffs)\n",
    "\n",
    "    filtered = np.float32([pts[i] for i,diff in enumerate(diffs) if diff <= 2*mean_diff])\n",
    "    filtered_mean = np.mean(filtered,axis=0)\n",
    "    \n",
    "    t_data_f = [t_data[i] for i,diff in enumerate(diffs) if diff <= 2*mean_diff]\n",
    "    X_f, y_f = get_X_y_from(t_data_f)\n",
    "    print \"After:\"\n",
    "    after = process_with(X_f,y_f, return_short=True)\n",
    "    print after\n",
    "    \n",
    "#    plt.plot(pts[:,0],pts[:,1],'ro')\n",
    "#    plt.plot(mean_x,mean_y,'w^')\n",
    "#    plt.plot(filtered[:,0],filtered[:,1],'bo')\n",
    "#    plt.plot(filtered_mean[0],filtered_mean[1],'w^')\n",
    "#    plt.show()\n",
    "    if after[1] > before[1] or after[0] < before[0]:\n",
    "        return t_data_f\n",
    "    return t_data"
   ]
  },
  {
   "cell_type": "code",
   "execution_count": null,
   "metadata": {
    "collapsed": false,
    "scrolled": true
   },
   "outputs": [],
   "source": [
    "l = 1\n",
    "while l!=len(realty_data_2):\n",
    "    l = len(realty_data_2)\n",
    "    realty_data_2 = mean_diff(realty_data_2)"
   ]
  },
  {
   "cell_type": "markdown",
   "metadata": {},
   "source": [
    "## Delete \"outlaws\""
   ]
  },
  {
   "cell_type": "code",
   "execution_count": null,
   "metadata": {
    "collapsed": true
   },
   "outputs": [],
   "source": [
    "def get_ind_by_y(X, y, ind_max = True):\n",
    "    if ind_max:\n",
    "        return np.argmax(y)\n",
    "    else:\n",
    "        return np.argmin(y)"
   ]
  },
  {
   "cell_type": "code",
   "execution_count": null,
   "metadata": {
    "collapsed": false
   },
   "outputs": [],
   "source": [
    "def get_ind_by_x_norm(X, y, ind_max=True):\n",
    "    norms = [np.linalg.norm(i) for i in X]\n",
    "    #sorted_norm = [np.linalg.norm(i) for i in X]\n",
    "    #sorted_norm.sort()\n",
    "    if ind_max:\n",
    "        #ind = norms.index(sorted_norm[-1])\n",
    "        ind = norms.index(max(norms))\n",
    "    else:\n",
    "        #ind = norms.index(sorted_norm[1])\n",
    "        ind = norms.index(min(norms))\n",
    "    return ind"
   ]
  },
  {
   "cell_type": "code",
   "execution_count": null,
   "metadata": {
    "collapsed": true
   },
   "outputs": [],
   "source": [
    "def get_ind_by_y_to_x_norm(X, y, ind_max=True):\n",
    "    y_to_norm_x = [y[i]/np.linalg.norm(X[i]) for i in range(0,len(X))]\n",
    "    if ind_max:\n",
    "        return np.argmax(y_to_norm_x)\n",
    "    else:\n",
    "        return np.argmin(y_to_norm_x)"
   ]
  },
  {
   "cell_type": "code",
   "execution_count": null,
   "metadata": {
    "collapsed": false
   },
   "outputs": [],
   "source": [
    "def cut_data_by(t_data, get_ind_cut_function, ind_max_flag=True):\n",
    "    previous_sum = -1000000\n",
    "    previous_score = -100000\n",
    "    X, y = get_X_y_from(t_data)\n",
    "    [current_sum, current_score] = process_with(X, y, return_short=True)\n",
    "    temp={}\n",
    "    while current_score > previous_score or current_sum < previous_sum:\n",
    "        previous_score = current_score\n",
    "        previous_sum = current_sum\n",
    "\n",
    "        inx = get_ind_cut_function(X, y,ind_max=ind_max_flag)\n",
    "        #print t_data[norms.index(sorted_norm[-1])]['code'], sorted_norm[-1]\n",
    "        temp = t_data.pop(inx)\n",
    "        \n",
    "        X, y = get_X_y_from(t_data)\n",
    "        [current_sum, current_score] = process_with(X, y, return_short=True)\n",
    "        \n",
    "        print current_sum, previous_sum\n",
    "        print current_score, previous_score\n",
    "        print \"-----\"\n",
    "    t_data+=[temp]\n",
    "    return t_data"
   ]
  },
  {
   "cell_type": "code",
   "execution_count": null,
   "metadata": {
    "collapsed": false
   },
   "outputs": [],
   "source": [
    "realty_data_2 = cut_data_by(realty_data_2, get_ind_by_x_norm, True)"
   ]
  },
  {
   "cell_type": "code",
   "execution_count": null,
   "metadata": {
    "collapsed": true
   },
   "outputs": [],
   "source": [
    "l = 1\n",
    "while l!=len(realty_data_2):\n",
    "    l = len(realty_data_2)\n",
    "    print \"by x norm max\"\n",
    "    realty_data_2 = cut_data_by(realty_data_2, get_ind_by_x_norm, True)\n",
    "    print \"by y max\"\n",
    "    realty_data_2 = cut_data_by(realty_data_2, get_ind_by_y, True)\n",
    "    print \"by y to x norm max\"\n",
    "    realty_data_2 = cut_data_by(realty_data_2, get_ind_by_y_to_x_norm, True)\n",
    "    print \"by x norm min\"\n",
    "    realty_data_2 = cut_data_by(realty_data_2, get_ind_by_x_norm, False)\n",
    "    print \"by y min\"\n",
    "    realty_data_2 = cut_data_by(realty_data_2, get_ind_by_y, False)\n",
    "    print \"by y to x norm min\"\n",
    "    realty_data_2 = cut_data_by(realty_data_2, get_ind_by_y_to_x_norm, False)"
   ]
  },
  {
   "cell_type": "markdown",
   "metadata": {},
   "source": [
    "## One by one"
   ]
  },
  {
   "cell_type": "code",
   "execution_count": null,
   "metadata": {
    "collapsed": false,
    "scrolled": true
   },
   "outputs": [],
   "source": [
    "l = 1\n",
    "while l!=len(realty_data_2):\n",
    "    l = len(realty_data_2)\n",
    "    print \"by x norm max\"\n",
    "    realty_data_2 = cut_data_by(realty_data_2, get_ind_by_x_norm, True)\n",
    "    print \"by y max\"\n",
    "    realty_data_2 = cut_data_by(realty_data_2, get_ind_by_y, True)\n",
    "    print \"by y to x norm max\"\n",
    "    realty_data_2 = cut_data_by(realty_data_2, get_ind_by_y_to_x_norm, True)\n",
    "    print \"by x norm min\"\n",
    "    realty_data_2 = cut_data_by(realty_data_2, get_ind_by_x_norm, False)\n",
    "    print \"by y min\"\n",
    "    realty_data_2 = cut_data_by(realty_data_2, get_ind_by_y, False)\n",
    "    print \"by y to x norm min\"\n",
    "    realty_data_2 = cut_data_by(realty_data_2, get_ind_by_y_to_x_norm, False)\n",
    "    print \"mean_diff\"\n",
    "    realty_data_2 = mean_diff(realty_data_2, normalize = True)"
   ]
  },
  {
   "cell_type": "markdown",
   "metadata": {},
   "source": [
    "## Saving and loading coefs"
   ]
  },
  {
   "cell_type": "code",
   "execution_count": null,
   "metadata": {
    "collapsed": false
   },
   "outputs": [],
   "source": [
    "coefs = map(lambda x: round(x, 4), regr.coef_)\n",
    "f = zip(coefs, FEATURES)\n",
    "print coefs"
   ]
  },
  {
   "cell_type": "code",
   "execution_count": null,
   "metadata": {
    "collapsed": true
   },
   "outputs": [],
   "source": [
    "import pickle\n",
    "with open('filtered_mixed_coefs_district_square_required.json', 'w') as outfile:\n",
    "    pickle.dump(coefs, outfile)"
   ]
  },
  {
   "cell_type": "code",
   "execution_count": null,
   "metadata": {
    "collapsed": false
   },
   "outputs": [],
   "source": [
    "import pickle\n",
    "with open('filtered_mixed_coefs_district_square_required.json', 'r') as infile:\n",
    "    c = pickle.load(infile)"
   ]
  },
  {
   "cell_type": "markdown",
   "metadata": {},
   "source": [
    "## Save data"
   ]
  },
  {
   "cell_type": "code",
   "execution_count": null,
   "metadata": {
    "collapsed": false
   },
   "outputs": [],
   "source": [
    "with open('metrovka_flats_metro.json', 'w') as outfile:\n",
    "    json.dump(metrovka_data, outfile)\n",
    "#json.dumps(data_2[0:1])"
   ]
  }
 ],
 "metadata": {
  "kernelspec": {
   "display_name": "Python 2",
   "language": "python",
   "name": "python2"
  },
  "language_info": {
   "codemirror_mode": {
    "name": "ipython",
    "version": 2
   },
   "file_extension": ".py",
   "mimetype": "text/x-python",
   "name": "python",
   "nbconvert_exporter": "python",
   "pygments_lexer": "ipython2",
   "version": "2.7.6"
  }
 },
 "nbformat": 4,
 "nbformat_minor": 0
}
