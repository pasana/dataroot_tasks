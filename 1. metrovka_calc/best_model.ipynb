{
 "cells": [
  {
   "cell_type": "markdown",
   "metadata": {},
   "source": [
    "# NB.\n",
    "Сначала все ячейки до первой модели, потом начиная с обязательности полей и по \"one by one\", а потом возврат к первой модели."
   ]
  },
  {
   "cell_type": "code",
   "execution_count": 54,
   "metadata": {
    "collapsed": true
   },
   "outputs": [],
   "source": [
    "import json\n",
    "import matplotlib.pyplot as plt\n",
    "import numpy as np\n",
    "from sklearn import datasets, linear_model\n",
    "from sklearn import preprocessing\n",
    "from sklearn import cross_validation\n",
    "from sklearn.feature_selection import VarianceThreshold\n",
    "\n",
    "DISTRICT_NAMES_RU = [\"Печерский\", \"Соломенский\", \"Деснянский\", \"Шевченковский\", \"Голосеевский\", \"Дарницкий\", \"Подольский\", \"Святошинский\", \"Оболонский\", \"Днепровский\"] \n",
    "\n",
    "DISTRICT_NAMES_UA = [\"Печерський\", \"Солом'янський\", \"Деснянський\", \"Шевченківський\", \"Голосіївський\", \"Дарницький\", \"Подільський\", \"Святошинський\", \"Оболонський\", \"Дніпровський\"] \n",
    "\n",
    "METRO_RU = [u'Академгородок',u'Арсенальная',u'Берестейская',u'Бориспольская',u'Васильковская',u'Вокзальная',u'Выдубичи',u'Вырлица',u'Выставочный центр (ВДНХ)',u'Героев Днепра',u'Гидропарк',u'Голосеевская',u'Дарница',u'Дворец Украина',u'Дворец спорта',u'Демеевская',u'Днепр',u'Дорогожичи',u'Дружбы народов',u'Житомирская',u'Золотые Ворота',u'Ипподром',u'Кловская',u'Контрактовая площадь',u'Красный хутор',u'Крещатик',u'Левобережная',u'Лесная',u'Лукьяновская',u'Лыбидская',u'Майдан Незалежности',u'Минская',u'Нивки',u'Оболонь',u'Олимпийская (Республиканский стадион)',u'Осокорки',u'Петровка',u'Печерская',u'Площадь Льва Толстого',u'Позняки',u'Политехнический институт',u'Почтовая площадь',u'Святошино',u'Славутич',u'Сырец',u'Тараса Шевченко',u'Театральная',u'Теремки',u'Университет',u'Харьковская',u'Черниговская',u'Шулявская']\n",
    "\n",
    "WALLS_RU = [u'Газоблок',u'Дерево/кирпич',u'Керамзито-бетон',u'Кирпич',u'Комбинир.',u'Монолит',u'Павильон (стекло)',u'Панель',u'Пенобетон',u'Пеноблок',u'Пеноблок/кирпич']\n",
    "   \n",
    "ROOMS_ARRANGEMENT = [u'\\u0420', u'\\u0421', u'\\u0421-\\u0440']\n",
    "\n",
    "WC_TYPES = [ u'\\u0420\\u0430\\u0437\\u0434.', u'\\u0421\\u043e\\u0432\\u043c\\u0435\\u0441\\u0442\\u043d\\u044b\\u0439']\n",
    "\n",
    "STATES = [u'\\u0415\\u0432\\u0440\\u043e\\u0440\\u0435\\u043c\\u043e\\u043d\\u0442', u'\\u041a\\u043e\\u0441\\u043c. \\u0440\\u0435\\u043c\\u043e\\u043d\\u0442', u'\\u0420\\u0435\\u043c\\u043e\\u043d\\u0442']\n",
    "\n",
    "FLOOR_RU = [u'\\u0414\\u0435\\u0440\\u0435\\u0432\\u043e',  u'\\u0414\\u043e\\u0441\\u043a\\u0430', u'\\u041a\\u043e\\u0432\\u0440\\u043e\\u043b\\u0438\\u043d',\n",
    " u'\\u041a\\u043e\\u043c\\u0431\\u0438\\u043d\\u0438\\u0440.',  u'\\u041b\\u0430\\u043c\\u0438\\u043d\\u0430\\u0442',  u'\\u041b\\u0438\\u043d\\u043e\\u043b\\u0435\\u0443\\u043c',\n",
    " u'\\u041f\\u0430\\u0440\\u043a\\u0435\\u0442',  u'\\u041f\\u0430\\u0440\\u043a\\u0435\\u0442\\u043d\\u0430\\u044f \\u0434\\u043e\\u0441\\u043a\\u0430',\n",
    " u'\\u041f\\u043b\\u0438\\u0442\\u043a\\u0430', u'\\u0421\\u0442\\u044f\\u0436\\u043a\\u0430']\n",
    "\n",
    "X_RU = [u'\\u0414\\u0435\\u0440\\u0435\\u0432\\u043e',\n",
    " u'\\u0416\\u0435\\u043b\\u0435\\u0437\\u043e\\u0431\\u0435\\u0442\\u043e\\u043d',\n",
    " u'\\u041a\\u043e\\u043c\\u0431\\u0438\\u043d\\u0438\\u0440\\u043e\\u0432\\u0430\\u043d\\u043d\\u044b\\u0435']\n",
    "\n",
    "DETAILS = [\n",
    "    \"square\", \n",
    "           \"kitchen_square\",\n",
    "#           \"live_square\", \n",
    "#           \"rooms\", \n",
    "           \"floor_count\", \n",
    "           \"floor\", \n",
    "#           'wc_count'\n",
    "          ] #, 'levels']\n",
    "\n",
    "NOMINAL_DETAILS = [\n",
    "#    ('material', WALLS_RU),\n",
    "#    ('rooms_arrangement',ROOMS_ARRANGEMENT),\n",
    "#    ('state', STATES),\n",
    "#    ('wc_type',WC_TYPES),\n",
    "#    ('floor_material',FLOOR_RU),\n",
    "#    ('x_material', X_RU),\n",
    "]\n",
    "\n",
    "YES_OR_NO_DETAILS = [\n",
    "#    'parking', 'telephone', 'refrigerator', 'tvset', 'balcon'\n",
    "]\n",
    "\n",
    "FIELDS = DETAILS + sum([i[1] for i in NOMINAL_DETAILS],[]) + YES_OR_NO_DETAILS\n",
    "\n",
    "FEATURES = DETAILS + DISTRICT_NAMES_RU + METRO_RU + WALLS_RU + ROOMS_ARRANGEMENT + STATES + WC_TYPES + FLOOR_RU + X_RU\n",
    "\n",
    "USD = 24.5\n",
    "EUR =  26.9"
   ]
  },
  {
   "cell_type": "code",
   "execution_count": 2,
   "metadata": {
    "collapsed": true
   },
   "outputs": [],
   "source": [
    "def district_vector(district_name):\n",
    "    vec = [0]*len(DISTRICT_NAMES_RU)\n",
    "    try:\n",
    "        name = district_name.split()[0].encode('utf-8')\n",
    "        vec[DISTRICT_NAMES_RU.index(name)] = 1\n",
    "    except ValueError:\n",
    "        try:\n",
    "            vec[DISTRICT_NAMES_UA.index(name)] = 1\n",
    "        except: \n",
    "            pass\n",
    "    except:\n",
    "        pass\n",
    "    return vec"
   ]
  },
  {
   "cell_type": "code",
   "execution_count": 3,
   "metadata": {
    "collapsed": true
   },
   "outputs": [],
   "source": [
    "def metro_vector(metro_list):\n",
    "    vec = [0]*len(METRO_RU)\n",
    "    for metro_name in metro_list:\n",
    "        try:\n",
    "            vec[METRO_RU.index(metro_name)] = 1\n",
    "        except:\n",
    "            pass\n",
    "    return vec\n",
    "\n",
    "def nominal_vector(name, VALUES):\n",
    "    vec = [0]*len(VALUES)\n",
    "    try:\n",
    "        vec[VALUES.index(name)] = 1\n",
    "    except:\n",
    "        pass\n",
    "    return vec\n",
    "\n",
    "def yes_or_no(ans):\n",
    "    if ans.encode('utf-8') == 'да':\n",
    "        return 1\n",
    "    if ans.encode('utf-8') == 'Есть':\n",
    "        return 1\n",
    "    return 0"
   ]
  },
  {
   "cell_type": "code",
   "execution_count": 111,
   "metadata": {
    "collapsed": true
   },
   "outputs": [],
   "source": [
    "def extract_data(flat):\n",
    "    X = []\n",
    "    for d in DETAILS:\n",
    "        try:\n",
    "            X += [float(flat[d])]\n",
    "            if d == 'live_square':\n",
    "                if X[-1] > X[0]:\n",
    "                    X[-1] = 0\n",
    "            if d == 'kitchen_square':\n",
    "                if X[-1] > X[0]:\n",
    "                    X[-1] = 0\n",
    "            if d == 'rooms':\n",
    "                if X[-1] > 10:\n",
    "                    X[-1] = 0\n",
    "            if d == 'square':\n",
    "                if X[-1] > 900:\n",
    "                    X[-1] = 0\n",
    "        except:\n",
    "            X += [0]\n",
    "    try:\n",
    "        X += district_vector(flat['district'])\n",
    "    except KeyError:\n",
    "        X += [0] * len(DISTRICT_NAMES_RU)\n",
    "    try:\n",
    "        if type(flat['metro']) == list:\n",
    "            X += metro_vector(flat['metro'])\n",
    "        if type(flat['metro']) == dict:\n",
    "            X += metro_vector(flat['metro'].keys())        \n",
    "        X += [len(flat['metro'])]\n",
    "    except KeyError:\n",
    "        X += [0] * (len(METRO_RU)+1)\n",
    "#        X += [0] \n",
    "    for n in NOMINAL_DETAILS:\n",
    "        try:\n",
    "            X += nominal_vector(flat[n[0]],n[1])\n",
    "        except KeyError:\n",
    "            X += [0] * len(n[1])\n",
    "    for d in YES_OR_NO_DETAILS:\n",
    "        try:\n",
    "            X += [yes_or_no(flat[d])]\n",
    "        except:\n",
    "            X += [0]\n",
    "    y=0\n",
    "    try:\n",
    "        y = float(flat['price'])\n",
    "    except:\n",
    "        print flat['code']\n",
    "    try:\n",
    "        if flat['currency'].lower().encode() == 'usd':\n",
    "            y *= USD\n",
    "        if flat['currency'].lower().encode() == 'eur':\n",
    "            y *= EUR\n",
    "    except:\n",
    "        pass\n",
    "    return [X, y]"
   ]
  },
  {
   "cell_type": "code",
   "execution_count": 5,
   "metadata": {
    "collapsed": true
   },
   "outputs": [],
   "source": [
    "def process_with(X,y, info=False, short=False, return_short = False, new_coef = []):\n",
    "    train_X, test_X, train_y, test_y = cross_validation.train_test_split(X, y, test_size = 0.18, random_state = 3)\n",
    "    regr = linear_model.LinearRegression(normalize=False)\n",
    "    if new_coef != []:\n",
    "        print \"new coefs\"\n",
    "        regr.coef_ = new_coef\n",
    "    regr.fit(train_X, train_y)\n",
    "    if info:\n",
    "        print \"Total: %d, train: %d, test: %d\" %(len(X), len(train_X), len(test_X))\n",
    "        print(\"Residual sum of squares: %.2f\"% np.mean((regr.predict(test_X) - test_y) ** 2))\n",
    "        print(\"Train absolute: %.2f\"% np.mean(abs(regr.predict(train_X) - train_y)))\n",
    "        print(\"Test absolute: %.2f\"% np.mean(abs(regr.predict(test_X) - test_y)))\n",
    "        print(\"Absolute to mean: %.2f%%\"% (np.mean(abs(regr.predict(test_X) - test_y))/np.mean(test_y)*100))\n",
    "        print('Train variance score: %.2f' % regr.score(train_X, train_y))\n",
    "        print('Test variance score: %.2f' % regr.score(test_X, test_y))\n",
    "    if short:\n",
    "        print np.mean(abs(regr.predict(test_X) - test_y)),regr.score(test_X, test_y)\n",
    "    if return_short:\n",
    "        return np.mean(abs(regr.predict(test_X) - test_y)),regr.score(test_X, test_y)\n",
    "    return regr"
   ]
  },
  {
   "cell_type": "code",
   "execution_count": 6,
   "metadata": {
    "collapsed": true
   },
   "outputs": [],
   "source": [
    "#remove data without price\n",
    "#field - str, data - list of dicts\n",
    "def remove_with_no(field, t_data):\n",
    "    c = 1\n",
    "    while c!=0:\n",
    "        c=0\n",
    "        for d in t_data:\n",
    "            try:\n",
    "                d[field]\n",
    "            except:\n",
    "                #print d\n",
    "                c+=1\n",
    "                t_data.remove(d)\n",
    "        print c\n",
    "    return t_data"
   ]
  },
  {
   "cell_type": "code",
   "execution_count": 7,
   "metadata": {
    "collapsed": true
   },
   "outputs": [],
   "source": [
    "def get_X_y_from(t_data):\n",
    "    t_cleaned_data = [extract_data(i) for i in t_data]\n",
    "    X = np.array([i[0] for i in t_cleaned_data])\n",
    "    y = np.array([i[1] for i in t_cleaned_data])\n",
    "    return X,y"
   ]
  },
  {
   "cell_type": "markdown",
   "metadata": {},
   "source": [
    "## Load data & clean data"
   ]
  },
  {
   "cell_type": "code",
   "execution_count": 84,
   "metadata": {
    "collapsed": false
   },
   "outputs": [
    {
     "name": "stdout",
     "output_type": "stream",
     "text": [
      "99282\n",
      "99282\n"
     ]
    }
   ],
   "source": [
    "with open('./spider_1000realty/realty_flats.json') as data_file: #last scray\n",
    "    json_data = json.load(data_file)\n",
    "print len(json_data)\n",
    "\n",
    "realty_data = [i for i in json_data if i['city'].strip().encode('utf-8') in [\"Киев\",\"Київ\"]]\n",
    "print len(realty_data)"
   ]
  },
  {
   "cell_type": "code",
   "execution_count": 85,
   "metadata": {
    "collapsed": false
   },
   "outputs": [
    {
     "name": "stdout",
     "output_type": "stream",
     "text": [
      "10951\n",
      "10951\n"
     ]
    }
   ],
   "source": [
    "with open('metrovka_flats.json') as data_file:\n",
    "#with open('metrovka_flats_metro.json') as data_file:\n",
    "#with open('metrovka_flats_district.json') as data_file:    \n",
    "    json_data = json.load(data_file)\n",
    "print len(json_data)\n",
    "\n",
    "#for d in json_data:\n",
    "#    d['district']=[]\n",
    "\n",
    "#filter city Kiyv\n",
    "metrovka_data = [i for i in json_data ] #if i['city'].encode('utf-8') in [\"Киев\",\"Київ\"]]\n",
    "print len(metrovka_data)"
   ]
  },
  {
   "cell_type": "code",
   "execution_count": 86,
   "metadata": {
    "collapsed": false
   },
   "outputs": [
    {
     "name": "stdout",
     "output_type": "stream",
     "text": [
      "99282\n",
      "0\n",
      "22\n",
      "1\n",
      "0\n",
      "6013\n",
      "920\n",
      "81\n",
      "8\n",
      "2\n",
      "0\n",
      "92235\n"
     ]
    }
   ],
   "source": [
    "print len(realty_data)\n",
    "realty_data = remove_with_no('price', realty_data)\n",
    "realty_data = remove_with_no('square', realty_data)\n",
    "realty_data = remove_with_no('district', realty_data)\n",
    "#realty_data = remove_with_no('metro', realty_data)\n",
    "print len(realty_data)"
   ]
  },
  {
   "cell_type": "code",
   "execution_count": 87,
   "metadata": {
    "collapsed": false
   },
   "outputs": [
    {
     "name": "stdout",
     "output_type": "stream",
     "text": [
      "10951\n",
      "0\n",
      "0\n",
      "2\n",
      "0\n",
      "10949\n"
     ]
    }
   ],
   "source": [
    "print len(metrovka_data)\n",
    "metrovka_data = remove_with_no('price', metrovka_data)\n",
    "metrovka_data = remove_with_no('square', metrovka_data)\n",
    "metrovka_data = remove_with_no('district', metrovka_data)\n",
    "#metrovka_data = remove_with_no('metro', metrovka_data)\n",
    "print len(metrovka_data)"
   ]
  },
  {
   "cell_type": "code",
   "execution_count": 91,
   "metadata": {
    "collapsed": false
   },
   "outputs": [
    {
     "name": "stdout",
     "output_type": "stream",
     "text": [
      "114133\n"
     ]
    }
   ],
   "source": [
    "#merging\n",
    "realty_data += metrovka_data\n",
    "print len(realty_data)"
   ]
  },
  {
   "cell_type": "code",
   "execution_count": 92,
   "metadata": {
    "collapsed": true
   },
   "outputs": [],
   "source": [
    "realty_data_1 = [i for i in realty_data if i['type'] == 1]\n",
    "realty_data_2 = [i for i in realty_data if i['type'] == 2]"
   ]
  },
  {
   "cell_type": "code",
   "execution_count": 93,
   "metadata": {
    "collapsed": true
   },
   "outputs": [],
   "source": [
    "metrovka_data_1 = [i for i in metrovka_data if i['type'] == 1]\n",
    "metrovka_data_2 = [i for i in metrovka_data if i['type'] == 2]"
   ]
  },
  {
   "cell_type": "markdown",
   "metadata": {},
   "source": [
    "## First models"
   ]
  },
  {
   "cell_type": "code",
   "execution_count": 112,
   "metadata": {
    "collapsed": true
   },
   "outputs": [],
   "source": [
    "realty_X_1, realty_y_1 = get_X_y_from(realty_data_1)"
   ]
  },
  {
   "cell_type": "code",
   "execution_count": 113,
   "metadata": {
    "collapsed": false
   },
   "outputs": [
    {
     "data": {
      "text/plain": [
       "array([ 56. ,   8.5,   0. ,   0. ,   1. ,   0. ,   0. ,   0. ,   0. ,\n",
       "         0. ,   0. ,   0. ,   0. ,   0. ,   0. ,   1. ,   0. ,   0. ,\n",
       "         0. ,   0. ,   0. ,   0. ,   0. ,   0. ,   0. ,   0. ,   0. ,\n",
       "         0. ,   0. ,   0. ,   0. ,   0. ,   0. ,   0. ,   0. ,   0. ,\n",
       "         1. ,   0. ,   0. ,   1. ,   0. ,   0. ,   0. ,   0. ,   0. ,\n",
       "         0. ,   0. ,   0. ,   0. ,   0. ,   0. ,   0. ,   0. ,   0. ,\n",
       "         0. ,   0. ,   0. ,   0. ,   0. ,   0. ,   0. ,   0. ,   0. ,\n",
       "         0. ,   0. ,   0. ,   3. ])"
      ]
     },
     "execution_count": 113,
     "metadata": {},
     "output_type": "execute_result"
    }
   ],
   "source": [
    "realty_X_1[0]"
   ]
  },
  {
   "cell_type": "code",
   "execution_count": 114,
   "metadata": {
    "collapsed": false
   },
   "outputs": [
    {
     "name": "stdout",
     "output_type": "stream",
     "text": [
      "Total: 4846, train: 3973, test: 873\n",
      "Residual sum of squares: 172851644.76\n",
      "Train absolute: 8131.87\n",
      "Test absolute: 8136.84\n",
      "Absolute to mean: 54.19%\n",
      "Train variance score: 0.51\n",
      "Test variance score: 0.51\n"
     ]
    }
   ],
   "source": [
    "regr = process_with(realty_X_1, realty_y_1, info=True)"
   ]
  },
  {
   "cell_type": "code",
   "execution_count": 110,
   "metadata": {
    "collapsed": true
   },
   "outputs": [],
   "source": [
    "metrovka_X_1, metrovka_y_1 = get_X_y_from(metrovka_data_1)"
   ]
  },
  {
   "cell_type": "code",
   "execution_count": 102,
   "metadata": {
    "collapsed": false
   },
   "outputs": [
    {
     "name": "stdout",
     "output_type": "stream",
     "text": [
      "Residual sum of squares: 183115860402.14\n",
      "Test absolute: 28520.32\n",
      "Absolute to mean: 83.47%\n",
      "Test variance score: 0.01\n"
     ]
    }
   ],
   "source": [
    "print(\"Residual sum of squares: %.2f\"% np.mean((regr.predict(metrovka_X_1) - metrovka_y_1) ** 2))\n",
    "print(\"Test absolute: %.2f\"% np.mean(abs(regr.predict(metrovka_X_1) - metrovka_y_1)))\n",
    "print(\"Absolute to mean: %.2f%%\"% (np.mean(abs(regr.predict(metrovka_X_1) - metrovka_y_1))/np.mean(metrovka_y_1)*100))\n",
    "print('Test variance score: %.2f' % regr.score(metrovka_X_1, metrovka_y_1))"
   ]
  },
  {
   "cell_type": "code",
   "execution_count": 103,
   "metadata": {
    "collapsed": true
   },
   "outputs": [],
   "source": [
    "realty_X_2, realty_y_2 = get_X_y_from(realty_data_2)"
   ]
  },
  {
   "cell_type": "code",
   "execution_count": 104,
   "metadata": {
    "collapsed": false
   },
   "outputs": [
    {
     "name": "stdout",
     "output_type": "stream",
     "text": [
      "Total: 108861, train: 89266, test: 19595\n",
      "Residual sum of squares: 523460945814595.44\n",
      "Train absolute: 11025138.74\n",
      "Test absolute: 8349668.03\n",
      "Absolute to mean: 204.47%\n",
      "Train variance score: 0.00\n",
      "Test variance score: -0.18\n"
     ]
    }
   ],
   "source": [
    "regr = process_with(realty_X_2, realty_y_2, info=True)"
   ]
  },
  {
   "cell_type": "code",
   "execution_count": 105,
   "metadata": {
    "collapsed": true
   },
   "outputs": [],
   "source": [
    "metrovka_X_2, metrovka_y_2 = get_X_y_from(metrovka_data_2)"
   ]
  },
  {
   "cell_type": "code",
   "execution_count": null,
   "metadata": {
    "collapsed": false
   },
   "outputs": [],
   "source": [
    "print(\"Residual sum of squares: %.2f\"% np.mean((regr.predict(metrovka_X_2) - metrovka_y_2) ** 2))\n",
    "print(\"Test absolute: %.2f\"% np.mean(abs(regr.predict(metrovka_X_2) - metrovka_y_2)))\n",
    "print(\"Absolute to mean: %.2f%%\"% (np.mean(abs(regr.predict(metrovka_X_2) - metrovka_y_2))/np.mean(metrovka_y_2)*100))\n",
    "print('Test variance score: %.2f' % regr.score(metrovka_X_2, metrovka_y_2))"
   ]
  },
  {
   "cell_type": "code",
   "execution_count": 69,
   "metadata": {
    "collapsed": false
   },
   "outputs": [
    {
     "name": "stdout",
     "output_type": "stream",
     "text": [
      "Features sorted by their score:\n",
      "4380.32424708\n",
      "98\n",
      "489.906300 \t floor_count\n",
      "172.325100 \t square\n",
      "-182.477500 \t floor\n",
      "-292.940900 \t kitchen_square\n"
     ]
    }
   ],
   "source": [
    "print \"Features sorted by their score:\"\n",
    "f = sorted(zip(map(lambda x: round(x, 4), regr.coef_), FEATURES), reverse=True)\n",
    "#f = zip(map(lambda x: round(x, 4), regr.coef_), FEATURES)\n",
    "print regr.intercept_\n",
    "print len(FEATURES)\n",
    "for i in f:\n",
    "    print \"%4f \\t %s\" %(i[0], i[1])"
   ]
  },
  {
   "cell_type": "code",
   "execution_count": null,
   "metadata": {
    "collapsed": false
   },
   "outputs": [],
   "source": [
    "#!-----extract frequency------\n",
    "counts = [0] * len(FIELDS)\n",
    "for d in realty_data:\n",
    "    for k in d.keys():\n",
    "        try:\n",
    "            counts[FIELDS.index(k)]+=1\n",
    "        except:\n",
    "            pass\n",
    "\n",
    "together = []\n",
    "for i in range(0, len(FIELDS)):\n",
    "    together += [[counts[i], FIELDS[i]]]\n",
    "\n",
    "together.sort(reverse=True)\n",
    "\n",
    "for i in range(0, len(FIELDS)):\n",
    "    together[i] += [round(together[i][0]/float(len(realty_data))*100,2)]\n",
    "\n",
    "for i in together:\n",
    "    print i\n",
    "#!---------------------------"
   ]
  },
  {
   "cell_type": "markdown",
   "metadata": {},
   "source": [
    "## Plots"
   ]
  },
  {
   "cell_type": "code",
   "execution_count": 77,
   "metadata": {
    "collapsed": true
   },
   "outputs": [],
   "source": [
    "#show dots from all data\n",
    "plt.scatter([np.linalg.norm(i) for i in realty_X_1], realty_y_1, color='black')\n",
    "#plt.plot([np.linalg.norm(i) for i in X_2], regr.predict(X_2), color='blue', linewidth=1)\n",
    "#plt.scatter(np.linalg.norm(X_2[ind]), y_2[ind], color='blue')\n",
    "#plt.scatter([np.linalg.norm(i) for i in X_2[inx]], y_2[inx], color='blue')\n",
    "plt.xticks(())\n",
    "plt.yticks(())\n",
    "plt.show()"
   ]
  },
  {
   "cell_type": "markdown",
   "metadata": {},
   "source": [
    "##  Good vs bad"
   ]
  },
  {
   "cell_type": "code",
   "execution_count": 82,
   "metadata": {
    "collapsed": false,
    "scrolled": true
   },
   "outputs": [
    {
     "ename": "NameError",
     "evalue": "name 'metrovka_X_2' is not defined",
     "output_type": "error",
     "traceback": [
      "\u001b[1;31m---------------------------------------------------------------------------\u001b[0m",
      "\u001b[1;31mNameError\u001b[0m                                 Traceback (most recent call last)",
      "\u001b[1;32m<ipython-input-82-65a40491d844>\u001b[0m in \u001b[0;36m<module>\u001b[1;34m()\u001b[0m\n\u001b[0;32m      1\u001b[0m \u001b[0mgood\u001b[0m \u001b[1;33m=\u001b[0m \u001b[1;33m[\u001b[0m\u001b[1;33m]\u001b[0m\u001b[1;33m\u001b[0m\u001b[0m\n\u001b[0;32m      2\u001b[0m \u001b[0mbad\u001b[0m \u001b[1;33m=\u001b[0m \u001b[1;33m[\u001b[0m\u001b[1;33m]\u001b[0m\u001b[1;33m\u001b[0m\u001b[0m\n\u001b[1;32m----> 3\u001b[1;33m \u001b[0mall\u001b[0m \u001b[1;33m=\u001b[0m \u001b[0mzip\u001b[0m\u001b[1;33m(\u001b[0m\u001b[0mmetrovka_X_2\u001b[0m\u001b[1;33m,\u001b[0m \u001b[0mmetrovka_y_2\u001b[0m\u001b[1;33m)\u001b[0m\u001b[1;33m\u001b[0m\u001b[0m\n\u001b[0m\u001b[0;32m      4\u001b[0m \u001b[1;32mfor\u001b[0m \u001b[0mi\u001b[0m\u001b[1;33m,\u001b[0m\u001b[0mz\u001b[0m \u001b[1;32min\u001b[0m \u001b[0menumerate\u001b[0m\u001b[1;33m(\u001b[0m\u001b[0mall\u001b[0m\u001b[1;33m)\u001b[0m\u001b[1;33m:\u001b[0m\u001b[1;33m\u001b[0m\u001b[0m\n\u001b[0;32m      5\u001b[0m     \u001b[0mr\u001b[0m \u001b[1;33m=\u001b[0m \u001b[0mregr\u001b[0m\u001b[1;33m.\u001b[0m\u001b[0mpredict\u001b[0m\u001b[1;33m(\u001b[0m\u001b[0mz\u001b[0m\u001b[1;33m[\u001b[0m\u001b[1;36m0\u001b[0m\u001b[1;33m]\u001b[0m\u001b[1;33m)\u001b[0m\u001b[1;33m\u001b[0m\u001b[0m\n",
      "\u001b[1;31mNameError\u001b[0m: name 'metrovka_X_2' is not defined"
     ]
    }
   ],
   "source": [
    "good = []\n",
    "bad = []\n",
    "all = zip(metrovka_X_2, metrovka_y_2)\n",
    "for i,z in enumerate(all):\n",
    "    r = regr.predict(z[0])\n",
    "    err_procent = np.mean(abs(r - z[1])/z[1]*100)\n",
    "    if err_procent > 30:\n",
    "        bad += [[metrovka_data_2[i], r[0], err_procent]]\n",
    "    else:\n",
    "        good += [[metrovka_data_2[i], r[0], err_procent]]"
   ]
  },
  {
   "cell_type": "code",
   "execution_count": null,
   "metadata": {
    "collapsed": false
   },
   "outputs": [],
   "source": [
    "print \"Всего элементов: %d\" % len(metrovka_data_2)\n",
    "print \"Плохих: %d \\nХороших: %d\" % (len(bad), len(good))\n",
    "print \"Процент плохих: %.2f \\nПроцент хороших: %.2f\" % (len(bad)/float(len(metrovka_data_2)), len(good)/float(len(metrovka_data_2)))\n",
    "print \"Среднее плохих: %.3f \\nСреднее хороших: %.3f\" % (np.mean(map(lambda x: x[2], bad)), np.mean(map(lambda x: x[2], good)))\n",
    "print \"Медиана плохих: %.3f \\nМедиана хороших: %.3f\" % (np.median(map(lambda x: x[2], bad)), np.median(map(lambda x: x[2], good)))"
   ]
  },
  {
   "cell_type": "markdown",
   "metadata": {},
   "source": [
    "## Manual checking"
   ]
  },
  {
   "cell_type": "code",
   "execution_count": null,
   "metadata": {
    "collapsed": false
   },
   "outputs": [],
   "source": [
    "ind = 1129\n",
    "#for i in metrovka_data_2[ind].values():\n",
    "#    print i\n",
    "#print metrovka_data_2[ind]\n",
    "[x,y] = extract_data(metrovka_data_2[ind])\n",
    "print metrovka_data_2[ind]['rooms']\n",
    "print\n",
    "print(\"%.2f \\t diff\"% np.mean((regr.predict(x) - y)))\n",
    "print y, \"real\"\n",
    "print regr.predict(x)[0]\n",
    "print(\"%.2f\"% np.mean(abs(regr.predict(x) - y)/y*100))"
   ]
  },
  {
   "cell_type": "code",
   "execution_count": null,
   "metadata": {
    "collapsed": false
   },
   "outputs": [],
   "source": [
    "[x,y] =extract_data({\n",
    " u'district': u'Оболонский',\n",
    " u'price': u'3000000.00',\n",
    " #u'rooms': u'2',\n",
    " u'square': u'80',\n",
    " u'type': 2,\n",
    "})\n",
    "print\n",
    "print(\"%.2f \\t diff\"% np.mean((regr.predict(x) - y)))\n",
    "print y, \"real\"\n",
    "print regr.predict(x)[0]\n",
    "print(\"%.2f\"% np.mean(abs(regr.predict(x) - y)/y*100))"
   ]
  },
  {
   "cell_type": "code",
   "execution_count": null,
   "metadata": {
    "collapsed": false
   },
   "outputs": [],
   "source": [
    "for d in DISTRICT_NAMES_RU:\n",
    "    [x,y] =extract_data({\n",
    "     u'district': d.decode('utf-8'),\n",
    "     u'price': u'3000000.00',\n",
    "     #u'rooms': u'2',\n",
    "     u'square': u'45',\n",
    "     u'type': 2,\n",
    "    })\n",
    "    print \"%s: \\t %f\" %(d,regr.predict(x)[0])"
   ]
  },
  {
   "cell_type": "code",
   "execution_count": null,
   "metadata": {
    "collapsed": false
   },
   "outputs": [],
   "source": [
    "for d in METRO_RU:\n",
    "    [x,y] =extract_data({\n",
    "     u'metro': [d],\n",
    "     u'price': u'3000000.00',\n",
    "     #u'rooms': u'2',\n",
    "     u'square': u'45',\n",
    "     u'type': 2,\n",
    "    })\n",
    "    print \"%50s: \\t %f\" %(d,regr.predict(x)[0])"
   ]
  },
  {
   "cell_type": "code",
   "execution_count": null,
   "metadata": {
    "collapsed": false
   },
   "outputs": [],
   "source": [
    "from collections import Counter\n",
    "data = Counter([i['square'] for i in metrovka_data])\n",
    "data.most_common()   # Returns all unique items and their counts\n",
    "data.most_common(2)"
   ]
  },
  {
   "cell_type": "markdown",
   "metadata": {},
   "source": [
    "## Making some fields requiered"
   ]
  },
  {
   "cell_type": "code",
   "execution_count": 71,
   "metadata": {
    "collapsed": true
   },
   "outputs": [],
   "source": [
    "#remove_data_with_no_district_in_X\n",
    "def make_field_required(t_data):\n",
    "    ind = []\n",
    "    X = get_X_y_from(t_data)[0]\n",
    "    print \"Elements: %d\" % len(X)\n",
    "    for i, x in enumerate(X):\n",
    "        if np.count_nonzero(x[:])==0:\n",
    "            ind += [i]\n",
    "    print \"Deleted: %d\" % len(ind)\n",
    "    ind = sorted(ind, reverse=True)\n",
    "    for i in ind:\n",
    "        t=t_data.pop(i)\n",
    "    return t_data"
   ]
  },
  {
   "cell_type": "code",
   "execution_count": 72,
   "metadata": {
    "collapsed": false
   },
   "outputs": [
    {
     "name": "stdout",
     "output_type": "stream",
     "text": [
      "Elements: 2216\n",
      "Deleted: 1\n"
     ]
    }
   ],
   "source": [
    "realty_data_1=make_field_required(realty_data_1)"
   ]
  },
  {
   "cell_type": "code",
   "execution_count": 73,
   "metadata": {
    "collapsed": false
   },
   "outputs": [
    {
     "name": "stdout",
     "output_type": "stream",
     "text": [
      "Elements: 2098\n",
      "Deleted: 15\n"
     ]
    }
   ],
   "source": [
    "metrovka_data_1=make_field_required(metrovka_data_1)"
   ]
  },
  {
   "cell_type": "markdown",
   "metadata": {},
   "source": [
    "## Delete data with big diffs"
   ]
  },
  {
   "cell_type": "code",
   "execution_count": 31,
   "metadata": {
    "collapsed": true
   },
   "outputs": [],
   "source": [
    "def mean_diff(t_data, normalize = True, plots = True, info=True):\n",
    "    X, y = get_X_y_from(t_data)\n",
    "    print \"Before:\"\n",
    "    before = process_with(X, y, return_short=True)\n",
    "    print before\n",
    "    \n",
    "    if normalize:\n",
    "        min_max_scaler = preprocessing.MinMaxScaler()\n",
    "        X = min_max_scaler.fit_transform(X)\n",
    "        y = min_max_scaler.fit_transform(y)\n",
    "    \n",
    "    pts = np.float32(zip(map(lambda x: np.linalg.norm(x), X),y))\n",
    "    \n",
    "    mean_pt = np.mean(pts,axis=0)\n",
    "    mean_x,mean_y = mean_pt\n",
    "    diffs = np.apply_along_axis(np.linalg.norm,1,pts - mean_pt)\n",
    "    mean_diff = np.mean(diffs)\n",
    "\n",
    "    filtered = np.float32([pts[i] for i,diff in enumerate(diffs) if diff <= 2*mean_diff])\n",
    "    filtered_mean = np.mean(filtered,axis=0)\n",
    "    \n",
    "    t_data_f = [t_data[i] for i,diff in enumerate(diffs) if diff <= 2*mean_diff]\n",
    "    X_f, y_f = get_X_y_from(t_data_f)\n",
    "    print \"After:\"\n",
    "    after = process_with(X_f,y_f, return_short=True)\n",
    "    print after\n",
    "    \n",
    "#    plt.plot(pts[:,0],pts[:,1],'ro')\n",
    "#    plt.plot(mean_x,mean_y,'w^')\n",
    "#    plt.plot(filtered[:,0],filtered[:,1],'bo')\n",
    "#    plt.plot(filtered_mean[0],filtered_mean[1],'w^')\n",
    "#    plt.show()\n",
    "    if after[1] > before[1] or after[0] < before[0]:\n",
    "        return t_data_f\n",
    "    return t_data"
   ]
  },
  {
   "cell_type": "markdown",
   "metadata": {},
   "source": [
    "## Delete \"outlaws\""
   ]
  },
  {
   "cell_type": "code",
   "execution_count": 32,
   "metadata": {
    "collapsed": true
   },
   "outputs": [],
   "source": [
    "def get_ind_by_y(X, y, ind_max = True):\n",
    "    if ind_max:\n",
    "        return np.argmax(y)\n",
    "    else:\n",
    "        return np.argmin(y)"
   ]
  },
  {
   "cell_type": "code",
   "execution_count": 33,
   "metadata": {
    "collapsed": true
   },
   "outputs": [],
   "source": [
    "def get_ind_by_x_norm(X, y, ind_max=True):\n",
    "    norms = [np.linalg.norm(i) for i in X]\n",
    "    #sorted_norm = [np.linalg.norm(i) for i in X]\n",
    "    #sorted_norm.sort()\n",
    "    if ind_max:\n",
    "        #ind = norms.index(sorted_norm[-1])\n",
    "        ind = norms.index(max(norms))\n",
    "    else:\n",
    "        #ind = norms.index(sorted_norm[1])\n",
    "        ind = norms.index(min(norms))\n",
    "    return ind"
   ]
  },
  {
   "cell_type": "code",
   "execution_count": 34,
   "metadata": {
    "collapsed": true
   },
   "outputs": [],
   "source": [
    "def get_ind_by_y_to_x_norm(X, y, ind_max=True):\n",
    "    y_to_norm_x = [y[i]/np.linalg.norm(X[i]) for i in range(0,len(X))]\n",
    "    if ind_max:\n",
    "        return np.argmax(y_to_norm_x)\n",
    "    else:\n",
    "        return np.argmin(y_to_norm_x)"
   ]
  },
  {
   "cell_type": "code",
   "execution_count": 35,
   "metadata": {
    "collapsed": true
   },
   "outputs": [],
   "source": [
    "def cut_data_by(t_data, get_ind_cut_function, ind_max_flag=True):\n",
    "    previous_sum = -1000000\n",
    "    previous_score = -100000\n",
    "    X, y = get_X_y_from(t_data)\n",
    "    [current_sum, current_score] = process_with(X, y, return_short=True)\n",
    "    temp={}\n",
    "    while current_score > previous_score or current_sum < previous_sum:\n",
    "        previous_score = current_score\n",
    "        previous_sum = current_sum\n",
    "\n",
    "        inx = get_ind_cut_function(X, y,ind_max=ind_max_flag)\n",
    "        #print t_data[norms.index(sorted_norm[-1])]['code'], sorted_norm[-1]\n",
    "        temp = t_data.pop(inx)\n",
    "        \n",
    "        X, y = get_X_y_from(t_data)\n",
    "        [current_sum, current_score] = process_with(X, y, return_short=True)\n",
    "        \n",
    "        print current_sum, previous_sum\n",
    "        print current_score, previous_score\n",
    "        print \"-----\"\n",
    "    t_data+=[temp]\n",
    "    return t_data"
   ]
  },
  {
   "cell_type": "markdown",
   "metadata": {},
   "source": [
    "## One by one"
   ]
  },
  {
   "cell_type": "code",
   "execution_count": null,
   "metadata": {
    "collapsed": false,
    "scrolled": true
   },
   "outputs": [],
   "source": [
    "l = 1\n",
    "while l!=len(realty_data_2):\n",
    "    l = len(realty_data_2)\n",
    "    print \"by x norm max\"\n",
    "    realty_data_2 = cut_data_by(realty_data_2, get_ind_by_x_norm, True)\n",
    "    print \"by y max\"\n",
    "    realty_data_2 = cut_data_by(realty_data_2, get_ind_by_y, True)\n",
    "    print \"by y to x norm max\"\n",
    "    realty_data_2 = cut_data_by(realty_data_2, get_ind_by_y_to_x_norm, True)\n",
    "    print \"by x norm min\"\n",
    "    realty_data_2 = cut_data_by(realty_data_2, get_ind_by_x_norm, False)\n",
    "    print \"by y min\"\n",
    "    realty_data_2 = cut_data_by(realty_data_2, get_ind_by_y, False)\n",
    "    print \"by y to x norm min\"\n",
    "    realty_data_2 = cut_data_by(realty_data_2, get_ind_by_y_to_x_norm, False)\n",
    "    print \"mean_diff\"\n",
    "    realty_data_2 = mean_diff(realty_data_2, normalize = True)"
   ]
  },
  {
   "cell_type": "code",
   "execution_count": 97,
   "metadata": {
    "collapsed": false,
    "scrolled": true
   },
   "outputs": [
    {
     "name": "stdout",
     "output_type": "stream",
     "text": [
      "by x norm max\n",
      "32581.8642756 38032.2257926\n",
      "-1.05315357046 0.00807053864559\n",
      "-----\n",
      "36599.260417 32581.8642756\n",
      "-0.0597957486042 -1.05315357046\n",
      "-----\n",
      "55415.4334876 36599.260417\n",
      "0.011993376985 -0.0597957486042\n",
      "-----\n",
      "38872.5300613 55415.4334876\n",
      "0.00370938013109 0.011993376985\n",
      "-----\n",
      "35898.8862894 38872.5300613\n",
      "-0.373224567993 0.00370938013109\n",
      "-----\n",
      "36503.0181644 35898.8862894\n",
      "-0.364453209683 -0.373224567993\n",
      "-----\n",
      "33833.6742248 36503.0181644\n",
      "-1.14954125422 -0.364453209683\n",
      "-----\n",
      "35195.7339885 33833.6742248\n",
      "-0.364804496653 -1.14954125422\n",
      "-----\n",
      "35558.0181059 35195.7339885\n",
      "-0.380036557884 -0.364804496653\n",
      "-----\n",
      "by y max\n",
      "30732.1706862 32960.3880932\n",
      "-0.0293292665994 -0.653368342164\n",
      "-----\n",
      "22530.8758728 30732.1706862\n",
      "-0.0323946507496 -0.0293292665994\n",
      "-----\n",
      "21743.8338525 22530.8758728\n",
      "0.021259916691 -0.0323946507496\n",
      "-----\n",
      "17740.8286355 21743.8338525\n",
      "0.0490116595362 0.021259916691\n",
      "-----\n",
      "17123.4019725 17740.8286355\n",
      "0.131222944711 0.0490116595362\n",
      "-----\n",
      "18485.2899647 17123.4019725\n",
      "0.0628574702614 0.131222944711\n",
      "-----\n",
      "by y to x norm max\n",
      "19672.6516361 19665.8819558\n",
      "0.0590833587619 0.0695116082849\n",
      "-----\n",
      "by x norm min\n"
     ]
    },
    {
     "name": "stderr",
     "output_type": "stream",
     "text": [
      "/usr/local/lib/python2.7/dist-packages/ipykernel/__main__.py:2: RuntimeWarning: divide by zero encountered in double_scalars\n",
      "  from ipykernel import kernelapp as app\n"
     ]
    },
    {
     "name": "stdout",
     "output_type": "stream",
     "text": [
      "21169.0531569 17973.0176854\n",
      "0.0445761211624 0.0633403164346\n",
      "-----\n",
      "by y min\n",
      "16762.6576743 17045.6136542\n",
      "0.182624708564 0.083633962698\n",
      "-----\n",
      "18712.8485006 16762.6576743\n",
      "0.0514334399919 0.182624708564\n",
      "-----\n",
      "by y to x norm min\n",
      "18712.8485006 17682.9822689\n",
      "0.0514334399919 0.070567279071\n",
      "-----\n",
      "mean_diff\n",
      "Before:\n",
      "(17682.982268884636, 0.070567279071024447)\n",
      "After:\n"
     ]
    },
    {
     "name": "stderr",
     "output_type": "stream",
     "text": [
      "/usr/local/lib/python2.7/dist-packages/sklearn/preprocessing/data.py:324: DeprecationWarning: Passing 1d arrays as data is deprecated in 0.17 and will raise ValueError in 0.19. Reshape your data either using X.reshape(-1, 1) if your data has a single feature or X.reshape(1, -1) if it contains a single sample.\n",
      "  warnings.warn(DEPRECATION_MSG_1D, DeprecationWarning)\n",
      "/usr/local/lib/python2.7/dist-packages/sklearn/preprocessing/data.py:359: DeprecationWarning: Passing 1d arrays as data is deprecated in 0.17 and will raise ValueError in 0.19. Reshape your data either using X.reshape(-1, 1) if your data has a single feature or X.reshape(1, -1) if it contains a single sample.\n",
      "  warnings.warn(DEPRECATION_MSG_1D, DeprecationWarning)\n"
     ]
    },
    {
     "name": "stdout",
     "output_type": "stream",
     "text": [
      "(16931.914452393106, 0.084322640541909522)\n",
      "by x norm max\n",
      "17633.2892955 16931.9144524\n",
      "0.0565629020109 0.0843226405419\n",
      "-----\n",
      "by y max\n",
      "18125.9639239 16931.9144524\n",
      "0.0518374700823 0.0843226405419\n",
      "-----\n",
      "by y to x norm max\n",
      "17483.8154691 15709.1450974\n",
      "0.0891793757164 0.107876204724\n",
      "-----\n",
      "by x norm min\n",
      "15180.8014867 18787.8432509\n",
      "0.124093653972 0.0715501289838\n",
      "-----\n",
      "16308.810294 15180.8014867\n",
      "0.0738284357229 0.124093653972\n",
      "-----\n",
      "by y min\n",
      "16318.3637338 15883.5073023\n",
      "0.0737468477424 0.0739716525215\n",
      "-----\n",
      "by y to x norm min\n",
      "16318.3637338 15883.5073023\n",
      "0.0737468477424 0.0739716525215\n",
      "-----\n",
      "mean_diff\n",
      "Before:\n",
      "(15883.507302291202, 0.073971652521454434)\n"
     ]
    },
    {
     "name": "stderr",
     "output_type": "stream",
     "text": [
      "/usr/local/lib/python2.7/dist-packages/sklearn/preprocessing/data.py:324: DeprecationWarning: Passing 1d arrays as data is deprecated in 0.17 and will raise ValueError in 0.19. Reshape your data either using X.reshape(-1, 1) if your data has a single feature or X.reshape(1, -1) if it contains a single sample.\n",
      "  warnings.warn(DEPRECATION_MSG_1D, DeprecationWarning)\n",
      "/usr/local/lib/python2.7/dist-packages/sklearn/preprocessing/data.py:359: DeprecationWarning: Passing 1d arrays as data is deprecated in 0.17 and will raise ValueError in 0.19. Reshape your data either using X.reshape(-1, 1) if your data has a single feature or X.reshape(1, -1) if it contains a single sample.\n",
      "  warnings.warn(DEPRECATION_MSG_1D, DeprecationWarning)\n"
     ]
    },
    {
     "name": "stdout",
     "output_type": "stream",
     "text": [
      "After:\n",
      "(13662.275257855881, 0.27553518564095192)\n",
      "by x norm max\n",
      "12302.3651356 13662.2752579\n",
      "0.303127158152 0.275535185641\n",
      "-----\n",
      "12700.1646906 12302.3651356\n",
      "0.271945369122 0.303127158152\n",
      "-----\n",
      "by y max\n",
      "13212.9115217 13834.3074228\n",
      "0.273359761218 0.218432504835\n",
      "-----\n",
      "12057.8425524 13212.9115217\n",
      "0.358821011648 0.273359761218\n",
      "-----\n",
      "12567.7715072 12057.8425524\n",
      "0.326927607207 0.358821011648\n",
      "-----\n",
      "by y to x norm max\n",
      "13089.9871536 12897.23594\n",
      "0.330942499453 0.318794710492\n",
      "-----\n",
      "12115.7990155 13089.9871536\n",
      "0.364629329852 0.330942499453\n",
      "-----\n",
      "11785.8507269 12115.7990155\n",
      "0.376009195503 0.364629329852\n",
      "-----\n",
      "12233.5485946 11785.8507269\n",
      "0.322042672903 0.376009195503\n",
      "-----\n",
      "by x norm min\n",
      "13363.8698881 12529.3929354\n",
      "0.326893722987 0.287434096815\n",
      "-----\n",
      "12178.6316028 13363.8698881\n",
      "0.327065109008 0.326893722987\n",
      "-----\n",
      "12271.3094185 12178.6316028\n",
      "0.333083558159 0.327065109008\n",
      "-----\n",
      "13034.3959772 12271.3094185\n",
      "0.346120311607 0.333083558159\n",
      "-----\n",
      "13521.3827776 13034.3959772\n",
      "0.300936967797 0.346120311607\n",
      "-----\n",
      "by y min\n",
      "13033.4645942 12148.9369677\n",
      "0.327974794612 0.341102022655\n",
      "-----\n",
      "by y to x norm min\n",
      "13033.4645942 12148.9369677\n",
      "0.327974794612 0.341102022655\n",
      "-----\n",
      "mean_diff\n",
      "Before:\n",
      "(12148.936967737131, 0.34110202265453027)\n"
     ]
    },
    {
     "name": "stderr",
     "output_type": "stream",
     "text": [
      "/usr/local/lib/python2.7/dist-packages/sklearn/preprocessing/data.py:324: DeprecationWarning: Passing 1d arrays as data is deprecated in 0.17 and will raise ValueError in 0.19. Reshape your data either using X.reshape(-1, 1) if your data has a single feature or X.reshape(1, -1) if it contains a single sample.\n",
      "  warnings.warn(DEPRECATION_MSG_1D, DeprecationWarning)\n",
      "/usr/local/lib/python2.7/dist-packages/sklearn/preprocessing/data.py:359: DeprecationWarning: Passing 1d arrays as data is deprecated in 0.17 and will raise ValueError in 0.19. Reshape your data either using X.reshape(-1, 1) if your data has a single feature or X.reshape(1, -1) if it contains a single sample.\n",
      "  warnings.warn(DEPRECATION_MSG_1D, DeprecationWarning)\n"
     ]
    },
    {
     "name": "stdout",
     "output_type": "stream",
     "text": [
      "After:\n",
      "(11482.146065248016, 0.36209214319311955)\n",
      "by x norm max\n",
      "10786.7546382 11482.1460652\n",
      "0.447452763482 0.362092143193\n",
      "-----\n",
      "11317.9028672 10786.7546382\n",
      "0.407605758086 0.447452763482\n",
      "-----\n",
      "by y max\n",
      "11926.1062 10786.7546382\n",
      "0.374094557679 0.447452763482\n",
      "-----\n",
      "by y to x norm max\n",
      "12277.16916 10759.6294566\n",
      "0.344104231061 0.499519263742\n",
      "-----\n",
      "by x norm min\n",
      "12140.5615624 11580.8350503\n",
      "0.33771370585 0.397837725993\n",
      "-----\n",
      "by y min\n",
      "11840.5229959 11452.0965787\n",
      "0.393348758392 0.39606576042\n",
      "-----\n",
      "by y to x norm min\n",
      "11840.5229959 11452.0965787\n",
      "0.393348758392 0.39606576042\n",
      "-----\n",
      "mean_diff\n",
      "Before:\n",
      "(11452.096578728437, 0.39606576041953478)\n",
      "After:\n",
      "(11931.65486822104, 0.32157270621042411)\n",
      "by x norm max\n"
     ]
    },
    {
     "name": "stderr",
     "output_type": "stream",
     "text": [
      "/usr/local/lib/python2.7/dist-packages/sklearn/preprocessing/data.py:324: DeprecationWarning: Passing 1d arrays as data is deprecated in 0.17 and will raise ValueError in 0.19. Reshape your data either using X.reshape(-1, 1) if your data has a single feature or X.reshape(1, -1) if it contains a single sample.\n",
      "  warnings.warn(DEPRECATION_MSG_1D, DeprecationWarning)\n",
      "/usr/local/lib/python2.7/dist-packages/sklearn/preprocessing/data.py:359: DeprecationWarning: Passing 1d arrays as data is deprecated in 0.17 and will raise ValueError in 0.19. Reshape your data either using X.reshape(-1, 1) if your data has a single feature or X.reshape(1, -1) if it contains a single sample.\n",
      "  warnings.warn(DEPRECATION_MSG_1D, DeprecationWarning)\n"
     ]
    },
    {
     "name": "stdout",
     "output_type": "stream",
     "text": [
      "11811.2701485 11452.0965787\n",
      "0.394592032519 0.39606576042\n",
      "-----\n",
      "by y max\n",
      "11483.6472856 11452.0965787\n",
      "0.412854084222 0.39606576042\n",
      "-----\n",
      "11479.4415483 11483.6472856\n",
      "0.410770958521 0.412854084222\n",
      "-----\n",
      "11165.9291145 11479.4415483\n",
      "0.414040445214 0.410770958521\n",
      "-----\n",
      "11122.9366442 11165.9291145\n",
      "0.414068581486 0.414040445214\n",
      "-----\n",
      "10882.2707345 11122.9366442\n",
      "0.376743471347 0.414068581486\n",
      "-----\n",
      "10716.8103221 10882.2707345\n",
      "0.388742127747 0.376743471347\n",
      "-----\n",
      "10787.7419547 10716.8103221\n",
      "0.409399296613 0.388742127747\n",
      "-----\n",
      "10642.6843999 10787.7419547\n",
      "0.435203401978 0.409399296613\n",
      "-----\n",
      "10553.5647346 10642.6843999\n",
      "0.425107374246 0.435203401978\n",
      "-----\n",
      "10366.3572249 10553.5647346\n",
      "0.465631308723 0.425107374246\n",
      "-----\n",
      "10694.2420396 10366.3572249\n",
      "0.399774160143 0.465631308723\n",
      "-----\n",
      "by y to x norm max\n",
      "10352.8574468 10846.6970692\n",
      "0.454695966236 0.397577151257\n",
      "-----\n",
      "10108.9801295 10352.8574468\n",
      "0.477299878779 0.454695966236\n",
      "-----\n",
      "11075.5209347 10108.9801295\n",
      "0.397618698102 0.477299878779\n",
      "-----\n",
      "by x norm min\n",
      "11279.6984535 10021.7325351\n",
      "0.374617888811 0.480170810815\n",
      "-----\n",
      "by y min\n",
      "11281.2153497 10412.3215715\n",
      "0.37460158278 0.424197878682\n",
      "-----\n",
      "by y to x norm min\n",
      "11281.2153497 10412.3215715\n",
      "0.37460158278 0.424197878682\n",
      "-----\n",
      "mean_diff\n",
      "Before:\n",
      "(10412.321571486244, 0.42419787868192194)\n",
      "After:\n",
      "(10374.148361089383, 0.41466402607439934)\n",
      "by x norm max\n"
     ]
    },
    {
     "name": "stderr",
     "output_type": "stream",
     "text": [
      "/usr/local/lib/python2.7/dist-packages/sklearn/preprocessing/data.py:324: DeprecationWarning: Passing 1d arrays as data is deprecated in 0.17 and will raise ValueError in 0.19. Reshape your data either using X.reshape(-1, 1) if your data has a single feature or X.reshape(1, -1) if it contains a single sample.\n",
      "  warnings.warn(DEPRECATION_MSG_1D, DeprecationWarning)\n",
      "/usr/local/lib/python2.7/dist-packages/sklearn/preprocessing/data.py:359: DeprecationWarning: Passing 1d arrays as data is deprecated in 0.17 and will raise ValueError in 0.19. Reshape your data either using X.reshape(-1, 1) if your data has a single feature or X.reshape(1, -1) if it contains a single sample.\n",
      "  warnings.warn(DEPRECATION_MSG_1D, DeprecationWarning)\n"
     ]
    },
    {
     "name": "stdout",
     "output_type": "stream",
     "text": [
      "10858.5922216 10374.1483611\n",
      "0.391909256666 0.414664026074\n",
      "-----\n",
      "by y max\n",
      "10454.604075 10374.1483611\n",
      "0.351782054353 0.414664026074\n",
      "-----\n",
      "by y to x norm max\n",
      "10464.6201758 10313.3408595\n",
      "0.393593193937 0.38443355814\n",
      "-----\n",
      "10445.9299801 10464.6201758\n",
      "0.389129670773 0.393593193937\n",
      "-----\n",
      "10154.4301058 10445.9299801\n",
      "0.449127870189 0.389129670773\n",
      "-----\n",
      "9442.26848939 10154.4301058\n",
      "0.468445631387 0.449127870189\n",
      "-----\n",
      "9985.15325018 9442.26848939\n",
      "0.466919454008 0.468445631387\n",
      "-----\n",
      "by x norm min\n",
      "10143.403502 9777.6453531\n",
      "0.461949130384 0.417498269342\n",
      "-----\n",
      "10299.6125652 10143.403502\n",
      "0.421607709929 0.461949130384\n",
      "-----\n",
      "by y min\n",
      "10301.7402622 9744.63611027\n",
      "0.421577557295 0.484254343557\n",
      "-----\n",
      "by y to x norm min\n",
      "10301.7402622 9743.19885256\n",
      "0.421577557295 0.484303489811\n",
      "-----\n",
      "mean_diff\n",
      "Before:\n",
      "(9743.1988525599409, 0.48430348981130444)\n"
     ]
    },
    {
     "name": "stderr",
     "output_type": "stream",
     "text": [
      "/usr/local/lib/python2.7/dist-packages/sklearn/preprocessing/data.py:324: DeprecationWarning: Passing 1d arrays as data is deprecated in 0.17 and will raise ValueError in 0.19. Reshape your data either using X.reshape(-1, 1) if your data has a single feature or X.reshape(1, -1) if it contains a single sample.\n",
      "  warnings.warn(DEPRECATION_MSG_1D, DeprecationWarning)\n",
      "/usr/local/lib/python2.7/dist-packages/sklearn/preprocessing/data.py:359: DeprecationWarning: Passing 1d arrays as data is deprecated in 0.17 and will raise ValueError in 0.19. Reshape your data either using X.reshape(-1, 1) if your data has a single feature or X.reshape(1, -1) if it contains a single sample.\n",
      "  warnings.warn(DEPRECATION_MSG_1D, DeprecationWarning)\n"
     ]
    },
    {
     "name": "stdout",
     "output_type": "stream",
     "text": [
      "After:\n",
      "(9294.8476785121547, 0.5330354516783351)\n",
      "by x norm max\n",
      "9538.15474678 9294.84767851\n",
      "0.454911692543 0.533035451678\n",
      "-----\n",
      "by y max\n",
      "9308.62504367 9294.84767851\n",
      "0.467464868086 0.533035451678\n",
      "-----\n",
      "by y to x norm max\n",
      "9225.10218329 9164.24231358\n",
      "0.490801301629 0.542045674394\n",
      "-----\n",
      "by x norm min\n",
      "9030.27034309 9174.11522612\n",
      "0.523583775376 0.540348826267\n",
      "-----\n",
      "9099.00813254 9030.27034309\n",
      "0.507881217741 0.523583775376\n",
      "-----\n",
      "by y min\n",
      "9105.83126682 9100.46914112\n",
      "0.507863590942 0.508290339714\n",
      "-----\n",
      "by y to x norm min\n",
      "9105.83126682 9100.46914112\n",
      "0.507863590942 0.508290339714\n",
      "-----\n",
      "mean_diff\n",
      "Before:\n",
      "(9100.4691411245585, 0.50829033971366089)\n"
     ]
    },
    {
     "name": "stderr",
     "output_type": "stream",
     "text": [
      "/usr/local/lib/python2.7/dist-packages/sklearn/preprocessing/data.py:324: DeprecationWarning: Passing 1d arrays as data is deprecated in 0.17 and will raise ValueError in 0.19. Reshape your data either using X.reshape(-1, 1) if your data has a single feature or X.reshape(1, -1) if it contains a single sample.\n",
      "  warnings.warn(DEPRECATION_MSG_1D, DeprecationWarning)\n",
      "/usr/local/lib/python2.7/dist-packages/sklearn/preprocessing/data.py:359: DeprecationWarning: Passing 1d arrays as data is deprecated in 0.17 and will raise ValueError in 0.19. Reshape your data either using X.reshape(-1, 1) if your data has a single feature or X.reshape(1, -1) if it contains a single sample.\n",
      "  warnings.warn(DEPRECATION_MSG_1D, DeprecationWarning)\n"
     ]
    },
    {
     "name": "stdout",
     "output_type": "stream",
     "text": [
      "After:\n",
      "(8909.6254641417981, 0.4678729736371583)\n",
      "by x norm max\n",
      "9610.36145819 8909.62546414\n",
      "0.3974634317 0.467872973637\n",
      "-----\n",
      "by y max\n",
      "9385.31505969 8909.62546414\n",
      "0.397238915268 0.467872973637\n",
      "-----\n",
      "by y to x norm max\n",
      "9438.0551671 9459.75038964\n",
      "0.394527804438 0.407388651882\n",
      "-----\n",
      "9302.91467801 9438.0551671\n",
      "0.431782145254 0.394527804438\n",
      "-----\n",
      "9318.04462471 9302.91467801\n",
      "0.432325004664 0.431782145254\n",
      "-----\n",
      "9466.91317908 9318.04462471\n",
      "0.443125667352 0.432325004664\n",
      "-----\n",
      "8824.55129404 9466.91317908\n",
      "0.431663403856 0.443125667352\n",
      "-----\n",
      "9580.44312466 8824.55129404\n",
      "0.376575946652 0.431663403856\n",
      "-----\n",
      "by x norm min\n",
      "9577.23729569 8824.55129404\n",
      "0.376550516485 0.431663403856\n",
      "-----\n",
      "by y min\n",
      "9583.24663335 8824.55129404\n",
      "0.376559021118 0.431663403856\n",
      "-----\n",
      "by y to x norm min\n",
      "9583.24663335 8824.55129404\n",
      "0.376559021118 0.431663403856\n",
      "-----\n",
      "mean_diff\n",
      "Before:\n",
      "(8824.551294042627, 0.43166340385581631)\n"
     ]
    },
    {
     "name": "stderr",
     "output_type": "stream",
     "text": [
      "/usr/local/lib/python2.7/dist-packages/sklearn/preprocessing/data.py:324: DeprecationWarning: Passing 1d arrays as data is deprecated in 0.17 and will raise ValueError in 0.19. Reshape your data either using X.reshape(-1, 1) if your data has a single feature or X.reshape(1, -1) if it contains a single sample.\n",
      "  warnings.warn(DEPRECATION_MSG_1D, DeprecationWarning)\n",
      "/usr/local/lib/python2.7/dist-packages/sklearn/preprocessing/data.py:359: DeprecationWarning: Passing 1d arrays as data is deprecated in 0.17 and will raise ValueError in 0.19. Reshape your data either using X.reshape(-1, 1) if your data has a single feature or X.reshape(1, -1) if it contains a single sample.\n",
      "  warnings.warn(DEPRECATION_MSG_1D, DeprecationWarning)\n"
     ]
    },
    {
     "name": "stdout",
     "output_type": "stream",
     "text": [
      "After:\n",
      "(8992.0964377974014, 0.44149871966977644)\n",
      "by x norm max\n",
      "9782.64545197 8992.0964378\n",
      "0.429327793671 0.44149871967\n",
      "-----\n",
      "by y max\n",
      "9117.64524558 8992.0964378\n",
      "0.437952254218 0.44149871967\n",
      "-----\n",
      "by y to x norm max\n",
      "9135.830501 9355.38139699\n",
      "0.437924871537 0.424089381321\n",
      "-----\n",
      "9463.14584063 9135.830501\n",
      "0.437433644472 0.437924871537\n",
      "-----\n",
      "by x norm min\n",
      "9458.17101002 9135.830501\n",
      "0.437575326982 0.437924871537\n",
      "-----\n",
      "by y min\n",
      "9460.52684988 9135.830501\n",
      "0.437545386844 0.437924871537\n",
      "-----\n",
      "by y to x norm min\n",
      "9460.52684988 9135.830501\n",
      "0.437545386844 0.437924871537\n",
      "-----\n",
      "mean_diff\n",
      "Before:\n",
      "(9135.8305010008589, 0.43792487153727583)\n"
     ]
    },
    {
     "name": "stderr",
     "output_type": "stream",
     "text": [
      "/usr/local/lib/python2.7/dist-packages/sklearn/preprocessing/data.py:324: DeprecationWarning: Passing 1d arrays as data is deprecated in 0.17 and will raise ValueError in 0.19. Reshape your data either using X.reshape(-1, 1) if your data has a single feature or X.reshape(1, -1) if it contains a single sample.\n",
      "  warnings.warn(DEPRECATION_MSG_1D, DeprecationWarning)\n",
      "/usr/local/lib/python2.7/dist-packages/sklearn/preprocessing/data.py:359: DeprecationWarning: Passing 1d arrays as data is deprecated in 0.17 and will raise ValueError in 0.19. Reshape your data either using X.reshape(-1, 1) if your data has a single feature or X.reshape(1, -1) if it contains a single sample.\n",
      "  warnings.warn(DEPRECATION_MSG_1D, DeprecationWarning)\n"
     ]
    },
    {
     "name": "stdout",
     "output_type": "stream",
     "text": [
      "After:\n",
      "(9358.4497280450214, 0.42336190686746017)\n",
      "by x norm max\n",
      "9457.72529788 9135.830501\n",
      "0.437667393323 0.437924871537\n",
      "-----\n",
      "by y max\n",
      "9457.1099771 9135.830501\n",
      "0.424077388323 0.437924871537\n",
      "-----\n",
      "by y to x norm max\n",
      "9445.76876673 9225.10901998\n",
      "0.426234562468 0.421156891145\n",
      "-----\n",
      "9446.39257515 9445.76876673\n",
      "0.451867668562 0.426234562468\n",
      "-----\n",
      "9230.39643589 9446.39257515\n",
      "0.479630774286 0.451867668562\n",
      "-----\n",
      "9372.15146421 9230.39643589\n",
      "0.458376425167 0.479630774286\n",
      "-----\n",
      "by x norm min\n",
      "9376.52646649 9230.39643589\n",
      "0.458385005358 0.479630774286\n",
      "-----\n",
      "by y min\n",
      "9378.62330511 9230.39643589\n",
      "0.458379679016 0.479630774286\n",
      "-----\n",
      "by y to x norm min\n",
      "9378.62330511 9230.39643589\n",
      "0.458379679016 0.479630774286\n",
      "-----\n",
      "mean_diff\n",
      "Before:\n",
      "(9230.396435887209, 0.47963077428566059)\n"
     ]
    },
    {
     "name": "stderr",
     "output_type": "stream",
     "text": [
      "/usr/local/lib/python2.7/dist-packages/sklearn/preprocessing/data.py:324: DeprecationWarning: Passing 1d arrays as data is deprecated in 0.17 and will raise ValueError in 0.19. Reshape your data either using X.reshape(-1, 1) if your data has a single feature or X.reshape(1, -1) if it contains a single sample.\n",
      "  warnings.warn(DEPRECATION_MSG_1D, DeprecationWarning)\n",
      "/usr/local/lib/python2.7/dist-packages/sklearn/preprocessing/data.py:359: DeprecationWarning: Passing 1d arrays as data is deprecated in 0.17 and will raise ValueError in 0.19. Reshape your data either using X.reshape(-1, 1) if your data has a single feature or X.reshape(1, -1) if it contains a single sample.\n",
      "  warnings.warn(DEPRECATION_MSG_1D, DeprecationWarning)\n"
     ]
    },
    {
     "name": "stdout",
     "output_type": "stream",
     "text": [
      "After:\n",
      "(9155.8414278528398, 0.41098393761463303)\n",
      "by x norm max\n",
      "9167.11471533 9155.84142785\n",
      "0.440879776701 0.410983937615\n",
      "-----\n",
      "8337.56365505 9167.11471533\n",
      "0.54499676405 0.440879776701\n",
      "-----\n",
      "8395.55749771 8337.56365505\n",
      "0.551293479957 0.54499676405\n",
      "-----\n",
      "8190.75739468 8395.55749771\n",
      "0.568066358769 0.551293479957\n",
      "-----\n",
      "9064.61568289 8190.75739468\n",
      "0.455106996122 0.568066358769\n",
      "-----\n",
      "by y max\n",
      "8997.00128997 9002.09640419\n",
      "0.489547919115 0.500002922403\n",
      "-----\n",
      "8968.28932181 8997.00128997\n",
      "0.49113420183 0.489547919115\n",
      "-----\n",
      "9364.85357291 8968.28932181\n",
      "0.419056691931 0.49113420183\n",
      "-----\n",
      "by y to x norm max\n",
      "9336.21820583 9519.36026782\n",
      "0.421409470107 0.400528359025\n",
      "-----\n",
      "8491.83501796 9336.21820583\n",
      "0.486879087893 0.421409470107\n",
      "-----\n",
      "8867.32764867 8491.83501796\n",
      "0.426837714992 0.486879087893\n",
      "-----\n",
      "by x norm min\n",
      "8942.92779102 8573.81658643\n",
      "0.416123803671 0.473472024412\n",
      "-----\n",
      "by y min\n",
      "8856.92285941 8480.37824237\n",
      "0.421569575436 0.481782039415\n",
      "-----\n",
      "by y to x norm min\n",
      "8856.92285941 8510.13277011\n",
      "0.421569575436 0.47899599874\n",
      "-----\n",
      "mean_diff\n",
      "Before:\n",
      "(8510.1327701055015, 0.4789959987395872)\n"
     ]
    },
    {
     "name": "stderr",
     "output_type": "stream",
     "text": [
      "/usr/local/lib/python2.7/dist-packages/sklearn/preprocessing/data.py:324: DeprecationWarning: Passing 1d arrays as data is deprecated in 0.17 and will raise ValueError in 0.19. Reshape your data either using X.reshape(-1, 1) if your data has a single feature or X.reshape(1, -1) if it contains a single sample.\n",
      "  warnings.warn(DEPRECATION_MSG_1D, DeprecationWarning)\n",
      "/usr/local/lib/python2.7/dist-packages/sklearn/preprocessing/data.py:359: DeprecationWarning: Passing 1d arrays as data is deprecated in 0.17 and will raise ValueError in 0.19. Reshape your data either using X.reshape(-1, 1) if your data has a single feature or X.reshape(1, -1) if it contains a single sample.\n",
      "  warnings.warn(DEPRECATION_MSG_1D, DeprecationWarning)\n"
     ]
    },
    {
     "name": "stdout",
     "output_type": "stream",
     "text": [
      "After:\n",
      "(8824.8301286579917, 0.47993557703363593)\n",
      "by x norm max\n",
      "8556.67115305 8824.83012866\n",
      "0.467150145277 0.479935577034\n",
      "-----\n",
      "8465.1239519 8556.67115305\n",
      "0.416780047426 0.467150145277\n",
      "-----\n",
      "8475.41829847 8465.1239519\n",
      "0.472051854445 0.416780047426\n",
      "-----\n",
      "8950.05003989 8475.41829847\n",
      "0.362057348225 0.472051854445\n",
      "-----\n",
      "by y max\n",
      "9012.49422059 8445.17427222\n",
      "0.429220547275 0.475260478389\n",
      "-----\n",
      "by y to x norm max\n",
      "9015.18599532 9148.59397906\n",
      "0.428993012293 0.398018571248\n",
      "-----\n",
      "9368.43467925 9015.18599532\n",
      "0.347586714869 0.428993012293\n",
      "-----\n",
      "by x norm min\n",
      "9405.6607852 9015.18599532\n",
      "0.354661021108 0.428993012293\n",
      "-----\n",
      "by y min\n",
      "9351.64746122 9015.18599532\n",
      "0.344790056067 0.428993012293\n",
      "-----\n",
      "by y to x norm min\n",
      "9351.64746122 9015.18599532\n",
      "0.344790056067 0.428993012293\n",
      "-----\n",
      "mean_diff\n",
      "Before:\n",
      "(9015.1859953241292, 0.42899301229295289)\n"
     ]
    },
    {
     "name": "stderr",
     "output_type": "stream",
     "text": [
      "/usr/local/lib/python2.7/dist-packages/sklearn/preprocessing/data.py:324: DeprecationWarning: Passing 1d arrays as data is deprecated in 0.17 and will raise ValueError in 0.19. Reshape your data either using X.reshape(-1, 1) if your data has a single feature or X.reshape(1, -1) if it contains a single sample.\n",
      "  warnings.warn(DEPRECATION_MSG_1D, DeprecationWarning)\n",
      "/usr/local/lib/python2.7/dist-packages/sklearn/preprocessing/data.py:359: DeprecationWarning: Passing 1d arrays as data is deprecated in 0.17 and will raise ValueError in 0.19. Reshape your data either using X.reshape(-1, 1) if your data has a single feature or X.reshape(1, -1) if it contains a single sample.\n",
      "  warnings.warn(DEPRECATION_MSG_1D, DeprecationWarning)\n"
     ]
    },
    {
     "name": "stdout",
     "output_type": "stream",
     "text": [
      "After:\n",
      "(8271.2699807220961, 0.42669475449190286)\n",
      "by x norm max\n",
      "8478.57581757 8271.26998072\n",
      "0.423003724193 0.426694754492\n",
      "-----\n",
      "by y max\n",
      "8751.33346529 8271.26998072\n",
      "0.387899245259 0.426694754492\n",
      "-----\n",
      "by y to x norm max\n",
      "8753.58121058 8571.79761815\n",
      "0.387611441551 0.465142219618\n",
      "-----\n",
      "by x norm min\n",
      "8748.9677069 8571.79761815\n",
      "0.387616608464 0.465142219618\n",
      "-----\n",
      "by y min\n",
      "8755.49856076 8571.79761815\n",
      "0.387608610838 0.465142219618\n",
      "-----\n",
      "by y to x norm min\n",
      "8755.49856076 8571.79761815\n",
      "0.387608610838 0.465142219618\n",
      "-----\n",
      "mean_diff\n",
      "Before:\n",
      "(8571.7976181484555, 0.46514221961815244)\n",
      "After:\n",
      "(9384.1327833275118, 0.4296563930981363)\n"
     ]
    },
    {
     "name": "stderr",
     "output_type": "stream",
     "text": [
      "/usr/local/lib/python2.7/dist-packages/sklearn/preprocessing/data.py:324: DeprecationWarning: Passing 1d arrays as data is deprecated in 0.17 and will raise ValueError in 0.19. Reshape your data either using X.reshape(-1, 1) if your data has a single feature or X.reshape(1, -1) if it contains a single sample.\n",
      "  warnings.warn(DEPRECATION_MSG_1D, DeprecationWarning)\n",
      "/usr/local/lib/python2.7/dist-packages/sklearn/preprocessing/data.py:359: DeprecationWarning: Passing 1d arrays as data is deprecated in 0.17 and will raise ValueError in 0.19. Reshape your data either using X.reshape(-1, 1) if your data has a single feature or X.reshape(1, -1) if it contains a single sample.\n",
      "  warnings.warn(DEPRECATION_MSG_1D, DeprecationWarning)\n"
     ]
    }
   ],
   "source": [
    "l = 1\n",
    "while l!=len(realty_data_1):\n",
    "    l = len(realty_data_1)\n",
    "    print \"by x norm max\"\n",
    "    realty_data_1 = cut_data_by(realty_data_1, get_ind_by_x_norm, True)\n",
    "    print \"by y max\"\n",
    "    realty_data_1 = cut_data_by(realty_data_1, get_ind_by_y, True)\n",
    "    print \"by y to x norm max\"\n",
    "    realty_data_1 = cut_data_by(realty_data_1, get_ind_by_y_to_x_norm, True)\n",
    "    print \"by x norm min\"\n",
    "    realty_data_1 = cut_data_by(realty_data_1, get_ind_by_x_norm, False)\n",
    "    print \"by y min\"\n",
    "    realty_data_1 = cut_data_by(realty_data_1, get_ind_by_y, False)\n",
    "    print \"by y to x norm min\"\n",
    "    realty_data_1 = cut_data_by(realty_data_1, get_ind_by_y_to_x_norm, False)\n",
    "    print \"mean_diff\"\n",
    "    realty_data_1 = mean_diff(realty_data_1, normalize = True)"
   ]
  },
  {
   "cell_type": "markdown",
   "metadata": {},
   "source": [
    "## Saving and loading coefs"
   ]
  },
  {
   "cell_type": "code",
   "execution_count": null,
   "metadata": {
    "collapsed": true
   },
   "outputs": [],
   "source": [
    "coefs = map(lambda x: round(x, 4), regr.coef_)\n",
    "f = zip(coefs, FEATURES)\n",
    "print coefs"
   ]
  },
  {
   "cell_type": "code",
   "execution_count": null,
   "metadata": {
    "collapsed": true
   },
   "outputs": [],
   "source": [
    "import pickle\n",
    "with open('filtered_mixed_coefs_district_square_required.json', 'w') as outfile:\n",
    "    pickle.dump(coefs, outfile)"
   ]
  },
  {
   "cell_type": "code",
   "execution_count": null,
   "metadata": {
    "collapsed": true
   },
   "outputs": [],
   "source": [
    "import pickle\n",
    "with open('filtered_mixed_coefs_district_square_required.json', 'r') as infile:\n",
    "    c = pickle.load(infile)"
   ]
  },
  {
   "cell_type": "markdown",
   "metadata": {},
   "source": [
    "## Save data"
   ]
  },
  {
   "cell_type": "code",
   "execution_count": null,
   "metadata": {
    "collapsed": true
   },
   "outputs": [],
   "source": [
    "with open('metrovka_flats_metro.json', 'w') as outfile:\n",
    "    json.dump(metrovka_data, outfile)\n",
    "#json.dumps(data_2[0:1])"
   ]
  }
 ],
 "metadata": {
  "kernelspec": {
   "display_name": "Python 2",
   "language": "python",
   "name": "python2"
  },
  "language_info": {
   "codemirror_mode": {
    "name": "ipython",
    "version": 2
   },
   "file_extension": ".py",
   "mimetype": "text/x-python",
   "name": "python",
   "nbconvert_exporter": "python",
   "pygments_lexer": "ipython2",
   "version": "2.7.6"
  }
 },
 "nbformat": 4,
 "nbformat_minor": 0
}
