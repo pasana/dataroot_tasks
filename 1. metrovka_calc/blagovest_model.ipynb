{
 "cells": [
  {
   "cell_type": "markdown",
   "metadata": {},
   "source": [
    "# NB.\n",
    "Сначала все ячейки до первой модели, потом начиная с обязательности полей и по \"one by one\", а потом возврат к первой модели."
   ]
  },
  {
   "cell_type": "code",
   "execution_count": 128,
   "metadata": {
    "collapsed": true
   },
   "outputs": [],
   "source": [
    "import xml.etree.ElementTree as ET\n",
    "import matplotlib.pyplot as plt\n",
    "import numpy as np\n",
    "from sklearn import datasets, linear_model\n",
    "from sklearn import preprocessing\n",
    "from sklearn import cross_validation\n",
    "from sklearn.feature_selection import VarianceThreshold\n",
    "\n",
    "USD = 24.5\n",
    "EUR =  26.9\n",
    "\n",
    "DETAILS = ['SqrTotal', 'NFloors',\n",
    "          'NRooms', 'Floor',\n",
    "          'SqrLive', 'SqrKitchen']\n",
    "DETAILS_METROVKA = [\"square\", \"floor_count\"]"
   ]
  },
  {
   "cell_type": "code",
   "execution_count": 2,
   "metadata": {
    "collapsed": true
   },
   "outputs": [],
   "source": [
    "ADMIN_REGION = ['1000001',\n",
    " '1002241',\n",
    " '1002242',\n",
    " '1002243',\n",
    " '1002246',\n",
    " '1002247',\n",
    " '1002248',\n",
    " '1002249',\n",
    " '1002250',\n",
    " '1002253',\n",
    " '1003198',\n",
    " ]"
   ]
  },
  {
   "cell_type": "code",
   "execution_count": 3,
   "metadata": {
    "collapsed": true
   },
   "outputs": [],
   "source": [
    "MASS_REGION = ['1000000',\n",
    " '1000002',\n",
    " '1000003',\n",
    " '1000005',\n",
    " '1000007',\n",
    " '1000008',\n",
    " '1000009',\n",
    " '1000010',\n",
    " '1000011',\n",
    " '1000012',\n",
    " '1000013',\n",
    " '1000014',\n",
    " '1000015',\n",
    " '1000016',\n",
    " '1000017',\n",
    " '1002254',\n",
    " '1002255',\n",
    " '1002256',\n",
    " '1002307',\n",
    " '1002308',\n",
    " '1002379',\n",
    " '1002380',\n",
    " '1002381',\n",
    " '1002382',\n",
    " '1002396',\n",
    " '1002478',\n",
    " '1002497',\n",
    " '1002537',\n",
    " '1002558',\n",
    " '1002559',\n",
    " '1002773',\n",
    " '1002852',\n",
    " '1002853',\n",
    " '1002854',\n",
    " '1002855',\n",
    " '1003012',\n",
    " '1003023',\n",
    " '1003091',\n",
    " '1003092',\n",
    " '1003094',\n",
    " '1003199',\n",
    " '1003200',\n",
    " '1003201',\n",
    " '1003202',\n",
    " '1003203',\n",
    " '1003326',\n",
    " '1003327',\n",
    " '1003437',\n",
    " '1003438',\n",
    " '1003439',\n",
    " '1003441',\n",
    " '1003503',\n",
    " '1003504',\n",
    " '1003505',\n",
    " '1003506',\n",
    " '1003705',\n",
    " '1003706',\n",
    " '1003708',\n",
    " '1003709',\n",
    " '1003711',\n",
    " '1003712',\n",
    " '1003713',\n",
    " '1003737',\n",
    " '1003748',\n",
    " '1003753',\n",
    " '1003754',\n",
    " '201326594',\n",
    " '201326596',\n",
    " '201326597',\n",
    " '201326598',\n",
    " '201326599',\n",
    " '201326600',\n",
    " '201326601',\n",
    " '201326602',\n",
    " '201326603',\n",
    " '201326604',\n",
    " '201326605',\n",
    " '201326606',\n",
    " '201326607',\n",
    " '201326608',\n",
    " '201326610',\n",
    " '201326611',\n",
    " '201326612',\n",
    " '201326613',\n",
    " '201326614',\n",
    " '201326615',\n",
    " '201326616',\n",
    " '201326617',\n",
    " '201326618',\n",
    " '201326619',\n",
    " '201326621',\n",
    " '385875969',\n",
    " '385875970',\n",
    " '385875971',\n",
    " '385876140',\n",
    " '385876141',\n",
    " '385876142',\n",
    " '385876143',\n",
    " '385876144',\n",
    " '385876145',\n",
    " '385876146',\n",
    " '385876147',\n",
    " '385876148',\n",
    " '385876149',\n",
    " '385876158',\n",
    " '385876159',\n",
    " '419430401',\n",
    " '419430402']"
   ]
  },
  {
   "cell_type": "code",
   "execution_count": 4,
   "metadata": {
    "collapsed": true
   },
   "outputs": [],
   "source": [
    "BIULD_TYPE = [\n",
    " '5039',\n",
    " '5040',\n",
    " '5041',\n",
    " '5042',\n",
    " '5044',\n",
    " '5045',\n",
    " '5048',\n",
    " '5053',\n",
    " '5055',\n",
    " '5061',\n",
    " '5063',\n",
    " '5064',\n",
    " '5065',\n",
    " '5066',\n",
    " '5067',\n",
    " '5069',\n",
    " '5070',\n",
    " '20451',\n",
    " '20452',\n",
    " '20485',\n",
    " '20492',\n",
    " '21486',\n",
    " '21737',\n",
    " '21777',\n",
    " '21778',\n",
    " '16797715',\n",
    " '16797718',\n",
    " '201326911',\n",
    " '201326915',\n",
    " '201326916',\n",
    " '201326917',\n",
    " '201326918',\n",
    " '201326919',\n",
    " '201326920',\n",
    " '385876155']"
   ]
  },
  {
   "cell_type": "code",
   "execution_count": 5,
   "metadata": {
    "collapsed": true
   },
   "outputs": [],
   "source": [
    "ROOMS_TYPE = ['213', '10200', '10201', '10202']\n",
    "CEIL_KIND = ['5109', '5110', '5111']\n",
    "BIULD_KIND = [\n",
    " '5094',\n",
    " '5095',\n",
    " '5096',\n",
    " '5097',\n",
    " '5098',\n",
    " '5099',\n",
    " '5100',\n",
    " '5101',\n",
    " '20528',\n",
    " '20629',\n",
    " '20647',\n",
    " '20812',\n",
    " '20813',\n",
    " '21594',\n",
    " '16877220',\n",
    " '385875982',\n",
    " '385875985']"
   ]
  },
  {
   "cell_type": "code",
   "execution_count": 81,
   "metadata": {
    "collapsed": false
   },
   "outputs": [],
   "source": [
    "NOMINAL_DETAILS = [\n",
    "    ('RegionCode', ADMIN_REGION),\n",
    "    ('Massive', MASS_REGION),\n",
    "    ('BldType', BIULD_TYPE),\n",
    "    ('TypeRooms', ROOMS_TYPE),\n",
    "    ('CeilKind', CEIL_KIND),]\n",
    "#    ('BldKind', BIULD_KIND)\n",
    "#                  ]"
   ]
  },
  {
   "cell_type": "code",
   "execution_count": 7,
   "metadata": {
    "collapsed": true
   },
   "outputs": [],
   "source": [
    "BOOL_DETAILS = []\n",
    "#    'Parking', 'Garage']"
   ]
  },
  {
   "cell_type": "code",
   "execution_count": 129,
   "metadata": {
    "collapsed": true
   },
   "outputs": [],
   "source": [
    "FEATURES = DETAILS + sum([i[1] for i in NOMINAL_DETAILS],[]) + BOOL_DETAILS"
   ]
  },
  {
   "cell_type": "code",
   "execution_count": 9,
   "metadata": {
    "collapsed": true
   },
   "outputs": [],
   "source": [
    "def nominal_vector(name, VALUES):\n",
    "    vec = [0]*len(VALUES)\n",
    "    try:\n",
    "        vec[VALUES.index(name)] = 1\n",
    "    except:\n",
    "        pass\n",
    "    return vec\n",
    "\n",
    "def yes_or_no(ans):\n",
    "    if ans.encode('utf-8') == 'да':\n",
    "        return 1\n",
    "    if ans.encode('utf-8') == 'Есть':\n",
    "        return 1\n",
    "    return 0"
   ]
  },
  {
   "cell_type": "code",
   "execution_count": 33,
   "metadata": {
    "collapsed": false
   },
   "outputs": [],
   "source": [
    "def extract_data(flat):\n",
    "    X = []\n",
    "    for d in DETAILS:\n",
    "        try:\n",
    "            X += [float(flat[d])]\n",
    "        except:\n",
    "            X += [0]\n",
    "    for n in NOMINAL_DETAILS:\n",
    "        try:\n",
    "            X += nominal_vector(flat[n[0]],n[1])\n",
    "        except KeyError:\n",
    "            X += [0] * len(n[1])\n",
    "    for b in BOOL_DETAILS:\n",
    "        try:\n",
    "            X += [yes_or_no(flat[b])]\n",
    "        except:\n",
    "            X += [0]    \n",
    "    y=0\n",
    "    try:\n",
    "        y = float(flat['Price'])\n",
    "    except:\n",
    "        print \"price problem\"\n",
    "        print flat\n",
    "    try:\n",
    "        if flat['PriceCurrencyID'] == '4':\n",
    "            y *= USD\n",
    "        if flat['PriceCurrencyID'] == '5':\n",
    "            y *= EUR\n",
    "    except:\n",
    "        pass\n",
    "    return [X, y]"
   ]
  },
  {
   "cell_type": "code",
   "execution_count": 11,
   "metadata": {
    "collapsed": true
   },
   "outputs": [],
   "source": [
    "def extract_data_metrovka(flat):\n",
    "    X = []\n",
    "    for d in DETAILS_METROVKA:\n",
    "        try:\n",
    "            X += [float(flat[d])]\n",
    "            if d == 'live_square':\n",
    "                if X[-1] > X[0]:\n",
    "                    X[-1] = 0\n",
    "            if d == 'kitchen_square':\n",
    "                if X[-1] > X[0]:\n",
    "                    X[-1] = 0\n",
    "            if d == 'rooms':\n",
    "                if X[-1] > 10:\n",
    "                    X[-1] = 0\n",
    "            if d == 'square':\n",
    "                if X[-1] > 900:\n",
    "                    X[-1] = 0\n",
    "        except:\n",
    "            X += [0]\n",
    "    y=0\n",
    "    try:\n",
    "        y = float(flat['price'])\n",
    "    except:\n",
    "        print flat['code']\n",
    "    try:\n",
    "        if flat['currency'].lower().encode() == 'usd':\n",
    "            y *= USD\n",
    "        if flat['currency'].lower().encode() == 'eur':\n",
    "            y *= EUR\n",
    "    except:\n",
    "        pass\n",
    "    return [X, y]"
   ]
  },
  {
   "cell_type": "code",
   "execution_count": 12,
   "metadata": {
    "collapsed": true
   },
   "outputs": [],
   "source": [
    "def process_with(X,y, info=False, short=False, return_short = False, new_coef = []):\n",
    "    train_X, test_X, train_y, test_y = cross_validation.train_test_split(X, y, test_size = 0.18, random_state = 3)\n",
    "    regr = linear_model.LinearRegression(normalize=True)\n",
    "    if new_coef != []:\n",
    "        print \"new coefs\"\n",
    "        regr.coef_ = new_coef\n",
    "    regr.fit(train_X, train_y)\n",
    "    if info:\n",
    "        print \"Total: %d, train: %d, test: %d\" %(len(X), len(train_X), len(test_X))\n",
    "        print(\"Residual sum of squares: %.2f\"% np.mean((regr.predict(test_X) - test_y) ** 2))\n",
    "        print(\"Train absolute: %.2f\"% np.mean(abs(regr.predict(train_X) - train_y)))\n",
    "        print(\"Test absolute: %.2f\"% np.mean(abs(regr.predict(test_X) - test_y)))\n",
    "        print(\"Absolute to mean: %.2f%%\"% (np.mean(abs(regr.predict(test_X) - test_y))/np.mean(test_y)*100))\n",
    "        print('Train variance score: %.2f' % regr.score(train_X, train_y))\n",
    "        print('Test variance score: %.2f' % regr.score(test_X, test_y))\n",
    "    if short:\n",
    "        print np.mean(abs(regr.predict(test_X) - test_y)),regr.score(test_X, test_y)\n",
    "    if return_short:\n",
    "        return np.mean(abs(regr.predict(test_X) - test_y)),regr.score(test_X, test_y)\n",
    "    return regr"
   ]
  },
  {
   "cell_type": "code",
   "execution_count": 13,
   "metadata": {
    "collapsed": true
   },
   "outputs": [],
   "source": [
    "#remove data without price\n",
    "#field - str, data - list of dicts\n",
    "def remove_with_no(field, t_data):\n",
    "    c = 1\n",
    "    while c!=0:\n",
    "        c=0\n",
    "        for d in t_data:\n",
    "            try:\n",
    "                d[field]\n",
    "            except:\n",
    "                #print d\n",
    "                c+=1\n",
    "                t_data.remove(d)\n",
    "        print c\n",
    "    return t_data"
   ]
  },
  {
   "cell_type": "code",
   "execution_count": 15,
   "metadata": {
    "collapsed": false
   },
   "outputs": [],
   "source": [
    "def get_X_y_from(t_data):\n",
    "    t_cleaned_data = [extract_data(i) for i in t_data]\n",
    "    X = np.array([i[0] for i in t_cleaned_data])\n",
    "    y = np.array([i[1] for i in t_cleaned_data])\n",
    "    return X,y"
   ]
  },
  {
   "cell_type": "code",
   "execution_count": null,
   "metadata": {
    "collapsed": true
   },
   "outputs": [],
   "source": [
    "def get_X_y_from_m(t_data):\n",
    "    try:        \n",
    "        t_cleaned_data = [extract_data_metrovka(i) for i in t_data]\n",
    "    except Exception as e:\n",
    "        print e.message, e.args\n",
    "    X = np.array([i[0] for i in t_cleaned_data])\n",
    "    y = np.array([i[1] for i in t_cleaned_data])\n",
    "    return X,y"
   ]
  },
  {
   "cell_type": "markdown",
   "metadata": {},
   "source": [
    "## Load data & clean data"
   ]
  },
  {
   "cell_type": "code",
   "execution_count": 16,
   "metadata": {
    "collapsed": false
   },
   "outputs": [],
   "source": [
    "tree = ET.parse('./blagovest/Objects.xml')\n",
    "root = tree.getroot()"
   ]
  },
  {
   "cell_type": "code",
   "execution_count": 130,
   "metadata": {
    "collapsed": true
   },
   "outputs": [],
   "source": [
    "blagovest_data_1 = root.findall('./Object/[@TownCode=\"300000\"][@Transaction=\"Rent\"][@ObjectType=\"Apartment\"]')\n",
    "blagovest_data_2 = root.findall('./Object/[@TownCode=\"300000\"][@Transaction=\"Sale\"][@ObjectType=\"Apartment\"]')\n",
    "blagovest_data_1 = [b.attrib for b in blagovest_data_1]\n",
    "blagovest_data_2 = [b.attrib for b in blagovest_data_2]"
   ]
  },
  {
   "cell_type": "code",
   "execution_count": 131,
   "metadata": {
    "collapsed": false
   },
   "outputs": [
    {
     "name": "stdout",
     "output_type": "stream",
     "text": [
      "0\n",
      "64\n",
      "4\n",
      "0\n",
      "0\n",
      "0\n",
      "0\n",
      "31\n",
      "1\n",
      "0\n"
     ]
    }
   ],
   "source": [
    "blagovest_data_1 = remove_with_no('Price', blagovest_data_1)\n",
    "blagovest_data_1 = remove_with_no('SqrTotal', blagovest_data_1)\n",
    "blagovest_data_1 = remove_with_no('NRooms', blagovest_data_1)\n",
    "blagovest_data_1 = remove_with_no('Floor', blagovest_data_1)\n",
    "blagovest_data_1 = remove_with_no('RegionCode', blagovest_data_1)\n",
    "blagovest_data_1 = remove_with_no('Massive', blagovest_data_1)"
   ]
  },
  {
   "cell_type": "code",
   "execution_count": 139,
   "metadata": {
    "collapsed": false
   },
   "outputs": [
    {
     "name": "stdout",
     "output_type": "stream",
     "text": [
      "0\n",
      "0\n",
      "0\n",
      "0\n",
      "0\n",
      "0\n",
      "0\n",
      "0\n",
      "0\n",
      "0\n",
      "0\n"
     ]
    }
   ],
   "source": [
    "blagovest_data_2 = remove_with_no('Price', blagovest_data_2)\n",
    "blagovest_data_2 = remove_with_no('SqrTotal', blagovest_data_2)\n",
    "blagovest_data_2 = remove_with_no('NRooms', blagovest_data_2)\n",
    "blagovest_data_2 = remove_with_no('Floor', blagovest_data_2)\n",
    "blagovest_data_2 = remove_with_no('RegionCode', blagovest_data_2)\n",
    "blagovest_data_2 = remove_with_no('Massive', blagovest_data_2)\n",
    "blagovest_data_2 = remove_with_no('BldType', blagovest_data_2)\n",
    "blagovest_data_2 = remove_with_no('SqrLive', blagovest_data_2)\n",
    "blagovest_data_2 = remove_with_no('SqrKitchen', blagovest_data_2)\n",
    "blagovest_data_2 = remove_with_no('TypeRooms', blagovest_data_2)\n",
    "blagovest_data_2 = remove_with_no('CeilKind', blagovest_data_2)"
   ]
  },
  {
   "cell_type": "code",
   "execution_count": null,
   "metadata": {
    "collapsed": false
   },
   "outputs": [],
   "source": [
    "import json\n",
    "with open('metrovka_flats.json') as data_file:\n",
    "#with open('metrovka_flats_metro.json') as data_file:\n",
    "#with open('metrovka_flats_district.json') as data_file:    \n",
    "    json_data = json.load(data_file)\n",
    "print len(json_data)\n",
    "\n",
    "#for d in json_data:\n",
    "#    d['district']=[]\n",
    "\n",
    "#filter city Kiyv\n",
    "metrovka_data = [i for i in json_data ] #if i['city'].encode('utf-8') in [\"Киев\",\"Київ\"]]\n",
    "print len(metrovka_data)\n",
    "metrovka_data = remove_with_no('price', metrovka_data)\n",
    "print len(metrovka_data)\n",
    "metrovka_data_1 = [i for i in metrovka_data if i['type'] == 1]\n",
    "metrovka_data_2 = [i for i in metrovka_data if i['type'] == 2]"
   ]
  },
  {
   "cell_type": "markdown",
   "metadata": {},
   "source": [
    "## First models"
   ]
  },
  {
   "cell_type": "code",
   "execution_count": 145,
   "metadata": {
    "collapsed": false
   },
   "outputs": [],
   "source": [
    "blagovest_X_2, blagovest_y_2 = get_X_y_from(blagovest_data_2)"
   ]
  },
  {
   "cell_type": "code",
   "execution_count": 146,
   "metadata": {
    "collapsed": false
   },
   "outputs": [
    {
     "data": {
      "text/plain": [
       "array([ 98.7,  16. ,   4. ,  12. ,  55.2,  13.2,   0. ,   0. ,   0. ,\n",
       "         0. ,   1. ,   0. ,   0. ,   0. ,   0. ,   0. ,   0. ,   0. ,\n",
       "         0. ,   0. ,   0. ,   0. ,   0. ,   0. ,   0. ,   0. ,   0. ,\n",
       "         0. ,   0. ,   0. ,   0. ,   0. ,   0. ,   0. ,   0. ,   0. ,\n",
       "         0. ,   0. ,   0. ,   0. ,   0. ,   0. ,   0. ,   0. ,   0. ,\n",
       "         0. ,   0. ,   0. ,   0. ,   0. ,   0. ,   0. ,   0. ,   0. ,\n",
       "         0. ,   0. ,   0. ,   0. ,   0. ,   0. ,   0. ,   0. ,   0. ,\n",
       "         0. ,   0. ,   0. ,   0. ,   0. ,   0. ,   0. ,   0. ,   0. ,\n",
       "         0. ,   0. ,   1. ,   0. ,   0. ,   0. ,   0. ,   0. ,   0. ,\n",
       "         0. ,   0. ,   0. ,   0. ,   0. ,   0. ,   0. ,   0. ,   0. ,\n",
       "         0. ,   0. ,   0. ,   0. ,   0. ,   0. ,   0. ,   0. ,   0. ,\n",
       "         0. ,   0. ,   0. ,   0. ,   0. ,   0. ,   0. ,   0. ,   0. ,\n",
       "         0. ,   0. ,   0. ,   0. ,   0. ,   0. ,   0. ,   0. ,   0. ,\n",
       "         0. ,   0. ,   0. ,   0. ,   0. ,   0. ,   0. ,   0. ,   0. ,\n",
       "         0. ,   0. ,   0. ,   0. ,   0. ,   0. ,   0. ,   0. ,   0. ,\n",
       "         0. ,   0. ,   0. ,   0. ,   0. ,   0. ,   0. ,   0. ,   0. ,\n",
       "         0. ,   0. ,   0. ,   0. ,   0. ,   0. ,   0. ,   0. ,   0. ,\n",
       "         0. ,   0. ,   1. ,   0. ,   0. ,   0. ,   0. ])"
      ]
     },
     "execution_count": 146,
     "metadata": {},
     "output_type": "execute_result"
    }
   ],
   "source": [
    "blagovest_X_2[0]"
   ]
  },
  {
   "cell_type": "code",
   "execution_count": 147,
   "metadata": {
    "collapsed": false
   },
   "outputs": [
    {
     "name": "stdout",
     "output_type": "stream",
     "text": [
      "Total: 717, train: 587, test: 130\n",
      "Residual sum of squares: 25107951918.26\n",
      "Train absolute: 108881.34\n",
      "Test absolute: 132950.97\n",
      "Absolute to mean: 5.39%\n",
      "Train variance score: 0.11\n",
      "Test variance score: -0.18\n"
     ]
    }
   ],
   "source": [
    "regr = process_with(blagovest_X_2, blagovest_y_2, info=True)"
   ]
  },
  {
   "cell_type": "code",
   "execution_count": null,
   "metadata": {
    "collapsed": false,
    "scrolled": true
   },
   "outputs": [],
   "source": [
    "metrovka_X_2, metrovka_y_2 = get_X_y_from_m(metrovka_data_2)"
   ]
  },
  {
   "cell_type": "code",
   "execution_count": null,
   "metadata": {
    "collapsed": false
   },
   "outputs": [],
   "source": [
    "metrovka_X_2[1]"
   ]
  },
  {
   "cell_type": "code",
   "execution_count": null,
   "metadata": {
    "collapsed": false
   },
   "outputs": [],
   "source": [
    "print(\"Residual sum of squares: %.2f\"% np.mean((regr.predict(metrovka_X_2) - metrovka_y_2) ** 2))\n",
    "print(\"Test absolute: %.2f\"% np.mean(abs(regr.predict(metrovka_X_2) - metrovka_y_2)))\n",
    "print(\"Absolute to mean: %.2f%%\"% (np.mean(abs(regr.predict(metrovka_X_2) - metrovka_y_2))/np.mean(metrovka_y_2)*100))\n",
    "print('Test variance score: %.2f' % regr.score(metrovka_X_2, metrovka_y_2))"
   ]
  },
  {
   "cell_type": "code",
   "execution_count": null,
   "metadata": {
    "collapsed": false
   },
   "outputs": [],
   "source": [
    "print \"Features sorted by their score:\"\n",
    "f = sorted(zip(map(lambda x: round(x, 4), regr.coef_), FEATURES), reverse=True)\n",
    "#f = zip(map(lambda x: round(x, 4), regr.coef_), FEATURES)\n",
    "print regr.intercept_\n",
    "print len(FEATURES)\n",
    "for i in f:\n",
    "    print \"%4f \\t %s\" %(i[0], i[1])"
   ]
  },
  {
   "cell_type": "code",
   "execution_count": null,
   "metadata": {
    "collapsed": false
   },
   "outputs": [],
   "source": [
    "#!-----extract frequency------\n",
    "counts = [0] * len(FIELDS)\n",
    "for d in blagovest_data:\n",
    "    for k in d.keys():\n",
    "        try:\n",
    "            counts[FIELDS.index(k)]+=1\n",
    "        except:\n",
    "            pass\n",
    "\n",
    "together = []\n",
    "for i in range(0, len(FIELDS)):\n",
    "    together += [[counts[i], FIELDS[i]]]\n",
    "\n",
    "together.sort(reverse=True)\n",
    "\n",
    "for i in range(0, len(FIELDS)):\n",
    "    together[i] += [round(together[i][0]/float(len(blagovest_data))*100,2)]\n",
    "\n",
    "for i in together:\n",
    "    print i\n",
    "#!---------------------------"
   ]
  },
  {
   "cell_type": "markdown",
   "metadata": {},
   "source": [
    "## Plots"
   ]
  },
  {
   "cell_type": "code",
   "execution_count": 149,
   "metadata": {
    "collapsed": true
   },
   "outputs": [],
   "source": [
    "#show dots from all data\n",
    "#plt.scatter([np.linalg.norm(i) for i in blagovest_X_2], blagovest_y_2, color='black')\n",
    "#plt.scatter([np.linalg.norm(i) for i in metrovka_X_2], metrovka_y_2, color='blue')\n",
    "plt.scatter([np.linalg.norm(i) for i in blagovest_X_2], blagovest_y_2, color='black')\n",
    "#plt.plot([np.linalg.norm(i) for i in X_2], regr.predict(X_2), color='blue', linewidth=1)\n",
    "#plt.scatter(np.linalg.norm(X_2[ind]), y_2[ind], color='blue')\n",
    "#plt.scatter([np.linalg.norm(i) for i in X_2[inx]], y_2[inx], color='blue')\n",
    "plt.xticks(())\n",
    "plt.yticks(())\n",
    "plt.show()"
   ]
  },
  {
   "cell_type": "markdown",
   "metadata": {},
   "source": [
    "##  Good vs bad"
   ]
  },
  {
   "cell_type": "code",
   "execution_count": null,
   "metadata": {
    "collapsed": true
   },
   "outputs": [],
   "source": [
    "good = []\n",
    "bad = []\n",
    "all = zip(metrovka_X_2, metrovka_y_2)\n",
    "for i,z in enumerate(all):\n",
    "    r = regr.predict(z[0])\n",
    "    err_procent = np.mean(abs(r - z[1])/z[1]*100)\n",
    "    if err_procent > 30:\n",
    "        bad += [[metrovka_data_2[i], r[0], err_procent]]\n",
    "    else:\n",
    "        good += [[metrovka_data_2[i], r[0], err_procent]]"
   ]
  },
  {
   "cell_type": "code",
   "execution_count": null,
   "metadata": {
    "collapsed": false,
    "scrolled": false
   },
   "outputs": [],
   "source": [
    "print \"Всего элементов: %d\" % len(metrovka_data_2)\n",
    "print \"Плохих: %d \\nХороших: %d\" % (len(bad), len(good))\n",
    "print \"Процент плохих: %.2f \\nПроцент хороших: %.2f\" % (len(bad)/float(len(metrovka_data_2)), len(good)/float(len(metrovka_data_2)))\n",
    "print \"Среднее плохих: %.3f \\nСреднее хороших: %.3f\" % (np.mean(map(lambda x: x[2], bad)), np.mean(map(lambda x: x[2], good)))\n",
    "print \"Медиана плохих: %.3f \\nМедиана хороших: %.3f\" % (np.median(map(lambda x: x[2], bad)), np.median(map(lambda x: x[2], good)))"
   ]
  },
  {
   "cell_type": "markdown",
   "metadata": {},
   "source": [
    "## Manual checking"
   ]
  },
  {
   "cell_type": "code",
   "execution_count": null,
   "metadata": {
    "collapsed": false
   },
   "outputs": [],
   "source": [
    "ind = 1129\n",
    "#for i in metrovka_data_2[ind].values():\n",
    "#    print i\n",
    "#print metrovka_data_2[ind]\n",
    "[x,y] = extract_data(metrovka_data_2[ind])\n",
    "print metrovka_data_2[ind]['rooms']\n",
    "print\n",
    "print(\"%.2f \\t diff\"% np.mean((regr.predict(x) - y)))\n",
    "print y, \"real\"\n",
    "print regr.predict(x)[0]\n",
    "print(\"%.2f\"% np.mean(abs(regr.predict(x) - y)/y*100))"
   ]
  },
  {
   "cell_type": "code",
   "execution_count": null,
   "metadata": {
    "collapsed": false
   },
   "outputs": [],
   "source": [
    "[x,y] =extract_data({\n",
    " u'district': u'Оболонский',\n",
    " u'price': u'3000000.00',\n",
    " #u'rooms': u'2',\n",
    " u'square': u'80',\n",
    " u'type': 2,\n",
    "})\n",
    "print\n",
    "print(\"%.2f \\t diff\"% np.mean((regr.predict(x) - y)))\n",
    "print y, \"real\"\n",
    "print regr.predict(x)[0]\n",
    "print(\"%.2f\"% np.mean(abs(regr.predict(x) - y)/y*100))"
   ]
  },
  {
   "cell_type": "code",
   "execution_count": null,
   "metadata": {
    "collapsed": false
   },
   "outputs": [],
   "source": [
    "for d in DISTRICT_NAMES_RU:\n",
    "    [x,y] =extract_data({\n",
    "     u'district': d.decode('utf-8'),\n",
    "     u'price': u'3000000.00',\n",
    "     #u'rooms': u'2',\n",
    "     u'square': u'45',\n",
    "     u'type': 2,\n",
    "    })\n",
    "    print \"%s: \\t %f\" %(d,regr.predict(x)[0])"
   ]
  },
  {
   "cell_type": "code",
   "execution_count": null,
   "metadata": {
    "collapsed": false
   },
   "outputs": [],
   "source": [
    "for d in METRO_RU:\n",
    "    [x,y] =extract_data({\n",
    "     u'metro': [d],\n",
    "     u'price': u'3000000.00',\n",
    "     #u'rooms': u'2',\n",
    "     u'square': u'45',\n",
    "     u'type': 2,\n",
    "    })\n",
    "    print \"%50s: \\t %f\" %(d,regr.predict(x)[0])"
   ]
  },
  {
   "cell_type": "code",
   "execution_count": null,
   "metadata": {
    "collapsed": false
   },
   "outputs": [],
   "source": [
    "from collections import Counter\n",
    "data = Counter([i['square'] for i in metrovka_data])\n",
    "data.most_common()   # Returns all unique items and their counts\n",
    "data.most_common(2)"
   ]
  },
  {
   "cell_type": "code",
   "execution_count": null,
   "metadata": {
    "collapsed": true
   },
   "outputs": [],
   "source": []
  },
  {
   "cell_type": "code",
   "execution_count": null,
   "metadata": {
    "collapsed": false
   },
   "outputs": [],
   "source": [
    "len(ADMIN_REGION)\n",
    "blagovest_X_2[0][4:15]"
   ]
  },
  {
   "cell_type": "markdown",
   "metadata": {},
   "source": [
    "## Making some fields requiered"
   ]
  },
  {
   "cell_type": "code",
   "execution_count": null,
   "metadata": {
    "collapsed": true
   },
   "outputs": [],
   "source": [
    "#remove_data_with_no_district_in_X\n",
    "#[0:4], [4:15]\n",
    "def make_field_required(t_data):\n",
    "    ind = []\n",
    "    X = get_X_y_from(t_data)[0]\n",
    "    print \"Elements: %d\" % len(X)\n",
    "    for i, x in enumerate(X):\n",
    "        if np.count_nonzero(x[:])<6:\n",
    "            ind += [i]\n",
    "    print \"Deleted: %d\" % len(ind)\n",
    "    ind = sorted(ind, reverse=True)\n",
    "    for i in ind:\n",
    "        t=t_data.pop(i)\n",
    "    return t_data"
   ]
  },
  {
   "cell_type": "code",
   "execution_count": null,
   "metadata": {
    "collapsed": false
   },
   "outputs": [],
   "source": [
    "blagovest_data_2=make_field_required(blagovest_data_2)"
   ]
  },
  {
   "cell_type": "code",
   "execution_count": null,
   "metadata": {
    "collapsed": false,
    "scrolled": true
   },
   "outputs": [],
   "source": [
    "metrovka_data_2=make_field_required(metrovka_data_2)"
   ]
  },
  {
   "cell_type": "markdown",
   "metadata": {},
   "source": [
    "## Delete data with big diffs"
   ]
  },
  {
   "cell_type": "code",
   "execution_count": 99,
   "metadata": {
    "collapsed": true
   },
   "outputs": [],
   "source": [
    "def mean_diff(t_data, normalize = True, plots = True, info=True):\n",
    "    X, y = get_X_y_from(t_data)\n",
    "    print \"Before:\"\n",
    "    before = process_with(X, y, return_short=True)\n",
    "    print before\n",
    "    \n",
    "    if normalize:\n",
    "        min_max_scaler = preprocessing.MinMaxScaler()\n",
    "        X = min_max_scaler.fit_transform(X)\n",
    "        y = min_max_scaler.fit_transform(y)\n",
    "    \n",
    "    pts = np.float32(zip(map(lambda x: np.linalg.norm(x), X),y))\n",
    "    \n",
    "    mean_pt = np.mean(pts,axis=0)\n",
    "    mean_x,mean_y = mean_pt\n",
    "    diffs = np.apply_along_axis(np.linalg.norm,1,pts - mean_pt)\n",
    "    mean_diff = np.mean(diffs)\n",
    "\n",
    "    filtered = np.float32([pts[i] for i,diff in enumerate(diffs) if diff <= mean_diff])\n",
    "    filtered_mean = np.mean(filtered,axis=0)\n",
    "    \n",
    "    t_data_f = [t_data[i] for i,diff in enumerate(diffs) if diff <= mean_diff]\n",
    "    X_f, y_f = get_X_y_from(t_data_f)\n",
    "    print \"After:\"\n",
    "    after = process_with(X_f,y_f, return_short=True)\n",
    "    print after\n",
    "    \n",
    "#    plt.plot(pts[:,0],pts[:,1],'ro')\n",
    "#    plt.plot(mean_x,mean_y,'w^')\n",
    "#    plt.plot(filtered[:,0],filtered[:,1],'bo')\n",
    "#    plt.plot(filtered_mean[0],filtered_mean[1],'w^')\n",
    "#    plt.show()\n",
    "    if after[1] > before[1] or after[0] < before[0]:\n",
    "        return t_data_f\n",
    "    return t_data"
   ]
  },
  {
   "cell_type": "markdown",
   "metadata": {},
   "source": [
    "## Delete \"outlaws\""
   ]
  },
  {
   "cell_type": "code",
   "execution_count": 25,
   "metadata": {
    "collapsed": true
   },
   "outputs": [],
   "source": [
    "def get_ind_by_y(X, y, ind_max = True):\n",
    "    if ind_max:\n",
    "        return np.argmax(y)\n",
    "    else:\n",
    "        return np.argmin(y)"
   ]
  },
  {
   "cell_type": "code",
   "execution_count": 26,
   "metadata": {
    "collapsed": true
   },
   "outputs": [],
   "source": [
    "def get_ind_by_x_norm(X, y, ind_max=True):\n",
    "    norms = [np.linalg.norm(i) for i in X]\n",
    "    #sorted_norm = [np.linalg.norm(i) for i in X]\n",
    "    #sorted_norm.sort()\n",
    "    if ind_max:\n",
    "        #ind = norms.index(sorted_norm[-1])\n",
    "        ind = norms.index(max(norms))\n",
    "    else:\n",
    "        #ind = norms.index(sorted_norm[1])\n",
    "        ind = norms.index(min(norms))\n",
    "    return ind"
   ]
  },
  {
   "cell_type": "code",
   "execution_count": 27,
   "metadata": {
    "collapsed": true
   },
   "outputs": [],
   "source": [
    "def get_ind_by_y_to_x_norm(X, y, ind_max=True):\n",
    "    y_to_norm_x = [y[i]/np.linalg.norm(X[i]) for i in range(0,len(X))]\n",
    "    if ind_max:\n",
    "        return np.argmax(y_to_norm_x)\n",
    "    else:\n",
    "        return np.argmin(y_to_norm_x)"
   ]
  },
  {
   "cell_type": "code",
   "execution_count": 120,
   "metadata": {
    "collapsed": true
   },
   "outputs": [],
   "source": [
    "def cut_data_by(t_data, get_ind_cut_function, ind_max_flag=True):\n",
    "    previous_sum = 10**32\n",
    "    previous_score = -10**32\n",
    "    X, y = get_X_y_from(t_data)\n",
    "    [current_sum, current_score] = process_with(X, y, return_short=True)\n",
    "    temp={}\n",
    "    while current_score > previous_score or current_sum < previous_sum:\n",
    "        previous_score = current_score\n",
    "        previous_sum = current_sum\n",
    "\n",
    "        inx = get_ind_cut_function(X, y,ind_max=ind_max_flag)\n",
    "        #print t_data[norms.index(sorted_norm[-1])]['code'], sorted_norm[-1]\n",
    "        temp = t_data.pop(inx)\n",
    "        \n",
    "        X, y = get_X_y_from(t_data)\n",
    "        [current_sum, current_score] = process_with(X, y, return_short=True)\n",
    "        \n",
    "        print current_sum, previous_sum\n",
    "        print current_score, previous_score\n",
    "        print \"-----\"\n",
    "    if temp != {}:\n",
    "        t_data+=[temp]\n",
    "    return t_data"
   ]
  },
  {
   "cell_type": "markdown",
   "metadata": {},
   "source": [
    "## One by one"
   ]
  },
  {
   "cell_type": "code",
   "execution_count": 144,
   "metadata": {
    "collapsed": false,
    "scrolled": true
   },
   "outputs": [
    {
     "name": "stdout",
     "output_type": "stream",
     "text": [
      "by x norm max\n",
      "2593410.42731 1.80735840999e+15\n",
      "0.602896601249 -5.81250645275e+19\n",
      "-----\n",
      "9.8151742527e+16 2593410.42731\n",
      "-2.26499041109e+23 0.602896601249\n",
      "-----\n",
      "by y max\n",
      "1.33407601992e+18 2628203.34132\n",
      "-1.69457405797e+25 0.613235217489\n",
      "-----\n",
      "by y to x norm max\n",
      "1.53085075588e+17 9.00738016087e+16\n",
      "-4.4582315964e+23 -1.71351944461e+23\n",
      "-----\n",
      "by x norm min\n",
      "9.36594005405e+17 2.07453783234e+17\n",
      "-1.29522917545e+25 -5.92714958217e+23\n",
      "-----\n",
      "by y min\n",
      "2.00437242617e+17 1.32027762709e+18\n",
      "-9.11228396137e+23 -4.1355667738e+25\n",
      "-----\n",
      "3.13643880928e+17 2.00437242617e+17\n",
      "-1.03961678283e+24 -9.11228396137e+23\n",
      "-----\n",
      "by y to x norm min\n",
      "2594962.49078 8.08333637586e+17\n",
      "0.554583899078 -7.05266219457e+24\n",
      "-----\n",
      "2658501.30438 2594962.49078\n",
      "0.589669756496 0.554583899078\n",
      "-----\n",
      "2544942.29539 2658501.30438\n",
      "0.591149127403 0.589669756496\n",
      "-----\n",
      "2.94146963814e+15 2544942.29539\n",
      "-2.23977499948e+20 0.591149127403\n",
      "-----\n",
      "mean_diff\n",
      "Before:\n",
      "(979263990083984.62, -2.7027818592308007e+19)\n"
     ]
    },
    {
     "name": "stderr",
     "output_type": "stream",
     "text": [
      "/usr/local/lib/python2.7/dist-packages/sklearn/preprocessing/data.py:324: DeprecationWarning: Passing 1d arrays as data is deprecated in 0.17 and will raise ValueError in 0.19. Reshape your data either using X.reshape(-1, 1) if your data has a single feature or X.reshape(1, -1) if it contains a single sample.\n",
      "  warnings.warn(DEPRECATION_MSG_1D, DeprecationWarning)\n",
      "/usr/local/lib/python2.7/dist-packages/sklearn/preprocessing/data.py:359: DeprecationWarning: Passing 1d arrays as data is deprecated in 0.17 and will raise ValueError in 0.19. Reshape your data either using X.reshape(-1, 1) if your data has a single feature or X.reshape(1, -1) if it contains a single sample.\n",
      "  warnings.warn(DEPRECATION_MSG_1D, DeprecationWarning)\n"
     ]
    },
    {
     "name": "stdout",
     "output_type": "stream",
     "text": [
      "After:\n",
      "(1.8839073473722349e+17, -4.7746426812681446e+24)\n",
      "by x norm max\n",
      "1.99746694926e+16 9.79263990084e+14\n",
      "-1.0328443012e+22 -2.70278185923e+19\n",
      "-----\n",
      "by y max\n",
      "8.69796910306e+15 3.95505682712e+16\n",
      "-1.95844497763e+21 -4.40876432583e+22\n",
      "-----\n",
      "1.96516644551e+16 8.69796910306e+15\n",
      "-2.48067695563e+21 -1.95844497763e+21\n",
      "-----\n",
      "by y to x norm max\n",
      "1.98445603353e+16 5.40378456701e+17\n",
      "-2.5296153899e+21 -7.3644151705e+24\n",
      "-----\n",
      "1.51218737751e+16 1.98445603353e+16\n",
      "-6.1205573119e+21 -2.5296153899e+21\n",
      "-----\n",
      "1.11513558941e+15 1.51218737751e+16\n",
      "-3.35969134175e+19 -6.1205573119e+21\n",
      "-----\n",
      "2527011.87447 1.11513558941e+15\n",
      "0.572803823795 -3.35969134175e+19\n",
      "-----\n",
      "2691494.40233 2527011.87447\n",
      "0.557538507767 0.572803823795\n",
      "-----\n",
      "by x norm min\n",
      "2854972.6516 2849949.25242\n",
      "0.530218178181 0.554994060114\n",
      "-----\n",
      "by y min\n",
      "2640344.85374 2701998.51821\n",
      "0.562276509633 0.603083488576\n",
      "-----\n",
      "2628621.82651 2640344.85374\n",
      "0.588116529077 0.562276509633\n",
      "-----\n",
      "2603866.75911 2628621.82651\n",
      "0.591155121223 0.588116529077\n",
      "-----\n",
      "1.47483949007e+18 2603866.75911\n",
      "-2.80869716395e+25 0.591155121223\n",
      "-----\n",
      "by y to x norm min\n",
      "3.57680483566e+17 1.7379341602e+18\n",
      "-1.69323050821e+24 -3.37718766438e+25\n",
      "-----\n",
      "4.82790048052e+18 3.57680483566e+17\n",
      "-1.03009611218e+26 -1.69323050821e+24\n",
      "-----\n",
      "mean_diff\n",
      "Before:\n",
      "(1.2454691742539177e+18, -2.0542991807520029e+25)\n"
     ]
    },
    {
     "name": "stderr",
     "output_type": "stream",
     "text": [
      "/usr/local/lib/python2.7/dist-packages/sklearn/preprocessing/data.py:324: DeprecationWarning: Passing 1d arrays as data is deprecated in 0.17 and will raise ValueError in 0.19. Reshape your data either using X.reshape(-1, 1) if your data has a single feature or X.reshape(1, -1) if it contains a single sample.\n",
      "  warnings.warn(DEPRECATION_MSG_1D, DeprecationWarning)\n",
      "/usr/local/lib/python2.7/dist-packages/sklearn/preprocessing/data.py:359: DeprecationWarning: Passing 1d arrays as data is deprecated in 0.17 and will raise ValueError in 0.19. Reshape your data either using X.reshape(-1, 1) if your data has a single feature or X.reshape(1, -1) if it contains a single sample.\n",
      "  warnings.warn(DEPRECATION_MSG_1D, DeprecationWarning)\n"
     ]
    },
    {
     "name": "stdout",
     "output_type": "stream",
     "text": [
      "After:\n",
      "(2.0317307465138668e+18, -2.7461940505340418e+26)\n",
      "by x norm max\n",
      "1.65523593903e+18 1.24546917425e+18\n",
      "-1.59320115585e+25 -2.05429918075e+25\n",
      "-----\n",
      "8.42948281566e+17 1.65523593903e+18\n",
      "-1.62516653957e+25 -1.59320115585e+25\n",
      "-----\n",
      "1.1287287026e+18 8.42948281566e+17\n",
      "-3.62271707732e+25 -1.62516653957e+25\n",
      "-----\n",
      "by y max\n",
      "1.02010450593e+18 1.44956856629e+18\n",
      "-2.95899759591e+25 -5.33406756697e+25\n",
      "-----\n",
      "2.2280210159e+17 1.02010450593e+18\n",
      "-1.2884086117e+24 -2.95899759591e+25\n",
      "-----\n",
      "3.35755849509e+17 2.2280210159e+17\n",
      "-3.00113001683e+24 -1.2884086117e+24\n",
      "-----\n",
      "by y to x norm max\n",
      "3.35755849509e+17 2.414760952e+17\n",
      "-3.00113001683e+24 -1.51343349639e+24\n",
      "-----\n",
      "by x norm min\n",
      "2.34052157571e+17 2.414760952e+17\n",
      "-1.45835391958e+24 -1.51343349639e+24\n",
      "-----\n",
      "6.25780784208e+17 2.34052157571e+17\n",
      "-1.25544809462e+25 -1.45835391958e+24\n",
      "-----\n",
      "by y min\n",
      "4.26632391736e+17 6.66942898271e+17\n",
      "-5.151304823e+24 -1.3731111155e+25\n",
      "-----\n",
      "4.07393783357e+17 4.26632391736e+17\n",
      "-1.89274731595e+24 -5.151304823e+24\n",
      "-----\n",
      "2.65559243892e+18 4.07393783357e+17\n",
      "-7.78013676437e+25 -1.89274731595e+24\n",
      "-----\n",
      "by y to x norm min\n",
      "9.72519791346e+17 4.51107183381e+16\n",
      "-1.0856218002e+25 -6.43800777539e+22\n",
      "-----\n",
      "mean_diff\n",
      "Before:\n",
      "(5.1357144960456928e+17, -8.3443739051574478e+24)\n"
     ]
    },
    {
     "name": "stderr",
     "output_type": "stream",
     "text": [
      "/usr/local/lib/python2.7/dist-packages/sklearn/preprocessing/data.py:324: DeprecationWarning: Passing 1d arrays as data is deprecated in 0.17 and will raise ValueError in 0.19. Reshape your data either using X.reshape(-1, 1) if your data has a single feature or X.reshape(1, -1) if it contains a single sample.\n",
      "  warnings.warn(DEPRECATION_MSG_1D, DeprecationWarning)\n",
      "/usr/local/lib/python2.7/dist-packages/sklearn/preprocessing/data.py:359: DeprecationWarning: Passing 1d arrays as data is deprecated in 0.17 and will raise ValueError in 0.19. Reshape your data either using X.reshape(-1, 1) if your data has a single feature or X.reshape(1, -1) if it contains a single sample.\n",
      "  warnings.warn(DEPRECATION_MSG_1D, DeprecationWarning)\n"
     ]
    },
    {
     "name": "stdout",
     "output_type": "stream",
     "text": [
      "After:\n",
      "(5.7835100195406054e+17, -2.8619030372403521e+25)\n",
      "by x norm max\n",
      "2.5577195567e+18 5.13571449605e+17\n",
      "-7.55748091604e+25 -8.34437390516e+24\n",
      "-----\n",
      "by y max\n",
      "3.70029070463e+18 1.19385195936e+18\n",
      "-1.49518939058e+26 -4.50913215928e+25\n",
      "-----\n",
      "by y to x norm max\n",
      "3.70029070463e+18 2.06206421928e+18\n",
      "-1.49518939058e+26 -1.34522950528e+26\n",
      "-----\n",
      "by x norm min\n",
      "1.91642467484e+18 2.06206421928e+18\n",
      "-4.52888702352e+25 -1.34522950528e+26\n",
      "-----\n",
      "1.56874529895e+18 1.91642467484e+18\n",
      "-3.0544221132e+25 -4.52888702352e+25\n",
      "-----\n",
      "1.20584363113e+18 1.56874529895e+18\n",
      "-1.48373586414e+25 -3.0544221132e+25\n",
      "-----\n",
      "2470945.14072 1.20584363113e+18\n",
      "0.57757814628 -1.48373586414e+25\n",
      "-----\n",
      "2566891.82257 2470945.14072\n",
      "0.560280771828 0.57757814628\n",
      "-----\n",
      "by y min\n",
      "2572356.67212 2523255.34543\n",
      "0.554895031215 0.566398021422\n",
      "-----\n",
      "by y to x norm min\n",
      "2584112.74361 2.76210610979e+17\n",
      "0.550307781376 -1.15470242206e+24\n",
      "-----\n",
      "2598275.86351 2584112.74361\n",
      "0.600563726741 0.550307781376\n",
      "-----\n",
      "2601007.7891 2598275.86351\n",
      "0.598429766131 0.600563726741\n",
      "-----\n",
      "mean_diff\n",
      "Before:\n",
      "(1.4591878202504251e+18, -1.0060100252290773e+25)\n"
     ]
    },
    {
     "name": "stderr",
     "output_type": "stream",
     "text": [
      "/usr/local/lib/python2.7/dist-packages/sklearn/preprocessing/data.py:324: DeprecationWarning: Passing 1d arrays as data is deprecated in 0.17 and will raise ValueError in 0.19. Reshape your data either using X.reshape(-1, 1) if your data has a single feature or X.reshape(1, -1) if it contains a single sample.\n",
      "  warnings.warn(DEPRECATION_MSG_1D, DeprecationWarning)\n",
      "/usr/local/lib/python2.7/dist-packages/sklearn/preprocessing/data.py:359: DeprecationWarning: Passing 1d arrays as data is deprecated in 0.17 and will raise ValueError in 0.19. Reshape your data either using X.reshape(-1, 1) if your data has a single feature or X.reshape(1, -1) if it contains a single sample.\n",
      "  warnings.warn(DEPRECATION_MSG_1D, DeprecationWarning)\n"
     ]
    },
    {
     "name": "stdout",
     "output_type": "stream",
     "text": [
      "After:\n",
      "(1.0809597182022095e+18, -2.6154640939763353e+26)\n",
      "by x norm max\n",
      "2.12360246957e+16 1.0809597182e+18\n",
      "-4.6694775113e+22 -2.61546409398e+26\n",
      "-----\n",
      "5.24871322904e+17 2.12360246957e+16\n",
      "-5.41047187992e+25 -4.6694775113e+22\n",
      "-----\n",
      "by y max\n",
      "2.15301492344e+17 1.35550265245e+17\n",
      "-6.82244634287e+24 -3.35322742048e+24\n",
      "-----\n",
      "by y to x norm max\n",
      "4.14038521121e+15 1.08248686156e+18\n",
      "-3.8326587707e+21 -2.57392396904e+26\n",
      "-----\n",
      "1.24394304952e+16 4.14038521121e+15\n",
      "-1.65358110211e+22 -3.8326587707e+21\n",
      "-----\n",
      "by x norm min\n",
      "2.74547768807e+17 1.04239227407e+17\n",
      "-1.62009311531e+25 -1.9113259157e+24\n",
      "-----\n",
      "by y min\n",
      "5.817506805e+17 5.49310072355e+17\n",
      "-3.65649923947e+25 -2.52916840038e+25\n",
      "-----\n",
      "by y to x norm min\n",
      "2.18735290943e+17 1.33228392984e+16\n",
      "-9.16755908626e+24 -1.86356561658e+22\n",
      "-----\n",
      "mean_diff\n",
      "Before:\n",
      "(1.8692125578668086e+18, -4.4914188956406601e+26)\n"
     ]
    },
    {
     "name": "stderr",
     "output_type": "stream",
     "text": [
      "/usr/local/lib/python2.7/dist-packages/sklearn/preprocessing/data.py:324: DeprecationWarning: Passing 1d arrays as data is deprecated in 0.17 and will raise ValueError in 0.19. Reshape your data either using X.reshape(-1, 1) if your data has a single feature or X.reshape(1, -1) if it contains a single sample.\n",
      "  warnings.warn(DEPRECATION_MSG_1D, DeprecationWarning)\n",
      "/usr/local/lib/python2.7/dist-packages/sklearn/preprocessing/data.py:359: DeprecationWarning: Passing 1d arrays as data is deprecated in 0.17 and will raise ValueError in 0.19. Reshape your data either using X.reshape(-1, 1) if your data has a single feature or X.reshape(1, -1) if it contains a single sample.\n",
      "  warnings.warn(DEPRECATION_MSG_1D, DeprecationWarning)\n"
     ]
    },
    {
     "name": "stdout",
     "output_type": "stream",
     "text": [
      "After:\n",
      "(3.3381926616611718e+17, -8.1587807295993606e+25)\n",
      "by x norm max\n",
      "8.56379666907e+17 3.33819266166e+17\n",
      "-2.97550497492e+26 -8.1587807296e+25\n",
      "-----\n",
      "by y max\n",
      "551571.921248 9.40576622973e+16\n",
      "0.553323866397 -6.87536792943e+24\n",
      "-----\n",
      "539340.846644 551571.921248\n",
      "0.579753859356 0.553323866397\n",
      "-----\n",
      "1.07803263287e+17 539340.846644\n",
      "-9.40568187496e+24 0.579753859356\n",
      "-----\n",
      "by y to x norm max\n",
      "9.58231027674e+15 533332.466621\n",
      "-7.50337274679e+22 0.580898167223\n",
      "-----\n",
      "by x norm min\n",
      "533901.979322 542018.434983\n",
      "0.58533979889 0.578111912475\n",
      "-----\n",
      "529932.957774 533901.979322\n",
      "0.581799644974 0.58533979889\n",
      "-----\n",
      "3.11130882839e+16 529932.957774\n",
      "-7.9730877205e+23 0.581799644974\n",
      "-----\n",
      "by y min\n",
      "2.39768248162e+18 525716.93461\n",
      "-2.40548364056e+27 0.580246780619\n",
      "-----\n",
      "by y to x norm min\n",
      "2.43635378497e+17 2.29192356024e+17\n",
      "-4.93808850361e+25 -4.22652463609e+25\n",
      "-----\n",
      "mean_diff\n",
      "Before:\n",
      "(1.663544828854904e+17, -1.2509991695202224e+25)\n"
     ]
    },
    {
     "name": "stderr",
     "output_type": "stream",
     "text": [
      "/usr/local/lib/python2.7/dist-packages/sklearn/preprocessing/data.py:324: DeprecationWarning: Passing 1d arrays as data is deprecated in 0.17 and will raise ValueError in 0.19. Reshape your data either using X.reshape(-1, 1) if your data has a single feature or X.reshape(1, -1) if it contains a single sample.\n",
      "  warnings.warn(DEPRECATION_MSG_1D, DeprecationWarning)\n",
      "/usr/local/lib/python2.7/dist-packages/sklearn/preprocessing/data.py:359: DeprecationWarning: Passing 1d arrays as data is deprecated in 0.17 and will raise ValueError in 0.19. Reshape your data either using X.reshape(-1, 1) if your data has a single feature or X.reshape(1, -1) if it contains a single sample.\n",
      "  warnings.warn(DEPRECATION_MSG_1D, DeprecationWarning)\n"
     ]
    },
    {
     "name": "stdout",
     "output_type": "stream",
     "text": [
      "After:\n",
      "(1.3611745721320326e+17, -1.6326987147531773e+25)\n",
      "by x norm max\n",
      "6.29969743482e+16 1.36117457213e+17\n",
      "-6.68174588198e+24 -1.63269871475e+25\n",
      "-----\n",
      "2.11947946841e+17 6.29969743482e+16\n",
      "-7.26306566179e+25 -6.68174588198e+24\n",
      "-----\n",
      "by y max\n",
      "356339.577663 3.93800023496e+16\n",
      "0.305883861991 -2.54479478072e+24\n",
      "-----\n",
      "3.468244732e+17 356339.577663\n",
      "-9.10607643888e+25 0.305883861991\n",
      "-----\n",
      "by y to x norm max\n",
      "2.13993025067e+17 2.01493578862e+17\n",
      "-2.84068310712e+25 -6.82392067025e+25\n",
      "-----\n",
      "7.67574691631e+17 2.13993025067e+17\n",
      "-1.06471095426e+27 -2.84068310712e+25\n",
      "-----\n",
      "by x norm min\n",
      "7.67574691631e+17 8.88159950835e+17\n",
      "-1.06471095426e+27 -9.94485915593e+26\n",
      "-----\n",
      "5.21807390139e+17 7.67574691631e+17\n",
      "-2.55967693157e+26 -1.06471095426e+27\n",
      "-----\n",
      "8.01188896527e+17 5.21807390139e+17\n",
      "-5.79756640725e+26 -2.55967693157e+26\n",
      "-----\n",
      "by y min\n",
      "5.03743991704e+17 2.62370267911e+18\n",
      "-4.28097485446e+26 -4.65863491326e+27\n",
      "-----\n",
      "3.84675771598e+17 5.03743991704e+17\n",
      "-2.12681081662e+26 -4.28097485446e+26\n",
      "-----\n",
      "5.45147377518e+17 3.84675771598e+17\n",
      "-4.83810612218e+26 -2.12681081662e+26\n",
      "-----\n",
      "by y to x norm min\n",
      "1.26544133741e+18 1.24387555423e+18\n",
      "-2.01524811767e+27 -2.63044911664e+27\n",
      "-----\n",
      "1.78455115762e+17 1.26544133741e+18\n",
      "-5.03212355402e+25 -2.01524811767e+27\n",
      "-----\n",
      "2.2928983231e+18 1.78455115762e+17\n",
      "-9.16792626943e+27 -5.03212355402e+25\n",
      "-----\n",
      "mean_diff\n",
      "Before:\n",
      "(3.003220902958807e+17, -1.2908684859017803e+26)\n",
      "After:\n",
      "(236297.92705882352, -0.040068351467997143)\n",
      "by x norm max\n"
     ]
    },
    {
     "name": "stderr",
     "output_type": "stream",
     "text": [
      "/usr/local/lib/python2.7/dist-packages/sklearn/preprocessing/data.py:324: DeprecationWarning: Passing 1d arrays as data is deprecated in 0.17 and will raise ValueError in 0.19. Reshape your data either using X.reshape(-1, 1) if your data has a single feature or X.reshape(1, -1) if it contains a single sample.\n",
      "  warnings.warn(DEPRECATION_MSG_1D, DeprecationWarning)\n",
      "/usr/local/lib/python2.7/dist-packages/sklearn/preprocessing/data.py:359: DeprecationWarning: Passing 1d arrays as data is deprecated in 0.17 and will raise ValueError in 0.19. Reshape your data either using X.reshape(-1, 1) if your data has a single feature or X.reshape(1, -1) if it contains a single sample.\n",
      "  warnings.warn(DEPRECATION_MSG_1D, DeprecationWarning)\n"
     ]
    },
    {
     "name": "stdout",
     "output_type": "stream",
     "text": [
      "236974.193725 236297.927059\n",
      "0.0233663631292 -0.040068351468\n",
      "-----\n",
      "227240.500521 236974.193725\n",
      "-0.00279058904687 0.0233663631292\n",
      "-----\n",
      "3.45598970056e+16 227240.500521\n",
      "-4.01969685251e+24 -0.00279058904687\n",
      "-----\n",
      "by y max\n",
      "3.07895956009e+15 6.17094415313e+17\n",
      "-3.31616047871e+22 -1.28961290076e+27\n",
      "-----\n",
      "2.68563796694e+17 3.07895956009e+15\n",
      "-2.39017741644e+26 -3.31616047871e+22\n",
      "-----\n",
      "by y to x norm max\n",
      "9.05529668625e+16 1.09310011984e+17\n",
      "-1.38987181384e+25 -4.35757426587e+25\n",
      "-----\n",
      "2.50928323297e+17 9.05529668625e+16\n",
      "-1.34765198912e+26 -1.38987181384e+25\n",
      "-----\n",
      "by x norm min\n",
      "2.06777832528e+17 6.13475768806e+15\n",
      "-1.44193007499e+26 -1.24866554525e+23\n",
      "-----\n",
      "by y min\n",
      "1.3022072384e+16 241455.192157\n",
      "-5.66640275985e+23 -0.0725710526467\n",
      "-----\n",
      "by y to x norm min\n",
      "228312.793268 3.58353692153e+16\n",
      "0.0319729681241 -4.81666966458e+24\n",
      "-----\n",
      "237314.689027 228312.793268\n",
      "0.0380180932591 0.0319729681241\n",
      "-----\n",
      "235592.813042 237314.689027\n",
      "0.0254123320219 0.0380180932591\n",
      "-----\n",
      "229134.070866 235592.813042\n",
      "-0.047876849493 0.0254123320219\n",
      "-----\n",
      "233649.804646 229134.070866\n",
      "-0.0387904749243 -0.047876849493\n",
      "-----\n",
      "5.49186035435e+15 233649.804646\n",
      "-1.05217054281e+23 -0.0387904749243\n",
      "-----\n",
      "mean_diff\n",
      "Before:\n",
      "(233083.01374015745, -0.034339126599556069)\n",
      "After:\n",
      "(133149.33587786258, -0.2898566285006583)\n",
      "by x norm max\n",
      "5.36896311787e+17 133149.335878\n",
      "-1.84409545764e+27 -0.289856628501\n",
      "-----\n",
      "by y max\n"
     ]
    },
    {
     "name": "stderr",
     "output_type": "stream",
     "text": [
      "/usr/local/lib/python2.7/dist-packages/sklearn/preprocessing/data.py:324: DeprecationWarning: Passing 1d arrays as data is deprecated in 0.17 and will raise ValueError in 0.19. Reshape your data either using X.reshape(-1, 1) if your data has a single feature or X.reshape(1, -1) if it contains a single sample.\n",
      "  warnings.warn(DEPRECATION_MSG_1D, DeprecationWarning)\n",
      "/usr/local/lib/python2.7/dist-packages/sklearn/preprocessing/data.py:359: DeprecationWarning: Passing 1d arrays as data is deprecated in 0.17 and will raise ValueError in 0.19. Reshape your data either using X.reshape(-1, 1) if your data has a single feature or X.reshape(1, -1) if it contains a single sample.\n",
      "  warnings.warn(DEPRECATION_MSG_1D, DeprecationWarning)\n"
     ]
    },
    {
     "name": "stdout",
     "output_type": "stream",
     "text": [
      "121042.175573 125855.717557\n",
      "-0.170047831277 -0.150186759115\n",
      "-----\n",
      "7.43035725299e+14 121042.175573\n",
      "-1.92250113486e+21 -0.170047831277\n",
      "-----\n",
      "by y to x norm max\n",
      "3.30633477052e+16 6.39724083894e+17\n",
      "-3.80663172868e+24 -2.250449188e+27\n",
      "-----\n",
      "120753.362595 3.30633477052e+16\n",
      "-0.154309938336 -3.80663172868e+24\n",
      "-----\n",
      "5.60771077429e+17 120753.362595\n",
      "-1.40723752432e+27 -0.154309938336\n",
      "-----\n",
      "by x norm min\n",
      "124230.653846 7.9036504409e+16\n",
      "-0.424219795909 -4.30118206996e+25\n",
      "-----\n",
      "1.33001904246e+17 124230.653846\n",
      "-9.52726709088e+25 -0.424219795909\n",
      "-----\n",
      "by y min\n",
      "130524.71256 1.58320880421e+17\n",
      "-0.400678470621 -1.11144573547e+26\n",
      "-----\n",
      "8.11138638831e+16 130524.71256\n",
      "-4.51090221547e+25 -0.400678470621\n",
      "-----\n",
      "by y to x norm min\n",
      "2.22549488754e+17 7.55641338326e+17\n",
      "-3.3445431807e+26 -3.64052194253e+27\n",
      "-----\n",
      "3.04381382449e+16 2.22549488754e+17\n",
      "-5.50857653487e+24 -3.3445431807e+26\n",
      "-----\n",
      "125031.691984 3.04381382449e+16\n",
      "-0.201716342913 -5.50857653487e+24\n",
      "-----\n",
      "1.56874766877e+17 125031.691984\n",
      "-7.8412473301e+25 -0.201716342913\n",
      "-----\n",
      "mean_diff\n",
      "Before:\n",
      "(5252271866588304.0, -9.880573668180966e+22)\n",
      "After:\n",
      "(4.2275242271411616e+17, -1.3289665443350483e+27)\n",
      "by x norm max\n"
     ]
    },
    {
     "name": "stderr",
     "output_type": "stream",
     "text": [
      "/usr/local/lib/python2.7/dist-packages/sklearn/preprocessing/data.py:324: DeprecationWarning: Passing 1d arrays as data is deprecated in 0.17 and will raise ValueError in 0.19. Reshape your data either using X.reshape(-1, 1) if your data has a single feature or X.reshape(1, -1) if it contains a single sample.\n",
      "  warnings.warn(DEPRECATION_MSG_1D, DeprecationWarning)\n",
      "/usr/local/lib/python2.7/dist-packages/sklearn/preprocessing/data.py:359: DeprecationWarning: Passing 1d arrays as data is deprecated in 0.17 and will raise ValueError in 0.19. Reshape your data either using X.reshape(-1, 1) if your data has a single feature or X.reshape(1, -1) if it contains a single sample.\n",
      "  warnings.warn(DEPRECATION_MSG_1D, DeprecationWarning)\n"
     ]
    },
    {
     "name": "stdout",
     "output_type": "stream",
     "text": [
      "9.47560872697e+16 5.25227186659e+15\n",
      "-2.79751242187e+25 -9.88057366818e+22\n",
      "-----\n",
      "by y max\n",
      "7.67727330811e+16 1.97046119995e+17\n",
      "-1.87798867509e+25 -1.39066825236e+26\n",
      "-----\n",
      "1.90733229899e+17 7.67727330811e+16\n",
      "-1.34786177263e+26 -1.87798867509e+25\n",
      "-----\n",
      "by y to x norm max\n",
      "1.96426519579e+17 133081.307692\n",
      "-1.29039034793e+26 -0.251325137243\n",
      "-----\n",
      "by x norm min\n",
      "4.23267796834e+17 132392.630769\n",
      "-1.16743104626e+27 -0.263103841634\n",
      "-----\n",
      "by y min\n",
      "1.31658474246e+16 123884.107692\n",
      "-1.16269981236e+24 -0.123789486655\n",
      "-----\n",
      "by y to x norm min\n",
      "1.67456351502e+16 133744.707692\n",
      "-1.88093252363e+24 -0.175892492859\n",
      "-----\n",
      "mean_diff\n",
      "Before:\n",
      "(129572.03076923077, -0.16535216270853659)\n",
      "After:\n",
      "(4.2275242271411616e+17, -1.3289665443350483e+27)\n",
      "by x norm max\n"
     ]
    },
    {
     "name": "stderr",
     "output_type": "stream",
     "text": [
      "/usr/local/lib/python2.7/dist-packages/sklearn/preprocessing/data.py:324: DeprecationWarning: Passing 1d arrays as data is deprecated in 0.17 and will raise ValueError in 0.19. Reshape your data either using X.reshape(-1, 1) if your data has a single feature or X.reshape(1, -1) if it contains a single sample.\n",
      "  warnings.warn(DEPRECATION_MSG_1D, DeprecationWarning)\n",
      "/usr/local/lib/python2.7/dist-packages/sklearn/preprocessing/data.py:359: DeprecationWarning: Passing 1d arrays as data is deprecated in 0.17 and will raise ValueError in 0.19. Reshape your data either using X.reshape(-1, 1) if your data has a single feature or X.reshape(1, -1) if it contains a single sample.\n",
      "  warnings.warn(DEPRECATION_MSG_1D, DeprecationWarning)\n"
     ]
    },
    {
     "name": "stdout",
     "output_type": "stream",
     "text": [
      "1.23742309806e+16 129572.030769\n",
      "-1.02708503982e+24 -0.165352162709\n",
      "-----\n",
      "by y max\n",
      "6.32257224184e+16 135582.907692\n",
      "-2.68137507023e+25 -0.220396137155\n",
      "-----\n",
      "by y to x norm max\n",
      "7.61229144336e+16 135705.092308\n",
      "-3.88687685322e+25 -0.189458524505\n",
      "-----\n",
      "by x norm min\n",
      "4.14061523842e+16 128729.984615\n",
      "-1.15000497421e+25 -0.0973446276049\n",
      "-----\n",
      "by y min\n",
      "3.98026133205e+16 128905.646154\n",
      "-1.0626570838e+25 -0.149184895927\n",
      "-----\n",
      "by y to x norm min\n",
      "4.12226903234e+16 125663.615385\n",
      "-1.13983668467e+25 -0.0935218274822\n",
      "-----\n",
      "mean_diff\n",
      "Before:\n",
      "(132950.96923076923, -0.18112020376763227)\n",
      "After:\n",
      "(4.2275242271411616e+17, -1.3289665443350483e+27)\n"
     ]
    },
    {
     "name": "stderr",
     "output_type": "stream",
     "text": [
      "/usr/local/lib/python2.7/dist-packages/sklearn/preprocessing/data.py:324: DeprecationWarning: Passing 1d arrays as data is deprecated in 0.17 and will raise ValueError in 0.19. Reshape your data either using X.reshape(-1, 1) if your data has a single feature or X.reshape(1, -1) if it contains a single sample.\n",
      "  warnings.warn(DEPRECATION_MSG_1D, DeprecationWarning)\n",
      "/usr/local/lib/python2.7/dist-packages/sklearn/preprocessing/data.py:359: DeprecationWarning: Passing 1d arrays as data is deprecated in 0.17 and will raise ValueError in 0.19. Reshape your data either using X.reshape(-1, 1) if your data has a single feature or X.reshape(1, -1) if it contains a single sample.\n",
      "  warnings.warn(DEPRECATION_MSG_1D, DeprecationWarning)\n"
     ]
    }
   ],
   "source": [
    "l = 1\n",
    "while l!=len(blagovest_data_2):\n",
    "    l = len(blagovest_data_2)\n",
    "    print \"by x norm max\"\n",
    "    blagovest_data_2 = cut_data_by(blagovest_data_2, get_ind_by_x_norm, True)\n",
    "    print \"by y max\"\n",
    "    blagovest_data_2 = cut_data_by(blagovest_data_2, get_ind_by_y, True)\n",
    "    print \"by y to x norm max\"\n",
    "    blagovest_data_2 = cut_data_by(blagovest_data_2, get_ind_by_y_to_x_norm, True)\n",
    "    print \"by x norm min\"\n",
    "    blagovest_data_2 = cut_data_by(blagovest_data_2, get_ind_by_x_norm, False)\n",
    "    print \"by y min\"\n",
    "    blagovest_data_2 = cut_data_by(blagovest_data_2, get_ind_by_y, False)\n",
    "    print \"by y to x norm min\"\n",
    "    blagovest_data_2 = cut_data_by(blagovest_data_2, get_ind_by_y_to_x_norm, False)\n",
    "    print \"mean_diff\"\n",
    "    blagovest_data_2 = mean_diff(blagovest_data_2, normalize = True)"
   ]
  },
  {
   "cell_type": "markdown",
   "metadata": {},
   "source": [
    "## Saving and loading coefs"
   ]
  },
  {
   "cell_type": "code",
   "execution_count": null,
   "metadata": {
    "collapsed": true
   },
   "outputs": [],
   "source": [
    "coefs = map(lambda x: round(x, 4), regr.coef_)\n",
    "f = zip(coefs, FEATURES)\n",
    "print coefs"
   ]
  },
  {
   "cell_type": "code",
   "execution_count": null,
   "metadata": {
    "collapsed": true
   },
   "outputs": [],
   "source": [
    "import pickle\n",
    "with open('filtered_mixed_coefs_district_square_required.json', 'w') as outfile:\n",
    "    pickle.dump(coefs, outfile)"
   ]
  },
  {
   "cell_type": "code",
   "execution_count": null,
   "metadata": {
    "collapsed": true
   },
   "outputs": [],
   "source": [
    "import pickle\n",
    "with open('filtered_mixed_coefs_district_square_required.json', 'r') as infile:\n",
    "    c = pickle.load(infile)"
   ]
  },
  {
   "cell_type": "markdown",
   "metadata": {},
   "source": [
    "## Save data"
   ]
  },
  {
   "cell_type": "code",
   "execution_count": null,
   "metadata": {
    "collapsed": true
   },
   "outputs": [],
   "source": [
    "with open('metrovka_flats_metro.json', 'w') as outfile:\n",
    "    json.dump(metrovka_data, outfile)\n",
    "#json.dumps(data_2[0:1])"
   ]
  }
 ],
 "metadata": {
  "kernelspec": {
   "display_name": "Python 2",
   "language": "python",
   "name": "python2"
  },
  "language_info": {
   "codemirror_mode": {
    "name": "ipython",
    "version": 2
   },
   "file_extension": ".py",
   "mimetype": "text/x-python",
   "name": "python",
   "nbconvert_exporter": "python",
   "pygments_lexer": "ipython2",
   "version": "2.7.6"
  }
 },
 "nbformat": 4,
 "nbformat_minor": 0
}
