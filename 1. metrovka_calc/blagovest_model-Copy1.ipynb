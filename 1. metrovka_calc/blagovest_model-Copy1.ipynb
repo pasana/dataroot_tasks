{
 "cells": [
  {
   "cell_type": "markdown",
   "metadata": {},
   "source": [
    "# NB.\n",
    "Сначала все ячейки до первой модели, потом начиная с обязательности полей и по \"one by one\", а потом возврат к первой модели."
   ]
  },
  {
   "cell_type": "code",
   "execution_count": 39,
   "metadata": {
    "collapsed": false
   },
   "outputs": [],
   "source": [
    "import xml.etree.ElementTree as ET\n",
    "import matplotlib.pyplot as plt\n",
    "import numpy as np\n",
    "from sklearn import datasets, linear_model\n",
    "from sklearn import preprocessing\n",
    "from sklearn import cross_validation\n",
    "from sklearn.feature_selection import VarianceThreshold\n",
    "\n",
    "USD = 24.5\n",
    "EUR =  26.9\n",
    "\n",
    "DETAILS = [\n",
    "    'SqrTotal', \n",
    "    'NFloors',\n",
    "#    'NRooms', \n",
    "#    'Floor',\n",
    "#    'SqrLive', \n",
    "#    'SqrKitchen'\n",
    "]"
   ]
  },
  {
   "cell_type": "code",
   "execution_count": 2,
   "metadata": {
    "collapsed": true
   },
   "outputs": [],
   "source": [
    "ADMIN_REGION = [\n",
    "# '1000001',\n",
    " '1002241',\n",
    " '1002242',\n",
    " '1002243',\n",
    " '1002246',\n",
    " '1002247',\n",
    " '1002248',\n",
    " '1002249',\n",
    " '1002250',\n",
    " '1002253',\n",
    " '1003198',\n",
    " ]"
   ]
  },
  {
   "cell_type": "code",
   "execution_count": 3,
   "metadata": {
    "collapsed": true
   },
   "outputs": [],
   "source": [
    "MASS_REGION = ['1000000',\n",
    " '1000002',\n",
    " '1000003',\n",
    " '1000005',\n",
    " '1000007',\n",
    " '1000008',\n",
    " '1000009',\n",
    " '1000010',\n",
    " '1000011',\n",
    " '1000012',\n",
    " '1000013',\n",
    " '1000014',\n",
    " '1000015',\n",
    " '1000016',\n",
    " '1000017',\n",
    " '1002254',\n",
    " '1002255',\n",
    " '1002256',\n",
    " '1002307',\n",
    " '1002308',\n",
    " '1002379',\n",
    " '1002380',\n",
    " '1002381',\n",
    " '1002382',\n",
    " '1002396',\n",
    " '1002478',\n",
    " '1002497',\n",
    " '1002537',\n",
    " '1002558',\n",
    " '1002559',\n",
    " '1002773',\n",
    " '1002852',\n",
    " '1002853',\n",
    " '1002854',\n",
    " '1002855',\n",
    " '1003012',\n",
    " '1003023',\n",
    " '1003091',\n",
    " '1003092',\n",
    " '1003094',\n",
    " '1003199',\n",
    " '1003200',\n",
    " '1003201',\n",
    " '1003202',\n",
    " '1003203',\n",
    " '1003326',\n",
    " '1003327',\n",
    " '1003437',\n",
    " '1003438',\n",
    " '1003439',\n",
    " '1003441',\n",
    " '1003503',\n",
    " '1003504',\n",
    " '1003505',\n",
    " '1003506',\n",
    " '1003705',\n",
    " '1003706',\n",
    " '1003708',\n",
    " '1003709',\n",
    " '1003711',\n",
    " '1003712',\n",
    " '1003713',\n",
    " '1003737',\n",
    " '1003748',\n",
    " '1003753',\n",
    " '1003754',\n",
    " '201326594',\n",
    " '201326596',\n",
    " '201326597',\n",
    " '201326598',\n",
    " '201326599',\n",
    " '201326600',\n",
    " '201326601',\n",
    " '201326602',\n",
    " '201326603',\n",
    " '201326604',\n",
    " '201326605',\n",
    " '201326606',\n",
    " '201326607',\n",
    " '201326608',\n",
    " '201326610',\n",
    " '201326611',\n",
    " '201326612',\n",
    " '201326613',\n",
    " '201326614',\n",
    " '201326615',\n",
    " '201326616',\n",
    " '201326617',\n",
    " '201326618',\n",
    " '201326619',\n",
    " '201326621',\n",
    " '385875969',\n",
    " '385875970',\n",
    " '385875971',\n",
    " '385876140',\n",
    " '385876141',\n",
    " '385876142',\n",
    " '385876143',\n",
    " '385876144',\n",
    " '385876145',\n",
    " '385876146',\n",
    " '385876147',\n",
    " '385876148',\n",
    " '385876149',\n",
    " '385876158',\n",
    " '385876159',\n",
    " '419430401',\n",
    " '419430402']"
   ]
  },
  {
   "cell_type": "code",
   "execution_count": 4,
   "metadata": {
    "collapsed": true
   },
   "outputs": [],
   "source": [
    "BIULD_TYPE = [\n",
    " '5039',\n",
    " '5040',\n",
    " '5041',\n",
    " '5042',\n",
    " '5044',\n",
    " '5045',\n",
    " '5048',\n",
    " '5053',\n",
    " '5055',\n",
    " '5061',\n",
    " '5063',\n",
    " '5064',\n",
    " '5065',\n",
    " '5066',\n",
    " '5067',\n",
    " '5069',\n",
    " '5070',\n",
    " '20451',\n",
    " '20452',\n",
    " '20485',\n",
    " '20492',\n",
    " '21486',\n",
    " '21737',\n",
    " '21777',\n",
    " '21778',\n",
    " '16797715',\n",
    " '16797718',\n",
    " '201326911',\n",
    " '201326915',\n",
    " '201326916',\n",
    " '201326917',\n",
    " '201326918',\n",
    " '201326919',\n",
    " '201326920',\n",
    " '385876155']"
   ]
  },
  {
   "cell_type": "code",
   "execution_count": 5,
   "metadata": {
    "collapsed": true
   },
   "outputs": [],
   "source": [
    "ROOMS_TYPE = ['213', '10200', '10201', '10202']\n",
    "CEIL_KIND = ['5109', '5110', '5111']\n",
    "BIULD_KIND = [\n",
    " '5094',\n",
    " '5095',\n",
    " '5096',\n",
    " '5097',\n",
    " '5098',\n",
    " '5099',\n",
    " '5100',\n",
    " '5101',\n",
    " '20528',\n",
    " '20629',\n",
    " '20647',\n",
    " '20812',\n",
    " '20813',\n",
    " '21594',\n",
    " '16877220',\n",
    " '385875982',\n",
    " '385875985']"
   ]
  },
  {
   "cell_type": "code",
   "execution_count": 6,
   "metadata": {
    "collapsed": false
   },
   "outputs": [],
   "source": [
    "NOMINAL_DETAILS = [\n",
    "    ('RegionCode', ADMIN_REGION),\n",
    "#    ('Massive', MASS_REGION),\n",
    "#    ('BldType', BIULD_TYPE),\n",
    "#    ('TypeRooms', ROOMS_TYPE),\n",
    "#    ('CeilKind', CEIL_KIND),\n",
    "#    ('BldKind', BIULD_KIND)\n",
    "                  ]"
   ]
  },
  {
   "cell_type": "code",
   "execution_count": 7,
   "metadata": {
    "collapsed": false
   },
   "outputs": [],
   "source": [
    "BOOL_DETAILS = [\n",
    "#    'Parking', 'Garage'\n",
    "]"
   ]
  },
  {
   "cell_type": "code",
   "execution_count": 56,
   "metadata": {
    "collapsed": false
   },
   "outputs": [],
   "source": [
    "FEATURES = DETAILS + [\"first/last floor\"] +sum([i[1] for i in NOMINAL_DETAILS],[]) + BOOL_DETAILS"
   ]
  },
  {
   "cell_type": "code",
   "execution_count": null,
   "metadata": {
    "collapsed": true
   },
   "outputs": [],
   "source": []
  },
  {
   "cell_type": "code",
   "execution_count": 9,
   "metadata": {
    "collapsed": true
   },
   "outputs": [],
   "source": [
    "def nominal_vector(name, VALUES):\n",
    "    vec = [0]*len(VALUES)\n",
    "    try:\n",
    "        vec[VALUES.index(name)] = 1\n",
    "    except:\n",
    "        pass\n",
    "    return vec"
   ]
  },
  {
   "cell_type": "code",
   "execution_count": 63,
   "metadata": {
    "collapsed": false
   },
   "outputs": [],
   "source": [
    "def extract_data(flat):\n",
    "    X = []\n",
    "#    X += [float(flat['SqrTotal'])/int(flat['NRooms'])]\n",
    "    for d in DETAILS:\n",
    "        try:\n",
    "            X += [float(flat[d])]\n",
    "        except:\n",
    "            X += [0]\n",
    "#    if flat['Floor']=='1' or flat['Floor']==flat['NFloors']:\n",
    "#        X+=[1]\n",
    "#    else:\n",
    "#        X+=[0]\n",
    "    for n in NOMINAL_DETAILS:\n",
    "        try:\n",
    "            X += nominal_vector(flat[n[0]],n[1])\n",
    "        except KeyError:\n",
    "            X += [0] * len(n[1])\n",
    "    for b in BOOL_DETAILS:\n",
    "        try:\n",
    "            X += [int(flat[b])]\n",
    "        except:\n",
    "            X += [0]    \n",
    "    y=0\n",
    "    try:\n",
    "        y = float(flat['Price'])\n",
    "    except:\n",
    "        print \"price problem\"\n",
    "        print flat\n",
    "    try:\n",
    "        if flat['PriceCurrencyID'] == '4':\n",
    "            y *= USD\n",
    "        if flat['PriceCurrencyID'] == '5':\n",
    "            y *= EUR\n",
    "    except:\n",
    "        pass\n",
    "    return [X, y]"
   ]
  },
  {
   "cell_type": "code",
   "execution_count": 11,
   "metadata": {
    "collapsed": true
   },
   "outputs": [],
   "source": [
    "def process_with(X,y, info=False, short=False, return_short = False, new_coef = []):\n",
    "    train_X, test_X, train_y, test_y = cross_validation.train_test_split(X, y, test_size = 0.18, random_state = 3)\n",
    "    regr = linear_model.LinearRegression(normalize=False, fit_intercept=False)\n",
    "    if new_coef != []:\n",
    "        print \"new coefs\"\n",
    "        regr.coef_ = new_coef\n",
    "    regr.fit(train_X, train_y)\n",
    "    if info:\n",
    "        print \"Total: %d, train: %d, test: %d\" %(len(X), len(train_X), len(test_X))\n",
    "        print(\"Residual sum of squares: %.2f\"% np.mean((regr.predict(test_X) - test_y) ** 2))\n",
    "        print(\"Train absolute: %.2f\"% np.mean(abs(regr.predict(train_X) - train_y)))\n",
    "        print(\"Test absolute: %.2f\"% np.mean(abs(regr.predict(test_X) - test_y)))\n",
    "        print(\"Absolute to mean: %.2f%%\"% (np.mean(abs(regr.predict(test_X) - test_y))/np.mean(test_y)*100))\n",
    "        print('Train variance score: %.2f' % regr.score(train_X, train_y))\n",
    "        print('Test variance score: %.2f' % regr.score(test_X, test_y))\n",
    "    if short:\n",
    "        print np.mean(abs(regr.predict(test_X) - test_y)),regr.score(test_X, test_y)\n",
    "    if return_short:\n",
    "        return np.mean(abs(regr.predict(test_X) - test_y)),regr.score(test_X, test_y)\n",
    "    return regr"
   ]
  },
  {
   "cell_type": "code",
   "execution_count": 12,
   "metadata": {
    "collapsed": true
   },
   "outputs": [],
   "source": [
    "#remove data without price\n",
    "#field - str, data - list of dicts\n",
    "def remove_with_no(field, t_data):\n",
    "    c = 1\n",
    "    while c!=0:\n",
    "        c=0\n",
    "        for d in t_data:\n",
    "            try:\n",
    "                d[field]\n",
    "            except:\n",
    "                #print d\n",
    "                c+=1\n",
    "                t_data.remove(d)\n",
    "        print c\n",
    "    return t_data"
   ]
  },
  {
   "cell_type": "code",
   "execution_count": 13,
   "metadata": {
    "collapsed": false
   },
   "outputs": [],
   "source": [
    "def get_X_y_from(t_data):\n",
    "    t_cleaned_data = [extract_data(i) for i in t_data]\n",
    "    X = np.array([i[0] for i in t_cleaned_data])\n",
    "    y = np.array([i[1] for i in t_cleaned_data])\n",
    "    return X,y"
   ]
  },
  {
   "cell_type": "markdown",
   "metadata": {},
   "source": [
    "## Load data & clean data"
   ]
  },
  {
   "cell_type": "code",
   "execution_count": 14,
   "metadata": {
    "collapsed": false
   },
   "outputs": [],
   "source": [
    "tree = ET.parse('./blagovest/Objects.xml')\n",
    "root = tree.getroot()"
   ]
  },
  {
   "cell_type": "code",
   "execution_count": 44,
   "metadata": {
    "collapsed": true
   },
   "outputs": [],
   "source": [
    "blagovest_data_1 = root.findall('./Object/[@TownCode=\"300000\"][@Transaction=\"Rent\"][@ObjectType=\"Apartment\"]')\n",
    "blagovest_data_2 = root.findall('./Object/[@TownCode=\"300000\"][@Transaction=\"Sale\"][@ObjectType=\"Apartment\"]')\n",
    "blagovest_data_1 = [b.attrib for b in blagovest_data_1]\n",
    "blagovest_data_2 = [b.attrib for b in blagovest_data_2]"
   ]
  },
  {
   "cell_type": "code",
   "execution_count": null,
   "metadata": {
    "collapsed": false
   },
   "outputs": [],
   "source": [
    "x=[[]]\n",
    "for r_code in ADMIN_REGION:\n",
    "    counts = {'1': 0, '2': 0, '3': 0, '4+': 0}\n",
    "    ads = [i for i in blagovest_data_2 if i['RegionCode']==r_code]\n",
    "    for child in ads:\n",
    "        try:\n",
    "            counts[child['NRooms']]+=1\n",
    "            x[-1]+=[int(child['NRooms'])]\n",
    "        except:\n",
    "            counts['4+']+=1\n",
    "            x[-1]+=[4]\n",
    "    print \"%s \\t %d %d %d %d\" %(r_code, counts['1'],counts['2'],counts['3'],counts['4+'])"
   ]
  },
  {
   "cell_type": "code",
   "execution_count": 45,
   "metadata": {
    "collapsed": false
   },
   "outputs": [
    {
     "name": "stdout",
     "output_type": "stream",
     "text": [
      "0\n",
      "64\n",
      "4\n",
      "0\n",
      "0\n",
      "0\n"
     ]
    }
   ],
   "source": [
    "blagovest_data_1 = remove_with_no('Price', blagovest_data_1)\n",
    "blagovest_data_1 = remove_with_no('SqrTotal', blagovest_data_1)\n",
    "blagovest_data_1 = remove_with_no('NFloors', blagovest_data_1)\n",
    "#blagovest_data_1 = remove_with_no('NRooms', blagovest_data_1)\n",
    "#blagovest_data_1 = remove_with_no('Floor', blagovest_data_1)\n",
    "#blagovest_data_1 = remove_with_no('SqrLive', blagovest_data_1)\n",
    "#blagovest_data_1 = remove_with_no('SqrKitchen', blagovest_data_1)\n",
    "blagovest_data_1 = remove_with_no('RegionCode', blagovest_data_1)\n",
    "#blagovest_data_1 = remove_with_no('Massive', blagovest_data_1)\n",
    "#blagovest_data_1 = remove_with_no('BldType', blagovest_data_1)\n",
    "#blagovest_data_1 = remove_with_no('TypeRooms', blagovest_data_1)\n",
    "#blagovest_data_1 = remove_with_no('CeilKind', blagovest_data_1)\n",
    "#blagovest_data_1 = remove_with_no('BldKind', blagovest_data_1)\n",
    "#blagovest_data_1 = remove_with_no('Parking', blagovest_data_1)\n",
    "#blagovest_data_1 = remove_with_no('Garage', blagovest_data_1)"
   ]
  },
  {
   "cell_type": "code",
   "execution_count": null,
   "metadata": {
    "collapsed": false,
    "scrolled": true
   },
   "outputs": [],
   "source": [
    "blagovest_data_2 = remove_with_no('Price', blagovest_data_2)\n",
    "blagovest_data_2 = remove_with_no('SqrTotal', blagovest_data_2)\n",
    "blagovest_data_2 = remove_with_no('NFloors', blagovest_data_2)\n",
    "blagovest_data_2 = remove_with_no('NRooms', blagovest_data_2)\n",
    "blagovest_data_2 = remove_with_no('Floor', blagovest_data_2)\n",
    "#blagovest_data_2 = remove_with_no('BldType', blagovest_data_2)\n",
    "#blagovest_data_2 = remove_with_no('SqrLive', blagovest_data_2)\n",
    "#blagovest_data_2 = remove_with_no('SqrKitchen', blagovest_data_2)\n",
    "blagovest_data_2 = remove_with_no('RegionCode', blagovest_data_2)\n",
    "#blagovest_data_2 = remove_with_no('Massive', blagovest_data_2)\n",
    "#blagovest_data_2 = remove_with_no('BldType', blagovest_data_2)\n",
    "#blagovest_data_2 = remove_with_no('TypeRooms', blagovest_data_2)\n",
    "#blagovest_data_2 = remove_with_no('CeilKind', blagovest_data_2)\n",
    "#blagovest_data_2 = remove_with_no('BldKind', blagovest_data_2)"
   ]
  },
  {
   "cell_type": "markdown",
   "metadata": {},
   "source": [
    "## First models"
   ]
  },
  {
   "cell_type": "code",
   "execution_count": 64,
   "metadata": {
    "collapsed": false
   },
   "outputs": [],
   "source": [
    "blagovest_X_1, blagovest_y_1 = get_X_y_from(blagovest_data_1)"
   ]
  },
  {
   "cell_type": "code",
   "execution_count": 53,
   "metadata": {
    "collapsed": false
   },
   "outputs": [
    {
     "name": "stdout",
     "output_type": "stream",
     "text": [
      "71.0\n",
      "2154\n"
     ]
    }
   ],
   "source": [
    "print sum([i[3] for i in blagovest_X_1])\n",
    "print len(blagovest_X_1)"
   ]
  },
  {
   "cell_type": "code",
   "execution_count": 66,
   "metadata": {
    "collapsed": false
   },
   "outputs": [
    {
     "name": "stdout",
     "output_type": "stream",
     "text": [
      "4\n",
      "4\n",
      "[ 70.   4.   0.   0.   0.   0.   0.   1.   0.   0.   0.   0.] 17000.0 [ 15651.51997627]\n"
     ]
    },
    {
     "name": "stderr",
     "output_type": "stream",
     "text": [
      "/usr/local/lib/python2.7/dist-packages/sklearn/utils/validation.py:386: DeprecationWarning: Passing 1d arrays as data is deprecated in 0.17 and willraise ValueError in 0.19. Reshape your data either using X.reshape(-1, 1) if your data has a single feature or X.reshape(1, -1) if it contains a single sample.\n",
      "  DeprecationWarning)\n"
     ]
    }
   ],
   "source": [
    "i=34\n",
    "print blagovest_data_1[i]['Floor']\n",
    "print blagovest_data_1[i]['NFloors']\n",
    "print blagovest_X_1[i], blagovest_y_1[i], regr.predict(blagovest_X_1[i])"
   ]
  },
  {
   "cell_type": "code",
   "execution_count": 65,
   "metadata": {
    "collapsed": false
   },
   "outputs": [
    {
     "name": "stdout",
     "output_type": "stream",
     "text": [
      "Total: 2154, train: 1766, test: 388\n",
      "Residual sum of squares: 18961739.97\n",
      "Train absolute: 3689.60\n",
      "Test absolute: 3636.90\n",
      "Absolute to mean: 23.50%\n",
      "Train variance score: 0.33\n",
      "Test variance score: 0.37\n"
     ]
    }
   ],
   "source": [
    "regr = process_with(blagovest_X_1, blagovest_y_1, info=True)"
   ]
  },
  {
   "cell_type": "code",
   "execution_count": null,
   "metadata": {
    "collapsed": false
   },
   "outputs": [],
   "source": [
    "blagovest_X_2, blagovest_y_2 = get_X_y_from(blagovest_data_2)"
   ]
  },
  {
   "cell_type": "code",
   "execution_count": null,
   "metadata": {
    "collapsed": false
   },
   "outputs": [],
   "source": [
    "print blagovest_X_2[0], blagovest_y_2[0]"
   ]
  },
  {
   "cell_type": "code",
   "execution_count": null,
   "metadata": {
    "collapsed": false
   },
   "outputs": [],
   "source": [
    "regr = process_with(blagovest_X_2, blagovest_y_2, info=True)"
   ]
  },
  {
   "cell_type": "code",
   "execution_count": 57,
   "metadata": {
    "collapsed": false
   },
   "outputs": [
    {
     "name": "stdout",
     "output_type": "stream",
     "text": [
      "Features sorted by their score:\n",
      "0.0\n",
      "13\n",
      "101.00 \t SqrTotal\n",
      "39.67 \t NFloors\n",
      "-377.46 \t first/last floor\n",
      "5303.74 \t 1002241\n",
      "5404.67 \t 1002242\n",
      "6170.05 \t 1002243\n",
      "7451.15 \t 1002246\n",
      "7882.43 \t 1002247\n",
      "8533.65 \t 1002248\n",
      "11329.05 \t 1002249\n",
      "8339.75 \t 1002250\n",
      "10384.94 \t 1002253\n",
      "5256.99 \t 1003198\n"
     ]
    }
   ],
   "source": [
    "print \"Features sorted by their score:\"\n",
    "#f = sorted(zip(map(lambda x: round(x, 4), regr.coef_), FEATURES), reverse=True)\n",
    "f = zip(map(lambda x: round(x, 4), regr.coef_), FEATURES)\n",
    "print regr.intercept_\n",
    "print len(FEATURES)\n",
    "for i in f:\n",
    "    print \"%4.2f \\t %s\" %(i[0], i[1])"
   ]
  },
  {
   "cell_type": "code",
   "execution_count": 50,
   "metadata": {
    "collapsed": false
   },
   "outputs": [
    {
     "name": "stdout",
     "output_type": "stream",
     "text": [
      "1002241 \t  3 23 41 34  3\n",
      "1002242 \t 11 19 42 33  6\n",
      "1002243 \t  9 25 42 27  6\n",
      "1002246 \t 12 22 41 33  4\n",
      "1002247 \t  7 19 33 41  7\n",
      "1002248 \t 12 24 43 30  3\n",
      "1002249 \t 15 13 56 26  5\n",
      "1002250 \t  4 18 45 33  3\n",
      "1002253 \t 18 16 50 29  4\n",
      "1003198 \t  9 20 34 39  7\n"
     ]
    }
   ],
   "source": [
    "x=[[]]\n",
    "for r_code in ADMIN_REGION:\n",
    "    counts = {'1': 0, '2': 0, '3': 0, '4+': 0}\n",
    "    ads = [i for i in blagovest_data_1 if i['RegionCode']==r_code]\n",
    "    for child in ads:\n",
    "        try:\n",
    "            counts[child['NRooms']]+=1\n",
    "        except:\n",
    "            counts['4+']+=1\n",
    "    print \"%s \\t %2.f %2.f %2.f %2.f %2.f\" %(r_code, \n",
    "                                100*sum(counts.values())/float(len(blagovest_data_1)), \n",
    "                                counts['1']*100.0/sum(counts.values()),\n",
    "                                counts['2']*100.0/sum(counts.values()),\n",
    "                                counts['3']*100.0/sum(counts.values()),\n",
    "                                counts['4+']*100.0/sum(counts.values()))"
   ]
  },
  {
   "cell_type": "markdown",
   "metadata": {},
   "source": [
    "## Plots"
   ]
  },
  {
   "cell_type": "code",
   "execution_count": 67,
   "metadata": {
    "collapsed": true
   },
   "outputs": [],
   "source": [
    "plt.scatter([np.linalg.norm(i) for i in blagovest_X_1], blagovest_y_1, color='black')\n",
    "plt.xticks(())\n",
    "plt.yticks(())\n",
    "plt.show()"
   ]
  },
  {
   "cell_type": "markdown",
   "metadata": {},
   "source": [
    "## Making some fields requiered"
   ]
  },
  {
   "cell_type": "code",
   "execution_count": null,
   "metadata": {
    "collapsed": true
   },
   "outputs": [],
   "source": [
    "#remove_data_with_no_district_in_X\n",
    "#[0:4], [4:15]\n",
    "def make_field_required(t_data):\n",
    "    ind = []\n",
    "    X = get_X_y_from(t_data)[0]\n",
    "    print \"Elements: %d\" % len(X)\n",
    "    for i, x in enumerate(X):\n",
    "        if np.count_nonzero(x[1:])==0:\n",
    "            ind += [i]\n",
    "    print \"Deleted: %d\" % len(ind)\n",
    "    ind = sorted(ind, reverse=True)\n",
    "    for i in ind:\n",
    "        t=t_data.pop(i)\n",
    "    return t_data"
   ]
  },
  {
   "cell_type": "code",
   "execution_count": null,
   "metadata": {
    "collapsed": false
   },
   "outputs": [],
   "source": [
    "blagovest_data_1=make_field_required(blagovest_data_1)"
   ]
  },
  {
   "cell_type": "code",
   "execution_count": null,
   "metadata": {
    "collapsed": false,
    "scrolled": true
   },
   "outputs": [],
   "source": [
    "metrovka_data_2=make_field_required(metrovka_data_2)"
   ]
  },
  {
   "cell_type": "markdown",
   "metadata": {},
   "source": [
    "## Delete data with big diffs"
   ]
  },
  {
   "cell_type": "code",
   "execution_count": 19,
   "metadata": {
    "collapsed": true
   },
   "outputs": [],
   "source": [
    "def mean_diff(t_data, normalize = True, plots = True, info=True):\n",
    "    X, y = get_X_y_from(t_data)\n",
    "    print \"Before:\"\n",
    "    before = process_with(X, y, return_short=True)\n",
    "    print before\n",
    "    \n",
    "    if normalize:\n",
    "        min_max_scaler = preprocessing.MinMaxScaler()\n",
    "        X = min_max_scaler.fit_transform(X)\n",
    "        y = min_max_scaler.fit_transform(y)\n",
    "    \n",
    "    pts = np.float32(zip(map(lambda x: np.linalg.norm(x), X),y))\n",
    "    \n",
    "    mean_pt = np.mean(pts,axis=0)\n",
    "    mean_x,mean_y = mean_pt\n",
    "    diffs = np.apply_along_axis(np.linalg.norm,1,pts - mean_pt)\n",
    "    mean_diff = np.mean(diffs)\n",
    "\n",
    "    filtered = np.float32([pts[i] for i,diff in enumerate(diffs) if diff <= 2*mean_diff])\n",
    "    filtered_mean = np.mean(filtered,axis=0)\n",
    "    \n",
    "    t_data_f = [t_data[i] for i,diff in enumerate(diffs) if diff <= 2*mean_diff]\n",
    "    X_f, y_f = get_X_y_from(t_data_f)\n",
    "    print \"After:\"\n",
    "    after = process_with(X_f,y_f, return_short=True)\n",
    "    print after\n",
    "    \n",
    "#    plt.plot(pts[:,0],pts[:,1],'ro')\n",
    "#    plt.plot(mean_x,mean_y,'w^')\n",
    "#    plt.plot(filtered[:,0],filtered[:,1],'bo')\n",
    "#    plt.plot(filtered_mean[0],filtered_mean[1],'w^')\n",
    "#    plt.show()\n",
    "    if after[1] > before[1] or after[0] < before[0]:\n",
    "        return t_data_f\n",
    "    return t_data"
   ]
  },
  {
   "cell_type": "markdown",
   "metadata": {},
   "source": [
    "## Delete \"outlaws\""
   ]
  },
  {
   "cell_type": "code",
   "execution_count": 20,
   "metadata": {
    "collapsed": true
   },
   "outputs": [],
   "source": [
    "def get_ind_by_y(X, y, ind_max = True):\n",
    "    if ind_max:\n",
    "        return np.argmax(y)\n",
    "    else:\n",
    "        return np.argmin(y)"
   ]
  },
  {
   "cell_type": "code",
   "execution_count": 21,
   "metadata": {
    "collapsed": true
   },
   "outputs": [],
   "source": [
    "def get_ind_by_x_norm(X, y, ind_max=True):\n",
    "    norms = [np.linalg.norm(i) for i in X]\n",
    "    #sorted_norm = [np.linalg.norm(i) for i in X]\n",
    "    #sorted_norm.sort()\n",
    "    if ind_max:\n",
    "        #ind = norms.index(sorted_norm[-1])\n",
    "        ind = norms.index(max(norms))\n",
    "    else:\n",
    "        #ind = norms.index(sorted_norm[1])\n",
    "        ind = norms.index(min(norms))\n",
    "    return ind"
   ]
  },
  {
   "cell_type": "code",
   "execution_count": 22,
   "metadata": {
    "collapsed": true
   },
   "outputs": [],
   "source": [
    "def get_ind_by_y_to_x_norm(X, y, ind_max=True):\n",
    "    y_to_norm_x = [y[i]/np.linalg.norm(X[i]) for i in range(0,len(X))]\n",
    "    if ind_max:\n",
    "        return np.argmax(y_to_norm_x)\n",
    "    else:\n",
    "        return np.argmin(y_to_norm_x)"
   ]
  },
  {
   "cell_type": "code",
   "execution_count": 23,
   "metadata": {
    "collapsed": true
   },
   "outputs": [],
   "source": [
    "def cut_data_by(t_data, get_ind_cut_function, ind_max_flag=True):\n",
    "    previous_sum = -100000 #10**32\n",
    "    previous_score = -1000000 #-10**32\n",
    "    X, y = get_X_y_from(t_data)\n",
    "    [current_sum, current_score] = process_with(X, y, return_short=True)\n",
    "    temp={}\n",
    "    while current_score > previous_score or current_sum < previous_sum:\n",
    "        previous_score = current_score\n",
    "        previous_sum = current_sum\n",
    "\n",
    "        inx = get_ind_cut_function(X, y,ind_max=ind_max_flag)\n",
    "        #print t_data[norms.index(sorted_norm[-1])]['code'], sorted_norm[-1]\n",
    "        temp = t_data.pop(inx)\n",
    "        \n",
    "        X, y = get_X_y_from(t_data)\n",
    "        [current_sum, current_score] = process_with(X, y, return_short=True)\n",
    "        \n",
    "        print current_sum, previous_sum\n",
    "        print current_score, previous_score\n",
    "        print \"-----\"\n",
    "    if temp != {}:\n",
    "        t_data+=[temp]\n",
    "    return t_data"
   ]
  },
  {
   "cell_type": "markdown",
   "metadata": {},
   "source": [
    "## One by one"
   ]
  },
  {
   "cell_type": "code",
   "execution_count": 46,
   "metadata": {
    "collapsed": false,
    "scrolled": true
   },
   "outputs": [
    {
     "name": "stdout",
     "output_type": "stream",
     "text": [
      "by x norm max\n",
      "13808.9668882 13843.2648202\n",
      "0.460160038813 0.526794524703\n",
      "-----\n",
      "13288.2586169 13808.9668882\n",
      "0.56894758614 0.460160038813\n",
      "-----\n",
      "14034.2061261 13288.2586169\n",
      "0.355357130512 0.56894758614\n",
      "-----\n",
      "by y max\n",
      "14177.9686245 13675.3559585\n",
      "0.382810264268 0.483090460915\n",
      "-----\n",
      "by y to x norm max\n",
      "14177.9686245 13785.3241866\n",
      "0.382810264268 0.502229223166\n",
      "-----\n",
      "by x norm min\n",
      "14294.3476944 13785.3241866\n",
      "0.383344549433 0.502229223166\n",
      "-----\n",
      "by y min\n",
      "12865.8817405 13615.7849613\n",
      "0.565623407514 0.509679055764\n",
      "-----\n",
      "13999.44375 12865.8817405\n",
      "0.449737300609 0.565623407514\n",
      "-----\n",
      "by y to x norm min\n",
      "13796.5954646 13306.9739895\n",
      "0.441347318067 0.585545897364\n",
      "-----\n",
      "mean_diff\n",
      "Before:\n",
      "(13956.360775022491, 0.58255060374093215)\n",
      "After:\n",
      "(10293.497578782146, 0.55595285996870003)\n",
      "by x norm max\n"
     ]
    },
    {
     "name": "stderr",
     "output_type": "stream",
     "text": [
      "/usr/local/lib/python2.7/dist-packages/sklearn/preprocessing/data.py:324: DeprecationWarning: Passing 1d arrays as data is deprecated in 0.17 and will raise ValueError in 0.19. Reshape your data either using X.reshape(-1, 1) if your data has a single feature or X.reshape(1, -1) if it contains a single sample.\n",
      "  warnings.warn(DEPRECATION_MSG_1D, DeprecationWarning)\n",
      "/usr/local/lib/python2.7/dist-packages/sklearn/preprocessing/data.py:359: DeprecationWarning: Passing 1d arrays as data is deprecated in 0.17 and will raise ValueError in 0.19. Reshape your data either using X.reshape(-1, 1) if your data has a single feature or X.reshape(1, -1) if it contains a single sample.\n",
      "  warnings.warn(DEPRECATION_MSG_1D, DeprecationWarning)\n"
     ]
    },
    {
     "name": "stdout",
     "output_type": "stream",
     "text": [
      "10475.5699718 10293.4975788\n",
      "0.496558173731 0.555952859969\n",
      "-----\n",
      "by y max\n",
      "10832.4748444 10346.9832215\n",
      "0.499433282114 0.505797224823\n",
      "-----\n",
      "by y to x norm max\n",
      "10859.5675486 10870.0004532\n",
      "0.498726507898 0.502052406598\n",
      "-----\n",
      "10414.6702046 10859.5675486\n",
      "0.547469369542 0.498726507898\n",
      "-----\n",
      "9838.65478995 10414.6702046\n",
      "0.578362594486 0.547469369542\n",
      "-----\n",
      "9947.72332245 9838.65478995\n",
      "0.561028924125 0.578362594486\n",
      "-----\n",
      "by x norm min\n",
      "9947.72332245 10473.7230457\n",
      "0.561028924125 0.517389521459\n",
      "-----\n",
      "10046.4702196 9947.72332245\n",
      "0.549606513549 0.561028924125\n",
      "-----\n",
      "by y min\n",
      "10044.6086651 10184.5976633\n",
      "0.549653469768 0.543585238532\n",
      "-----\n",
      "10148.4764561 10044.6086651\n",
      "0.582677865997 0.549653469768\n",
      "-----\n",
      "10549.6923141 10148.4764561\n",
      "0.524976069351 0.582677865997\n",
      "-----\n",
      "by y to x norm min\n",
      "10557.2089722 11171.0771424\n",
      "0.527093319481 0.521060160064\n",
      "-----\n",
      "10751.9092746 10557.2089722\n",
      "0.518012348862 0.527093319481\n",
      "-----\n",
      "mean_diff\n",
      "Before:\n",
      "(11584.493904480692, 0.52938694005365527)\n",
      "After:\n",
      "(8123.5575857155382, 0.52960101947803417)\n",
      "by x norm max\n"
     ]
    },
    {
     "name": "stderr",
     "output_type": "stream",
     "text": [
      "/usr/local/lib/python2.7/dist-packages/sklearn/preprocessing/data.py:324: DeprecationWarning: Passing 1d arrays as data is deprecated in 0.17 and will raise ValueError in 0.19. Reshape your data either using X.reshape(-1, 1) if your data has a single feature or X.reshape(1, -1) if it contains a single sample.\n",
      "  warnings.warn(DEPRECATION_MSG_1D, DeprecationWarning)\n",
      "/usr/local/lib/python2.7/dist-packages/sklearn/preprocessing/data.py:359: DeprecationWarning: Passing 1d arrays as data is deprecated in 0.17 and will raise ValueError in 0.19. Reshape your data either using X.reshape(-1, 1) if your data has a single feature or X.reshape(1, -1) if it contains a single sample.\n",
      "  warnings.warn(DEPRECATION_MSG_1D, DeprecationWarning)\n"
     ]
    },
    {
     "name": "stdout",
     "output_type": "stream",
     "text": [
      "7865.09435081 8123.55758572\n",
      "0.5599576167 0.529601019478\n",
      "-----\n",
      "8102.52335082 7865.09435081\n",
      "0.544396471109 0.5599576167\n",
      "-----\n",
      "by y max\n",
      "8082.82693467 8038.06841268\n",
      "0.554522118711 0.536788912546\n",
      "-----\n",
      "8133.31956532 8082.82693467\n",
      "0.564782863066 0.554522118711\n",
      "-----\n",
      "8114.11203295 8133.31956532\n",
      "0.533908610694 0.564782863066\n",
      "-----\n",
      "7989.42584262 8114.11203295\n",
      "0.561426198307 0.533908610694\n",
      "-----\n",
      "8135.55442023 7989.42584262\n",
      "0.553949900809 0.561426198307\n",
      "-----\n",
      "by y to x norm max\n",
      "8409.65857674 8197.28553242\n",
      "0.558141459917 0.580042767105\n",
      "-----\n",
      "by x norm min\n",
      "8409.60800666 8233.00234738\n",
      "0.558233395686 0.574262462379\n",
      "-----\n",
      "by y min\n",
      "8060.01352759 8237.42461404\n",
      "0.595846193248 0.575772659937\n",
      "-----\n",
      "8235.66391816 8060.01352759\n",
      "0.553819286159 0.595846193248\n",
      "-----\n",
      "by y to x norm min\n",
      "8220.41822142 8213.53708712\n",
      "0.549810227163 0.550374413387\n",
      "-----\n",
      "mean_diff\n",
      "Before:\n",
      "(8231.3807015094117, 0.54876648728082844)\n"
     ]
    },
    {
     "name": "stderr",
     "output_type": "stream",
     "text": [
      "/usr/local/lib/python2.7/dist-packages/sklearn/preprocessing/data.py:324: DeprecationWarning: Passing 1d arrays as data is deprecated in 0.17 and will raise ValueError in 0.19. Reshape your data either using X.reshape(-1, 1) if your data has a single feature or X.reshape(1, -1) if it contains a single sample.\n",
      "  warnings.warn(DEPRECATION_MSG_1D, DeprecationWarning)\n",
      "/usr/local/lib/python2.7/dist-packages/sklearn/preprocessing/data.py:359: DeprecationWarning: Passing 1d arrays as data is deprecated in 0.17 and will raise ValueError in 0.19. Reshape your data either using X.reshape(-1, 1) if your data has a single feature or X.reshape(1, -1) if it contains a single sample.\n",
      "  warnings.warn(DEPRECATION_MSG_1D, DeprecationWarning)\n"
     ]
    },
    {
     "name": "stdout",
     "output_type": "stream",
     "text": [
      "After:\n",
      "(6109.9671833056836, 0.53748373677396888)\n",
      "by x norm max\n",
      "6085.00923411 6109.96718331\n",
      "0.528800887868 0.537483736774\n",
      "-----\n",
      "6215.15973925 6085.00923411\n",
      "0.517580173694 0.528800887868\n",
      "-----\n",
      "by y max\n",
      "6274.92849537 6209.22449398\n",
      "0.507849346781 0.512571651994\n",
      "-----\n",
      "by y to x norm max\n",
      "6249.98531645 6184.27265956\n",
      "0.515740984482 0.520467054041\n",
      "-----\n",
      "by x norm min\n",
      "6224.93007954 6175.25391824\n",
      "0.520529528395 0.510615867339\n",
      "-----\n",
      "6307.97757869 6224.93007954\n",
      "0.521423274087 0.520529528395\n",
      "-----\n",
      "6593.31194486 6307.97757869\n",
      "0.498423009902 0.521423274087\n",
      "-----\n",
      "by y min\n",
      "6517.23141503 6639.91589174\n",
      "0.514322916572 0.507623774007\n",
      "-----\n",
      "6262.82902148 6517.23141503\n",
      "0.519822985573 0.514322916572\n",
      "-----\n",
      "6374.66501243 6262.82902148\n",
      "0.510315469939 0.519822985573\n",
      "-----\n",
      "by y to x norm min\n",
      "6374.54206869 6284.7865784\n",
      "0.510475491954 0.517288597747\n",
      "-----\n",
      "mean_diff\n",
      "Before:\n",
      "(6280.9778834016206, 0.52082377890277709)\n",
      "After:\n",
      "(5466.6832393011409, 0.50306415636284196)\n",
      "by x norm max\n",
      "5426.42114948 5466.6832393\n",
      "0.454476269542 0.503064156363\n",
      "-----\n",
      "5740.76362078 5426.42114948\n",
      "0.461870918459 0.454476269542\n",
      "-----\n"
     ]
    },
    {
     "name": "stderr",
     "output_type": "stream",
     "text": [
      "/usr/local/lib/python2.7/dist-packages/sklearn/preprocessing/data.py:324: DeprecationWarning: Passing 1d arrays as data is deprecated in 0.17 and will raise ValueError in 0.19. Reshape your data either using X.reshape(-1, 1) if your data has a single feature or X.reshape(1, -1) if it contains a single sample.\n",
      "  warnings.warn(DEPRECATION_MSG_1D, DeprecationWarning)\n",
      "/usr/local/lib/python2.7/dist-packages/sklearn/preprocessing/data.py:359: DeprecationWarning: Passing 1d arrays as data is deprecated in 0.17 and will raise ValueError in 0.19. Reshape your data either using X.reshape(-1, 1) if your data has a single feature or X.reshape(1, -1) if it contains a single sample.\n",
      "  warnings.warn(DEPRECATION_MSG_1D, DeprecationWarning)\n"
     ]
    },
    {
     "name": "stdout",
     "output_type": "stream",
     "text": [
      "5551.20144992 5740.76362078\n",
      "0.46174532706 0.461870918459\n",
      "-----\n",
      "5504.03719674 5551.20144992\n",
      "0.487608968642 0.46174532706\n",
      "-----\n",
      "5420.37901993 5504.03719674\n",
      "0.49613066292 0.487608968642\n",
      "-----\n",
      "5594.7483537 5420.37901993\n",
      "0.481344380289 0.49613066292\n",
      "-----\n",
      "by y max\n",
      "5542.94356828 5644.89228133\n",
      "0.487819576748 0.478896067154\n",
      "-----\n",
      "5461.66926526 5542.94356828\n",
      "0.500889729931 0.487819576748\n",
      "-----\n",
      "5564.28658805 5461.66926526\n",
      "0.448747163422 0.500889729931\n",
      "-----\n",
      "by y to x norm max\n",
      "5559.43920743 5591.98310821\n",
      "0.451942285874 0.487719419943\n",
      "-----\n",
      "5581.83942432 5559.43920743\n",
      "0.462267359014 0.451942285874\n",
      "-----\n",
      "5505.44468408 5581.83942432\n",
      "0.480069563484 0.462267359014\n",
      "-----\n",
      "5465.49180205 5505.44468408\n",
      "0.459191831858 0.480069563484\n",
      "-----\n",
      "5477.90610216 5465.49180205\n",
      "0.487413729563 0.459191831858\n",
      "-----\n",
      "5371.00631365 5477.90610216\n",
      "0.483360731083 0.487413729563\n",
      "-----\n",
      "5692.13805393 5371.00631365\n",
      "0.45674587466 0.483360731083\n",
      "-----\n",
      "by x norm min\n",
      "5596.08932941 5512.16578207\n",
      "0.473240589588 0.463823944393\n",
      "-----\n",
      "5565.15481041 5596.08932941\n",
      "0.478867019032 0.473240589588\n",
      "-----\n",
      "5742.81146012 5565.15481041\n",
      "0.462910372179 0.478867019032\n",
      "-----\n",
      "by y min\n",
      "5726.61567336 5529.32094404\n",
      "0.468449675938 0.491838709872\n",
      "-----\n",
      "by y to x norm min\n",
      "5750.76174766 5565.73094078\n",
      "0.464807330027 0.484842448187\n",
      "-----\n",
      "mean_diff\n",
      "Before:\n",
      "(5537.8894698139029, 0.48620982028682891)\n",
      "After:\n",
      "(5457.5774342453196, 0.39165871887932402)\n",
      "by x norm max\n",
      "5401.10098067 5457.57743425\n",
      "0.409993982834 0.391658718879\n",
      "-----\n"
     ]
    },
    {
     "name": "stderr",
     "output_type": "stream",
     "text": [
      "/usr/local/lib/python2.7/dist-packages/sklearn/preprocessing/data.py:324: DeprecationWarning: Passing 1d arrays as data is deprecated in 0.17 and will raise ValueError in 0.19. Reshape your data either using X.reshape(-1, 1) if your data has a single feature or X.reshape(1, -1) if it contains a single sample.\n",
      "  warnings.warn(DEPRECATION_MSG_1D, DeprecationWarning)\n",
      "/usr/local/lib/python2.7/dist-packages/sklearn/preprocessing/data.py:359: DeprecationWarning: Passing 1d arrays as data is deprecated in 0.17 and will raise ValueError in 0.19. Reshape your data either using X.reshape(-1, 1) if your data has a single feature or X.reshape(1, -1) if it contains a single sample.\n",
      "  warnings.warn(DEPRECATION_MSG_1D, DeprecationWarning)\n"
     ]
    },
    {
     "name": "stdout",
     "output_type": "stream",
     "text": [
      "5269.05663855 5401.10098067\n",
      "0.410858833576 0.409993982834\n",
      "-----\n",
      "5339.40147268 5269.05663855\n",
      "0.41902390257 0.410858833576\n",
      "-----\n",
      "5156.22710552 5339.40147268\n",
      "0.461201905819 0.41902390257\n",
      "-----\n",
      "5120.59825778 5156.22710552\n",
      "0.45797146845 0.461201905819\n",
      "-----\n",
      "5286.69831576 5120.59825778\n",
      "0.417766293082 0.45797146845\n",
      "-----\n",
      "by y max\n",
      "5445.99973769 5382.46907015\n",
      "0.417542103934 0.40435137504\n",
      "-----\n",
      "5162.51619931 5445.99973769\n",
      "0.417071678083 0.417542103934\n",
      "-----\n",
      "5054.54305298 5162.51619931\n",
      "0.446779312929 0.417071678083\n",
      "-----\n",
      "5079.86877794 5054.54305298\n",
      "0.470194415492 0.446779312929\n",
      "-----\n",
      "5147.47408344 5079.86877794\n",
      "0.413755832451 0.470194415492\n",
      "-----\n",
      "by y to x norm max\n",
      "5148.27626362 5154.378874\n",
      "0.413685322099 0.465397422933\n",
      "-----\n",
      "5292.10821072 5148.27626362\n",
      "0.440902700174 0.413685322099\n",
      "-----\n",
      "5391.88855087 5292.10821072\n",
      "0.38588475831 0.440902700174\n",
      "-----\n",
      "by x norm min\n",
      "5411.71445479 5320.47559005\n",
      "0.381338728917 0.428840205915\n",
      "-----\n",
      "by y min\n",
      "5398.39157389 5320.47559005\n",
      "0.385552385065 0.428840205915\n",
      "-----\n",
      "by y to x norm min\n",
      "5418.51433232 5320.47559005\n",
      "0.3826434732 0.428840205915\n",
      "-----\n",
      "mean_diff\n",
      "Before:\n",
      "(5320.4755900523187, 0.42884020591514116)\n",
      "After:\n",
      "(4495.0231084024836, 0.40766373289619123)\n",
      "by x norm max\n",
      "4677.95361207 4495.0231084\n",
      "0.400131544658 0.407663732896\n",
      "-----\n",
      "by y max\n"
     ]
    },
    {
     "name": "stderr",
     "output_type": "stream",
     "text": [
      "/usr/local/lib/python2.7/dist-packages/sklearn/preprocessing/data.py:324: DeprecationWarning: Passing 1d arrays as data is deprecated in 0.17 and will raise ValueError in 0.19. Reshape your data either using X.reshape(-1, 1) if your data has a single feature or X.reshape(1, -1) if it contains a single sample.\n",
      "  warnings.warn(DEPRECATION_MSG_1D, DeprecationWarning)\n",
      "/usr/local/lib/python2.7/dist-packages/sklearn/preprocessing/data.py:359: DeprecationWarning: Passing 1d arrays as data is deprecated in 0.17 and will raise ValueError in 0.19. Reshape your data either using X.reshape(-1, 1) if your data has a single feature or X.reshape(1, -1) if it contains a single sample.\n",
      "  warnings.warn(DEPRECATION_MSG_1D, DeprecationWarning)\n"
     ]
    },
    {
     "name": "stdout",
     "output_type": "stream",
     "text": [
      "4744.2660861 4860.22377755\n",
      "0.354092993752 0.346771226787\n",
      "-----\n",
      "4722.22677418 4744.2660861\n",
      "0.381482568055 0.354092993752\n",
      "-----\n",
      "4813.95184923 4722.22677418\n",
      "0.370149222779 0.381482568055\n",
      "-----\n",
      "by y to x norm max\n",
      "4771.17266263 4698.27431254\n",
      "0.326867125916 0.328632399444\n",
      "-----\n",
      "by x norm min\n",
      "4770.49244084 4841.42134887\n",
      "0.324301278501 0.370467967907\n",
      "-----\n",
      "4797.46886724 4770.49244084\n",
      "0.35438354192 0.324301278501\n",
      "-----\n",
      "4691.69005533 4797.46886724\n",
      "0.367728315315 0.35438354192\n",
      "-----\n",
      "4692.17186614 4691.69005533\n",
      "0.376859964717 0.367728315315\n",
      "-----\n",
      "4903.20353797 4692.17186614\n",
      "0.318521738716 0.376859964717\n",
      "-----\n",
      "by y min\n",
      "4897.80365178 4704.38785432\n",
      "0.325390037495 0.372639864109\n",
      "-----\n",
      "by y to x norm min\n",
      "4919.89724966 4704.38785432\n",
      "0.32002964879 0.372639864109\n",
      "-----\n",
      "mean_diff\n",
      "Before:\n",
      "(4704.387854315677, 0.372639864108744)\n",
      "After:\n",
      "(4453.5658555098444, 0.38583493069772151)\n",
      "by x norm max\n",
      "4467.7575427 4453.56585551\n",
      "0.389394943205 0.385834930698\n",
      "-----\n"
     ]
    },
    {
     "name": "stderr",
     "output_type": "stream",
     "text": [
      "/usr/local/lib/python2.7/dist-packages/sklearn/preprocessing/data.py:324: DeprecationWarning: Passing 1d arrays as data is deprecated in 0.17 and will raise ValueError in 0.19. Reshape your data either using X.reshape(-1, 1) if your data has a single feature or X.reshape(1, -1) if it contains a single sample.\n",
      "  warnings.warn(DEPRECATION_MSG_1D, DeprecationWarning)\n",
      "/usr/local/lib/python2.7/dist-packages/sklearn/preprocessing/data.py:359: DeprecationWarning: Passing 1d arrays as data is deprecated in 0.17 and will raise ValueError in 0.19. Reshape your data either using X.reshape(-1, 1) if your data has a single feature or X.reshape(1, -1) if it contains a single sample.\n",
      "  warnings.warn(DEPRECATION_MSG_1D, DeprecationWarning)\n"
     ]
    },
    {
     "name": "stdout",
     "output_type": "stream",
     "text": [
      "4522.2778585 4467.7575427\n",
      "0.357868444118 0.389394943205\n",
      "-----\n",
      "by y max\n",
      "4484.17588312 4530.15419169\n",
      "0.326295452003 0.360702848387\n",
      "-----\n",
      "4436.48436306 4484.17588312\n",
      "0.376144653744 0.326295452003\n",
      "-----\n",
      "4521.68419143 4436.48436306\n",
      "0.370596011664 0.376144653744\n",
      "-----\n",
      "by y to x norm max\n",
      "4539.99677389 4360.7280833\n",
      "0.363801988916 0.425115366344\n",
      "-----\n",
      "by x norm min\n",
      "4541.08039864 4360.7280833\n",
      "0.360707873565 0.425115366344\n",
      "-----\n",
      "by y min\n",
      "4538.57248902 4360.7280833\n",
      "0.367114984785 0.425115366344\n",
      "-----\n",
      "by y to x norm min\n",
      "4556.45105541 4355.26714858\n",
      "0.357287579665 0.426053139506\n",
      "-----\n",
      "mean_diff\n",
      "Before:\n",
      "(4355.2671485804267, 0.42605313950591356)\n"
     ]
    },
    {
     "name": "stderr",
     "output_type": "stream",
     "text": [
      "/usr/local/lib/python2.7/dist-packages/sklearn/preprocessing/data.py:324: DeprecationWarning: Passing 1d arrays as data is deprecated in 0.17 and will raise ValueError in 0.19. Reshape your data either using X.reshape(-1, 1) if your data has a single feature or X.reshape(1, -1) if it contains a single sample.\n",
      "  warnings.warn(DEPRECATION_MSG_1D, DeprecationWarning)\n",
      "/usr/local/lib/python2.7/dist-packages/sklearn/preprocessing/data.py:359: DeprecationWarning: Passing 1d arrays as data is deprecated in 0.17 and will raise ValueError in 0.19. Reshape your data either using X.reshape(-1, 1) if your data has a single feature or X.reshape(1, -1) if it contains a single sample.\n",
      "  warnings.warn(DEPRECATION_MSG_1D, DeprecationWarning)\n"
     ]
    },
    {
     "name": "stdout",
     "output_type": "stream",
     "text": [
      "After:\n",
      "(4363.6630022413292, 0.29963678492168366)\n",
      "by x norm max\n",
      "4523.44856237 4355.26714858\n",
      "0.368782126341 0.426053139506\n",
      "-----\n",
      "by y max\n",
      "4529.77039223 4355.26714858\n",
      "0.382080286289 0.426053139506\n",
      "-----\n",
      "by y to x norm max\n",
      "4544.0924609 4451.39379102\n",
      "0.376252321663 0.379275134991\n",
      "-----\n",
      "by x norm min\n",
      "4544.31458883 4451.39379102\n",
      "0.37371444125 0.379275134991\n",
      "-----\n",
      "by y min\n",
      "4535.23286771 4451.39379102\n",
      "0.381929352613 0.379275134991\n",
      "-----\n",
      "4391.94593067 4535.23286771\n",
      "0.356478549463 0.381929352613\n",
      "-----\n",
      "4637.31864629 4391.94593067\n",
      "0.319712729003 0.356478549463\n",
      "-----\n",
      "by y to x norm min\n",
      "4637.99471697 4539.89904159\n",
      "0.319667696462 0.329623487683\n",
      "-----\n",
      "mean_diff\n",
      "Before:\n",
      "(4511.4137345623112, 0.33994455216077324)\n",
      "After:\n",
      "(4358.3740105299848, 0.388958792852238)\n",
      "by x norm max\n",
      "4340.00459251 4358.37401053\n",
      "0.378594888154 0.388958792852\n",
      "-----\n",
      "4432.51842561 4340.00459251\n",
      "0.336141934498 0.378594888154\n",
      "-----\n",
      "by y max\n",
      "4514.25538258 4521.34924453\n",
      "0.331407503382 0.321871828683\n",
      "-----\n",
      "4294.3547078 4514.25538258\n",
      "0.348616554457 0.331407503382\n",
      "-----\n",
      "4160.05932779 4294.3547078\n",
      "0.340715847891 0.348616554457\n",
      "-----\n"
     ]
    },
    {
     "name": "stderr",
     "output_type": "stream",
     "text": [
      "/usr/local/lib/python2.7/dist-packages/sklearn/preprocessing/data.py:324: DeprecationWarning: Passing 1d arrays as data is deprecated in 0.17 and will raise ValueError in 0.19. Reshape your data either using X.reshape(-1, 1) if your data has a single feature or X.reshape(1, -1) if it contains a single sample.\n",
      "  warnings.warn(DEPRECATION_MSG_1D, DeprecationWarning)\n",
      "/usr/local/lib/python2.7/dist-packages/sklearn/preprocessing/data.py:359: DeprecationWarning: Passing 1d arrays as data is deprecated in 0.17 and will raise ValueError in 0.19. Reshape your data either using X.reshape(-1, 1) if your data has a single feature or X.reshape(1, -1) if it contains a single sample.\n",
      "  warnings.warn(DEPRECATION_MSG_1D, DeprecationWarning)\n"
     ]
    },
    {
     "name": "stdout",
     "output_type": "stream",
     "text": [
      "4496.65734027 4160.05932779\n",
      "0.362178806214 0.340715847891\n",
      "-----\n",
      "4431.90155553 4496.65734027\n",
      "0.337623624927 0.362178806214\n",
      "-----\n",
      "4453.89824754 4431.90155553\n",
      "0.362864507258 0.337623624927\n",
      "-----\n",
      "4502.4056945 4453.89824754\n",
      "0.329512060674 0.362864507258\n",
      "-----\n",
      "by y to x norm max\n",
      "4467.12998177 4624.85103963\n",
      "0.329975731055 0.309999615462\n",
      "-----\n",
      "4374.50529466 4467.12998177\n",
      "0.314158472653 0.329975731055\n",
      "-----\n",
      "4473.32374634 4374.50529466\n",
      "0.382529216203 0.314158472653\n",
      "-----\n",
      "4392.45480609 4473.32374634\n",
      "0.370201721103 0.382529216203\n",
      "-----\n",
      "4522.4888182 4392.45480609\n",
      "0.329558315605 0.370201721103\n",
      "-----\n",
      "by x norm min\n",
      "4532.53404339 4463.30891672\n",
      "0.324794980588 0.367370261958\n",
      "-----\n",
      "by y min\n",
      "4514.40393377 4463.30891672\n",
      "0.329158364661 0.367370261958\n",
      "-----\n",
      "by y to x norm min\n",
      "4540.14234813 4463.30891672\n",
      "0.323886818156 0.367370261958\n",
      "-----\n",
      "mean_diff\n",
      "Before:\n",
      "(4463.3089167234275, 0.36737026195796774)\n",
      "After:\n",
      "(4435.1051143114373, 0.33531817969845712)\n",
      "by x norm max\n",
      "4496.00098847 4435.10511431\n",
      "0.312325270895 0.335318179698\n",
      "-----\n",
      "by y max\n"
     ]
    },
    {
     "name": "stderr",
     "output_type": "stream",
     "text": [
      "/usr/local/lib/python2.7/dist-packages/sklearn/preprocessing/data.py:324: DeprecationWarning: Passing 1d arrays as data is deprecated in 0.17 and will raise ValueError in 0.19. Reshape your data either using X.reshape(-1, 1) if your data has a single feature or X.reshape(1, -1) if it contains a single sample.\n",
      "  warnings.warn(DEPRECATION_MSG_1D, DeprecationWarning)\n",
      "/usr/local/lib/python2.7/dist-packages/sklearn/preprocessing/data.py:359: DeprecationWarning: Passing 1d arrays as data is deprecated in 0.17 and will raise ValueError in 0.19. Reshape your data either using X.reshape(-1, 1) if your data has a single feature or X.reshape(1, -1) if it contains a single sample.\n",
      "  warnings.warn(DEPRECATION_MSG_1D, DeprecationWarning)\n"
     ]
    },
    {
     "name": "stdout",
     "output_type": "stream",
     "text": [
      "4133.19655702 4446.39316641\n",
      "0.351573292507 0.337615640369\n",
      "-----\n",
      "4012.22293646 4133.19655702\n",
      "0.383297167665 0.351573292507\n",
      "-----\n",
      "4120.39865566 4012.22293646\n",
      "0.354815947043 0.383297167665\n",
      "-----\n",
      "by y to x norm max\n",
      "4125.30105671 4168.90343903\n",
      "0.355312821352 0.363026659202\n",
      "-----\n",
      "4064.19340093 4125.30105671\n",
      "0.370359898417 0.355312821352\n",
      "-----\n",
      "4175.2041788 4064.19340093\n",
      "0.33551055244 0.370359898417\n",
      "-----\n",
      "by x norm min\n",
      "4176.5799949 4131.82030145\n",
      "0.33549739577 0.385643948119\n",
      "-----\n",
      "by y min\n",
      "4178.3185373 4120.64653295\n",
      "0.335079411446 0.389772609336\n",
      "-----\n",
      "by y to x norm min\n",
      "4177.60194019 4124.45844263\n",
      "0.335217265323 0.390410075473\n",
      "-----\n",
      "mean_diff\n",
      "Before:\n",
      "(4132.07947904103, 0.38600529008378381)\n",
      "After:\n",
      "(3968.855436961052, 0.32880648336934504)\n",
      "by x norm max\n",
      "4005.63487566 3968.85543696\n",
      "0.350193914436 0.328806483369\n",
      "-----\n",
      "4043.38964345 4005.63487566\n",
      "0.34014914812 0.350193914436\n",
      "-----\n",
      "by y max\n",
      "4081.75338833 4018.46623196\n",
      "0.305021906626 0.347146718471\n",
      "-----\n",
      "by y to x norm max\n"
     ]
    },
    {
     "name": "stderr",
     "output_type": "stream",
     "text": [
      "/usr/local/lib/python2.7/dist-packages/sklearn/preprocessing/data.py:324: DeprecationWarning: Passing 1d arrays as data is deprecated in 0.17 and will raise ValueError in 0.19. Reshape your data either using X.reshape(-1, 1) if your data has a single feature or X.reshape(1, -1) if it contains a single sample.\n",
      "  warnings.warn(DEPRECATION_MSG_1D, DeprecationWarning)\n",
      "/usr/local/lib/python2.7/dist-packages/sklearn/preprocessing/data.py:359: DeprecationWarning: Passing 1d arrays as data is deprecated in 0.17 and will raise ValueError in 0.19. Reshape your data either using X.reshape(-1, 1) if your data has a single feature or X.reshape(1, -1) if it contains a single sample.\n",
      "  warnings.warn(DEPRECATION_MSG_1D, DeprecationWarning)\n"
     ]
    },
    {
     "name": "stdout",
     "output_type": "stream",
     "text": [
      "4097.02486618 4114.88664737\n",
      "0.298601271457 0.29793672485\n",
      "-----\n",
      "4061.32825008 4097.02486618\n",
      "0.339079851426 0.298601271457\n",
      "-----\n",
      "3878.99792582 4061.32825008\n",
      "0.342598976741 0.339079851426\n",
      "-----\n",
      "4112.3609491 3878.99792582\n",
      "0.322320720995 0.342598976741\n",
      "-----\n",
      "by x norm min\n",
      "4096.78776861 4017.39723007\n",
      "0.325389040459 0.361134522342\n",
      "-----\n",
      "by y min\n",
      "4107.94130956 4030.3370627\n",
      "0.329479507607 0.364677020372\n",
      "-----\n",
      "by y to x norm min\n",
      "4130.52160481 4050.68947991\n",
      "0.311321428526 0.34698356242\n",
      "-----\n",
      "mean_diff\n",
      "Before:\n",
      "(4024.5242904674346, 0.36219955985950258)\n"
     ]
    },
    {
     "name": "stderr",
     "output_type": "stream",
     "text": [
      "/usr/local/lib/python2.7/dist-packages/sklearn/preprocessing/data.py:324: DeprecationWarning: Passing 1d arrays as data is deprecated in 0.17 and will raise ValueError in 0.19. Reshape your data either using X.reshape(-1, 1) if your data has a single feature or X.reshape(1, -1) if it contains a single sample.\n",
      "  warnings.warn(DEPRECATION_MSG_1D, DeprecationWarning)\n",
      "/usr/local/lib/python2.7/dist-packages/sklearn/preprocessing/data.py:359: DeprecationWarning: Passing 1d arrays as data is deprecated in 0.17 and will raise ValueError in 0.19. Reshape your data either using X.reshape(-1, 1) if your data has a single feature or X.reshape(1, -1) if it contains a single sample.\n",
      "  warnings.warn(DEPRECATION_MSG_1D, DeprecationWarning)\n"
     ]
    },
    {
     "name": "stdout",
     "output_type": "stream",
     "text": [
      "After:\n",
      "(3875.1225934760782, 0.3055180592247797)\n",
      "by x norm max\n",
      "3733.1643186 3875.12259348\n",
      "0.352391629934 0.305518059225\n",
      "-----\n",
      "3962.47254118 3733.1643186\n",
      "0.349553942186 0.352391629934\n",
      "-----\n",
      "by y max\n",
      "3745.42557216 3978.04693618\n",
      "0.366987605287 0.343956928909\n",
      "-----\n",
      "3987.27878283 3745.42557216\n",
      "0.310745892846 0.366987605287\n",
      "-----\n",
      "by y to x norm max\n",
      "3985.52114773 3977.80656834\n",
      "0.311155344691 0.347876710799\n",
      "-----\n",
      "by x norm min\n",
      "3987.25876043 3977.80656834\n",
      "0.311018022042 0.347876710799\n",
      "-----\n",
      "by y min\n",
      "3987.0871258 3977.80656834\n",
      "0.310919378784 0.347876710799\n",
      "-----\n",
      "by y to x norm min\n",
      "3986.30043472 3977.80656834\n",
      "0.311056534237 0.347876710799\n",
      "-----\n",
      "mean_diff\n",
      "Before:\n",
      "(3977.8065683388259, 0.3478767107992109)\n",
      "After:\n",
      "(3844.0400589800738, 0.34364092704257321)\n",
      "by x norm max\n",
      "3873.60941953 3844.04005898\n",
      "0.292555245582 0.343640927043\n",
      "-----\n",
      "by y max\n",
      "3755.70008047 3886.45722144\n",
      "0.34087444069 0.295415145467\n",
      "-----\n"
     ]
    },
    {
     "name": "stderr",
     "output_type": "stream",
     "text": [
      "/usr/local/lib/python2.7/dist-packages/sklearn/preprocessing/data.py:324: DeprecationWarning: Passing 1d arrays as data is deprecated in 0.17 and will raise ValueError in 0.19. Reshape your data either using X.reshape(-1, 1) if your data has a single feature or X.reshape(1, -1) if it contains a single sample.\n",
      "  warnings.warn(DEPRECATION_MSG_1D, DeprecationWarning)\n",
      "/usr/local/lib/python2.7/dist-packages/sklearn/preprocessing/data.py:359: DeprecationWarning: Passing 1d arrays as data is deprecated in 0.17 and will raise ValueError in 0.19. Reshape your data either using X.reshape(-1, 1) if your data has a single feature or X.reshape(1, -1) if it contains a single sample.\n",
      "  warnings.warn(DEPRECATION_MSG_1D, DeprecationWarning)\n"
     ]
    },
    {
     "name": "stdout",
     "output_type": "stream",
     "text": [
      "3884.47046878 3755.70008047\n",
      "0.327536851093 0.34087444069\n",
      "-----\n",
      "by y to x norm max\n",
      "3779.20303635 3793.92457637\n",
      "0.347693859739 0.327402988228\n",
      "-----\n",
      "3880.05372259 3779.20303635\n",
      "0.381213121326 0.347693859739\n",
      "-----\n",
      "3695.05926592 3880.05372259\n",
      "0.335303039878 0.381213121326\n",
      "-----\n",
      "3688.5285824 3695.05926592\n",
      "0.348701600225 0.335303039878\n",
      "-----\n",
      "3858.83141838 3688.5285824\n",
      "0.349777884898 0.348701600225\n",
      "-----\n",
      "3941.61458091 3858.83141838\n",
      "0.308265605666 0.349777884898\n",
      "-----\n",
      "by x norm min\n",
      "3950.04474264 3930.53204698\n",
      "0.302437764262 0.32404485217\n",
      "-----\n",
      "by y min\n",
      "3932.47347088 3923.98763005\n",
      "0.308798197859 0.328970293316\n",
      "-----\n",
      "by y to x norm min\n",
      "3939.39333257 3936.80533344\n",
      "0.310049053529 0.323926270232\n",
      "-----\n",
      "mean_diff\n",
      "Before:\n",
      "(3927.4491979297627, 0.32377391891726121)\n",
      "After:\n",
      "(3883.0049056012435, 0.32442959316422182)\n",
      "by x norm max\n",
      "3944.21662722 3883.0049056\n",
      "0.310688040919 0.324429593164\n",
      "-----\n",
      "by y max\n",
      "3896.21358826 3863.62349783\n",
      "0.330164774592 0.331753577038\n",
      "-----\n",
      "by y to x norm max\n"
     ]
    },
    {
     "name": "stderr",
     "output_type": "stream",
     "text": [
      "/usr/local/lib/python2.7/dist-packages/sklearn/preprocessing/data.py:324: DeprecationWarning: Passing 1d arrays as data is deprecated in 0.17 and will raise ValueError in 0.19. Reshape your data either using X.reshape(-1, 1) if your data has a single feature or X.reshape(1, -1) if it contains a single sample.\n",
      "  warnings.warn(DEPRECATION_MSG_1D, DeprecationWarning)\n",
      "/usr/local/lib/python2.7/dist-packages/sklearn/preprocessing/data.py:359: DeprecationWarning: Passing 1d arrays as data is deprecated in 0.17 and will raise ValueError in 0.19. Reshape your data either using X.reshape(-1, 1) if your data has a single feature or X.reshape(1, -1) if it contains a single sample.\n",
      "  warnings.warn(DEPRECATION_MSG_1D, DeprecationWarning)\n"
     ]
    },
    {
     "name": "stdout",
     "output_type": "stream",
     "text": [
      "3902.89272258 3881.40120795\n",
      "0.331699640425 0.307589849259\n",
      "-----\n",
      "3883.42644624 3902.89272258\n",
      "0.342849865295 0.331699640425\n",
      "-----\n",
      "3820.05112451 3883.42644624\n",
      "0.29926119917 0.342849865295\n",
      "-----\n",
      "3807.99342691 3820.05112451\n",
      "0.330467718786 0.29926119917\n",
      "-----\n",
      "3782.28286684 3807.99342691\n",
      "0.312743054942 0.330467718786\n",
      "-----\n",
      "3731.26412066 3782.28286684\n",
      "0.322886683634 0.312743054942\n",
      "-----\n",
      "3747.05492207 3731.26412066\n",
      "0.332487953757 0.322886683634\n",
      "-----\n",
      "3932.17534841 3747.05492207\n",
      "0.313524940716 0.332487953757\n",
      "-----\n",
      "by x norm min\n",
      "3932.43815757 3967.98135769\n",
      "0.313597138393 0.30791923711\n",
      "-----\n",
      "3967.29774621 3932.43815757\n",
      "0.332012662289 0.313597138393\n",
      "-----\n",
      "3974.80172347 3967.29774621\n",
      "0.286532614207 0.332012662289\n",
      "-----\n",
      "by y min\n",
      "3987.44396976 4099.08442326\n",
      "0.286663592613 0.286296821495\n",
      "-----\n",
      "4028.24570109 3987.44396976\n",
      "0.29238338196 0.286663592613\n",
      "-----\n",
      "3804.06961777 4028.24570109\n",
      "0.348370817496 0.29238338196\n",
      "-----\n",
      "3898.34860049 3804.06961777\n",
      "0.299442596252 0.348370817496\n",
      "-----\n",
      "by y to x norm min\n",
      "3899.79625787 3915.89294436\n",
      "0.300265656174 0.294119553582\n",
      "-----\n",
      "3951.33806524 3899.79625787\n",
      "0.317691483111 0.300265656174\n",
      "-----\n",
      "3850.78967728 3951.33806524\n",
      "0.28894545889 0.317691483111\n",
      "-----\n",
      "3850.24487607 3850.78967728\n",
      "0.279077309282 0.28894545889\n",
      "-----\n",
      "3961.63604909 3850.24487607\n",
      "0.295343788269 0.279077309282\n",
      "-----\n",
      "3946.29669793 3961.63604909\n",
      "0.312483110998 0.295343788269\n",
      "-----\n",
      "3866.94212143 3946.29669793\n",
      "0.327205326687 0.312483110998\n",
      "-----\n",
      "3962.19330558 3866.94212143\n",
      "0.303051393859 0.327205326687\n",
      "-----\n",
      "mean_diff\n",
      "Before:\n",
      "(3872.8477113658287, 0.32706084165395533)\n",
      "After:\n",
      "(3586.363514968441, 0.33480157489425799)\n",
      "by x norm max\n"
     ]
    },
    {
     "name": "stderr",
     "output_type": "stream",
     "text": [
      "/usr/local/lib/python2.7/dist-packages/sklearn/preprocessing/data.py:324: DeprecationWarning: Passing 1d arrays as data is deprecated in 0.17 and will raise ValueError in 0.19. Reshape your data either using X.reshape(-1, 1) if your data has a single feature or X.reshape(1, -1) if it contains a single sample.\n",
      "  warnings.warn(DEPRECATION_MSG_1D, DeprecationWarning)\n",
      "/usr/local/lib/python2.7/dist-packages/sklearn/preprocessing/data.py:359: DeprecationWarning: Passing 1d arrays as data is deprecated in 0.17 and will raise ValueError in 0.19. Reshape your data either using X.reshape(-1, 1) if your data has a single feature or X.reshape(1, -1) if it contains a single sample.\n",
      "  warnings.warn(DEPRECATION_MSG_1D, DeprecationWarning)\n"
     ]
    },
    {
     "name": "stdout",
     "output_type": "stream",
     "text": [
      "3646.75942438 3586.36351497\n",
      "0.388023179533 0.334801574894\n",
      "-----\n",
      "3741.37946559 3646.75942438\n",
      "0.34061773947 0.388023179533\n",
      "-----\n",
      "by y max\n",
      "3799.57435249 3653.65316404\n",
      "0.334549670707 0.355104956789\n",
      "-----\n",
      "by y to x norm max\n",
      "3800.47862833 3757.78153547\n",
      "0.332589323834 0.358076765404\n",
      "-----\n",
      "by x norm min\n",
      "3785.9548423 3757.78153547\n",
      "0.337518900633 0.358076765404\n",
      "-----\n",
      "by y min\n",
      "3772.77262093 3757.78153547\n",
      "0.370989693191 0.358076765404\n",
      "-----\n",
      "3775.51495855 3772.77262093\n",
      "0.320298949609 0.370989693191\n",
      "-----\n",
      "by y to x norm min\n",
      "3801.39903134 3865.05424545\n",
      "0.312593455298 0.311361638669\n",
      "-----\n",
      "3724.08426604 3801.39903134\n",
      "0.313588206464 0.312593455298\n",
      "-----\n",
      "3825.76700153 3724.08426604\n",
      "0.278935140355 0.313588206464\n",
      "-----\n",
      "mean_diff\n",
      "Before:\n",
      "(3816.5449789390209, 0.28399072018207117)\n",
      "After:\n",
      "(3474.8130518580929, 0.36356784793783181)\n",
      "by x norm max\n",
      "3779.76325302 3474.81305186\n",
      "0.327898908805 0.363567847938\n",
      "-----\n",
      "by y max\n",
      "3788.49877693 3485.90274485\n",
      "0.329727400184 0.364576974652\n",
      "-----\n",
      "by y to x norm max\n"
     ]
    },
    {
     "name": "stderr",
     "output_type": "stream",
     "text": [
      "/usr/local/lib/python2.7/dist-packages/sklearn/preprocessing/data.py:324: DeprecationWarning: Passing 1d arrays as data is deprecated in 0.17 and will raise ValueError in 0.19. Reshape your data either using X.reshape(-1, 1) if your data has a single feature or X.reshape(1, -1) if it contains a single sample.\n",
      "  warnings.warn(DEPRECATION_MSG_1D, DeprecationWarning)\n",
      "/usr/local/lib/python2.7/dist-packages/sklearn/preprocessing/data.py:359: DeprecationWarning: Passing 1d arrays as data is deprecated in 0.17 and will raise ValueError in 0.19. Reshape your data either using X.reshape(-1, 1) if your data has a single feature or X.reshape(1, -1) if it contains a single sample.\n",
      "  warnings.warn(DEPRECATION_MSG_1D, DeprecationWarning)\n"
     ]
    },
    {
     "name": "stdout",
     "output_type": "stream",
     "text": [
      "3783.94111148 3468.23794588\n",
      "0.33294943078 0.366517051605\n",
      "-----\n",
      "by x norm min\n",
      "3792.91082575 3489.52921951\n",
      "0.326824748868 0.360288010677\n",
      "-----\n",
      "by y min\n",
      "3712.70392529 3464.42052123\n",
      "0.365171716978 0.372032478463\n",
      "-----\n",
      "by y to x norm min\n",
      "3726.16541457 3665.38802343\n",
      "0.364609500631 0.366344121283\n",
      "-----\n",
      "mean_diff\n",
      "Before:\n",
      "(3636.897840717073, 0.36907676075102991)\n",
      "After:\n",
      "(3710.1925079310631, 0.2919673089362701)\n"
     ]
    },
    {
     "name": "stderr",
     "output_type": "stream",
     "text": [
      "/usr/local/lib/python2.7/dist-packages/sklearn/preprocessing/data.py:324: DeprecationWarning: Passing 1d arrays as data is deprecated in 0.17 and will raise ValueError in 0.19. Reshape your data either using X.reshape(-1, 1) if your data has a single feature or X.reshape(1, -1) if it contains a single sample.\n",
      "  warnings.warn(DEPRECATION_MSG_1D, DeprecationWarning)\n",
      "/usr/local/lib/python2.7/dist-packages/sklearn/preprocessing/data.py:359: DeprecationWarning: Passing 1d arrays as data is deprecated in 0.17 and will raise ValueError in 0.19. Reshape your data either using X.reshape(-1, 1) if your data has a single feature or X.reshape(1, -1) if it contains a single sample.\n",
      "  warnings.warn(DEPRECATION_MSG_1D, DeprecationWarning)\n"
     ]
    }
   ],
   "source": [
    "l = 1\n",
    "while l!=len(blagovest_data_1):\n",
    "    l = len(blagovest_data_1)\n",
    "    print \"by x norm max\"\n",
    "    blagovest_data_1 = cut_data_by(blagovest_data_1, get_ind_by_x_norm, True)\n",
    "    print \"by y max\"\n",
    "    blagovest_data_1 = cut_data_by(blagovest_data_1, get_ind_by_y, True)\n",
    "    print \"by y to x norm max\"\n",
    "    blagovest_data_1 = cut_data_by(blagovest_data_1, get_ind_by_y_to_x_norm, True)\n",
    "    print \"by x norm min\"\n",
    "    blagovest_data_1 = cut_data_by(blagovest_data_1, get_ind_by_x_norm, False)\n",
    "    print \"by y min\"\n",
    "    blagovest_data_1 = cut_data_by(blagovest_data_1, get_ind_by_y, False)\n",
    "    print \"by y to x norm min\"\n",
    "    blagovest_data_1 = cut_data_by(blagovest_data_1, get_ind_by_y_to_x_norm, False)\n",
    "    print \"mean_diff\"\n",
    "    blagovest_data_1 = mean_diff(blagovest_data_1, normalize = True)"
   ]
  },
  {
   "cell_type": "code",
   "execution_count": null,
   "metadata": {
    "collapsed": false,
    "scrolled": true
   },
   "outputs": [],
   "source": [
    "l = 1\n",
    "while l!=len(blagovest_data_2):\n",
    "    l = len(blagovest_data_2)\n",
    "    print \"by x norm max\"\n",
    "    blagovest_data_2 = cut_data_by(blagovest_data_2, get_ind_by_x_norm, True)\n",
    "    print \"by y max\"\n",
    "    blagovest_data_2 = cut_data_by(blagovest_data_2, get_ind_by_y, True)\n",
    "    print \"by y to x norm max\"\n",
    "    blagovest_data_2 = cut_data_by(blagovest_data_2, get_ind_by_y_to_x_norm, True)\n",
    "    print \"by x norm min\"\n",
    "    blagovest_data_2 = cut_data_by(blagovest_data_2, get_ind_by_x_norm, False)\n",
    "    print \"by y min\"\n",
    "    blagovest_data_2 = cut_data_by(blagovest_data_2, get_ind_by_y, False)\n",
    "    print \"by y to x norm min\"\n",
    "    blagovest_data_2 = cut_data_by(blagovest_data_2, get_ind_by_y_to_x_norm, False)\n",
    "    print \"mean_diff\"\n",
    "    blagovest_data_2 = mean_diff(blagovest_data_2, normalize = True)"
   ]
  },
  {
   "cell_type": "code",
   "execution_count": null,
   "metadata": {
    "collapsed": true
   },
   "outputs": [],
   "source": []
  },
  {
   "cell_type": "markdown",
   "metadata": {},
   "source": [
    "## Saving and loading coefs"
   ]
  },
  {
   "cell_type": "code",
   "execution_count": null,
   "metadata": {
    "collapsed": true
   },
   "outputs": [],
   "source": [
    "coefs = map(lambda x: round(x, 4), regr.coef_)\n",
    "f = zip(coefs, FEATURES)\n",
    "print coefs"
   ]
  },
  {
   "cell_type": "code",
   "execution_count": null,
   "metadata": {
    "collapsed": true
   },
   "outputs": [],
   "source": [
    "import pickle\n",
    "with open('filtered_mixed_coefs_district_square_required.json', 'w') as outfile:\n",
    "    pickle.dump(coefs, outfile)"
   ]
  },
  {
   "cell_type": "code",
   "execution_count": null,
   "metadata": {
    "collapsed": true
   },
   "outputs": [],
   "source": [
    "import pickle\n",
    "with open('filtered_mixed_coefs_district_square_required.json', 'r') as infile:\n",
    "    c = pickle.load(infile)"
   ]
  },
  {
   "cell_type": "markdown",
   "metadata": {},
   "source": [
    "## Save data"
   ]
  },
  {
   "cell_type": "code",
   "execution_count": null,
   "metadata": {
    "collapsed": true
   },
   "outputs": [],
   "source": [
    "with open('metrovka_flats_metro.json', 'w') as outfile:\n",
    "    json.dump(metrovka_data, outfile)\n",
    "#json.dumps(data_2[0:1])"
   ]
  }
 ],
 "metadata": {
  "kernelspec": {
   "display_name": "Python 2",
   "language": "python",
   "name": "python2"
  },
  "language_info": {
   "codemirror_mode": {
    "name": "ipython",
    "version": 2
   },
   "file_extension": ".py",
   "mimetype": "text/x-python",
   "name": "python",
   "nbconvert_exporter": "python",
   "pygments_lexer": "ipython2",
   "version": "2.7.6"
  }
 },
 "nbformat": 4,
 "nbformat_minor": 0
}
