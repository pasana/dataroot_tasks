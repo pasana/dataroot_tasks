{
 "cells": [
  {
   "cell_type": "code",
   "execution_count": 1,
   "metadata": {
    "collapsed": true
   },
   "outputs": [],
   "source": [
    "import xml.etree.ElementTree as ET"
   ]
  },
  {
   "cell_type": "code",
   "execution_count": 2,
   "metadata": {
    "collapsed": true
   },
   "outputs": [],
   "source": [
    "ATTR = [\"_crc_\", \n",
    "\"ObjectID\", \n",
    "\"ObjectCode\", \n",
    "\"ObjectType\", \n",
    "\"Transaction\", \n",
    "\"RuType\", \n",
    "\"InsertDate\", \n",
    "\"UpdateDate\", \n",
    "\"CountryID\", \n",
    "\"StateRegID\", \n",
    "\"StateDistrID\", \n",
    "\"TownCode\", \n",
    "\"RegionCode\", \n",
    "\"Massive\", \n",
    "\"StreetCode\", \n",
    "\"DirID\", \n",
    "\"NRooms\", \n",
    "\"SqrTotal\", \n",
    "\"SqrLive\", \n",
    "\"SqrKitchen\", \n",
    "\"SqrLand\", \n",
    "\"Floor\", \n",
    "\"NFloors\", \n",
    "\"Telephone\", \n",
    "\"TelLines\", \n",
    "\"Price\", \n",
    "\"PriceDelta\", \n",
    "\"PriceDeltaDate\", \n",
    "\"PriceForM\", \n",
    "\"PriceForAre\", \n",
    "\"PriceCurrencyID\", \n",
    "\"SummaryInfo\", \n",
    "\"Private\", \n",
    "\"PrivDoc\", \n",
    "\"BldKind\", \n",
    "\"FloorKind\", \n",
    "\"CeilKind\", \n",
    "\"HeatSupp\", \n",
    "\"PlateType\", \n",
    "\"MaintState\", \n",
    "\"TechState\", \n",
    "\"TimeFree\", \n",
    "\"Parking\", \n",
    "\"Garage\", \n",
    "\"NumAccounts\", \n",
    "\"NumAccounters\", \n",
    "\"Furniture\", \n",
    "\"TVSet\", \n",
    "\"Refrigerator\", \n",
    "\"PayPeriod\", \n",
    "\"PayKind\", \n",
    "\"SaleKind\", \n",
    "\"SubRentAvail\", \n",
    "\"MoreInfo\", \n",
    "\"Category\", \n",
    "\"ElectricSupp\", \n",
    "\"GasSupp\", \n",
    "\"WaterSupp\", \n",
    "\"WCSupp\", \n",
    "\"NearForest\", \n",
    "\"NearWater\", \n",
    "\"AnotherBuild\", \n",
    "\"Transport\", \n",
    "\"Distance\", \n",
    "\"AddrNotes\", \n",
    "\"BldType\", \n",
    "\"TypeRooms\", \n",
    "\"WCBathNum\", \n",
    "\"WCBathType\", \n",
    "\"Balkon\", \n",
    "\"NumBalkons\", \n",
    "\"Children\", \n",
    "\"NLevels\", \n",
    "\"ReadyNotes\", \n",
    "\"BuildYear\", \n",
    "\"ReadyPercent\", \n",
    "\"RoofKind\", \n",
    "\"SalePart\", \n",
    "\"GroundFloor\", \n",
    "\"HighFloor\", \n",
    "\"HWaterSupp\", \n",
    "\"WCKind\", \n",
    "\"LandEnvr\", \n",
    "\"LandUse\", \n",
    "\"LandProp\", \n",
    "\"MinLand\", \n",
    "\"Approach\", \n",
    "\"NumEntrances\", \n",
    "\"PrivEntrance\", \n",
    "\"Profile\", \n",
    "\"ReProfile\", \n",
    "\"Fronton\", \n",
    "\"Equipment\", \n",
    "\"LiveFund\", \n",
    "\"Railway\"]"
   ]
  },
  {
   "cell_type": "code",
   "execution_count": 3,
   "metadata": {
    "collapsed": true
   },
   "outputs": [],
   "source": [
    "tree = ET.parse('./blagovest/Objects.xml')\n",
    "root = tree.getroot()"
   ]
  },
  {
   "cell_type": "code",
   "execution_count": 51,
   "metadata": {
    "collapsed": false
   },
   "outputs": [
    {
     "data": {
      "text/plain": [
       "'Contact'"
      ]
     },
     "execution_count": 51,
     "metadata": {},
     "output_type": "execute_result"
    }
   ],
   "source": [
    "root[0][0][0].tag"
   ]
  },
  {
   "cell_type": "code",
   "execution_count": 84,
   "metadata": {
    "collapsed": false
   },
   "outputs": [
    {
     "data": {
      "text/plain": [
       "8823"
      ]
     },
     "execution_count": 84,
     "metadata": {},
     "output_type": "execute_result"
    }
   ],
   "source": [
    "filtered_root = root.findall('./Object/[@TownCode=\"300000\"][@Transaction=\"Rent\"]')\n",
    "len(filtered_root)"
   ]
  },
  {
   "cell_type": "code",
   "execution_count": 107,
   "metadata": {
    "collapsed": false
   },
   "outputs": [],
   "source": [
    "agency_dict = {'none': 0}\n",
    "trader_dict = {'none': 0}\n",
    "for child in filtered_root:\n",
    "    try:\n",
    "        a = child[0][0].attrib['AgencyID']\n",
    "        t = child[0][0].attrib['TraderID']\n",
    "        try:\n",
    "            agency_dict[a] +=1\n",
    "            trader_dict[t] +=1 \n",
    "        except KeyError:\n",
    "            agency_dict[a] = 1\n",
    "            trader_dict[t] =1 \n",
    "    except KeyError,e:\n",
    "        if e == 'AgencyID':\n",
    "            agency_dict['none']+=1\n",
    "        else:\n",
    "            trader_dict['none']+=1"
   ]
  },
  {
   "cell_type": "code",
   "execution_count": null,
   "metadata": {
    "collapsed": false
   },
   "outputs": [],
   "source": [
    "print agency_dict\n",
    "print sum(agency_dict.values())\n",
    "print\n",
    "print trader_dict\n",
    "print sum(trader_dict.values())"
   ]
  },
  {
   "cell_type": "code",
   "execution_count": 57,
   "metadata": {
    "collapsed": false
   },
   "outputs": [
    {
     "data": {
      "text/plain": [
       "{'AgencyID': '-5',\n",
       " 'ObjectUrl': 'https://blagovist.ua/object/50362532',\n",
       " 'TraderID': '385908455',\n",
       " 'TraderName': u'\\u0421\\u043e\\u043a\\u043e\\u043b\\u044c\\u0432\\u0430\\u043a \\u042e\\u0440\\u0456\\u0439 \\u042e\\u0440\\u0456\\u0439\\u043e\\u0432\\u0438\\u0447',\n",
       " 'TraderPhones': '+380(44)498-62-99, +380(50)424-41-97',\n",
       " '_crc_': '1632392804'}"
      ]
     },
     "execution_count": 57,
     "metadata": {},
     "output_type": "execute_result"
    }
   ],
   "source": [
    "root.findall('./Object/Contacts/Contact/[@AgencyID]')[0].attrib"
   ]
  },
  {
   "cell_type": "code",
   "execution_count": 7,
   "metadata": {
    "collapsed": false
   },
   "outputs": [
    {
     "data": {
      "text/plain": [
       "37785"
      ]
     },
     "execution_count": 7,
     "metadata": {},
     "output_type": "execute_result"
    }
   ],
   "source": [
    "len(root)"
   ]
  },
  {
   "cell_type": "code",
   "execution_count": 19,
   "metadata": {
    "collapsed": false
   },
   "outputs": [
    {
     "name": "stdout",
     "output_type": "stream",
     "text": [
      "\t    object \t tot \t in Sale, % \t in total, %\n",
      "Sale\n",
      "\t    Apartment \t 16686 \t 75.47% \t 44.16%\n",
      "\t        House \t 958 \t 4.33% \t 2.54%\n",
      "\t      Nonlive \t 3826 \t 17.31% \t 10.13%\n",
      "\t         Land \t 638 \t 2.89% \t 1.69%\n",
      "\n",
      "\t    object \t tot \t in Rent, % \t in total, %\n",
      "Rent\n",
      "\t    Apartment \t 3865 \t 43.81% \t 10.23%\n",
      "\t        House \t 243 \t 2.75% \t 0.64%\n",
      "\t      Nonlive \t 4714 \t 53.43% \t 12.48%\n",
      "\t         Land \t 1 \t 0.01% \t 0.00%\n",
      "\n"
     ]
    }
   ],
   "source": [
    "total_l = float(len(root))\n",
    "for t in [\"Sale\", \"Rent\"]:\n",
    "    t_l = float(len(root.findall('./*[@Transaction=\"%s\"][@TownCode=\"300000\"]'%t)))\n",
    "    print \"\\t    object \\t tot \\t in %s, %% \\t in total, %%\" % (t)\n",
    "    print t\n",
    "    for ob in [\"Apartment\", \"House\", \"Nonlive\", \"Land\"]:\n",
    "        res=root.findall('./*[@Transaction=\"%s\"][@TownCode=\"300000\"][@ObjectType=\"%s\"]'%(t,ob))\n",
    "        ob_l = len(res)\n",
    "        print \"\\t %12s \\t %d \\t %3.2f%% \\t %3.2f%%\" %(ob, ob_l, 100*round(ob_l/t_l,4), 100*round(ob_l/total_l,4))\n",
    "    print"
   ]
  },
  {
   "cell_type": "code",
   "execution_count": 46,
   "metadata": {
    "collapsed": false
   },
   "outputs": [
    {
     "name": "stdout",
     "output_type": "stream",
     "text": [
      "0\n",
      "0\n"
     ]
    }
   ],
   "source": [
    "print len(root.findall('./*[@Transaction=\"Sale\"][@TownCode=\"300000\"][@ObjectType=\"Apartment\"]'))\n",
    "print len(root.findall('./*[@Transaction=\"Rent\"][@TownCode=\"300000\"][@ObjectType=\"Apartment\"]'))"
   ]
  },
  {
   "cell_type": "code",
   "execution_count": 112,
   "metadata": {
    "collapsed": false
   },
   "outputs": [
    {
     "data": {
      "text/plain": [
       "[<Element 'Object' at 0x7fbdbd4dda50>]"
      ]
     },
     "execution_count": 112,
     "metadata": {},
     "output_type": "execute_result"
    }
   ],
   "source": [
    "root.findall('./*[@ObjectCode=\"D-1944\"]')"
   ]
  },
  {
   "cell_type": "code",
   "execution_count": 113,
   "metadata": {
    "collapsed": false
   },
   "outputs": [
    {
     "data": {
      "text/plain": [
       "'2004-10-08 14:55:36'"
      ]
     },
     "execution_count": 113,
     "metadata": {},
     "output_type": "execute_result"
    }
   ],
   "source": [
    "root.findall('./*[@ObjectCode=\"D-1944\"]')[0].get(\"InsertDate\")"
   ]
  },
  {
   "cell_type": "code",
   "execution_count": null,
   "metadata": {
    "collapsed": false
   },
   "outputs": [],
   "source": [
    "freq = []\n",
    "l = len(root)\n",
    "for a in ATTR:\n",
    "    cur_l = len(root.findall(\"./*[@%s]\"%a))\n",
    "    freq += [[cur_l, round(cur_l/float(l)*100,2), a]]\n",
    "    #print \"%20s \\t %d \\t %3.2f\" % tuple(freq[-1])\n",
    "    \n",
    "freq.sort(reverse=True)\n",
    "\n",
    "for f in freq:\n",
    "    print \"%20s \\t %d \\t %3.2f\" % (f[-1], f[0], f[1])"
   ]
  },
  {
   "cell_type": "code",
   "execution_count": 109,
   "metadata": {
    "collapsed": false
   },
   "outputs": [],
   "source": [
    "tree = ET.parse('./blagovest/Region.xml')\n",
    "temp = tree.getroot()"
   ]
  },
  {
   "cell_type": "code",
   "execution_count": 126,
   "metadata": {
    "collapsed": false
   },
   "outputs": [],
   "source": [
    "admin_reg = [i.attrib['RegionCode'] for i in temp.findall('./*[@RegionType=\"0\"]')]\n",
    "mass_reg = [i.attrib['RegionCode'] for i in temp.findall('./*[@RegionType=\"1\"]')]"
   ]
  },
  {
   "cell_type": "code",
   "execution_count": 130,
   "metadata": {
    "collapsed": false
   },
   "outputs": [],
   "source": [
    "tree = ET.parse('./blagovest/Dictionary.xml')\n",
    "temp = tree.getroot()"
   ]
  },
  {
   "cell_type": "code",
   "execution_count": 136,
   "metadata": {
    "collapsed": false
   },
   "outputs": [],
   "source": [
    "BIULD_TYPE = [i.attrib['DicItemID'] for i in temp.findall('./*[@DicID=\"27\"]/')]\n",
    "ROOMS_TYPE = [i.attrib['DicItemID'] for i in temp.findall('./*[@DicID=\"28\"]/')]\n",
    "CEIL_KIND = [i.attrib['DicItemID'] for i in temp.findall('./*[@DicID=\"37\"]/')]\n",
    "BIULD_KIND = [i.attrib['DicItemID'] for i in temp.findall('./*[@DicID=\"35\"]/')]"
   ]
  },
  {
   "cell_type": "code",
   "execution_count": 139,
   "metadata": {
    "collapsed": false
   },
   "outputs": [
    {
     "data": {
      "text/plain": [
       "['5094',\n",
       " '5095',\n",
       " '5096',\n",
       " '5097',\n",
       " '5098',\n",
       " '5099',\n",
       " '5100',\n",
       " '5101',\n",
       " '20528',\n",
       " '20629',\n",
       " '20647',\n",
       " '20812',\n",
       " '20813',\n",
       " '21594',\n",
       " '16877220',\n",
       " '385875982',\n",
       " '385875985']"
      ]
     },
     "execution_count": 139,
     "metadata": {},
     "output_type": "execute_result"
    }
   ],
   "source": [
    "BIULD_KIND"
   ]
  },
  {
   "cell_type": "code",
   "execution_count": null,
   "metadata": {
    "collapsed": true
   },
   "outputs": [],
   "source": []
  }
 ],
 "metadata": {
  "kernelspec": {
   "display_name": "Python 2",
   "language": "python",
   "name": "python2"
  },
  "language_info": {
   "codemirror_mode": {
    "name": "ipython",
    "version": 2
   },
   "file_extension": ".py",
   "mimetype": "text/x-python",
   "name": "python",
   "nbconvert_exporter": "python",
   "pygments_lexer": "ipython2",
   "version": "2.7.6"
  }
 },
 "nbformat": 4,
 "nbformat_minor": 0
}
