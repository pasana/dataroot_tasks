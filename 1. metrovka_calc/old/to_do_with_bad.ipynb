{
 "cells": [
  {
   "cell_type": "code",
   "execution_count": 7,
   "metadata": {
    "collapsed": false
   },
   "outputs": [
    {
     "name": "stdout",
     "output_type": "stream",
     "text": [
      "6641\n"
     ]
    }
   ],
   "source": [
    "import json\n",
    "with open('./bad.json') as data_file:\n",
    "    bad = json.load(data_file)\n",
    "print len(bad)\n"
   ]
  },
  {
   "cell_type": "code",
   "execution_count": 23,
   "metadata": {
    "collapsed": false
   },
   "outputs": [
    {
     "ename": "NameError",
     "evalue": "name 'all_data_2' is not defined",
     "output_type": "error",
     "traceback": [
      "\u001b[1;31m---------------------------------------------------------------------------\u001b[0m",
      "\u001b[1;31mNameError\u001b[0m                                 Traceback (most recent call last)",
      "\u001b[1;32m<ipython-input-23-75507052ae53>\u001b[0m in \u001b[0;36m<module>\u001b[1;34m()\u001b[0m\n\u001b[0;32m      1\u001b[0m \u001b[0mind\u001b[0m \u001b[1;33m=\u001b[0m \u001b[1;36m2870\u001b[0m\u001b[1;33m\u001b[0m\u001b[0m\n\u001b[1;32m----> 2\u001b[1;33m \u001b[1;32mfor\u001b[0m \u001b[0mi\u001b[0m \u001b[1;32min\u001b[0m \u001b[0mall_data_2\u001b[0m\u001b[1;33m[\u001b[0m\u001b[0mind\u001b[0m\u001b[1;33m]\u001b[0m\u001b[1;33m.\u001b[0m\u001b[0mvalues\u001b[0m\u001b[1;33m(\u001b[0m\u001b[1;33m)\u001b[0m\u001b[1;33m:\u001b[0m\u001b[1;33m\u001b[0m\u001b[0m\n\u001b[0m\u001b[0;32m      3\u001b[0m     \u001b[1;32mprint\u001b[0m \u001b[0mi\u001b[0m\u001b[1;33m\u001b[0m\u001b[0m\n\u001b[0;32m      4\u001b[0m \u001b[1;33m[\u001b[0m\u001b[0mx\u001b[0m\u001b[1;33m,\u001b[0m\u001b[0my\u001b[0m\u001b[1;33m]\u001b[0m \u001b[1;33m=\u001b[0m \u001b[0mextract_data\u001b[0m\u001b[1;33m(\u001b[0m\u001b[0mall_data_2\u001b[0m\u001b[1;33m[\u001b[0m\u001b[0mind\u001b[0m\u001b[1;33m]\u001b[0m\u001b[1;33m)\u001b[0m\u001b[1;33m\u001b[0m\u001b[0m\n\u001b[0;32m      5\u001b[0m \u001b[1;32mprint\u001b[0m\u001b[1;33m\u001b[0m\u001b[0m\n",
      "\u001b[1;31mNameError\u001b[0m: name 'all_data_2' is not defined"
     ]
    }
   ],
   "source": [
    "ind = 2870\n",
    "for i in all_data_2[ind].values():\n",
    "    print i\n",
    "[x,y] = extract_data(all_data_2[ind])\n",
    "print\n",
    "print(\"%.2f \\t diff\"% np.mean((regr.predict(x) - y)))\n",
    "print y, \"real\"\n",
    "print regr.predict(x)[0]\n",
    "print(\"%.2f\"% np.mean(abs(regr.predict(x) - y)/y*100))"
   ]
  },
  {
   "cell_type": "code",
   "execution_count": 19,
   "metadata": {
    "collapsed": true
   },
   "outputs": [],
   "source": [
    "def get_list_of(data, field):\n",
    "    smth = []\n",
    "    for d in data:\n",
    "        try:\n",
    "            smth += [d[field]]\n",
    "        except:\n",
    "            pass\n",
    "    smth = list(set(smth))\n",
    "    smth.sort()\n",
    "    for m in smth:\n",
    "        print m\n",
    "    return smth"
   ]
  },
  {
   "cell_type": "code",
   "execution_count": 9,
   "metadata": {
    "collapsed": false
   },
   "outputs": [],
   "source": [
    "too_bad = [b for b in bad if b[-1]>100]"
   ]
  },
  {
   "cell_type": "code",
   "execution_count": 10,
   "metadata": {
    "collapsed": false
   },
   "outputs": [
    {
     "name": "stdout",
     "output_type": "stream",
     "text": [
      "653\n"
     ]
    }
   ],
   "source": [
    "print len(too_bad)"
   ]
  },
  {
   "cell_type": "code",
   "execution_count": null,
   "metadata": {
    "collapsed": false
   },
   "outputs": [],
   "source": [
    "print \n",
    "too_bad[10]\n",
    "#print too_bad[0][0]['district']"
   ]
  },
  {
   "cell_type": "code",
   "execution_count": 21,
   "metadata": {
    "collapsed": false
   },
   "outputs": [
    {
     "name": "stdout",
     "output_type": "stream",
     "text": [
      "Голосеево, Голосеевский\n",
      "Голосеевский\n",
      "Голосеевский (центр)\n",
      "Дарницкий\n",
      "Деснянский\n",
      "Днепровский\n",
      "Оболонский\n",
      "Оболонь, Оболонский\n",
      "Печерский\n",
      "Печерский (центр), Печерский\n",
      "Подольский\n",
      "Святошинский\n",
      "Соломенский\n",
      "Соцгородок, Днепровский\n",
      "Шевченковский\n"
     ]
    }
   ],
   "source": [
    "a = get_list_of(map(lambda x: x[0], too_bad), 'district')"
   ]
  },
  {
   "cell_type": "code",
   "execution_count": null,
   "metadata": {
    "collapsed": true
   },
   "outputs": [],
   "source": [
    "-704275.489400 \t Шевченковский\n",
    "-784065.799200 \t Оболонский\n",
    "-1462938.215200 \t Днепровский\n",
    "-1510356.914800 \t Соломенский\n",
    "-1573063.807000 \t Голосеевский\n",
    "-1844023.313400 \t Дарницкий\n",
    "-1908509.344900 \t Деснянский\n",
    "-1912089.267700 \t Святошинский\n",
    "-1954198.047000 \t Подольский"
   ]
  },
  {
   "cell_type": "code",
   "execution_count": null,
   "metadata": {
    "collapsed": true
   },
   "outputs": [],
   "source": [
    "errs = map(lambda x: x[1], data_for_clustering)\n",
    "index = errs.index(max(errs))\n",
    "print max(errs)\n",
    "data_for_clustering = np.delete(data_for_clustering, index, axis =0 )\n"
   ]
  },
  {
   "cell_type": "code",
   "execution_count": null,
   "metadata": {
    "collapsed": true
   },
   "outputs": [],
   "source": [
    "import matplotlib.pyplot as plt\n",
    "from mpl_toolkits.mplot3d import Axes3D\n",
    "from sklearn.cluster import KMeans\n",
    "\n",
    "data_for_clustering = map(lambda x: extract_data(x[0]) + [x[1]], bad)\n",
    "data_for_clustering = np.array(map(lambda x: x[0] + [x[1]] + [x[2]], data_for_clustering))\n",
    "y_pred = KMeans(n_clusters=20, random_state=170).fit_predict(data_for_clustering)\n",
    "print y_pred\n",
    "sum(y_pred)\n",
    "print len(y_pred), len(data_for_clustering)\n",
    "\n",
    "#plt.subplot(221)\n",
    "plt.scatter(data_for_clustering[:, -2], data_for_clustering[:, -1], c=y_pred)\n",
    "plt.xlabel('PRICE')\n",
    "plt.ylabel('ERROR')\n",
    "plt.title(\"Incorrect Number of Blobs\")\n",
    "plt.show()"
   ]
  }
 ],
 "metadata": {
  "kernelspec": {
   "display_name": "Python 2",
   "language": "python",
   "name": "python2"
  },
  "language_info": {
   "codemirror_mode": {
    "name": "ipython",
    "version": 2
   },
   "file_extension": ".py",
   "mimetype": "text/x-python",
   "name": "python",
   "nbconvert_exporter": "python",
   "pygments_lexer": "ipython2",
   "version": "2.7.6"
  }
 },
 "nbformat": 4,
 "nbformat_minor": 0
}
