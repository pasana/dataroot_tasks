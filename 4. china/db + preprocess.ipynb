{
 "cells": [
  {
   "cell_type": "code",
   "execution_count": 1,
   "metadata": {
    "collapsed": true
   },
   "outputs": [],
   "source": [
    "from pymongo import MongoClient\n",
    "\n",
    "def connect_to_prod_mongo():\n",
    "    #mongo_host = \"5.9.1.218\"\n",
    "    mongo_host = \"138.201.51.230\"\n",
    "    mongo_port = 27017\n",
    "    #mongo_db = \"dataroot-master\"\n",
    "    mongo_db = \"dataroot_nlp\"\n",
    "    #mongo_user = \"new-main-worker\"\n",
    "    #mongo_password = \"VX4xB,.i(12r{2X|N7~y}02]9533xbpA\"\n",
    "    connection = MongoClient(mongo_host, mongo_port)\n",
    "    db = connection[mongo_db]\n",
    "    #db.authenticate(mongo_user, mongo_password)\n",
    "    return db"
   ]
  },
  {
   "cell_type": "code",
   "execution_count": 2,
   "metadata": {
    "collapsed": false
   },
   "outputs": [],
   "source": [
    "db = connect_to_prod_mongo()"
   ]
  },
  {
   "cell_type": "code",
   "execution_count": 3,
   "metadata": {
    "collapsed": false
   },
   "outputs": [
    {
     "data": {
      "text/plain": [
       "[u'parsedHtml', u'test', u'companies']"
      ]
     },
     "execution_count": 3,
     "metadata": {},
     "output_type": "execute_result"
    }
   ],
   "source": [
    "db.collection_names(include_system_collections=False)"
   ]
  },
  {
   "cell_type": "code",
   "execution_count": null,
   "metadata": {
    "collapsed": true
   },
   "outputs": [],
   "source": []
  },
  {
   "cell_type": "code",
   "execution_count": 43,
   "metadata": {
    "collapsed": false
   },
   "outputs": [],
   "source": [
    "a = db.parsedHtml.find_one()"
   ]
  },
  {
   "cell_type": "code",
   "execution_count": 49,
   "metadata": {
    "collapsed": true
   },
   "outputs": [
    {
     "data": {
      "text/plain": [
       "[u'http://careers.htc.com/career/HTC-global/',\n",
       " u'http://investors.htc.com/phoenix.zhtml?c=148697&p=irol-irhome',\n",
       " u'http://www.htc.com/us/about/',\n",
       " u'http://www.htc.com/us/smartphones-b/',\n",
       " u'http://www.htc.com/us/pressroom/',\n",
       " u'http://www.htc.com/us/tablets/nexus-9/',\n",
       " u'http://www.htc.com/us/about/device-security/',\n",
       " u'http://www.htc.com/us/']"
      ]
     },
     "execution_count": 49,
     "metadata": {},
     "output_type": "execute_result"
    }
   ],
   "source": [
    "[i['body']['link'] for i in a['pages']]"
   ]
  },
  {
   "cell_type": "code",
   "execution_count": 94,
   "metadata": {
    "collapsed": false
   },
   "outputs": [],
   "source": [
    "t=[i['body']['text'] for i in a['pages']]"
   ]
  },
  {
   "cell_type": "code",
   "execution_count": 118,
   "metadata": {
    "collapsed": false,
    "scrolled": true
   },
   "outputs": [
    {
     "data": {
      "text/plain": [
       "u'\\nGlobal \\nCareers at HTC \\nAbout HTC \\nWhy HTC \\nOur People \\nApply Now \\nCareers at HTC \\nCareers at HTC \\nAbout HTC \\n\\n\\n\\nAbout HTC \\n\\nHow do we define success \\n\\nHTC Core Values \\n\\nHTC Charity \\nWhy HTC \\n\\n\\n\\nFacilities \\n\\nCompensations &amp; Benefits \\n\\nCareer Development \\n\\nOur People \\nApply Now \\n\\n\\n\\nGlobal Openings \\n\\nSummer Internship \\n\\nGlobal \\nCareers at HTC \\n\\n\\nthe pursuit of brilliance\\n&nbsp;&nbsp;&nbsp;&nbsp;&nbsp;&nbsp;&nbsp;&nbsp;\\nApply Now \\nThe place to develop your career \\n\\n\\nPeople are at the core of our innovations. It\\u2019s our talented employees of diverse cultures that have taken HTC to its leading position. Right now, we\\u2019re looking for new talents who dare to dream, are full of passion and innovative ideas to join our force. Together, we can take HTC to the next level. \\nAbout HTC \\n\\n\\nWe are dedicated to enabling a customized user experience based on the belief that each mobile device needs to fit its owner, and not the other way around. \\n\\n\\nRead more\\nLife At HTC \\n\\n\\nAt HTC, we work smart and play hard. On top of the attractive remuneration package and excellent career opportunities, we have our own gym, chef, sports hall, plus more. \\n\\n\\nRead more\\nCareers At HTC \\n\\n\\nHTC puts a premium on its employees; therefore we encourage professional and personal growth. Further training and development opportunities are designed to take your career to the next level. \\n\\n\\nRead more\\nGlobal Openings \\nView Opportunities \\n\\xd7 \\n\\n\\nCountries\\n\\nAustralia \\n\\n\\xd6sterreich \\n\\nBelgi\\xeb \\n\\nBelgique \\n\\nBrazil \\n\\nCanada - English \\n\\nCanada - Fran\\xe7ais \\n\\n\\u010cesk\\xe1 republika \\n\\n\\u4e2d\\u56fd \\n\\nDanmark \\n\\nDeutschland \\n\\nEspa\\xf1a \\n\\nSuomi \\n\\nFrance \\n\\n\\u0395\\u03bb\\u03bb\\u03ac\\u03b4\\u03b1 \\n\\nHong Kong \\n\\n\\u9999\\u6e2f \\n\\nHrvatska \\n\\nIndia \\n\\nIndonesia \\n\\nIreland \\n\\nItalia \\n\\n\\u65e5\\u672c \\n\\n\\ud55c\\uad6d \\n\\n\\u041a\\u0430\\u0437\\u0430\\u0445\\u0441\\u0442\\u0430\\u043d \\n\\nAm\\xe9rica Latina \\n\\nMagyarorsz\\xe1g \\n\\nMoyen Orient \\n\\n\\u0627\\u0644\\u0634\\u0631\\u0642 \\u0627\\u0644\\u0623\\u0648\\u0633\\u0637 \\n\\nMyanmar \\n\\nNederland \\n\\nNew Zealand \\n\\nNorge \\n\\n\\u0420\\u043e\\u0441\\u0441\\u0438\\u044f \\u0438 \\u0421\\u041d\\u0413 \\n\\nPolska \\n\\nPortugal \\n\\nRom\\xe2nia \\n\\ndie Schweiz \\n\\nSvizzera \\n\\nSuisse \\n\\n\\u0421\\u0440\\u0431\\u0438\\u0458\\u0430 \\n\\nSlovensko \\n\\nSingapore \\n\\nSverige \\n\\n\\u53f0\\u7063 \\n\\n\\u0e1b\\u0e23\\u0e30\\u0e40\\u0e17\\u0e28\\u0e44\\u0e17\\u0e22 \\n\\nT\\xfcrkiye \\n\\n\\u0423\\u043a\\u0440\\u0430\\u0457\\u043d\\u0430 \\n\\nUnited Kingdom \\n\\nUnited States \\n\\nVi\\u1ec7t Nam \\n\\nAdditional Support \\n\\n\\nJoin The Conversation: \\nThank you! \\n\\n\\nPlease enter a valid email \\n\\n\\nPlease enter a valid email\\n\\n\\nAre you a current HTC customer? \\nYes \\nNo \\n\\n\\nTo review our privacy policy, please \\nclick here. \\nProducts \\n\\nSmartphones \\n\\nAccessories \\nContact Us \\n\\nLive Online Chat \\n\\nCall \\n\\nEmail Support \\nCareer \\n\\nWorking at HTC \\nInnovations \\n\\nInnovations \\n\\nUltrapixel camera \\n\\nHTC Transfer Tools \\n\\nPower to Give \\n\\nHTC Connect \\nAbout HTC \\n\\nCompany Overview \\n\\nLeadership \\n\\nPress Room \\n\\nPress Releases \\n\\nImage Gallery \\n\\nCorporate Responsibility \\n\\nInvestor \\n\\nDevice Security \\nCommunity \\n\\nHTC Community \\n\\nSign Up \\nSites \\n\\nHTC Accessories Partners \\n\\nHTC Blog \\n\\nHTC Dev \\n\\nHTC Pro \\n\\nHTC Research \\n\\nGet Started \\n\\nRecycling \\n\\nAccessibility \\nProduct Support \\n\\nDevice Support \\n\\nOrder Help \\n\\nWarranty Policy \\nOrder Help \\n\\nOrder Status \\n\\nReturns and Cancellations \\n\\nShipping Information \\n\\nFAQs \\n\\n\\nCopyright 2011-2016 HTC Corporation. All rights reserved. \\nTERMS OF USE \\nPRIVACY POLICY \\n\\n'"
      ]
     },
     "execution_count": 118,
     "metadata": {},
     "output_type": "execute_result"
    }
   ],
   "source": [
    "a['pages'][0]['body']['text']"
   ]
  },
  {
   "cell_type": "code",
   "execution_count": 86,
   "metadata": {
    "collapsed": true
   },
   "outputs": [
    {
     "name": "stdout",
     "output_type": "stream",
     "text": [
      "http://careers.htc.com/career/HTC-global/\n",
      "http://investors.htc.com/phoenix.zhtml?c=148697&p=irol-irhome\n",
      "http://www.htc.com/us/about/\n",
      "http://www.htc.com/us/smartphones-b/\n",
      "http://www.htc.com/us/pressroom/\n",
      "http://www.htc.com/us/tablets/nexus-9/\n",
      "http://www.htc.com/us/about/device-security/\n",
      "http://www.htc.com/us/\n",
      "http://www.apple.com/newsroom/\n",
      "http://investor.apple.com\n",
      "http://www.apple.com/apple-events/\n",
      "http://www.apple.com/pr/\n",
      "http://www.apple.com/jobs/us/\n",
      "http://www.apple.com/\n",
      "http://www.apple.com/contact/\n",
      "http://www.apple.com/about/\n",
      "http://company.nokia.com/en/contact\n",
      "http://company.nokia.com/en/people-planet\n",
      "http://www.nokia.com/en_int\n",
      "http://global.blackberry.com/en/company/about-us/corporate-responsibility.html\n",
      "http://global.blackberry.com/en/company/careers.html\n",
      "http://global.blackberry.com/en/company/investors.html\n",
      "http://global.blackberry.com/en/company.html\n",
      "http://global.blackberry.com/en/home.html\n",
      "http://www.wearebosch.com/index.en.html\n",
      "http://www.bosch.com/en/com/products_services/home_products_services/heating_hot_water/heating-hot-water.php\n",
      "http://www.bosch.com/en/com/home/index.php\n",
      "http://www.bosch.com/en/com/bosch_group/board_management/board_of_management.php\n",
      "http://www.bosch.com/en/com/products_services/home_products_services/household_appliances_products_services/household-appliances.php\n",
      "http://www.bosch.com/en/com/products_services/home_products_services/power_tools_diy_enthusiasts/power-tools-for-diy-enthusiasts.php\n",
      "http://www.bosch.com/en/com/products_services/home_products_services/garden_tools/garden-tools.php\n",
      "http://www.bosch.com/en/com/bosch_group/history/company-history.html\n",
      "http://www.bosch.com/en/com/products_services/mobility/automotive_technology_products_services/automotive-technology.php\n",
      "http://www.bosch.com/en/com/products_services/mobility/diagnostics_repair_shops/diagnostics-for-repair-shops.php\n",
      "http://www.bosch.com/en/com/contact_form_3/bosch_contact.php?showExpandable=1\n",
      "http://www.bosch.com/en/com/products_services/mobility/emobility_solutions/emobility-solutions.php\n",
      "http://www.bosch.com/en/com/bosch_group/our_brands/our_brands.html\n",
      "http://www.bosch.com/en/com/home/index.php\n",
      "http://news.toshiba.com\n",
      "http://www.toshiba.com/tai/about_us.jsp\n",
      "http://www.toshiba.com/tai/about_us_companies.jsp\n",
      "http://www.toshiba.com/tai/\n",
      "http://www.tslproducts.com/?post_type=audio-monitoring\n",
      "http://www.tslproducts.com/?post_type=soundfield\n",
      "http://www.tslproducts.com/?post_type=control-systems\n",
      "http://www.tslproducts.com/contact/where-to-buy/\n",
      "http://www.tslproducts.com/control-systems-type/displays/\n",
      "http://www.tslproducts.com/control-systems-type/system-controllers/\n",
      "http://www.tslproducts.com/contact/global-sales-managers/\n",
      "http://www.tslproducts.com/?post_type=power-management\n",
      "http://www.tslproducts.com/about-us-tsl-products/careers/\n",
      "http://www.tslproducts.com/about-us-tsl-products/people/\n",
      "http://www.tslproducts.com/about-us-tsl-products/\n",
      "http://www.tslproducts.com/\n",
      "http://www.tslproducts.com/\n",
      "http://shop.panasonic.com/pna-privacy-policies.html\n",
      "http://shop.panasonic.com/latest-news\n",
      "https://business.panasonic.com/contactus\n",
      "http://shop.panasonic.com/our-company\n",
      "http://business.panasonic.com/howtobuy-governmentcontracts\n",
      "http://business.panasonic.com/panasonic-partner-programs.html\n",
      "http://business.panasonic.com/\n",
      "62\n"
     ]
    }
   ],
   "source": [
    "#print used linkes\n",
    "c=0\n",
    "for doc in db.parsedHtml.find():\n",
    "    for page in doc['pages']:\n",
    "        c+=1\n",
    "        print page['body']['link']\n",
    "print c"
   ]
  },
  {
   "cell_type": "code",
   "execution_count": 130,
   "metadata": {
    "collapsed": true
   },
   "outputs": [],
   "source": [
    "import numpy as np\n",
    "import nltk\n",
    "from nltk.metrics import *\n",
    "from nltk.tokenize import sent_tokenize, word_tokenize\n",
    "from nltk import pos_tag\n",
    "from nltk.stem import PorterStemmer\n",
    "from nltk.stem import WordNetLemmatizer\n",
    "import re"
   ]
  },
  {
   "cell_type": "code",
   "execution_count": 124,
   "metadata": {
    "collapsed": true
   },
   "outputs": [],
   "source": [
    "def removePunctuation(text):\n",
    "    p = re.compile('[^a-zA-Z0-9_ ]')\n",
    "    return p.sub('', text.lower()).strip()"
   ]
  },
  {
   "cell_type": "code",
   "execution_count": 134,
   "metadata": {
    "collapsed": false
   },
   "outputs": [
    {
     "name": "stdout",
     "output_type": "stream",
     "text": [
      "We have 733 stop words\n"
     ]
    }
   ],
   "source": [
    "with open('terrier-stop.txt') as f:\n",
    "    stop_words = [i.strip() for i in f.readlines()]\n",
    "print \"We have %d stop words\" % len(stop_words)"
   ]
  },
  {
   "cell_type": "code",
   "execution_count": 112,
   "metadata": {
    "collapsed": false
   },
   "outputs": [
    {
     "name": "stdout",
     "output_type": "stream",
     "text": [
      "sites - 8\n"
     ]
    }
   ],
   "source": [
    "#site - words\n",
    "documents = []\n",
    "for doc in db.parsedHtml.find():\n",
    "    documents += [filter(lambda x: x!= u'', \n",
    "                         map(lambda x: removePunctuation(x), #x.strip(), \n",
    "                             sum([i['body']['text'].split('\\n') for i in doc['pages']],[])\n",
    "                            )\n",
    "                     )\n",
    "                 ]\n",
    "\n",
    "print \"sites - %d\" % len(documents)"
   ]
  },
  {
   "cell_type": "code",
   "execution_count": 165,
   "metadata": {
    "collapsed": false
   },
   "outputs": [
    {
     "name": "stdout",
     "output_type": "stream",
     "text": [
      "pages - 62\n"
     ]
    }
   ],
   "source": [
    "#page - words\n",
    "documents = []\n",
    "for doc in db.parsedHtml.find():\n",
    "    for page in doc['pages']:\n",
    "        documents += [filter(lambda x: x!= u'', \n",
    "                             map(lambda x: removePunctuation(x), #x.strip(), \n",
    "                                 page['body']['text'].split('\\n')\n",
    "                                )\n",
    "                          )\n",
    "                     ]\n",
    "        \n",
    "print \"pages - %d\" % len(documents)"
   ]
  },
  {
   "cell_type": "code",
   "execution_count": 172,
   "metadata": {
    "collapsed": false
   },
   "outputs": [
    {
     "name": "stdout",
     "output_type": "stream",
     "text": [
      "sentences - 18254\n"
     ]
    }
   ],
   "source": [
    "#sentence - words\n",
    "documents = []\n",
    "for doc in db.parsedHtml.find():\n",
    "    for page in doc['pages']:\n",
    "        documents += filter(lambda x: x!= u'',\n",
    "                            map(lambda x: [removePunctuation(x)], #x.strip(), \n",
    "                                page['body']['text'].split('\\n')\n",
    "                               )\n",
    "                        )\n",
    "        \n",
    "print \"sentences - %d\" % len(documents)"
   ]
  },
  {
   "cell_type": "code",
   "execution_count": null,
   "metadata": {
    "collapsed": true
   },
   "outputs": [],
   "source": []
  },
  {
   "cell_type": "code",
   "execution_count": 57,
   "metadata": {
    "collapsed": false
   },
   "outputs": [],
   "source": [
    "#filter code\n",
    "for i, doc in enumerate(documents):\n",
    "    documents[i] = [ d for d in doc if not('{' in d or '}' in d or d[-2:]==');')]"
   ]
  },
  {
   "cell_type": "code",
   "execution_count": 144,
   "metadata": {
    "collapsed": false
   },
   "outputs": [],
   "source": [
    "documents = [doc for doc in documents if len(doc) >10]"
   ]
  },
  {
   "cell_type": "code",
   "execution_count": 173,
   "metadata": {
    "collapsed": false
   },
   "outputs": [],
   "source": [
    "#with open('site - words.txt', 'w+') as f:\n",
    "#with open('page - words.txt', 'w+') as f:\n",
    "with open('sentence - words.txt', 'w+') as f:\n",
    "    for doc in documents:\n",
    "        f.write(' '.join(doc).encode('utf-8')+'\\n')"
   ]
  },
  {
   "cell_type": "code",
   "execution_count": null,
   "metadata": {
    "collapsed": true
   },
   "outputs": [],
   "source": []
  },
  {
   "cell_type": "code",
   "execution_count": null,
   "metadata": {
    "collapsed": true
   },
   "outputs": [],
   "source": []
  },
  {
   "cell_type": "code",
   "execution_count": 175,
   "metadata": {
    "collapsed": false
   },
   "outputs": [],
   "source": [
    "#cut out stop words ans stem\n",
    "ps = PorterStemmer()\n",
    "for i, el in enumerate(documents):\n",
    "    for j, doc in enumerate(el):\n",
    "        documents[i][j] = ' '.join(\n",
    "                                    map(lambda x: ps.stem(x),\n",
    "                                        filter(lambda x: x not in stop_words, \n",
    "                                          word_tokenize(doc))\n",
    "                                       )\n",
    "                                   )\n",
    "    documents[i] = filter(lambda x: x!=u'', documents[i])"
   ]
  },
  {
   "cell_type": "code",
   "execution_count": 178,
   "metadata": {
    "collapsed": false
   },
   "outputs": [
    {
     "data": {
      "text/plain": [
       "[[u'global'],\n",
       " [u'career htc'],\n",
       " [u'htc'],\n",
       " [u'htc'],\n",
       " [u'peopl'],\n",
       " [u'appli now'],\n",
       " [u'career htc'],\n",
       " [u'career htc'],\n",
       " [u'htc'],\n",
       " [u'htc'],\n",
       " [u'defin success'],\n",
       " [u'htc core valu'],\n",
       " [u'htc chariti'],\n",
       " [u'htc'],\n",
       " [u'facil'],\n",
       " [u'compens amp benefit'],\n",
       " [u'career develop'],\n",
       " [u'peopl'],\n",
       " [u'appli now'],\n",
       " [u'global open']]"
      ]
     },
     "execution_count": 178,
     "metadata": {},
     "output_type": "execute_result"
    }
   ],
   "source": [
    "documents[0:20]"
   ]
  },
  {
   "cell_type": "code",
   "execution_count": null,
   "metadata": {
    "collapsed": true
   },
   "outputs": [],
   "source": []
  }
 ],
 "metadata": {
  "kernelspec": {
   "display_name": "Python 2",
   "language": "python",
   "name": "python2"
  },
  "language_info": {
   "codemirror_mode": {
    "name": "ipython",
    "version": 2
   },
   "file_extension": ".py",
   "mimetype": "text/x-python",
   "name": "python",
   "nbconvert_exporter": "python",
   "pygments_lexer": "ipython2",
   "version": "2.7.6"
  }
 },
 "nbformat": 4,
 "nbformat_minor": 0
}
