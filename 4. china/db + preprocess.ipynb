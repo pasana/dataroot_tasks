{
 "cells": [
  {
   "cell_type": "markdown",
   "metadata": {},
   "source": [
    "## Connect to database"
   ]
  },
  {
   "cell_type": "code",
   "execution_count": null,
   "metadata": {
    "collapsed": true
   },
   "outputs": [],
   "source": [
    "from pymongo import MongoClient\n",
    "\n",
    "def connect_to_prod_mongo():\n",
    "    #mongo_host = \"5.9.1.218\"\n",
    "    mongo_host = \"138.201.51.230\"\n",
    "    mongo_port = 27017\n",
    "    #mongo_db = \"dataroot-master\"\n",
    "    mongo_db = \"dataroot_nlp\"\n",
    "    #mongo_user = \"new-main-worker\"\n",
    "    #mongo_password = \"VX4xB,.i(12r{2X|N7~y}02]9533xbpA\"\n",
    "    connection = MongoClient(mongo_host, mongo_port)\n",
    "    db = connection[mongo_db]\n",
    "    #db.authenticate(mongo_user, mongo_password)\n",
    "    return db"
   ]
  },
  {
   "cell_type": "code",
   "execution_count": null,
   "metadata": {
    "collapsed": false
   },
   "outputs": [],
   "source": [
    "db = connect_to_prod_mongo()"
   ]
  },
  {
   "cell_type": "markdown",
   "metadata": {},
   "source": [
    "## Play to make out"
   ]
  },
  {
   "cell_type": "code",
   "execution_count": null,
   "metadata": {
    "collapsed": false
   },
   "outputs": [],
   "source": [
    "db.collection_names(include_system_collections=False)"
   ]
  },
  {
   "cell_type": "code",
   "execution_count": null,
   "metadata": {
    "collapsed": false
   },
   "outputs": [],
   "source": [
    "a = db.parsedHtml.find_one()"
   ]
  },
  {
   "cell_type": "code",
   "execution_count": null,
   "metadata": {
    "collapsed": false
   },
   "outputs": [],
   "source": [
    "[i['body']['link'] for i in a['pages']]"
   ]
  },
  {
   "cell_type": "code",
   "execution_count": null,
   "metadata": {
    "collapsed": false
   },
   "outputs": [],
   "source": [
    "t=[i['body']['text'] for i in a['pages']]"
   ]
  },
  {
   "cell_type": "code",
   "execution_count": null,
   "metadata": {
    "collapsed": false,
    "scrolled": true
   },
   "outputs": [],
   "source": [
    "a['pages'][0]['body']['text']"
   ]
  },
  {
   "cell_type": "code",
   "execution_count": null,
   "metadata": {
    "collapsed": false
   },
   "outputs": [],
   "source": [
    "#print used linkes\n",
    "c=0\n",
    "for doc in db.parsedHtml.find():\n",
    "    for page in doc['pages']:\n",
    "        c+=1\n",
    "        print page['body']['link']\n",
    "print c"
   ]
  },
  {
   "cell_type": "markdown",
   "metadata": {},
   "source": [
    "## Preprocess preprocessing"
   ]
  },
  {
   "cell_type": "code",
   "execution_count": null,
   "metadata": {
    "collapsed": true
   },
   "outputs": [],
   "source": [
    "import numpy as np\n",
    "import nltk\n",
    "from nltk.metrics import *\n",
    "from nltk.tokenize import sent_tokenize, word_tokenize\n",
    "from nltk import pos_tag\n",
    "from nltk.stem import PorterStemmer\n",
    "from nltk.stem import WordNetLemmatizer\n",
    "import re"
   ]
  },
  {
   "cell_type": "code",
   "execution_count": null,
   "metadata": {
    "collapsed": true
   },
   "outputs": [],
   "source": [
    "def removePunctuation(text):\n",
    "    p = re.compile('[^a-zA-Z0-9_ ]')\n",
    "    return p.sub('', text.lower()).strip()"
   ]
  },
  {
   "cell_type": "code",
   "execution_count": null,
   "metadata": {
    "collapsed": false
   },
   "outputs": [],
   "source": [
    "with open('terrier-stop.txt') as f:\n",
    "    stop_words = [i.strip() for i in f.readlines()]\n",
    "print \"We have %d stop words\" % len(stop_words)"
   ]
  },
  {
   "cell_type": "markdown",
   "metadata": {},
   "source": [
    "## Create one of datasets"
   ]
  },
  {
   "cell_type": "code",
   "execution_count": null,
   "metadata": {
    "collapsed": false
   },
   "outputs": [],
   "source": [
    "#site - words\n",
    "documents = []\n",
    "for doc in db.parsedHtml.find():\n",
    "    documents += [filter(lambda x: x!= u'', \n",
    "                         map(lambda x: removePunctuation(x), #x.strip(), \n",
    "                             sum([i['body']['text'].split('\\n') for i in doc['pages']],[])\n",
    "                            )\n",
    "                     )\n",
    "                 ]\n",
    "\n",
    "print \"sites - %d\" % len(documents)"
   ]
  },
  {
   "cell_type": "code",
   "execution_count": null,
   "metadata": {
    "collapsed": false
   },
   "outputs": [],
   "source": [
    "#page - words\n",
    "documents = []\n",
    "for doc in db.parsedHtml.find():\n",
    "    for page in doc['pages']:\n",
    "        documents += [filter(lambda x: x!= u'', \n",
    "                             map(lambda x: removePunctuation(x), #x.strip(), \n",
    "                                 page['body']['text'].split('\\n')\n",
    "                                )\n",
    "                          )\n",
    "                     ]\n",
    "        \n",
    "print \"pages - %d\" % len(documents)"
   ]
  },
  {
   "cell_type": "code",
   "execution_count": null,
   "metadata": {
    "collapsed": false
   },
   "outputs": [],
   "source": [
    "#sentence - words\n",
    "documents = []\n",
    "for doc in db.parsedHtml.find():\n",
    "    for page in doc['pages']:\n",
    "        documents += filter(lambda x: x!= u'',\n",
    "                            map(lambda x: [removePunctuation(x)], #x.strip(), \n",
    "                                page['body']['text'].split('\\n')\n",
    "                               )\n",
    "                        )\n",
    "        \n",
    "print \"sentences - %d\" % len(documents)"
   ]
  },
  {
   "cell_type": "markdown",
   "metadata": {},
   "source": [
    "## Clean it (to be done)"
   ]
  },
  {
   "cell_type": "code",
   "execution_count": null,
   "metadata": {
    "collapsed": false
   },
   "outputs": [],
   "source": [
    "#filter code\n",
    "for i, doc in enumerate(documents):\n",
    "    documents[i] = [ d for d in doc if not('{' in d or '}' in d or d[-2:]==');')]"
   ]
  },
  {
   "cell_type": "code",
   "execution_count": null,
   "metadata": {
    "collapsed": false
   },
   "outputs": [],
   "source": [
    "documents = [doc for doc in documents if len(doc) >10]"
   ]
  },
  {
   "cell_type": "markdown",
   "metadata": {},
   "source": [
    "## Save it file"
   ]
  },
  {
   "cell_type": "code",
   "execution_count": null,
   "metadata": {
    "collapsed": false
   },
   "outputs": [],
   "source": [
    "#with open('site - words.txt', 'w+') as f:\n",
    "#with open('page - words.txt', 'w+') as f:\n",
    "with open('sentence - words.txt', 'w+') as f:\n",
    "    for doc in documents:\n",
    "        f.write(' '.join(doc).encode('utf-8')+'\\n')"
   ]
  },
  {
   "cell_type": "markdown",
   "metadata": {
    "collapsed": true
   },
   "source": [
    "## Just get rid of stopwords"
   ]
  },
  {
   "cell_type": "code",
   "execution_count": null,
   "metadata": {
    "collapsed": true
   },
   "outputs": [],
   "source": [
    "#cut out stop words ans stem\n",
    "ps = PorterStemmer()\n",
    "for i, el in enumerate(documents):\n",
    "    for j, doc in enumerate(el):\n",
    "        documents[i][j] = ' '.join(filter(lambda x: x not in stop_words, word_tokenize(doc)))\n",
    "    documents[i] = filter(lambda x: x!=u'', documents[i])"
   ]
  },
  {
   "cell_type": "markdown",
   "metadata": {},
   "source": [
    "## Just stem"
   ]
  },
  {
   "cell_type": "code",
   "execution_count": null,
   "metadata": {
    "collapsed": true
   },
   "outputs": [],
   "source": [
    "#cut out stop words ans stem\n",
    "ps = PorterStemmer()\n",
    "for i, el in enumerate(documents):\n",
    "    for j, doc in enumerate(el):\n",
    "        documents[i][j] = ' '.join(map(lambda x: ps.stem(x), word_tokenize(doc)))\n",
    "    documents[i] = filter(lambda x: x!=u'', documents[i])"
   ]
  },
  {
   "cell_type": "markdown",
   "metadata": {},
   "source": [
    "## Get rid of stopwords + stem"
   ]
  },
  {
   "cell_type": "code",
   "execution_count": null,
   "metadata": {
    "collapsed": false
   },
   "outputs": [],
   "source": [
    "#cut out stop words ans stem\n",
    "ps = PorterStemmer()\n",
    "for i, el in enumerate(documents):\n",
    "    for j, doc in enumerate(el):\n",
    "        documents[i][j] = ' '.join(\n",
    "                                    map(lambda x: ps.stem(x),\n",
    "                                        filter(lambda x: x not in stop_words, \n",
    "                                          word_tokenize(doc))\n",
    "                                       )\n",
    "                                   )\n",
    "    documents[i] = filter(lambda x: x!=u'', documents[i])"
   ]
  },
  {
   "cell_type": "code",
   "execution_count": null,
   "metadata": {
    "collapsed": true
   },
   "outputs": [],
   "source": []
  }
 ],
 "metadata": {
  "kernelspec": {
   "display_name": "Python 2",
   "language": "python",
   "name": "python2"
  },
  "language_info": {
   "codemirror_mode": {
    "name": "ipython",
    "version": 2
   },
   "file_extension": ".py",
   "mimetype": "text/x-python",
   "name": "python",
   "nbconvert_exporter": "python",
   "pygments_lexer": "ipython2",
   "version": "2.7.6"
  }
 },
 "nbformat": 4,
 "nbformat_minor": 0
}
