{
 "cells": [
  {
   "cell_type": "code",
   "execution_count": 1,
   "metadata": {
    "collapsed": true
   },
   "outputs": [],
   "source": [
    "import os\n",
    "import glob\n",
    "import json\n",
    "import numpy as np\n",
    "import copy\n",
    "import re\n",
    "import threading"
   ]
  },
  {
   "cell_type": "code",
   "execution_count": 2,
   "metadata": {
    "collapsed": true
   },
   "outputs": [],
   "source": [
    "domains = 'com|co.in|com.hk|de||co.uk|co.jp|fr|com.br|it|ru|es|ca|com.mx|co.id|com.tr|com.au|pl|com.sa|nl|com.ar|com.eg|co.th|com.pk|co.za|com.my|be|gr|com.vn|co.ve|com.tw|com.ua|at|se|com.co|ro|ch|pt|com.ph|cl|com.ng|com.sg|com.pe|ae|co.kr|co.hu|ie|dk|no|co.il|fi|cz|co.ma|sk|co.nz|com.kw|lk|bg|com.qa|az|kz|com.do|hr|by|com.ec|lt|iq|co.ke|com.bd|com.om|tn|si|co.cr|com.gt|com.pr|com.sv|lv|com.uy|jo|com.bo|ba|com.cu|rs|com.ly|cm|ee|co.ug|com.bh|com.np|com.gh|dz|lu|com.lb|co.uz|ci|com.py|com.ni|hn|com.et|tt|co.tz|mg|sn|cd|com.kh|am|com.af|ge|mu|com.bn|co.mz|com.jm|com.gi|is|com.pa|md|ps|com.na|mn|com.mt|co.bw|bj|kg|ml|rw|co.zm|bs|ht|la|com.bz|co.zw|as|cat|mk|ne|mw|tg|co.ao|gp|gy|bf|ga|li|co|tm|dj|mv|hk|sc|dm|bi|co.vi|vu|ad|com.vc|com.ag|com.fj|to|cf|fm|tk|gg|ws|vg|im|nu|gm|je|ms|me|co.im|tl|com.ai|gl|co.ls|co.je|st|it.ao|com.by|com.tj|pn|sh|com.sl|nr|sm|cg|co.ck|com.sb|com.cy|so|com.nf|com.ve|com.iq|jp|ac|com.tn|in|td'\n",
    "\n",
    "pattern = u'^http[s]*://(www.|www.clck|ru.|go.|nova.|m.|r.search.|)(?P<ref>[\\w]+).(%s)(?P<tail>[\\w/=%%-]*)'%domains\n",
    "\n",
    "var_values = 'country|illness|direction|procedure|operation|city'\n",
    "one_var_pattern = '(?P<head>/(clinics|treatment|doctors|cities)/)(?P<var>(%s))=[\\w]*'%var_values\n",
    "two_var_pattern = '(?P<head>/(clinics|treatment)/)(?P<var1>(%s))=[\\w]*/(?P<var2>(%s))=[\\w]*'%(var_values, var_values)\n",
    "object_pattern = '/(?P<var>(clinic|article|doctor|agency|program|diagnosticsKind|diagnostic))/[\\w-]*'\n",
    "review_pattern = '/(?P<var>(review|diagnosticsKind|diagnostic))/[0-9]*'\n",
    "\n",
    "this_path = './sessions'"
   ]
  },
  {
   "cell_type": "code",
   "execution_count": 3,
   "metadata": {
    "collapsed": true
   },
   "outputs": [],
   "source": [
    "def get_relation_mat(data_t):\n",
    "    N=len(data_t)\n",
    "    r  = re.compile('^http[s]*://[ru.]*bookimed.com(?P<path>/[\\w/=-]*)')\n",
    "    mat = np.zeros((N,N))\n",
    "    for i in range(0,N):\n",
    "        for j in range(i+1,N):\n",
    "            if data_t[j]['path']==data_t[i]['path'] and data_t[j]['referrer']==data_t[i]['referrer']:\n",
    "                if data_t[j]['type']==3:\n",
    "                    mat[i,j] = 2\n",
    "                    continue\n",
    "                if data_t[j]['type']==data_t[i]['type'] and data_t[i]['type']==1:\n",
    "                    d1 = copy.deepcopy(data_t[i])\n",
    "                    d2 = copy.deepcopy(data_t[j])\n",
    "                    #d1 = data_t[i].values()\n",
    "                    #d2 = data_t[j].values()\n",
    "                    if d1.pop('timestamp')!=d2.pop('timestamp'):\n",
    "                        d1.pop('userId')\n",
    "                        d2.pop('userId')\n",
    "                        try:\n",
    "                            d1.pop('originalTimestamp')\n",
    "                            d2.pop('originalTimestamp')\n",
    "                        except:\n",
    "                            pass\n",
    "                        if d1==d2:\n",
    "                            mat[i,j]=3\n",
    "                            continue\n",
    "                if data_t[j]['type']==2:\n",
    "                    if data_t[j]['event']==2:\n",
    "                        mat[i,j]=4\n",
    "                        continue\n",
    "                    if data_t[j]['event']==3:\n",
    "                        mat[i,j]=5\n",
    "                        continue\n",
    "                    if data_t[j]['event']==1:\n",
    "                        mat[i,j]=6\n",
    "                        continue\n",
    "            else:\n",
    "                try:\n",
    "                    ref = re.match(r, data_t[j]['referrer']).groupdict()['path'] \n",
    "                except:\n",
    "                    ref = data_t[j]['referrer']\n",
    "                if ref==data_t[i]['path']:\n",
    "                    mat[i,j] = 1\n",
    "                    continue\n",
    "    return mat"
   ]
  },
  {
   "cell_type": "code",
   "execution_count": 77,
   "metadata": {
    "collapsed": false
   },
   "outputs": [],
   "source": [
    "def get_paths(mat_t):\n",
    "    N = mat_t.shape[0]\n",
    "    paths = []\n",
    "    if N-1 == 0:\n",
    "        path = []\n",
    "        if data[0]['type']==1:\n",
    "            path+=[data[0]['path']]\n",
    "            try:\n",
    "                path+=[re.match(r, data[0]['referrer']).groupdict()['path'] ]\n",
    "            except:\n",
    "                path+=[data[0]['referrer']]\n",
    "        if data[0]['type']==3:\n",
    "            path+=['identify']\n",
    "        paths+=[path]\n",
    "    for j in range(N-1,0,-1):\n",
    "        i=N-1\n",
    "        path = []\n",
    "        while (i>0) and (j>=1):\n",
    "            #print j\n",
    "            if sum(mat_t[0:i,j])==0:\n",
    "                path += [data[j]['path']]\n",
    "                path += [data[j]['referrer']]\n",
    "                if j>1:\n",
    "                    break\n",
    "            for i in range(j-1,-1,-1):\n",
    "                #print \"\\t %d\" % i, mat_t[i,j]\n",
    "                if mat_t[i,j]==0:\n",
    "                    continue\n",
    "                if mat_t[i,j] == 1:\n",
    "                    path += [data[j]['path']]\n",
    "                    break\n",
    "                if mat_t[i,j] == 2:\n",
    "                    path += ['identify']\n",
    "                    break\n",
    "                if mat_t[i,j] == 3:\n",
    "                    #path += [data[j]['path']]\n",
    "                    break\n",
    "                    pass\n",
    "                if mat_t[i,j] == 4:\n",
    "                    path += [u'Requested Treatment']\n",
    "                    break\n",
    "                if mat_t[i,j] == 5:\n",
    "                    path += [u'Requested Callback']\n",
    "                    break\n",
    "                if mat_t[i,j] == 6:\n",
    "                    #print data[j]\n",
    "                    path += [data[j]['properties']['button_type']]\n",
    "                    break                  \n",
    "            if i==0:\n",
    "                if data[0]['type']==1:\n",
    "                    path+=[data[0]['path']]\n",
    "                    try:\n",
    "                        path+=[re.match(r, data[0]['referrer']).groupdict()['path'] ]\n",
    "                    except:\n",
    "                        path+=[data[0]['referrer']]\n",
    "                if data[0]['type']==3:\n",
    "                    path+=['identify']\n",
    "            j=i\n",
    "            #print \"\\t \\t\" ,i,j, b\n",
    "            #print (i!=0 or j!=1), '=', (i!=0), (j!=1)\n",
    "        paths += [path]\n",
    "    return paths"
   ]
  },
  {
   "cell_type": "code",
   "execution_count": 5,
   "metadata": {
    "collapsed": true
   },
   "outputs": [],
   "source": [
    "def filter_paths(paths_t):\n",
    "    inds=[]\n",
    "    paths=sorted(paths_t, key=lambda x: len(x),reverse=True)\n",
    "    for i in range(len(paths)-1,-1,-1):\n",
    "        for j in range(i-1,-1,-1):\n",
    "            l = len(paths[j]) - len(paths[i])\n",
    "            if paths[j][l:]==paths[i]:\n",
    "                inds+=[i]\n",
    "                break\n",
    "    for i in inds:\n",
    "        tenp=paths.pop(i)\n",
    "    return paths"
   ]
  },
  {
   "cell_type": "code",
   "execution_count": 6,
   "metadata": {
    "collapsed": false
   },
   "outputs": [],
   "source": [
    "def simplify_path(paths_t):\n",
    "    for path in paths_t:\n",
    "        for i in range(0, len(path)):\n",
    "            try:\n",
    "                ref = re.match(pattern, path[i]).groupdict()['ref']\n",
    "                if ref == 'bookimed':\n",
    "                    path[i] = re.match(pattern, path[i]).groupdict()['tail']\n",
    "                else:\n",
    "                    path[i] = ref\n",
    "            except:\n",
    "                pass\n",
    "            try:\n",
    "                temp = re.match(object_pattern, path[i]).groupdict()\n",
    "                path[i] = '/' + temp['var'] +'/'+ temp['var'] + '_name/'\n",
    "            except:\n",
    "                pass\n",
    "            try:\n",
    "                temp = re.match(review_pattern, path[i]).groupdict()\n",
    "                path[i] = '/' + temp['var'] +'/num/'\n",
    "            except:\n",
    "                pass        \n",
    "            try:\n",
    "                temp = re.match(two_var_pattern, path[i]).groupdict()\n",
    "                path[i] = temp['head']+temp['var1']+'/'+temp['var2']+'/'\n",
    "            except:\n",
    "                try:\n",
    "                    temp = re.match(one_var_pattern, path[i]).groupdict()\n",
    "                    path[i] = temp['head']+temp['var']+'/'\n",
    "                except:\n",
    "                    pass\n",
    "            if '?' in str(path[i]):\n",
    "                path[i] = path[i][:path[i].index('?')]\n",
    "    return paths_t"
   ]
  },
  {
   "cell_type": "code",
   "execution_count": 7,
   "metadata": {
    "collapsed": true
   },
   "outputs": [],
   "source": [
    "def paths_to_str(paths_t):\n",
    "    str_paths = []\n",
    "    for i in paths_t:\n",
    "        str_paths += [' , '.join(list(reversed(i)))]\n",
    "    return str_paths"
   ]
  },
  {
   "cell_type": "code",
   "execution_count": 8,
   "metadata": {
    "collapsed": false
   },
   "outputs": [],
   "source": [
    "def paths_extract(l,r):\n",
    "    for file_name in files[l:r]:\n",
    "        f = open('%s/%s'%(this_path,file_name))\n",
    "        context = f.readlines()\n",
    "        data = []\n",
    "        for i in context[:]:\n",
    "            try:\n",
    "                data += [json.loads(i.replace(',\\n','').replace('\\n',''))]\n",
    "            except:\n",
    "                pass\n",
    "        data=sorted(data, key=lambda x: x['timestamp'])\n",
    "        for path in paths_to_str(simplify_path(filter_paths(get_paths(get_relation_mat(data))))):\n",
    "            output.write(path.encode('utf-8') + '\\n')\n",
    "            all_paths += [path]\n",
    "        f.close()\n",
    "    print \"Done %d - %d\" %(l,r)"
   ]
  },
  {
   "cell_type": "code",
   "execution_count": null,
   "metadata": {
    "collapsed": false
   },
   "outputs": [],
   "source": [
    "#all_paths = []\n",
    "output = open('all_paths_for_all_sessions.txt', 'w+')\n",
    "for file_name in files[:]:\n",
    "    f = open('%s/%s'%(this_path, file_name))\n",
    "    context = f.readlines()\n",
    "    data = []\n",
    "    for i in context[:]:\n",
    "        try:\n",
    "            data += [json.loads(i.replace(',\\n','').replace('\\n',''))]\n",
    "        except:\n",
    "            pass\n",
    "    data=sorted(data, key=lambda x: x['timestamp'])\n",
    "    for path in paths_to_str(simplify_path(filter_paths(get_paths(get_relation_mat(data))))):\n",
    "        output.write(path.encode('utf-8') + '\\n')\n",
    "        #all_paths += [path]\n",
    "    #output.write('%s \\n------------\\n'%file_name)\n",
    "    if files.index(file_name)%10000==0:\n",
    "        print \"+1\"\n",
    "output.close()"
   ]
  },
  {
   "cell_type": "code",
   "execution_count": null,
   "metadata": {
    "collapsed": true
   },
   "outputs": [],
   "source": [
    "all_paths = []\n",
    "output = open('paths.txt', 'w')"
   ]
  },
  {
   "cell_type": "code",
   "execution_count": 33,
   "metadata": {
    "collapsed": true
   },
   "outputs": [],
   "source": [
    "files = [os.path.basename(x) for x in glob.glob('%s/*.json'%this_path)]"
   ]
  },
  {
   "cell_type": "code",
   "execution_count": 90,
   "metadata": {
    "collapsed": false
   },
   "outputs": [
    {
     "name": "stdout",
     "output_type": "stream",
     "text": [
      "337087\n",
      "41547\n",
      "14660\n",
      "7488\n",
      "4535\n",
      "3080\n",
      "2268\n",
      "1749\n",
      "1415\n",
      "1154\n",
      "985\n",
      "851\n",
      "753\n",
      "667\n",
      "589\n",
      "542\n",
      "496\n",
      "449\n",
      "419\n",
      "376\n",
      "352\n",
      "323\n",
      "311\n",
      "289\n",
      "281\n",
      "261\n",
      "243\n",
      "229\n",
      "221\n",
      "213\n",
      "201\n",
      "191\n",
      "185\n",
      "175\n",
      "169\n",
      "165\n",
      "157\n",
      "150\n",
      "145\n",
      "140\n",
      "135\n",
      "135\n",
      "131\n",
      "128\n",
      "125\n",
      "123\n",
      "119\n",
      "118\n",
      "115\n",
      "110\n",
      "110\n",
      "109\n",
      "103\n",
      "100\n",
      "102\n",
      "102\n",
      "97\n",
      "98\n",
      "98\n",
      "96\n",
      "93\n",
      "92\n",
      "91\n",
      "90\n",
      "88\n",
      "88\n",
      "87\n",
      "88\n",
      "84\n",
      "84\n",
      "82\n",
      "81\n",
      "77\n",
      "77\n",
      "76\n",
      "74\n",
      "74\n",
      "72\n",
      "69\n",
      "66\n",
      "66\n",
      "62\n",
      "63\n",
      "62\n",
      "60\n",
      "61\n",
      "56\n",
      "56\n",
      "56\n",
      "54\n",
      "51\n",
      "52\n",
      "50\n",
      "49\n",
      "49\n",
      "49\n",
      "48\n",
      "48\n",
      "49\n"
     ]
    }
   ],
   "source": [
    "for i in range(1,100):\n",
    "    files = [os.path.basename(x) for x in glob.glob('./sessions/*, session_%d.json'%i)]\n",
    "    print len(files)"
   ]
  },
  {
   "cell_type": "code",
   "execution_count": 88,
   "metadata": {
    "collapsed": false
   },
   "outputs": [
    {
     "data": {
      "text/plain": [
       "7488"
      ]
     },
     "execution_count": 88,
     "metadata": {},
     "output_type": "execute_result"
    }
   ],
   "source": [
    "len(files)"
   ]
  },
  {
   "cell_type": "code",
   "execution_count": null,
   "metadata": {
    "collapsed": false,
    "scrolled": true
   },
   "outputs": [],
   "source": [
    "ts = []\n",
    "l_files = len(files)/100\n",
    "N = 10\n",
    "for i in range(0,N):\n",
    "    ts += [threading.Thread(target=paths_extract, args=(l_files*i/N,l_files*(i+1)/N))]\n",
    "\n",
    "for t in ts:\n",
    "    t.start()"
   ]
  },
  {
   "cell_type": "code",
   "execution_count": null,
   "metadata": {
    "collapsed": true
   },
   "outputs": [],
   "source": [
    "output.close()"
   ]
  },
  {
   "cell_type": "code",
   "execution_count": null,
   "metadata": {
    "collapsed": false
   },
   "outputs": [],
   "source": [
    "len(files)"
   ]
  },
  {
   "cell_type": "code",
   "execution_count": null,
   "metadata": {
    "collapsed": false
   },
   "outputs": [],
   "source": [
    "len(all_paths)"
   ]
  },
  {
   "cell_type": "code",
   "execution_count": null,
   "metadata": {
    "collapsed": false
   },
   "outputs": [],
   "source": [
    "len(set(all_paths))"
   ]
  },
  {
   "cell_type": "code",
   "execution_count": null,
   "metadata": {
    "collapsed": true
   },
   "outputs": [],
   "source": [
    "srt = sorted(list(set(all_paths)), key = lambda x: all_paths.count(x), reverse=True)"
   ]
  },
  {
   "cell_type": "code",
   "execution_count": null,
   "metadata": {
    "collapsed": true
   },
   "outputs": [],
   "source": []
  },
  {
   "cell_type": "code",
   "execution_count": 75,
   "metadata": {
    "collapsed": false
   },
   "outputs": [],
   "source": [
    "f = open('%s/%s'%(this_path,files[-5]))\n",
    "context = f.readlines()\n",
    "data = []\n",
    "for i in context[:]:\n",
    "    try:\n",
    "        data += [json.loads(i.replace(',\\n','').replace('\\n',''))]\n",
    "    except:\n",
    "        pass\n",
    "data=sorted(data, key=lambda x: x['timestamp'])"
   ]
  },
  {
   "cell_type": "code",
   "execution_count": 78,
   "metadata": {
    "collapsed": false
   },
   "outputs": [
    {
     "data": {
      "text/plain": [
       "[u'/clinics/country/ , /clinic/clinic_name/ , auto_help']"
      ]
     },
     "execution_count": 78,
     "metadata": {},
     "output_type": "execute_result"
    }
   ],
   "source": [
    "paths_to_str(simplify_path(filter_paths(get_paths(get_relation_mat(data)))))"
   ]
  },
  {
   "cell_type": "code",
   "execution_count": 79,
   "metadata": {
    "collapsed": false
   },
   "outputs": [
    {
     "data": {
      "text/plain": [
       "[{u'event': None,\n",
       "  u'fingerPrint': u'67e5fc3b8db7b3ad6d9ab2d23635e678',\n",
       "  u'ip': u'90.143.38.246',\n",
       "  u'path': u'/clinic/bolnica-gil-medicinskogo-universiteta-gachon/',\n",
       "  u'properties': None,\n",
       "  u'referrer': u'/clinics/country=republic-of-korea/illness=ptoz--opuschennie-veka/',\n",
       "  u'search': u'',\n",
       "  u'timestamp': u'2016-05-09T08:41:24.034+0000',\n",
       "  u'type': 1,\n",
       "  u'userId': None},\n",
       " {u'event': 1.0,\n",
       "  u'fingerPrint': u'67e5fc3b8db7b3ad6d9ab2d23635e678',\n",
       "  u'ip': u'90.143.38.246',\n",
       "  u'path': u'/clinic/bolnica-gil-medicinskogo-universiteta-gachon/',\n",
       "  u'properties': {u'button_type': u'auto_help'},\n",
       "  u'referrer': u'/clinics/country=republic-of-korea/illness=ptoz--opuschennie-veka/',\n",
       "  u'search': u'',\n",
       "  u'timestamp': u'2016-05-09T08:42:05.271+0000',\n",
       "  u'type': 2,\n",
       "  u'userId': None}]"
      ]
     },
     "execution_count": 79,
     "metadata": {},
     "output_type": "execute_result"
    }
   ],
   "source": [
    "data"
   ]
  },
  {
   "cell_type": "code",
   "execution_count": 39,
   "metadata": {
    "collapsed": true
   },
   "outputs": [
    {
     "data": {
      "text/plain": [
       "array([[ 0.]])"
      ]
     },
     "execution_count": 39,
     "metadata": {},
     "output_type": "execute_result"
    }
   ],
   "source": [
    "get_relation_mat(data)"
   ]
  },
  {
   "cell_type": "code",
   "execution_count": null,
   "metadata": {
    "collapsed": false,
    "scrolled": true
   },
   "outputs": [],
   "source": [
    "get_paths(get_relation_mat(data))"
   ]
  },
  {
   "cell_type": "code",
   "execution_count": 27,
   "metadata": {
    "collapsed": true
   },
   "outputs": [
    {
     "data": {
      "text/plain": [
       "[[u'/clinics/',\n",
       "  u'/clinic/gospital-dzhona-hopkinsa/',\n",
       "  u'/clinics/country=united-states/illness=epilepsiya/',\n",
       "  u'clinic_get_cost',\n",
       "  u'/clinics/country=united-states/illness=epilepsiya/',\n",
       "  u'https://www.google.de/'],\n",
       " [u'clinic_get_cost',\n",
       "  u'/clinic/gospital-dzhona-hopkinsa/',\n",
       "  u'/wiget/clinicsForCountryWiget.php?fromUrl=http']]"
      ]
     },
     "execution_count": 27,
     "metadata": {},
     "output_type": "execute_result"
    }
   ],
   "source": [
    "filter_paths(get_paths(get_relation_mat(data)))"
   ]
  }
 ],
 "metadata": {
  "kernelspec": {
   "display_name": "Python 2",
   "language": "python",
   "name": "python2"
  },
  "language_info": {
   "codemirror_mode": {
    "name": "ipython",
    "version": 2
   },
   "file_extension": ".py",
   "mimetype": "text/x-python",
   "name": "python",
   "nbconvert_exporter": "python",
   "pygments_lexer": "ipython2",
   "version": "2.7.6"
  }
 },
 "nbformat": 4,
 "nbformat_minor": 0
}
