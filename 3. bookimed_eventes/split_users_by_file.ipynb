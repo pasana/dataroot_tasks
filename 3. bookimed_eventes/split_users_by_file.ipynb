{
 "cells": [
  {
   "cell_type": "code",
   "execution_count": 1,
   "metadata": {
    "collapsed": false
   },
   "outputs": [],
   "source": [
    "from shutil import copyfile\n",
    "file_name = 'files_unun_users.txt'\n",
    "path_from = './un_users'\n",
    "path_to = './unun_users'\n",
    "with open(file_name, 'r') as f:\n",
    "    for line in f:\n",
    "        copyfile('%s/%s'%(path_from,line[:-1]), '%s/%s'%(path_to, line[:-1]))\n"
   ]
  }
 ],
 "metadata": {
  "kernelspec": {
   "display_name": "Python 2",
   "language": "python",
   "name": "python2"
  },
  "language_info": {
   "codemirror_mode": {
    "name": "ipython",
    "version": 2
   },
   "file_extension": ".py",
   "mimetype": "text/x-python",
   "name": "python",
   "nbconvert_exporter": "python",
   "pygments_lexer": "ipython2",
   "version": "2.7.6"
  }
 },
 "nbformat": 4,
 "nbformat_minor": 0
}
