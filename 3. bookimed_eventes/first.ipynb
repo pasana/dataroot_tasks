{
 "cells": [
  {
   "cell_type": "code",
   "execution_count": null,
   "metadata": {
    "collapsed": false
   },
   "outputs": [],
   "source": [
    "#get features\n",
    "import json\n",
    "data = []\n",
    "data_1 = []\n",
    "data_2 = []\n",
    "#f_2 = open('./bookimed_v2.json', 'w') \n",
    "with open('./bookimed.json') as data_file: \n",
    "    for line in data_file:\n",
    "        try:\n",
    "            #data += [json.loads(line[:-1])['channel']]\n",
    "            #data += [json.loads(line[:-1])['event']]\n",
    "            #data += [json.loads(line[:-1])['type']]\n",
    "            #data += [json.loads(line[:-1])['anonymousId']]\n",
    "            #data += [json.loads(line[:-1])['fingerprint']]\n",
    "            #data += [json.loads(line[:-1])['userId']]\n",
    "            #data += json.loads(line[:-1])['context'].keys()\n",
    "            #data += [json.loads(line)['properties']]\n",
    "            #if json.loads(line)['properties'] == {u'button_type': u'auto_help'}:\n",
    "            #    data_1 += [json.loads(line)['context']['page']['url']]\n",
    "            data_1 += [json.loads(line)['context']['library']]\n",
    "            #ver = json.loads(line[:-1])['version']\n",
    "            #if int(ver) == 1:    \n",
    "                 #f_1.write(line[:-1]+',')\n",
    "#                data_1 += json.loads(line[:-1])['context'].keys()\n",
    "            #if int(ver) == 2:    \n",
    "                #f_2.write(line)\n",
    "#                data_2 += json.loads(line[:-1])['context'].keys()\n",
    "        except:\n",
    "            #print json.loads(line[:-1])\n",
    "            print \"no ver\"\n",
    "            #data += ['None']\n",
    "#    data = json.load(data_file)\n",
    "#f_2.close()"
   ]
  },
  {
   "cell_type": "code",
   "execution_count": null,
   "metadata": {
    "collapsed": false,
    "scrolled": true
   },
   "outputs": [],
   "source": [
    "for i in channels:\n",
    "    print i"
   ]
  },
  {
   "cell_type": "code",
   "execution_count": null,
   "metadata": {
    "collapsed": false,
    "scrolled": true
   },
   "outputs": [],
   "source": [
    "for i in channels:\n",
    "    print i, data_1.count(i)"
   ]
  },
  {
   "cell_type": "code",
   "execution_count": null,
   "metadata": {
    "collapsed": true
   },
   "outputs": [],
   "source": [
    "filtered = [i for i in data if i.keys() != [u'url', u'referrer', u'search', u'path', u'title']]"
   ]
  },
  {
   "cell_type": "code",
   "execution_count": null,
   "metadata": {
    "collapsed": false
   },
   "outputs": [],
   "source": [
    "filtered2 = [i for i in filtered if i!={u'button_type': u'auto_help'}]"
   ]
  },
  {
   "cell_type": "code",
   "execution_count": null,
   "metadata": {
    "collapsed": false
   },
   "outputs": [],
   "source": [
    "filtered3 = [i for i in filtered3 if i.keys()!= [u'button_type']]"
   ]
  },
  {
   "cell_type": "code",
   "execution_count": null,
   "metadata": {
    "collapsed": false
   },
   "outputs": [],
   "source": [
    "filtered3"
   ]
  },
  {
   "cell_type": "code",
   "execution_count": null,
   "metadata": {
    "collapsed": false
   },
   "outputs": [],
   "source": [
    "lens = []\n",
    "for file_name in files:\n",
    "    f = open('./users/%s'%file_name)\n",
    "    context = f.readlines()\n",
    "    lens += [len(context)-1]"
   ]
  },
  {
   "cell_type": "code",
   "execution_count": null,
   "metadata": {
    "collapsed": false
   },
   "outputs": [],
   "source": [
    "import ast\n",
    "x = '['+s.replace('\\n',',')+']'\n",
    "unique = ast.literal_eval(x)[1:]"
   ]
  },
  {
   "cell_type": "code",
   "execution_count": null,
   "metadata": {
    "collapsed": true
   },
   "outputs": [],
   "source": [
    "indx = [i for i in,x enumerate(zip(lens,unique)) if x[0] != 1 and x[1]==1]"
   ]
  },
  {
   "cell_type": "code",
   "execution_count": null,
   "metadata": {
    "collapsed": false
   },
   "outputs": [],
   "source": [
    "indx = [i for i,x in enumerate(unique) if x == 1]"
   ]
  },
  {
   "cell_type": "code",
   "execution_count": null,
   "metadata": {
    "collapsed": false
   },
   "outputs": [],
   "source": [
    "indx[0]"
   ]
  },
  {
   "cell_type": "code",
   "execution_count": null,
   "metadata": {
    "collapsed": true
   },
   "outputs": [],
   "source": [
    "mn = min(lens)\n",
    "mx = max(lens)\n",
    "counts = [lens.count(i) for i in range(mn, mx)]"
   ]
  },
  {
   "cell_type": "code",
   "execution_count": null,
   "metadata": {
    "collapsed": true
   },
   "outputs": [],
   "source": [
    "counts_no_zero = [i for i in counts if i != 0]"
   ]
  },
  {
   "cell_type": "code",
   "execution_count": null,
   "metadata": {
    "collapsed": false
   },
   "outputs": [],
   "source": [
    "import sys\n",
    "print sys.getsizeof(names)/5*350000"
   ]
  },
  {
   "cell_type": "code",
   "execution_count": null,
   "metadata": {
    "collapsed": false,
    "scrolled": true
   },
   "outputs": [],
   "source": [
    "import os\n",
    "for filename in os.listdir('./users')[:1]:\n",
    "    print filename"
   ]
  }
 ],
 "metadata": {
  "kernelspec": {
   "display_name": "Python 2",
   "language": "python",
   "name": "python2"
  },
  "language_info": {
   "codemirror_mode": {
    "name": "ipython",
    "version": 2
   },
   "file_extension": ".py",
   "mimetype": "text/x-python",
   "name": "python",
   "nbconvert_exporter": "python",
   "pygments_lexer": "ipython2",
   "version": "2.7.6"
  }
 },
 "nbformat": 4,
 "nbformat_minor": 0
}
