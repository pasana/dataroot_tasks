{
 "cells": [
  {
   "cell_type": "code",
   "execution_count": null,
   "metadata": {
    "collapsed": true
   },
   "outputs": [],
   "source": [
    "import os\n",
    "import glob\n",
    "import json\n",
    "from dateutil import parser\n",
    "import pandas as pd\n",
    "import numpy as np"
   ]
  },
  {
   "cell_type": "code",
   "execution_count": null,
   "metadata": {
    "collapsed": true
   },
   "outputs": [],
   "source": [
    "this_path = './sessions'"
   ]
  },
  {
   "cell_type": "code",
   "execution_count": null,
   "metadata": {
    "collapsed": true
   },
   "outputs": [],
   "source": [
    "files = [os.path.basename(x) for x in glob.glob('%s/*.json'%this_path)]"
   ]
  },
  {
   "cell_type": "code",
   "execution_count": null,
   "metadata": {
    "collapsed": true
   },
   "outputs": [],
   "source": [
    "files_for_check = []\n",
    "for file_name in files[:]:\n",
    "    f = open('%s/%s'%(this_path, file_name))\n",
    "    context = f.readlines()\n",
    "    data = []\n",
    "    for i in context[:]:\n",
    "        data += [json.loads(i.replace(',\\n','').replace('\\n',''))]\n",
    "    \n",
    "    if len(set([i['userId'] for i in data]))==1:\n",
    "        if len(set([i['ip'] for i in data]))==1:\n",
    "            deltas = [0]\n",
    "            times = [parser.parse(i['timestamp']) for i in data]\n",
    "            deltas += [(times[i] - times[i-1]).total_seconds() for i in range(1, len(times))]\n",
    "            if max(deltas)>3600:\n",
    "                try:\n",
    "                    if len(set([i['fingerPrint'] for i in data]))==1:\n",
    "                        files_for_check += [file_name]\n",
    "                except:\n",
    "                    files_for_check += [file_name]\n",
    "    if files.index(file_name) % 10000 == 0:\n",
    "        print file_name"
   ]
  },
  {
   "cell_type": "code",
   "execution_count": null,
   "metadata": {
    "collapsed": false
   },
   "outputs": [],
   "source": [
    "print len(files_for_check)\n",
    "print len(files)"
   ]
  },
  {
   "cell_type": "code",
   "execution_count": null,
   "metadata": {
    "collapsed": true
   },
   "outputs": [],
   "source": [
    "f = open('files_sessions_not_111.txt', 'w')\n",
    "for file_name in files_for_check:\n",
    "    f.write(file_name+'\\n')\n",
    "f.close()"
   ]
  },
  {
   "cell_type": "code",
   "execution_count": null,
   "metadata": {
    "collapsed": false
   },
   "outputs": [],
   "source": [
    "import shutil\n",
    "for file_name in files_for_check:\n",
    "    shutil.move(\"%s/%s\"%(this_path, file_name), \"%s/%s\"%('./sessions_to_explore', file_name))"
   ]
  },
  {
   "cell_type": "code",
   "execution_count": null,
   "metadata": {
    "collapsed": true
   },
   "outputs": [],
   "source": []
  }
 ],
 "metadata": {
  "kernelspec": {
   "display_name": "Python 2",
   "language": "python",
   "name": "python2"
  },
  "language_info": {
   "codemirror_mode": {
    "name": "ipython",
    "version": 2
   },
   "file_extension": ".py",
   "mimetype": "text/x-python",
   "name": "python",
   "nbconvert_exporter": "python",
   "pygments_lexer": "ipython2",
   "version": "2.7.6"
  }
 },
 "nbformat": 4,
 "nbformat_minor": 0
}
