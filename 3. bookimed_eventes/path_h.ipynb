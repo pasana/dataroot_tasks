{
 "cells": [
  {
   "cell_type": "code",
   "execution_count": 1,
   "metadata": {
    "collapsed": true
   },
   "outputs": [],
   "source": [
    "import os\n",
    "import glob\n",
    "import json\n",
    "import copy\n",
    "import numpy as np"
   ]
  },
  {
   "cell_type": "code",
   "execution_count": 2,
   "metadata": {
    "collapsed": true
   },
   "outputs": [],
   "source": [
    "this_path = './paths'\n",
    "\n",
    "buttons = ['auto_help', 'clinic_get_cost', 'clinic_free_cost_calc', 'clinics_get_clinic_in_country', 'callback', 'clinic_get_cost_header', 'clinic_diagnostic', 'article_from_text', 'second_opinion', 'clinics_get_country', 'doctor_consult_price', 'prices_in_country', 'unknown', 'banner_get_best_clinic', 'wanna_cheaper', 'search_get_cost', 'doctor_diagnostic', 'sign_in', 'doctor_get_consult_header', 'clinic_operation', 'get_consult', 'program_from_text', 'doctor_get_consult', 'identify', 'Requested Callback', 'Requested Treatment']"
   ]
  },
  {
   "cell_type": "code",
   "execution_count": 3,
   "metadata": {
    "collapsed": true
   },
   "outputs": [],
   "source": [
    "files = [os.path.basename(x) for x in glob.glob('%s/*.json'%this_path)]\n",
    "files = [os.path.basename(x) for x in glob.glob('%s/*, session_1.json'%this_path)]"
   ]
  },
  {
   "cell_type": "code",
   "execution_count": 4,
   "metadata": {
    "collapsed": true
   },
   "outputs": [],
   "source": [
    "all_paths=[]\n",
    "for file_name in files:\n",
    "    with open('%s/%s'%(this_path,file_name)) as f:\n",
    "        all_paths += f.readlines()"
   ]
  },
  {
   "cell_type": "code",
   "execution_count": 34,
   "metadata": {
    "collapsed": true
   },
   "outputs": [],
   "source": [
    "original_all_paths =[]\n",
    "for line in all_paths:\n",
    "    #if 'clinic_get_cost ,' in line:\n",
    "    #    original_all_paths += [line]\n",
    "    #elif 'clinic_get_cost\\n' in line:\n",
    "    #    original_all_paths += [line]\n",
    "    if 'Requested Treatment' in line:\n",
    "        original_all_paths += [line]"
   ]
  },
  {
   "cell_type": "code",
   "execution_count": 8,
   "metadata": {
    "collapsed": true
   },
   "outputs": [],
   "source": [
    "original_all_paths = copy.deepcopy(all_paths)"
   ]
  },
  {
   "cell_type": "code",
   "execution_count": 22,
   "metadata": {
    "collapsed": true
   },
   "outputs": [],
   "source": [
    "def get_chunks(path_list, pos):\n",
    "    num_step = []\n",
    "    for path in path_list:\n",
    "        try:\n",
    "            chunk = path.strip().split(', ')[pos].strip()\n",
    "            if chunk == '':\n",
    "                num_step += ['/']\n",
    "            else:\n",
    "                num_step += [chunk]\n",
    "        except:\n",
    "            pass    \n",
    "    return num_step"
   ]
  },
  {
   "cell_type": "code",
   "execution_count": 23,
   "metadata": {
    "collapsed": true
   },
   "outputs": [],
   "source": [
    "def get_chunks_set_count(chunks):\n",
    "    chunks_set = list(set(chunks))\n",
    "    chunks_set_count = [ [chunks.count(i), i, []] for i in chunks_set]\n",
    "    return sorted(chunks_set_count, reverse = True)    "
   ]
  },
  {
   "cell_type": "code",
   "execution_count": 24,
   "metadata": {
    "collapsed": true
   },
   "outputs": [],
   "source": [
    "def filter_chunk_set_count(chunks_set_count):\n",
    "    num_list = map(lambda x: x[0], chunks_set_count)\n",
    "    max_value = max(num_list)\n",
    "    min_value = min(num_list)\n",
    "    mean_value = np.mean(num_list)\n",
    "    if (max_value - min_value) > mean_value:\n",
    "        return filter(lambda x: x[0] > mean_value, chunks_set_count)\n",
    "    else: return chunks_set_count"
   ]
  },
  {
   "cell_type": "code",
   "execution_count": 25,
   "metadata": {
    "collapsed": false
   },
   "outputs": [],
   "source": [
    "def get_paths_by(chunk_list, original_paths):\n",
    "    all_paths = []\n",
    "    for i in original_paths:\n",
    "        try:\n",
    "            for k, x in enumerate(chunk_list):\n",
    "                if x != i.strip().split(', ')[k].strip():\n",
    "                    raise\n",
    "            all_paths += [i]\n",
    "        except:\n",
    "            pass\n",
    "    return all_paths"
   ]
  },
  {
   "cell_type": "code",
   "execution_count": null,
   "metadata": {
    "collapsed": false
   },
   "outputs": [],
   "source": [
    "init_list = []\n",
    "init_chunk_list = []\n",
    "init_list += filter_chunk_set_count(get_chunks_set_count(get_chunks(get_paths_by(init_chunk_list, original_all_paths), 0, )))\n",
    "for el in init_list:\n",
    "    chunk_list = init_chunk_list + [el[1]]\n",
    "    el[-1] += filter_chunk_set_count(get_chunks_set_count(get_chunks(get_paths_by(chunk_list, original_all_paths), 1, )))\n",
    "    for el_2 in el[-1]:\n",
    "        chunk_list_2 = chunk_list + [el_2[1]]\n",
    "        el_2[-1] += filter_chunk_set_count(get_chunks_set_count(get_chunks(get_paths_by(chunk_list_2, original_all_paths), 2, )))\n",
    "        "
   ]
  },
  {
   "cell_type": "code",
   "execution_count": 26,
   "metadata": {
    "collapsed": true
   },
   "outputs": [],
   "source": [
    "def explore(tree_list, tree_chunk_list, pos_num):\n",
    "    #if pos_num > 2:\n",
    "    #    return []\n",
    "    for el in tree_list:\n",
    "        try:\n",
    "            chunk_list = tree_chunk_list + [el[1]]\n",
    "            paths = get_paths_by(chunk_list, original_all_paths)\n",
    "            el[-1] += filter_chunk_set_count(get_chunks_set_count(get_chunks(paths, pos_num)))\n",
    "            explore(el[-1], chunk_list, pos_num+1)\n",
    "        except:\n",
    "            return []    "
   ]
  },
  {
   "cell_type": "code",
   "execution_count": 27,
   "metadata": {
    "collapsed": false
   },
   "outputs": [],
   "source": [
    "def print_list(f, tree_list, num_t):\n",
    "    for i in tree_list:\n",
    "        #print \"\\t\" * num_t, i[0], i[1]\n",
    "        f.write(\"\\t\" * num_t +str(i[0]) + ' ' + i[1] + '\\n')\n",
    "        if i[-1] != []:\n",
    "            print_list(f, i[-1], num_t+1)"
   ]
  },
  {
   "cell_type": "code",
   "execution_count": 35,
   "metadata": {
    "collapsed": false,
    "scrolled": true
   },
   "outputs": [],
   "source": [
    "init_list = []\n",
    "init_chunk_list = []\n",
    "init_list += filter_chunk_set_count(get_chunks_set_count(get_chunks(get_paths_by(init_chunk_list, original_all_paths), 0, )))\n",
    "explore(init_list, init_chunk_list, 1)"
   ]
  },
  {
   "cell_type": "code",
   "execution_count": 36,
   "metadata": {
    "collapsed": false,
    "scrolled": true
   },
   "outputs": [],
   "source": [
    "f = open('tree_paths_event_2.txt', 'w+')\n",
    "print_list(f, init_list,0)\n",
    "f.close()"
   ]
  },
  {
   "cell_type": "code",
   "execution_count": 30,
   "metadata": {
    "collapsed": true
   },
   "outputs": [],
   "source": [
    "a = get_chunks_set_count(get_chunks(get_paths_by(init_chunk_list, original_all_paths), 1, ))"
   ]
  },
  {
   "cell_type": "code",
   "execution_count": 33,
   "metadata": {
    "collapsed": false
   },
   "outputs": [
    {
     "name": "stdout",
     "output_type": "stream",
     "text": [
      "0.525604605091 /clinics/country/illness/\n",
      "0.180297536725 /clinics/country/\n",
      "0.128882742122 /clinic/clinic_name/\n",
      "0.0712069674429 /clinics/illness/\n",
      "0.0402384779277 /clinics/country/direction/\n",
      "0.0159234478376 /clinics/country/city/\n",
      "0.0126340971106 /\n",
      "0.0100175681232 /article/article_name/\n",
      "0.00252308152357 /clinics/direction/\n",
      "0.00177550181288 /clinics/\n",
      "0.00175681232011 /clinics/procedure/\n",
      "0.00143909094307 /doctor/doctor_name/\n",
      "0.000953164131125 /review/num/\n",
      "0.000841027174522 /clientLK/\n",
      "0.000635442754084 /clinics/operation/\n",
      "0.000616753261316 /clinics/country/procedure/\n",
      "0.000579374275782 /treatment/country/\n",
      "0.000579374275782 /agency/agency_name/\n",
      "0.000355100362576 /diagnosticsKind/num/\n",
      "0.000336410869809 clinic_get_cost\n",
      "0.000242963405973 /doc/doc_name/\n",
      "0.000186894927672 /illnesses/\n",
      "0.000186894927672 /doctors/direction/\n",
      "0.000168205434904 /countries/\n",
      "0.000149515942137 /diagnostic/num/\n",
      "0.000149515942137 /about/\n",
      "0.00013082644937 /clientLK/profile/\n",
      "9.34474638358e-05 google\n",
      "9.34474638358e-05 /clientLK/requests/\n",
      "7.47579710687e-05 Requested Treatment\n",
      "7.47579710687e-05 /doctors/country/\n",
      "5.60684783015e-05 identify\n",
      "5.60684783015e-05 clinics_get_clinic_in_country\n",
      "3.73789855343e-05 Requested Callback\n",
      "3.73789855343e-05 /directions/\n",
      "3.73789855343e-05 /diagnostics/\n",
      "1.86894927672e-05 yandex\n",
      "1.86894927672e-05 vk\n",
      "1.86894927672e-05 il\n",
      "1.86894927672e-05 clinic_diagnostic\n",
      "1.86894927672e-05 auto_help\n",
      "1.86894927672e-05 /program/program_name/\n",
      "1.86894927672e-05 /partner/\n",
      "1.86894927672e-05 /doctors/\n",
      "1.86894927672e-05 /clincs/illness=dcp/\n",
      "1.86894927672e-05 /clientLK/tprograms/\n",
      "1.86894927672e-05 /clientLK/last_step/\n",
      "1.86894927672e-05 /clientLK/chat/\n",
      "1.86894927672e-05 /agencies/\n",
      "1.86894927672e-05 /admin/catalog.php\n",
      "1.86894927672e-05 /LK/tprogramms/\n",
      "1.86894927672e-05 /LK/requests/\n"
     ]
    }
   ],
   "source": [
    "for i in a:\n",
    "    print i[0]/53506.0, i[1]"
   ]
  }
 ],
 "metadata": {
  "kernelspec": {
   "display_name": "Python 2",
   "language": "python",
   "name": "python2"
  },
  "language_info": {
   "codemirror_mode": {
    "name": "ipython",
    "version": 2
   },
   "file_extension": ".py",
   "mimetype": "text/x-python",
   "name": "python",
   "nbconvert_exporter": "python",
   "pygments_lexer": "ipython2",
   "version": "2.7.6"
  }
 },
 "nbformat": 4,
 "nbformat_minor": 0
}
