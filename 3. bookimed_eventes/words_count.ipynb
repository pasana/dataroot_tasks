{
 "cells": [
  {
   "cell_type": "code",
   "execution_count": 1,
   "metadata": {
    "collapsed": false
   },
   "outputs": [
    {
     "name": "stderr",
     "output_type": "stream",
     "text": [
      "/usr/local/lib/python2.7/dist-packages/fuzzywuzzy/fuzz.py:35: UserWarning: Using slow pure-python SequenceMatcher. Install python-Levenshtein to remove this warning\n",
      "  warnings.warn('Using slow pure-python SequenceMatcher. Install python-Levenshtein to remove this warning')\n"
     ]
    }
   ],
   "source": [
    "from fuzzywuzzy import fuzz\n",
    "from fuzzywuzzy import process"
   ]
  },
  {
   "cell_type": "code",
   "execution_count": 2,
   "metadata": {
    "collapsed": false
   },
   "outputs": [],
   "source": [
    "import json\n",
    "data = []\n",
    "with open('paths_with_queries.txt') as f:\n",
    "    for line in f:\n",
    "        data += [ json.loads(line)['queries'] ]"
   ]
  },
  {
   "cell_type": "code",
   "execution_count": 3,
   "metadata": {
    "collapsed": true
   },
   "outputs": [],
   "source": [
    "stop_words = [u'в', u'по', u'на', u'in', u'', u'for', u'of', u'за', u'с', u'для', u'и', u'или', u'где', u'как', u'the', u'a', u'о', u'and', u'or', u'что', u'-', u'at', u'у', u'от']"
   ]
  },
  {
   "cell_type": "code",
   "execution_count": 4,
   "metadata": {
    "collapsed": true
   },
   "outputs": [],
   "source": [
    "countries = [u'германии', u'индии', u'израиле', u'корее', u'germany', u'турции', u'india', u'польше', u'mumbai', u'индия', u'сша', u'чехии', u'дели', u'берлин', u'israel', u'turkey']"
   ]
  },
  {
   "cell_type": "code",
   "execution_count": 5,
   "metadata": {
    "collapsed": true
   },
   "outputs": [],
   "source": [
    "known = [u'лечение', u'клиника', u'отзывы', u'hospital', u'treatment', u'цены', u'стоимость', u'сколько', u'стоит', u'лучшие', u'best', u'cost', u'clinic', u'центр', u'цена', u'лечат', u'больница', u'medical', u'v']"
   ]
  },
  {
   "cell_type": "code",
   "execution_count": 6,
   "metadata": {
    "collapsed": true
   },
   "outputs": [],
   "source": [
    "def get_similar(w_list, word):\n",
    "    fw = [fuzz.ratio(word, i[1][0]) for i in w_list]\n",
    "    vals = filter(lambda x: x>85, fw)\n",
    "    res = sorted([x for i,x in enumerate(w_list) if fw[i] in vals], reverse=True)\n",
    "    #print res\n",
    "    for r in res[1:]:\n",
    "        w_list.remove(r)\n",
    "    return [sum([i[0] for i in res]), sum([i[1] for i in res], [])]\n",
    "    #return [sum([i[0] for i in res]), res[0][1]]"
   ]
  },
  {
   "cell_type": "code",
   "execution_count": 10,
   "metadata": {
    "collapsed": false
   },
   "outputs": [],
   "source": [
    "words = sum([i.split() for i in sum(data, [])],[])\n",
    "words = sum([i.split('+') for i in words],[])"
   ]
  },
  {
   "cell_type": "code",
   "execution_count": 11,
   "metadata": {
    "collapsed": true
   },
   "outputs": [],
   "source": [
    "words = [i.lower() for i in words]"
   ]
  },
  {
   "cell_type": "code",
   "execution_count": 14,
   "metadata": {
    "collapsed": true
   },
   "outputs": [],
   "source": [
    "words_set = list(set(words))"
   ]
  },
  {
   "cell_type": "code",
   "execution_count": 15,
   "metadata": {
    "collapsed": false
   },
   "outputs": [],
   "source": [
    "words_set_count = sorted([[words.count(i), [i]] for i in words_set if not i in stop_words], reverse=True)"
   ]
  },
  {
   "cell_type": "code",
   "execution_count": 24,
   "metadata": {
    "collapsed": false,
    "scrolled": true
   },
   "outputs": [],
   "source": [
    "simu = sorted([get_similar(words_set_count, i[1][0]) for i in words_set_count], reverse=True)"
   ]
  },
  {
   "cell_type": "code",
   "execution_count": 242,
   "metadata": {
    "collapsed": false
   },
   "outputs": [],
   "source": [
    "f_simu = filter(lambda x: x[1][0] not in countries and x[1][0] not in known, simu)"
   ]
  },
  {
   "cell_type": "code",
   "execution_count": 19,
   "metadata": {
    "collapsed": false
   },
   "outputs": [
    {
     "data": {
      "text/plain": [
       "3581"
      ]
     },
     "execution_count": 19,
     "metadata": {},
     "output_type": "execute_result"
    }
   ],
   "source": [
    "len(simu)"
   ]
  },
  {
   "cell_type": "code",
   "execution_count": 198,
   "metadata": {
    "collapsed": false
   },
   "outputs": [
    {
     "name": "stdout",
     "output_type": "stream",
     "text": [
      "эко\n"
     ]
    }
   ],
   "source": [
    "print simu[10][1][0]"
   ]
  },
  {
   "cell_type": "code",
   "execution_count": 26,
   "metadata": {
    "collapsed": false,
    "scrolled": true
   },
   "outputs": [],
   "source": [
    "for i in simu[:0]:\n",
    "    print  i[0], i[1][0]"
   ]
  }
 ],
 "metadata": {
  "kernelspec": {
   "display_name": "Python 2",
   "language": "python",
   "name": "python2"
  },
  "language_info": {
   "codemirror_mode": {
    "name": "ipython",
    "version": 2
   },
   "file_extension": ".py",
   "mimetype": "text/x-python",
   "name": "python",
   "nbconvert_exporter": "python",
   "pygments_lexer": "ipython2",
   "version": "2.7.6"
  }
 },
 "nbformat": 4,
 "nbformat_minor": 0
}
