{
 "cells": [
  {
   "cell_type": "code",
   "execution_count": 9,
   "metadata": {
    "collapsed": true
   },
   "outputs": [],
   "source": [
    "buttons = ['clinic_get_cost']#, 'clinic_free_cost_calc', 'clinics_get_clinic_in_country', 'callback', 'clinic_get_cost_header', 'clinic_diagnostic', 'article_from_text', 'second_opinion', 'clinics_get_country', 'doctor_consult_price', 'prices_in_country', 'unknown', 'banner_get_best_clinic', 'wanna_cheaper', 'search_get_cost', 'doctor_diagnostic', 'sign_in', 'doctor_get_consult_header', 'clinic_operation', 'get_consult', 'program_from_text', 'doctor_get_consult']"
   ]
  },
  {
   "cell_type": "code",
   "execution_count": 109,
   "metadata": {
    "collapsed": false
   },
   "outputs": [],
   "source": [
    "opMod = []\n",
    "with open('all_paths_for_1st_sessions.txt') as paths:\n",
    "    for line in paths:\n",
    "        #for btn in buttons:\n",
    "            #if btn in line:\n",
    "                #print line\n",
    "        if 'Requested Treatment' in line:\n",
    "                opMod += [line]\n",
    "                #break"
   ]
  },
  {
   "cell_type": "code",
   "execution_count": 110,
   "metadata": {
    "collapsed": false
   },
   "outputs": [
    {
     "data": {
      "text/plain": [
       "6582"
      ]
     },
     "execution_count": 110,
     "metadata": {},
     "output_type": "execute_result"
    }
   ],
   "source": [
    "len(opMod)"
   ]
  },
  {
   "cell_type": "code",
   "execution_count": 111,
   "metadata": {
    "collapsed": false
   },
   "outputs": [
    {
     "data": {
      "text/plain": [
       "4087"
      ]
     },
     "execution_count": 111,
     "metadata": {},
     "output_type": "execute_result"
    }
   ],
   "source": [
    "len(set(opMod))"
   ]
  },
  {
   "cell_type": "code",
   "execution_count": 112,
   "metadata": {
    "collapsed": false
   },
   "outputs": [],
   "source": [
    "srt = sorted(list(set(opMod)), key = lambda x: opMod.count(x), reverse=True)"
   ]
  },
  {
   "cell_type": "code",
   "execution_count": null,
   "metadata": {
    "collapsed": true
   },
   "outputs": [],
   "source": []
  },
  {
   "cell_type": "code",
   "execution_count": 113,
   "metadata": {
    "collapsed": false,
    "scrolled": true
   },
   "outputs": [],
   "source": [
    "f = open('all_paths_for_1st_sessions_event_2_count.txt', 'w+')\n",
    "for i in srt:\n",
    "    f.write(str(opMod.count(i)) +' '+i+'\\n')\n",
    "    #print"
   ]
  },
  {
   "cell_type": "code",
   "execution_count": 26,
   "metadata": {
    "collapsed": false
   },
   "outputs": [
    {
     "data": {
      "text/plain": [
       "2"
      ]
     },
     "execution_count": 26,
     "metadata": {},
     "output_type": "execute_result"
    }
   ],
   "source": [
    "opMod[2].split(' , ').index('clinic_get_cost')"
   ]
  },
  {
   "cell_type": "code",
   "execution_count": 118,
   "metadata": {
    "collapsed": true
   },
   "outputs": [],
   "source": [
    "opMod_list = [ i.split(' , ') for i in opMod]"
   ]
  },
  {
   "cell_type": "code",
   "execution_count": 119,
   "metadata": {
    "collapsed": false
   },
   "outputs": [],
   "source": [
    "for i in range(0,len(opMod_list)):\n",
    "    for j in range(0,len(opMod_list[i])):\n",
    "        opMod_list[i][j] = opMod_list[i][j].strip()"
   ]
  },
  {
   "cell_type": "code",
   "execution_count": 96,
   "metadata": {
    "collapsed": false
   },
   "outputs": [],
   "source": [
    "count = 0 \n",
    "a = 0\n",
    "k =0 \n",
    "cl_n = 0\n",
    "tmps = []\n",
    "inds = []\n",
    "for i in range(0, len(opMod_list)):\n",
    "    try:\n",
    "        if opMod_list[i].index('clinic_get_cost') == len(opMod_list[i])-1:\n",
    "            count += 1\n",
    "        else: \n",
    "            temp = opMod_list[i][opMod_list[i].index('clinic_get_cost')+1:]\n",
    "            tmps += [temp[0]]\n",
    "            if temp == ['auto_help']:\n",
    "                a += 1\n",
    "            if temp == ['clinic_get_cost'] or temp == ['auto_help', 'clinic_get_cost'] or temp == ['clinic_get_cost', 'clinic_get_cost']:\n",
    "                count += 1\n",
    "            if temp == ['clinic_get_cost', 'auto_help']:\n",
    "                a += 1\n",
    "            if temp[0] == '/clinic/clinic_name/':\n",
    "                cl_n += 1\n",
    "    except: \n",
    "        k+=1\n",
    "        inds += [i]"
   ]
  },
  {
   "cell_type": "code",
   "execution_count": 142,
   "metadata": {
    "collapsed": true
   },
   "outputs": [],
   "source": [
    "count = 0 \n",
    "a = 0\n",
    "k =0 \n",
    "cl_n = 0\n",
    "tmps_1 = []\n",
    "tmps_2 = []\n",
    "inds = []\n",
    "for i in range(0, len(opMod_list)):\n",
    "    try:\n",
    "        temp = opMod_list[i][:opMod_list[i].index('Requested Treatment')]\n",
    "        tmps_1 += [temp[-1]]\n",
    "        tmps_2 += [temp[-2]]\n",
    "    except: \n",
    "        k+=1\n",
    "        inds += [i]"
   ]
  },
  {
   "cell_type": "code",
   "execution_count": 132,
   "metadata": {
    "collapsed": true
   },
   "outputs": [
    {
     "data": {
      "text/plain": [
       "{'/',\n",
       " '/about/',\n",
       " '/article/article_name/',\n",
       " '/cities/country/',\n",
       " '/clientLK/',\n",
       " '/clientLK/chat/',\n",
       " '/clientLK/docs/',\n",
       " '/clientLK/profile/',\n",
       " '/clientLK/request/num/',\n",
       " '/clientLK/requests/',\n",
       " '/clientLK/tprograms/',\n",
       " '/clinic/clinic_name/',\n",
       " '/clinics/',\n",
       " '/clinics/country/',\n",
       " '/clinics/country/city/',\n",
       " '/clinics/country/direction/',\n",
       " '/clinics/country/illness/',\n",
       " '/clinics/country/procedure/',\n",
       " '/clinics/direction/',\n",
       " '/clinics/illness/',\n",
       " '/clinics/procedure/',\n",
       " '/doc/doc_name/',\n",
       " '/doctor/doctor_name/',\n",
       " '/doctors/country/',\n",
       " '/illnesses/',\n",
       " '/program/program_name/',\n",
       " '/review/num/',\n",
       " '/treatment/country/',\n",
       " 'Requested Callback',\n",
       " 'android-app://com.google.android.googlequicksearchbox',\n",
       " 'article_from_text',\n",
       " 'auto_help',\n",
       " 'banner_get_best_clinic',\n",
       " 'callback',\n",
       " 'clinic_diagnostic',\n",
       " 'clinic_free_cost_calc',\n",
       " 'clinic_get_cost',\n",
       " 'clinic_get_cost_header',\n",
       " 'clinics_get_clinic_in_country',\n",
       " 'clinics_get_country',\n",
       " 'doctor_consult_price',\n",
       " 'doctor_diagnostic',\n",
       " 'doctor_get_consult',\n",
       " 'google',\n",
       " 'identify',\n",
       " 'mail',\n",
       " 'prices_in_country',\n",
       " 'search_get_cost',\n",
       " 'second_opinion',\n",
       " 'sign_in',\n",
       " 'unknown',\n",
       " 'wanna_cheaper',\n",
       " 'yandex'}"
      ]
     },
     "execution_count": 132,
     "metadata": {},
     "output_type": "execute_result"
    }
   ],
   "source": []
  },
  {
   "cell_type": "code",
   "execution_count": 95,
   "metadata": {
    "collapsed": false
   },
   "outputs": [
    {
     "data": {
      "text/plain": [
       "6917"
      ]
     },
     "execution_count": 95,
     "metadata": {},
     "output_type": "execute_result"
    }
   ],
   "source": [
    "cl_n"
   ]
  },
  {
   "cell_type": "code",
   "execution_count": 129,
   "metadata": {
    "collapsed": false
   },
   "outputs": [
    {
     "data": {
      "text/plain": [
       "['identify', 'Requested Treatment', '/clientLK/']"
      ]
     },
     "execution_count": 129,
     "metadata": {},
     "output_type": "execute_result"
    }
   ],
   "source": [
    "opMod_list[280]"
   ]
  },
  {
   "cell_type": "code",
   "execution_count": 102,
   "metadata": {
    "collapsed": false
   },
   "outputs": [],
   "source": [
    "tmps_set_count = sorted([[tmps.count(i), i] for i in set(tmps)], reverse= True)\n"
   ]
  },
  {
   "cell_type": "code",
   "execution_count": 133,
   "metadata": {
    "collapsed": true
   },
   "outputs": [],
   "source": [
    "tmps_1_set_count = sorted([[tmps_1.count(i), i] for i in set(tmps_1)], reverse= True)\n",
    "tmps_2_set_count = sorted([[tmps_2.count(i), i] for i in set(tmps_2)], reverse= True)"
   ]
  },
  {
   "cell_type": "code",
   "execution_count": 146,
   "metadata": {
    "collapsed": false
   },
   "outputs": [
    {
     "data": {
      "text/plain": [
       "6385"
      ]
     },
     "execution_count": 146,
     "metadata": {},
     "output_type": "execute_result"
    }
   ],
   "source": [
    "len(tmps_2)"
   ]
  },
  {
   "cell_type": "code",
   "execution_count": 147,
   "metadata": {
    "collapsed": false
   },
   "outputs": [
    {
     "name": "stdout",
     "output_type": "stream",
     "text": [
      "clinic_get_cost \t3340\n",
      "/clinic/clinic_name/ \t575\n",
      "/clinics/country/illness/ \t437\n",
      "auto_help \t403\n",
      "clinic_free_cost_calc \t374\n",
      "clinic_get_cost_header \t321\n",
      "clinics_get_clinic_in_country \t183\n",
      "/clinics/country/ \t129\n",
      "clinic_diagnostic \t84\n",
      "google \t80\n"
     ]
    }
   ],
   "source": [
    "for i in tmps_2_set_count[:10]:\n",
    "    print i[1], \"\\t\", i[0]#/31715.0*100"
   ]
  }
 ],
 "metadata": {
  "kernelspec": {
   "display_name": "Python 2",
   "language": "python",
   "name": "python2"
  },
  "language_info": {
   "codemirror_mode": {
    "name": "ipython",
    "version": 2
   },
   "file_extension": ".py",
   "mimetype": "text/x-python",
   "name": "python",
   "nbconvert_exporter": "python",
   "pygments_lexer": "ipython2",
   "version": "2.7.6"
  }
 },
 "nbformat": 4,
 "nbformat_minor": 0
}
