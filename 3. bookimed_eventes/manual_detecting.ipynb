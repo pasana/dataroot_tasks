{
 "cells": [
  {
   "cell_type": "code",
   "execution_count": 3,
   "metadata": {
    "collapsed": true
   },
   "outputs": [],
   "source": [
    "import os\n",
    "import glob\n",
    "import json\n",
    "import numpy as np\n",
    "import copy\n",
    "import re"
   ]
  },
  {
   "cell_type": "code",
   "execution_count": 36,
   "metadata": {
    "collapsed": true
   },
   "outputs": [],
   "source": [
    "files = [os.path.basename(x) for x in glob.glob('./sessions/*.json')]"
   ]
  },
  {
   "cell_type": "code",
   "execution_count": 37,
   "metadata": {
    "collapsed": false
   },
   "outputs": [
    {
     "data": {
      "text/plain": [
       "'9b6f1a1c-3504-4151-8bcf-fb60a5df6284, session_1.json'"
      ]
     },
     "execution_count": 37,
     "metadata": {},
     "output_type": "execute_result"
    }
   ],
   "source": [
    "files[12]"
   ]
  },
  {
   "cell_type": "code",
   "execution_count": 33,
   "metadata": {
    "collapsed": false
   },
   "outputs": [],
   "source": [
    "f = open('./sessions/%s'%files[12])\n",
    "context = f.readlines()\n",
    "data = []\n",
    "for i in context[:]:\n",
    "    try:\n",
    "        data += [json.loads(i.replace(',\\n','').replace('\\n',''))]\n",
    "    except:\n",
    "        pass"
   ]
  },
  {
   "cell_type": "code",
   "execution_count": 102,
   "metadata": {
    "collapsed": false
   },
   "outputs": [],
   "source": [
    "from dateutil import parser\n",
    "times = [parser.parse(i['timestamp']) for i in data]\n",
    "deltas = [0]\n",
    "deltas += [(times[i] - times[i-1]).total_seconds() for i in range(1, len(times))]"
   ]
  },
  {
   "cell_type": "code",
   "execution_count": 29,
   "metadata": {
    "collapsed": false
   },
   "outputs": [
    {
     "data": {
      "text/plain": [
       "5"
      ]
     },
     "execution_count": 29,
     "metadata": {},
     "output_type": "execute_result"
    }
   ],
   "source": [
    "len(data)"
   ]
  },
  {
   "cell_type": "code",
   "execution_count": 243,
   "metadata": {
    "collapsed": true
   },
   "outputs": [],
   "source": [
    "data=sorted(data, key=lambda i: i['timestamp'])"
   ]
  },
  {
   "cell_type": "code",
   "execution_count": 112,
   "metadata": {
    "collapsed": false
   },
   "outputs": [],
   "source": [
    "cut = [[i['userId'],i['ip'],i['fingerPrint'],i['timestamp'],i['type']] for i in data]"
   ]
  },
  {
   "cell_type": "code",
   "execution_count": 289,
   "metadata": {
    "collapsed": false
   },
   "outputs": [],
   "source": [
    "cut = [[i['userId'],i['ip'],i['fingerPrint'],i['timestamp']] for i in data]"
   ]
  },
  {
   "cell_type": "code",
   "execution_count": 440,
   "metadata": {
    "collapsed": false
   },
   "outputs": [],
   "source": [
    "cut = [[i['userId'],i['ip'],i['timestamp'], i['type'], i['referrer'], i['path']] for i in data]"
   ]
  },
  {
   "cell_type": "code",
   "execution_count": 287,
   "metadata": {
    "collapsed": true
   },
   "outputs": [],
   "source": [
    "cut = [[i['userId'],i['ip'],i['timestamp'], i['type']] for i in data]"
   ]
  },
  {
   "cell_type": "code",
   "execution_count": 34,
   "metadata": {
    "collapsed": false
   },
   "outputs": [],
   "source": [
    "cut = [[i['timestamp'][:-8], i['referrer'], i['path'], i['type']] for i in data]"
   ]
  },
  {
   "cell_type": "code",
   "execution_count": 35,
   "metadata": {
    "collapsed": false,
    "scrolled": true
   },
   "outputs": [
    {
     "name": "stdout",
     "output_type": "stream",
     "text": [
      "0 [u'2015-12-23T21:08:14.', u'https://www.google.de/', u'/clinics/country=united-states/illness=epilepsiya/', 1]\n",
      "\n",
      "1 [u'2015-12-23T21:09:02.', u'https://www.google.de/', u'/clinics/country=united-states/illness=epilepsiya/', 2]\n",
      "\n",
      "2 [u'2015-12-23T21:10:56.', u'/clinics/country=united-states/illness=epilepsiya/', u'/clinics/country=united-states/illness=epilepsiya/', 1]\n",
      "\n",
      "3 [u'2015-12-23T21:11:52.', u'/clinics/country=united-states/illness=epilepsiya/', u'/clinic/gospital-dzhona-hopkinsa/', 1]\n",
      "\n",
      "4 [u'2015-12-23T21:15:52.', u'/clinic/gospital-dzhona-hopkinsa/', u'/clinics/', 1]\n",
      "\n",
      "5 [u'2015-12-23T21:16:40.', u'/wiget/clinicsForCountryWiget.php?fromUrl=http', u'/clinic/gospital-dzhona-hopkinsa/', 1]\n",
      "\n",
      "6 [u'2015-12-23T21:26:49.', u'/wiget/clinicsForCountryWiget.php?fromUrl=http', u'/clinic/gospital-dzhona-hopkinsa/', 2]\n",
      "\n"
     ]
    }
   ],
   "source": [
    "for c in cut:\n",
    "    print cut.index(c), c\n",
    "    print"
   ]
  },
  {
   "cell_type": "code",
   "execution_count": 27,
   "metadata": {
    "collapsed": false
   },
   "outputs": [
    {
     "data": {
      "text/plain": [
       "{u'event': None,\n",
       " u'fingerPrint': u'ec073f0725911925058f42a9164b15cd',\n",
       " u'ip': u'78.159.32.102',\n",
       " u'path': u'/',\n",
       " u'properties': None,\n",
       " u'referrer': u'http://ru.bookimed.dev/app/frontend/web/clinic/landing/medicinskij-centr-im-suraski',\n",
       " u'search': u'',\n",
       " u'timestamp': u'2016-07-25T13:53:09.996+0000',\n",
       " u'type': 1,\n",
       " u'userId': u'28373'}"
      ]
     },
     "execution_count": 27,
     "metadata": {},
     "output_type": "execute_result"
    }
   ],
   "source": [
    "data[10]"
   ]
  },
  {
   "cell_type": "code",
   "execution_count": null,
   "metadata": {
    "collapsed": false
   },
   "outputs": [],
   "source": [
    "[i['userId'] for i in data]"
   ]
  },
  {
   "cell_type": "code",
   "execution_count": null,
   "metadata": {
    "collapsed": false
   },
   "outputs": [],
   "source": [
    "[i['ip'] for i in data]"
   ]
  },
  {
   "cell_type": "code",
   "execution_count": null,
   "metadata": {
    "collapsed": false
   },
   "outputs": [],
   "source": [
    "[i['fingerPrint'] for i in data]"
   ]
  },
  {
   "cell_type": "code",
   "execution_count": null,
   "metadata": {
    "collapsed": false
   },
   "outputs": [],
   "source": [
    "[i['timestamp'] for i in data]"
   ]
  }
 ],
 "metadata": {
  "kernelspec": {
   "display_name": "Python 2",
   "language": "python",
   "name": "python2"
  },
  "language_info": {
   "codemirror_mode": {
    "name": "ipython",
    "version": 2
   },
   "file_extension": ".py",
   "mimetype": "text/x-python",
   "name": "python",
   "nbconvert_exporter": "python",
   "pygments_lexer": "ipython2",
   "version": "2.7.6"
  }
 },
 "nbformat": 4,
 "nbformat_minor": 0
}
