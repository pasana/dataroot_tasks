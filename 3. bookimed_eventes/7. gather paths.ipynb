{
 "cells": [
  {
   "cell_type": "code",
   "execution_count": 1,
   "metadata": {
    "collapsed": true
   },
   "outputs": [],
   "source": [
    "import os\n",
    "import glob\n",
    "import json\n",
    "import copy"
   ]
  },
  {
   "cell_type": "code",
   "execution_count": 2,
   "metadata": {
    "collapsed": true
   },
   "outputs": [],
   "source": [
    "this_path = './paths'\n",
    "\n",
    "buttons = ['auto_help', 'clinic_get_cost', 'clinic_free_cost_calc', 'clinics_get_clinic_in_country', 'callback', 'clinic_get_cost_header', 'clinic_diagnostic', 'article_from_text', 'second_opinion', 'clinics_get_country', 'doctor_consult_price', 'prices_in_country', 'unknown', 'banner_get_best_clinic', 'wanna_cheaper', 'search_get_cost', 'doctor_diagnostic', 'sign_in', 'doctor_get_consult_header', 'clinic_operation', 'get_consult', 'program_from_text', 'doctor_get_consult', 'identify', 'Requested Callback', 'Requested Treatment']"
   ]
  },
  {
   "cell_type": "code",
   "execution_count": 3,
   "metadata": {
    "collapsed": true
   },
   "outputs": [],
   "source": [
    "files = [os.path.basename(x) for x in glob.glob('%s/*.json'%this_path)]\n",
    "files = [os.path.basename(x) for x in glob.glob('%s/*, session_1.json'%this_path)]"
   ]
  },
  {
   "cell_type": "code",
   "execution_count": null,
   "metadata": {
    "collapsed": false
   },
   "outputs": [],
   "source": []
  },
  {
   "cell_type": "code",
   "execution_count": 4,
   "metadata": {
    "collapsed": true
   },
   "outputs": [],
   "source": [
    "all_paths=[]\n",
    "for file_name in files:\n",
    "    with open('%s/%s'%(this_path,file_name)) as f:\n",
    "        all_paths += f.readlines()"
   ]
  },
  {
   "cell_type": "code",
   "execution_count": null,
   "metadata": {
    "collapsed": false
   },
   "outputs": [],
   "source": [
    "print len(all_paths)"
   ]
  },
  {
   "cell_type": "code",
   "execution_count": null,
   "metadata": {
    "collapsed": true
   },
   "outputs": [],
   "source": [
    "original_all_paths = copy.deepcopy(all_paths)"
   ]
  },
  {
   "cell_type": "code",
   "execution_count": null,
   "metadata": {
    "collapsed": false
   },
   "outputs": [],
   "source": [
    "srt = sorted(list(set(all_paths)), key = lambda x: all_paths.count(x), reverse=True)"
   ]
  },
  {
   "cell_type": "code",
   "execution_count": null,
   "metadata": {
    "collapsed": false
   },
   "outputs": [],
   "source": [
    "print len(srt)"
   ]
  },
  {
   "cell_type": "code",
   "execution_count": null,
   "metadata": {
    "collapsed": false
   },
   "outputs": [],
   "source": [
    "f = open('all_paths_for_1st_sessions_count.txt', 'w+')\n",
    "for i in all_paths:# srt:\n",
    "    f.write(str(all_paths.count(i)) +' '+i+'\\n')\n",
    "    f.write(i)\n",
    "f.close()"
   ]
  },
  {
   "cell_type": "code",
   "execution_count": null,
   "metadata": {
    "collapsed": false
   },
   "outputs": [],
   "source": []
  },
  {
   "cell_type": "code",
   "execution_count": null,
   "metadata": {
    "collapsed": true
   },
   "outputs": [],
   "source": [
    "for i in srt[:100]:\n",
    "    print str(all_paths.count(i)) +' '+i+'\\n'\n"
   ]
  },
  {
   "cell_type": "code",
   "execution_count": null,
   "metadata": {
    "collapsed": false
   },
   "outputs": [],
   "source": [
    "original_all_paths[0]"
   ]
  },
  {
   "cell_type": "code",
   "execution_count": null,
   "metadata": {
    "collapsed": false
   },
   "outputs": [],
   "source": [
    "all_paths = []\n",
    "for i in original_all_paths:\n",
    "    try:\n",
    "        if '/clinics/country/illness/' == i.strip().split(', ')[1].strip():\n",
    "            if '/' == i.strip().split(', ')[2].strip():\n",
    "                all_paths += [i]\n",
    "    except:\n",
    "        pass"
   ]
  },
  {
   "cell_type": "code",
   "execution_count": null,
   "metadata": {
    "collapsed": false
   },
   "outputs": [],
   "source": [
    "len(all_paths)"
   ]
  },
  {
   "cell_type": "code",
   "execution_count": null,
   "metadata": {
    "collapsed": false
   },
   "outputs": [],
   "source": [
    "num_step = []\n",
    "for path in all_paths:\n",
    "    try:\n",
    "        chunk = path.strip().split(', ')[3].strip()\n",
    "        if chunk == '':\n",
    "            num_step += ['/']\n",
    "        else:\n",
    "            num_step += [chunk]\n",
    "    except:\n",
    "        pass"
   ]
  },
  {
   "cell_type": "code",
   "execution_count": null,
   "metadata": {
    "collapsed": false
   },
   "outputs": [],
   "source": [
    "len(num_step)"
   ]
  },
  {
   "cell_type": "code",
   "execution_count": null,
   "metadata": {
    "collapsed": false
   },
   "outputs": [],
   "source": [
    "num_step_set = sorted(list(set(num_step)), key = lambda x: num_step.count(x), reverse=True)\n",
    "len(num_step_set)"
   ]
  },
  {
   "cell_type": "code",
   "execution_count": null,
   "metadata": {
    "collapsed": false
   },
   "outputs": [],
   "source": [
    "num_step_set = [i for i in num_step_set if '/' == i[0] and num_step.count(i)>0 or i in buttons] \n",
    "num_step_set = [i for i in num_step_set if not '/LK/' in i]\n",
    "num_step_set = [i for i in num_step_set if not '/clientLK/' in i]\n",
    "num_step_set = [i for i in num_step_set if not '/media/' in i]\n",
    "num_step_set = [i for i in num_step_set if not '/admin/' in i]\n",
    "num_step_set = [i for i in num_step_set if not '/frontend/' in i]\n",
    "num_step_set = [i for i in num_step_set if not '/favicon.ico/' in i]\n",
    "num_step_set = [i for i in num_step_set if not '/wiget/' in i]"
   ]
  },
  {
   "cell_type": "code",
   "execution_count": null,
   "metadata": {
    "collapsed": false
   },
   "outputs": [],
   "source": [
    "for i in sorted(num_step_set):\n",
    "    #print \"%d \\t %s\" % (num_step.count(i), i)\n",
    "    #print i\n",
    "    print num_step.count(i)"
   ]
  },
  {
   "cell_type": "code",
   "execution_count": null,
   "metadata": {
    "collapsed": true
   },
   "outputs": [],
   "source": [
    "import re"
   ]
  },
  {
   "cell_type": "code",
   "execution_count": null,
   "metadata": {
    "collapsed": false
   },
   "outputs": [],
   "source": [
    "for name in ['clinics', 'article', 'doctor', 'agency', 'program', 'diagnosticsKind', 'diagnostic', 'country', 'illness', 'direction', 'procedure', 'operation', 'city']:\n",
    "    for i in num_step_set[:100]:\n",
    "        if re.match(u\"^/%s/\"%name,i):\n",
    "            print name, i"
   ]
  },
  {
   "cell_type": "code",
   "execution_count": null,
   "metadata": {
    "collapsed": false
   },
   "outputs": [],
   "source": [
    "if re.match(\"^/clinics\",num_step_set[0]):\n",
    "    print \"ok\""
   ]
  },
  {
   "cell_type": "code",
   "execution_count": null,
   "metadata": {
    "collapsed": false
   },
   "outputs": [],
   "source": [
    "for i in num_step_set:\n",
    "    proz = float(num_step.count(i))/len(num_step) \n",
    "    if proz > 0.009:\n",
    "        print \"%.3f\"%proz\n",
    "        print i\n",
    "        print num_step.count(i)"
   ]
  },
  {
   "cell_type": "code",
   "execution_count": null,
   "metadata": {
    "collapsed": false
   },
   "outputs": [],
   "source": [
    "all_paths[1].strip().split(', ')[1]"
   ]
  },
  {
   "cell_type": "code",
   "execution_count": null,
   "metadata": {
    "collapsed": false
   },
   "outputs": [],
   "source": [
    "num_two_step = []\n",
    "for path in all_paths:\n",
    "    try:\n",
    "        steps = []\n",
    "        for i in range(0,2+1):\n",
    "            steps += [path.strip().split(', ')[i].strip()]\n",
    "        num_two_step += [', '.join(steps)]\n",
    "    except:\n",
    "        pass"
   ]
  },
  {
   "cell_type": "code",
   "execution_count": null,
   "metadata": {
    "collapsed": false
   },
   "outputs": [],
   "source": [
    "len(num_two_step)"
   ]
  },
  {
   "cell_type": "code",
   "execution_count": null,
   "metadata": {
    "collapsed": false
   },
   "outputs": [],
   "source": [
    "num_two_step_set = sorted(list(set(num_two_step)), key = lambda x: num_two_step.count(x), reverse=True)\n",
    "len(num_two_step_set)"
   ]
  },
  {
   "cell_type": "code",
   "execution_count": null,
   "metadata": {
    "collapsed": false,
    "scrolled": true
   },
   "outputs": [],
   "source": [
    "for i in num_two_step_set:\n",
    "    proz = float(num_two_step.count(i))/len(num_two_step) \n",
    "    if proz > 0.009:\n",
    "        print \"%.3f\"%proz\n",
    "        print i\n",
    "        print num_two_step.count(i)"
   ]
  },
  {
   "cell_type": "code",
   "execution_count": null,
   "metadata": {
    "collapsed": false
   },
   "outputs": [],
   "source": [
    "spec = num_two_step_set[:4+1]"
   ]
  },
  {
   "cell_type": "code",
   "execution_count": null,
   "metadata": {
    "collapsed": true
   },
   "outputs": [],
   "source": []
  },
  {
   "cell_type": "code",
   "execution_count": null,
   "metadata": {
    "collapsed": false,
    "scrolled": true
   },
   "outputs": [],
   "source": [
    "for s in spec:\n",
    "    for i in num_two_step_set:\n",
    "        if s in i:\n",
    "            proz = float(num_two_step.count(i))/len(num_two_step) \n",
    "            if proz > 0.001:\n",
    "                #print \"%.3f\"%proz\n",
    "                print i.split(',')[-1].strip()\n",
    "                print num_two_step.count(i)\n",
    "    print\n",
    "    print"
   ]
  }
 ],
 "metadata": {
  "kernelspec": {
   "display_name": "Python 2",
   "language": "python",
   "name": "python2"
  },
  "language_info": {
   "codemirror_mode": {
    "name": "ipython",
    "version": 2
   },
   "file_extension": ".py",
   "mimetype": "text/x-python",
   "name": "python",
   "nbconvert_exporter": "python",
   "pygments_lexer": "ipython2",
   "version": "2.7.6"
  }
 },
 "nbformat": 4,
 "nbformat_minor": 0
}
