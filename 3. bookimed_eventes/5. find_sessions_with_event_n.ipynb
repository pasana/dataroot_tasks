{
 "cells": [
  {
   "cell_type": "code",
   "execution_count": 4,
   "metadata": {
    "collapsed": true
   },
   "outputs": [],
   "source": [
    "import os\n",
    "import glob\n",
    "import json\n",
    "from shutil import copyfile\n",
    "import threading"
   ]
  },
  {
   "cell_type": "code",
   "execution_count": 5,
   "metadata": {
    "collapsed": true
   },
   "outputs": [],
   "source": [
    "path_from = './sessions'\n",
    "path_to_1 = './sessions_event_1'\n",
    "path_to_2 = './sessions_event_2'\n",
    "path_to_3 = './sessions_event_3'"
   ]
  },
  {
   "cell_type": "code",
   "execution_count": 6,
   "metadata": {
    "collapsed": true
   },
   "outputs": [],
   "source": [
    "files = [os.path.basename(x) for x in glob.glob('%s/*.json'%path_from)]"
   ]
  },
  {
   "cell_type": "code",
   "execution_count": 7,
   "metadata": {
    "collapsed": true
   },
   "outputs": [],
   "source": [
    "def pr(l,r):\n",
    "    print \"start %d - %d \" %(l,r)\n",
    "    for file_name in files[l:r]:\n",
    "        f = open('%s/%s'%(path_from,file_name))\n",
    "        context = f.readlines()\n",
    "        data = []\n",
    "        for i in context:\n",
    "            try:\n",
    "                data += [json.loads(i.replace(',\\n','').replace('\\n',''))['event']]\n",
    "            except:\n",
    "                pass\n",
    "        f.close()\n",
    "        #print data\n",
    "        if 1 in data:\n",
    "            copyfile('%s/%s'%(path_from,file_name), '%s/%s'%(path_to_1, file_name))\n",
    "        if 2 in data:\n",
    "            copyfile('%s/%s'%(path_from,file_name), '%s/%s'%(path_to_2, file_name))\n",
    "        if 3 in data:\n",
    "            copyfile('%s/%s'%(path_from,file_name), '%s/%s'%(path_to_3, file_name))\n",
    "    print \"Done %d = %d\"%(l,r)"
   ]
  },
  {
   "cell_type": "code",
   "execution_count": 8,
   "metadata": {
    "collapsed": false
   },
   "outputs": [
    {
     "name": "stdout",
     "output_type": "stream",
     "text": [
      "start 0 - 22009 \n",
      "start 22009 - 44019 \n",
      "start 44019 - 66029 \n",
      "start 66029 - 88039 \n",
      "start 88039 - 110049 \n",
      "start 110049 - 132058 \n",
      "start 132058 - 154068 \n",
      "start 154068 - 176078 \n",
      "start 176078 - 198088 \n",
      "start 198088 - 220098 \n",
      "start 220098 - 242107 \n",
      "start 242107 - 264117 \n",
      "start 264117 - 286127 \n",
      "start 286127 - 308137 \n",
      "start 308137 - 330147 \n",
      "start 330147 - 352156 \n",
      "start 352156 - 374166 \n",
      "start 374166 - 396176 \n",
      "start 396176 - 418186 \n",
      "start 418186 - 440196 \n"
     ]
    }
   ],
   "source": [
    "l_files = len(files)\n",
    "ts = []\n",
    "N = 20\n",
    "for i in range(0,N):\n",
    "    ts += [threading.Thread(target=pr, args=(l_files*i/N,l_files*(i+1)/N))]\n",
    "\n",
    "for t in ts:\n",
    "    t.start()"
   ]
  },
  {
   "cell_type": "code",
   "execution_count": null,
   "metadata": {
    "collapsed": true
   },
   "outputs": [],
   "source": []
  },
  {
   "cell_type": "code",
   "execution_count": null,
   "metadata": {
    "collapsed": false
   },
   "outputs": [],
   "source": [
    "#one thread\n",
    "for file_name in files:\n",
    "    f = open('%s/%s'%(path_from,file_name))\n",
    "    context = f.readlines()\n",
    "    data = []\n",
    "    for i in context:\n",
    "        try:\n",
    "            data += [json.loads(i.replace(',\\n','').replace('\\n',''))['event']]\n",
    "        except:\n",
    "            pass\n",
    "    f.close()\n",
    "    #print data\n",
    "    if 1 in data:\n",
    "        copyfile('%s/%s'%(path_from,file_name), '%s/%s'%(path_to, file_name))     "
   ]
  }
 ],
 "metadata": {
  "kernelspec": {
   "display_name": "Python 2",
   "language": "python",
   "name": "python2"
  },
  "language_info": {
   "codemirror_mode": {
    "name": "ipython",
    "version": 2
   },
   "file_extension": ".py",
   "mimetype": "text/x-python",
   "name": "python",
   "nbconvert_exporter": "python",
   "pygments_lexer": "ipython2",
   "version": "2.7.6"
  }
 },
 "nbformat": 4,
 "nbformat_minor": 0
}
