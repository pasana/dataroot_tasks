{
 "cells": [
  {
   "cell_type": "code",
   "execution_count": 1,
   "metadata": {
    "collapsed": true
   },
   "outputs": [],
   "source": [
    "import json\n",
    "import glob\n",
    "import os\n",
    "import pandas as pd"
   ]
  },
  {
   "cell_type": "code",
   "execution_count": 2,
   "metadata": {
    "collapsed": false
   },
   "outputs": [
    {
     "name": "stdout",
     "output_type": "stream",
     "text": [
      "337442\n"
     ]
    }
   ],
   "source": [
    "files = [os.path.basename(x) for x in glob.glob('./users/*.json')]\n",
    "print len(files)"
   ]
  },
  {
   "cell_type": "code",
   "execution_count": 3,
   "metadata": {
    "collapsed": true
   },
   "outputs": [],
   "source": [
    "def write_session_to_file(anon_id, session_count, session):\n",
    "    with open('./sessions/' + anon_id + ', session_'+str(session_count)+'.json', 'w') as session_file:\n",
    "            for row in session.iterrows():\n",
    "                row[1].drop(['interval','timestamp_shifted','time'], inplace=True)\n",
    "                if 'originalTimestamp' in row[1]: row[1].drop(['originalTimestamp'], inplace=True)\n",
    "                row[1].to_json(session_file)\n",
    "                session_file.write(\"\\n\")"
   ]
  },
  {
   "cell_type": "code",
   "execution_count": 4,
   "metadata": {
    "collapsed": false,
    "scrolled": true
   },
   "outputs": [],
   "source": [
    "for file_name in files:\n",
    "    f = open('./users/%s'%file_name)\n",
    "    count = 0\n",
    "    context = f.readlines()\n",
    "    data = []\n",
    "    for i in context[:]:\n",
    "        data += [json.loads(i.replace(',\\n','').replace('\\n',''))]\n",
    "\n",
    "    data = pd.DataFrame.from_records(data)\n",
    "    \n",
    "    data['time'] = pd.to_datetime(data['timestamp'])\n",
    "    index = data.index\n",
    "    data = data.sort(['time'])\n",
    "    data.index = index\n",
    "    data['timestamp_shifted'] = data['time'].shift()\n",
    "    data['interval'] = data.apply(lambda row: (row['time'] - row['timestamp_shifted']), axis=1)\n",
    "    data.set_value(0, 'interval', 0)\n",
    "\n",
    "    beginning_of_session = 0\n",
    "    session_count = 1\n",
    "    anon_id = file_name.split('.')[0]\n",
    "    index = 0\n",
    "\n",
    "    for index in data.index:   \n",
    "        if data.loc[index,'interval'] > pd.to_timedelta('0 days 01:00:00.00000'): \n",
    "            write_session_to_file(anon_id, session_count, data.loc[beginning_of_session:index-1])\n",
    "            beginning_of_session = index\n",
    "            session_count += 1\n",
    "\n",
    "    if index >= beginning_of_session:\n",
    "        write_session_to_file(anon_id, session_count, data.loc[beginning_of_session:index])\n"
   ]
  }
 ],
 "metadata": {
  "kernelspec": {
   "display_name": "Python 2",
   "language": "python",
   "name": "python2"
  },
  "language_info": {
   "codemirror_mode": {
    "name": "ipython",
    "version": 2
   },
   "file_extension": ".py",
   "mimetype": "text/x-python",
   "name": "python",
   "nbconvert_exporter": "python",
   "pygments_lexer": "ipython2",
   "version": "2.7.6"
  }
 },
 "nbformat": 4,
 "nbformat_minor": 0
}
