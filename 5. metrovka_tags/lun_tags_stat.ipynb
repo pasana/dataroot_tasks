{
 "cells": [
  {
   "cell_type": "code",
   "execution_count": 43,
   "metadata": {
    "collapsed": false
   },
   "outputs": [],
   "source": [
    "import json\n",
    "import pandas as pd\n",
    "import re"
   ]
  },
  {
   "cell_type": "code",
   "execution_count": 3,
   "metadata": {
    "collapsed": true
   },
   "outputs": [],
   "source": [
    "with open('./lun_tag/1.json') as f:\n",
    "    data = json.load(f)"
   ]
  },
  {
   "cell_type": "code",
   "execution_count": 5,
   "metadata": {
    "collapsed": false
   },
   "outputs": [
    {
     "data": {
      "text/plain": [
       "{u'tags': u'\\u0441\\u043f\\u0435\\u0446. \\u043f\\u0440\\u043e\\u0435\\u043a\\u0442, \\u0433\\u043e\\u0434 \\u043f\\u043e\\u0441\\u0442\\u0440\\u043e\\u0439\\u043a\\u0438 1974, \\u0432\\u044b\\u0441\\u043e\\u0442\\u0430 \\u043f\\u043e\\u0442\\u043e\\u043b\\u043a\\u043e\\u0432 2.75 \\u043c',\n",
       " u'url': u'lun.ua//a/333734233/redirect'}"
      ]
     },
     "execution_count": 5,
     "metadata": {},
     "output_type": "execute_result"
    }
   ],
   "source": [
    "data[0]"
   ]
  },
  {
   "cell_type": "code",
   "execution_count": 8,
   "metadata": {
    "collapsed": true
   },
   "outputs": [],
   "source": [
    "dt = pd.DataFrame(data)"
   ]
  },
  {
   "cell_type": "code",
   "execution_count": 42,
   "metadata": {
    "collapsed": false,
    "scrolled": true
   },
   "outputs": [
    {
     "name": "stdout",
     "output_type": "stream",
     "text": [
      "3920\n"
     ]
    }
   ],
   "source": [
    "print len(dt)"
   ]
  },
  {
   "cell_type": "code",
   "execution_count": 25,
   "metadata": {
    "collapsed": false
   },
   "outputs": [],
   "source": [
    "tags_strings = dt[dt['tags']!='']['tags'].tolist()"
   ]
  },
  {
   "cell_type": "code",
   "execution_count": 26,
   "metadata": {
    "collapsed": false
   },
   "outputs": [
    {
     "name": "stdout",
     "output_type": "stream",
     "text": [
      "2656\n"
     ]
    }
   ],
   "source": [
    "print len(tags_strings)"
   ]
  },
  {
   "cell_type": "code",
   "execution_count": 31,
   "metadata": {
    "collapsed": false
   },
   "outputs": [
    {
     "name": "stdout",
     "output_type": "stream",
     "text": [
      "спец. проект, год постройки 1974, высота потолков 2.75 м\n",
      "\n",
      "спец. проект\n",
      "год постройки 1974\n",
      "высота потолков 2.75 м\n"
     ]
    }
   ],
   "source": [
    "print tags_strings[0]\n",
    "print\n",
    "for i in tags_strings[0].split(', '):\n",
    "    print i"
   ]
  },
  {
   "cell_type": "code",
   "execution_count": 35,
   "metadata": {
    "collapsed": false
   },
   "outputs": [],
   "source": [
    "tags_set = sorted(list(set(sum([i.split(',') for i in tags_strings],[]))))"
   ]
  },
  {
   "cell_type": "code",
   "execution_count": 54,
   "metadata": {
    "collapsed": true
   },
   "outputs": [],
   "source": [
    "tags_set = [re.sub('[\\d.\\d]', '', i.strip()) for i in tags_set]"
   ]
  },
  {
   "cell_type": "code",
   "execution_count": 56,
   "metadata": {
    "collapsed": true
   },
   "outputs": [],
   "source": [
    "tags_set = sorted(list(set(tags_set)))"
   ]
  },
  {
   "cell_type": "code",
   "execution_count": 57,
   "metadata": {
    "collapsed": false
   },
   "outputs": [
    {
     "name": "stdout",
     "output_type": "stream",
     "text": [
      "28\n"
     ]
    }
   ],
   "source": [
    "print len(tags_set)"
   ]
  },
  {
   "cell_type": "code",
   "execution_count": 53,
   "metadata": {
    "collapsed": false
   },
   "outputs": [
    {
     "name": "stdout",
     "output_type": "stream",
     "text": [
      "год постройки \n"
     ]
    }
   ],
   "source": [
    "print re.sub('[\\d.\\d]', '', tags_set[70])"
   ]
  },
  {
   "cell_type": "code",
   "execution_count": 58,
   "metadata": {
    "collapsed": false
   },
   "outputs": [
    {
     "name": "stdout",
     "output_type": "stream",
     "text": [
      "АППС\n",
      "АППС-люкс\n",
      "БПС\n",
      "КТУ\n",
      "без балкона\n",
      "без комиссии\n",
      "высота потолков  м\n",
      "год постройки \n",
      "гостинка\n",
      "дореволюционный\n",
      "есть тех этаж\n",
      "новострой\n",
      "общая кухня\n",
      "от застройщика\n",
      "посредникам не беспокоить\n",
      "с хозяевами\n",
      "сдается впервые\n",
      "серия \n",
      "серия ЕС\n",
      "серия КП\n",
      "серия КТ\n",
      "серия Т\n",
      "совмин\n",
      "спец проект\n",
      "сталинка\n",
      "хрущевка\n",
      "чешский проект\n",
      "эксклюзив\n"
     ]
    }
   ],
   "source": [
    "for i in tags_set:\n",
    "    print i"
   ]
  },
  {
   "cell_type": "code",
   "execution_count": 67,
   "metadata": {
    "collapsed": false
   },
   "outputs": [
    {
     "name": "stdout",
     "output_type": "stream",
     "text": [
      "tags                       эксклюзив\n",
      "url     lun.ua//a/333550868/redirect\n",
      "Name: 1249, dtype: object\n",
      "tags    спец. проект, высота потолков 2.7 м, эксклюзив\n",
      "url                       lun.ua//a/333465998/redirect\n",
      "Name: 1698, dtype: object\n",
      "tags    хрущевка, год постройки 1960, высота потолков ...\n",
      "url                          lun.ua//a/333466695/redirect\n",
      "Name: 1929, dtype: object\n",
      "tags    серия 87, год постройки 1985, высота потолков ...\n",
      "url                          lun.ua//a/333250543/redirect\n",
      "Name: 2432, dtype: object\n",
      "tags    серия 96, год постройки 1981, высота потолков ...\n",
      "url                          lun.ua//a/333240181/redirect\n",
      "Name: 2483, dtype: object\n",
      "tags    сталинка, год постройки 1960, высота потолков ...\n",
      "url                          lun.ua//a/332677134/redirect\n",
      "Name: 3792, dtype: object\n"
     ]
    }
   ],
   "source": [
    "for i in range(0, len(dt)):\n",
    "    if u'эксклюзив' in dt.iloc[i]['tags']:\n",
    "        print dt.iloc[i]"
   ]
  },
  {
   "cell_type": "code",
   "execution_count": null,
   "metadata": {
    "collapsed": true
   },
   "outputs": [],
   "source": [
    "-Особенности квартиры/дома\n",
    "общая кухня\n",
    "высота потолков  м\n",
    "год постройки \n",
    "без балкона\n",
    "есть тех этаж\n",
    "эксклюзив\n",
    "\n",
    "-Особенности сделки\n",
    "от застройщика\n",
    "без комиссии\n",
    "посредникам не беспокоить\n",
    "с хозяевами\n",
    "сдается впервые\n",
    "\n",
    "-Серия\n",
    "серия \n",
    "серия ЕС\n",
    "серия КП\n",
    "серия КТ\n",
    "серия Т\n",
    "АППС\n",
    "АППС-люкс\n",
    "БПС\n",
    "КТУ\n",
    "\n",
    "-Тип планировки\n",
    "совмин\n",
    "гостинка\n",
    "дореволюционный\n",
    "новострой\n",
    "спец проект\n",
    "сталинка\n",
    "хрущевка\n",
    "чешский проект"
   ]
  }
 ],
 "metadata": {
  "kernelspec": {
   "display_name": "Python 2",
   "language": "python",
   "name": "python2"
  },
  "language_info": {
   "codemirror_mode": {
    "name": "ipython",
    "version": 2
   },
   "file_extension": ".py",
   "mimetype": "text/x-python",
   "name": "python",
   "nbconvert_exporter": "python",
   "pygments_lexer": "ipython2",
   "version": "2.7.6"
  }
 },
 "nbformat": 4,
 "nbformat_minor": 0
}
