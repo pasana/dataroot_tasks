{
 "cells": [
  {
   "cell_type": "code",
   "execution_count": 1,
   "metadata": {
    "collapsed": false
   },
   "outputs": [],
   "source": [
    "import json\n",
    "import matplotlib.pyplot as plt\n",
    "import numpy as np\n",
    "from sklearn import datasets, linear_model\n",
    "from sklearn import preprocessing\n",
    "from sklearn import cross_validation"
   ]
  },
  {
   "cell_type": "code",
   "execution_count": 16,
   "metadata": {
    "collapsed": false
   },
   "outputs": [],
   "source": [
    "path_1 = './max/'\n",
    "path_2 = './max20160907'"
   ]
  },
  {
   "cell_type": "code",
   "execution_count": 2,
   "metadata": {
    "collapsed": true
   },
   "outputs": [],
   "source": [
    "FEATURES = [\"specialist\", \"experience\", \"variety\", \"price\"]"
   ]
  },
  {
   "cell_type": "code",
   "execution_count": 12,
   "metadata": {
    "collapsed": false
   },
   "outputs": [],
   "source": [
    "def extract_data(clinic, clinic_estim):\n",
    "    X = [[]]\n",
    "    X[-1]+=[int(clinic_estim['specialist'])]\n",
    "    X[-1]+=[int(clinic_estim['experience'])]\n",
    "    X[-1]+=[int(clinic_estim['variety'])]\n",
    "    X[-1]+=[int(clinic_estim['price'])]\n",
    "    y=[int(clinic_estim['rating'])]\n",
    "    return [X, y]"
   ]
  },
  {
   "cell_type": "code",
   "execution_count": 4,
   "metadata": {
    "collapsed": true
   },
   "outputs": [],
   "source": [
    "def get_X_y_from(t_data):\n",
    "    clinic_ids = [i['id'] for i in t_data]\n",
    "    t_cleaned_data = [extract_data(cancer_data[clinic_ids.index(i['id'])], i) for i in estims_data]\n",
    "    X = sum([i[0] for i in t_cleaned_data],[])\n",
    "    y = sum([i[1] for i in t_cleaned_data],[])\n",
    "    return X,y"
   ]
  },
  {
   "cell_type": "code",
   "execution_count": 5,
   "metadata": {
    "collapsed": true
   },
   "outputs": [],
   "source": [
    "def normale(mat):\n",
    "    for i in [0,1,2]:\n",
    "        mass = [abs(k[i]) for k in mat]\n",
    "        m = max(mass)\n",
    "        if m>0:\n",
    "            for j in mat:\n",
    "                j[i] = round(j[i] / float(m), 4)"
   ]
  },
  {
   "cell_type": "code",
   "execution_count": 26,
   "metadata": {
    "collapsed": true
   },
   "outputs": [],
   "source": [
    "def process_with(X,y, info=False, short=False, return_short = False, new_coef = [], ts=0.2):\n",
    "    train_X, test_X, train_y, test_y = cross_validation.train_test_split(X, y, test_size = ts, random_state = 3)\n",
    "    regr = linear_model.LinearRegression(fit_intercept=False, normalize=False)\n",
    "    if new_coef != []:\n",
    "        print \"new coefs\"\n",
    "        regr.coef_ = new_coef\n",
    "    regr.fit(train_X, train_y)\n",
    "    if info:\n",
    "        print \"Total: %d, train: %d, test: %d\" %(len(X), len(train_X), len(test_X))\n",
    "        print(\"Residual sum of squares: %.2f\"% np.mean((regr.predict(test_X) - test_y) ** 2))\n",
    "        print(\"Train absolute: %.2f\"% np.mean(abs(regr.predict(train_X) - train_y)))\n",
    "        print(\"Test absolute: %.2f\"% np.mean(abs(regr.predict(test_X) - test_y)))\n",
    "        print(\"Absolute to mean: %.2f%%\"% (np.mean(abs(regr.predict(test_X) - test_y))/np.mean(test_y)*100))\n",
    "        print('Train variance score: %.2f' % regr.score(train_X, train_y))\n",
    "        print('Test variance score: %.2f' % regr.score(test_X, test_y))\n",
    "    if short:\n",
    "        print \"Total: %d, train: %d, test: %d\" %(len(X), len(train_X), len(test_X))\n",
    "        print \"%.3f\" % np.mean(abs(regr.predict(train_X) - train_y))\n",
    "        print \"%.3f\" % np.mean(abs(regr.predict(test_X) - test_y))\n",
    "        print \"%.3f\" % (np.mean(abs(regr.predict(test_X) - test_y))/np.mean(test_y)*100)\n",
    "        print \"%.3f\" % regr.score(train_X, train_y)\n",
    "        print \"%.3f\" % regr.score(test_X, test_y)\n",
    "    if return_short:\n",
    "        return np.mean(abs(regr.predict(test_X) - test_y)),regr.score(test_X, test_y)\n",
    "    for i in regr.coef_:\n",
    "        print \"%.3f\" % i\n",
    "    #print \"%.3f\" % regr.intercept_\n",
    "    return regr"
   ]
  },
  {
   "cell_type": "code",
   "execution_count": null,
   "metadata": {
    "collapsed": false
   },
   "outputs": [],
   "source": [
    "X, y = get_X_y_from(cancer_data)"
   ]
  },
  {
   "cell_type": "code",
   "execution_count": 13,
   "metadata": {
    "collapsed": false
   },
   "outputs": [],
   "source": [
    "X_all, y_all = [], []\n",
    "\n",
    "with open('./max/estims.json') as data_file: \n",
    "    estims_data = json.load(data_file)[2]['clinics']\n",
    "with open('./max/меланома_все.json') as data_file: #2\n",
    "    cancer_data = json.load(data_file)[0]['clinics']\n",
    "X_1, y_1 = get_X_y_from(cancer_data)\n",
    "X_all+=X_1\n",
    "y_all+=y_1\n",
    "    \n",
    "with open('./max/estims.json') as data_file: \n",
    "    estims_data = json.load(data_file)[0]['clinics']\n",
    "with open('./max/рак_груди_все.json') as data_file: #0\n",
    "    cancer_data = json.load(data_file)[0]['clinics']\n",
    "X_2, y_2 = get_X_y_from(cancer_data)\n",
    "X_all+=X_2\n",
    "y_all+=y_2\n",
    "    \n",
    "with open('./max/estims.json') as data_file: \n",
    "    estims_data = json.load(data_file)[4]['clinics']    \n",
    "with open('./max/рак_простаты_все.json') as data_file: #4\n",
    "    cancer_data = json.load(data_file)[0]['clinics']\n",
    "clinic_ids = [i['id'] for i in estims_data]\n",
    "estims_data.pop(clinic_ids.index('0'))\n",
    "X_3, y_3 = get_X_y_from(cancer_data)\n",
    "X_all+=X_3\n",
    "y_all+=y_3\n",
    "\n",
    "with open('./max/estims.json') as data_file: \n",
    "    estims_data = json.load(data_file)[1]['clinics']     \n",
    "with open('./max/рак_шейки_матки_все.json') as data_file: #1\n",
    "    cancer_data = json.load(data_file)[0]['clinics']\n",
    "X_4, y_4 = get_X_y_from(cancer_data)\n",
    "X_all+=X_4\n",
    "y_all+=y_4\n",
    "    \n",
    "with open('./max/estims.json') as data_file: \n",
    "    estims_data = json.load(data_file)[3]['clinics']         \n",
    "with open('./max/рак_щитовидки_все.json') as data_file: #3\n",
    "    cancer_data = json.load(data_file)[0]['clinics']\n",
    "X_5, y_5 = get_X_y_from(cancer_data)\n",
    "X_all+=X_5\n",
    "y_all+=y_5\n",
    "\n",
    "#normale(X_all)"
   ]
  },
  {
   "cell_type": "code",
   "execution_count": null,
   "metadata": {
    "collapsed": false
   },
   "outputs": [],
   "source": [
    "X_all"
   ]
  },
  {
   "cell_type": "code",
   "execution_count": 56,
   "metadata": {
    "collapsed": false
   },
   "outputs": [
    {
     "name": "stdout",
     "output_type": "stream",
     "text": [
      "Total: 49, train: 44, test: 5\n",
      "2.115\n",
      "2.865\n",
      "47.745\n",
      "0.224\n",
      "0.244\n",
      "1.101\n",
      "-0.198\n",
      "-0.023\n",
      "-0.314\n",
      "\n",
      "Total: 49, train: 39, test: 10\n",
      "2.087\n",
      "2.522\n",
      "51.460\n",
      "0.227\n",
      "0.194\n",
      "0.815\n",
      "0.020\n",
      "0.060\n",
      "-0.295\n",
      "\n",
      "Total: 49, train: 34, test: 15\n",
      "1.912\n",
      "2.777\n",
      "61.263\n",
      "0.346\n",
      "-0.354\n",
      "0.993\n",
      "0.190\n",
      "-0.086\n",
      "-0.506\n",
      "\n",
      "Total: 49, train: 29, test: 20\n",
      "2.019\n",
      "2.390\n",
      "48.284\n",
      "0.359\n",
      "-0.169\n",
      "1.474\n",
      "-0.223\n",
      "-0.121\n",
      "-0.573\n",
      "\n",
      "Total: 49, train: 24, test: 25\n",
      "1.975\n",
      "2.349\n",
      "48.126\n",
      "0.346\n",
      "-0.122\n",
      "1.511\n",
      "-0.314\n",
      "-0.075\n",
      "-0.531\n",
      "\n",
      "Total: 49, train: 19, test: 30\n",
      "2.055\n",
      "2.269\n",
      "45.677\n",
      "0.367\n",
      "-0.034\n",
      "1.967\n",
      "-0.674\n",
      "-0.209\n",
      "-0.533\n",
      "\n",
      "Total: 49, train: 14, test: 35\n",
      "2.246\n",
      "2.216\n",
      "44.316\n",
      "0.369\n",
      "-0.041\n",
      "1.789\n",
      "-0.403\n",
      "-0.373\n",
      "-0.455\n",
      "\n",
      "Total: 49, train: 9, test: 40\n",
      "2.156\n",
      "2.545\n",
      "48.711\n",
      "0.306\n",
      "-0.252\n",
      "-0.600\n",
      "1.333\n",
      "0.067\n",
      "0.048\n",
      "\n",
      "Total: 49, train: 4, test: 45\n",
      "0.000\n",
      "5.516\n",
      "100.498\n",
      "1.000\n",
      "-7.101\n",
      "2.354\n",
      "-3.167\n",
      "3.167\n",
      "-2.500\n",
      "\n"
     ]
    }
   ],
   "source": [
    "for i in range(1,10):\n",
    "    regr = process_with(X_all, y_all, short=True, ts=i/10.0)\n",
    "    print"
   ]
  },
  {
   "cell_type": "code",
   "execution_count": 57,
   "metadata": {
    "collapsed": false
   },
   "outputs": [
    {
     "name": "stdout",
     "output_type": "stream",
     "text": [
      "Total: 49, train: 39, test: 10\n",
      "Residual sum of squares: 7.49\n",
      "Train absolute: 2.09\n",
      "Test absolute: 2.52\n",
      "Absolute to mean: 51.46%\n",
      "Train variance score: 0.23\n",
      "Test variance score: 0.19\n",
      "0.815\n",
      "0.020\n",
      "0.060\n",
      "-0.295\n"
     ]
    }
   ],
   "source": [
    "regr = process_with(X_all, y_all, info=True, ts=0.2)"
   ]
  },
  {
   "cell_type": "code",
   "execution_count": 61,
   "metadata": {
    "collapsed": false
   },
   "outputs": [
    {
     "name": "stdout",
     "output_type": "stream",
     "text": [
      "7.41657895928\n",
      "5.51090973047\n",
      "5.15530162401\n",
      "5.37070254137\n",
      "7.88707619223\n",
      "4.13955208286\n",
      "5.98140696342\n",
      "5.15530162401\n",
      "4.77984581843\n",
      "4.50426515608\n",
      "7.77218706574\n",
      "7.77218706574\n",
      "5.93033218519\n",
      "5.99051193018\n",
      "5.215481369\n",
      "5.39055024048\n",
      "4.79969351755\n",
      "5.39055024048\n",
      "3.68890254903\n",
      "5.92122721843\n",
      "6.16921540492\n",
      "5.45436458874\n",
      "5.74615834695\n",
      "5.98140696342\n",
      "6.1564758349\n",
      "5.11560622577\n",
      "3.86760602377\n",
      "5.45072998548\n",
      "5.215481369\n",
      "7.47675870428\n",
      "4.79969351755\n",
      "4.85987326254\n",
      "6.10176645341\n",
      "5.45072998548\n",
      "4.50426515608\n",
      "4.18898909549\n",
      "5.98140696342\n",
      "7.59164783077\n",
      "5.15530162401\n",
      "6.52118890812\n",
      "6.93697675957\n",
      "5.97066423106\n",
      "5.45072998548\n",
      "6.7564375246\n",
      "5.94107491755\n",
      "5.01509443491\n",
      "4.77984581843\n",
      "5.09512187902\n",
      "4.50426515608\n"
     ]
    }
   ],
   "source": [
    "import warnings\n",
    "warnings.filterwarnings(\"ignore\")\n",
    "for i in range(0,len(y_all)):    \n",
    "    #print \"Real: %f \\t Predicted: %f\" %(y_all[i], regr.predict(X_all[i]))\n",
    "    #print y_all[i]\n",
    "    print regr.predict(X_all[i])[0]"
   ]
  },
  {
   "cell_type": "code",
   "execution_count": 62,
   "metadata": {
    "collapsed": false
   },
   "outputs": [
    {
     "name": "stdout",
     "output_type": "stream",
     "text": [
      "Features sorted by their score:\n",
      "0.0\n",
      "4\n",
      "0.815400 \t specialist\n",
      "0.019800 \t experience\n",
      "0.060200 \t variety\n",
      "-0.295400 \t price\n"
     ]
    }
   ],
   "source": [
    "print \"Features sorted by their score:\"\n",
    "#f = sorted(zip(map(lambda x: round(x, 4), regr.coef_), FEATURES), reverse=True)\n",
    "f = zip(map(lambda x: round(x, 4), regr.coef_), FEATURES)\n",
    "print regr.intercept_\n",
    "print len(FEATURES)\n",
    "for i in f:\n",
    "    print \"%4f \\t %s\" %(i[0], i[1])\n",
    "    #print i[0] #, i[1]"
   ]
  },
  {
   "cell_type": "code",
   "execution_count": null,
   "metadata": {
    "collapsed": false
   },
   "outputs": [],
   "source": [
    "ind = [map(lambda x: x[1], f).index(i) for i in FEATURES]\n",
    "for i in ind:\n",
    "    print i+1"
   ]
  },
  {
   "cell_type": "code",
   "execution_count": null,
   "metadata": {
    "collapsed": false
   },
   "outputs": [],
   "source": [
    "plt.plot([i[22] for i in X])\n",
    "plt.show()"
   ]
  },
  {
   "cell_type": "code",
   "execution_count": null,
   "metadata": {
    "collapsed": false
   },
   "outputs": [],
   "source": [
    "print FEATURES[8]\n",
    "[i[22] for i in X]"
   ]
  },
  {
   "cell_type": "code",
   "execution_count": null,
   "metadata": {
    "collapsed": false
   },
   "outputs": [],
   "source": [
    "for k in range(0,26):\n",
    "    print FEATURES[k], 10 - [i[k] for i in X].count(0)"
   ]
  }
 ],
 "metadata": {
  "kernelspec": {
   "display_name": "Python 2",
   "language": "python",
   "name": "python2"
  },
  "language_info": {
   "codemirror_mode": {
    "name": "ipython",
    "version": 2
   },
   "file_extension": ".py",
   "mimetype": "text/x-python",
   "name": "python",
   "nbconvert_exporter": "python",
   "pygments_lexer": "ipython2",
   "version": "2.7.6"
  }
 },
 "nbformat": 4,
 "nbformat_minor": 0
}
