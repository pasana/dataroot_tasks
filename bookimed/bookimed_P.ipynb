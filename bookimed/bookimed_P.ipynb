{
 "cells": [
  {
   "cell_type": "code",
   "execution_count": 1,
   "metadata": {
    "collapsed": false
   },
   "outputs": [],
   "source": [
    "import json\n",
    "import matplotlib.pyplot as plt\n",
    "import numpy as np\n",
    "from sklearn import datasets, linear_model\n",
    "from sklearn import preprocessing\n",
    "from sklearn import cross_validation"
   ]
  },
  {
   "cell_type": "code",
   "execution_count": 2,
   "metadata": {
    "collapsed": true
   },
   "outputs": [],
   "source": [
    "FEATURES = [\n",
    " \"price_level\", \n",
    "]"
   ]
  },
  {
   "cell_type": "code",
   "execution_count": 3,
   "metadata": {
    "collapsed": true
   },
   "outputs": [],
   "source": [
    "def extract_data(clinic, clinic_estim):\n",
    "    X = [int(clinic['price_level'])]\n",
    "    y=[int(clinic_estim['price'])]\n",
    "    return [X, y]"
   ]
  },
  {
   "cell_type": "code",
   "execution_count": 4,
   "metadata": {
    "collapsed": true
   },
   "outputs": [],
   "source": [
    "def normale(mat):\n",
    "    for i in [0,1,2,3]:\n",
    "        mass = [k[i] for k in mat]\n",
    "        m = max(mass)\n",
    "        if m>0:\n",
    "            for j in mat:\n",
    "                j[i] = round(j[i] / float(m), 4)"
   ]
  },
  {
   "cell_type": "code",
   "execution_count": 5,
   "metadata": {
    "collapsed": true
   },
   "outputs": [],
   "source": [
    "def get_X_y_from(t_data):\n",
    "    clinic_ids = [i['id'] for i in t_data]\n",
    "    t_cleaned_data = [extract_data(cancer_data[clinic_ids.index(i['id'])], i) for i in estims_data]\n",
    "    X = sum([i[0] for i in t_cleaned_data],[])\n",
    "    y = sum([i[1] for i in t_cleaned_data],[])\n",
    "    return X,y"
   ]
  },
  {
   "cell_type": "code",
   "execution_count": 36,
   "metadata": {
    "collapsed": true
   },
   "outputs": [],
   "source": [
    "def process_with(X,y, info=False, short=False, return_short = False, new_coef = [], ts=0.2):\n",
    "    train_X, test_X, train_y, test_y = cross_validation.train_test_split(X, y, test_size = ts, random_state = 3)\n",
    "    train_X = np.array(train_X).reshape(len(train_X),1)\n",
    "    test_X = np.array(test_X).reshape(len(test_X),1)\n",
    "    regr = linear_model.LinearRegression(fit_intercept=True, normalize=False)\n",
    "    if new_coef != []:\n",
    "        print \"new coefs\"\n",
    "        regr.coef_ = new_coef\n",
    "    regr.fit(train_X, train_y)\n",
    "    if info:\n",
    "        print \"Total: %d, train: %d, test: %d\" %(len(X), len(train_X), len(test_X))\n",
    "        print(\"Residual sum of squares: %.2f\"% np.mean((regr.predict(test_X) - test_y) ** 2))\n",
    "        print(\"Train absolute: %.2f\"% np.mean(abs(regr.predict(train_X) - train_y)))\n",
    "        print(\"Test absolute: %.2f\"% np.mean(abs(regr.predict(test_X) - test_y)))\n",
    "        print(\"Absolute to mean: %.2f%%\"% (np.mean(abs(regr.predict(test_X) - test_y))/np.mean(test_y)*100))\n",
    "        print('Train variance score: %.2f' % regr.score(train_X, train_y))\n",
    "        print('Test variance score: %.2f' % regr.score(test_X, test_y))\n",
    "    if short:\n",
    "        print \"Total: %d, train: %d, test: %d\" %(len(X), len(train_X), len(test_X))\n",
    "        print \"%.3f\" % np.mean(abs(regr.predict(train_X) - train_y))\n",
    "        print \"%.3f\" % np.mean(abs(regr.predict(test_X) - test_y))\n",
    "        print \"%.3f\" % (np.mean(abs(regr.predict(test_X) - test_y))/np.mean(test_y)*100)\n",
    "        print \"%.3f\" % regr.score(train_X, train_y)\n",
    "        print \"%.3f\" % regr.score(test_X, test_y)\n",
    "    if return_short:\n",
    "        return np.mean(abs(regr.predict(test_X) - test_y)),regr.score(test_X, test_y)\n",
    "    for i in regr.coef_:\n",
    "        print \"%.3f\" % i\n",
    "    print \"%.3f\" % regr.intercept_\n",
    "    return regr"
   ]
  },
  {
   "cell_type": "code",
   "execution_count": 7,
   "metadata": {
    "collapsed": false
   },
   "outputs": [],
   "source": [
    "X_all, y_all = [], []\n",
    "\n",
    "with open('./max/estims.json') as data_file: \n",
    "    estims_data = json.load(data_file)[2]['clinics']\n",
    "with open('./max/меланома_все.json') as data_file: #2\n",
    "    cancer_data = json.load(data_file)[0]['clinics']\n",
    "X_1, y_1 = get_X_y_from(cancer_data)\n",
    "X_all+=X_1\n",
    "y_all+=y_1\n",
    "    \n",
    "with open('./max/estims.json') as data_file: \n",
    "    estims_data = json.load(data_file)[0]['clinics']\n",
    "with open('./max/рак_груди_все.json') as data_file: #0\n",
    "    cancer_data = json.load(data_file)[0]['clinics']\n",
    "X_2, y_2 = get_X_y_from(cancer_data)\n",
    "X_all+=X_2\n",
    "y_all+=y_2\n",
    "    \n",
    "with open('./max/estims.json') as data_file: \n",
    "    estims_data = json.load(data_file)[4]['clinics']    \n",
    "with open('./max/рак_простаты_все.json') as data_file: #4\n",
    "    cancer_data = json.load(data_file)[0]['clinics']\n",
    "clinic_ids = [i['id'] for i in estims_data]\n",
    "estims_data.pop(clinic_ids.index('0'))\n",
    "X_3, y_3 = get_X_y_from(cancer_data)\n",
    "X_all+=X_3\n",
    "y_all+=y_3\n",
    "\n",
    "with open('./max/estims.json') as data_file: \n",
    "    estims_data = json.load(data_file)[1]['clinics']     \n",
    "with open('./max/рак_шейки_матки_все.json') as data_file: #1\n",
    "    cancer_data = json.load(data_file)[0]['clinics']\n",
    "X_4, y_4 = get_X_y_from(cancer_data)\n",
    "X_all+=X_4\n",
    "y_all+=y_4\n",
    "    \n",
    "with open('./max/estims.json') as data_file: \n",
    "    estims_data = json.load(data_file)[3]['clinics']         \n",
    "with open('./max/рак_щитовидки_все.json') as data_file: #3\n",
    "    cancer_data = json.load(data_file)[0]['clinics']\n",
    "X_5, y_5 = get_X_y_from(cancer_data)\n",
    "X_all+=X_5\n",
    "y_all+=y_5"
   ]
  },
  {
   "cell_type": "code",
   "execution_count": 37,
   "metadata": {
    "collapsed": false
   },
   "outputs": [
    {
     "name": "stdout",
     "output_type": "stream",
     "text": [
      "1\n",
      "Total: 49, train: 44, test: 5\n",
      "1.582\n",
      "1.664\n",
      "22.486\n",
      "0.017\n",
      "-0.724\n",
      "-0.262\n",
      "6.576\n",
      "\n",
      "2\n",
      "Total: 49, train: 39, test: 10\n",
      "1.607\n",
      "1.524\n",
      "23.084\n",
      "0.010\n",
      "0.006\n",
      "-0.219\n",
      "6.520\n",
      "\n",
      "3\n",
      "Total: 49, train: 34, test: 15\n",
      "1.475\n",
      "1.835\n",
      "30.576\n",
      "0.006\n",
      "-0.001\n",
      "-0.158\n",
      "6.640\n",
      "\n",
      "4\n",
      "Total: 49, train: 29, test: 20\n",
      "1.501\n",
      "1.706\n",
      "27.746\n",
      "0.001\n",
      "0.004\n",
      "-0.062\n",
      "6.467\n",
      "\n"
     ]
    }
   ],
   "source": [
    "for i in range(1,5):\n",
    "    print i\n",
    "    regr = process_with(X_all, y_all, short=True, ts=i/10.0)\n",
    "    print"
   ]
  },
  {
   "cell_type": "code",
   "execution_count": 38,
   "metadata": {
    "collapsed": false
   },
   "outputs": [
    {
     "name": "stdout",
     "output_type": "stream",
     "text": [
      "Total: 49, train: 44, test: 5\n",
      "Residual sum of squares: 3.17\n",
      "Train absolute: 1.58\n",
      "Test absolute: 1.66\n",
      "Absolute to mean: 22.49%\n",
      "Train variance score: 0.02\n",
      "Test variance score: -0.72\n",
      "-0.262\n",
      "6.576\n"
     ]
    }
   ],
   "source": [
    "regr = process_with(X_all, y_all, info=True, ts=0.1)"
   ]
  },
  {
   "cell_type": "code",
   "execution_count": 39,
   "metadata": {
    "collapsed": false
   },
   "outputs": [
    {
     "name": "stdout",
     "output_type": "stream",
     "text": [
      "Real: 5.000000 \t Predicted: 6.051765\n",
      "Real: 6.000000 \t Predicted: 6.576471\n",
      "Real: 7.000000 \t Predicted: 6.051765\n",
      "Real: 6.000000 \t Predicted: 6.051765\n",
      "Real: 3.000000 \t Predicted: 6.051765\n",
      "Real: 7.000000 \t Predicted: 6.314118\n",
      "Real: 4.000000 \t Predicted: 5.789412\n",
      "Real: 7.000000 \t Predicted: 5.789412\n",
      "Real: 8.000000 \t Predicted: 6.314118\n",
      "Real: 9.000000 \t Predicted: 6.314118\n",
      "Real: 4.000000 \t Predicted: 6.576471\n",
      "Real: 4.000000 \t Predicted: 6.051765\n",
      "Real: 7.000000 \t Predicted: 6.051765\n",
      "Real: 7.000000 \t Predicted: 6.051765\n",
      "Real: 7.000000 \t Predicted: 6.051765\n",
      "Real: 6.000000 \t Predicted: 6.051765\n",
      "Real: 8.000000 \t Predicted: 6.314118\n",
      "Real: 6.000000 \t Predicted: 6.314118\n",
      "Real: 9.000000 \t Predicted: 6.314118\n",
      "Real: 4.000000 \t Predicted: 5.789412\n",
      "Real: 8.000000 \t Predicted: 6.051765\n",
      "Real: 8.000000 \t Predicted: 6.576471\n",
      "Real: 5.000000 \t Predicted: 6.576471\n",
      "Real: 4.000000 \t Predicted: 6.051765\n",
      "Real: 3.000000 \t Predicted: 6.051765\n",
      "Real: 7.000000 \t Predicted: 6.051765\n",
      "Real: 10.000000 \t Predicted: 6.314118\n",
      "Real: 6.000000 \t Predicted: 6.051765\n",
      "Real: 7.000000 \t Predicted: 5.789412\n",
      "Real: 5.000000 \t Predicted: 6.051765\n",
      "Real: 8.000000 \t Predicted: 6.314118\n",
      "Real: 8.000000 \t Predicted: 6.051765\n",
      "Real: 4.000000 \t Predicted: 6.576471\n",
      "Real: 6.000000 \t Predicted: 6.051765\n",
      "Real: 9.000000 \t Predicted: 6.314118\n",
      "Real: 10.000000 \t Predicted: 6.314118\n",
      "Real: 4.000000 \t Predicted: 6.576471\n",
      "Real: 4.000000 \t Predicted: 6.051765\n",
      "Real: 7.000000 \t Predicted: 5.789412\n",
      "Real: 5.000000 \t Predicted: 6.051765\n",
      "Real: 4.000000 \t Predicted: 6.576471\n",
      "Real: 7.000000 \t Predicted: 6.051765\n",
      "Real: 6.000000 \t Predicted: 6.051765\n",
      "Real: 4.000000 \t Predicted: 6.051765\n",
      "Real: 4.000000 \t Predicted: 5.789412\n",
      "Real: 7.000000 \t Predicted: 6.314118\n",
      "Real: 8.000000 \t Predicted: 6.314118\n",
      "Real: 7.000000 \t Predicted: 5.789412\n",
      "Real: 9.000000 \t Predicted: 6.314118\n"
     ]
    }
   ],
   "source": [
    "import warnings\n",
    "warnings.filterwarnings(\"ignore\")\n",
    "for i in range(0,len(y_all)):\n",
    "    print \"Real: %f \\t Predicted: %f\" %(y_all[i], regr.predict(X_all[i]))"
   ]
  },
  {
   "cell_type": "code",
   "execution_count": null,
   "metadata": {
    "collapsed": false
   },
   "outputs": [],
   "source": [
    "print \"Features sorted by their score:\"\n",
    "#f = sorted(zip(map(lambda x: round(x, 4), regr.coef_), FEATURES), reverse=True)\n",
    "f = zip(map(lambda x: round(x, 4), regr.coef_), FEATURES)\n",
    "print len(FEATURES)\n",
    "for i in f:\n",
    "    #print \"%4f \\t %s\" %(i[0], i[1])\n",
    "    print i[0]\n",
    "print regr.intercept_"
   ]
  },
  {
   "cell_type": "code",
   "execution_count": null,
   "metadata": {
    "collapsed": false,
    "scrolled": true
   },
   "outputs": [],
   "source": [
    "f = sorted(zip(map(lambda x: round(x, 4), regr.coef_), FEATURES), reverse=True)\n",
    "ind = [map(lambda x: x[1], f).index(i) for i in FEATURES]\n",
    "for i in ind:\n",
    "    print i+1"
   ]
  },
  {
   "cell_type": "code",
   "execution_count": null,
   "metadata": {
    "collapsed": false,
    "scrolled": true
   },
   "outputs": [],
   "source": [
    "X_all"
   ]
  },
  {
   "cell_type": "code",
   "execution_count": null,
   "metadata": {
    "collapsed": false
   },
   "outputs": [],
   "source": [
    "ind = X_all.index([0,0,0,0])\n",
    "X_all.pop(ind)\n",
    "y_all.pop(ind)"
   ]
  },
  {
   "cell_type": "code",
   "execution_count": null,
   "metadata": {
    "collapsed": false
   },
   "outputs": [],
   "source": [
    "coef = np.array([-0.7824,0.2034,0.0096,0.077,8.4162])\n",
    "for x in X:\n",
    "    print sum(x*coef[:-1])+coef[-1]\n"
   ]
  },
  {
   "cell_type": "code",
   "execution_count": null,
   "metadata": {
    "collapsed": false
   },
   "outputs": [],
   "source": [
    "plt.plot([i[22] for i in X])\n",
    "plt.show()"
   ]
  },
  {
   "cell_type": "code",
   "execution_count": null,
   "metadata": {
    "collapsed": false
   },
   "outputs": [],
   "source": [
    "print FEATURES[8]\n",
    "[i[22] for i in X]"
   ]
  },
  {
   "cell_type": "code",
   "execution_count": null,
   "metadata": {
    "collapsed": false
   },
   "outputs": [],
   "source": [
    "for k in range(0,26):\n",
    "    print FEATURES[k], 10 - [i[k] for i in X].count(0)"
   ]
  }
 ],
 "metadata": {
  "kernelspec": {
   "display_name": "Python 2",
   "language": "python",
   "name": "python2"
  },
  "language_info": {
   "codemirror_mode": {
    "name": "ipython",
    "version": 2
   },
   "file_extension": ".py",
   "mimetype": "text/x-python",
   "name": "python",
   "nbconvert_exporter": "python",
   "pygments_lexer": "ipython2",
   "version": "2.7.6"
  }
 },
 "nbformat": 4,
 "nbformat_minor": 0
}
