{
 "cells": [
  {
   "cell_type": "markdown",
   "metadata": {},
   "source": [
    "#with error"
   ]
  },
  {
   "cell_type": "code",
   "execution_count": 1,
   "metadata": {
    "collapsed": false
   },
   "outputs": [],
   "source": [
    "import json\n",
    "import matplotlib.pyplot as plt\n",
    "import numpy as np\n",
    "from sklearn import datasets, linear_model\n",
    "from sklearn import preprocessing\n",
    "from sklearn import cross_validation"
   ]
  },
  {
   "cell_type": "code",
   "execution_count": null,
   "metadata": {
    "collapsed": true
   },
   "outputs": [],
   "source": []
  },
  {
   "cell_type": "code",
   "execution_count": 28,
   "metadata": {
    "collapsed": true
   },
   "outputs": [],
   "source": [
    "FEATURES = [\n",
    "    \"gd\",\n",
    "    \"ed\",\n",
    "    \"gp\",\n",
    "    #\"isr\",\n",
    "#    \"views\", \n",
    "    \"large\", \n",
    "    \"top\", \n",
    "#    \"speed_level\",\n",
    "#    \"speed_level 1\",\n",
    "#    \"speed_level 2\",\n",
    "#    \"speed_level 3\",\n",
    "    \"price\"]"
   ]
  },
  {
   "cell_type": "code",
   "execution_count": 3,
   "metadata": {
    "collapsed": true
   },
   "outputs": [],
   "source": [
    "def get_speed_level(speed_level):\n",
    "    if speed_level == 1:\n",
    "        return  [1]\n",
    "        #return [1,0,0]\n",
    "        #print X[-1], speed_level\n",
    "    elif speed_level == 2:\n",
    "        return [0.4]\n",
    "        #return [0,1,0]\n",
    "        #print X[-1], speed_level\n",
    "    elif speed_level == 3:\n",
    "        return [0.1]\n",
    "        #return [0,0,1]\n",
    "        #print X[-1], speed_level\n",
    "    else:\n",
    "        return [0]\n",
    "        #return [0,0,0]\n",
    "        #print X[-1], speed_level"
   ]
  },
  {
   "cell_type": "code",
   "execution_count": 27,
   "metadata": {
    "collapsed": false
   },
   "outputs": [],
   "source": [
    "def extract_data(clinic, clinic_estim):\n",
    "    all_proc = clinic['procedures']['diagnostics'] + clinic['procedures']['operations']\n",
    "    all_doc = clinic['doctors']\n",
    "    X = []\n",
    "    for doc in all_doc:\n",
    "        X+=[[]]\n",
    "        \n",
    "        #gd\n",
    "        gd = [0.060, 0.223, 0.015, 0.039, -0.003, 0.011, 8.370] #unnormed\n",
    "        gd = [0.06, 0.223, 0.372, 0.196, -0.135, 0.426, 8.37]\n",
    "        #gd = [1, 1, 1, 1, 1, 1, 0]\n",
    "        x = [\n",
    "            doc['degree'].count(u'Профессор'),\n",
    "            int(doc['top']),\n",
    "            len(doc['illnesses']),\n",
    "            len(doc['languages']),\n",
    "            int(doc['h_index']),\n",
    "            int(doc['experience']),\n",
    "            1\n",
    "        ]\n",
    "        X[-1]+= [round(sum(np.array(gd)*np.array(x)),5)] \n",
    "        #ed\n",
    "        ed = [-0.552, -0.032, 0.533, 0.098, 8.945] #unnormed\n",
    "        ed = [-2.82, -1.104, 0.827, 0.96, 9.471]\n",
    "        #ed = [1, 1, 1, 1, 0]\n",
    "        ids_diad = [i['id'] for i in doc['procedures']['diagnostics'] if i['top']=='1']\n",
    "        ids_oper = [i['id'] for i in doc['procedures']['operations'] if i['top']=='1']\n",
    "        x = [\n",
    "            len(list(set(ids_diad))),\n",
    "            len(doc['procedures']['diagnostics']),\n",
    "            len(list(set(ids_oper))),\n",
    "            len(doc['procedures']['operations']),\n",
    "            1\n",
    "        ]\n",
    "        X[-1]+= [round(sum(np.array(ed)*np.array(x)),5)]\n",
    "        #gp\n",
    "        gp = [-1.547, -0.204, 1.837, 0.139] #unnormed\n",
    "        gp = [-3.094, -7.545, 11.025, 9.011]\n",
    "        #gp = [1, 1, 1, 1]\n",
    "        x = [\n",
    "            sum([int(i['top']) for i in all_proc]), #top_proc_cli\n",
    "            len(all_proc), #gen_proc_cli\n",
    "            sum([int(i['top']) for i in clinic['procedures']['operations']]), #top_oper_cli\n",
    "            len(clinic['procedures']['operations']), #gen_oper_cli\n",
    "        ]\n",
    "        X[-1]+= [round(sum(np.array(gp)*np.array(x)),5)]\n",
    "        #\n",
    "        c_id = int(clinic['country_id'])\n",
    "        #if c_id == 1:\n",
    "        #    X[-1]+=[1]\n",
    "        #else:\n",
    "        #    X[-1]+=[0]\n",
    "        #X[-1]+=[int(clinic['views'])]\n",
    "        X[-1]+=[int(clinic['large'])]\n",
    "        X[-1]+=[int(clinic['top'])]\n",
    "        #X[-1]+=[get_speed_level(int(clinic['speed_level']))]\n",
    "        #X[-1]+=[round(1-int(clinic_estim['price'])/10.0,4)]\n",
    "        X[-1]+=[round(int(clinic['price_level'])/3.0,4)]\n",
    "        \n",
    "    y=[int(clinic_estim['rating'])] * len(all_doc)\n",
    "    return [X, y]"
   ]
  },
  {
   "cell_type": "code",
   "execution_count": 5,
   "metadata": {
    "collapsed": true
   },
   "outputs": [],
   "source": [
    "def get_X_y_from(t_data):\n",
    "    clinic_ids = [i['id'] for i in t_data]\n",
    "    t_cleaned_data = [extract_data(cancer_data[clinic_ids.index(i['id'])], i) for i in estims_data]\n",
    "    X = sum([i[0] for i in t_cleaned_data],[])\n",
    "    y = sum([i[1] for i in t_cleaned_data],[])\n",
    "    return X,y"
   ]
  },
  {
   "cell_type": "code",
   "execution_count": 13,
   "metadata": {
    "collapsed": false
   },
   "outputs": [],
   "source": [
    "def normale(mat):\n",
    "    for i in [0,1,2]:\n",
    "        mass = [abs(k[i]) for k in mat]\n",
    "        m = max(mass)\n",
    "        if m>0:\n",
    "            for j in mat:\n",
    "                j[i] = round(j[i] / float(m), 4)"
   ]
  },
  {
   "cell_type": "code",
   "execution_count": 7,
   "metadata": {
    "collapsed": true
   },
   "outputs": [],
   "source": [
    "def process_with(X,y, info=False, short=False, return_short = False, new_coef = [], ts=0.2):\n",
    "    train_X, test_X, train_y, test_y = cross_validation.train_test_split(X, y, test_size = ts, random_state = 2)\n",
    "    regr = linear_model.LinearRegression(fit_intercept=True, normalize=True)\n",
    "    if new_coef != []:\n",
    "        print \"new coefs\"\n",
    "        regr.coef_ = new_coef\n",
    "    regr.fit(train_X, train_y)\n",
    "    if info:\n",
    "        print \"Total: %d, train: %d, test: %d\" %(len(X), len(train_X), len(test_X))\n",
    "        print(\"Residual sum of squares: %.2f\"% np.mean((regr.predict(test_X) - test_y) ** 2))\n",
    "        print(\"Train absolute: %.2f\"% np.mean(abs(regr.predict(train_X) - train_y)))\n",
    "        print(\"Test absolute: %.2f\"% np.mean(abs(regr.predict(test_X) - test_y)))\n",
    "        print(\"Absolute to mean: %.2f%%\"% (np.mean(abs(regr.predict(test_X) - test_y))/np.mean(test_y)*100))\n",
    "        print('Train variance score: %.2f' % regr.score(train_X, train_y))\n",
    "        print('Test variance score: %.2f' % regr.score(test_X, test_y))\n",
    "    if short:\n",
    "        print np.mean(abs(regr.predict(test_X) - test_y)),regr.score(test_X, test_y)\n",
    "    if return_short:\n",
    "        return np.mean(abs(regr.predict(test_X) - test_y)),regr.score(test_X, test_y)\n",
    "    return regr"
   ]
  },
  {
   "cell_type": "code",
   "execution_count": null,
   "metadata": {
    "collapsed": false
   },
   "outputs": [],
   "source": [
    "X, y = get_X_y_from(cancer_data)"
   ]
  },
  {
   "cell_type": "code",
   "execution_count": 42,
   "metadata": {
    "collapsed": false
   },
   "outputs": [],
   "source": [
    "X_all, y_all = [], []\n",
    "\n",
    "with open('./max/estims.json') as data_file: \n",
    "    estims_data = json.load(data_file)[2]['clinics']\n",
    "with open('./max/меланома_все.json') as data_file: #2\n",
    "    cancer_data = json.load(data_file)[0]['clinics']\n",
    "X_1, y_1 = get_X_y_from(cancer_data)\n",
    "X_all+=X_1\n",
    "y_all+=y_1\n",
    "    \n",
    "with open('./max/estims.json') as data_file: \n",
    "    estims_data = json.load(data_file)[0]['clinics']\n",
    "with open('./max/рак_груди_все.json') as data_file: #0\n",
    "    cancer_data = json.load(data_file)[0]['clinics']\n",
    "X_2, y_2 = get_X_y_from(cancer_data)\n",
    "X_all+=X_2\n",
    "y_all+=y_2\n",
    "    \n",
    "with open('./max/estims.json') as data_file: \n",
    "    estims_data = json.load(data_file)[4]['clinics']    \n",
    "with open('./max/рак_простаты_все.json') as data_file: #4\n",
    "    cancer_data = json.load(data_file)[0]['clinics']\n",
    "clinic_ids = [i['id'] for i in estims_data]\n",
    "estims_data.pop(clinic_ids.index('0'))\n",
    "X_3, y_3 = get_X_y_from(cancer_data)\n",
    "X_all+=X_3\n",
    "y_all+=y_3\n",
    "\n",
    "with open('./max/estims.json') as data_file: \n",
    "    estims_data = json.load(data_file)[1]['clinics']     \n",
    "with open('./max/рак_шейки_матки_все.json') as data_file: #1\n",
    "    cancer_data = json.load(data_file)[0]['clinics']\n",
    "X_4, y_4 = get_X_y_from(cancer_data)\n",
    "X_all+=X_4\n",
    "y_all+=y_4\n",
    "    \n",
    "with open('./max/estims.json') as data_file: \n",
    "    estims_data = json.load(data_file)[3]['clinics']         \n",
    "with open('./max/рак_щитовидки_все.json') as data_file: #3\n",
    "    cancer_data = json.load(data_file)[0]['clinics']\n",
    "X_5, y_5 = get_X_y_from(cancer_data)\n",
    "X_all+=X_5\n",
    "y_all+=y_5\n",
    "\n",
    "normale(X_all)\n",
    "normale(X_1)\n",
    "normale(X_2)\n",
    "normale(X_3)\n",
    "normale(X_4)\n",
    "normale(X_5)"
   ]
  },
  {
   "cell_type": "code",
   "execution_count": 39,
   "metadata": {
    "collapsed": false
   },
   "outputs": [
    {
     "data": {
      "text/plain": [
       "[[0.5896, 0.7552, -0.7049, 1, 1, 1, 0.6667],\n",
       " [0.3126, 0.8445, -0.7049, 1, 1, 1, 0.6667],\n",
       " [1.0, 0.4025, -0.7049, 1, 1, 1, 0.6667],\n",
       " [0.4555, 0.7668, -0.7049, 1, 1, 1, 0.6667],\n",
       " [0.5123, 0.6473, -0.7049, 1, 1, 1, 0.6667],\n",
       " [0.4313, 0.8212, -0.7049, 1, 1, 1, 0.6667],\n",
       " [0.2917, 0.1693, -0.8235, 0, 0, 0, 0.0],\n",
       " [0.2331, 0.5812, -1.0, 0, 1, 0, 0.6667],\n",
       " [0.7992, 1.0, -0.6909, 1, 1, 1, 0.6667],\n",
       " [0.7072, 0.5812, -0.6909, 1, 1, 1, 0.6667],\n",
       " [0.0681, 0.181, -0.4403, 0, 0, 0, 1.0],\n",
       " [0.2817, 0.0964, -0.5925, 0, 1, 0, 1.0],\n",
       " [0.4075, 0.247, -0.4423, 0, 0, 0, 0.3333],\n",
       " [0.7992, 1.0, -0.6909, 1, 1, 1, 0.6667],\n",
       " [0.6325, 0.7668, -0.6909, 1, 1, 1, 0.6667],\n",
       " [0.5438, 0.9223, -0.6909, 1, 1, 1, 0.6667],\n",
       " [0.5797, 0.7552, -0.6909, 1, 1, 1, 0.6667],\n",
       " [0.5137, 0.2587, -1.0, 0, 1, 0, 0.6667],\n",
       " [0.2515, 0.5812, -1.0, 0, 1, 0, 0.6667],\n",
       " [0.2775, 0.0964, -1.0, 0, 1, 0, 0.6667],\n",
       " [0.5896, 0.7552, -0.7049, 1, 1, 1, 0.6667],\n",
       " [0.3126, 0.8445, -0.7049, 1, 1, 1, 0.6667],\n",
       " [1.0, 0.4025, -0.7049, 1, 1, 1, 0.6667],\n",
       " [0.2817, 0.7668, -0.7049, 1, 1, 1, 0.6667],\n",
       " [0.4555, 0.7668, -0.7049, 1, 1, 1, 0.6667],\n",
       " [0.5123, 0.6473, -0.7049, 1, 1, 1, 0.6667],\n",
       " [0.3155, 0.7668, -0.7049, 1, 1, 1, 0.6667],\n",
       " [0.2452, 0.1625, -0.7182, 0, 1, 0, 0.3333],\n",
       " [0.4434, 0.1081, -0.4423, 0, 0, 0, 0.3333],\n",
       " [0.3385, 0.3296, -0.4423, 0, 0, 0, 0.3333],\n",
       " [0.5611, -0.5361, -0.4341, 0, 0, 0, 0.0],\n",
       " [0.5516, 0.2946, -0.8235, 0, 0, 0, 0.0],\n",
       " [1.0, 0.4025, -0.7049, 1, 1, 1, 0.6667],\n",
       " [0.7159, 0.4753, -0.7049, 1, 1, 1, 0.6667],\n",
       " [0.6444, 0.7668, -0.7049, 1, 1, 1, 0.6667],\n",
       " [0.7741, -0.2796, -0.7049, 1, 1, 1, 0.6667],\n",
       " [0.3174, 0.7668, -0.6909, 1, 1, 1, 0.6667],\n",
       " [0.4833, 0.452, -0.6909, 1, 1, 1, 0.6667],\n",
       " [0.7992, 1.0, -0.6909, 1, 1, 1, 0.6667],\n",
       " [0.4149, -0.6867, -1.0, 0, 1, 0, 0.6667],\n",
       " [0.2277, -0.6021, -0.3904, 0, 1, 0, 0.6667],\n",
       " [0.6137, -0.2018, -0.5925, 0, 1, 0, 1.0],\n",
       " [1.0, 0.4025, -0.7049, 1, 1, 1, 0.6667],\n",
       " [0.4555, 0.7668, -0.7049, 1, 1, 1, 0.6667],\n",
       " [0.3155, 0.7668, -0.7049, 1, 1, 1, 0.6667],\n",
       " [0.6992, 0.3023, -0.7049, 1, 1, 1, 0.6667],\n",
       " [0.5285, -0.1048, -0.3974, 0, 0, 0, 0.3333],\n",
       " [0.5137, 0.2587, -1.0, 0, 1, 0, 0.6667],\n",
       " [0.4541, -0.1776, -1.0, 0, 1, 0, 0.6667],\n",
       " [0.6888, -0.4225, -0.8235, 0, 0, 0, 0.0],\n",
       " [0.2798, -0.3447, -0.3904, 0, 1, 0, 0.6667],\n",
       " [0.4727, -0.3447, -0.7182, 0, 1, 0, 0.3333],\n",
       " [0.7161, -0.4341, -0.4423, 0, 0, 0, 0.3333],\n",
       " [0.5363, -0.3447, -0.3901, 0, 0, 0, 0.0],\n",
       " [0.7992, 1.0, -0.6909, 1, 1, 1, 0.6667],\n",
       " [0.7957, -0.0999, -0.5925, 0, 1, 0, 1.0],\n",
       " [0.6419, 0.9223, -0.7049, 1, 1, 1, 0.6667],\n",
       " [1.0, 0.4025, -0.7049, 1, 1, 1, 0.6667],\n",
       " [0.5505, 0.7668, -0.7049, 1, 1, 1, 0.6667],\n",
       " [0.6802, 0.5152, -0.8235, 0, 0, 0, 0.0],\n",
       " [0.2775, 0.0964, -1.0, 0, 1, 0, 0.6667],\n",
       " [0.1491, 0.9223, -0.6909, 1, 1, 1, 0.6667],\n",
       " [0.2798, 0.5929, -0.5925, 0, 1, 0, 1.0],\n",
       " [0.3385, 0.3296, -0.4423, 0, 0, 0, 0.3333]]"
      ]
     },
     "execution_count": 39,
     "metadata": {},
     "output_type": "execute_result"
    }
   ],
   "source": [
    "X_all"
   ]
  },
  {
   "cell_type": "code",
   "execution_count": null,
   "metadata": {
    "collapsed": true
   },
   "outputs": [],
   "source": []
  },
  {
   "cell_type": "code",
   "execution_count": null,
   "metadata": {
    "collapsed": false
   },
   "outputs": [],
   "source": [
    "estims_data[3]"
   ]
  },
  {
   "cell_type": "code",
   "execution_count": null,
   "metadata": {
    "collapsed": false
   },
   "outputs": [],
   "source": [
    "len(cancer_data[3]['doctors'])"
   ]
  },
  {
   "cell_type": "code",
   "execution_count": 29,
   "metadata": {
    "collapsed": false
   },
   "outputs": [
    {
     "name": "stdout",
     "output_type": "stream",
     "text": [
      "1\n",
      "Total: 64, train: 57, test: 7\n",
      "Residual sum of squares: 7.51\n",
      "Train absolute: 1.87\n",
      "Test absolute: 2.42\n",
      "Absolute to mean: 37.59%\n",
      "Train variance score: 0.45\n",
      "Test variance score: -0.77\n",
      "\n",
      "2\n",
      "Total: 64, train: 51, test: 13\n",
      "Residual sum of squares: 12.09\n",
      "Train absolute: 1.71\n",
      "Test absolute: 2.84\n",
      "Absolute to mean: 44.02%\n",
      "Train variance score: 0.54\n",
      "Test variance score: -0.80\n",
      "\n",
      "3\n",
      "Total: 64, train: 44, test: 20\n",
      "Residual sum of squares: 11.67\n",
      "Train absolute: 1.65\n",
      "Test absolute: 2.63\n",
      "Absolute to mean: 44.14%\n",
      "Train variance score: 0.59\n",
      "Test variance score: -0.63\n",
      "\n",
      "4\n",
      "Total: 64, train: 38, test: 26\n",
      "Residual sum of squares: 8.93\n",
      "Train absolute: 1.71\n",
      "Test absolute: 2.28\n",
      "Absolute to mean: 37.47%\n",
      "Train variance score: 0.53\n",
      "Test variance score: -0.03\n",
      "\n",
      "5\n",
      "Total: 64, train: 32, test: 32\n",
      "Residual sum of squares: 7.64\n",
      "Train absolute: 1.70\n",
      "Test absolute: 2.16\n",
      "Absolute to mean: 34.03%\n",
      "Train variance score: 0.56\n",
      "Test variance score: 0.04\n",
      "\n",
      "6\n",
      "Total: 64, train: 25, test: 39\n",
      "Residual sum of squares: 7.24\n",
      "Train absolute: 1.74\n",
      "Test absolute: 2.10\n",
      "Absolute to mean: 33.45%\n",
      "Train variance score: 0.46\n",
      "Test variance score: 0.18\n",
      "\n",
      "7\n",
      "Total: 64, train: 19, test: 45\n",
      "Residual sum of squares: 7.10\n",
      "Train absolute: 1.37\n",
      "Test absolute: 2.21\n",
      "Absolute to mean: 34.39%\n",
      "Train variance score: 0.58\n",
      "Test variance score: 0.19\n",
      "\n",
      "8\n",
      "Total: 64, train: 12, test: 52\n",
      "Residual sum of squares: 14.49\n",
      "Train absolute: 0.57\n",
      "Test absolute: 2.97\n",
      "Absolute to mean: 46.04%\n",
      "Train variance score: 0.93\n",
      "Test variance score: -0.79\n",
      "\n",
      "9\n",
      "Total: 64, train: 6, test: 58\n",
      "Residual sum of squares: 1113.28\n",
      "Train absolute: 0.22\n",
      "Test absolute: 21.17\n",
      "Absolute to mean: 334.53%\n",
      "Train variance score: 0.99\n",
      "Test variance score: -137.93\n",
      "\n"
     ]
    }
   ],
   "source": [
    "for i in range(1,10):\n",
    "    print i\n",
    "    regr = process_with(X_all, y_all, info=True, ts=i/10.0)\n",
    "    print"
   ]
  },
  {
   "cell_type": "code",
   "execution_count": 44,
   "metadata": {
    "collapsed": false
   },
   "outputs": [
    {
     "name": "stdout",
     "output_type": "stream",
     "text": [
      "Total: 64, train: 19, test: 45\n",
      "Residual sum of squares: 7.06\n",
      "Train absolute: 1.38\n",
      "Test absolute: 2.20\n",
      "Absolute to mean: 34.20%\n",
      "Train variance score: 0.57\n",
      "Test variance score: 0.20\n"
     ]
    }
   ],
   "source": [
    "regr = process_with(X_all, y_all, info=True, ts=0.7)"
   ]
  },
  {
   "cell_type": "code",
   "execution_count": null,
   "metadata": {
    "collapsed": false
   },
   "outputs": [],
   "source": [
    "import warnings\n",
    "warnings.filterwarnings(\"ignore\")\n",
    "for i in range(0,len(y_4)):    \n",
    "    print \"Real: %f \\t Predicted: %f\" %(y_4[i], regr.predict(X_4[i]))\n",
    "    print X_4[i]\n",
    "    print\n",
    "    #print y_5[i]\n",
    "    #print regr.predict(X_5[i])[0]"
   ]
  },
  {
   "cell_type": "code",
   "execution_count": 38,
   "metadata": {
    "collapsed": false
   },
   "outputs": [
    {
     "name": "stdout",
     "output_type": "stream",
     "text": [
      "Features sorted by their score:\n",
      "-2.47482543999\n",
      "6\n",
      "-0.168000 \t gd\n",
      "-0.702500 \t ed\n",
      "-11.670200 \t gp\n",
      "1.526000 \t large\n",
      "0.055700 \t top\n",
      "1.526000 \t price\n"
     ]
    }
   ],
   "source": [
    "print \"Features sorted by their score:\"\n",
    "#f = sorted(zip(map(lambda x: round(x, 4), regr.coef_), FEATURES), reverse=True)\n",
    "f = zip(map(lambda x: round(x, 4), regr.coef_), FEATURES)\n",
    "print regr.intercept_\n",
    "print len(FEATURES)\n",
    "for i in f:\n",
    "    print \"%4f \\t %s\" %(i[0], i[1])\n",
    "    #print i[0] #, i[1]"
   ]
  },
  {
   "cell_type": "code",
   "execution_count": 32,
   "metadata": {
    "collapsed": false
   },
   "outputs": [
    {
     "name": "stdout",
     "output_type": "stream",
     "text": [
      "1\n",
      "2\n",
      "3\n",
      "4\n",
      "5\n",
      "6\n"
     ]
    }
   ],
   "source": [
    "ind = [map(lambda x: x[1], f).index(i) for i in FEATURES]\n",
    "for i in ind:\n",
    "    print i+1"
   ]
  },
  {
   "cell_type": "code",
   "execution_count": 51,
   "metadata": {
    "collapsed": false
   },
   "outputs": [
    {
     "data": {
      "text/plain": [
       "array([ 7.02374699,  7.27386109,  7.09661153,  6.7716579 ,  7.93270888,\n",
       "        6.86126528])"
      ]
     },
     "execution_count": 51,
     "metadata": {},
     "output_type": "execute_result"
    }
   ],
   "source": [
    "indices= [0, 1, 2, 3, 4, 5]\n",
    "regr.predict(X[min(indices):max(indices)+1])"
   ]
  },
  {
   "cell_type": "code",
   "execution_count": 52,
   "metadata": {
    "collapsed": false
   },
   "outputs": [
    {
     "name": "stdout",
     "output_type": "stream",
     "text": [
      "7.28869291892 10\n",
      "6.93815424392 9\n",
      "7.72370685542 8\n",
      "min() arg is an empty sequence 7 []\n",
      "7.04999811285 6\n",
      "min() arg is an empty sequence 5 []\n",
      "0.662293584496 4\n",
      "2.69698082182 3\n",
      "min() arg is an empty sequence 2 []\n",
      "1.96209630999 1\n",
      "min() arg is an empty sequence 10 []\n",
      "6.97261348742 9\n",
      "min() arg is an empty sequence 8 []\n",
      "7.93625276622 7\n",
      "min() arg is an empty sequence 6 []\n",
      "7.28869291892 5\n",
      "5.38576124614 4\n",
      "min() arg is an empty sequence 3 []\n",
      "2.02322127069 2\n",
      "min() arg is an empty sequence 1 []\n",
      "min() arg is an empty sequence 10 []\n",
      "2.86521709995 9\n",
      "6.88589493389 8\n",
      "min() arg is an empty sequence 7 []\n",
      "7.58489686994 6\n",
      "7.10431855726 5\n",
      "8.28022664763 4\n",
      "min() arg is an empty sequence 3 []\n",
      "1.37794019965 2\n",
      "2.8307206352 1\n",
      "7.32956743692 10\n",
      "1.61168265816 9\n",
      "8.05787303595 8\n",
      "7.20099071381 7\n",
      "1.26583679142 6\n",
      "5.60991218217 5\n",
      "2.2631307993 4\n",
      "2.28584014732 3\n",
      "6.86767269672 2\n",
      "2.78793144009 1\n",
      "7.27386108837 10\n",
      "6.77165789999 9\n",
      "7.9327088775 8\n",
      "min() arg is an empty sequence 7 []\n",
      "6.86126528263 6\n",
      "min() arg is an empty sequence 5 []\n",
      "min() arg is an empty sequence 4 []\n",
      "min() arg is an empty sequence 3 []\n",
      "2.45790273796 2\n",
      "1.91311435231 1\n"
     ]
    }
   ],
   "source": [
    "res_X = []\n",
    "res_y = []\n",
    "for X,y in [(X_1, y_1),(X_2, y_2),(X_3, y_3),(X_4, y_4),(X_5, y_5)]:\n",
    "    for i in range(10,0,-1):\n",
    "        try:\n",
    "            indices = [j for j, x in enumerate(y) if x == i]\n",
    "            res_X += [max(regr.predict(X[min(indices):max(indices)+1]))]\n",
    "            res_y += [i]\n",
    "            print res_X[-1], res_y[-1]\n",
    "        except Exception, err:\n",
    "            print err, i, indices\n",
    "            pass"
   ]
  },
  {
   "cell_type": "code",
   "execution_count": 54,
   "metadata": {
    "collapsed": false
   },
   "outputs": [
    {
     "name": "stdout",
     "output_type": "stream",
     "text": [
      "7.28869291892\n",
      "6.93815424392\n",
      "7.72370685542\n",
      "7.04999811285\n",
      "0.662293584496\n",
      "2.69698082182\n",
      "1.96209630999\n",
      "6.97261348742\n",
      "7.93625276622\n",
      "7.28869291892\n",
      "5.38576124614\n",
      "2.02322127069\n",
      "2.86521709995\n",
      "6.88589493389\n",
      "7.58489686994\n",
      "7.10431855726\n",
      "8.28022664763\n",
      "1.37794019965\n",
      "2.8307206352\n",
      "7.32956743692\n",
      "1.61168265816\n",
      "8.05787303595\n",
      "7.20099071381\n",
      "1.26583679142\n",
      "5.60991218217\n",
      "2.2631307993\n",
      "2.28584014732\n",
      "6.86767269672\n",
      "2.78793144009\n",
      "7.27386108837\n",
      "6.77165789999\n",
      "7.9327088775\n",
      "6.86126528263\n",
      "2.45790273796\n",
      "1.91311435231\n"
     ]
    }
   ],
   "source": [
    "for x in res_X:\n",
    "    print x"
   ]
  },
  {
   "cell_type": "code",
   "execution_count": null,
   "metadata": {
    "collapsed": true
   },
   "outputs": [],
   "source": []
  },
  {
   "cell_type": "code",
   "execution_count": null,
   "metadata": {
    "collapsed": false
   },
   "outputs": [],
   "source": [
    "plt.plot([i[22] for i in X])\n",
    "plt.show()"
   ]
  },
  {
   "cell_type": "code",
   "execution_count": null,
   "metadata": {
    "collapsed": false
   },
   "outputs": [],
   "source": [
    "print FEATURES[8]\n",
    "[i[22] for i in X]"
   ]
  },
  {
   "cell_type": "code",
   "execution_count": null,
   "metadata": {
    "collapsed": false
   },
   "outputs": [],
   "source": [
    "for k in range(0,26):\n",
    "    print FEATURES[k], 10 - [i[k] for i in X].count(0)"
   ]
  }
 ],
 "metadata": {
  "kernelspec": {
   "display_name": "Python 2",
   "language": "python",
   "name": "python2"
  },
  "language_info": {
   "codemirror_mode": {
    "name": "ipython",
    "version": 2
   },
   "file_extension": ".py",
   "mimetype": "text/x-python",
   "name": "python",
   "nbconvert_exporter": "python",
   "pygments_lexer": "ipython2",
   "version": "2.7.6"
  }
 },
 "nbformat": 4,
 "nbformat_minor": 0
}
