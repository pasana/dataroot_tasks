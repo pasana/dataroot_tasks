{
 "cells": [
  {
   "cell_type": "code",
   "execution_count": 1,
   "metadata": {
    "collapsed": true
   },
   "outputs": [],
   "source": [
    "from bookimed_lib import *"
   ]
  },
  {
   "cell_type": "code",
   "execution_count": 2,
   "metadata": {
    "collapsed": true
   },
   "outputs": [],
   "source": [
    "FEATURES = [\n",
    " \"doc_top_diag\", \n",
    " \"doc_gen_diag\", \n",
    " \"doc_top_oper\", \n",
    " \"doc_gen_oper\", \n",
    "]"
   ]
  },
  {
   "cell_type": "code",
   "execution_count": 3,
   "metadata": {
    "collapsed": true
   },
   "outputs": [],
   "source": [
    "def extract_data(clinic, clinic_estim):\n",
    "    all_proc = clinic['procedures']['diagnostics'] + clinic['procedures']['operations']\n",
    "    all_doc = clinic['doctors']\n",
    "    X = []\n",
    "    for doc in all_doc:\n",
    "        ids_diad = [i['id'] for i in doc['procedures']['diagnostics'] if i['top']=='1']\n",
    "        ids_oper = [i['id'] for i in doc['procedures']['operations'] if i['top']=='1']\n",
    "        X += [[\n",
    "            len(list(set(ids_diad))),\n",
    "            len(doc['procedures']['diagnostics']),\n",
    "            len(list(set(ids_oper))),\n",
    "            len(doc['procedures']['operations']),\n",
    "        ]]\n",
    "    y=[int(clinic_estim['experience'])] * len(all_doc)\n",
    "    return [X, y]"
   ]
  },
  {
   "cell_type": "code",
   "execution_count": 4,
   "metadata": {
    "collapsed": true
   },
   "outputs": [],
   "source": [
    "def normale(mat):\n",
    "    for i in [0,1,2,3]:\n",
    "        mass = [k[i] for k in mat]\n",
    "        m = max(mass)\n",
    "        if m>0:\n",
    "            for j in mat:\n",
    "                j[i] = round(j[i] / float(m), 4)"
   ]
  },
  {
   "cell_type": "code",
   "execution_count": 5,
   "metadata": {
    "collapsed": false
   },
   "outputs": [],
   "source": [
    "X_all, X_1, X_2, X_3, X_4, X_5, y_all, y_1, y_2, y_3, y_4, y_5 = get_X_sets(extract_data)\n",
    "\n",
    "normale(X_all)\n",
    "normale(X_1)\n",
    "normale(X_2)\n",
    "normale(X_3)\n",
    "normale(X_4)\n",
    "normale(X_5)"
   ]
  },
  {
   "cell_type": "code",
   "execution_count": 6,
   "metadata": {
    "collapsed": false
   },
   "outputs": [
    {
     "name": "stdout",
     "output_type": "stream",
     "text": [
      "1\n",
      "Total: 134, train: 120, test: 14\n",
      "Residual sum of squares: 19.60\n",
      "Train absolute: 3.48\n",
      "Test absolute: 3.84\n",
      "Absolute to mean: 46.79%\n",
      "Train variance score: -24.44\n",
      "Test variance score: -13.95\n",
      "0.075\n",
      "7.489\n",
      "-2.062\n",
      "6.927\n",
      "\n",
      "2\n",
      "Total: 134, train: 107, test: 27\n",
      "Residual sum of squares: 18.77\n",
      "Train absolute: 3.50\n",
      "Test absolute: 3.62\n",
      "Absolute to mean: 43.03%\n",
      "Train variance score: -24.64\n",
      "Test variance score: -16.77\n",
      "0.348\n",
      "7.798\n",
      "-2.724\n",
      "6.313\n",
      "\n",
      "3\n",
      "Total: 134, train: 93, test: 41\n",
      "Residual sum of squares: 20.38\n",
      "Train absolute: 3.48\n",
      "Test absolute: 3.61\n",
      "Absolute to mean: 42.33%\n",
      "Train variance score: -25.31\n",
      "Test variance score: -18.80\n",
      "1.360\n",
      "6.887\n",
      "-2.754\n",
      "6.109\n",
      "\n",
      "4\n",
      "Total: 134, train: 80, test: 54\n",
      "Residual sum of squares: 20.11\n",
      "Train absolute: 3.48\n",
      "Test absolute: 3.59\n",
      "Absolute to mean: 42.44%\n",
      "Train variance score: -24.98\n",
      "Test variance score: -20.97\n",
      "2.821\n",
      "5.551\n",
      "-3.495\n",
      "6.892\n",
      "\n"
     ]
    }
   ],
   "source": [
    "for i in range(1,5):\n",
    "    print i\n",
    "    regr = process_with(X_all, y_all, info=True, ts=i/10.0)\n",
    "    print"
   ]
  },
  {
   "cell_type": "code",
   "execution_count": 7,
   "metadata": {
    "collapsed": false
   },
   "outputs": [
    {
     "name": "stdout",
     "output_type": "stream",
     "text": [
      "Total: 24, train: 16, test: 8\n",
      "Residual sum of squares: 17.63\n",
      "Train absolute: 2.39\n",
      "Test absolute: 3.19\n",
      "Absolute to mean: 39.27%\n",
      "Train variance score: -30.33\n",
      "Test variance score: -27.93\n",
      "8.803\n",
      "-9.890\n",
      "0.000\n",
      "12.696\n"
     ]
    }
   ],
   "source": [
    "regr = process_with(X_5, y_5, info=True, ts=0.3)"
   ]
  },
  {
   "cell_type": "code",
   "execution_count": null,
   "metadata": {
    "collapsed": false
   },
   "outputs": [],
   "source": [
    "import warnings\n",
    "warnings.filterwarnings(\"ignore\")\n",
    "for i in range(0,len(y)):\n",
    "    print \"Real: %f \\t Predicted: %f\" %(y[i], regr.predict(X[i]))"
   ]
  },
  {
   "cell_type": "code",
   "execution_count": null,
   "metadata": {
    "collapsed": false
   },
   "outputs": [],
   "source": [
    "print \"Features sorted by their score:\"\n",
    "#f = sorted(zip(map(lambda x: round(x, 4), regr.coef_), FEATURES), reverse=True)\n",
    "f = zip(map(lambda x: round(x, 4), regr.coef_), FEATURES)\n",
    "print len(FEATURES)\n",
    "for i in f:\n",
    "    #print \"%4f \\t %s\" %(i[0], i[1])\n",
    "    print i[0]\n",
    "print regr.intercept_"
   ]
  },
  {
   "cell_type": "code",
   "execution_count": null,
   "metadata": {
    "collapsed": false,
    "scrolled": true
   },
   "outputs": [],
   "source": [
    "f = sorted(zip(map(lambda x: round(x, 4), regr.coef_), FEATURES), reverse=True)\n",
    "ind = [map(lambda x: x[1], f).index(i) for i in FEATURES]\n",
    "for i in ind:\n",
    "    print i+1"
   ]
  },
  {
   "cell_type": "code",
   "execution_count": null,
   "metadata": {
    "collapsed": true
   },
   "outputs": [],
   "source": []
  },
  {
   "cell_type": "code",
   "execution_count": null,
   "metadata": {
    "collapsed": false
   },
   "outputs": [],
   "source": [
    "plt.plot([i[22] for i in X])\n",
    "plt.show()"
   ]
  },
  {
   "cell_type": "code",
   "execution_count": null,
   "metadata": {
    "collapsed": false
   },
   "outputs": [],
   "source": [
    "print FEATURES[8]\n",
    "[i[22] for i in X]"
   ]
  },
  {
   "cell_type": "code",
   "execution_count": null,
   "metadata": {
    "collapsed": false
   },
   "outputs": [],
   "source": [
    "for k in range(0,26):\n",
    "    print FEATURES[k], 10 - [i[k] for i in X].count(0)"
   ]
  }
 ],
 "metadata": {
  "kernelspec": {
   "display_name": "Python 2",
   "language": "python",
   "name": "python2"
  },
  "language_info": {
   "codemirror_mode": {
    "name": "ipython",
    "version": 2
   },
   "file_extension": ".py",
   "mimetype": "text/x-python",
   "name": "python",
   "nbconvert_exporter": "python",
   "pygments_lexer": "ipython2",
   "version": "2.7.6"
  }
 },
 "nbformat": 4,
 "nbformat_minor": 0
}
