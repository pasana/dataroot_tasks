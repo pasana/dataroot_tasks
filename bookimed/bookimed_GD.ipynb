{
 "cells": [
  {
   "cell_type": "code",
   "execution_count": null,
   "metadata": {
    "collapsed": true
   },
   "outputs": [],
   "source": [
    "from bookimed_lib import *"
   ]
  },
  {
   "cell_type": "code",
   "execution_count": null,
   "metadata": {
    "collapsed": false
   },
   "outputs": [],
   "source": [
    "FEATURES = [\n",
    "    \"deg\",\n",
    "    \"top\", \n",
    "    \"illn\", \n",
    "    \"lang\",\n",
    "#    \"ad_spec\",\n",
    "    \"h_index\",\n",
    "    \"exp_doc\", \n",
    "    ]"
   ]
  },
  {
   "cell_type": "code",
   "execution_count": null,
   "metadata": {
    "collapsed": false
   },
   "outputs": [],
   "source": [
    "def extract_data(clinic, clinic_estim):\n",
    "    all_proc = clinic['procedures']['diagnostics'] + clinic['procedures']['operations']\n",
    "    all_doc = clinic['doctors']\n",
    "    X = []\n",
    "    for doc in all_doc:\n",
    "        X+=[[]]\n",
    "        X[-1]+=[doc['degree'].count(u'Профессор')]    #doctor_prof_count\n",
    "        X[-1]+=[int(doc['top'])]\n",
    "        X[-1]+=[len(doc['illnesses'])]\n",
    "        X[-1]+=[len(doc['languages'])]\n",
    "#        X[-1]+=[0]\n",
    "#        if len(doc['languages']) > 0:\n",
    "#            lang=[int(k['id']) for k in doc['languages']]\n",
    "#            if 1 in lang:\n",
    "#                X[-1][-1]+=0.8\n",
    "#            if 2 in lang:\n",
    "#                X[-1][-1]+=0.2\n",
    "        X[-1]+=[int(doc['h_index'])]\n",
    "        X[-1]+=[int(doc['experience'])]\n",
    "    y=[int(clinic_estim['specialist'])] * len(all_doc)\n",
    "    return [X, y]"
   ]
  },
  {
   "cell_type": "code",
   "execution_count": null,
   "metadata": {
    "collapsed": true
   },
   "outputs": [],
   "source": [
    "def normale(mat):\n",
    "    #for i in [2,4,5]:#lang\n",
    "    for i in [2,3,4]:#no lang\n",
    "        mass = [k[i] for k in mat]\n",
    "        m = max(mass)\n",
    "        if m>0:\n",
    "            for j in mat:\n",
    "                j[i] = round(j[i] / float(m), 4)\n",
    "    #return mat"
   ]
  },
  {
   "cell_type": "code",
   "execution_count": null,
   "metadata": {
    "collapsed": false
   },
   "outputs": [],
   "source": [
    "X_all, X_1, X_2, X_3, X_4, X_5, y_all, y_1, y_2, y_3, y_4, y_5 = get_X_sets(extract_data)\n",
    "normale(X_all)\n",
    "normale(X_1)\n",
    "normale(X_2)\n",
    "normale(X_3)\n",
    "normale(X_4)\n",
    "normale(X_5)"
   ]
  },
  {
   "cell_type": "code",
   "execution_count": null,
   "metadata": {
    "collapsed": false
   },
   "outputs": [],
   "source": [
    "for i in range(1,10):\n",
    "    print i\n",
    "    regr = process_with(X_3, y_3, info=True, ts=i/10.0)\n",
    "    print"
   ]
  },
  {
   "cell_type": "code",
   "execution_count": null,
   "metadata": {
    "collapsed": false
   },
   "outputs": [],
   "source": [
    "regr = process_with(X_3, y_3, info=True, ts=0.3)"
   ]
  },
  {
   "cell_type": "code",
   "execution_count": null,
   "metadata": {
    "collapsed": false
   },
   "outputs": [],
   "source": [
    "regr.coef_"
   ]
  },
  {
   "cell_type": "code",
   "execution_count": null,
   "metadata": {
    "collapsed": false
   },
   "outputs": [],
   "source": [
    "print regr.intercept_"
   ]
  },
  {
   "cell_type": "code",
   "execution_count": null,
   "metadata": {
    "collapsed": false
   },
   "outputs": [],
   "source": [
    "import warnings\n",
    "warnings.filterwarnings(\"ignore\")\n",
    "for i in range(0,len(y_2)):\n",
    "    print \"Real: %f \\t Predicted: %f\" %(y_2[i], regr.predict(X_2[i]))"
   ]
  },
  {
   "cell_type": "code",
   "execution_count": null,
   "metadata": {
    "collapsed": false
   },
   "outputs": [],
   "source": [
    "print \"Features sorted by their score:\"\n",
    "#f = sorted(zip(map(lambda x: round(x, 4), regr.coef_), FEATURES), reverse=True)\n",
    "f = zip(map(lambda x: round(x, 4), regr.coef_), FEATURES)\n",
    "print len(FEATURES)\n",
    "for i in f:\n",
    "    #print \"%4f \\t %s\" %(i[0], i[1])\n",
    "    print i[0]\n",
    "print regr.intercept_"
   ]
  },
  {
   "cell_type": "code",
   "execution_count": null,
   "metadata": {
    "collapsed": false
   },
   "outputs": [],
   "source": [
    "f = sorted(zip(map(lambda x: round(x, 4), regr.coef_), FEATURES), reverse=True)\n",
    "ind = [map(lambda x: x[1], f).index(i) for i in FEATURES]\n",
    "for i in ind:\n",
    "    print i+1"
   ]
  },
  {
   "cell_type": "code",
   "execution_count": null,
   "metadata": {
    "collapsed": false
   },
   "outputs": [],
   "source": [
    "plt.plot(sorted([i[5] for i in X_all]))\n",
    "plt.show()"
   ]
  }
 ],
 "metadata": {
  "kernelspec": {
   "display_name": "Python 2",
   "language": "python",
   "name": "python2"
  },
  "language_info": {
   "codemirror_mode": {
    "name": "ipython",
    "version": 2
   },
   "file_extension": ".py",
   "mimetype": "text/x-python",
   "name": "python",
   "nbconvert_exporter": "python",
   "pygments_lexer": "ipython2",
   "version": "2.7.6"
  }
 },
 "nbformat": 4,
 "nbformat_minor": 0
}
