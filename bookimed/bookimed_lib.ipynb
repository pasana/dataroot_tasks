{
 "cells": [
  {
   "cell_type": "code",
   "execution_count": 1,
   "metadata": {
    "collapsed": true
   },
   "outputs": [],
   "source": [
    "import json\n",
    "import matplotlib.pyplot as plt\n",
    "import numpy as np\n",
    "from sklearn import datasets, linear_model\n",
    "from sklearn import preprocessing\n",
    "from sklearn import cross_validation"
   ]
  },
  {
   "cell_type": "code",
   "execution_count": 2,
   "metadata": {
    "collapsed": true
   },
   "outputs": [],
   "source": [
    "path_1 = './max/'\n",
    "path_2 = './max20160907'\n",
    "\n",
    "this_path = path_2"
   ]
  },
  {
   "cell_type": "code",
   "execution_count": 3,
   "metadata": {
    "collapsed": true
   },
   "outputs": [],
   "source": [
    "def get_X_y_from(t_extract_data, t_data, t_estims_data):\n",
    "    clinic_ids = [i['id'] for i in t_data]\n",
    "    t_cleaned_data = [t_extract_data(t_data[clinic_ids.index(i['id'])], i) for i in t_estims_data]\n",
    "    X = sum([i[0] for i in t_cleaned_data],[])\n",
    "    y = sum([i[1] for i in t_cleaned_data],[])\n",
    "    return X,y"
   ]
  },
  {
   "cell_type": "code",
   "execution_count": 4,
   "metadata": {
    "collapsed": true
   },
   "outputs": [],
   "source": [
    "def get_X_from(t_data, t_extract_data):\n",
    "    t_cleaned_data = []\n",
    "    clinic_names = []\n",
    "    ids = []\n",
    "    for i in t_data:\n",
    "        if i['doctors']!=[]:\n",
    "            t_cleaned_data += [t_extract_data(i,[])]\n",
    "            clinic_names += [unicode(i['name_ru'])] * len(i['doctors'])\n",
    "            ids += [int(i['id'])] * len(i['doctors'])\n",
    "    X = sum([i for i in t_cleaned_data],[])\n",
    "    return X, clinic_names, ids"
   ]
  },
  {
   "cell_type": "code",
   "execution_count": 5,
   "metadata": {
    "collapsed": true
   },
   "outputs": [],
   "source": [
    "def get_best_ts(X, y):\n",
    "    results = pd.DataFrame(columns = ['variance_train', 'variance_test', 'absolute_train', 'absolute_test', 'ts'])\n",
    "    for i in range(1,7):\n",
    "        regr = process_with(X, y, return_long=True, ts=i/10.0)\n",
    "        if ((regr['variance_train'] == 1) and (round(regr['absolute_train'],2) == 0)): continue\n",
    "        results = results.append(regr,ignore_index=True)\n",
    "        results['score'] = results.apply(lambda row: abs(((row['absolute_train'] + row['absolute_test'])/2.0)/\n",
    "                                 ((1 - row['variance_train'])/2.0)*\n",
    "                                 ((1 - row['variance_test']/2.0)))*\n",
    "                                 abs((row['absolute_train'] - row['absolute_test'])), axis=1)\n",
    "\n",
    "    if len(results): return results['ts'][results['score'].argmin()]\n",
    "    else: return 0"
   ]
  },
  {
   "cell_type": "code",
   "execution_count": 6,
   "metadata": {
    "collapsed": false
   },
   "outputs": [],
   "source": [
    "def process_with(X,y, info=False, short=False, return_short = False, return_long = False, new_coef = [], ts=0.2):\n",
    "    train_X, test_X, train_y, test_y = cross_validation.train_test_split(X, y, test_size = ts, random_state = 3)\n",
    "    regr = linear_model.LinearRegression(fit_intercept=True, normalize=False)\n",
    "    if new_coef != []:\n",
    "        print \"new coefs\"\n",
    "        regr.coef_ = new_coef\n",
    "    regr.fit(train_X, train_y)\n",
    "    if info:\n",
    "        print \"Total: %d, train: %d, test: %d\" %(len(X), len(train_X), len(test_X))\n",
    "        print(\"Residual sum of squares: %.2f\"% np.mean((regr.predict(test_X) - test_y) ** 2))\n",
    "        print(\"Train absolute: %.2f\"% np.mean(abs(regr.predict(train_X) - train_y)))\n",
    "        print(\"Test absolute: %.2f\"% np.mean(abs(regr.predict(test_X) - test_y)))\n",
    "        print(\"Absolute to mean: %.2f%%\"% (np.mean(abs(regr.predict(test_X) - test_y))/np.mean(test_y)*100))\n",
    "        print('Train variance score: %.2f' % regr.score(train_X, train_y))\n",
    "        print('Test variance score: %.2f' % regr.score(test_X, test_y))\n",
    "    if short:\n",
    "        print \"Total: %d, train: %d, test: %d\" %(len(X), len(train_X), len(test_X))\n",
    "        print \"%.3f\" % np.mean(abs(regr.predict(train_X) - train_y))\n",
    "        print \"%.3f\" % np.mean(abs(regr.predict(test_X) - test_y))\n",
    "        print \"%.3f\" % (np.mean(abs(regr.predict(test_X) - test_y))/np.mean(test_y)*100)\n",
    "        print \"%.3f\" % regr.score(train_X, train_y)\n",
    "        print \"%.3f\" % regr.score(test_X, test_y)\n",
    "    if return_short:\n",
    "        return np.mean(abs(regr.predict(test_X) - test_y)),regr.score(test_X, test_y)\n",
    "    if return_long:\n",
    "        return {\"absolute_train\": np.mean(abs(regr.predict(train_X) - train_y)),\n",
    "               \"absolute_test\": np.mean(abs(regr.predict(test_X) - test_y)),\n",
    "               \"variance_train\": regr.score(train_X, train_y),\n",
    "               \"variance_test\": regr.score(test_X, test_y),\n",
    "               \"\"\n",
    "               \"ts\": ts}\n",
    "    #for i in regr.coef_:\n",
    "        #print \"%.3f\" % i\n",
    "    #print \"%.3f\" % regr.intercept_\n",
    "    return regr"
   ]
  },
  {
   "cell_type": "code",
   "execution_count": 7,
   "metadata": {
    "collapsed": true
   },
   "outputs": [],
   "source": [
    "def pack(X, gd, ed, gp):\n",
    "    new_X = []\n",
    "    for x in X:\n",
    "        new_X+= [sum([\n",
    "            [round(sum(np.array(gd)*np.array(x[0:7])),5)],\n",
    "            [round(sum(np.array(ed)*np.array(x[7:12])),5)],\n",
    "            [round(sum(np.array(gp)*np.array(x[12:16])),5)],\n",
    "            x[16:]\n",
    "        ],[])]\n",
    "    return new_X"
   ]
  },
  {
   "cell_type": "code",
   "execution_count": 8,
   "metadata": {
    "collapsed": true
   },
   "outputs": [],
   "source": [
    "def seq_procent(input_array):\n",
    "    new_pos=np.array(input_array)\n",
    "    straight = np.array([i for i in range(max(new_pos), min(new_pos)-1, -1)])\n",
    "    inversions = abs(straight - new_pos)\n",
    "    while not np.array_equal(inversions, np.zeros(len(inversions))):\n",
    "        new_pos=np.delete(new_pos, inversions.argmax())\n",
    "        new_pos = [10 - sorted(new_pos, reverse=True).index(x) for x in new_pos]\n",
    "        straight = np.array([i for i in range(max(new_pos), min(new_pos)-1, -1)])\n",
    "        inversions = abs(straight - new_pos)\n",
    "    return 100*len(new_pos)/float(len(input_array))"
   ]
  },
  {
   "cell_type": "code",
   "execution_count": null,
   "metadata": {
    "collapsed": true
   },
   "outputs": [],
   "source": [
    "def get_X_sets(extract_data):\n",
    "    X_all, y_all = [], []\n",
    "\n",
    "    with open('./max/estims.json') as data_file: \n",
    "        estims_data = json.load(data_file)[2]['clinics']\n",
    "    with open('%s/меланома_все.json'%this_path) as data_file: #2\n",
    "        cancer_data = json.load(data_file)[0]['clinics']\n",
    "    X_1, y_1 = get_X_y_from(extract_data, cancer_data, estims_data)\n",
    "    X_all+=X_1\n",
    "    y_all+=y_1\n",
    "\n",
    "    with open('./max/estims.json') as data_file: \n",
    "        estims_data = json.load(data_file)[0]['clinics']\n",
    "    with open('%s/рак_груди_все.json'%this_path) as data_file: #0\n",
    "        cancer_data = json.load(data_file)[0]['clinics']\n",
    "    X_2, y_2 = get_X_y_from(extract_data, cancer_data, estims_data)\n",
    "    X_all+=X_2\n",
    "    y_all+=y_2\n",
    "\n",
    "    with open('./max/estims.json') as data_file: \n",
    "        estims_data = json.load(data_file)[4]['clinics']    \n",
    "    with open('%s/рак_простаты_все.json'%this_path) as data_file: #4\n",
    "        cancer_data = json.load(data_file)[0]['clinics']\n",
    "    clinic_ids = [i['id'] for i in estims_data]\n",
    "    estims_data.pop(clinic_ids.index('0'))\n",
    "    X_3, y_3 = get_X_y_from(extract_data, cancer_data, estims_data)\n",
    "    X_all+=X_3\n",
    "    y_all+=y_3\n",
    "\n",
    "    with open('./max/estims.json') as data_file: \n",
    "        estims_data = json.load(data_file)[1]['clinics']     \n",
    "    with open('%s/рак_шейки_матки_все.json'%this_path) as data_file: #1\n",
    "        cancer_data = json.load(data_file)[0]['clinics']\n",
    "    X_4, y_4 = get_X_y_from(extract_data, cancer_data, estims_data)\n",
    "    X_all+=X_4\n",
    "    y_all+=y_4\n",
    "\n",
    "    with open('./max/estims.json') as data_file: \n",
    "        estims_data = json.load(data_file)[3]['clinics']         \n",
    "    with open('%s/рак_щитовидки_все.json'%this_path) as data_file: #3\n",
    "        cancer_data = json.load(data_file)[0]['clinics']\n",
    "    X_5, y_5 = get_X_y_from(extract_data, cancer_data, estims_data)\n",
    "    X_all+=X_5\n",
    "    y_all+=y_5\n",
    "    \n",
    "    return X_all, X_1, X_2, X_3, X_4, X_5, y_all, y_1, y_2, y_3, y_4, y_5"
   ]
  },
  {
   "cell_type": "code",
   "execution_count": null,
   "metadata": {
    "collapsed": false
   },
   "outputs": [],
   "source": [
    "def get_clinic_names(t_estims_data, t_cancer_data):\n",
    "    ids = [i['id'] for i in t_estims_data]\n",
    "    if '0' in ids:\n",
    "        ids.pop('0')\n",
    "    clinic_names = []\n",
    "    for id_ in ids:\n",
    "        clinic_names += [ [i[\"name_ru\"], len(i['doctors'])] for i in t_cancer_data if i['id'] == id_ and len(i['doctors'])!= 0]\n",
    "    return clinic_names"
   ]
  },
  {
   "cell_type": "code",
   "execution_count": null,
   "metadata": {
    "collapsed": true
   },
   "outputs": [],
   "source": [
    "def get_clinic_names_all():\n",
    "    X_all, y_all = [], []\n",
    "\n",
    "    with open('./max/estims.json') as data_file: \n",
    "        estims_data = json.load(data_file)[2]['clinics']\n",
    "    with open('%s/меланома_все.json'%this_path) as data_file: #2\n",
    "        cancer_data = json.load(data_file)[0]['clinics']\n",
    "    clinic_names_1 = get_clinic_names(estims_data, cancer_data)\n",
    "\n",
    "    with open('./max/estims.json') as data_file: \n",
    "        estims_data = json.load(data_file)[0]['clinics']\n",
    "    with open('%s/рак_груди_все.json'%this_path) as data_file: #0\n",
    "        cancer_data = json.load(data_file)[0]['clinics']\n",
    "    clinic_names_2 = get_clinic_names(estims_data, cancer_data)\n",
    "\n",
    "    with open('./max/estims.json') as data_file: \n",
    "        estims_data = json.load(data_file)[4]['clinics']    \n",
    "    with open('%s/рак_простаты_все.json'%this_path) as data_file: #4\n",
    "        cancer_data = json.load(data_file)[0]['clinics']\n",
    "    clinic_ids = [i['id'] for i in estims_data]\n",
    "    estims_data.pop(clinic_ids.index('0'))\n",
    "    clinic_names_3 = get_clinic_names(estims_data, cancer_data)\n",
    "\n",
    "    with open('./max/estims.json') as data_file: \n",
    "        estims_data = json.load(data_file)[1]['clinics']     \n",
    "    with open('%s/рак_шейки_матки_все.json'%this_path) as data_file: #1\n",
    "        cancer_data = json.load(data_file)[0]['clinics']\n",
    "    clinic_names_4 = get_clinic_names(estims_data, cancer_data)\n",
    "\n",
    "    with open('./max/estims.json') as data_file: \n",
    "        estims_data = json.load(data_file)[3]['clinics']         \n",
    "    with open('%s/рак_щитовидки_все.json'%this_path) as data_file: #3\n",
    "        cancer_data = json.load(data_file)[0]['clinics']\n",
    "    clinic_names_5 = get_clinic_names(estims_data, cancer_data)\n",
    "\n",
    "    \n",
    "    return clinic_names_1 + clinic_names_2 + clinic_names_3 + clinic_names_4 + clinic_names_5"
   ]
  },
  {
   "cell_type": "code",
   "execution_count": null,
   "metadata": {
    "collapsed": false
   },
   "outputs": [],
   "source": [
    "X_all, y_all = [], []\n",
    "\n",
    "with open('./max/estims.json') as data_file: \n",
    "    estims_data = json.load(data_file)[2]['clinics']\n",
    "with open('%s/меланома_все.json'%this_path) as data_file: #2\n",
    "    cancer_data = json.load(data_file)[0]['clinics']\n",
    "clinic_names_1 = get_clinic_names(estims_data, cancer_data)\n",
    "\n",
    "with open('./max/estims.json') as data_file: \n",
    "    estims_data = json.load(data_file)[0]['clinics']\n",
    "with open('%s/рак_груди_все.json'%this_path) as data_file: #0\n",
    "    cancer_data = json.load(data_file)[0]['clinics']\n",
    "clinic_names_2 = get_clinic_names(estims_data, cancer_data)\n",
    "\n",
    "with open('./max/estims.json') as data_file: \n",
    "    estims_data = json.load(data_file)[4]['clinics']    \n",
    "with open('%s/рак_простаты_все.json'%this_path) as data_file: #4\n",
    "    cancer_data = json.load(data_file)[0]['clinics']\n",
    "clinic_ids = [i['id'] for i in estims_data]\n",
    "estims_data.pop(clinic_ids.index('0'))\n",
    "clinic_names_3 = get_clinic_names(estims_data, cancer_data)\n",
    "\n",
    "with open('./max/estims.json') as data_file: \n",
    "    estims_data = json.load(data_file)[1]['clinics']     \n",
    "with open('%s/рак_шейки_матки_все.json'%this_path) as data_file: #1\n",
    "    cancer_data = json.load(data_file)[0]['clinics']\n",
    "clinic_names_4 = get_clinic_names(estims_data, cancer_data)\n",
    "\n",
    "with open('./max/estims.json') as data_file: \n",
    "    estims_data = json.load(data_file)[3]['clinics']         \n",
    "with open('%s/рак_щитовидки_все.json'%this_path) as data_file: #3\n",
    "    cancer_data = json.load(data_file)[0]['clinics']\n",
    "clinic_names_5 = get_clinic_names(estims_data, cancer_data)\n",
    "\n",
    "\n",
    "return clinic_names_1 + clinic_names_2 + clinic_names_3 + clinic_names_4 + clinic_names_5"
   ]
  },
  {
   "cell_type": "code",
   "execution_count": 23,
   "metadata": {
    "collapsed": false
   },
   "outputs": [
    {
     "name": "stdout",
     "output_type": "stream",
     "text": [
      "меланома\n",
      "\t Медицинский центр им. Сураски (Ихилов)\n",
      "\t \t Илан Гиль Рон\n",
      "\t \t \t Хирургия меланомы - o\n",
      "\t \t \t Консультация онколога - d\n",
      "\t \t Диана Мацеевски\n",
      "\t \t \t Радиотерапия - o\n",
      "\t \t \t ПЭТ-КТ - d\n",
      "\t \t \t МРТ  - d\n",
      "\t \t \t КТ - d\n",
      "\t Клиника Ассута\n",
      "\t \t Моше Инбар\n",
      "\t \t \t Химиотерапия - o\n",
      "\t \t \t Брахитерапия - o\n",
      "\t \t \t Лучевая терапия  - o\n",
      "\t \t \t Радиотерапия - o\n",
      "\t \t \t МРТ  - d\n",
      "\t \t \t Биопсия  - d\n",
      "\t \t \t Анализ крови на онкомаркеры - d\n",
      "\t \t \t Биопсия \"сторожевых\" лимфоузлов - d\n",
      "\t \t \t Тонкоигольная аспирационная биопсия опухоли  - d\n",
      "\t Больница им. Хаима Шиба\n",
      "рак_груди\n",
      "\t Медицинский центр им. Сураски (Ихилов)\n",
      "\t \t Илан Гиль Рон\n",
      "\t \t \t Хирургия меланомы - o\n",
      "\t \t \t Консультация онколога - d\n",
      "\t \t Диана Мацеевски\n",
      "\t \t \t Радиотерапия - o\n",
      "\t \t \t ПЭТ-КТ - d\n",
      "\t \t \t МРТ  - d\n",
      "\t \t \t КТ - d\n",
      "\t Клиника Ассута\n",
      "\t \t Моше Инбар\n",
      "\t \t \t Химиотерапия - o\n",
      "\t \t \t Брахитерапия - o\n",
      "\t \t \t Лучевая терапия  - o\n",
      "\t \t \t Радиотерапия - o\n",
      "\t \t \t МРТ  - d\n",
      "\t \t \t Биопсия  - d\n",
      "\t \t \t Анализ крови на онкомаркеры - d\n",
      "\t \t \t Биопсия \"сторожевых\" лимфоузлов - d\n",
      "\t \t \t Тонкоигольная аспирационная биопсия опухоли  - d\n",
      "\t Больница им. Хаима Шиба\n",
      "\t Медицинский центр Хадасса\n",
      "\t Медицинский центр имени Ицхака Рабина \n",
      "рак_простаты\n",
      "\t Медицинский центр им. Сураски (Ихилов)\n",
      "\t Клиника Ассута\n",
      "\t \t Моше Инбар\n",
      "\t \t \t Химиотерапия - o\n",
      "\t \t \t Брахитерапия - o\n",
      "\t \t \t Лучевая терапия  - o\n",
      "\t \t \t Радиотерапия - o\n",
      "\t \t \t МРТ  - d\n",
      "\t \t \t Биопсия  - d\n",
      "\t \t \t Анализ крови на онкомаркеры - d\n",
      "\t \t \t Биопсия \"сторожевых\" лимфоузлов - d\n",
      "\t \t \t Тонкоигольная аспирационная биопсия опухоли  - d\n",
      "\t Больница им. Хаима Шиба\n",
      "\t Медицинский центр Хадасса\n",
      "\t Медицинский центр имени Ицхака Рабина \n",
      "рак_шейки_матки\n",
      "\t Медицинский центр им. Сураски (Ихилов)\n",
      "\t \t Йосеф Лессинг\n",
      "\t \t \t Трахелэктомия - o\n",
      "\t \t \t Гистерэктомия (удаление тела и шейки матки) - o\n",
      "\t \t \t ПЭТ-КТ - d\n",
      "\t \t \t МРТ  - d\n",
      "\t \t \t УЗИ - d\n",
      "\t \t \t Биопсия  - d\n",
      "\t \t \t Анализ крови на онкомаркеры - d\n",
      "\t \t \t КТ - d\n",
      "\t \t \t Консультация онколога - d\n",
      "\t \t \t Кольпоскопия - d\n",
      "\t \t \t Консультация гинеколога - d\n",
      "\t \t \t ПАП-тест (мазок Паппаниколау) - d\n",
      "\t Клиника Ассута\n",
      "\t \t Моше Инбар\n",
      "\t \t \t Химиотерапия - o\n",
      "\t \t \t Брахитерапия - o\n",
      "\t \t \t Лучевая терапия  - o\n",
      "\t \t \t Радиотерапия - o\n",
      "\t \t \t МРТ  - d\n",
      "\t \t \t Биопсия  - d\n",
      "\t \t \t Анализ крови на онкомаркеры - d\n",
      "\t \t \t Биопсия \"сторожевых\" лимфоузлов - d\n",
      "\t \t \t Тонкоигольная аспирационная биопсия опухоли  - d\n",
      "\t Больница им. Хаима Шиба\n",
      "рак_щитовидки\n",
      "\t Медицинский центр им. Сураски (Ихилов)\n",
      "\t \t Дан Флис\n",
      "\t \t \t Радикальная тиреоидэктомия - o\n",
      "\t \t \t Субтотальная тиреоидэктомия - o\n",
      "\t Клиника Ассута\n",
      "\t \t Моше Инбар\n",
      "\t \t \t Химиотерапия - o\n",
      "\t \t \t Брахитерапия - o\n",
      "\t \t \t Лучевая терапия  - o\n",
      "\t \t \t Радиотерапия - o\n",
      "\t \t \t МРТ  - d\n",
      "\t \t \t Биопсия  - d\n",
      "\t \t \t Анализ крови на онкомаркеры - d\n",
      "\t \t \t Биопсия \"сторожевых\" лимфоузлов - d\n",
      "\t \t \t Тонкоигольная аспирационная биопсия опухоли  - d\n",
      "\t Больница им. Хаима Шиба\n"
     ]
    }
   ],
   "source": [
    "sub_oper = []\n",
    "sub_diag = []\n",
    "for file_name in [\"меланома\", \"рак_груди\", \"рак_простаты\", \"рак_шейки_матки\", \"рак_щитовидки\"]:\n",
    "    with open('%s/%s_все.json'%(this_path, file_name)) as data_file: #1\n",
    "        cancer_data = json.load(data_file)[0]['clinics']\n",
    "        print file_name\n",
    "        for clinic in cancer_data:\n",
    "            if clinic['top']==u'1':\n",
    "                if clinic['doctors']!=[]:\n",
    "                    print \"\\t %s\" % clinic['name_ru']\n",
    "                    for doc in clinic['doctors']:\n",
    "                        if doc['top']==u'1':\n",
    "                            if len(sum(doc['procedures'].values(), [])) != 0:\n",
    "                                print \"\\t \\t %s\" % doc['name_ru']                        \n",
    "                                oper = [i['name_ru'] for i in doc['procedures']['operations']]\n",
    "                                sub_oper += oper\n",
    "                                if oper != []:\n",
    "                                    for o in oper:\n",
    "                                        print \"\\t \\t \\t %s - o\" % o\n",
    "                                diag = [i['name_ru'] for i in doc['procedures']['diagnostics']]\n",
    "                                sub_diag += diag\n",
    "                                if oper != []:\n",
    "                                    for o in diag:\n",
    "                                        print \"\\t \\t \\t %s - d\" % o"
   ]
  },
  {
   "cell_type": "code",
   "execution_count": null,
   "metadata": {
    "collapsed": false
   },
   "outputs": [],
   "source": [
    "cancer_data[0]['procedures']"
   ]
  },
  {
   "cell_type": "code",
   "execution_count": 22,
   "metadata": {
    "collapsed": false
   },
   "outputs": [
    {
     "name": "stdout",
     "output_type": "stream",
     "text": [
      "меланома\n",
      "\t Медицинский центр им. Сураски (Ихилов)\n",
      "\t \t Артроскопия коленного сустава \n",
      "\t \t Аортокоронарное шунтирование\n",
      "\t \t Гистерэктомия (удаление тела и шейки матки)\n",
      "\t \t Установка кардиостимулятора\n",
      "\t Клиника Ассута\n",
      "\t \t Артроскопия коленного сустава \n",
      "\t \t Гистерэктомия (удаление тела и шейки матки)\n",
      "\t \t Установка кардиостимулятора\n",
      "\t Медицинский центр Рамбам\n",
      "\t \t Артроскопия коленного сустава \n",
      "\t  Частная клиника Кардиолита\n",
      "\t \t Установка кардиостимулятора\n",
      "рак_груди\n",
      "\t Медицинский центр им. Сураски (Ихилов)\n",
      "\t \t Артроскопия коленного сустава \n",
      "\t \t Аортокоронарное шунтирование\n",
      "\t \t Гистерэктомия (удаление тела и шейки матки)\n",
      "\t \t Установка кардиостимулятора\n",
      "\t Клиника Ассута\n",
      "\t \t Артроскопия коленного сустава \n",
      "\t \t Гистерэктомия (удаление тела и шейки матки)\n",
      "\t \t Установка кардиостимулятора\n",
      "\t Медицинский центр Рамбам\n",
      "\t \t Артроскопия коленного сустава \n",
      "\t  Частная клиника Кардиолита\n",
      "\t \t Установка кардиостимулятора\n",
      "рак_простаты\n",
      "\t Медицинский центр им. Сураски (Ихилов)\n",
      "\t \t Артроскопия коленного сустава \n",
      "\t \t Аортокоронарное шунтирование\n",
      "\t \t Гистерэктомия (удаление тела и шейки матки)\n",
      "\t \t Установка кардиостимулятора\n",
      "\t Клиника Ассута\n",
      "\t \t Артроскопия коленного сустава \n",
      "\t \t Гистерэктомия (удаление тела и шейки матки)\n",
      "\t \t Установка кардиостимулятора\n",
      "\t Медицинский центр Рамбам\n",
      "\t \t Артроскопия коленного сустава \n",
      "\t  Частная клиника Кардиолита\n",
      "\t \t Установка кардиостимулятора\n",
      "рак_шейки_матки\n",
      "\t Медицинский центр им. Сураски (Ихилов)\n",
      "\t \t Артроскопия коленного сустава \n",
      "\t \t Аортокоронарное шунтирование\n",
      "\t \t Гистерэктомия (удаление тела и шейки матки)\n",
      "\t \t Установка кардиостимулятора\n",
      "\t Клиника Ассута\n",
      "\t \t Артроскопия коленного сустава \n",
      "\t \t Гистерэктомия (удаление тела и шейки матки)\n",
      "\t \t Установка кардиостимулятора\n",
      "\t Медицинский центр Рамбам\n",
      "\t \t Артроскопия коленного сустава \n",
      "\t  Частная клиника Кардиолита\n",
      "\t \t Установка кардиостимулятора\n",
      "рак_щитовидки\n",
      "\t Медицинский центр им. Сураски (Ихилов)\n",
      "\t \t Артроскопия коленного сустава \n",
      "\t \t Аортокоронарное шунтирование\n",
      "\t \t Гистерэктомия (удаление тела и шейки матки)\n",
      "\t \t Установка кардиостимулятора\n",
      "\t Клиника Ассута\n",
      "\t \t Артроскопия коленного сустава \n",
      "\t \t Гистерэктомия (удаление тела и шейки матки)\n",
      "\t \t Установка кардиостимулятора\n",
      "\t Медицинский центр Рамбам\n",
      "\t \t Артроскопия коленного сустава \n",
      "\t  Частная клиника Кардиолита\n",
      "\t \t Установка кардиостимулятора\n"
     ]
    }
   ],
   "source": [
    "sub_oper = []\n",
    "sub_diag = []\n",
    "for file_name in [\"меланома\", \"рак_груди\", \"рак_простаты\", \"рак_шейки_матки\", \"рак_щитовидки\"]:\n",
    "    with open('%s/%s_все.json'%(this_path, file_name)) as data_file: #1\n",
    "        cancer_data = json.load(data_file)[0]['clinics']\n",
    "        print file_name\n",
    "        for clinic in cancer_data:\n",
    "            if clinic['top']==u'1':\n",
    "                if clinic['procedures']!=[]:\n",
    "                    oper = [i['name_ru'] for i in clinic['procedures']['operations'] if i['top']==u'1']\n",
    "                    sub_oper += oper\n",
    "                    if oper != []:\n",
    "                        print \"\\t %s\" % clinic['name_ru']\n",
    "                        #print len(clinic['doctors'])\n",
    "                        for o in oper:\n",
    "                            print \"\\t \\t %s\" % o"
   ]
  },
  {
   "cell_type": "code",
   "execution_count": 181,
   "metadata": {
    "collapsed": false
   },
   "outputs": [
    {
     "name": "stdout",
     "output_type": "stream",
     "text": [
      "Анализ крови на онкомаркеры\n",
      "УЗИ\n",
      "Консультация гинеколога\n",
      "ПАП-тест (мазок Паппаниколау)\n",
      "ПЭТ-КТ\n",
      "Кольпоскопия\n",
      "КТ\n",
      "Биопсия \"сторожевых\" лимфоузлов\n",
      "Биопсия \n",
      "Консультация онколога\n",
      "Тонкоигольная аспирационная биопсия опухоли \n",
      "МРТ \n",
      "12\n"
     ]
    }
   ],
   "source": [
    "for i in set(sub_oper):\n",
    "    print i\n",
    "\n",
    "print len(set(sub_oper))"
   ]
  },
  {
   "cell_type": "code",
   "execution_count": 186,
   "metadata": {
    "collapsed": false
   },
   "outputs": [
    {
     "name": "stdout",
     "output_type": "stream",
     "text": [
      "2\n",
      "10\n"
     ]
    },
    {
     "data": {
      "text/plain": [
       "12"
      ]
     },
     "execution_count": 186,
     "metadata": {},
     "output_type": "execute_result"
    }
   ],
   "source": [
    "print len(cancer_data[0]['doctors'][0]['procedures']['operations'])\n",
    "print len(cancer_data[0]['doctors'][0]['procedures']['diagnostics'])\n",
    "len(sum(cancer_data[0]['doctors'][0]['procedures'].values(), []))"
   ]
  },
  {
   "cell_type": "code",
   "execution_count": 25,
   "metadata": {
    "collapsed": false,
    "scrolled": true
   },
   "outputs": [
    {
     "name": "stdout",
     "output_type": "stream",
     "text": [
      "Артроскопия коленного сустава  1\n",
      "Аортокоронарное шунтирование 1\n",
      "Гистерэктомия (удаление тела и шейки матки) 1\n",
      "Установка кардиостимулятора 1\n",
      "Артроскопия коленного сустава  1\n",
      "Гистерэктомия (удаление тела и шейки матки) 1\n",
      "Установка кардиостимулятора 1\n",
      "Артроскопия коленного сустава  1\n",
      "Аортокоронарное шунтирование 1\n",
      "Гистерэктомия (удаление тела и шейки матки) 1\n",
      "Аортокоронарное шунтирование 1\n",
      "Гистерэктомия (удаление тела и шейки матки) 1\n",
      "Гистерэктомия (удаление тела и шейки матки) 1\n",
      "Аортокоронарное шунтирование 1\n",
      "Установка кардиостимулятора 1\n",
      "Гистерэктомия (удаление тела и шейки матки) 1\n",
      "Установка кардиостимулятора 1\n",
      "Артроскопия коленного сустава  1\n",
      "Артроскопия коленного сустава  1\n",
      "Установка кардиостимулятора 1\n",
      "Гистерэктомия (удаление тела и шейки матки) 1\n",
      "Установка кардиостимулятора 1\n",
      "Установка кардиостимулятора 1\n",
      "Установка кардиостимулятора 1\n",
      "Установка кардиостимулятора 1\n",
      "Артроскопия коленного сустава  1\n",
      "Установка кардиостимулятора 1\n",
      "Гистерэктомия (удаление тела и шейки матки) 1\n",
      "Артроскопия коленного сустава  1\n",
      "Аортокоронарное шунтирование 1\n",
      "Гистерэктомия (удаление тела и шейки матки) 1\n"
     ]
    }
   ],
   "source": [
    "with open('%s/меланома_все.json'%this_path) as data_file: #2\n",
    "    cancer_data = json.load(data_file)[0]['clinics']\n",
    "\n",
    "#all = cancer_data[0]['procedures']['operations'] #+ cancer_data[0]['procedures']['diagnostics']\n",
    "all = sum([i['procedures']['operations'] for i in cancer_data],[]) #+ cancer_data[0]['procedures']['diagnostics']\n",
    "for i in all:\n",
    "    if i['top'] == u'1':\n",
    "        print i['name_ru'], i['top']"
   ]
  },
  {
   "cell_type": "code",
   "execution_count": 31,
   "metadata": {
    "collapsed": false
   },
   "outputs": [],
   "source": [
    "names= set([i['name_ru'] for i in all])"
   ]
  },
  {
   "cell_type": "code",
   "execution_count": 32,
   "metadata": {
    "collapsed": false
   },
   "outputs": [
    {
     "name": "stdout",
     "output_type": "stream",
     "text": [
      "Гамма-нож\n",
      " Конизация шейки матки + биопсия\n",
      "АКШ (Аортокоронарное шунтирование)\n",
      "Робот-ассистированная радикальная простатэктомия с Да Винчи\n",
      "Артропластика\n",
      "Трахелэктомия\n",
      "Гипертермическая внутрибрюшинная химиотерапия (HIPEC)\n",
      "Пересадка печени\n",
      "Химиотерапия\n",
      "Операция по восстановлению манжета плеча\n",
      "Субтотальная тиреоидэктомия\n",
      "Гормональная терапия\n",
      "Радиочастотная абляция\n",
      "Удаление рака толстого кишечника\n",
      "Нефрэктомия\n",
      "Дискэктомия\n",
      "Высокоинтенсивная фокусированная ультразвуковая абляция (HIFU)\n",
      "Феморально–поплитеальное шунтирование\n",
      "Роботизированная система Да Винчи\n",
      "Бариатрия (уменьшение желудка)\n",
      "Стентирование (1 стент)\n",
      "Операции при раке молочной железы\n",
      "Эндопротезирование коленного сустава\n",
      "Разрушение пучков катетером (электрофизиология)\n",
      "Лучевая терапия \n",
      "Полная замена тазобедренного сустава\n",
      "Гистерэктомия (удаление тела и шейки матки)\n",
      "Лампэктомия\n",
      "Удаление опухоли спинного мозга\n",
      "Радиойодтерапия\n",
      "Таргетная терапия\n",
      "SIRT терапия\n",
      "Простатэктомия\n",
      "Реконструкция передней крестообразной связки\n",
      "Брахитерапия\n",
      "Удаление поджелудочной железы Whipple\n",
      "Биологическая терапия\n",
      "Цистэктомия\n",
      "Гастрэктомия\n",
      "Глубокая стимуляция мозга (DBS)\n",
      "Мастэктомия\n",
      "Замена сердечного клапана\n",
      "Ангиопластика сосудов сердца\n",
      "Хирургия меланомы\n",
      "Удаление опухоли мочевого пузыря TURBT\n",
      "Удаление миомы матки\n",
      "Полная замена коленного сустава\n",
      "Липосакция\n",
      "Удаление матки (гистерэктомия) - полостное\n",
      "Пересадка костного мозга\n",
      "Удаление грыжи позвоночника\n",
      "Гормонотерапия\n",
      "Радикальная тиреоидэктомия\n",
      "Операция по устранению отслоения сетчатки\n",
      "Радикальная простатэктомия\n",
      "Трубим\n",
      "Радиотерапия\n",
      "Восстановительная хирургия груди\n",
      "Аортокоронарное шунтирование\n",
      "Установка кардиостимулятора\n",
      "Интервенционная катетеризация сердца\n",
      "Удаление опухоли простаты (обычное)\n",
      "Нано-нож\n",
      "Ринопластика (пластика носа)\n",
      "Протонно-лучевая терапия\n",
      "Коронарное шунтирование\n",
      "Коронарография диагностическая\n",
      "Маммопластика\n",
      "Артроскопия коленного сустава \n",
      "Изолированная перфузия конечности\n",
      "Удаление рака желудка\n",
      "Эндопротезирование тазобедренного сустава\n",
      "Операция при приобретенных пороках сердца\n",
      "Мастопексия (подтяжка груди, контурная пластика)\n",
      "Кибер-нож\n",
      "Операция Уиппла\n",
      "Удаление опухоли головного мозга\n",
      "Иммунотерапия\n",
      "Удаление рака печени\n",
      "Удаление опухоли простаты роботом ДаВинчи\n",
      "Ламинэктомия\n",
      "Простатэктомия с роботом ДаВинчи\n",
      "Лазерная терапия\n",
      "ТУР (трансуретральная резекция) простаты\n",
      "Лапароскопическое удаление почки\n"
     ]
    }
   ],
   "source": [
    "for i in names:\n",
    "    print i"
   ]
  },
  {
   "cell_type": "code",
   "execution_count": 41,
   "metadata": {
    "collapsed": false
   },
   "outputs": [
    {
     "name": "stdout",
     "output_type": "stream",
     "text": [
      "Замена сердечного клапана 0\n",
      "Мастэктомия 0\n",
      "Удаление опухоли простаты (обычное) 0\n",
      "Химиотерапия 0\n",
      "Полная замена коленного сустава 0\n",
      "Полная замена тазобедренного сустава 0\n",
      "Дискэктомия 0\n",
      "Артроскопия коленного сустава  1\n",
      "Удаление опухоли головного мозга 0\n",
      "Брахитерапия 0\n",
      "Восстановительная хирургия груди 0\n",
      "Гамма-нож 0\n",
      "Кибер-нож 0\n",
      "Высокоинтенсивная фокусированная ультразвуковая абляция (HIFU) 0\n",
      "Простатэктомия 0\n",
      "Протонно-лучевая терапия 0\n",
      "Радиочастотная абляция 0\n",
      "Удаление опухоли спинного мозга 0\n",
      "Хирургия меланомы 0\n",
      "Нефрэктомия 0\n",
      "Гастрэктомия 0\n",
      "Цистэктомия 0\n",
      "Роботизированная система Да Винчи 0\n",
      "Аортокоронарное шунтирование 1\n",
      "Лучевая терапия  0\n",
      "Глубокая стимуляция мозга (DBS) 0\n",
      "Маммопластика 0\n",
      "Биологическая терапия 0\n",
      "ТУР (трансуретральная резекция) простаты 0\n",
      "Радиойодтерапия 0\n",
      "Операции при раке молочной железы 0\n",
      "Трахелэктомия 0\n",
      "Гистерэктомия (удаление тела и шейки матки) 1\n",
      "Гормональная терапия 0\n",
      "Радикальная простатэктомия 0\n",
      "Иммунотерапия 0\n",
      "Таргетная терапия 0\n",
      "Изолированная перфузия конечности 0\n",
      "Лампэктомия 0\n",
      "Радикальная тиреоидэктомия 0\n",
      "Субтотальная тиреоидэктомия 0\n",
      "Ламинэктомия 0\n",
      "Гипертермическая внутрибрюшинная химиотерапия (HIPEC) 0\n",
      "Установка кардиостимулятора 1\n",
      "Операция Уиппла 0\n",
      "Ангиопластика сосудов сердца 0\n",
      "Разрушение пучков катетером (электрофизиология) 0\n",
      "Феморально–поплитеальное шунтирование 0\n",
      " Конизация шейки матки + биопсия 0\n"
     ]
    }
   ],
   "source": [
    "for i in cancer_data[0]['procedures']['operations']:\n",
    "    print i['name_ru'], i['top']"
   ]
  }
 ],
 "metadata": {
  "kernelspec": {
   "display_name": "Python 2",
   "language": "python",
   "name": "python2"
  },
  "language_info": {
   "codemirror_mode": {
    "name": "ipython",
    "version": 2
   },
   "file_extension": ".py",
   "mimetype": "text/x-python",
   "name": "python",
   "nbconvert_exporter": "python",
   "pygments_lexer": "ipython2",
   "version": "2.7.6"
  }
 },
 "nbformat": 4,
 "nbformat_minor": 0
}
