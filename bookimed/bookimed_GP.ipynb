{
 "cells": [
  {
   "cell_type": "code",
   "execution_count": 1,
   "metadata": {
    "collapsed": false
   },
   "outputs": [],
   "source": [
    "import json\n",
    "import matplotlib.pyplot as plt\n",
    "import numpy as np\n",
    "from sklearn import datasets, linear_model\n",
    "from sklearn import preprocessing\n",
    "from sklearn import cross_validation"
   ]
  },
  {
   "cell_type": "code",
   "execution_count": null,
   "metadata": {
    "collapsed": true
   },
   "outputs": [],
   "source": [
    "path_1 = './max/'\n",
    "path_2 = './max20160907'"
   ]
  },
  {
   "cell_type": "code",
   "execution_count": 2,
   "metadata": {
    "collapsed": true
   },
   "outputs": [],
   "source": [
    "FEATURES = [\n",
    "    \"top_oper_cli\", \n",
    "    \"gen_oper_cli\",\n",
    "    \"top_proc_cli\", \n",
    "    \"gen_proc_cli\", \n",
    "]"
   ]
  },
  {
   "cell_type": "code",
   "execution_count": null,
   "metadata": {
    "collapsed": false
   },
   "outputs": [],
   "source": [
    "clinic_ids = [i['id'] for i in estims_data]\n",
    "#estims_data.pop(clinic_ids.index('0'))\n",
    "#print sorted(clinic_ids)\n",
    "#print sorted([i['id'] for i in cancer_data])"
   ]
  },
  {
   "cell_type": "code",
   "execution_count": 3,
   "metadata": {
    "collapsed": false
   },
   "outputs": [],
   "source": [
    "def extract_data(clinic, clinic_estim):\n",
    "    all_proc = clinic['procedures']['diagnostics'] + clinic['procedures']['operations']\n",
    "    X = []\n",
    "    X+=[sum([int(i['top']) for i in clinic['procedures']['operations']])] #top_oper_cli\n",
    "    X+=[len(clinic['procedures']['operations'])] #gen_oper_cli\n",
    "    X+=[sum([int(i['top']) for i in all_proc])] #top_proc_cli\n",
    "    X+=[len(all_proc)] #gen_proc_cli\n",
    "    y=int(clinic_estim['variety'])\n",
    "    return [X, y]"
   ]
  },
  {
   "cell_type": "code",
   "execution_count": 4,
   "metadata": {
    "collapsed": true
   },
   "outputs": [],
   "source": [
    "def get_X_y_from(t_data):\n",
    "    clinic_ids = [i['id'] for i in t_data]\n",
    "    t_cleaned_data = [extract_data(cancer_data[clinic_ids.index(i['id'])], i) for i in estims_data]\n",
    "    X = [i[0] for i in t_cleaned_data]\n",
    "    y = [i[1] for i in t_cleaned_data]\n",
    "    #X = np.array([i[0] for i in t_cleaned_data])\n",
    "    #y = np.array([i[1] for i in t_cleaned_data])\n",
    "    return X,y"
   ]
  },
  {
   "cell_type": "code",
   "execution_count": 5,
   "metadata": {
    "collapsed": true
   },
   "outputs": [],
   "source": [
    "def normale(mat):\n",
    "    for i in [0,1,2,3]:\n",
    "        mass = [k[i] for k in mat]\n",
    "        m = max(mass)\n",
    "        if m>0:\n",
    "            for j in mat:\n",
    "                j[i] = round(j[i] / float(m), 4)"
   ]
  },
  {
   "cell_type": "code",
   "execution_count": 6,
   "metadata": {
    "collapsed": true
   },
   "outputs": [],
   "source": [
    "def process_with(X,y, info=False, short=False, return_short = False, new_coef = [], ts=0.2):\n",
    "    train_X, test_X, train_y, test_y = cross_validation.train_test_split(X, y, test_size = ts, random_state = 3)\n",
    "    regr = linear_model.LinearRegression(fit_intercept=False, normalize=False)\n",
    "    if new_coef != []:\n",
    "        print \"new coefs\"\n",
    "        regr.coef_ = new_coef\n",
    "    regr.fit(train_X, train_y)\n",
    "    if info:\n",
    "        print \"Total: %d, train: %d, test: %d\" %(len(X), len(train_X), len(test_X))\n",
    "        print(\"Residual sum of squares: %.2f\"% np.mean((regr.predict(test_X) - test_y) ** 2))\n",
    "        print(\"Train absolute: %.2f\"% np.mean(abs(regr.predict(train_X) - train_y)))\n",
    "        print(\"Test absolute: %.2f\"% np.mean(abs(regr.predict(test_X) - test_y)))\n",
    "        print(\"Absolute to mean: %.2f%%\"% (np.mean(abs(regr.predict(test_X) - test_y))/np.mean(test_y)*100))\n",
    "        print('Train variance score: %.2f' % regr.score(train_X, train_y))\n",
    "        print('Test variance score: %.2f' % regr.score(test_X, test_y))\n",
    "    if short:\n",
    "        print \"Total: %d, train: %d, test: %d\" %(len(X), len(train_X), len(test_X))\n",
    "        print \"%.3f\" % np.mean(abs(regr.predict(train_X) - train_y))\n",
    "        print \"%.3f\" % np.mean(abs(regr.predict(test_X) - test_y))\n",
    "        print \"%.3f\" % (np.mean(abs(regr.predict(test_X) - test_y))/np.mean(test_y)*100)\n",
    "        print \"%.3f\" % regr.score(train_X, train_y)\n",
    "        print \"%.3f\" % regr.score(test_X, test_y)\n",
    "    if return_short:\n",
    "        return np.mean(abs(regr.predict(test_X) - test_y)),regr.score(test_X, test_y)\n",
    "    for i in regr.coef_:\n",
    "        print \"%.3f\" % i\n",
    "    #print \"%.3f\" % regr.intercept_\n",
    "    return regr"
   ]
  },
  {
   "cell_type": "code",
   "execution_count": 7,
   "metadata": {
    "collapsed": true
   },
   "outputs": [],
   "source": [
    "X_all, y_all = [], []\n",
    "\n",
    "with open('./max/estims.json') as data_file: \n",
    "    estims_data = json.load(data_file)[2]['clinics']\n",
    "with open('%s/меланома_все.json'%this_path) as data_file: #2\n",
    "    cancer_data = json.load(data_file)[0]['clinics']\n",
    "X_1, y_1 = get_X_y_from(cancer_data)\n",
    "X_all+=X_1\n",
    "y_all+=y_1\n",
    "    \n",
    "with open('./max/estims.json') as data_file: \n",
    "    estims_data = json.load(data_file)[0]['clinics']\n",
    "with open('%s/рак_груди_все.json'%this_path) as data_file: #0\n",
    "    cancer_data = json.load(data_file)[0]['clinics']\n",
    "X_2, y_2 = get_X_y_from(cancer_data)\n",
    "X_all+=X_2\n",
    "y_all+=y_2\n",
    "    \n",
    "with open('./max/estims.json') as data_file: \n",
    "    estims_data = json.load(data_file)[4]['clinics']    \n",
    "with open('%s/рак_простаты_все.json'%this_path) as data_file: #4\n",
    "    cancer_data = json.load(data_file)[0]['clinics']\n",
    "clinic_ids = [i['id'] for i in estims_data]\n",
    "estims_data.pop(clinic_ids.index('0'))\n",
    "X_3, y_3 = get_X_y_from(cancer_data)\n",
    "X_all+=X_3\n",
    "y_all+=y_3\n",
    "\n",
    "with open('./max/estims.json') as data_file: \n",
    "    estims_data = json.load(data_file)[1]['clinics']     \n",
    "with open('%s/рак_шейки_матки_все.json'%this_path) as data_file: #1\n",
    "    cancer_data = json.load(data_file)[0]['clinics']\n",
    "X_4, y_4 = get_X_y_from(cancer_data)\n",
    "X_all+=X_4\n",
    "y_all+=y_4\n",
    "    \n",
    "with open('./max/estims.json') as data_file: \n",
    "    estims_data = json.load(data_file)[3]['clinics']         \n",
    "with open('%s/рак_щитовидки_все.json'%this_path) as data_file: #3\n",
    "    cancer_data = json.load(data_file)[0]['clinics']\n",
    "X_5, y_5 = get_X_y_from(cancer_data)\n",
    "X_all+=X_5\n",
    "y_all+=y_5\n",
    "\n",
    "normale(X_all)\n",
    "normale(X_1)\n",
    "normale(X_2)\n",
    "normale(X_3)\n",
    "normale(X_4)\n",
    "normale(X_5)"
   ]
  },
  {
   "cell_type": "code",
   "execution_count": null,
   "metadata": {
    "collapsed": false
   },
   "outputs": [],
   "source": [
    "X, y = get_X_y_from(cancer_data)"
   ]
  },
  {
   "cell_type": "code",
   "execution_count": 9,
   "metadata": {
    "collapsed": false
   },
   "outputs": [
    {
     "data": {
      "text/plain": [
       "[[1.0, 1.0, 0.8333, 1.0],\n",
       " [0.5, 0.5405, 0.6667, 0.7231],\n",
       " [0.5, 0.4595, 0.8333, 0.7385],\n",
       " [0.5, 0.2973, 0.6667, 0.3692],\n",
       " [1.0, 0.973, 1.0, 0.9692],\n",
       " [1.0, 0.5405, 0.8333, 0.5538],\n",
       " [0.0, 0.1081, 0.5, 0.2462],\n",
       " [0.5, 0.8108, 0.8333, 0.8],\n",
       " [0.5, 0.5946, 0.8333, 0.7077],\n",
       " [0.0, 0.3784, 0.5, 0.4308]]"
      ]
     },
     "execution_count": 9,
     "metadata": {},
     "output_type": "execute_result"
    }
   ],
   "source": []
  },
  {
   "cell_type": "code",
   "execution_count": 29,
   "metadata": {
    "collapsed": false
   },
   "outputs": [
    {
     "name": "stdout",
     "output_type": "stream",
     "text": [
      "Total: 10, train: 9, test: 1\n",
      "1.357\n",
      "2.841\n",
      "40.591\n",
      "-1.668\n",
      "0.000\n",
      "-3.558\n",
      "-7.721\n",
      "12.373\n",
      "7.693\n",
      "\n",
      "Total: 10, train: 8, test: 2\n",
      "1.267\n",
      "2.571\n",
      "36.729\n",
      "-1.662\n",
      "0.000\n",
      "-3.155\n",
      "-5.309\n",
      "12.096\n",
      "5.977\n",
      "\n",
      "Total: 10, train: 7, test: 3\n",
      "1.037\n",
      "2.484\n",
      "31.054\n",
      "-2.125\n",
      "-2.270\n",
      "-3.791\n",
      "0.215\n",
      "14.854\n",
      "-1.910\n",
      "\n",
      "Total: 10, train: 6, test: 4\n",
      "1.143\n",
      "2.064\n",
      "25.013\n",
      "-3.344\n",
      "-1.612\n",
      "-3.444\n",
      "-5.046\n",
      "13.815\n",
      "3.971\n",
      "\n"
     ]
    }
   ],
   "source": [
    "for i in range(1,5):\n",
    "    regr = process_with(X_5, y_5, short=True, ts=i/10.0)\n",
    "    print"
   ]
  },
  {
   "cell_type": "code",
   "execution_count": 30,
   "metadata": {
    "collapsed": false
   },
   "outputs": [
    {
     "name": "stdout",
     "output_type": "stream",
     "text": [
      "Total: 10, train: 6, test: 4\n",
      "Residual sum of squares: 10.38\n",
      "Train absolute: 0.92\n",
      "Test absolute: 3.13\n",
      "Absolute to mean: 36.79%\n",
      "Train variance score: -0.19\n",
      "Test variance score: -40.51\n",
      "-5.084\n",
      "-16.698\n",
      "7.522\n",
      "23.554\n"
     ]
    }
   ],
   "source": [
    "regr = process_with(X_4, y_4, info=True, ts=0.4)"
   ]
  },
  {
   "cell_type": "code",
   "execution_count": null,
   "metadata": {
    "collapsed": false
   },
   "outputs": [],
   "source": [
    "import warnings\n",
    "warnings.filterwarnings(\"ignore\")\n",
    "for i in range(0,len(y_4)):\n",
    "    print \"Real: %f \\t Predicted: %f\" %(y_4[i], regr.predict(X_4[i]))\n",
    "    print X_4[i]\n",
    "    print sum(np.array(X_4[i]) * np.array([-3.094, -7.545, 11.025, 9.011]))\n",
    "    print"
   ]
  },
  {
   "cell_type": "code",
   "execution_count": null,
   "metadata": {
    "collapsed": false
   },
   "outputs": [],
   "source": [
    "X_all"
   ]
  },
  {
   "cell_type": "code",
   "execution_count": null,
   "metadata": {
    "collapsed": true
   },
   "outputs": [],
   "source": []
  },
  {
   "cell_type": "code",
   "execution_count": 31,
   "metadata": {
    "collapsed": false
   },
   "outputs": [
    {
     "name": "stdout",
     "output_type": "stream",
     "text": [
      "Features sorted by their score:\n",
      "0.0\n",
      "4\n",
      "-5.0835\n",
      "-16.6975\n",
      "7.5219\n",
      "23.5545\n"
     ]
    }
   ],
   "source": [
    "print \"Features sorted by their score:\"\n",
    "#f = sorted(zip(map(lambda x: round(x, 4), regr.coef_), FEATURES), reverse=True)\n",
    "f = zip(map(lambda x: round(x, 4), regr.coef_), FEATURES)\n",
    "print regr.intercept_\n",
    "print len(FEATURES)\n",
    "for i in f:\n",
    "    #print \"%4f \\t %s\" %(i[0], i[1])\n",
    "    print i[0]"
   ]
  },
  {
   "cell_type": "code",
   "execution_count": 32,
   "metadata": {
    "collapsed": false
   },
   "outputs": [
    {
     "name": "stdout",
     "output_type": "stream",
     "text": [
      "3\n",
      "4\n",
      "2\n",
      "1\n"
     ]
    }
   ],
   "source": [
    "f = sorted(zip(map(lambda x: round(x, 4), regr.coef_), FEATURES), reverse=True)\n",
    "ind = [map(lambda x: x[1], f).index(i) for i in FEATURES]\n",
    "for i in ind:\n",
    "    print i+1"
   ]
  },
  {
   "cell_type": "code",
   "execution_count": null,
   "metadata": {
    "collapsed": false
   },
   "outputs": [],
   "source": [
    "plt.plot([i[22] for i in X])\n",
    "plt.show()"
   ]
  },
  {
   "cell_type": "code",
   "execution_count": null,
   "metadata": {
    "collapsed": false
   },
   "outputs": [],
   "source": [
    "print FEATURES[8]\n",
    "[i[22] for i in X]"
   ]
  },
  {
   "cell_type": "code",
   "execution_count": null,
   "metadata": {
    "collapsed": false
   },
   "outputs": [],
   "source": [
    "for k in range(0,26):\n",
    "    print FEATURES[k], 10 - [i[k] for i in X].count(0)"
   ]
  }
 ],
 "metadata": {
  "kernelspec": {
   "display_name": "Python 2",
   "language": "python",
   "name": "python2"
  },
  "language_info": {
   "codemirror_mode": {
    "name": "ipython",
    "version": 2
   },
   "file_extension": ".py",
   "mimetype": "text/x-python",
   "name": "python",
   "nbconvert_exporter": "python",
   "pygments_lexer": "ipython2",
   "version": "2.7.6"
  }
 },
 "nbformat": 4,
 "nbformat_minor": 0
}
