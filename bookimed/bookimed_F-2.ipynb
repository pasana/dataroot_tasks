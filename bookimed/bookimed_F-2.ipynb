{
 "cells": [
  {
   "cell_type": "code",
   "execution_count": 1,
   "metadata": {
    "collapsed": false
   },
   "outputs": [],
   "source": [
    "import json\n",
    "import matplotlib.pyplot as plt\n",
    "import numpy as np\n",
    "from sklearn import datasets, linear_model\n",
    "from sklearn import preprocessing\n",
    "from sklearn import cross_validation"
   ]
  },
  {
   "cell_type": "code",
   "execution_count": 10,
   "metadata": {
    "collapsed": true
   },
   "outputs": [],
   "source": [
    "gd = [0.06, 0.223, 0.372, 0.196, -0.135, 0.426, 8.37]\n",
    "gd_1 = [0.0508,1.1461,-0.3277,-0.2838,-0.4065,0.0431,8.48847328196] #X_1\n",
    "gd_2 = [0.4539,-0.9662,-0.1322,-0.0,-0.7994,0.0441,8.12947125898] #X_2\n",
    "gd_3 = [0.1704,-0.0947,-0.4962,-0.0,0.1037,0.0109,7.89770339493] #X_3\n",
    "gd_4 = [0.8576,-0.8836,2.9865,0.0,-1.8508,-0.0143,8.33126119382] #X_4\n",
    "gd_5 = [1.1957,-0.693,0.0005,-0.0,-0.6442,0.0293,8.21512214126] #X_5\n",
    "ed = [-2.82, -1.104, 0.827, 0.96, 9.471]\n",
    "ed_1 = [-2.147,-0.398,0.0,1.3791,9.6361887613] #X_1\n",
    "ed_2 = [-0.4101,-0.9549,0.0,0.7409,8.82618121612] #X_2\n",
    "ed_3 = [-1.7345,1.102,0.0,0.2559,7.82148744848] #X_3\n",
    "ed_4 = [-3.9587,0.1358,0.8394,1.6839,9.56795015331] #X_4\n",
    "ed_5 = [-1.8173,1.0672,0.0,-0.4283,9.10474754996] #X_5\n",
    "gp = [-3.094, -7.545, 11.025, 9.011]\n",
    "gp_1 = [-5.4733,-5.8343,10.7325,9.6022] #X_1\n",
    "gp_2 = [-4.6902,-2.5154,16.9676,0.1287] #X_2\n",
    "gp_3 = [-2.2335,-8.7922,6.2464,13.6984] #X_3\n",
    "gp_4 = [-3.0828,-5.5514,10.5674,8.1592] #X_4\n",
    "gp_5 = [-5.0835,-16.6975,7.5219,23.5545] #X_5"
   ]
  },
  {
   "cell_type": "code",
   "execution_count": 199,
   "metadata": {
    "collapsed": false
   },
   "outputs": [],
   "source": [
    "FEATURES = [\n",
    "    \"gd\",\n",
    "    \"ed\",\n",
    "    \"gp\",\n",
    "#    \"isr\",\n",
    "#    \"views\", \n",
    "    \"large\", \n",
    "     \"top\", \n",
    "#    \"speed_level\",\n",
    "#    \"speed_level 1\",\n",
    "#    \"speed_level 2\",\n",
    "#    \"speed_level 3\",\n",
    "    \"price\"]"
   ]
  },
  {
   "cell_type": "code",
   "execution_count": 3,
   "metadata": {
    "collapsed": true
   },
   "outputs": [],
   "source": [
    "def get_speed_level(speed_level):\n",
    "    if speed_level == 1:\n",
    "        return  [1]\n",
    "        #return [1,0,0]\n",
    "        #print X[-1], speed_level\n",
    "    elif speed_level == 2:\n",
    "        return [0.4]\n",
    "        #return [0,1,0]\n",
    "        #print X[-1], speed_level\n",
    "    elif speed_level == 3:\n",
    "        return [0.1]\n",
    "        #return [0,0,1]\n",
    "        #print X[-1], speed_level\n",
    "    else:\n",
    "        return [0]\n",
    "        #return [0,0,0]\n",
    "        #print X[-1], speed_level"
   ]
  },
  {
   "cell_type": "code",
   "execution_count": 204,
   "metadata": {
    "collapsed": false
   },
   "outputs": [],
   "source": [
    "def extract_data(clinic, clinic_estim):\n",
    "    all_proc = clinic['procedures']['diagnostics'] + clinic['procedures']['operations']\n",
    "    all_doc = clinic['doctors']\n",
    "    X = []\n",
    "    for doc in all_doc:\n",
    "        X+=[[]]\n",
    "        #gd 0-7\n",
    "        X[-1]+=[doc['degree'].count(u'Профессор')]\n",
    "        X[-1]+=[int(doc['top'])]\n",
    "        X[-1]+=[len(doc['illnesses'])]\n",
    "        X[-1]+=[len(doc['languages'])]\n",
    "        X[-1]+=[int(doc['h_index'])]\n",
    "        X[-1]+=[int(doc['experience'])]\n",
    "        X[-1]+=[1]\n",
    "        #ed 7-12\n",
    "        ids_diad = [i['id'] for i in doc['procedures']['diagnostics'] if i['top']=='1']\n",
    "        ids_oper = [i['id'] for i in doc['procedures']['operations'] if i['top']=='1']\n",
    "        X[-1]+=[len(list(set(ids_diad)))]\n",
    "        X[-1]+=[len(doc['procedures']['diagnostics'])]\n",
    "        X[-1]+=[len(list(set(ids_oper)))]\n",
    "        X[-1]+=[len(doc['procedures']['operations'])]\n",
    "        X[-1]+=[1]\n",
    "        #gp 12-16\n",
    "        X[-1]+=[sum([int(i['top']) for i in all_proc])] #top_proc_cli\n",
    "        X[-1]+=[len(all_proc)] #gen_proc_cli\n",
    "        X[-1]+=[sum([int(i['top']) for i in clinic['procedures']['operations']])] #top_oper_cli\n",
    "        X[-1]+=[len(clinic['procedures']['operations'])] #gen_oper_cli\n",
    "        #\n",
    "        c_id = int(clinic['country_id'])\n",
    "#        if c_id == 1:\n",
    "#            X[-1]+=[1]\n",
    "#        else:\n",
    "#            X[-1]+=[0]\n",
    "        #X[-1]+=[int(clinic['views'])]\n",
    "        X[-1]+=[int(clinic['large'])]\n",
    "        X[-1]+=[int(clinic['top'])]\n",
    "        #X[-1]+=[get_speed_level(int(clinic['speed_level']))]\n",
    "        #X[-1]+=[round(1-int(clinic_estim['price'])/10.0,4)]\n",
    "        X[-1]+=[round(int(clinic['price_level'])/3.0,4)]\n",
    "        \n",
    "    y=[int(clinic_estim['rating'])] * len(all_doc)\n",
    "    return [X, y]"
   ]
  },
  {
   "cell_type": "code",
   "execution_count": 5,
   "metadata": {
    "collapsed": true
   },
   "outputs": [],
   "source": [
    "def get_X_y_from(t_data):\n",
    "    clinic_ids = [i['id'] for i in t_data]\n",
    "    t_cleaned_data = [extract_data(cancer_data[clinic_ids.index(i['id'])], i) for i in estims_data]\n",
    "    X = sum([i[0] for i in t_cleaned_data],[])\n",
    "    y = sum([i[1] for i in t_cleaned_data],[])\n",
    "    return X,y"
   ]
  },
  {
   "cell_type": "code",
   "execution_count": 6,
   "metadata": {
    "collapsed": true
   },
   "outputs": [],
   "source": [
    "def normale(mat):\n",
    "    for i in range(0,len(mat[0])-1):\n",
    "        mass = [abs(k[i]) for k in mat]\n",
    "        m = max(mass)\n",
    "        if m>0:\n",
    "            for j in mat:\n",
    "                j[i] = round(j[i] / float(m), 4)"
   ]
  },
  {
   "cell_type": "code",
   "execution_count": 11,
   "metadata": {
    "collapsed": false
   },
   "outputs": [],
   "source": [
    "def pack(X, gd, ed, gp):\n",
    "    new_X = []\n",
    "    for x in X:\n",
    "        new_X+= [sum([\n",
    "            [round(sum(np.array(gd)*np.array(x[0:7])),5)],\n",
    "            [round(sum(np.array(ed)*np.array(x[7:12])),5)],\n",
    "            [round(sum(np.array(gp)*np.array(x[12:16])),5)],\n",
    "            x[16:]\n",
    "        ],[])]\n",
    "    return new_X"
   ]
  },
  {
   "cell_type": "code",
   "execution_count": 16,
   "metadata": {
    "collapsed": true
   },
   "outputs": [],
   "source": [
    "def process_with(X,y, info=False, short=False, return_short = False, new_coef = [], ts=0.2):\n",
    "    train_X, test_X, train_y, test_y = cross_validation.train_test_split(X, y, test_size = ts, random_state = 3)\n",
    "    regr = linear_model.LinearRegression(fit_intercept=True, normalize=True)\n",
    "    if new_coef != []:\n",
    "        print \"new coefs\"\n",
    "        regr.coef_ = new_coef\n",
    "    regr.fit(train_X, train_y)\n",
    "    if info:\n",
    "        print \"Total: %d, train: %d, test: %d\" %(len(X), len(train_X), len(test_X))\n",
    "        print(\"Residual sum of squares: %.2f\"% np.mean((regr.predict(test_X) - test_y) ** 2))\n",
    "        print(\"Train absolute: %.2f\"% np.mean(abs(regr.predict(train_X) - train_y)))\n",
    "        print(\"Test absolute: %.2f\"% np.mean(abs(regr.predict(test_X) - test_y)))\n",
    "        print(\"Absolute to mean: %.2f%%\"% (np.mean(abs(regr.predict(test_X) - test_y))/np.mean(test_y)*100))\n",
    "        print('Train variance score: %.2f' % regr.score(train_X, train_y))\n",
    "        print('Test variance score: %.2f' % regr.score(test_X, test_y))\n",
    "    if short:\n",
    "        print np.mean(abs(regr.predict(test_X) - test_y)),regr.score(test_X, test_y)\n",
    "    if return_short:\n",
    "        return np.mean(abs(regr.predict(test_X) - test_y)),regr.score(test_X, test_y)\n",
    "    return regr"
   ]
  },
  {
   "cell_type": "code",
   "execution_count": null,
   "metadata": {
    "collapsed": false
   },
   "outputs": [],
   "source": [
    "X, y = get_X_y_from(cancer_data)"
   ]
  },
  {
   "cell_type": "code",
   "execution_count": 205,
   "metadata": {
    "collapsed": false
   },
   "outputs": [],
   "source": [
    "X_all, y_all = [], []\n",
    "\n",
    "with open('./max/estims.json') as data_file: \n",
    "    estims_data = json.load(data_file)[2]['clinics']\n",
    "with open('./max/меланома_все.json') as data_file: #2\n",
    "    cancer_data = json.load(data_file)[0]['clinics']\n",
    "X_1, y_1 = get_X_y_from(cancer_data)\n",
    "X_all+=X_1\n",
    "y_all+=y_1\n",
    "    \n",
    "with open('./max/estims.json') as data_file: \n",
    "    estims_data = json.load(data_file)[0]['clinics']\n",
    "with open('./max/рак_груди_все.json') as data_file: #0\n",
    "    cancer_data = json.load(data_file)[0]['clinics']\n",
    "X_2, y_2 = get_X_y_from(cancer_data)\n",
    "X_all+=X_2\n",
    "y_all+=y_2\n",
    "    \n",
    "with open('./max/estims.json') as data_file: \n",
    "    estims_data = json.load(data_file)[4]['clinics']    \n",
    "with open('./max/рак_простаты_все.json') as data_file: #4\n",
    "    cancer_data = json.load(data_file)[0]['clinics']\n",
    "clinic_ids = [i['id'] for i in estims_data]\n",
    "estims_data.pop(clinic_ids.index('0'))\n",
    "X_3, y_3 = get_X_y_from(cancer_data)\n",
    "X_all+=X_3\n",
    "y_all+=y_3\n",
    "\n",
    "with open('./max/estims.json') as data_file: \n",
    "    estims_data = json.load(data_file)[1]['clinics']     \n",
    "with open('./max/рак_шейки_матки_все.json') as data_file: #1\n",
    "    cancer_data = json.load(data_file)[0]['clinics']\n",
    "X_4, y_4 = get_X_y_from(cancer_data)\n",
    "X_all+=X_4\n",
    "y_all+=y_4\n",
    "    \n",
    "with open('./max/estims.json') as data_file: \n",
    "    estims_data = json.load(data_file)[3]['clinics']         \n",
    "with open('./max/рак_щитовидки_все.json') as data_file: #3\n",
    "    cancer_data = json.load(data_file)[0]['clinics']\n",
    "X_5, y_5 = get_X_y_from(cancer_data)\n",
    "X_all+=X_5\n",
    "y_all+=y_5\n",
    "\n",
    "normale(X_all)\n",
    "X_all=pack(X_all,gd, ed, gp)\n",
    "normale(X_all)\n",
    "\n",
    "normale(X_1)\n",
    "X_1=pack(X_1,gd, ed, gp)\n",
    "normale(X_1)\n",
    "\n",
    "normale(X_2)\n",
    "X_2=pack(X_2,gd, ed, gp)\n",
    "normale(X_2)\n",
    "\n",
    "normale(X_3)\n",
    "X_3=pack(X_3,gd, ed, gp)\n",
    "normale(X_3)\n",
    "\n",
    "normale(X_4)\n",
    "X_4=pack(X_4,gd, ed, gp)\n",
    "normale(X_4)\n",
    "\n",
    "normale(X_5)\n",
    "X_5=pack(X_5,gd, ed, gp)\n",
    "normale(X_5)"
   ]
  },
  {
   "cell_type": "code",
   "execution_count": 105,
   "metadata": {
    "collapsed": false
   },
   "outputs": [
    {
     "name": "stdout",
     "output_type": "stream",
     "text": [
      ">14 дней 3\n"
     ]
    }
   ],
   "source": [
    "i=12\n",
    "print cancer_data[i]['speed_level_name'], cancer_data[i]['speed_level']"
   ]
  },
  {
   "cell_type": "code",
   "execution_count": null,
   "metadata": {
    "collapsed": true
   },
   "outputs": [],
   "source": []
  },
  {
   "cell_type": "code",
   "execution_count": null,
   "metadata": {
    "collapsed": false
   },
   "outputs": [],
   "source": [
    "k=0\n",
    "for x in X_all:\n",
    "    if x[3]==x[4] and x[4] == 1:\n",
    "        k+=1\n",
    "        \n",
    "print k, sum([i[4] for i in X_all])"
   ]
  },
  {
   "cell_type": "code",
   "execution_count": 207,
   "metadata": {
    "collapsed": false
   },
   "outputs": [
    {
     "name": "stdout",
     "output_type": "stream",
     "text": [
      "1\n",
      "Total: 64, train: 57, test: 7\n",
      "Residual sum of squares: 7.07\n",
      "Train absolute: 2.13\n",
      "Test absolute: 2.51\n",
      "Absolute to mean: 39.10%\n",
      "Train variance score: 0.34\n",
      "Test variance score: -0.08\n",
      "\n",
      "2\n",
      "Total: 64, train: 51, test: 13\n",
      "Residual sum of squares: 6.23\n",
      "Train absolute: 2.15\n",
      "Test absolute: 2.27\n",
      "Absolute to mean: 37.90%\n",
      "Train variance score: 0.30\n",
      "Test variance score: 0.29\n",
      "\n",
      "3\n",
      "Total: 64, train: 44, test: 20\n",
      "Residual sum of squares: 7.26\n",
      "Train absolute: 2.13\n",
      "Test absolute: 2.37\n",
      "Absolute to mean: 38.15%\n",
      "Train variance score: 0.35\n",
      "Test variance score: 0.03\n",
      "\n",
      "4\n",
      "Total: 64, train: 38, test: 26\n",
      "Residual sum of squares: 6.29\n",
      "Train absolute: 2.21\n",
      "Test absolute: 2.26\n",
      "Absolute to mean: 35.69%\n",
      "Train variance score: 0.36\n",
      "Test variance score: 0.06\n",
      "\n",
      "5\n",
      "Total: 64, train: 32, test: 32\n",
      "Residual sum of squares: 5.54\n",
      "Train absolute: 2.32\n",
      "Test absolute: 2.09\n",
      "Absolute to mean: 34.06%\n",
      "Train variance score: 0.34\n",
      "Test variance score: 0.19\n",
      "\n",
      "6\n",
      "Total: 64, train: 25, test: 39\n",
      "Residual sum of squares: 5.58\n",
      "Train absolute: 2.35\n",
      "Test absolute: 2.10\n",
      "Absolute to mean: 32.70%\n",
      "Train variance score: 0.29\n",
      "Test variance score: 0.26\n",
      "\n"
     ]
    }
   ],
   "source": [
    "for i in range(1,7):\n",
    "    print i\n",
    "    regr = process_with(X_all, y_all, info=True, ts=i/10.0)\n",
    "    print"
   ]
  },
  {
   "cell_type": "code",
   "execution_count": 208,
   "metadata": {
    "collapsed": false
   },
   "outputs": [
    {
     "name": "stdout",
     "output_type": "stream",
     "text": [
      "Total: 64, train: 51, test: 13\n",
      "Residual sum of squares: 6.23\n",
      "Train absolute: 2.15\n",
      "Test absolute: 2.27\n",
      "Absolute to mean: 37.90%\n",
      "Train variance score: 0.30\n",
      "Test variance score: 0.29\n"
     ]
    }
   ],
   "source": [
    "regr = process_with(X_all, y_all, info=True, ts=0.2)"
   ]
  },
  {
   "cell_type": "code",
   "execution_count": 209,
   "metadata": {
    "collapsed": false
   },
   "outputs": [
    {
     "name": "stdout",
     "output_type": "stream",
     "text": [
      "Features sorted by their score:\n",
      "6\n",
      "19.138\n",
      "10.4559\n",
      "0.8319\n",
      "1.3159\n",
      "-0.1723\n",
      "-4.0636\n",
      "-19.8239322158\n"
     ]
    }
   ],
   "source": [
    "print \"Features sorted by their score:\"\n",
    "#f = sorted(zip(map(lambda x: round(x, 4), regr.coef_), FEATURES), reverse=True)\n",
    "f = zip(map(lambda x: round(x, 4), regr.coef_), FEATURES)\n",
    "print len(FEATURES)\n",
    "for i in f:\n",
    "    #print \"%4f \\t %s\" %(i[0], i[1])\n",
    "    print i[0] #, i[1]\n",
    "print regr.intercept_"
   ]
  },
  {
   "cell_type": "code",
   "execution_count": 210,
   "metadata": {
    "collapsed": false
   },
   "outputs": [
    {
     "name": "stdout",
     "output_type": "stream",
     "text": [
      "1\n",
      "2\n",
      "4\n",
      "3\n",
      "5\n",
      "6\n"
     ]
    }
   ],
   "source": [
    "f = sorted(zip(map(lambda x: round(x, 4), regr.coef_), FEATURES), reverse=True)\n",
    "ind = [map(lambda x: x[1], f).index(i) for i in FEATURES]\n",
    "for i in ind:\n",
    "    print i+1"
   ]
  },
  {
   "cell_type": "code",
   "execution_count": 211,
   "metadata": {
    "collapsed": false,
    "scrolled": true
   },
   "outputs": [
    {
     "name": "stdout",
     "output_type": "stream",
     "text": [
      "Real: 9.000000 \t Predicted: 7.968289\n",
      "[0.9465, 1.0, 0.9469, 1.0, 1.0, 0.6667]\n",
      "\n",
      "Real: 9.000000 \t Predicted: 7.251884\n",
      "[0.9354, 0.9518, 0.9469, 1.0, 1.0, 0.6667]\n",
      "\n",
      "Real: 9.000000 \t Predicted: 7.376999\n",
      "[0.9244, 0.9839, 0.9469, 1.0, 1.0, 0.6667]\n",
      "\n",
      "Real: 9.000000 \t Predicted: 6.901444\n",
      "[0.9184, 0.9494, 0.9469, 1.0, 1.0, 0.6667]\n",
      "\n",
      "Real: 7.000000 \t Predicted: 4.497540\n",
      "[0.9261, 0.7522, 0.1516, 1.0, 0.0, 0.6667]\n",
      "\n",
      "Real: 7.000000 \t Predicted: 4.655254\n",
      "[0.8979, 0.8189, 0.1516, 1.0, 0.0, 0.6667]\n",
      "\n",
      "Real: 7.000000 \t Predicted: 2.717968\n",
      "[0.9031, 0.6241, 0.1516, 1.0, 0.0, 0.6667]\n",
      "\n",
      "Real: 5.000000 \t Predicted: 8.040315\n",
      "[0.9756, 0.9494, 1.0, 1.0, 1.0, 0.6667]\n",
      "\n",
      "Real: 5.000000 \t Predicted: 7.300681\n",
      "[0.9269, 0.9678, 1.0, 1.0, 1.0, 0.6667]\n",
      "\n",
      "Real: 5.000000 \t Predicted: 6.755924\n",
      "[1.0, 0.7819, 1.0, 1.0, 1.0, 0.6667]\n",
      "\n",
      "Real: 5.000000 \t Predicted: 6.614747\n",
      "[0.8998, 0.9518, 1.0, 1.0, 1.0, 0.6667]\n",
      "\n",
      "Real: 5.000000 \t Predicted: 7.512320\n",
      "[0.9467, 0.9518, 1.0, 1.0, 1.0, 0.6667]\n",
      "\n",
      "Real: 5.000000 \t Predicted: 5.802840\n",
      "[0.9225, 0.8326, 1.0, 1.0, 1.0, 0.6667]\n",
      "\n",
      "Real: 5.000000 \t Predicted: 6.587954\n",
      "[0.8984, 0.9518, 1.0, 1.0, 1.0, 0.6667]\n",
      "\n",
      "Real: 4.000000 \t Predicted: 4.109988\n",
      "[0.8912, 0.6378, 0.2979, 1.0, 0.0, 0.3333]\n",
      "\n",
      "Real: 2.000000 \t Predicted: 2.615026\n",
      "[0.907, 0.6266, -0.14, 0.0, 0.0, 0.3333]\n",
      "\n",
      "Real: 2.000000 \t Predicted: 2.975250\n",
      "[0.9008, 0.6724, -0.14, 0.0, 0.0, 0.3333]\n",
      "\n"
     ]
    }
   ],
   "source": [
    "import warnings\n",
    "warnings.filterwarnings(\"ignore\")\n",
    "for i in range(0,len(y_2)):    \n",
    "    print \"Real: %f \\t Predicted: %f\" %(y_2[i], regr.predict(X_2[i]))\n",
    "    print X_2[i]\n",
    "    print\n",
    "    #print y_all[i]\n",
    "    #print regr.predict(X_all[i])[0]"
   ]
  },
  {
   "cell_type": "code",
   "execution_count": null,
   "metadata": {
    "collapsed": false
   },
   "outputs": [],
   "source": [
    "f=0\n",
    "for feature in [\"gd\", \"ed\", \"gp\"]:\n",
    "    k=0\n",
    "    for X in [X_1, X_2, X_3, X_4, X_5]:\n",
    "        k += 1\n",
    "        plt.plot(sorted([i[f] for i in X]))\n",
    "        #plt.show()\n",
    "        plt.savefig('%s - X%d.png' % (feature, k))\n",
    "        plt.clf()\n",
    "    f+=1"
   ]
  },
  {
   "cell_type": "code",
   "execution_count": null,
   "metadata": {
    "collapsed": false
   },
   "outputs": [],
   "source": [
    "f=0\n",
    "for feature in [\"gd\", \"ed\", \"gp\"]:\n",
    "    mass = [i[f] for i in X_all]\n",
    "    k=0\n",
    "    r=0\n",
    "    l=0\n",
    "    for length in [len(X_1), len(X_2), len(X_3), len(X_4), len(X_5)]:\n",
    "        l=r\n",
    "        r+=length\n",
    "        k+=1\n",
    "        plt.plot(sorted(mass[l:r]), label=\"X%d\"%k)\n",
    "        plt.ylim([min(mass),1])\n",
    "        legend = plt.legend(loc=4, shadow=True)\n",
    "        #plt.show()\n",
    "    plt.savefig('%s.png' % (feature))\n",
    "    plt.clf()\n",
    "    f+=1"
   ]
  },
  {
   "cell_type": "code",
   "execution_count": null,
   "metadata": {
    "collapsed": false
   },
   "outputs": [],
   "source": [
    "plt.plot([np.linalg.norm(i) for i in X_all], color='black')\n",
    "plt.xticks(())\n",
    "plt.yticks(())\n",
    "plt.show()"
   ]
  },
  {
   "cell_type": "code",
   "execution_count": null,
   "metadata": {
    "collapsed": false
   },
   "outputs": [],
   "source": [
    "f=0\n",
    "for feature in [\"gd\", \"ed\", \"gp\"]:\n",
    "    mass = [i[f] for i in X_all]\n",
    "    k=0\n",
    "    r=0\n",
    "    l=0\n",
    "    for length in [len(X_1), len(X_2), len(X_3), len(X_4), len(X_5)]:\n",
    "        l=r\n",
    "        r+=length\n",
    "        k+=1\n",
    "        plt.plot(y_all[l:r], [i[f] for i in X_all[l:r]], label=\"X%d\"%k)\n",
    "        plt.ylim([min(mass),1])\n",
    "        plt.xlim([0,11])\n",
    "        legend = plt.legend(loc=4, shadow=True)\n",
    "        plt.savefig('%s - X%d.png' % (feature, k))\n",
    "        plt.show()\n",
    "        plt.clf()\n",
    "    f+=1"
   ]
  },
  {
   "cell_type": "code",
   "execution_count": null,
   "metadata": {
    "collapsed": false
   },
   "outputs": [],
   "source": [
    "k=0\n",
    "r=0\n",
    "l=0\n",
    "for length in [len(X_1), len(X_2), len(X_3), len(X_4), len(X_5)]:\n",
    "    l=r\n",
    "    r+=length\n",
    "    k+=1\n",
    "    plt.plot(y_all[l:r], [np.linalg.norm(i) for i in X_all[l:r]], label=\"X%d\"%k)\n",
    "    legend = plt.legend(loc=4, shadow=True)\n",
    "    plt.xlim([0,11])\n",
    "    plt.savefig('norms - X%d.png'%k)\n",
    "    plt.clf()"
   ]
  },
  {
   "cell_type": "code",
   "execution_count": null,
   "metadata": {
    "collapsed": false
   },
   "outputs": [],
   "source": [
    "print FEATURES[8]\n",
    "[i[22] for i in X]"
   ]
  },
  {
   "cell_type": "code",
   "execution_count": null,
   "metadata": {
    "collapsed": false
   },
   "outputs": [],
   "source": [
    "for k in range(0,26):\n",
    "    print FEATURES[k], 10 - [i[k] for i in X].count(0)"
   ]
  },
  {
   "cell_type": "code",
   "execution_count": null,
   "metadata": {
    "collapsed": false
   },
   "outputs": [],
   "source": [
    "x = [i[-2] for i in X_all]\n",
    "y_top = []\n",
    "y_n_top = []\n",
    "for l in range(0, len(x)):\n",
    "    if x:\n",
    "        y_top += [y[l]]\n",
    "    else:\n",
    "        y_n_top += [y[l]]\n",
    "#for l in range(0, len(x)):\n",
    "    #print x[l], y[l]"
   ]
  },
  {
   "cell_type": "code",
   "execution_count": null,
   "metadata": {
    "collapsed": false
   },
   "outputs": [],
   "source": [
    "for i in range(1,11):\n",
    "    print i, y_top.count(i)"
   ]
  },
  {
   "cell_type": "code",
   "execution_count": null,
   "metadata": {
    "collapsed": false
   },
   "outputs": [],
   "source": [
    "FEATURES[-3]"
   ]
  },
  {
   "cell_type": "code",
   "execution_count": null,
   "metadata": {
    "collapsed": false
   },
   "outputs": [],
   "source": [
    "plt.plot( x, y_all, 'ro')\n",
    "plt.show()"
   ]
  },
  {
   "cell_type": "code",
   "execution_count": 189,
   "metadata": {
    "collapsed": false
   },
   "outputs": [
    {
     "data": {
      "text/plain": [
       "[0.9756, 0.9695, 1.0, 1.0, 1.0, 0.0]"
      ]
     },
     "execution_count": 189,
     "metadata": {},
     "output_type": "execute_result"
    }
   ],
   "source": [
    "X_all[20]"
   ]
  },
  {
   "cell_type": "code",
   "execution_count": 214,
   "metadata": {
    "collapsed": false
   },
   "outputs": [
    {
     "name": "stdout",
     "output_type": "stream",
     "text": [
      "8.00545551804 10\n",
      "5.03071707742 9\n",
      "4.53536628722 8\n",
      "min() arg is an empty sequence 7 []\n",
      "7.97594430692 6\n",
      "min() arg is an empty sequence 5 []\n",
      "0.280267397741 4\n",
      "1.3423883102 3\n",
      "min() arg is an empty sequence 2 []\n",
      "3.66191102846 1\n",
      "min() arg is an empty sequence 10 []\n",
      "7.96828910082 9\n",
      "min() arg is an empty sequence 8 []\n",
      "4.65525404656 7\n",
      "min() arg is an empty sequence 6 []\n",
      "8.04031463375 5\n",
      "4.10998814972 4\n",
      "min() arg is an empty sequence 3 []\n",
      "2.9752496328 2\n",
      "min() arg is an empty sequence 1 []\n",
      "min() arg is an empty sequence 10 []\n",
      "5.12022239232 9\n",
      "6.93378906135 8\n",
      "min() arg is an empty sequence 7 []\n",
      "7.94371081632 6\n",
      "8.06206537555 5\n",
      "3.41787752356 4\n",
      "min() arg is an empty sequence 3 []\n",
      "3.60537019264 2\n",
      "3.53307174561 1\n",
      "7.6373538272 10\n",
      "5.63208360263 9\n",
      "5.30055036299 8\n",
      "5.48315875542 7\n",
      "3.64667066033 6\n",
      "5.29021388148 5\n",
      "3.86815404647 4\n",
      "5.55218748853 3\n",
      "7.96828910082 2\n",
      "3.78752321488 1\n",
      "8.2631734085 10\n",
      "6.68777775339 9\n",
      "2.65588658924 8\n",
      "min() arg is an empty sequence 7 []\n",
      "6.78173215527 6\n",
      "min() arg is an empty sequence 5 []\n",
      "min() arg is an empty sequence 4 []\n",
      "min() arg is an empty sequence 3 []\n",
      "3.58563904306 2\n",
      "2.91474566408 1\n"
     ]
    }
   ],
   "source": [
    "res_X = []\n",
    "res_y = []\n",
    "for X,y in [(X_1, y_1),(X_2, y_2),(X_3, y_3),(X_4, y_4),(X_5, y_5)]:\n",
    "    for i in range(10,0,-1):\n",
    "        try:\n",
    "            indices = [j for j, x in enumerate(y) if x == i]\n",
    "            res_X += [max(regr.predict(X[min(indices):max(indices)+1]))]\n",
    "            res_y += [i]\n",
    "            print res_X[-1], res_y[-1]\n",
    "        except Exception, err:\n",
    "            print err, i, indices\n",
    "            pass"
   ]
  },
  {
   "cell_type": "code",
   "execution_count": 216,
   "metadata": {
    "collapsed": false
   },
   "outputs": [
    {
     "name": "stdout",
     "output_type": "stream",
     "text": [
      "8.00545551804\n",
      "5.03071707742\n",
      "4.53536628722\n",
      "7.97594430692\n",
      "0.280267397741\n",
      "1.3423883102\n",
      "3.66191102846\n",
      "7.96828910082\n",
      "4.65525404656\n",
      "8.04031463375\n",
      "4.10998814972\n",
      "2.9752496328\n",
      "5.12022239232\n",
      "6.93378906135\n",
      "7.94371081632\n",
      "8.06206537555\n",
      "3.41787752356\n",
      "3.60537019264\n",
      "3.53307174561\n",
      "7.6373538272\n",
      "5.63208360263\n",
      "5.30055036299\n",
      "5.48315875542\n",
      "3.64667066033\n",
      "5.29021388148\n",
      "3.86815404647\n",
      "5.55218748853\n",
      "7.96828910082\n",
      "3.78752321488\n",
      "8.2631734085\n",
      "6.68777775339\n",
      "2.65588658924\n",
      "6.78173215527\n",
      "3.58563904306\n",
      "2.91474566408\n"
     ]
    }
   ],
   "source": [
    "for x in res_X:\n",
    "    print x"
   ]
  },
  {
   "cell_type": "code",
   "execution_count": 206,
   "metadata": {
    "collapsed": false
   },
   "outputs": [
    {
     "data": {
      "text/plain": [
       "{0.0, 0.3333, 0.6667, 1.0}"
      ]
     },
     "execution_count": 206,
     "metadata": {},
     "output_type": "execute_result"
    }
   ],
   "source": [
    "set([i[-1] for i in X_all])"
   ]
  },
  {
   "cell_type": "code",
   "execution_count": null,
   "metadata": {
    "collapsed": false
   },
   "outputs": [],
   "source": [
    "y_all[13+17:13+17+12]"
   ]
  },
  {
   "cell_type": "code",
   "execution_count": 149,
   "metadata": {
    "collapsed": false
   },
   "outputs": [
    {
     "name": "stdout",
     "output_type": "stream",
     "text": [
      "[]\n"
     ]
    },
    {
     "ename": "ValueError",
     "evalue": "min() arg is an empty sequence",
     "output_type": "error",
     "traceback": [
      "\u001b[1;31m---------------------------------------------------------------------------\u001b[0m",
      "\u001b[1;31mValueError\u001b[0m                                Traceback (most recent call last)",
      "\u001b[1;32m<ipython-input-149-22f7586280f1>\u001b[0m in \u001b[0;36m<module>\u001b[1;34m()\u001b[0m\n\u001b[0;32m      4\u001b[0m     \u001b[1;32mprint\u001b[0m \u001b[0mregr\u001b[0m\u001b[1;33m.\u001b[0m\u001b[0mpredict\u001b[0m\u001b[1;33m(\u001b[0m\u001b[0mX_1\u001b[0m\u001b[1;33m[\u001b[0m\u001b[0mind\u001b[0m\u001b[1;33m]\u001b[0m\u001b[1;33m)\u001b[0m\u001b[1;33m\u001b[0m\u001b[0m\n\u001b[0;32m      5\u001b[0m \u001b[1;33m\u001b[0m\u001b[0m\n\u001b[1;32m----> 6\u001b[1;33m \u001b[1;32mprint\u001b[0m \u001b[0mmax\u001b[0m\u001b[1;33m(\u001b[0m\u001b[0mregr\u001b[0m\u001b[1;33m.\u001b[0m\u001b[0mpredict\u001b[0m\u001b[1;33m(\u001b[0m\u001b[0mX_1\u001b[0m\u001b[1;33m[\u001b[0m\u001b[0mmin\u001b[0m\u001b[1;33m(\u001b[0m\u001b[0mindices\u001b[0m\u001b[1;33m)\u001b[0m\u001b[1;33m:\u001b[0m\u001b[0mmax\u001b[0m\u001b[1;33m(\u001b[0m\u001b[0mindices\u001b[0m\u001b[1;33m)\u001b[0m\u001b[1;33m+\u001b[0m\u001b[1;36m1\u001b[0m\u001b[1;33m]\u001b[0m\u001b[1;33m)\u001b[0m\u001b[1;33m)\u001b[0m\u001b[1;33m\u001b[0m\u001b[0m\n\u001b[0m",
      "\u001b[1;31mValueError\u001b[0m: min() arg is an empty sequence"
     ]
    }
   ],
   "source": [
    "indices = [i for i, x in enumerate(y_1) if x == 2]\n",
    "print indices\n",
    "for ind in indices:\n",
    "    print regr.predict(X_1[ind])\n",
    "\n",
    "print max(regr.predict(X_1[min(indices):max(indices)+1]))"
   ]
  }
 ],
 "metadata": {
  "kernelspec": {
   "display_name": "Python 2",
   "language": "python",
   "name": "python2"
  },
  "language_info": {
   "codemirror_mode": {
    "name": "ipython",
    "version": 2
   },
   "file_extension": ".py",
   "mimetype": "text/x-python",
   "name": "python",
   "nbconvert_exporter": "python",
   "pygments_lexer": "ipython2",
   "version": "2.7.6"
  }
 },
 "nbformat": 4,
 "nbformat_minor": 0
}
