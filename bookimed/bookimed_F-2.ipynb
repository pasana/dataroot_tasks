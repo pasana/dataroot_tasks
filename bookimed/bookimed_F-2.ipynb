{
 "cells": [
  {
   "cell_type": "code",
   "execution_count": 1,
   "metadata": {
    "collapsed": false
   },
   "outputs": [],
   "source": [
    "from bookimed_lib import *"
   ]
  },
  {
   "cell_type": "code",
   "execution_count": 2,
   "metadata": {
    "collapsed": true
   },
   "outputs": [],
   "source": [
    "#old ones\n",
    "gd = [0.06, 0.223, 0.372, 0.196, -0.135, 0.426, 8.37]\n",
    "gd_1 = [0.0508,1.1461,-0.3277,-0.2838,-0.4065,0.0431,8.48847328196] #X_1\n",
    "gd_2 = [0.4539,-0.9662,-0.1322,-0.0,-0.7994,0.0441,8.12947125898] #X_2\n",
    "gd_3 = [0.1704,-0.0947,-0.4962,-0.0,0.1037,0.0109,7.89770339493] #X_3\n",
    "gd_4 = [0.8576,-0.8836,2.9865,0.0,-1.8508,-0.0143,8.33126119382] #X_4\n",
    "gd_5 = [1.1957,-0.693,0.0005,-0.0,-0.6442,0.0293,8.21512214126] #X_5\n",
    "ed = [-2.82, -1.104, 0.827, 0.96, 9.471]\n",
    "ed_1 = [-2.147,-0.398,0.0,1.3791,9.6361887613] #X_1\n",
    "ed_2 = [-0.4101,-0.9549,0.0,0.7409,8.82618121612] #X_2\n",
    "ed_3 = [-1.7345,1.102,0.0,0.2559,7.82148744848] #X_3\n",
    "ed_4 = [-3.9587,0.1358,0.8394,1.6839,9.56795015331] #X_4\n",
    "ed_5 = [-1.8173,1.0672,0.0,-0.4283,9.10474754996] #X_5\n",
    "gp = [-3.094, -7.545, 11.025, 9.011]\n",
    "gp_1 = [-5.4733,-5.8343,10.7325,9.6022] #X_1\n",
    "gp_2 = [-4.6902,-2.5154,16.9676,0.1287] #X_2\n",
    "gp_3 = [-2.2335,-8.7922,6.2464,13.6984] #X_3\n",
    "gp_4 = [-3.0828,-5.5514,10.5674,8.1592] #X_4\n",
    "gp_5 = [-5.0835,-16.6975,7.5219,23.5545] #X_5"
   ]
  },
  {
   "cell_type": "code",
   "execution_count": null,
   "metadata": {
    "collapsed": true
   },
   "outputs": [],
   "source": [
    "#new_ones\n",
    "gd = [-0.14858283,  0.82626225,  0.72419524,  0.38033358, -0.41910666, -0.0017822, 8.504 ]\n",
    "gd_1 = [ 0.38720291,  0.6170334 ,  1.3575343 ,  0.06852735,  0.2979859 , 0.01196117, 7.98339173738]\n",
    "gd_2 = [-0.34151137, -0.43818642,  1.48721481, -0.65192724,  0.55046177, 0.01478482, 8.28216808672]\n",
    "gd_3 = [ 0.22044356, -0.03968407, -0.2108969 ,  0.25643846,  0.17997737, 0.00104368, 7.83839721743]\n",
    "gd_4 = [  5.08011543e-01,   9.61926105e-01,   1.18588486e+00, -1.22263084e-01,  -9.58909993e-01,  -7.53080350e-04, 8.31196433005]\n",
    "gd_5 = [ -3.31640563e-01,   7.05312018e-02,   7.66855734e-01, 4.78101072e-16,   1.30142649e-01,   1.54756015e-03, 8.46744569939]\n",
    "\n",
    "ed = [-0.2529,-0.5355,-0.2411,0.1319,8.84130721381]\n",
    "ed_1 = [1.2004,-2.1618,0.0,1.6412,8.67028085972]\n",
    "ed_2 = [-1.1872,1.3869,0.0,-0.5365,8.70100044872]\n",
    "ed_3 = [-1.368,0.5593,0.0,0.4327,7.9939688955]\n",
    "ed_4 = [-2.5859,1.1579,-0.2749,0.0117,9.88449832052]\n",
    "ed_5 = [-1.4355,0.2174,0.0,0.0907,8.85713476559]\n",
    "\n",
    "gp = [ -5.79394428, -16.03602744,  16.81469781,  14.56978414]\n",
    "gp_1 = [ -8.40030539, -11.98444574,  18.38346948,  10.71352994]\n",
    "gp_2 = [-10.17055835,  -2.9336299 ,  22.35123782,   0.54050688]\n",
    "gp_3 = [ -0.25488576, -21.560419  ,  13.17436164,  17.98284953]\n",
    "gp_4 = [ -5.00790327, -13.37337951,  15.23204126,  13.27778045]\n",
    "gp_5 = [ -8.26148188, -12.47220116,  20.91674746,   7.82969123]"
   ]
  },
  {
   "cell_type": "code",
   "execution_count": 3,
   "metadata": {
    "collapsed": false
   },
   "outputs": [],
   "source": [
    "FEATURES = [\n",
    "    \"gd\",\n",
    "    \"ed\",\n",
    "    \"gp\",\n",
    "#    \"isr\",\n",
    "#    \"views\", \n",
    "    \"large\", \n",
    "     \"top\", \n",
    "#    \"speed_level\",\n",
    "    \"speed_level 1\",\n",
    "    \"speed_level 2\",\n",
    "    \"speed_level 3\",\n",
    "    \"price\",\n",
    "#    \"price_level 1\",\n",
    "#    \"price_level 2\",\n",
    "#    \"price_level 3\",\n",
    "]"
   ]
  },
  {
   "cell_type": "code",
   "execution_count": 4,
   "metadata": {
    "collapsed": true
   },
   "outputs": [],
   "source": [
    "def get_speed_level(speed_level):\n",
    "    if speed_level == 1:\n",
    "        #return  [1]\n",
    "        return [1,0,0]\n",
    "        #print X[-1], speed_level\n",
    "    elif speed_level == 2:\n",
    "        #return [0.4]\n",
    "        return [0,1,0]\n",
    "        #print X[-1], speed_level\n",
    "    elif speed_level == 3:\n",
    "        #return [0.1]\n",
    "        return [0,0,1]\n",
    "        #print X[-1], speed_level\n",
    "    else:\n",
    "        #return [0]\n",
    "        return [0,0,0]\n",
    "        #print X[-1], speed_level"
   ]
  },
  {
   "cell_type": "code",
   "execution_count": 5,
   "metadata": {
    "collapsed": false
   },
   "outputs": [],
   "source": [
    "def extract_data(clinic, clinic_estim):\n",
    "    all_proc = clinic['procedures']['diagnostics'] + clinic['procedures']['operations']\n",
    "    all_doc = clinic['doctors']\n",
    "    X = []\n",
    "    for doc in all_doc:\n",
    "        X+=[[]]\n",
    "        #gd 0-7\n",
    "        X[-1]+=[doc['degree'].count(u'Профессор')]\n",
    "        X[-1]+=[int(doc['top'])]\n",
    "        X[-1]+=[len(doc['illnesses'])]\n",
    "        X[-1]+=[len(doc['languages'])]\n",
    "        X[-1]+=[int(doc['h_index'])]\n",
    "        X[-1]+=[int(doc['experience'])]\n",
    "        X[-1]+=[1]\n",
    "        #ed 7-12\n",
    "        ids_diad = [i['id'] for i in doc['procedures']['diagnostics'] if i['top']=='1']\n",
    "        ids_oper = [i['id'] for i in doc['procedures']['operations'] if i['top']=='1']\n",
    "        X[-1]+=[len(list(set(ids_diad)))]\n",
    "        X[-1]+=[len(doc['procedures']['diagnostics'])]\n",
    "        X[-1]+=[len(list(set(ids_oper)))]\n",
    "        X[-1]+=[len(doc['procedures']['operations'])]\n",
    "        X[-1]+=[1]\n",
    "        #gp 12-16\n",
    "        X[-1]+=[sum([int(i['top']) for i in all_proc])] #top_proc_cli\n",
    "        X[-1]+=[len(all_proc)] #gen_proc_cli\n",
    "        X[-1]+=[sum([int(i['top']) for i in clinic['procedures']['operations']])] #top_oper_cli\n",
    "        X[-1]+=[len(clinic['procedures']['operations'])] #gen_oper_cli\n",
    "        #\n",
    "        c_id = int(clinic['country_id'])\n",
    "#        if c_id == 1:\n",
    "#            X[-1]+=[1]\n",
    "#        else:\n",
    "#            X[-1]+=[0]\n",
    "        #X[-1]+=[int(clinic['views'])]\n",
    "        X[-1]+=[int(clinic['large'])]\n",
    "        X[-1]+=[int(clinic['top'])]\n",
    "        #X[-1]+=[int(clinic['speed_level'])]\n",
    "        X[-1]+=get_speed_level(int(clinic['speed_level']))\n",
    "        #X[-1]+=get_speed_level(int(clinic['price_level']))\n",
    "        X[-1]+=[round(int(clinic['price_level'])/3.0,4)]\n",
    "    if clinic_estim != []:\n",
    "        y=[int(clinic_estim['rating'])] * len(all_doc)\n",
    "        return [X, y]\n",
    "    else:\n",
    "        return X"
   ]
  },
  {
   "cell_type": "code",
   "execution_count": 6,
   "metadata": {
    "collapsed": true
   },
   "outputs": [],
   "source": [
    "def normale(mat):\n",
    "    for i in range(0,len(mat[0])-1):\n",
    "        mass = [abs(k[i]) for k in mat]\n",
    "        m = max(mass)\n",
    "        if m>0:\n",
    "            for j in mat:\n",
    "                j[i] = round(j[i] / float(m), 4)"
   ]
  },
  {
   "cell_type": "code",
   "execution_count": 7,
   "metadata": {
    "collapsed": false
   },
   "outputs": [],
   "source": [
    "X_all, X_1, X_2, X_3, X_4, X_5, y_all, y_1, y_2, y_3, y_4, y_5 = get_X_sets(extract_data)\n",
    "normale(X_all)\n",
    "X_all=pack(X_all,gd, ed, gp)\n",
    "normale(X_all)\n",
    "\n",
    "normale(X_1)\n",
    "X_1=pack(X_1,gd_1, ed_1, gp_1)\n",
    "normale(X_1)\n",
    "\n",
    "normale(X_2)\n",
    "X_2=pack(X_2,gd_2, ed_2, gp_2)\n",
    "normale(X_2)\n",
    "\n",
    "normale(X_3)\n",
    "X_3=pack(X_3,gd_3, ed_3, gp_3)\n",
    "normale(X_3)\n",
    "\n",
    "normale(X_4)\n",
    "X_4=pack(X_4,gd_4, ed_4, gp_4)\n",
    "normale(X_4)\n",
    "\n",
    "normale(X_5)\n",
    "X_5=pack(X_5,gd_5, ed_5, gp_5)\n",
    "normale(X_5)"
   ]
  },
  {
   "cell_type": "code",
   "execution_count": null,
   "metadata": {
    "collapsed": false
   },
   "outputs": [],
   "source": [
    "for i in range(1,7):\n",
    "    print i\n",
    "    regr = process_with(X_all, y_all, info=True, ts=i/10.0)\n",
    "    print"
   ]
  },
  {
   "cell_type": "code",
   "execution_count": 8,
   "metadata": {
    "collapsed": false
   },
   "outputs": [
    {
     "name": "stdout",
     "output_type": "stream",
     "text": [
      "Total: 64, train: 44, test: 20\n",
      "Residual sum of squares: 8.23\n",
      "Train absolute: 1.73\n",
      "Test absolute: 2.13\n",
      "Absolute to mean: 34.32%\n",
      "Train variance score: 0.52\n",
      "Test variance score: -0.10\n",
      "10.255\n",
      "4.238\n",
      "-1.940\n",
      "3.737\n",
      "1.742\n",
      "-7.465\n",
      "-12.114\n",
      "-7.911\n",
      "3.126\n"
     ]
    }
   ],
   "source": [
    "regr = process_with(X_all, y_all, info=True, ts=0.3)"
   ]
  },
  {
   "cell_type": "code",
   "execution_count": null,
   "metadata": {
    "collapsed": false
   },
   "outputs": [],
   "source": [
    "print \"Features sorted by their score:\"\n",
    "#f = sorted(zip(map(lambda x: round(x, 4), regr.coef_), FEATURES), reverse=True)\n",
    "f = zip(map(lambda x: round(x, 4), regr.coef_), FEATURES)\n",
    "print len(FEATURES)\n",
    "for i in f:\n",
    "    #print \"%4f \\t %s\" %(i[0], i[1])\n",
    "    print i[0] #, i[1]\n",
    "print regr.intercept_"
   ]
  },
  {
   "cell_type": "code",
   "execution_count": null,
   "metadata": {
    "collapsed": false
   },
   "outputs": [],
   "source": [
    "f = sorted(zip(map(lambda x: round(x, 4), regr.coef_), FEATURES), reverse=True)\n",
    "ind = [map(lambda x: x[1], f).index(i) for i in FEATURES]\n",
    "for i in ind:\n",
    "    print i+1"
   ]
  },
  {
   "cell_type": "code",
   "execution_count": null,
   "metadata": {
    "collapsed": false
   },
   "outputs": [],
   "source": [
    "#with open('%s/меланома_все.json'%this_path) as data_file: #2\n",
    "with open('%s/рак_груди_все.json'%this_path) as data_file: #0\n",
    "#with open('%s/рак_простаты_все.json'%this_path) as data_file: #4\n",
    "#with open('%s/рак_шейки_матки_все.json'%this_path) as data_file: #1\n",
    "#with open('%s/рак_щитовидки_все.json'%this_path) as data_file: #3\n",
    "    cancer_data = json.load(data_file)[0]['clinics']\n",
    "X_test, names, ids = get_X_from(cancer_data, extract_data)\n",
    "normale(X_test)\n",
    "X_test = pack(X_test,gd_2, ed_2, gp_2)\n",
    "normale(X_test)"
   ]
  },
  {
   "cell_type": "code",
   "execution_count": null,
   "metadata": {
    "collapsed": false
   },
   "outputs": [],
   "source": [
    "import warnings\n",
    "warnings.filterwarnings(\"ignore\")\n",
    "results=[]\n",
    "for i in range(0, len(X_test)):\n",
    "    results += [(regr.predict(X_test[i])[0], names[i])]\n",
    "\n",
    "res=[]\n",
    "for n in set(names):\n",
    "    indices = [j for j, x in enumerate(results) if x[1] == n]\n",
    "    m = max([i[0] for i in results[min(indices):max(indices)+1]])\n",
    "    res+=[(m,n, ids[indices[0]])]\n",
    "\n",
    "for r in res:\n",
    "#for r in sorted(results, reverse=True):\n",
    "    #print \"%2.2f \\t %s\" % (r[0], r[1])\n",
    "    print r[0]"
   ]
  },
  {
   "cell_type": "code",
   "execution_count": null,
   "metadata": {
    "collapsed": false
   },
   "outputs": [],
   "source": [
    "pos = [10 - sorted(res, reverse=True).index(x) for x in res]\n",
    "for p in pos:\n",
    "    print p"
   ]
  },
  {
   "cell_type": "code",
   "execution_count": null,
   "metadata": {
    "collapsed": false,
    "scrolled": true
   },
   "outputs": [],
   "source": [
    "import warnings\n",
    "warnings.filterwarnings(\"ignore\")\n",
    "for i in range(0,len(y_2)):    \n",
    "    print \"Real: %f \\t Predicted: %f\" %(y_2[i], regr.predict(X_2[i]))\n",
    "    print X_2[i]\n",
    "    print\n",
    "    #print y_all[i]\n",
    "    #print regr.predict(X_all[i])[0]"
   ]
  },
  {
   "cell_type": "code",
   "execution_count": null,
   "metadata": {
    "collapsed": false
   },
   "outputs": [],
   "source": [
    "f=0\n",
    "for feature in [\"gd\", \"ed\", \"gp\"]:\n",
    "    k=0\n",
    "    for X in [X_1, X_2, X_3, X_4, X_5]:\n",
    "        k += 1\n",
    "        plt.plot(sorted([i[f] for i in X]))\n",
    "        #plt.show()\n",
    "        plt.savefig('%s - X%d.png' % (feature, k))\n",
    "        plt.clf()\n",
    "    f+=1"
   ]
  },
  {
   "cell_type": "code",
   "execution_count": null,
   "metadata": {
    "collapsed": false
   },
   "outputs": [],
   "source": [
    "f=0\n",
    "for feature in [\"gd\", \"ed\", \"gp\"]:\n",
    "    mass = [i[f] for i in X_all]\n",
    "    k=0\n",
    "    r=0\n",
    "    l=0\n",
    "    for length in [len(X_1), len(X_2), len(X_3), len(X_4), len(X_5)]:\n",
    "        l=r\n",
    "        r+=length\n",
    "        k+=1\n",
    "        plt.plot(sorted(mass[l:r]), label=\"X%d\"%k)\n",
    "        plt.ylim([min(mass),1])\n",
    "        legend = plt.legend(loc=4, shadow=True)\n",
    "        #plt.show()\n",
    "    plt.savefig('%s.png' % (feature))\n",
    "    plt.clf()\n",
    "    f+=1"
   ]
  },
  {
   "cell_type": "code",
   "execution_count": null,
   "metadata": {
    "collapsed": false
   },
   "outputs": [],
   "source": [
    "plt.plot([np.linalg.norm(i) for i in X_all], color='black')\n",
    "plt.xticks(())\n",
    "plt.yticks(())\n",
    "plt.show()"
   ]
  },
  {
   "cell_type": "code",
   "execution_count": null,
   "metadata": {
    "collapsed": false
   },
   "outputs": [],
   "source": [
    "f=0\n",
    "for feature in [\"gd\", \"ed\", \"gp\"]:\n",
    "    mass = [i[f] for i in X_all]\n",
    "    k=0\n",
    "    r=0\n",
    "    l=0\n",
    "    for length in [len(X_1), len(X_2), len(X_3), len(X_4), len(X_5)]:\n",
    "        l=r\n",
    "        r+=length\n",
    "        k+=1\n",
    "        plt.plot(y_all[l:r], [i[f] for i in X_all[l:r]], label=\"X%d\"%k)\n",
    "        plt.ylim([min(mass),1])\n",
    "        plt.xlim([0,11])\n",
    "        legend = plt.legend(loc=4, shadow=True)\n",
    "        plt.savefig('%s - X%d.png' % (feature, k))\n",
    "        plt.show()\n",
    "        plt.clf()\n",
    "    f+=1"
   ]
  },
  {
   "cell_type": "code",
   "execution_count": null,
   "metadata": {
    "collapsed": false
   },
   "outputs": [],
   "source": [
    "k=0\n",
    "r=0\n",
    "l=0\n",
    "for length in [len(X_1), len(X_2), len(X_3), len(X_4), len(X_5)]:\n",
    "    l=r\n",
    "    r+=length\n",
    "    k+=1\n",
    "    plt.plot(y_all[l:r], [np.linalg.norm(i[2]) for i in X_all[l:r]], label=\"X%d\"%k)\n",
    "    legend = plt.legend(loc=4, shadow=True)\n",
    "    plt.xlim([0,11])\n",
    "    plt.savefig('gp norms - X%d.png'%k)\n",
    "    plt.clf()"
   ]
  },
  {
   "cell_type": "code",
   "execution_count": null,
   "metadata": {
    "collapsed": false
   },
   "outputs": [],
   "source": [
    "print FEATURES[2]\n",
    "print [i[0] for i in X_1]\n",
    "print [i for i in y_1]"
   ]
  },
  {
   "cell_type": "code",
   "execution_count": null,
   "metadata": {
    "collapsed": false
   },
   "outputs": [],
   "source": [
    "for k in range(0,26):\n",
    "    print FEATURES[k], 10 - [i[k] for i in X].count(0)"
   ]
  },
  {
   "cell_type": "code",
   "execution_count": null,
   "metadata": {
    "collapsed": false
   },
   "outputs": [],
   "source": [
    "x = [i[-2] for i in X_all]\n",
    "y_top = []\n",
    "y_n_top = []\n",
    "for l in range(0, len(x)):\n",
    "    if x:\n",
    "        y_top += [y[l]]\n",
    "    else:\n",
    "        y_n_top += [y[l]]\n",
    "#for l in range(0, len(x)):\n",
    "    #print x[l], y[l]"
   ]
  },
  {
   "cell_type": "code",
   "execution_count": null,
   "metadata": {
    "collapsed": false
   },
   "outputs": [],
   "source": [
    "for i in range(1,11):\n",
    "    print i, y_top.count(i)"
   ]
  },
  {
   "cell_type": "code",
   "execution_count": null,
   "metadata": {
    "collapsed": false
   },
   "outputs": [],
   "source": [
    "plt.plot( x, y_all, 'ro')\n",
    "plt.show()"
   ]
  },
  {
   "cell_type": "code",
   "execution_count": null,
   "metadata": {
    "collapsed": false
   },
   "outputs": [],
   "source": [
    "#for table filling\n",
    "res_X = []\n",
    "res_y = []\n",
    "for X,y in [(X_1, y_1),(X_2, y_2),(X_3, y_3),(X_4, y_4),(X_5, y_5)]:\n",
    "#for X,y in [(X_5, y_5)]:\n",
    "    for i in range(10,0,-1):\n",
    "        try:\n",
    "            indices = [j for j, x in enumerate(y) if x == i]\n",
    "            res_X += [max(regr.predict(X[min(indices):max(indices)+1]))]\n",
    "            res_y += [i]\n",
    "            #print res_X[-1], res_y[-1]\n",
    "        except Exception, err:\n",
    "            #print err, i, indices\n",
    "            pass\n",
    "for x in res_X:\n",
    "    print x"
   ]
  },
  {
   "cell_type": "code",
   "execution_count": null,
   "metadata": {
    "collapsed": false
   },
   "outputs": [],
   "source": [
    "pl = [ round(3*i[-1],0) for i in X_all]\n",
    "plt.hist(pl, bins=4)\n",
    "plt.title(\"Price level distribution\")\n",
    "plt.xlabel(\"Price level\")\n",
    "plt.ylabel(\"Frequency\")\n",
    "\n",
    "plt.show()"
   ]
  },
  {
   "cell_type": "code",
   "execution_count": null,
   "metadata": {
    "collapsed": false
   },
   "outputs": [],
   "source": [
    "indices = [i for i, x in enumerate(y_1) if x == 2]\n",
    "print indices\n",
    "for ind in indices:\n",
    "    print regr.predict(X_1[ind])\n",
    "\n",
    "print max(regr.predict(X_1[min(indices):max(indices)+1]))"
   ]
  },
  {
   "cell_type": "code",
   "execution_count": null,
   "metadata": {
    "collapsed": false
   },
   "outputs": [],
   "source": [
    "import xlsxwriter\n",
    "\n",
    "workbook = xlsxwriter.Workbook('Positions.xlsx')\n",
    "#list 1\n",
    "worksheet = workbook.add_worksheet(\"Рак кожи\")\n",
    "worksheet.freeze_panes(1, 0)\n",
    "col = 0\n",
    "row = 0\n",
    "\n",
    "temp = [u\"Клиника\", u\"Оценка (все)\", u\"Позиция (все)\", u\"Оценка (свои)\", u\"Позиция (свои)\", u\"Оценка (свои+vec pl)\", u\"Позиция (свои+vec pl)\", u\"Оценка врача\", u\"Позиция врача\", u\"Позиция на сайте\"]\n",
    "for i in temp:\n",
    "    worksheet.write(row, col, i)\n",
    "    col+=1\n",
    "\n",
    "row=1\n",
    "col=0\n",
    "\n",
    "# num and clinic name for any model\n",
    "for i, el in enumerate(zip(res,pos)):\n",
    "    worksheet.write(row, 0, i)\n",
    "    print el[0][1]\n",
    "    worksheet.write_string(row, 1, el[0][1].encode('utf-8').replace('ё', 'е'))\n",
    "    row+=1\n",
    "\n",
    "#rate and pos of model\n",
    "for el in zip(res,pos):    \n",
    "    worksheet.write(row, 2, el[0][0])\n",
    "    worksheet.write(row, 3, el[1])\n",
    "\n",
    "workbook.close()"
   ]
  },
  {
   "cell_type": "code",
   "execution_count": 22,
   "metadata": {
    "collapsed": false
   },
   "outputs": [],
   "source": [
    "#creare xlsx file for model trained on ALL data\n",
    "\n",
    "import xlsxwriter\n",
    "\n",
    "#pre\n",
    "f = zip(map(lambda x: round(x, 4), regr.coef_), FEATURES)\n",
    "#for table filling\n",
    "res_X = []\n",
    "res_y = []\n",
    "t_amounts = [0]\n",
    "amounts = []\n",
    "for X,y in [(X_1, y_1),(X_2, y_2),(X_3, y_3),(X_4, y_4),(X_5, y_5)]:\n",
    "    for i in range(10,0,-1):\n",
    "        try:\n",
    "            indices = [j for j, x in enumerate(y) if x == i]\n",
    "            res_X += [max(regr.predict(X[min(indices):max(indices)+1]))]\n",
    "            res_y += [i]\n",
    "            #print res_X[-1], res_y[-1]\n",
    "        except Exception, err:\n",
    "            #print err, i, indices\n",
    "            pass\n",
    "    t_amounts += [len(res_y)]\n",
    "\n",
    "\n",
    "for i in range(1, len(t_amounts)):\n",
    "    amounts += [t_amounts[i] - t_amounts[i-1]]\n",
    "    \n",
    "l=0\n",
    "r=0\n",
    "all_pos_model = []\n",
    "all_pos_doctor = []\n",
    "seq_pr = []\n",
    "top_3 = []\n",
    "top_3_strict = []\n",
    "for i in amounts:\n",
    "    l=r\n",
    "    r+=i\n",
    "    pos_for_x = [10-sorted(res_X[l:r], reverse=True).index(x) for x in res_X[l:r]]\n",
    "    all_pos_model += pos_for_x\n",
    "    all_pos_doctor += [10-sorted(res_y[l:r], reverse=True).index(x) for x in res_y[l:r]]\n",
    "    seq_pr += [seq_procent(pos_for_x)]\n",
    "    top_3 += [len(set([10,9,8]).intersection(pos_for_x[0:3]))]\n",
    "    top_3_strict += [sum(pos_for_x[0:3] == np.array([10,9,8]))]\n",
    "\n",
    "ranges = []\n",
    "r=1\n",
    "for a in amounts:\n",
    "    l=r+1\n",
    "    r=l+a-1\n",
    "    ranges+= [(l,r)]\n",
    "\n",
    "\n",
    "illnesses = [u\"Рак кожи\", u\"Рак груди\", u\"Рак простаты\", u\"Рак шейки матки\", u\"Рак щитовидки\"]\n",
    "\n",
    "\n",
    "workbook = xlsxwriter.Workbook('Model_speed_level_new_data.xls')\n",
    "\n",
    "#list 1\n",
    "worksheet = workbook.add_worksheet(\"coef\")\n",
    "worksheet.write(0, 0, \"f\")\n",
    "worksheet.write(0, 2, \"rating\")\n",
    "\n",
    "row = 1\n",
    "col = 2\n",
    "\n",
    "for num, feat in f:\n",
    "    worksheet.write(row, col, feat)\n",
    "    worksheet.write(row, col+1, num)\n",
    "    row+=1\n",
    "\n",
    "worksheet.write(row, col, \"intercept\")\n",
    "worksheet.write(row, col+1, regr.intercept_)\n",
    "row+=2\n",
    "col=0\n",
    "\n",
    "r=row\n",
    "\n",
    "worksheet.write(row, col, \"GD\")\n",
    "worksheet.write(row, col+2, \"specialist\")\n",
    "row+=1\n",
    "\n",
    "f_ = zip(map(lambda x: round(x, 4), gd), [\"deg\", \"top\", \"illn\", \"lang\", \"h_index\", \"exp\", \"intercept\"])\n",
    "for i, el in enumerate(f_):\n",
    "    worksheet.write(row, col, \"c_%d\"%i)\n",
    "    worksheet.write(row, col+1, el[0])\n",
    "    worksheet.write(row, col+2, el[1])\n",
    "    row+=1\n",
    "\n",
    "row = r\n",
    "col += 4\n",
    "worksheet.write(row, col, \"ED\")\n",
    "worksheet.write(row, col+2, \"experience\")\n",
    "row+=1\n",
    "\n",
    "f_ = zip(map(lambda x: round(x, 4), ed), [\"top_diag\", \"gen_diag\", \"top_oper\", \"gen_oper\", \"intercept\"])\n",
    "for i, el in enumerate(f_):\n",
    "    worksheet.write(row, col, \"c_%d\"%i)\n",
    "    worksheet.write(row, col+1, el[0])\n",
    "    worksheet.write(row, col+2, el[1])\n",
    "    row+=1\n",
    "    \n",
    "\n",
    "row = r\n",
    "col += 4\n",
    "worksheet.write(row, col, \"GP\")\n",
    "worksheet.write(row, col+2, \"experience\")\n",
    "row+=1\n",
    "\n",
    "f_ = zip(map(lambda x: round(x, 4), gp), [\"top_diag\", \"gen_diag\", \"top_oper\", \"gen_oper\"])\n",
    "for i, el in enumerate(f_):\n",
    "    worksheet.write(row, col, \"c_%d\"%i)\n",
    "    worksheet.write(row, col+1, el[0])\n",
    "    worksheet.write(row, col+2, el[1])\n",
    "    row+=1\n",
    "\n",
    "    \n",
    "#list 2\n",
    "worksheet = workbook.add_worksheet(\"tabl\")\n",
    "worksheet.freeze_panes(1, 0)\n",
    "col = 0\n",
    "row = 0\n",
    "\n",
    "for i in [u\"Болезнь\", u\"Клиника\", u\"Оценка врача\", u\"Оценка модели\", u\"Позиция врача\", u\"Позиция модели\", u\"Разница оценок врача и модели\", u\"Разница позиций врача и модели\"]:\n",
    "    worksheet.write(row, col, i)\n",
    "    col+=1\n",
    "\n",
    "col=0\n",
    "row=1\n",
    "temp = sum([[i[0]]*i[1] for i in zip(illnesses, amounts)],[])\n",
    "for i in temp:\n",
    "    worksheet.write(row, col, i)\n",
    "    row+=1\n",
    "\n",
    "col=1\n",
    "row=1\n",
    "temp = get_clinic_names_all()\n",
    "for i in temp:\n",
    "    worksheet.write(row, col, i)\n",
    "    row+=1\n",
    "    \n",
    "col=2\n",
    "row=1\n",
    "for i in res_y:\n",
    "    worksheet.write(row, col, i)\n",
    "    row+=1\n",
    "\n",
    "col=3\n",
    "row=1\n",
    "for i in res_X:\n",
    "    worksheet.write(row, col, i)\n",
    "    row+=1\n",
    "    \n",
    "col=4\n",
    "row=1\n",
    "for i in all_pos_doctor:\n",
    "    worksheet.write(row, col, i)\n",
    "    row+=1\n",
    "\n",
    "col=5\n",
    "row=1\n",
    "for i in all_pos_model:\n",
    "    worksheet.write(row, col, i)\n",
    "    row+=1\n",
    "\n",
    "\n",
    "col=6\n",
    "row=1\n",
    "for i in range(0, sum(amounts)):\n",
    "    worksheet.write_formula(row, col, '=C%d-D%d'%(row+1,row+1))\n",
    "    worksheet.write_formula(row, col+1, '=E%d-F%d'%(row+1,row+1))\n",
    "    worksheet.write_formula(row, col+2, '=ABS(G%d)'%(row+1))\n",
    "    worksheet.write_formula(row, col+3, '=ABS(H%d)'%(row+1))\n",
    "    row+=1\n",
    "\n",
    "for l,r in ranges:\n",
    "    worksheet.write_formula('K%d' % r, '=AVERAGE(I%d:I%d)'%(l,r))\n",
    "    worksheet.write_formula('L%d' % r, '=AVERAGE(J%d:J%d)'%(l,r))\n",
    "\n",
    "#list 3\n",
    "worksheet = workbook.add_worksheet(\"stat\")\n",
    "worksheet.freeze_panes(1, 0)\n",
    "col = 1\n",
    "row = 0\n",
    "\n",
    "for i in [ u\"Среднее по оценке\", u\"Среднее по позиции\", u\"% последовательности\", u\"топ-3 с 10\", u\"топ-3\"]:\n",
    "    worksheet.write(row, col, i)\n",
    "    col+=1\n",
    "\n",
    "col=0\n",
    "row=1\n",
    "for i in illnesses + ['', u\"Итого\"]:\n",
    "    worksheet.write(row, col, i)\n",
    "    row+=1\n",
    "\n",
    "col=1    \n",
    "row=1\n",
    "for i in [i[1] for i in ranges]:\n",
    "    worksheet.write(row, col, \"='tabl'!K%d\"%(i))\n",
    "    worksheet.write(row, col+1, \"='tabl'!L%d\"%(i))\n",
    "    row+=1\n",
    "\n",
    "col=3\n",
    "row=1\n",
    "for i in zip(seq_pr,top_3_strict, top_3):\n",
    "    worksheet.write(row, col, i[0])\n",
    "    worksheet.write(row, col+1, i[1])\n",
    "    worksheet.write(row, col+2, i[2])\n",
    "    row+=1\n",
    "    \n",
    "row+=1\n",
    "col=1\n",
    "for i in ['B', 'C', 'D', 'E', 'F']:\n",
    "    worksheet.write_formula(row, col, '=AVERAGE(%s2:%s6)'%(i,i))\n",
    "    col+=1\n",
    "\n",
    "workbook.close()"
   ]
  }
 ],
 "metadata": {
  "kernelspec": {
   "display_name": "Python 2",
   "language": "python",
   "name": "python2"
  },
  "language_info": {
   "codemirror_mode": {
    "name": "ipython",
    "version": 2
   },
   "file_extension": ".py",
   "mimetype": "text/x-python",
   "name": "python",
   "nbconvert_exporter": "python",
   "pygments_lexer": "ipython2",
   "version": "2.7.6"
  }
 },
 "nbformat": 4,
 "nbformat_minor": 0
}
