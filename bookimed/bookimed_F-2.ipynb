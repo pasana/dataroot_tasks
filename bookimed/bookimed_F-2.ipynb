{
 "cells": [
  {
   "cell_type": "code",
   "execution_count": null,
   "metadata": {
    "collapsed": false
   },
   "outputs": [],
   "source": [
    "import json\n",
    "import matplotlib.pyplot as plt\n",
    "import numpy as np\n",
    "from sklearn import datasets, linear_model\n",
    "from sklearn import preprocessing\n",
    "from sklearn import cross_validation"
   ]
  },
  {
   "cell_type": "code",
   "execution_count": null,
   "metadata": {
    "collapsed": true
   },
   "outputs": [],
   "source": [
    "gd = [0.06, 0.223, 0.372, 0.196, -0.135, 0.426, 8.37]\n",
    "gd_1 = [0.0508,1.1461,-0.3277,-0.2838,-0.4065,0.0431,8.48847328196] #X_1\n",
    "gd_2 = [0.4539,-0.9662,-0.1322,-0.0,-0.7994,0.0441,8.12947125898] #X_2\n",
    "gd_3 = [0.1704,-0.0947,-0.4962,-0.0,0.1037,0.0109,7.89770339493] #X_3\n",
    "gd_4 = [0.8576,-0.8836,2.9865,0.0,-1.8508,-0.0143,8.33126119382] #X_4\n",
    "gd_5 = [1.1957,-0.693,0.0005,-0.0,-0.6442,0.0293,8.21512214126] #X_5\n",
    "ed = [-2.82, -1.104, 0.827, 0.96, 9.471]\n",
    "ed_1 = [-2.147,-0.398,0.0,1.3791,9.6361887613] #X_1\n",
    "ed_2 = [-0.4101,-0.9549,0.0,0.7409,8.82618121612] #X_2\n",
    "ed_3 = [-1.7345,1.102,0.0,0.2559,7.82148744848] #X_3\n",
    "ed_4 = [-3.9587,0.1358,0.8394,1.6839,9.56795015331] #X_4\n",
    "ed_5 = [-1.8173,1.0672,0.0,-0.4283,9.10474754996] #X_5\n",
    "gp = [-3.094, -7.545, 11.025, 9.011]\n",
    "gp_1 = [-5.4733,-5.8343,10.7325,9.6022] #X_1\n",
    "gp_2 = [-4.6902,-2.5154,16.9676,0.1287] #X_2\n",
    "gp_3 = [-2.2335,-8.7922,6.2464,13.6984] #X_3\n",
    "gp_4 = [-3.0828,-5.5514,10.5674,8.1592] #X_4\n",
    "gp_5 = [-5.0835,-16.6975,7.5219,23.5545] #X_5"
   ]
  },
  {
   "cell_type": "code",
   "execution_count": null,
   "metadata": {
    "collapsed": false
   },
   "outputs": [],
   "source": [
    "FEATURES = [\n",
    "    \"gd\",\n",
    "    \"ed\",\n",
    "    \"gp\",\n",
    "#    \"isr\",\n",
    "#    \"views\", \n",
    "    \"large\", \n",
    "     \"top\", \n",
    "#    \"speed_level\",\n",
    "    \"speed_level 1\",\n",
    "    \"speed_level 2\",\n",
    "    \"speed_level 3\",\n",
    "    \"price\",\n",
    "#    \"price_level 1\",\n",
    "#    \"price_level 2\",\n",
    "#    \"price_level 3\",\n",
    "]"
   ]
  },
  {
   "cell_type": "code",
   "execution_count": null,
   "metadata": {
    "collapsed": true
   },
   "outputs": [],
   "source": [
    "def get_speed_level(speed_level):\n",
    "    if speed_level == 1:\n",
    "        #return  [1]\n",
    "        return [1,0,0]\n",
    "        #print X[-1], speed_level\n",
    "    elif speed_level == 2:\n",
    "        #return [0.4]\n",
    "        return [0,1,0]\n",
    "        #print X[-1], speed_level\n",
    "    elif speed_level == 3:\n",
    "        #return [0.1]\n",
    "        return [0,0,1]\n",
    "        #print X[-1], speed_level\n",
    "    else:\n",
    "        #return [0]\n",
    "        return [0,0,0]\n",
    "        #print X[-1], speed_level"
   ]
  },
  {
   "cell_type": "code",
   "execution_count": null,
   "metadata": {
    "collapsed": false
   },
   "outputs": [],
   "source": [
    "def extract_data(clinic, clinic_estim):\n",
    "    all_proc = clinic['procedures']['diagnostics'] + clinic['procedures']['operations']\n",
    "    all_doc = clinic['doctors']\n",
    "    X = []\n",
    "    for doc in all_doc:\n",
    "        X+=[[]]\n",
    "        #gd 0-7\n",
    "        X[-1]+=[doc['degree'].count(u'Профессор')]\n",
    "        X[-1]+=[int(doc['top'])]\n",
    "        X[-1]+=[len(doc['illnesses'])]\n",
    "        X[-1]+=[len(doc['languages'])]\n",
    "        X[-1]+=[int(doc['h_index'])]\n",
    "        X[-1]+=[int(doc['experience'])]\n",
    "        X[-1]+=[1]\n",
    "        #ed 7-12\n",
    "        ids_diad = [i['id'] for i in doc['procedures']['diagnostics'] if i['top']=='1']\n",
    "        ids_oper = [i['id'] for i in doc['procedures']['operations'] if i['top']=='1']\n",
    "        X[-1]+=[len(list(set(ids_diad)))]\n",
    "        X[-1]+=[len(doc['procedures']['diagnostics'])]\n",
    "        X[-1]+=[len(list(set(ids_oper)))]\n",
    "        X[-1]+=[len(doc['procedures']['operations'])]\n",
    "        X[-1]+=[1]\n",
    "        #gp 12-16\n",
    "        X[-1]+=[sum([int(i['top']) for i in all_proc])] #top_proc_cli\n",
    "        X[-1]+=[len(all_proc)] #gen_proc_cli\n",
    "        X[-1]+=[sum([int(i['top']) for i in clinic['procedures']['operations']])] #top_oper_cli\n",
    "        X[-1]+=[len(clinic['procedures']['operations'])] #gen_oper_cli\n",
    "        #\n",
    "        c_id = int(clinic['country_id'])\n",
    "#        if c_id == 1:\n",
    "#            X[-1]+=[1]\n",
    "#        else:\n",
    "#            X[-1]+=[0]\n",
    "        #X[-1]+=[int(clinic['views'])]\n",
    "        X[-1]+=[int(clinic['large'])]\n",
    "        X[-1]+=[int(clinic['top'])]\n",
    "        #X[-1]+=[int(clinic['speed_level'])]\n",
    "        X[-1]+=get_speed_level(int(clinic['speed_level']))\n",
    "        #X[-1]+=[round(1-int(clinic_estim['price'])/10.0,4)]\n",
    "        X[-1]+=get_speed_level(int(clinic['price_level']))\n",
    "        #X[-1]+=[round(int(clinic['price_level'])/3.0,4)]\n",
    "    if clinic_estim != []:\n",
    "        y=[int(clinic_estim['rating'])] * len(all_doc)\n",
    "        return [X, y]\n",
    "    else:\n",
    "        return X"
   ]
  },
  {
   "cell_type": "code",
   "execution_count": null,
   "metadata": {
    "collapsed": true
   },
   "outputs": [],
   "source": [
    "def get_X_y_from(t_data):\n",
    "    clinic_ids = [i['id'] for i in t_data]\n",
    "    t_cleaned_data = [extract_data(cancer_data[clinic_ids.index(i['id'])], i) for i in estims_data]\n",
    "    #t_cleaned_data = [extract_data(i,[]) for i in t_data]\n",
    "    X = sum([i[0] for i in t_cleaned_data],[])\n",
    "    y = sum([i[1] for i in t_cleaned_data],[])\n",
    "    return X,y"
   ]
  },
  {
   "cell_type": "code",
   "execution_count": null,
   "metadata": {
    "collapsed": true
   },
   "outputs": [],
   "source": [
    "def get_X_from(t_data):\n",
    "    t_cleaned_data = []\n",
    "    clinic_names = []\n",
    "    ids = []\n",
    "    for i in t_data:\n",
    "        if i['doctors']!=[]:\n",
    "            t_cleaned_data += [extract_data(i,[])]\n",
    "            clinic_names += [unicode(i['name_ru'])] * len(i['doctors'])\n",
    "            ids += [int(i['id'])] * len(i['doctors'])\n",
    "    X = sum([i for i in t_cleaned_data],[])\n",
    "    return X, clinic_names, ids"
   ]
  },
  {
   "cell_type": "code",
   "execution_count": null,
   "metadata": {
    "collapsed": true
   },
   "outputs": [],
   "source": [
    "def normale(mat):\n",
    "    for i in range(0,len(mat[0])-1):\n",
    "        mass = [abs(k[i]) for k in mat]\n",
    "        m = max(mass)\n",
    "        if m>0:\n",
    "            for j in mat:\n",
    "                j[i] = round(j[i] / float(m), 4)"
   ]
  },
  {
   "cell_type": "code",
   "execution_count": null,
   "metadata": {
    "collapsed": false
   },
   "outputs": [],
   "source": [
    "def pack(X, gd, ed, gp):\n",
    "    new_X = []\n",
    "    for x in X:\n",
    "        new_X+= [sum([\n",
    "            [round(sum(np.array(gd)*np.array(x[0:7])),5)],\n",
    "            [round(sum(np.array(ed)*np.array(x[7:12])),5)],\n",
    "            [round(sum(np.array(gp)*np.array(x[12:16])),5)],\n",
    "            x[16:]\n",
    "        ],[])]\n",
    "    return new_X"
   ]
  },
  {
   "cell_type": "code",
   "execution_count": null,
   "metadata": {
    "collapsed": true
   },
   "outputs": [],
   "source": [
    "def process_with(X,y, info=False, short=False, return_short = False, new_coef = [], ts=0.2):\n",
    "    train_X, test_X, train_y, test_y = cross_validation.train_test_split(X, y, test_size = ts, random_state = 3)\n",
    "    regr = linear_model.LinearRegression(fit_intercept=True, normalize=True)\n",
    "    if new_coef != []:\n",
    "        print \"new coefs\"\n",
    "        regr.coef_ = new_coef\n",
    "    regr.fit(train_X, train_y)\n",
    "    if info:\n",
    "        print \"Total: %d, train: %d, test: %d\" %(len(X), len(train_X), len(test_X))\n",
    "        print(\"Residual sum of squares: %.2f\"% np.mean((regr.predict(test_X) - test_y) ** 2))\n",
    "        print(\"Train absolute: %.2f\"% np.mean(abs(regr.predict(train_X) - train_y)))\n",
    "        print(\"Test absolute: %.2f\"% np.mean(abs(regr.predict(test_X) - test_y)))\n",
    "        print(\"Absolute to mean: %.2f%%\"% (np.mean(abs(regr.predict(test_X) - test_y))/np.mean(test_y)*100))\n",
    "        print('Train variance score: %.2f' % regr.score(train_X, train_y))\n",
    "        print('Test variance score: %.2f' % regr.score(test_X, test_y))\n",
    "    if short:\n",
    "        print np.mean(abs(regr.predict(test_X) - test_y)),regr.score(test_X, test_y)\n",
    "    if return_short:\n",
    "        return np.mean(abs(regr.predict(test_X) - test_y)),regr.score(test_X, test_y)\n",
    "    return regr"
   ]
  },
  {
   "cell_type": "code",
   "execution_count": null,
   "metadata": {
    "collapsed": false
   },
   "outputs": [],
   "source": [
    "X_all, y_all = [], []\n",
    "\n",
    "with open('./max/estims.json') as data_file: \n",
    "    estims_data = json.load(data_file)[2]['clinics']\n",
    "with open('./max/меланома_все.json') as data_file: #2\n",
    "    cancer_data = json.load(data_file)[0]['clinics']\n",
    "X_1, y_1 = get_X_y_from(cancer_data)\n",
    "X_all+=X_1\n",
    "y_all+=y_1\n",
    "    \n",
    "with open('./max/estims.json') as data_file: \n",
    "    estims_data = json.load(data_file)[0]['clinics']\n",
    "with open('./max/рак_груди_все.json') as data_file: #0\n",
    "    cancer_data = json.load(data_file)[0]['clinics']\n",
    "X_2, y_2 = get_X_y_from(cancer_data)\n",
    "X_all+=X_2\n",
    "y_all+=y_2\n",
    "    \n",
    "with open('./max/estims.json') as data_file: \n",
    "    estims_data = json.load(data_file)[4]['clinics']    \n",
    "with open('./max/рак_простаты_все.json') as data_file: #4\n",
    "    cancer_data = json.load(data_file)[0]['clinics']\n",
    "clinic_ids = [i['id'] for i in estims_data]\n",
    "estims_data.pop(clinic_ids.index('0'))\n",
    "X_3, y_3 = get_X_y_from(cancer_data)\n",
    "X_all+=X_3\n",
    "y_all+=y_3\n",
    "\n",
    "with open('./max/estims.json') as data_file: \n",
    "    estims_data = json.load(data_file)[1]['clinics']     \n",
    "with open('./max/рак_шейки_матки_все.json') as data_file: #1\n",
    "    cancer_data = json.load(data_file)[0]['clinics']\n",
    "X_4, y_4 = get_X_y_from(cancer_data)\n",
    "X_all+=X_4\n",
    "y_all+=y_4\n",
    "    \n",
    "with open('./max/estims.json') as data_file: \n",
    "    estims_data = json.load(data_file)[3]['clinics']         \n",
    "with open('./max/рак_щитовидки_все.json') as data_file: #3\n",
    "    cancer_data = json.load(data_file)[0]['clinics']\n",
    "X_5, y_5 = get_X_y_from(cancer_data)\n",
    "X_all+=X_5\n",
    "y_all+=y_5\n",
    "\n",
    "normale(X_all)\n",
    "X_all=pack(X_all,gd, ed, gp)\n",
    "normale(X_all)\n",
    "\n",
    "normale(X_1)\n",
    "X_1=pack(X_1,gd_1, ed_1, gp_1)\n",
    "normale(X_1)\n",
    "\n",
    "normale(X_2)\n",
    "X_2=pack(X_2,gd_2, ed_2, gp_2)\n",
    "normale(X_2)\n",
    "\n",
    "normale(X_3)\n",
    "X_3=pack(X_3,gd_3, ed_3, gp_3)\n",
    "normale(X_3)\n",
    "\n",
    "normale(X_4)\n",
    "X_4=pack(X_4,gd_4, ed_4, gp_4)\n",
    "normale(X_4)\n",
    "\n",
    "normale(X_5)\n",
    "X_5=pack(X_5,gd_5, ed_5, gp_5)\n",
    "normale(X_5)"
   ]
  },
  {
   "cell_type": "code",
   "execution_count": null,
   "metadata": {
    "collapsed": false
   },
   "outputs": [],
   "source": [
    "for i in range(1,7):\n",
    "    print i\n",
    "    regr = process_with(X_4, y_4, info=True, ts=i/10.0)\n",
    "    print"
   ]
  },
  {
   "cell_type": "code",
   "execution_count": null,
   "metadata": {
    "collapsed": false
   },
   "outputs": [],
   "source": [
    "regr = process_with(X_all, y_all, info=True, ts=0.1)"
   ]
  },
  {
   "cell_type": "code",
   "execution_count": null,
   "metadata": {
    "collapsed": false
   },
   "outputs": [],
   "source": [
    "print \"Features sorted by their score:\"\n",
    "#f = sorted(zip(map(lambda x: round(x, 4), regr.coef_), FEATURES), reverse=True)\n",
    "f = zip(map(lambda x: round(x, 4), regr.coef_), FEATURES)\n",
    "print len(FEATURES)\n",
    "for i in f:\n",
    "    #print \"%4f \\t %s\" %(i[0], i[1])\n",
    "    print i[0] #, i[1]\n",
    "print regr.intercept_"
   ]
  },
  {
   "cell_type": "code",
   "execution_count": null,
   "metadata": {
    "collapsed": false
   },
   "outputs": [],
   "source": [
    "f = sorted(zip(map(lambda x: round(x, 4), regr.coef_), FEATURES), reverse=True)\n",
    "ind = [map(lambda x: x[1], f).index(i) for i in FEATURES]\n",
    "for i in ind:\n",
    "    print i+1"
   ]
  },
  {
   "cell_type": "code",
   "execution_count": null,
   "metadata": {
    "collapsed": false
   },
   "outputs": [],
   "source": [
    "#with open('./max/меланома_все.json') as data_file: #2\n",
    "#with open('./max/рак_груди_все.json') as data_file: #0\n",
    "with open('./max/рак_простаты_все.json') as data_file: #4\n",
    "#with open('./max/рак_шейки_матки_все.json') as data_file: #1\n",
    "#with open('./max/рак_щитовидки_все.json') as data_file: #3\n",
    "    cancer_data = json.load(data_file)[0]['clinics']\n",
    "X_test, names, ids = get_X_from(cancer_data)\n",
    "normale(X_test)\n",
    "X_test = pack(X_test,gd_3, ed_3, gp_3)\n",
    "normale(X_test)"
   ]
  },
  {
   "cell_type": "code",
   "execution_count": null,
   "metadata": {
    "collapsed": false
   },
   "outputs": [],
   "source": [
    "import warnings\n",
    "warnings.filterwarnings(\"ignore\")\n",
    "results=[]\n",
    "for i in range(0, len(X_test)):\n",
    "    results += [(regr.predict(X_test[i])[0], names[i])]\n",
    "\n",
    "res=[]\n",
    "for n in set(names):\n",
    "    indices = [j for j, x in enumerate(results) if x[1] == n]\n",
    "    m = max([i[0] for i in results[min(indices):max(indices)+1]])\n",
    "    res+=[(m,n, ids[indices[0]])]\n",
    "\n",
    "for r in res:\n",
    "#for r in sorted(results, reverse=True):\n",
    "    #print \"%2.2f \\t %s\" % (r[0], r[1])\n",
    "    print r[0]"
   ]
  },
  {
   "cell_type": "code",
   "execution_count": null,
   "metadata": {
    "collapsed": false
   },
   "outputs": [],
   "source": [
    "pos = [10 - sorted(res, reverse=True).index(x) for x in res]\n",
    "for p in pos:\n",
    "    print p"
   ]
  },
  {
   "cell_type": "code",
   "execution_count": null,
   "metadata": {
    "collapsed": false
   },
   "outputs": [],
   "source": [
    "def seq_procent(input_array):\n",
    "    new_pos=np.array(input_array)\n",
    "    straight = np.array([i for i in range(max(new_pos), min(new_pos)-1, -1)])\n",
    "    inversions = abs(straight - new_pos)\n",
    "    while not np.array_equal(inversions, np.zeros(len(inversions))):\n",
    "        new_pos=np.delete(new_pos, inversions.argmax())\n",
    "        new_pos = [10 - sorted(new_pos, reverse=True).index(x) for x in new_pos]\n",
    "        straight = np.array([i for i in range(max(new_pos), min(new_pos)-1, -1)])\n",
    "    return 100*len(new_pos)/float(len(input_array))"
   ]
  },
  {
   "cell_type": "code",
   "execution_count": null,
   "metadata": {
    "collapsed": false
   },
   "outputs": [],
   "source": [
    "b1 = [10,7,9,8]\n",
    "b2= [10, 9, 8]\n",
    "len(set(b1).intersection(b2[0:2]))"
   ]
  },
  {
   "cell_type": "code",
   "execution_count": null,
   "metadata": {
    "collapsed": false,
    "scrolled": true
   },
   "outputs": [],
   "source": [
    "import warnings\n",
    "warnings.filterwarnings(\"ignore\")\n",
    "for i in range(0,len(y_2)):    \n",
    "    print \"Real: %f \\t Predicted: %f\" %(y_2[i], regr.predict(X_2[i]))\n",
    "    print X_2[i]\n",
    "    print\n",
    "    #print y_all[i]\n",
    "    #print regr.predict(X_all[i])[0]"
   ]
  },
  {
   "cell_type": "code",
   "execution_count": null,
   "metadata": {
    "collapsed": false
   },
   "outputs": [],
   "source": [
    "f=0\n",
    "for feature in [\"gd\", \"ed\", \"gp\"]:\n",
    "    k=0\n",
    "    for X in [X_1, X_2, X_3, X_4, X_5]:\n",
    "        k += 1\n",
    "        plt.plot(sorted([i[f] for i in X]))\n",
    "        #plt.show()\n",
    "        plt.savefig('%s - X%d.png' % (feature, k))\n",
    "        plt.clf()\n",
    "    f+=1"
   ]
  },
  {
   "cell_type": "code",
   "execution_count": null,
   "metadata": {
    "collapsed": false
   },
   "outputs": [],
   "source": [
    "f=0\n",
    "for feature in [\"gd\", \"ed\", \"gp\"]:\n",
    "    mass = [i[f] for i in X_all]\n",
    "    k=0\n",
    "    r=0\n",
    "    l=0\n",
    "    for length in [len(X_1), len(X_2), len(X_3), len(X_4), len(X_5)]:\n",
    "        l=r\n",
    "        r+=length\n",
    "        k+=1\n",
    "        plt.plot(sorted(mass[l:r]), label=\"X%d\"%k)\n",
    "        plt.ylim([min(mass),1])\n",
    "        legend = plt.legend(loc=4, shadow=True)\n",
    "        #plt.show()\n",
    "    plt.savefig('%s.png' % (feature))\n",
    "    plt.clf()\n",
    "    f+=1"
   ]
  },
  {
   "cell_type": "code",
   "execution_count": null,
   "metadata": {
    "collapsed": false
   },
   "outputs": [],
   "source": [
    "plt.plot([np.linalg.norm(i) for i in X_all], color='black')\n",
    "plt.xticks(())\n",
    "plt.yticks(())\n",
    "plt.show()"
   ]
  },
  {
   "cell_type": "code",
   "execution_count": null,
   "metadata": {
    "collapsed": false
   },
   "outputs": [],
   "source": [
    "f=0\n",
    "for feature in [\"gd\", \"ed\", \"gp\"]:\n",
    "    mass = [i[f] for i in X_all]\n",
    "    k=0\n",
    "    r=0\n",
    "    l=0\n",
    "    for length in [len(X_1), len(X_2), len(X_3), len(X_4), len(X_5)]:\n",
    "        l=r\n",
    "        r+=length\n",
    "        k+=1\n",
    "        plt.plot(y_all[l:r], [i[f] for i in X_all[l:r]], label=\"X%d\"%k)\n",
    "        plt.ylim([min(mass),1])\n",
    "        plt.xlim([0,11])\n",
    "        legend = plt.legend(loc=4, shadow=True)\n",
    "        plt.savefig('%s - X%d.png' % (feature, k))\n",
    "        plt.show()\n",
    "        plt.clf()\n",
    "    f+=1"
   ]
  },
  {
   "cell_type": "code",
   "execution_count": null,
   "metadata": {
    "collapsed": false
   },
   "outputs": [],
   "source": [
    "k=0\n",
    "r=0\n",
    "l=0\n",
    "for length in [len(X_1), len(X_2), len(X_3), len(X_4), len(X_5)]:\n",
    "    l=r\n",
    "    r+=length\n",
    "    k+=1\n",
    "    plt.plot(y_all[l:r], [np.linalg.norm(i[2]) for i in X_all[l:r]], label=\"X%d\"%k)\n",
    "    legend = plt.legend(loc=4, shadow=True)\n",
    "    plt.xlim([0,11])\n",
    "    plt.savefig('gp norms - X%d.png'%k)\n",
    "    plt.clf()"
   ]
  },
  {
   "cell_type": "code",
   "execution_count": null,
   "metadata": {
    "collapsed": false
   },
   "outputs": [],
   "source": [
    "print FEATURES[2]\n",
    "print [i[0] for i in X_1]\n",
    "print [i for i in y_1]"
   ]
  },
  {
   "cell_type": "code",
   "execution_count": null,
   "metadata": {
    "collapsed": false
   },
   "outputs": [],
   "source": [
    "for k in range(0,26):\n",
    "    print FEATURES[k], 10 - [i[k] for i in X].count(0)"
   ]
  },
  {
   "cell_type": "code",
   "execution_count": null,
   "metadata": {
    "collapsed": false
   },
   "outputs": [],
   "source": [
    "x = [i[-2] for i in X_all]\n",
    "y_top = []\n",
    "y_n_top = []\n",
    "for l in range(0, len(x)):\n",
    "    if x:\n",
    "        y_top += [y[l]]\n",
    "    else:\n",
    "        y_n_top += [y[l]]\n",
    "#for l in range(0, len(x)):\n",
    "    #print x[l], y[l]"
   ]
  },
  {
   "cell_type": "code",
   "execution_count": null,
   "metadata": {
    "collapsed": false
   },
   "outputs": [],
   "source": [
    "for i in range(1,11):\n",
    "    print i, y_top.count(i)"
   ]
  },
  {
   "cell_type": "code",
   "execution_count": null,
   "metadata": {
    "collapsed": false
   },
   "outputs": [],
   "source": [
    "plt.plot( x, y_all, 'ro')\n",
    "plt.show()"
   ]
  },
  {
   "cell_type": "code",
   "execution_count": null,
   "metadata": {
    "collapsed": false
   },
   "outputs": [],
   "source": [
    "X_all[20]"
   ]
  },
  {
   "cell_type": "code",
   "execution_count": null,
   "metadata": {
    "collapsed": false
   },
   "outputs": [],
   "source": [
    "#for table filling\n",
    "res_X = []\n",
    "res_y = []\n",
    "#for X,y in [(X_1, y_1),(X_2, y_2),(X_3, y_3),(X_4, y_4),(X_5, y_5)]:\n",
    "for X,y in [(X_5, y_5)]:\n",
    "    for i in range(10,0,-1):\n",
    "        try:\n",
    "            indices = [j for j, x in enumerate(y) if x == i]\n",
    "            res_X += [max(regr.predict(X[min(indices):max(indices)+1]))]\n",
    "            res_y += [i]\n",
    "            #print res_X[-1], res_y[-1]\n",
    "        except Exception, err:\n",
    "            #print err, i, indices\n",
    "            pass\n",
    "for x in res_X:\n",
    "    print x"
   ]
  },
  {
   "cell_type": "code",
   "execution_count": null,
   "metadata": {
    "collapsed": false
   },
   "outputs": [],
   "source": [
    "pl = [ round(3*i[-1],0) for i in X_all]\n",
    "plt.hist(pl, bins=4)\n",
    "plt.title(\"Price level distribution\")\n",
    "plt.xlabel(\"Price level\")\n",
    "plt.ylabel(\"Frequency\")\n",
    "\n",
    "plt.show()"
   ]
  },
  {
   "cell_type": "code",
   "execution_count": null,
   "metadata": {
    "collapsed": false
   },
   "outputs": [],
   "source": [
    "list(set(pl))"
   ]
  },
  {
   "cell_type": "code",
   "execution_count": null,
   "metadata": {
    "collapsed": false
   },
   "outputs": [],
   "source": [
    "set([i[-1] for i in X_all])"
   ]
  },
  {
   "cell_type": "code",
   "execution_count": null,
   "metadata": {
    "collapsed": false
   },
   "outputs": [],
   "source": [
    "y_all[13+17:13+17+12]"
   ]
  },
  {
   "cell_type": "code",
   "execution_count": null,
   "metadata": {
    "collapsed": false
   },
   "outputs": [],
   "source": [
    "indices = [i for i, x in enumerate(y_1) if x == 2]\n",
    "print indices\n",
    "for ind in indices:\n",
    "    print regr.predict(X_1[ind])\n",
    "\n",
    "print max(regr.predict(X_1[min(indices):max(indices)+1]))"
   ]
  },
  {
   "cell_type": "code",
   "execution_count": null,
   "metadata": {
    "collapsed": false
   },
   "outputs": [],
   "source": [
    "l=0\n",
    "r=0\n",
    "all_pos = []\n",
    "for i in [7, 5, 7, 10, 6]:\n",
    "    l=r\n",
    "    r+=i\n",
    "    all_pos += [10-sorted(res_X[l:r], reverse=True).index(x) for x in res_X[l:r]]"
   ]
  },
  {
   "cell_type": "code",
   "execution_count": null,
   "metadata": {
    "collapsed": false
   },
   "outputs": [],
   "source": [
    "import xlsxwriter\n",
    "\n",
    "workbook = xlsxwriter.Workbook('Positions.xlsx')\n",
    "#list 1\n",
    "worksheet = workbook.add_worksheet(\"Рак кожи\")\n",
    "worksheet.freeze_panes(1, 0)\n",
    "col = 0\n",
    "row = 0\n",
    "\n",
    "temp = [u\"Клиника\", u\"Оценка (все)\", u\"Позиция (все)\", u\"Оценка (свои)\", u\"Позиция (свои)\", u\"Оценка (свои+vec pl)\", u\"Позиция (свои+vec pl)\", u\"Оценка врача\", u\"Позиция врача\", u\"Позиция на сайте\"]\n",
    "for i in temp:\n",
    "    worksheet.write(row, col, i)\n",
    "    col+=1\n",
    "\n",
    "row=1\n",
    "col=0\n",
    "\n",
    "# num and clinic name for any model\n",
    "for i, el in enumerate(zip(res,pos)):\n",
    "    worksheet.write(row, 0, i)\n",
    "    print el[0][1]\n",
    "    worksheet.write_string(row, 1, el[0][1].encode('utf-8').replace('ё', 'е'))\n",
    "    row+=1\n",
    "\n",
    "#rate and pos of model\n",
    "for el in zip(res,pos):    \n",
    "    worksheet.write(row, 2, el[0][0])\n",
    "    worksheet.write(row, 3, el[1])\n",
    "\n",
    "workbook.close()"
   ]
  },
  {
   "cell_type": "code",
   "execution_count": null,
   "metadata": {
    "collapsed": false
   },
   "outputs": [],
   "source": [
    "pos_for_x[0:3]"
   ]
  },
  {
   "cell_type": "code",
   "execution_count": null,
   "metadata": {
    "collapsed": false
   },
   "outputs": [],
   "source": [
    "#creare xlsx file for model trained on ALL data\n",
    "\n",
    "import xlsxwriter\n",
    "\n",
    "#pre\n",
    "f = zip(map(lambda x: round(x, 4), regr.coef_), FEATURES)\n",
    "#for table filling\n",
    "res_X = []\n",
    "res_y = []\n",
    "for X,y in [(X_1, y_1),(X_2, y_2),(X_3, y_3),(X_4, y_4),(X_5, y_5)]:\n",
    "    for i in range(10,0,-1):\n",
    "        try:\n",
    "            indices = [j for j, x in enumerate(y) if x == i]\n",
    "            res_X += [max(regr.predict(X[min(indices):max(indices)+1]))]\n",
    "            res_y += [i]\n",
    "            #print res_X[-1], res_y[-1]\n",
    "        except Exception, err:\n",
    "            #print err, i, indices\n",
    "            pass\n",
    "\n",
    "l=0\n",
    "r=0\n",
    "all_pos = []\n",
    "seq_pr = []\n",
    "top_3 = []\n",
    "top_3_strict = []\n",
    "for i in [7, 5, 7, 10, 6]:\n",
    "    l=r\n",
    "    r+=i\n",
    "    pos_for_x = [10-sorted(res_X[l:r], reverse=True).index(x) for x in res_X[l:r]]\n",
    "    all_pos += pos_for_x\n",
    "    seq_pr += [seq_procent(pos_for_x)]\n",
    "    top_3 += [len(set([10,9,8]).intersection(pos_for_x[0:3]))]\n",
    "    top_3_strict += [sum(pos_for_x[0:3] == np.array([10,9,8]))]\n",
    "    \n",
    "    \n",
    "workbook = xlsxwriter.Workbook('Model_speed_level.xlsx')\n",
    "\n",
    "#list 1\n",
    "worksheet = workbook.add_worksheet(\"coef\")\n",
    "worksheet.write(0, 0, \"f\")\n",
    "worksheet.write(0, 2, \"rating\")\n",
    "\n",
    "row = 1\n",
    "col = 2\n",
    "\n",
    "for num, feat in f:\n",
    "    worksheet.write(row, col, feat)\n",
    "    worksheet.write(row, col+1, num)\n",
    "    row+=1\n",
    "\n",
    "worksheet.write(row, col, \"intercept\")\n",
    "worksheet.write(row, col+1, regr.intercept_)\n",
    "row+=2\n",
    "col=0\n",
    "\n",
    "r=row\n",
    "\n",
    "worksheet.write(row, col, \"GD\")\n",
    "worksheet.write(row, col+2, \"specialist\")\n",
    "row+=1\n",
    "\n",
    "f_ = zip(map(lambda x: round(x, 4), gd), [\"deg\", \"top\", \"illn\", \"lang\", \"h_index\", \"exp\", \"intercept\"])\n",
    "for i, el in enumerate(f_):\n",
    "    worksheet.write(row, col, \"c_%d\"%i)\n",
    "    worksheet.write(row, col+1, el[0])\n",
    "    worksheet.write(row, col+2, el[1])\n",
    "    row+=1\n",
    "\n",
    "row = r\n",
    "col += 4\n",
    "worksheet.write(row, col, \"ED\")\n",
    "worksheet.write(row, col+2, \"experience\")\n",
    "row+=1\n",
    "\n",
    "f_ = zip(map(lambda x: round(x, 4), ed), [\"top_diag\", \"gen_diag\", \"top_oper\", \"gen_oper\", \"intercept\"])\n",
    "for i, el in enumerate(f_):\n",
    "    worksheet.write(row, col, \"c_%d\"%i)\n",
    "    worksheet.write(row, col+1, el[0])\n",
    "    worksheet.write(row, col+2, el[1])\n",
    "    row+=1\n",
    "    \n",
    "\n",
    "row = r\n",
    "col += 4\n",
    "worksheet.write(row, col, \"GP\")\n",
    "worksheet.write(row, col+2, \"experience\")\n",
    "row+=1\n",
    "\n",
    "f_ = zip(map(lambda x: round(x, 4), gp), [\"top_diag\", \"gen_diag\", \"top_oper\", \"gen_oper\"])\n",
    "for i, el in enumerate(f_):\n",
    "    worksheet.write(row, col, \"c_%d\"%i)\n",
    "    worksheet.write(row, col+1, el[0])\n",
    "    worksheet.write(row, col+2, el[1])\n",
    "    row+=1\n",
    "\n",
    "    \n",
    "#list 2\n",
    "worksheet = workbook.add_worksheet(\"tabl\")\n",
    "worksheet.freeze_panes(1, 0)\n",
    "col = 0\n",
    "row = 0\n",
    "\n",
    "for i in [u\"Болезнь\", u\"Клиника\", u\"Оценка врача\", u\"Оценка модели\", u\"Позиция врача\", u\"Позиция модели\", u\"Разница оценок врача и модели\", u\"Разница позиций врача и модели\"]:\n",
    "    worksheet.write(row, col, i)\n",
    "    col+=1\n",
    "\n",
    "col=0\n",
    "row=1\n",
    "temp =[u\"Рак кожи\"] * 7 + [u\"Рак груди\"] * 5 + [u\"Рак простаты\"] * 7 + [u\"Рак шейки матки\"] * 10 + [u\"Рак щитовидки\"] * 6\n",
    "for i in temp:\n",
    "    worksheet.write(row, col, i)\n",
    "    row+=1\n",
    "\n",
    "col=1\n",
    "row=1\n",
    "temp = [u\"Ихилов\", u\"Текнон\", u\"Анадолу\", u\"Ассута\", u\"Клиника Женераль-Болье\", u\"Мемориал\", u\"Фортис\", u\"Ассута\", u\"Анадолу\", u\"Ихилов\", u\"Медиполь\", u\"Фортис\", u\"Дортмунд\", u\"Текнон\", u\"Ихилов\", u\"Ассута\", u\"Анадолу\", u\"Самсунг\", u\"Мемориал\", u\"Ихилов\", u\"Золинген\", u\"Анадолу\", u\"Текнон\", u\"Самсунг\", u\"Медиполь\", u\"Фортис\", u\"Нордвест\", u\"Ассута\", u\"Мемориал\", u\"Ихилов\", u\"Текнон\", u\"Анадолу\", u\"Ассута\", u\"Мемориал\", u\"Фортис\"]\n",
    "for i in temp:\n",
    "    worksheet.write(row, col, i)\n",
    "    row+=1\n",
    "    \n",
    "col=2\n",
    "row=1\n",
    "temp = [10, 9, 8, 6, 4, 3, 1, 9, 7, 5, 4, 2, 9, 8, 6, 5, 4, 2, 1, 10, 9, 8, 7, 6, 5, 4, 3, 2, 1, 10, 9, 8, 6, 2, 1]\n",
    "for i in temp:\n",
    "    worksheet.write(row, col, i)\n",
    "    row+=1\n",
    "\n",
    "col=3\n",
    "row=1\n",
    "for i in res_X:\n",
    "    worksheet.write(row, col, i)\n",
    "    row+=1\n",
    "    \n",
    "col=4\n",
    "row=1\n",
    "temp = [10, 9, 8, 7, 6, 5, 4, 10, 9, 8, 7, 6, 10, 9, 8, 7, 6, 5, 4, 10, 9, 8, 7, 6, 5, 4, 3, 2, 1, 10, 9, 8, 7, 6, 5]\n",
    "for i in temp:\n",
    "    worksheet.write(row, col, i)\n",
    "    row+=1\n",
    "\n",
    "col=5\n",
    "row=1\n",
    "for i in all_pos:\n",
    "    worksheet.write(row, col, i)\n",
    "    row+=1\n",
    "\n",
    "\n",
    "col=6\n",
    "row=1\n",
    "for i in range(0, len(temp)):\n",
    "    worksheet.write_formula(row, col, '=C%d-D%d'%(row+1,row+1))\n",
    "    worksheet.write_formula(row, col+1, '=E%d-F%d'%(row+1,row+1))\n",
    "    worksheet.write_formula(row, col+2, '=ABS(G%d)'%(row+1))\n",
    "    worksheet.write_formula(row, col+3, '=ABS(H%d)'%(row+1))\n",
    "    row+=1\n",
    "\n",
    "for l,r in [(2,8),(9,13),(14,20),(21,30),(31,36)]:\n",
    "    worksheet.write_formula('K%d' % r, '=AVERAGE(I%d:I%d)'%(l,r))\n",
    "    worksheet.write_formula('L%d' % r, '=AVERAGE(J%d:J%d)'%(l,r))\n",
    "\n",
    "#list 3\n",
    "worksheet = workbook.add_worksheet(\"stat\")\n",
    "worksheet.freeze_panes(1, 0)\n",
    "col = 1\n",
    "row = 0\n",
    "\n",
    "for i in [ u\"Среднее по оценке\", u\"Среднее по позиции\", u\"% последовательности\", u\"топ-3 с 10\", u\"топ-3\"]:\n",
    "    worksheet.write(row, col, i)\n",
    "    col+=1\n",
    "\n",
    "col=0\n",
    "row=1\n",
    "for i in [u\"Рак кожи\", u\"Рак груди\", u\"Рак простаты\", u\"Рак шейки матки\", u\"Рак щитовидки\", \"\", u\"Итого\"]:\n",
    "    worksheet.write(row, col, i)\n",
    "    row+=1\n",
    "\n",
    "col=1    \n",
    "row=1\n",
    "for i in [8, 13,20, 30, 36]:\n",
    "    worksheet.write(row, col, \"='tabl'!K%d\"%(i))\n",
    "    worksheet.write(row, col+1, \"='tabl'!L%d\"%(i))\n",
    "    row+=1\n",
    "\n",
    "col=3\n",
    "row=1\n",
    "for i in zip(seq_pr,top_3_strict, top_3):\n",
    "    worksheet.write(row, col, i[0])\n",
    "    worksheet.write(row, col+1, i[1])\n",
    "    worksheet.write(row, col+2, i[2])\n",
    "    row+=1\n",
    "    \n",
    "row+=1\n",
    "col=1\n",
    "for i in ['B', 'C', 'D', 'E', 'F']:\n",
    "    worksheet.write_formula(row, col, '=AVERAGE(%s2:%s6)'%(i,i))\n",
    "    col+=1\n",
    "\n",
    "workbook.close()"
   ]
  },
  {
   "cell_type": "code",
   "execution_count": null,
   "metadata": {
    "collapsed": false
   },
   "outputs": [],
   "source": []
  },
  {
   "cell_type": "code",
   "execution_count": null,
   "metadata": {
    "collapsed": false
   },
   "outputs": [],
   "source": [
    "#for table filling\n",
    "\n",
    "res_X = []\n",
    "res_y = []\n",
    "for X,y in [(X_1, y_1),(X_2, y_2),(X_3, y_3),(X_4, y_4),(X_5, y_5)]:\n",
    "    for i in range(10,0,-1):\n",
    "        try:\n",
    "            indices = [j for j, x in enumerate(y) if x == i]\n",
    "            res_X += [max(regr.predict(X[min(indices):max(indices)+1]))]\n",
    "            res_y += [i]\n",
    "            print res_X[-1], res_y[-1]\n",
    "        except Exception, err:\n",
    "            #print err, i, indices\n",
    "            pass\n",
    "#for x in res_X:\n",
    "#    print x"
   ]
  }
 ],
 "metadata": {
  "kernelspec": {
   "display_name": "Python 2",
   "language": "python",
   "name": "python2"
  },
  "language_info": {
   "codemirror_mode": {
    "name": "ipython",
    "version": 2
   },
   "file_extension": ".py",
   "mimetype": "text/x-python",
   "name": "python",
   "nbconvert_exporter": "python",
   "pygments_lexer": "ipython2",
   "version": "2.7.6"
  }
 },
 "nbformat": 4,
 "nbformat_minor": 0
}
