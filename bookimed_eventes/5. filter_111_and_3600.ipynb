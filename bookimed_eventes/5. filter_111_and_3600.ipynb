{
 "cells": [
  {
   "cell_type": "code",
   "execution_count": 1,
   "metadata": {
    "collapsed": true
   },
   "outputs": [],
   "source": [
    "import os\n",
    "import glob\n",
    "import json\n",
    "from dateutil import parser\n",
    "import pandas as pd\n",
    "import numpy as np"
   ]
  },
  {
   "cell_type": "code",
   "execution_count": 2,
   "metadata": {
    "collapsed": true
   },
   "outputs": [],
   "source": [
    "this_path = './sessions'"
   ]
  },
  {
   "cell_type": "code",
   "execution_count": 3,
   "metadata": {
    "collapsed": true
   },
   "outputs": [],
   "source": [
    "files = [os.path.basename(x) for x in glob.glob('%s/*.json'%this_path)]"
   ]
  },
  {
   "cell_type": "code",
   "execution_count": null,
   "metadata": {
    "collapsed": false,
    "scrolled": true
   },
   "outputs": [
    {
     "name": "stdout",
     "output_type": "stream",
     "text": [
      "4ca80724-fc1d-4a63-9c5b-52021344369d, session_1.json\n",
      "f62b26a0-8647-41cc-bd7d-67840315308e, session_2.json\n",
      "39d790f3-0b30-49a5-9581-381bfde58db2, session_1.json\n",
      "c9f64f49-4be8-45eb-ba6c-c7706a23cd12, session_1.json\n",
      "0c16f9da-075c-4358-961a-ec2f122f7d00, session_3.json\n",
      "f535e368-04a3-49ce-a9cc-4090e6f721d3, session_1.json\n",
      "a36c67bc-bcec-45e8-a902-7bb231da8f47, session_1.json\n",
      "cedcb877-b13e-4fd0-84aa-ee7525b28b6c, session_1.json\n",
      "8124a9b8-29d8-43cb-8b3f-43af098657ab, session_1.json\n",
      "4ce93cb3-bd23-4666-af1e-6f3706e1f4a1, session_1.json\n",
      "f339db7d-24dc-44e4-8512-151239dd4d8a, session_1.json\n",
      "e248f174-884a-42b5-a42c-ab2e51c0e01b, session_1.json\n",
      "c57bcfc3-b754-47d3-b9af-cf4d40be3042, session_18.json\n",
      "100e2bc4-9751-49a6-9fda-6165f2d1e085, session_1.json\n",
      "57fd5416-66de-487f-bba9-4c398142ffde, session_1.json\n",
      "2da26951-9ca5-45c3-8710-ca1d8283767d, session_1.json\n"
     ]
    }
   ],
   "source": [
    "files_for_check = []\n",
    "for file_name in files[:]:\n",
    "    f = open('%s/%s'%(this_path, file_name))\n",
    "    context = f.readlines()\n",
    "    data = []\n",
    "    for i in context[:]:\n",
    "        data += [json.loads(i.replace(',\\n','').replace('\\n',''))]\n",
    "    \n",
    "    if len(set([i['userId'] for i in data]))==1:\n",
    "        if len(set([i['ip'] for i in data]))==1:\n",
    "            deltas = [0]\n",
    "            times = [parser.parse(i['timestamp']) for i in data]\n",
    "            deltas += [(times[i] - times[i-1]).total_seconds() for i in range(1, len(times))]\n",
    "            if max(deltas)>3600:\n",
    "                try:\n",
    "                    if len(set([i['fingerPrint'] for i in data]))==1:\n",
    "                        files_for_check += [file_name]\n",
    "                except:\n",
    "                    files_for_check += [file_name]\n",
    "    if files.index(file_name) % 1000 == 0:\n",
    "        print file_name"
   ]
  },
  {
   "cell_type": "code",
   "execution_count": null,
   "metadata": {
    "collapsed": false
   },
   "outputs": [],
   "source": [
    "print len(files_for_check)\n",
    "print len(files)"
   ]
  },
  {
   "cell_type": "code",
   "execution_count": null,
   "metadata": {
    "collapsed": true
   },
   "outputs": [],
   "source": [
    "f = open('files_sessions_not_111.txt', 'w')\n",
    "for file_name in files_for_check:\n",
    "    f.write(file_name+'\\n')\n",
    "f.close()"
   ]
  },
  {
   "cell_type": "code",
   "execution_count": null,
   "metadata": {
    "collapsed": false
   },
   "outputs": [],
   "source": [
    "import shutil\n",
    "for file_name in files_for_check:\n",
    "    shutil.move(\"%s/%s\"%(this_path, file_name), \"%s/%s\"%('./sessions_to_explore', file_name))"
   ]
  },
  {
   "cell_type": "code",
   "execution_count": null,
   "metadata": {
    "collapsed": true
   },
   "outputs": [],
   "source": []
  }
 ],
 "metadata": {
  "kernelspec": {
   "display_name": "Python 2",
   "language": "python",
   "name": "python2"
  },
  "language_info": {
   "codemirror_mode": {
    "name": "ipython",
    "version": 2
   },
   "file_extension": ".py",
   "mimetype": "text/x-python",
   "name": "python",
   "nbconvert_exporter": "python",
   "pygments_lexer": "ipython2",
   "version": "2.7.6"
  }
 },
 "nbformat": 4,
 "nbformat_minor": 0
}
