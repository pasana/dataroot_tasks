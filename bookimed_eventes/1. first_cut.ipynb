{
 "cells": [
  {
   "cell_type": "code",
   "execution_count": 1,
   "metadata": {
    "collapsed": true
   },
   "outputs": [],
   "source": [
    "import json\n",
    "import re"
   ]
  },
  {
   "cell_type": "code",
   "execution_count": 2,
   "metadata": {
    "collapsed": true
   },
   "outputs": [],
   "source": [
    "types = [u'page', u'track', u'identify'] #1,2,3\n",
    "events = ['', u'Opened Request Treatment Modal', u'Requested Treatment', u'Requested Callback'] #0,1,2,3\n",
    "\n",
    "domains = 'com|co.in|com.hk|de||co.uk|co.jp|fr|com.br|it|ru|es|ca|com.mx|co.id|com.tr|com.au|pl|com.sa|nl|com.ar|com.eg|co.th|com.pk|co.za|com.my|be|gr|com.vn|co.ve|com.tw|com.ua|at|se|com.co|ro|ch|pt|com.ph|cl|com.ng|com.sg|com.pe|ae|co.kr|co.hu|ie|dk|no|co.il|fi|cz|co.ma|sk|co.nz|com.kw|lk|bg|com.qa|az|kz|com.do|hr|by|com.ec|lt|iq|co.ke|com.bd|com.om|tn|si|co.cr|com.gt|com.pr|com.sv|lv|com.uy|jo|com.bo|ba|com.cu|rs|com.ly|cm|ee|co.ug|com.bh|com.np|com.gh|dz|lu|com.lb|co.uz|ci|com.py|com.ni|hn|com.et|tt|co.tz|mg|sn|cd|com.kh|am|com.af|ge|mu|com.bn|co.mz|com.jm|com.gi|is|com.pa|md|ps|com.na|mn|com.mt|co.bw|bj|kg|ml|rw|co.zm|bs|ht|la|com.bz|co.zw|as|cat|mk|ne|mw|tg|co.ao|gp|gy|bf|ga|li|co|tm|dj|mv|hk|sc|dm|bi|co.vi|vu|ad|com.vc|com.ag|com.fj|to|cf|fm|tk|gg|ws|vg|im|nu|gm|je|ms|me|co.im|tl|com.ai|gl|co.ls|co.je|st|it.ao|com.by|com.tj|pn|sh|com.sl|nr|sm|cg|co.ck|com.sb|com.cy|so|com.nf|com.ve|com.iq|jp|ac|com.tn|in|td'\n",
    "\n",
    "patterns = [\n",
    "    u'^(?P<ref>http[s]*://[www.]*clck.yandex.(ru|ua|kz|com|com.tr|by))',\n",
    "    u'^(?P<ref>http[s]*://[www.]*yandex.(ru|ua|kz|com|com.tr|by)/clck/)',\n",
    "    u'^(?P<ref>http[s]*://[www.]*yandex.(ru|ua|kz|com|com.tr|by)/(yandsearch|touchsearch|msearch|search))',\n",
    "    u'^(?P<ref>http[s]*://[www.]*google.(%s)/(search?|m))'%domains,\n",
    "    u'^(?P<ref>http[s]*://[www.]*google.(%s)/url)'%domains,\n",
    "    u'^(?P<ref>http[s]*://[www.]*bing.com/search)'\n",
    "]\n",
    "bookimed = ['bookimed.com', 'ru.bookimed.com']\n",
    "bookimed_pattern = u'^http[s]*://[ru.]*bookimed.com(?P<tail>[\\w/=?..&@-]*)'\n",
    "\n",
    "b_r = re.compile(bookimed_pattern)\n",
    "\n",
    "list_of_fields = ['action', 'action_after_load', 'country', 'gl', 'hl', 'illness', 'prev', 'q', 'rurl', 'show_popup', 'sl', 'sort', 'sortType', 'source', 'sourceid', 'spam_reason', 'subpage', 'text', 'tl', 'tld', 'u', 'url', 'utm_campaign', 'utm_medium', 'utm_source', 'utm_term']"
   ]
  },
  {
   "cell_type": "code",
   "execution_count": 3,
   "metadata": {
    "collapsed": true
   },
   "outputs": [],
   "source": [
    "def search_cut(search):\n",
    "    new_search = ''\n",
    "    if search:\n",
    "        try:\n",
    "            fields = re.findall(r\"[/?&]([\\w_]*)=([\\w@1-9-_{}:]*)\", search)\n",
    "            fields = dict(fields)\n",
    "            for k,v in fields.iteritems():\n",
    "                if k in list_of_fields: new_search += '&' +str(k) + '=' + str(v)\n",
    "        except: print search\n",
    "    return new_search"
   ]
  },
  {
   "cell_type": "code",
   "execution_count": 4,
   "metadata": {
    "collapsed": true
   },
   "outputs": [],
   "source": [
    "def cut_ref(ref_str):\n",
    "    for pattern in patterns:\n",
    "        if re.match(pattern,ref_str):\n",
    "            return re.match(pattern,ref_str).groupdict()['ref']\n",
    "    if ref_str == '':\n",
    "        return '/'\n",
    "    if re.match(b_r, ref_str):\n",
    "        return re.match(b_r, ref_str).groupdict()['tail']\n",
    "    return ref_str"
   ]
  },
  {
   "cell_type": "code",
   "execution_count": 5,
   "metadata": {
    "collapsed": true
   },
   "outputs": [],
   "source": [
    "def get_type_id(type_str):\n",
    "    try:\n",
    "        return types.index(type_str)+1\n",
    "    except:\n",
    "        return -1"
   ]
  },
  {
   "cell_type": "code",
   "execution_count": 6,
   "metadata": {
    "collapsed": true
   },
   "outputs": [],
   "source": [
    "def get_event_id(event_str):\n",
    "    try:\n",
    "        return events.index(event_str)\n",
    "    except:\n",
    "        return -1"
   ]
  },
  {
   "cell_type": "code",
   "execution_count": 7,
   "metadata": {
    "collapsed": true
   },
   "outputs": [],
   "source": [
    "def cut_the_dict(d):\n",
    "    #flat\n",
    "    try:\n",
    "        d['timestamp']=d['timestamp'].pop('$date')\n",
    "    except:\n",
    "        d['timestamp']=d['receivedAt'].pop('$date')\n",
    "    d.update(d.pop('context'))\n",
    "    d.update(d.pop('page'))\n",
    "    #delete\n",
    "    fields = ['__v','_id','gaClientId','messageId','projectId','receivedAt','sentAt', 'channel']\n",
    "    for field in fields:\n",
    "        try:\n",
    "            d.pop(field)\n",
    "        except:\n",
    "            pass\n",
    "    if d['type']=='page':\n",
    "        d.pop('properties')\n",
    "    d.pop('library')\n",
    "    #ids\n",
    "    d['type'] = get_type_id(d['type'])\n",
    "    try:\n",
    "        d['event'] = get_event_id(d['event'])\n",
    "    except:\n",
    "        pass"
   ]
  },
  {
   "cell_type": "code",
   "execution_count": 8,
   "metadata": {
    "collapsed": false,
    "scrolled": true
   },
   "outputs": [],
   "source": [
    "#create short data\n",
    "f = open('short_bookimed.json', 'w+')\n",
    "with open('./bookimed.json') as data_file: \n",
    "    for line in data_file:\n",
    "        try:\n",
    "            data = json.loads(line[:-1])\n",
    "            cut_the_dict(data)\n",
    "            try:\n",
    "                url = data['url'].split('//')[1].split('/')[0].lower()\n",
    "            except:\n",
    "                url = ''\n",
    "            if url in bookimed:\n",
    "                del data['url']\n",
    "                data['referrer']=cut_ref(data['referrer'])\n",
    "                json.dump(data, f)\n",
    "                f.write('\\n')\n",
    "        except:\n",
    "            print json.loads(line[:-1])\n",
    "f.close()"
   ]
  }
 ],
 "metadata": {
  "kernelspec": {
   "display_name": "Python 2",
   "language": "python",
   "name": "python2"
  },
  "language_info": {
   "codemirror_mode": {
    "name": "ipython",
    "version": 2
   },
   "file_extension": ".py",
   "mimetype": "text/x-python",
   "name": "python",
   "nbconvert_exporter": "python",
   "pygments_lexer": "ipython2",
   "version": "2.7.6"
  }
 },
 "nbformat": 4,
 "nbformat_minor": 0
}
