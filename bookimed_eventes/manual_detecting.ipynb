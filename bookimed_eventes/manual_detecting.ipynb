{
 "cells": [
  {
   "cell_type": "code",
   "execution_count": 2,
   "metadata": {
    "collapsed": true
   },
   "outputs": [],
   "source": [
    "import os\n",
    "import glob\n",
    "import json\n",
    "import numpy as np\n",
    "import copy\n",
    "import re"
   ]
  },
  {
   "cell_type": "code",
   "execution_count": 14,
   "metadata": {
    "collapsed": true
   },
   "outputs": [],
   "source": [
    "files = [os.path.basename(x) for x in glob.glob('./un_users/*.json')]"
   ]
  },
  {
   "cell_type": "code",
   "execution_count": 493,
   "metadata": {
    "collapsed": false
   },
   "outputs": [
    {
     "data": {
      "text/plain": [
       "'3e23dfd6-b01d-4099-a27f-0e04dfb495f9.json'"
      ]
     },
     "execution_count": 493,
     "metadata": {},
     "output_type": "execute_result"
    }
   ],
   "source": [
    "files[12]"
   ]
  },
  {
   "cell_type": "code",
   "execution_count": 15,
   "metadata": {
    "collapsed": false
   },
   "outputs": [],
   "source": [
    "f = open('./un_users/%s'%files[1986])\n",
    "context = f.readlines()\n",
    "data = []\n",
    "for i in context[:]:\n",
    "    try:\n",
    "        data += [json.loads(i.replace(',\\n','').replace('\\n',''))]\n",
    "    except:\n",
    "        pass"
   ]
  },
  {
   "cell_type": "code",
   "execution_count": 102,
   "metadata": {
    "collapsed": false
   },
   "outputs": [],
   "source": [
    "from dateutil import parser\n",
    "times = [parser.parse(i['timestamp']) for i in data]\n",
    "deltas = [0]\n",
    "deltas += [(times[i] - times[i-1]).total_seconds() for i in range(1, len(times))]"
   ]
  },
  {
   "cell_type": "code",
   "execution_count": 286,
   "metadata": {
    "collapsed": false
   },
   "outputs": [
    {
     "data": {
      "text/plain": [
       "5"
      ]
     },
     "execution_count": 286,
     "metadata": {},
     "output_type": "execute_result"
    }
   ],
   "source": [
    "len(data)"
   ]
  },
  {
   "cell_type": "code",
   "execution_count": 243,
   "metadata": {
    "collapsed": true
   },
   "outputs": [],
   "source": [
    "data=sorted(data, key=lambda i: i['timestamp'])"
   ]
  },
  {
   "cell_type": "code",
   "execution_count": 112,
   "metadata": {
    "collapsed": false
   },
   "outputs": [],
   "source": [
    "cut = [[i['userId'],i['ip'],i['fingerPrint'],i['timestamp'],i['type']] for i in data]"
   ]
  },
  {
   "cell_type": "code",
   "execution_count": 289,
   "metadata": {
    "collapsed": false
   },
   "outputs": [],
   "source": [
    "cut = [[i['userId'],i['ip'],i['fingerPrint'],i['timestamp']] for i in data]"
   ]
  },
  {
   "cell_type": "code",
   "execution_count": 440,
   "metadata": {
    "collapsed": false
   },
   "outputs": [],
   "source": [
    "cut = [[i['userId'],i['ip'],i['timestamp'], i['type'], i['referrer'], i['path']] for i in data]"
   ]
  },
  {
   "cell_type": "code",
   "execution_count": 287,
   "metadata": {
    "collapsed": true
   },
   "outputs": [],
   "source": [
    "cut = [[i['userId'],i['ip'],i['timestamp'], i['type']] for i in data]"
   ]
  },
  {
   "cell_type": "code",
   "execution_count": 16,
   "metadata": {
    "collapsed": false
   },
   "outputs": [],
   "source": [
    "cut = [[i['timestamp'][:-8], i['referrer'], i['path'], i['type']] for i in data]"
   ]
  },
  {
   "cell_type": "code",
   "execution_count": 17,
   "metadata": {
    "collapsed": false,
    "scrolled": true
   },
   "outputs": [
    {
     "name": "stdout",
     "output_type": "stream",
     "text": [
      "0 [u'2015-11-12T19:49:49.', u'', u'/clinics/', 1]\n",
      "\n",
      "1 [u'2015-11-12T19:51:55.', u'', u'/clinics/', 2]\n",
      "\n",
      "2 [u'2015-11-12T19:50:15.', u'', u'/clinics/', 1]\n",
      "\n",
      "3 [u'2015-11-12T19:59:42.', u'http://ru.bookimed.com/clinics/?utm_source=eSputnik-trigger&utm_medium=email&utm_campaign=Pismo_po_rezultatu&utm_content=80696335', u'/clientLK/', 1]\n",
      "\n",
      "4 [u'2015-11-12T20:04:07.', u'', u'/clientLK/', 1]\n",
      "\n",
      "5 [u'2015-11-12T20:03:09.', u'', u'/clinics/', 1]\n",
      "\n",
      "6 [u'2015-11-12T20:04:17.', u'http://ru.bookimed.com/clientLK/?action=login&login=namik-mustafaev%40mail.ru&hash=bc55f7681edcb41aa0b74d16a63620de&utm_source=eSputnik-trigger&utm_medium=email&utm_campaign=Pismo_dlja_pacientov_RU&utm_content=80696335', u'/clientLK/profile/', 1]\n",
      "\n"
     ]
    }
   ],
   "source": [
    "for c in cut:\n",
    "    print cut.index(c), c\n",
    "    print"
   ]
  },
  {
   "cell_type": "code",
   "execution_count": 7,
   "metadata": {
    "collapsed": false
   },
   "outputs": [
    {
     "data": {
      "text/plain": [
       "{u'campaign': {u'content': u'119009695',\n",
       "  u'medium': u'email',\n",
       "  u'name': u'Ocenka_kachestva',\n",
       "  u'source': u'eSputnik-trigger'},\n",
       " u'fingerPrint': u'09e5e4d2f20452906f9bae117da17106',\n",
       " u'ip': u'188.113.202.188',\n",
       " u'path': u'/',\n",
       " u'referrer': u'',\n",
       " u'search': u'?action=recall&login=a-uu-999%40mail.ru&hash=b06f28cc595f19d1cc515b38e86c7de6&utm_source=eSputnik-trigger&utm_medium=email&utm_campaign=Ocenka_kachestva&utm_content=119009695',\n",
       " u'timestamp': u'2016-05-10T06:19:59.729+0000',\n",
       " u'type': 3,\n",
       " u'url': u'http://ru.bookimed.com/?action=recall&login=a-uu-999%40mail.ru&hash=b06f28cc595f19d1cc515b38e86c7de6&utm_source=eSputnik-trigger&utm_medium=email&utm_campaign=Ocenka_kachestva&utm_content=119009695',\n",
       " u'userId': u'22452'}"
      ]
     },
     "execution_count": 7,
     "metadata": {},
     "output_type": "execute_result"
    }
   ],
   "source": [
    "data[0]"
   ]
  },
  {
   "cell_type": "code",
   "execution_count": null,
   "metadata": {
    "collapsed": false
   },
   "outputs": [],
   "source": [
    "[i['userId'] for i in data]"
   ]
  },
  {
   "cell_type": "code",
   "execution_count": null,
   "metadata": {
    "collapsed": false
   },
   "outputs": [],
   "source": [
    "[i['ip'] for i in data]"
   ]
  },
  {
   "cell_type": "code",
   "execution_count": null,
   "metadata": {
    "collapsed": false
   },
   "outputs": [],
   "source": [
    "[i['fingerPrint'] for i in data]"
   ]
  },
  {
   "cell_type": "code",
   "execution_count": null,
   "metadata": {
    "collapsed": false
   },
   "outputs": [],
   "source": [
    "[i['timestamp'] for i in data]"
   ]
  }
 ],
 "metadata": {
  "kernelspec": {
   "display_name": "Python 2",
   "language": "python",
   "name": "python2"
  },
  "language_info": {
   "codemirror_mode": {
    "name": "ipython",
    "version": 2
   },
   "file_extension": ".py",
   "mimetype": "text/x-python",
   "name": "python",
   "nbconvert_exporter": "python",
   "pygments_lexer": "ipython2",
   "version": "2.7.6"
  }
 },
 "nbformat": 4,
 "nbformat_minor": 0
}
