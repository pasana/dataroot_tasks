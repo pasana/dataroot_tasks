{
 "cells": [
  {
   "cell_type": "code",
   "execution_count": 90,
   "metadata": {
    "collapsed": true
   },
   "outputs": [],
   "source": [
    "import os\n",
    "import glob\n",
    "import json\n",
    "import numpy as np\n",
    "import copy\n",
    "import re\n",
    "import threading"
   ]
  },
  {
   "cell_type": "code",
   "execution_count": 235,
   "metadata": {
    "collapsed": true
   },
   "outputs": [],
   "source": [
    "domains = 'com|co.in|com.hk|de||co.uk|co.jp|fr|com.br|it|ru|es|ca|com.mx|co.id|com.tr|com.au|pl|com.sa|nl|com.ar|com.eg|co.th|com.pk|co.za|com.my|be|gr|com.vn|co.ve|com.tw|com.ua|at|se|com.co|ro|ch|pt|com.ph|cl|com.ng|com.sg|com.pe|ae|co.kr|co.hu|ie|dk|no|co.il|fi|cz|co.ma|sk|co.nz|com.kw|lk|bg|com.qa|az|kz|com.do|hr|by|com.ec|lt|iq|co.ke|com.bd|com.om|tn|si|co.cr|com.gt|com.pr|com.sv|lv|com.uy|jo|com.bo|ba|com.cu|rs|com.ly|cm|ee|co.ug|com.bh|com.np|com.gh|dz|lu|com.lb|co.uz|ci|com.py|com.ni|hn|com.et|tt|co.tz|mg|sn|cd|com.kh|am|com.af|ge|mu|com.bn|co.mz|com.jm|com.gi|is|com.pa|md|ps|com.na|mn|com.mt|co.bw|bj|kg|ml|rw|co.zm|bs|ht|la|com.bz|co.zw|as|cat|mk|ne|mw|tg|co.ao|gp|gy|bf|ga|li|co|tm|dj|mv|hk|sc|dm|bi|co.vi|vu|ad|com.vc|com.ag|com.fj|to|cf|fm|tk|gg|ws|vg|im|nu|gm|je|ms|me|co.im|tl|com.ai|gl|co.ls|co.je|st|it.ao|com.by|com.tj|pn|sh|com.sl|nr|sm|cg|co.ck|com.sb|com.cy|so|com.nf|com.ve|com.iq|jp|ac|com.tn|in|td'\n",
    "\n",
    "pattern = u'^http[s]*://(www.|www.clck|ru.|go.|nova.|)(?P<ref>[\\w]+).(%s)(?P<tail>[\\w/=%%-]*)'%domains\n",
    "\n",
    "r = re.compile(pattern)\n",
    "\n",
    "one_var_pattern = '(?P<head>/(clinics|treatment|doctors|cities)/)(?P<var>(country|illness|direction|procedure))=[\\w]*'\n",
    "two_var_pattern = '(?P<head>/(clinics|treatment)/)(?P<var1>(country|illness|direction))=[\\w]*/(?P<var2>(country|illness|direction))=[\\w]*'\n",
    "object_pattern = '/(?P<var>(clinic|article|doctor|agency|program))/[\\w-]*'\n",
    "\n",
    "this_path = './sessions_event_1'"
   ]
  },
  {
   "cell_type": "code",
   "execution_count": 3,
   "metadata": {
    "collapsed": true
   },
   "outputs": [],
   "source": [
    "def get_relation_mat(data_t):\n",
    "    N=len(data_t)\n",
    "    r  = re.compile('^http[s]*://[ru.]*bookimed.com(?P<path>/[\\w/=-]*)')\n",
    "    mat = np.zeros((N,N))\n",
    "    for i in range(0,N):\n",
    "        for j in range(i+1,N):\n",
    "            try:\n",
    "                ref = re.match(r, data_t[j]['referrer']).groupdict()['path'] \n",
    "            except:\n",
    "                ref = data_t[j]['referrer']\n",
    "            if ref==data_t[i]['path']:\n",
    "                mat[i,j] = 1\n",
    "                continue\n",
    "\n",
    "            if data_t[j]['path']==data_t[i]['path'] and data_t[j]['referrer']==data_t[i]['referrer']:\n",
    "                if data_t[j]['type']==3:\n",
    "                    mat[i,j] = 2\n",
    "                    continue\n",
    "                if data_t[j]['type']==data_t[i]['type'] and data_t[i]['type']==1:\n",
    "                    d1 = copy.deepcopy(data_t[i])\n",
    "                    d2 = copy.deepcopy(data_t[j])\n",
    "                    #d1 = data_t[i].values()\n",
    "                    #d2 = data_t[j].values()\n",
    "                    if d1.pop('timestamp')!=d2.pop('timestamp'):\n",
    "                        d1.pop('userId')\n",
    "                        d2.pop('userId')\n",
    "                        try:\n",
    "                            d1.pop('originalTimestamp')\n",
    "                            d2.pop('originalTimestamp')\n",
    "                        except:\n",
    "                            pass\n",
    "                        if d1==d2:\n",
    "                            mat[i,j]=3\n",
    "                            continue\n",
    "                if data_t[j]['type']==2:\n",
    "                    if data_t[j]['event']==2:\n",
    "                        mat[i,j]=4\n",
    "                        continue\n",
    "                    if data_t[j]['event']==3:\n",
    "                        mat[i,j]=5\n",
    "                        continue\n",
    "                    if data_t[j]['event']==1:\n",
    "                        mat[i,j]=6\n",
    "                        continue\n",
    "    return mat"
   ]
  },
  {
   "cell_type": "code",
   "execution_count": 4,
   "metadata": {
    "collapsed": false
   },
   "outputs": [],
   "source": [
    "def get_paths(mat_t):\n",
    "    N = mat_t.shape[0]\n",
    "    b = np.ones(N)\n",
    "    paths = []\n",
    "    for j in range(N-1,0,-1):\n",
    "        i=N-1\n",
    "        path = []\n",
    "        #print\n",
    "        while (i>0) and (j>=1):\n",
    "            #print j\n",
    "            for i in range(j-1,-1,-1):\n",
    "                #print \"\\t %d\" % i, mat_t[i,j]\n",
    "                if mat_t[i,j]==0:\n",
    "                    continue\n",
    "                if mat_t[i,j] == 1:\n",
    "                    path += [data[j]['path']]\n",
    "                    break\n",
    "                if mat_t[i,j] == 2:\n",
    "                    path += ['identify']\n",
    "                    break\n",
    "                if mat_t[i,j] == 3:\n",
    "                    #path += [data[j]['path']]\n",
    "                    break\n",
    "                    pass\n",
    "                if mat_t[i,j] == 4:\n",
    "                    path += [u'Requested Treatment']\n",
    "                    break\n",
    "                if mat_t[i,j] == 5:\n",
    "                    path += [u'Requested Callback']\n",
    "                    break\n",
    "                if mat_t[i,j] == 6:\n",
    "                    #print data[j]\n",
    "                    path += [data[j]['properties']['button_type']]\n",
    "                    break                  \n",
    "            if sum(mat_t[0:i,j])==0:\n",
    "                path += [data[j]['path']]\n",
    "                path += [data[j]['referrer']]\n",
    "                break\n",
    "            if i==0:\n",
    "                if data[0]['type']==1:\n",
    "                    path+=[data[0]['path']]\n",
    "                    try:\n",
    "                        path+=[re.match(r, data[0]['referrer']).groupdict()['path'] ]\n",
    "                    except:\n",
    "                        path+=[data[0]['referrer']]\n",
    "                if data[0]['type']==3:\n",
    "                    path+=['identify']\n",
    "            j=i\n",
    "            #print \"\\t \\t\" ,i,j, b\n",
    "            #print (i!=0 or j!=1), '=', (i!=0), (j!=1)\n",
    "        paths += [path]\n",
    "    return paths"
   ]
  },
  {
   "cell_type": "code",
   "execution_count": 5,
   "metadata": {
    "collapsed": true
   },
   "outputs": [],
   "source": [
    "def filter_paths(paths_t):\n",
    "    inds=[]\n",
    "    paths=sorted(paths_t, key=lambda x: len(x),reverse=True)\n",
    "    for i in range(len(paths)-1,-1,-1):\n",
    "        for j in range(i-1,-1,-1):\n",
    "            l = len(paths[j]) - len(paths[i])\n",
    "            if paths[j][l:]==paths[i]:\n",
    "                inds+=[i]\n",
    "                break\n",
    "    for i in inds:\n",
    "        tenp=paths.pop(i)\n",
    "    return paths"
   ]
  },
  {
   "cell_type": "code",
   "execution_count": 204,
   "metadata": {
    "collapsed": false
   },
   "outputs": [],
   "source": [
    "def simplify_path(paths_t):\n",
    "    for path in paths_t:\n",
    "        for i in range(0, len(path)):\n",
    "            try:\n",
    "                ref = re.match(r, path[i]).groupdict()['ref']\n",
    "                if ref == 'bookimed':\n",
    "                    path[i] = re.match(r, path[i]).groupdict()['tail']\n",
    "                else:\n",
    "                    path[i] = ref\n",
    "            except:\n",
    "                pass\n",
    "            try:\n",
    "                temp = re.match(object_pattern, path[i]).groupdict()\n",
    "                path[i] = '/' + temp['var'] +'/'+ temp['var'] + '_name'\n",
    "            except:\n",
    "                pass\n",
    "            try:\n",
    "                temp = re.match(two_var_pattern, path[i]).groupdict()\n",
    "                path[i] = temp['head']+temp['var1']+'/'+temp['var2']+'/'\n",
    "            except:\n",
    "                try:\n",
    "                    temp = re.match(one_var_pattern, path[i]).groupdict()\n",
    "                    path[i] = temp['head']+temp['var']+'/'\n",
    "                except:\n",
    "                    pass\n",
    "    return paths_t"
   ]
  },
  {
   "cell_type": "code",
   "execution_count": 7,
   "metadata": {
    "collapsed": true
   },
   "outputs": [],
   "source": [
    "def paths_to_str(paths_t):\n",
    "    str_paths = []\n",
    "    for i in paths_t:\n",
    "        str_paths += [' , '.join(list(reversed(i)))]\n",
    "    return str_paths"
   ]
  },
  {
   "cell_type": "code",
   "execution_count": 92,
   "metadata": {
    "collapsed": false
   },
   "outputs": [],
   "source": [
    "def paths_extract(l,r):\n",
    "    for file_name in files[l:r]:\n",
    "        f = open('%s/%s'%(this_path,file_name))\n",
    "        context = f.readlines()\n",
    "        data = []\n",
    "        for i in context[:]:\n",
    "            try:\n",
    "                data += [json.loads(i.replace(',\\n','').replace('\\n',''))]\n",
    "            except:\n",
    "                pass\n",
    "        data=sorted(data, key=lambda x: x['timestamp'])\n",
    "        for path in paths_to_str(simplify_path(filter_paths(get_paths(get_relation_mat(data))))):\n",
    "            output.write(path.encode('utf-8') + '\\n')\n",
    "            all_paths += [path]\n",
    "        f.close()\n",
    "    print \"Done %d - %d\" %(l,r)"
   ]
  },
  {
   "cell_type": "code",
   "execution_count": 236,
   "metadata": {
    "collapsed": false
   },
   "outputs": [],
   "source": [
    "all_paths = []\n",
    "output = open('all_paths.txt', 'w')\n",
    "for file_name in files[:]:\n",
    "    f = open('%s/%s'%(this_path, file_name))\n",
    "    context = f.readlines()\n",
    "    data = []\n",
    "    for i in context[:]:\n",
    "        try:\n",
    "            data += [json.loads(i.replace(',\\n','').replace('\\n',''))]\n",
    "        except:\n",
    "            pass\n",
    "    data=sorted(data, key=lambda x: x['timestamp'])\n",
    "    for path in paths_to_str(simplify_path(filter_paths(get_paths(get_relation_mat(data))))):\n",
    "        output.write(path.encode('utf-8') + '\\n')\n",
    "        all_paths += [path]\n",
    "    #output.write('%d \\n------------\\n'%files.index(file_name))\n",
    "output.close()"
   ]
  },
  {
   "cell_type": "code",
   "execution_count": 97,
   "metadata": {
    "collapsed": true
   },
   "outputs": [],
   "source": [
    "all_paths = []\n",
    "output = open('paths.txt', 'w')"
   ]
  },
  {
   "cell_type": "code",
   "execution_count": 15,
   "metadata": {
    "collapsed": true
   },
   "outputs": [],
   "source": [
    "files = [os.path.basename(x) for x in glob.glob('%s/*.json'%this_path)]"
   ]
  },
  {
   "cell_type": "code",
   "execution_count": null,
   "metadata": {
    "collapsed": false,
    "scrolled": true
   },
   "outputs": [],
   "source": [
    "ts = []\n",
    "l_files = len(files)/100\n",
    "N = 10\n",
    "for i in range(0,N):\n",
    "    ts += [threading.Thread(target=paths_extract, args=(l_files*i/N,l_files*(i+1)/N))]\n",
    "\n",
    "for t in ts:\n",
    "    t.start()"
   ]
  },
  {
   "cell_type": "code",
   "execution_count": null,
   "metadata": {
    "collapsed": true
   },
   "outputs": [],
   "source": [
    "output.close()"
   ]
  },
  {
   "cell_type": "code",
   "execution_count": 237,
   "metadata": {
    "collapsed": false
   },
   "outputs": [
    {
     "data": {
      "text/plain": [
       "170067"
      ]
     },
     "execution_count": 237,
     "metadata": {},
     "output_type": "execute_result"
    }
   ],
   "source": [
    "len(files)"
   ]
  },
  {
   "cell_type": "code",
   "execution_count": 238,
   "metadata": {
    "collapsed": false
   },
   "outputs": [
    {
     "data": {
      "text/plain": [
       "315197"
      ]
     },
     "execution_count": 238,
     "metadata": {},
     "output_type": "execute_result"
    }
   ],
   "source": [
    "len(all_paths)"
   ]
  },
  {
   "cell_type": "code",
   "execution_count": 225,
   "metadata": {
    "collapsed": false
   },
   "outputs": [
    {
     "data": {
      "text/plain": [
       "41019"
      ]
     },
     "execution_count": 225,
     "metadata": {},
     "output_type": "execute_result"
    }
   ],
   "source": [
    "len(set(all_paths))"
   ]
  },
  {
   "cell_type": "code",
   "execution_count": 229,
   "metadata": {
    "collapsed": true
   },
   "outputs": [],
   "source": [
    "srt = sorted(list(set(all_paths)), key = lambda x: all_paths.count(x), reverse=True)"
   ]
  },
  {
   "cell_type": "code",
   "execution_count": 212,
   "metadata": {
    "collapsed": true
   },
   "outputs": [],
   "source": [
    "counts = [all_paths.count(i) for i in srt]"
   ]
  },
  {
   "cell_type": "code",
   "execution_count": 214,
   "metadata": {
    "collapsed": false
   },
   "outputs": [
    {
     "data": {
      "text/plain": [
       "971"
      ]
     },
     "execution_count": 214,
     "metadata": {},
     "output_type": "execute_result"
    }
   ],
   "source": [
    "counts.index(166)"
   ]
  },
  {
   "cell_type": "code",
   "execution_count": 215,
   "metadata": {
    "collapsed": false
   },
   "outputs": [
    {
     "data": {
      "text/plain": [
       "u'google , /clinics/country/illness/ , auto_help'"
      ]
     },
     "execution_count": 215,
     "metadata": {},
     "output_type": "execute_result"
    }
   ],
   "source": [
    "srt[971]"
   ]
  },
  {
   "cell_type": "code",
   "execution_count": 230,
   "metadata": {
    "collapsed": false,
    "scrolled": false
   },
   "outputs": [
    {
     "name": "stdout",
     "output_type": "stream",
     "text": [
      "14378 google , /clinics/country/illness/ , auto_help\n",
      "\n",
      "13466 google , /clinic/clinic_name , auto_help\n",
      "\n",
      "7189 google , /clinics/country/illness/ , clinic_get_cost\n",
      "\n",
      "7080 /clinics/country/illness/ , /clinic/clinic_name , /clinic/clinic_name\n",
      "\n",
      "6889 /clinics/country/illness/ , /clinic/clinic_name , /clinic/clinic_name , auto_help\n",
      "\n",
      "6103 yandex , /clinics/country/illness/ , auto_help\n",
      "\n",
      "6002 google , /clinics/country/ , auto_help\n",
      "\n",
      "5970 /clinics/country/ , /clinic/clinic_name , /clinic/clinic_name\n",
      "\n",
      "5215 yandex , /clinic/clinic_name , auto_help\n",
      "\n",
      "4671 google , /clinics/country/illness/\n",
      "\n",
      "4527 /clinics/country/ , /clinics/country/ , /clinics/country/\n",
      "\n",
      "4046 google , /clinics/country/illness/ , /clinic/clinic_name\n",
      "\n",
      "3671 /clinics/country/ , /clinic/clinic_name , /clinic/clinic_name , auto_help\n",
      "\n",
      "3088 google , /clinics/country/\n",
      "\n",
      "2894 /clinics/country/illness/ , /clinics/country/illness/ , /clinics/country/illness/\n",
      "\n",
      "2739 yandex , /clinics/country/ , auto_help\n",
      "\n",
      "2292 /clinics/illness/ , /clinic/clinic_name , /clinic/clinic_name\n",
      "\n",
      "2283 google , /clinics/country/ , clinic_get_cost\n",
      "\n",
      "2116 google , /clinics/country/illness/ , clinic_get_cost , auto_help\n",
      "\n",
      "1973 google , /clinic/clinic_name\n",
      "\n",
      "1964 yandex , /clinics/country/illness/ , clinic_get_cost\n",
      "\n",
      "1956 / , /clinics/country/illness/ , clinic_get_cost\n",
      "\n",
      "1895 google , /clinic/clinic_name , clinic_get_cost\n",
      "\n",
      "1855 /clinics/illness/ , /clinics/illness/ , /clinics/illness/\n",
      "\n",
      "1807 google , /clinics/illness/ , auto_help\n",
      "\n",
      "1786 yandex , /article/article_name , auto_help\n",
      "\n",
      "1768 google , /clinics/country/ , /clinic/clinic_name\n",
      "\n",
      "1545 google , /clinics/country/illness/ , clinic_get_cost , /clinic/clinic_name\n",
      "\n",
      "1541 /clinic/clinic_name , /clinic/clinic_name , /clinic/clinic_name\n",
      "\n",
      "1459 / , /clinic/clinic_name\n",
      "\n",
      "1363 /clinics/country/direction/ , /clinic/clinic_name , /clinic/clinic_name\n",
      "\n",
      "1285 yandex , /clinics/country/illness/ , /clinic/clinic_name\n",
      "\n",
      "1274 google , /clinics/illness/\n",
      "\n",
      "1257 /clinic/clinic_name , /clinics/country/ , /clinics/country/\n",
      "\n",
      "1210 yandex , /clinics/country/illness/\n",
      "\n",
      "1176 / , / , /\n",
      "\n",
      "1174 google , /clinics/country/direction/ , auto_help\n",
      "\n",
      "1138 yandex , /clinics/illness/ , auto_help\n",
      "\n",
      "1127 yandex , /clinics/country/illness/ , clinic_get_cost , auto_help\n",
      "\n",
      "1096 / , /clinic/clinic_name , auto_help\n",
      "\n",
      "1088 /clinics/illness/ , /clinic/clinic_name , /clinic/clinic_name , auto_help\n",
      "\n",
      "1024 google , /clinics/country/illness/ , auto_help , /clinic/clinic_name\n",
      "\n",
      "1009 /clinics/country/direction/ , /clinic/clinic_name , /clinic/clinic_name , auto_help\n",
      "\n",
      "990 google , /article/article_name , auto_help\n",
      "\n",
      "944 /clinics/country/illness/ , /clinic/clinic_name , /clinic/clinic_name , clinic_get_cost\n",
      "\n",
      "932 /clinics/country/illness/ , /clinics/country/ , /clinics/country/\n",
      "\n",
      "835 / , /clinic/clinic_name , /clinic/clinic_name\n",
      "\n",
      "813 / , /clinics/country/ , /clinics/country/\n",
      "\n",
      "802 google , /clinics/illness/ , clinic_get_cost\n",
      "\n",
      "798 /clinics/country/ , /clinics/country/illness/ , /clinics/country/illness/\n",
      "\n",
      "790 /clinic/clinic_name , /clinic/clinic_name , /clinic/clinic_name , /clinic/clinic_name\n",
      "\n",
      "787 / , /clinics/country/ , clinic_get_cost\n",
      "\n",
      "785 / , /clinics/country/illness/\n",
      "\n",
      "737 google , /clinics/country/illness/ , clinics_get_clinic_in_country\n",
      "\n",
      "735 / , /clinics/country/illness/ , /clinic/clinic_name\n",
      "\n",
      "735 /clinics/illness/ , /clinics/country/illness/ , /clinics/country/illness/\n",
      "\n",
      "694 google , /clinics/country/direction/\n",
      "\n",
      "685 / , /clinic/clinic_name , clinic_get_cost\n",
      "\n",
      "680 yandex , /clinics/country/\n",
      "\n",
      "674 google , /clinics/country/illness/ , clinic_get_cost , clinic_get_cost\n",
      "\n",
      "655 yandex , /clinics/country/ , /clinic/clinic_name\n",
      "\n",
      "649 yandex , /clinics/country/ , clinic_get_cost\n",
      "\n",
      "629 google , /doctor/doctor_name , auto_help\n",
      "\n",
      "625 / , /clinics/country/illness/ , auto_help\n",
      "\n",
      "623 /clinics/country/ , /clinics/country/ , /clinics/country/ , auto_help\n",
      "\n",
      "622 /clinic/clinic_name , /doctor/doctor_name , /doctor/doctor_name\n",
      "\n",
      "612 google , /clinics/country/illness/ , /clinics/country/illness/\n",
      "\n",
      "607 /clinics/country/ , /clinics/country/ , /clinics/country/ , clinic_get_cost\n",
      "\n",
      "605 yandex , /clinic/clinic_name\n",
      "\n",
      "600 facebook , /article/article_name , auto_help\n",
      "\n",
      "591 google , /clinic/clinic_name , clinic_free_cost_calc\n",
      "\n",
      "591 /clinics/country/ , /clinic/clinic_name , /clinic/clinic_name , clinic_get_cost\n",
      "\n",
      "587 /clinics/country/ , /clinics/country/ , /clinics/country/ , /clinics/country/\n",
      "\n",
      "580 /clinics/country/ , /clinics/country/ , /clinics/country/ , /clinic/clinic_name\n",
      "\n",
      "573 google , / , auto_help\n",
      "\n",
      "571 google , /clinics/country/ , /clinics/country/\n",
      "\n",
      "558 /clinics/country/direction/ , /clinics/country/illness/ , /clinics/country/illness/\n",
      "\n",
      "551 /clinics/country/ , /clinics/country/direction/ , /clinics/country/direction/\n",
      "\n",
      "537 / , /clinics/country/\n",
      "\n",
      "535 mail , /clinic/clinic_name , auto_help\n",
      "\n",
      "525 /clinic/clinic_name , /clinics/illness/ , /clinics/illness/\n",
      "\n",
      "517 google , /clinic/clinic_name , clinic_get_cost , auto_help\n",
      "\n",
      "516 google , /clinics/country/ , clinic_get_cost , /clinic/clinic_name\n",
      "\n",
      "514 /clinics/country/illness/ , /clinics/country/illness/ , /clinics/country/illness/ , /clinic/clinic_name\n",
      "\n",
      "506 yandex , /clinics/country/illness/ , clinic_get_cost , /clinic/clinic_name\n",
      "\n",
      "502 yandex , /clinics/country/direction/ , auto_help\n",
      "\n",
      "502 google , /clinics/country/ , clinic_get_cost , auto_help\n",
      "\n",
      "501 /illnesses/ , /clinics/illness/ , /clinics/illness/\n",
      "\n",
      "501 /clinic/clinic_name , /clinic/clinic_name\n",
      "\n",
      "491 /clinics/country/illness/ , /clinics/country/illness/ , /clinics/country/illness/ , auto_help\n",
      "\n",
      "482 / , / , / , /\n",
      "\n",
      "472 google , /clinics/country/illness/ , /clinic/clinic_name , auto_help\n",
      "\n",
      "470 google , /clinics/country/ , auto_help , /clinic/clinic_name\n",
      "\n",
      "449 /clinics/country/direction/ , /clinics/country/direction/ , /clinics/country/direction/\n",
      "\n",
      "447 google , /clinics/country/illness/ , clinic_get_cost , /clientLK/\n",
      "\n",
      "430 google , /clinics/country/direction/ , clinic_get_cost\n",
      "\n",
      "425 / , /article/article_name , auto_help\n",
      "\n",
      "409 /countries/ , /clinics/country/ , /clinics/country/\n",
      "\n",
      "405 /clinics/country/illness/ , /clinics/country/illness/ , /clinics/country/illness/ , /clinics/country/illness/\n",
      "\n",
      "402 google , /clinics/illness/ , /clinic/clinic_name\n",
      "\n"
     ]
    }
   ],
   "source": [
    "for i in srt[:100]:\n",
    "    print all_paths.count(i), i\n",
    "    print"
   ]
  },
  {
   "cell_type": "code",
   "execution_count": null,
   "metadata": {
    "collapsed": true
   },
   "outputs": [],
   "source": []
  },
  {
   "cell_type": "code",
   "execution_count": 170,
   "metadata": {
    "collapsed": false
   },
   "outputs": [
    {
     "ename": "TypeError",
     "evalue": "'_sre.SRE_Match' object has no attribute '__getitem__'",
     "output_type": "error",
     "traceback": [
      "\u001b[1;31m---------------------------------------------------------------------------\u001b[0m",
      "\u001b[1;31mTypeError\u001b[0m                                 Traceback (most recent call last)",
      "\u001b[1;32m<ipython-input-170-94e2210f724e>\u001b[0m in \u001b[0;36m<module>\u001b[1;34m()\u001b[0m\n\u001b[0;32m      1\u001b[0m \u001b[0mtemp\u001b[0m \u001b[1;33m=\u001b[0m \u001b[0mre\u001b[0m\u001b[1;33m.\u001b[0m\u001b[0mmatch\u001b[0m\u001b[1;33m(\u001b[0m\u001b[0mtwo_var_pattern\u001b[0m\u001b[1;33m,\u001b[0m \u001b[0mpaths\u001b[0m\u001b[1;33m[\u001b[0m\u001b[1;36m0\u001b[0m\u001b[1;33m]\u001b[0m\u001b[1;33m[\u001b[0m\u001b[1;36m2\u001b[0m\u001b[1;33m]\u001b[0m\u001b[1;33m)\u001b[0m\u001b[1;33m\u001b[0m\u001b[0m\n\u001b[1;32m----> 2\u001b[1;33m \u001b[1;32mprint\u001b[0m \u001b[0mtemp\u001b[0m\u001b[1;33m[\u001b[0m\u001b[1;34m'head'\u001b[0m\u001b[1;33m]\u001b[0m\u001b[1;33m+\u001b[0m\u001b[0mtemp\u001b[0m\u001b[1;33m[\u001b[0m\u001b[1;34m'var1'\u001b[0m\u001b[1;33m]\u001b[0m\u001b[1;33m+\u001b[0m\u001b[1;34m'/'\u001b[0m\u001b[1;33m+\u001b[0m\u001b[0mtemp\u001b[0m\u001b[1;33m[\u001b[0m\u001b[1;34m'var'\u001b[0m\u001b[1;33m]\u001b[0m\u001b[1;33m+\u001b[0m\u001b[1;34m'/'\u001b[0m\u001b[1;33m\u001b[0m\u001b[0m\n\u001b[0m",
      "\u001b[1;31mTypeError\u001b[0m: '_sre.SRE_Match' object has no attribute '__getitem__'"
     ]
    }
   ],
   "source": [
    "temp = re.match(two_var_pattern, paths[0][2])\n",
    "print temp['head']+temp['var1']+'/'+temp['var']+'/'"
   ]
  },
  {
   "cell_type": "code",
   "execution_count": 191,
   "metadata": {
    "collapsed": true
   },
   "outputs": [],
   "source": [
    "clinic_pattern = '(?P<head>/clinic/)[\\w-]*'"
   ]
  },
  {
   "cell_type": "code",
   "execution_count": 152,
   "metadata": {
    "collapsed": true
   },
   "outputs": [],
   "source": [
    "one_var_pattern = '(?P<head>/(clinics|treatment)/)(?P<var>(country|illness|direction))=[\\w]*'\n",
    "two_var_pattern = '(?P<head>/(clinics|treatment)/)(?P<var1>(country|illness|direction))=[\\w]*/(?P<var2>(country|illness|direction))=[\\w]*'"
   ]
  },
  {
   "cell_type": "code",
   "execution_count": 192,
   "metadata": {
    "collapsed": false
   },
   "outputs": [
    {
     "data": {
      "text/plain": [
       "{'head': u'/clinic/'}"
      ]
     },
     "execution_count": 192,
     "metadata": {},
     "output_type": "execute_result"
    }
   ],
   "source": [
    "re.match(clinic_pattern, paths[0][1]).groupdict()"
   ]
  },
  {
   "cell_type": "code",
   "execution_count": 138,
   "metadata": {
    "collapsed": false
   },
   "outputs": [
    {
     "name": "stdout",
     "output_type": "stream",
     "text": [
      "/clinics/country/direction=onkologiya/\n"
     ]
    }
   ],
   "source": [
    "temp = re.match(country_pattern, paths[1][1]).groupdict()\n",
    "print temp['head']+temp['var']+temp['tail']\n",
    "n_p = temp['head']+temp['var']+temp['tail']"
   ]
  },
  {
   "cell_type": "code",
   "execution_count": 193,
   "metadata": {
    "collapsed": false
   },
   "outputs": [
    {
     "data": {
      "text/plain": [
       "[[u'auto_help', u'/clinic/clinik-soroka/', u'http://yandex.ru/clck/']]"
      ]
     },
     "execution_count": 193,
     "metadata": {},
     "output_type": "execute_result"
    }
   ],
   "source": [
    "paths"
   ]
  },
  {
   "cell_type": "code",
   "execution_count": 178,
   "metadata": {
    "collapsed": false
   },
   "outputs": [
    {
     "data": {
      "text/plain": [
       "[[u'/treatment/country/',\n",
       "  u'clinic_get_cost',\n",
       "  u'/clinics/country/illness/',\n",
       "  u'/clinics/country/illness/',\n",
       "  u'/clinics/country/direction/'],\n",
       " [u'/clinics/country/direction/',\n",
       "  u'/clinics/country/direction/',\n",
       "  u'/treatment/country/'],\n",
       " [u'/treatment/country/',\n",
       "  u'/treatment/country/',\n",
       "  u'/clinics/country/illness/']]"
      ]
     },
     "execution_count": 178,
     "metadata": {},
     "output_type": "execute_result"
    }
   ],
   "source": [
    "simplify_path(paths)"
   ]
  },
  {
   "cell_type": "code",
   "execution_count": 185,
   "metadata": {
    "collapsed": false
   },
   "outputs": [],
   "source": [
    "f = open('%s/%s'%(this_path,files[703]))\n",
    "context = f.readlines()\n",
    "data = []\n",
    "for i in context[:]:\n",
    "    try:\n",
    "        data += [json.loads(i.replace(',\\n','').replace('\\n',''))]\n",
    "    except:\n",
    "        pass\n",
    "data=sorted(data, key=lambda x: x['timestamp'])"
   ]
  },
  {
   "cell_type": "code",
   "execution_count": 186,
   "metadata": {
    "collapsed": false
   },
   "outputs": [
    {
     "data": {
      "text/plain": [
       "[[u'auto_help', u'/clinic/clinik-soroka/', u'http://yandex.ru/clck/']]"
      ]
     },
     "execution_count": 186,
     "metadata": {},
     "output_type": "execute_result"
    }
   ],
   "source": [
    "get_paths(get_relation_mat(data))"
   ]
  },
  {
   "cell_type": "code",
   "execution_count": 188,
   "metadata": {
    "collapsed": false
   },
   "outputs": [],
   "source": [
    "paths=filter_paths(get_paths(get_relation_mat(data)))"
   ]
  },
  {
   "cell_type": "code",
   "execution_count": 18,
   "metadata": {
    "collapsed": false
   },
   "outputs": [
    {
     "data": {
      "text/plain": [
       "[u'google , /clinic/essen-university-hospital/ , auto_help']"
      ]
     },
     "execution_count": 18,
     "metadata": {},
     "output_type": "execute_result"
    }
   ],
   "source": [
    "paths_to_str(simplify_path(filter_paths(get_paths(get_relation_mat(data)))))"
   ]
  }
 ],
 "metadata": {
  "kernelspec": {
   "display_name": "Python 2",
   "language": "python",
   "name": "python2"
  },
  "language_info": {
   "codemirror_mode": {
    "name": "ipython",
    "version": 2
   },
   "file_extension": ".py",
   "mimetype": "text/x-python",
   "name": "python",
   "nbconvert_exporter": "python",
   "pygments_lexer": "ipython2",
   "version": "2.7.6"
  }
 },
 "nbformat": 4,
 "nbformat_minor": 0
}
