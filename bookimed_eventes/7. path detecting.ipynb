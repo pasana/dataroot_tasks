{
 "cells": [
  {
   "cell_type": "code",
   "execution_count": 1,
   "metadata": {
    "collapsed": true
   },
   "outputs": [],
   "source": [
    "import os\n",
    "import glob\n",
    "import json\n",
    "import numpy as np\n",
    "import copy\n",
    "import re"
   ]
  },
  {
   "cell_type": "code",
   "execution_count": 2,
   "metadata": {
    "collapsed": true
   },
   "outputs": [],
   "source": [
    "def get_relation_mat(data):\n",
    "    N=len(data_t)\n",
    "    r  = re.compile('^http[s]*://[ru.]*bookimed.com(?P<path>/[\\w/=-]*)')\n",
    "    mat = np.zeros((N,N))\n",
    "    for i in range(0,N):\n",
    "        for j in range(i+1,N):\n",
    "            try:\n",
    "                ref = re.match(r, data_t[j]['referrer']).groupdict()['path'] \n",
    "            except:\n",
    "                ref = data_t[j]['referrer']\n",
    "            if ref==data_t[i]['path']:\n",
    "                mat[i,j] = 1\n",
    "                continue\n",
    "\n",
    "            if data_t[j]['path']==data_t[i]['path'] and data_t[j]['referrer']==data_t[i]['referrer']:\n",
    "                if data_t[j]['type']==3:\n",
    "                    mat[i,j] = 2\n",
    "                    continue\n",
    "                if data_t[j]['type']==data_t[i]['type'] and data_t[i]['type']==1:\n",
    "                    d1 = copy.deepcopy(data_t[i])\n",
    "                    d2 = copy.deepcopy(data_t[j])\n",
    "                    #d1 = data_t[i].values()\n",
    "                    #d2 = data_t[j].values()\n",
    "                    if d1.pop('timestamp')!=d2.pop('timestamp'):\n",
    "                        d1.pop('userId')\n",
    "                        d2.pop('userId')\n",
    "                        try:\n",
    "                            d1.pop('originalTimestamp')\n",
    "                            d2.pop('originalTimestamp')\n",
    "                        except:\n",
    "                            pass\n",
    "                        if d1==d2:\n",
    "                            mat[i,j]=3\n",
    "                            continue\n",
    "                if data_t[j]['type']==2:\n",
    "                    if data_t[j]['event']==2:\n",
    "                        mat[i,j]=4\n",
    "                        continue\n",
    "                    if data_t[j]['event']==3:\n",
    "                        mat[i,j]=5\n",
    "                        continue\n",
    "                    if data_t[j]['event']==1:\n",
    "                        mat[i,j]=6\n",
    "                        continue\n",
    "    return mat"
   ]
  },
  {
   "cell_type": "code",
   "execution_count": 3,
   "metadata": {
    "collapsed": true
   },
   "outputs": [],
   "source": [
    "def get_paths(mat_t):\n",
    "    N = mat_t.shape[0]\n",
    "    b = np.ones(N)\n",
    "    paths = []\n",
    "    for j in range(N-1,0,-1):\n",
    "        i=N-1\n",
    "        path = []\n",
    "        #print\n",
    "        while (i>0) and (j>=1):\n",
    "            #print j\n",
    "            for i in range(j-1,-1,-1):\n",
    "                #print \"\\t %d\" % i, mat_t[i,j]\n",
    "                if mat_t[i,j]==0:\n",
    "                    continue\n",
    "                if mat_t[i,j] == 1:\n",
    "                    path += [data[j]['path']]\n",
    "                    break\n",
    "                if mat_t[i,j] == 2:\n",
    "                    path += ['identify']\n",
    "                    break\n",
    "                if mat_t[i,j] == 3:\n",
    "                    #path += [data[j]['path']]\n",
    "                    break\n",
    "                    pass\n",
    "                if mat_t[i,j] == 4:\n",
    "                    path += [u'Requested Treatment']\n",
    "                    break\n",
    "                if mat_t[i,j] == 5:\n",
    "                    path += [u'Requested Callback']\n",
    "                    break\n",
    "                if mat_t[i,j] == 6:\n",
    "                    #print data[j]\n",
    "                    path += [data[j]['properties']['button_type']]\n",
    "                    break                  \n",
    "            if i==0:\n",
    "                #print path, i, j\n",
    "                try:\n",
    "                    ref = re.match(r, data[j]['referrer']).groupdict()['path'] \n",
    "                except:\n",
    "                    ref = data[j]['referrer']\n",
    "                if data[j]['type']==1:\n",
    "                    path+=[ref]\n",
    "                    if j==1:\n",
    "                        try:\n",
    "                            path+=[re.match(r, data[0]['referrer']).groupdict()['path'] ]\n",
    "                        except:\n",
    "                            path+=[data[0]['referrer']]\n",
    "                else:\n",
    "                    path+=[data[j]['path']]\n",
    "                    path+=[ref]\n",
    "            j=i\n",
    "            #print \"\\t \\t\" ,i,j, b\n",
    "            #print (i!=0 or j!=1), '=', (i!=0), (j!=1)\n",
    "        paths += [path]\n",
    "    return paths"
   ]
  },
  {
   "cell_type": "code",
   "execution_count": 4,
   "metadata": {
    "collapsed": true
   },
   "outputs": [],
   "source": [
    "def filter_paths(paths_t):\n",
    "    inds=[]\n",
    "    paths=sorted(paths_t, key=lambda x: len(x),reverse=True)\n",
    "    for i in range(len(paths)-1,-1,-1):\n",
    "        for j in range(i-1,-1,-1):\n",
    "            l = len(paths[j]) - len(paths[i])\n",
    "            if paths[j][l:]==paths[i]:\n",
    "                inds+=[i]\n",
    "                break\n",
    "    for i in inds:\n",
    "        tenp=paths.pop(i)\n",
    "    return paths"
   ]
  },
  {
   "cell_type": "code",
   "execution_count": 43,
   "metadata": {
    "collapsed": true
   },
   "outputs": [],
   "source": [
    "def paths_to_str(paths_t):\n",
    "    str_paths = []\n",
    "    for i in paths_t:\n",
    "        str_paths += [' , '.join(list(reversed(i)))]\n",
    "    return str_paths"
   ]
  },
  {
   "cell_type": "code",
   "execution_count": null,
   "metadata": {
    "collapsed": true
   },
   "outputs": [],
   "source": []
  },
  {
   "cell_type": "code",
   "execution_count": 5,
   "metadata": {
    "collapsed": true
   },
   "outputs": [],
   "source": [
    "files = [os.path.basename(x) for x in glob.glob('./reg_users/*.json')]"
   ]
  },
  {
   "cell_type": "code",
   "execution_count": 33,
   "metadata": {
    "collapsed": true
   },
   "outputs": [],
   "source": [
    "f = open('./un_users/%s'%files[31])\n",
    "context = f.readlines()\n",
    "data = []\n",
    "for i in context[:]:\n",
    "    try:\n",
    "        data += [json.loads(i.replace(',\\n','').replace('\\n',''))]\n",
    "    except:\n",
    "        pass\n",
    "data=sorted(data, key=lambda x: x['timestamp'])"
   ]
  },
  {
   "cell_type": "code",
   "execution_count": 57,
   "metadata": {
    "collapsed": false
   },
   "outputs": [],
   "source": [
    "all_paths = []\n",
    "output = open('paths.txt', 'w')\n",
    "for file_name in files[:1000]:\n",
    "    f = open('./un_users/%s'%file_name)\n",
    "    context = f.readlines()\n",
    "    data = []\n",
    "    for i in context[:]:\n",
    "        try:\n",
    "            data += [json.loads(i.replace(',\\n','').replace('\\n',''))]\n",
    "        except:\n",
    "            pass\n",
    "    data=sorted(data, key=lambda x: x['timestamp'])\n",
    "    for path in paths_to_str(filter_paths(get_paths(get_relation_mat(data)))):\n",
    "        output.write(path.encode('utf-8') + '\\n')\n",
    "        all_paths += [path]\n",
    "output.close()"
   ]
  },
  {
   "cell_type": "code",
   "execution_count": 56,
   "metadata": {
    "collapsed": false
   },
   "outputs": [
    {
     "data": {
      "text/plain": [
       "'http://yandex.ru/clck/ , /clinic/mezhdunarodnuj-medicinskij-centr-\\xc2\\xabvivantes\\xc2\\xbb-berlin/'"
      ]
     },
     "execution_count": 56,
     "metadata": {},
     "output_type": "execute_result"
    }
   ],
   "source": [
    "path.encode('utf-8')"
   ]
  },
  {
   "cell_type": "code",
   "execution_count": 58,
   "metadata": {
    "collapsed": false
   },
   "outputs": [
    {
     "data": {
      "text/plain": [
       "2410"
      ]
     },
     "execution_count": 58,
     "metadata": {},
     "output_type": "execute_result"
    }
   ],
   "source": [
    "len(all_paths)"
   ]
  },
  {
   "cell_type": "code",
   "execution_count": 59,
   "metadata": {
    "collapsed": false
   },
   "outputs": [
    {
     "data": {
      "text/plain": [
       "2278"
      ]
     },
     "execution_count": 59,
     "metadata": {},
     "output_type": "execute_result"
    }
   ],
   "source": [
    "len(set(all_paths))"
   ]
  },
  {
   "cell_type": "code",
   "execution_count": 60,
   "metadata": {
    "collapsed": true
   },
   "outputs": [],
   "source": [
    "import re"
   ]
  }
 ],
 "metadata": {
  "kernelspec": {
   "display_name": "Python 2",
   "language": "python",
   "name": "python2"
  },
  "language_info": {
   "codemirror_mode": {
    "name": "ipython",
    "version": 2
   },
   "file_extension": ".py",
   "mimetype": "text/x-python",
   "name": "python",
   "nbconvert_exporter": "python",
   "pygments_lexer": "ipython2",
   "version": "2.7.6"
  }
 },
 "nbformat": 4,
 "nbformat_minor": 0
}
