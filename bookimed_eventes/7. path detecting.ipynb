{
 "cells": [
  {
   "cell_type": "code",
   "execution_count": 1,
   "metadata": {
    "collapsed": true
   },
   "outputs": [],
   "source": [
    "import os\n",
    "import glob\n",
    "import json\n",
    "import numpy as np\n",
    "import copy\n",
    "import re"
   ]
  },
  {
   "cell_type": "code",
   "execution_count": 179,
   "metadata": {
    "collapsed": true
   },
   "outputs": [],
   "source": [
    "domains = 'com|co.in|com.hk|de||co.uk|co.jp|fr|com.br|it|ru|es|ca|com.mx|co.id|com.tr|com.au|pl|com.sa|nl|com.ar|com.eg|co.th|com.pk|co.za|com.my|be|gr|com.vn|co.ve|com.tw|com.ua|at|se|com.co|ro|ch|pt|com.ph|cl|com.ng|com.sg|com.pe|ae|co.kr|co.hu|ie|dk|no|co.il|fi|cz|co.ma|sk|co.nz|com.kw|lk|bg|com.qa|az|kz|com.do|hr|by|com.ec|lt|iq|co.ke|com.bd|com.om|tn|si|co.cr|com.gt|com.pr|com.sv|lv|com.uy|jo|com.bo|ba|com.cu|rs|com.ly|cm|ee|co.ug|com.bh|com.np|com.gh|dz|lu|com.lb|co.uz|ci|com.py|com.ni|hn|com.et|tt|co.tz|mg|sn|cd|com.kh|am|com.af|ge|mu|com.bn|co.mz|com.jm|com.gi|is|com.pa|md|ps|com.na|mn|com.mt|co.bw|bj|kg|ml|rw|co.zm|bs|ht|la|com.bz|co.zw|as|cat|mk|ne|mw|tg|co.ao|gp|gy|bf|ga|li|co|tm|dj|mv|hk|sc|dm|bi|co.vi|vu|ad|com.vc|com.ag|com.fj|to|cf|fm|tk|gg|ws|vg|im|nu|gm|je|ms|me|co.im|tl|com.ai|gl|co.ls|co.je|st|it.ao|com.by|com.tj|pn|sh|com.sl|nr|sm|cg|co.ck|com.sb|com.cy|so|com.nf|com.ve|com.iq|jp|ac|com.tn|in|td'\n",
    "\n",
    "pattern = u'^http[s]*://(www.|www.clck|ru.|go.|nova.|)(?P<ref>[\\w]+).(%s)(?P<tail>[\\w/=%%-]*)'%domains\n",
    "\n",
    "r = re.compile(pattern)"
   ]
  },
  {
   "cell_type": "code",
   "execution_count": 8,
   "metadata": {
    "collapsed": true
   },
   "outputs": [],
   "source": [
    "def get_relation_mat(data_t):\n",
    "    N=len(data_t)\n",
    "    r  = re.compile('^http[s]*://[ru.]*bookimed.com(?P<path>/[\\w/=-]*)')\n",
    "    mat = np.zeros((N,N))\n",
    "    for i in range(0,N):\n",
    "        for j in range(i+1,N):\n",
    "            try:\n",
    "                ref = re.match(r, data_t[j]['referrer']).groupdict()['path'] \n",
    "            except:\n",
    "                ref = data_t[j]['referrer']\n",
    "            if ref==data_t[i]['path']:\n",
    "                mat[i,j] = 1\n",
    "                continue\n",
    "\n",
    "            if data_t[j]['path']==data_t[i]['path'] and data_t[j]['referrer']==data_t[i]['referrer']:\n",
    "                if data_t[j]['type']==3:\n",
    "                    mat[i,j] = 2\n",
    "                    continue\n",
    "                if data_t[j]['type']==data_t[i]['type'] and data_t[i]['type']==1:\n",
    "                    d1 = copy.deepcopy(data_t[i])\n",
    "                    d2 = copy.deepcopy(data_t[j])\n",
    "                    #d1 = data_t[i].values()\n",
    "                    #d2 = data_t[j].values()\n",
    "                    if d1.pop('timestamp')!=d2.pop('timestamp'):\n",
    "                        d1.pop('userId')\n",
    "                        d2.pop('userId')\n",
    "                        try:\n",
    "                            d1.pop('originalTimestamp')\n",
    "                            d2.pop('originalTimestamp')\n",
    "                        except:\n",
    "                            pass\n",
    "                        if d1==d2:\n",
    "                            mat[i,j]=3\n",
    "                            continue\n",
    "                if data_t[j]['type']==2:\n",
    "                    if data_t[j]['event']==2:\n",
    "                        mat[i,j]=4\n",
    "                        continue\n",
    "                    if data_t[j]['event']==3:\n",
    "                        mat[i,j]=5\n",
    "                        continue\n",
    "                    if data_t[j]['event']==1:\n",
    "                        mat[i,j]=6\n",
    "                        continue\n",
    "    return mat"
   ]
  },
  {
   "cell_type": "code",
   "execution_count": 313,
   "metadata": {
    "collapsed": false
   },
   "outputs": [],
   "source": [
    "def get_paths(mat_t):\n",
    "    N = mat_t.shape[0]\n",
    "    b = np.ones(N)\n",
    "    paths = []\n",
    "    for j in range(N-1,0,-1):\n",
    "        i=N-1\n",
    "        path = []\n",
    "        #print\n",
    "        while (i>0) and (j>=1):\n",
    "            #print j\n",
    "            for i in range(j-1,-1,-1):\n",
    "                #print \"\\t %d\" % i, mat_t[i,j]\n",
    "                if mat_t[i,j]==0:\n",
    "                    continue\n",
    "                if mat_t[i,j] == 1:\n",
    "                    path += [data[j]['path']]\n",
    "                    break\n",
    "                if mat_t[i,j] == 2:\n",
    "                    path += ['identify']\n",
    "                    break\n",
    "                if mat_t[i,j] == 3:\n",
    "                    #path += [data[j]['path']]\n",
    "                    break\n",
    "                    pass\n",
    "                if mat_t[i,j] == 4:\n",
    "                    path += [u'Requested Treatment']\n",
    "                    break\n",
    "                if mat_t[i,j] == 5:\n",
    "                    path += [u'Requested Callback']\n",
    "                    break\n",
    "                if mat_t[i,j] == 6:\n",
    "                    #print data[j]\n",
    "                    path += [data[j]['properties']['button_type']]\n",
    "                    break                  \n",
    "            if sum(mat_t[0:i,j])==0:\n",
    "                path += [data[j]['path']]\n",
    "                path += [data[j]['referrer']]\n",
    "                break\n",
    "            if i==0:\n",
    "                if data[0]['type']==1:\n",
    "                    path+=[data[0]['path']]\n",
    "                    try:\n",
    "                        path+=[re.match(r, data[0]['referrer']).groupdict()['path'] ]\n",
    "                    except:\n",
    "                        path+=[data[0]['referrer']]\n",
    "                if data[0]['type']==3:\n",
    "                    path+=['identify']\n",
    "            j=i\n",
    "            #print \"\\t \\t\" ,i,j, b\n",
    "            #print (i!=0 or j!=1), '=', (i!=0), (j!=1)\n",
    "        paths += [path]\n",
    "    return paths"
   ]
  },
  {
   "cell_type": "code",
   "execution_count": 4,
   "metadata": {
    "collapsed": true
   },
   "outputs": [],
   "source": [
    "def filter_paths(paths_t):\n",
    "    inds=[]\n",
    "    paths=sorted(paths_t, key=lambda x: len(x),reverse=True)\n",
    "    for i in range(len(paths)-1,-1,-1):\n",
    "        for j in range(i-1,-1,-1):\n",
    "            l = len(paths[j]) - len(paths[i])\n",
    "            if paths[j][l:]==paths[i]:\n",
    "                inds+=[i]\n",
    "                break\n",
    "    for i in inds:\n",
    "        tenp=paths.pop(i)\n",
    "    return paths"
   ]
  },
  {
   "cell_type": "code",
   "execution_count": 114,
   "metadata": {
    "collapsed": false
   },
   "outputs": [],
   "source": [
    "def simplify_path(paths_t):\n",
    "    for path in paths_t:\n",
    "        for i in range(0, len(path)):\n",
    "            try:\n",
    "                ref = re.match(r, path[i]).groupdict()['ref']\n",
    "                if ref == 'bookimed':\n",
    "                    path[i] = re.match(r, path[i]).groupdict()['tail']\n",
    "                else:\n",
    "                    path[i] = ref\n",
    "            except:\n",
    "                pass\n",
    "    return paths_t"
   ]
  },
  {
   "cell_type": "code",
   "execution_count": 5,
   "metadata": {
    "collapsed": true
   },
   "outputs": [],
   "source": [
    "def paths_to_str(paths_t):\n",
    "    str_paths = []\n",
    "    for i in paths_t:\n",
    "        str_paths += [' , '.join(list(reversed(i)))]\n",
    "    return str_paths"
   ]
  },
  {
   "cell_type": "code",
   "execution_count": null,
   "metadata": {
    "collapsed": true
   },
   "outputs": [],
   "source": []
  },
  {
   "cell_type": "code",
   "execution_count": 6,
   "metadata": {
    "collapsed": true
   },
   "outputs": [],
   "source": [
    "files = [os.path.basename(x) for x in glob.glob('./reg_users/*.json')]"
   ]
  },
  {
   "cell_type": "code",
   "execution_count": 314,
   "metadata": {
    "collapsed": false
   },
   "outputs": [],
   "source": [
    "all_paths = []\n",
    "output = open('paths.txt', 'w')\n",
    "for file_name in files[:2000]:\n",
    "    f = open('./un_users/%s'%file_name)\n",
    "    context = f.readlines()\n",
    "    data = []\n",
    "    for i in context[:]:\n",
    "        try:\n",
    "            data += [json.loads(i.replace(',\\n','').replace('\\n',''))]\n",
    "        except:\n",
    "            pass\n",
    "    data=sorted(data, key=lambda x: x['timestamp'])\n",
    "    for path in paths_to_str(simplify_path(filter_paths(get_paths(get_relation_mat(data))))):\n",
    "        output.write(path.encode('utf-8') + '\\n')\n",
    "        all_paths += [path]\n",
    "    output.write('%d \\n------------\\n'%files.index(file_name))\n",
    "output.close()"
   ]
  },
  {
   "cell_type": "code",
   "execution_count": 195,
   "metadata": {
    "collapsed": false
   },
   "outputs": [
    {
     "data": {
      "text/plain": [
       "'google , google , auto_help'"
      ]
     },
     "execution_count": 195,
     "metadata": {},
     "output_type": "execute_result"
    }
   ],
   "source": [
    "path.encode('utf-8')"
   ]
  },
  {
   "cell_type": "code",
   "execution_count": 315,
   "metadata": {
    "collapsed": false
   },
   "outputs": [
    {
     "data": {
      "text/plain": [
       "6654"
      ]
     },
     "execution_count": 315,
     "metadata": {},
     "output_type": "execute_result"
    }
   ],
   "source": [
    "len(all_paths)"
   ]
  },
  {
   "cell_type": "code",
   "execution_count": 316,
   "metadata": {
    "collapsed": false
   },
   "outputs": [
    {
     "data": {
      "text/plain": [
       "5707"
      ]
     },
     "execution_count": 316,
     "metadata": {},
     "output_type": "execute_result"
    }
   ],
   "source": [
    "len(set(all_paths))"
   ]
  },
  {
   "cell_type": "code",
   "execution_count": 198,
   "metadata": {
    "collapsed": true
   },
   "outputs": [],
   "source": [
    "srt = sorted(list(set(all_paths)))"
   ]
  },
  {
   "cell_type": "code",
   "execution_count": null,
   "metadata": {
    "collapsed": false,
    "scrolled": true
   },
   "outputs": [],
   "source": [
    "for i in srt[-100:]:\n",
    "    print i\n",
    "    print"
   ]
  },
  {
   "cell_type": "code",
   "execution_count": null,
   "metadata": {
    "collapsed": true
   },
   "outputs": [],
   "source": []
  },
  {
   "cell_type": "code",
   "execution_count": null,
   "metadata": {
    "collapsed": true
   },
   "outputs": [],
   "source": []
  },
  {
   "cell_type": "code",
   "execution_count": null,
   "metadata": {
    "collapsed": true
   },
   "outputs": [],
   "source": []
  },
  {
   "cell_type": "code",
   "execution_count": 321,
   "metadata": {
    "collapsed": true
   },
   "outputs": [],
   "source": [
    "f = open('./un_users/%s'%files[745])\n",
    "context = f.readlines()\n",
    "data = []\n",
    "for i in context[:]:\n",
    "    try:\n",
    "        data += [json.loads(i.replace(',\\n','').replace('\\n',''))]\n",
    "    except:\n",
    "        pass\n",
    "data=sorted(data, key=lambda x: x['timestamp'])"
   ]
  },
  {
   "cell_type": "code",
   "execution_count": 322,
   "metadata": {
    "collapsed": true
   },
   "outputs": [
    {
     "data": {
      "text/plain": [
       "[[u'/clientLK/profile/', u''],\n",
       " [u'/clientLK/profile/',\n",
       "  u'/clientLK/requests/',\n",
       "  u'/clientLK/tprograms/',\n",
       "  u'/clientLK/chat/',\n",
       "  u'/clientLK/chat/',\n",
       "  u'http://ru.bookimed.com/clientLK/profile/'],\n",
       " [u'/clientLK/requests/',\n",
       "  u'/clientLK/tprograms/',\n",
       "  u'/clientLK/chat/',\n",
       "  u'/clientLK/chat/',\n",
       "  u'http://ru.bookimed.com/clientLK/profile/'],\n",
       " [u'/clientLK/tprograms/',\n",
       "  u'/clientLK/chat/',\n",
       "  u'/clientLK/chat/',\n",
       "  u'http://ru.bookimed.com/clientLK/profile/'],\n",
       " [u'/clientLK/chat/',\n",
       "  u'/clientLK/chat/',\n",
       "  u'http://ru.bookimed.com/clientLK/profile/'],\n",
       " [u'/clientLK/profile/',\n",
       "  u'/clientLK/profile/',\n",
       "  u'http://ru.bookimed.com/clientLK/requests/'],\n",
       " [u'/clientLK/requests/',\n",
       "  u'/clientLK/requests/',\n",
       "  u'http://ru.bookimed.com/clientLK/tprograms/'],\n",
       " [u'/clientLK/tprograms/',\n",
       "  u'/clientLK/tprograms/',\n",
       "  u'http://ru.bookimed.com/clientLK/chat/'],\n",
       " [u'/clientLK/chat/',\n",
       "  u'/clientLK/chat/',\n",
       "  u'http://ru.bookimed.com/clientLK/last_step/'],\n",
       " [u'/clientLK/last_step/',\n",
       "  u'/clientLK/last_step/',\n",
       "  u'http://ru.bookimed.com/clientLK/?action=login&login=ok.arhsc@mail.ru&hash=698773ad9ef9301b5bc0818ca9060e43'],\n",
       " [u'/clientLK/',\n",
       "  'identify',\n",
       "  u'clinic_get_cost',\n",
       "  u'/clinic/onkologicheskij-centr-andersena/',\n",
       "  u'/clinics/country=united-states/',\n",
       "  u'/clinics/country=united-states/',\n",
       "  u'http://ru.bookimed.com/countries/'],\n",
       " ['identify',\n",
       "  u'clinic_get_cost',\n",
       "  u'/clinic/onkologicheskij-centr-andersena/',\n",
       "  u'/clinics/country=united-states/',\n",
       "  u'/clinics/country=united-states/',\n",
       "  u'http://ru.bookimed.com/countries/'],\n",
       " [u'clinic_get_cost',\n",
       "  u'/clinic/onkologicheskij-centr-andersena/',\n",
       "  u'/clinics/country=united-states/',\n",
       "  u'/clinics/country=united-states/',\n",
       "  u'http://ru.bookimed.com/countries/'],\n",
       " [u'/clinic/onkologicheskij-centr-andersena/',\n",
       "  u'/clinics/country=united-states/',\n",
       "  u'/clinics/country=united-states/',\n",
       "  u'http://ru.bookimed.com/countries/'],\n",
       " [u'/review/620/',\n",
       "  u'/clinic/onkologicheskij-centr-andersena/',\n",
       "  u'/clinics/country=united-states/',\n",
       "  u'/clinics/country=united-states/',\n",
       "  u'http://ru.bookimed.com/countries/'],\n",
       " [u'/clinic/onkologicheskij-centr-andersena/',\n",
       "  u'/clinics/country=united-states/',\n",
       "  u'/clinics/country=united-states/',\n",
       "  u'http://ru.bookimed.com/countries/'],\n",
       " [u'/clinics/country=united-states/',\n",
       "  u'/clinics/country=united-states/',\n",
       "  u'http://ru.bookimed.com/countries/'],\n",
       " [u'auto_help',\n",
       "  u'/clinic/gospital-dzhona-hopkinsa/',\n",
       "  u'/clinic/gospital-dzhona-hopkinsa/',\n",
       "  u'http://ru.bookimed.com/clinics/country=united-states/'],\n",
       " [u'/clinic/gospital-dzhona-hopkinsa/',\n",
       "  u'/clinic/gospital-dzhona-hopkinsa/',\n",
       "  u'http://ru.bookimed.com/clinics/country=united-states/'],\n",
       " [u'/clinics/country=united-states/',\n",
       "  u'/clinics/country=united-states/',\n",
       "  u'http://ru.bookimed.com/countries/'],\n",
       " [u'/countries/',\n",
       "  u'/countries/',\n",
       "  u'http://ru.bookimed.com/clinic/onkologicheskij-centr-andersena/']]"
      ]
     },
     "execution_count": 322,
     "metadata": {},
     "output_type": "execute_result"
    }
   ],
   "source": [
    "get_paths(get_relation_mat(data))"
   ]
  },
  {
   "cell_type": "code",
   "execution_count": 319,
   "metadata": {
    "collapsed": false
   },
   "outputs": [],
   "source": [
    "paths=filter_paths(get_paths(get_relation_mat(data)))"
   ]
  },
  {
   "cell_type": "code",
   "execution_count": 320,
   "metadata": {
    "collapsed": false
   },
   "outputs": [
    {
     "data": {
      "text/plain": [
       "[u'/ , /clinic/medicinskij-centr-samsung/ , /clinic/medicinskij-centr-samsung/ , clinic_get_cost_header',\n",
       " u'/clientLK/docs/ , /',\n",
       " u' , /clinics/country=republic-of-korea/illness=epilepsiya/']"
      ]
     },
     "execution_count": 320,
     "metadata": {},
     "output_type": "execute_result"
    }
   ],
   "source": [
    "paths_to_str(simplify_path(filter_paths(get_paths(get_relation_mat(data)))))"
   ]
  },
  {
   "cell_type": "code",
   "execution_count": 307,
   "metadata": {
    "collapsed": false
   },
   "outputs": [
    {
     "name": "stdout",
     "output_type": "stream",
     "text": [
      "[[ 0.  0.  0.  0.  0.]\n",
      " [ 0.  0.  0.  0.  0.]\n",
      " [ 0.  0.  0.  1.  1.]\n",
      " [ 0.  0.  0.  0.  6.]\n",
      " [ 0.  0.  0.  0.  0.]]\n"
     ]
    }
   ],
   "source": [
    "m = get_relation_mat(data)\n",
    "print m"
   ]
  },
  {
   "cell_type": "code",
   "execution_count": 278,
   "metadata": {
    "collapsed": false
   },
   "outputs": [
    {
     "data": {
      "text/plain": [
       "0.0"
      ]
     },
     "execution_count": 278,
     "metadata": {},
     "output_type": "execute_result"
    }
   ],
   "source": [
    "sum(m[0:2,3])"
   ]
  },
  {
   "cell_type": "code",
   "execution_count": 306,
   "metadata": {
    "collapsed": false
   },
   "outputs": [
    {
     "data": {
      "text/plain": [
       "[[u'clinic_get_cost_header',\n",
       "  u'/clinic/medicinskij-centr-samsung/',\n",
       "  u'/clinic/medicinskij-centr-samsung/',\n",
       "  u'http://ru.bookimed.com/'],\n",
       " [u'/clinic/medicinskij-centr-samsung/',\n",
       "  u'',\n",
       "  u'/',\n",
       "  u'http://ru.bookimed.com/clientLK/docs/?utm_term=from_popup_go_to_docs'],\n",
       " [u'/clinic/medicinskij-centr-samsung/',\n",
       "  u'',\n",
       "  u'/clinics/country=republic-of-korea/illness=epilepsiya/',\n",
       "  u'']]"
      ]
     },
     "execution_count": 306,
     "metadata": {},
     "output_type": "execute_result"
    }
   ],
   "source": [
    "paths"
   ]
  },
  {
   "cell_type": "code",
   "execution_count": 323,
   "metadata": {
    "collapsed": true
   },
   "outputs": [],
   "source": [
    "cut = [[i['timestamp'][:-8], i['referrer'], i['path'], i['type']] for i in data]"
   ]
  },
  {
   "cell_type": "code",
   "execution_count": 324,
   "metadata": {
    "collapsed": false
   },
   "outputs": [
    {
     "name": "stdout",
     "output_type": "stream",
     "text": [
      "0 [u'2015-11-17T08:30:00.', u'http://yandex.ru/clck/', u'/clinic/onkologicheskij-centr-andersena/', 1]\n",
      "\n",
      "1 [u'2015-11-17T08:30:53.', u'http://ru.bookimed.com/clinic/onkologicheskij-centr-andersena/', u'/countries/', 1]\n",
      "\n",
      "2 [u'2015-11-17T08:30:58.', u'http://ru.bookimed.com/countries/', u'/clinics/country=united-states/', 1]\n",
      "\n",
      "3 [u'2015-11-17T08:31:50.', u'http://ru.bookimed.com/clinics/country=united-states/', u'/clinic/gospital-dzhona-hopkinsa/', 1]\n",
      "\n",
      "4 [u'2015-11-17T08:32:57.', u'http://ru.bookimed.com/clinics/country=united-states/', u'/clinic/gospital-dzhona-hopkinsa/', 2]\n",
      "\n",
      "5 [u'2015-11-17T08:32:59.', u'http://ru.bookimed.com/countries/', u'/clinics/country=united-states/', 1]\n",
      "\n",
      "6 [u'2015-11-17T08:33:12.', u'http://ru.bookimed.com/clinics/country=united-states/', u'/clinic/onkologicheskij-centr-andersena/', 1]\n",
      "\n",
      "7 [u'2015-11-17T08:33:26.', u'http://ru.bookimed.com/clinic/onkologicheskij-centr-andersena/', u'/review/620/', 1]\n",
      "\n",
      "8 [u'2015-11-17T08:33:42.', u'http://ru.bookimed.com/clinics/country=united-states/', u'/clinic/onkologicheskij-centr-andersena/', 1]\n",
      "\n",
      "9 [u'2015-11-17T08:37:42.', u'http://ru.bookimed.com/clinics/country=united-states/', u'/clinic/onkologicheskij-centr-andersena/', 2]\n",
      "\n",
      "10 [u'2015-11-17T08:38:25.', u'http://ru.bookimed.com/clinics/country=united-states/', u'/clinic/onkologicheskij-centr-andersena/', 3]\n",
      "\n",
      "11 [u'2015-11-17T08:38:26.', u'http://ru.bookimed.com/clinic/onkologicheskij-centr-andersena/', u'/clientLK/', 1]\n",
      "\n",
      "12 [u'2015-11-17T08:39:52.', u'http://ru.bookimed.com/clientLK/?action=login&login=ok.arhsc@mail.ru&hash=698773ad9ef9301b5bc0818ca9060e43', u'/clientLK/last_step/', 1]\n",
      "\n",
      "13 [u'2015-11-17T08:41:11.', u'http://ru.bookimed.com/clientLK/last_step/', u'/clientLK/chat/', 1]\n",
      "\n",
      "14 [u'2015-11-17T08:42:32.', u'http://ru.bookimed.com/clientLK/chat/', u'/clientLK/tprograms/', 1]\n",
      "\n",
      "15 [u'2015-11-17T08:42:35.', u'http://ru.bookimed.com/clientLK/tprograms/', u'/clientLK/requests/', 1]\n",
      "\n",
      "16 [u'2015-11-17T08:42:59.', u'http://ru.bookimed.com/clientLK/requests/', u'/clientLK/profile/', 1]\n",
      "\n",
      "17 [u'2015-11-17T08:43:36.', u'http://ru.bookimed.com/clientLK/profile/', u'/clientLK/chat/', 1]\n",
      "\n",
      "18 [u'2015-11-17T08:45:28.', u'http://ru.bookimed.com/clientLK/chat/', u'/clientLK/tprograms/', 1]\n",
      "\n",
      "19 [u'2015-11-17T08:45:31.', u'http://ru.bookimed.com/clientLK/tprograms/', u'/clientLK/requests/', 1]\n",
      "\n",
      "20 [u'2015-11-17T08:45:32.', u'http://ru.bookimed.com/clientLK/requests/', u'/clientLK/profile/', 1]\n",
      "\n",
      "21 [u'2015-11-20T14:30:10.', u'', u'/clientLK/profile/', 1]\n",
      "\n"
     ]
    }
   ],
   "source": [
    "for c in cut:\n",
    "    print cut.index(c), c\n",
    "    print"
   ]
  },
  {
   "cell_type": "code",
   "execution_count": 327,
   "metadata": {
    "collapsed": false
   },
   "outputs": [
    {
     "data": {
      "text/plain": [
       "u'http://ru.bookimed.com/clientLK/?action=login&login=ok.arhsc@mail.ru&hash=698773ad9ef9301b5bc0818ca9060e43'"
      ]
     },
     "execution_count": 327,
     "metadata": {},
     "output_type": "execute_result"
    }
   ],
   "source": [
    "data[12]['referrer']"
   ]
  },
  {
   "cell_type": "code",
   "execution_count": 359,
   "metadata": {
    "collapsed": true
   },
   "outputs": [],
   "source": [
    "bookimed_pattern = u'^http[s]*://[ru.]*bookimed.com(?P<tail>[\\w/=?..&@-]*)'"
   ]
  },
  {
   "cell_type": "code",
   "execution_count": 360,
   "metadata": {
    "collapsed": false
   },
   "outputs": [
    {
     "data": {
      "text/plain": [
       "u'/clientLK/?action=login&login=ok.arhsc@mail.ru&hash=698773ad9ef9301b5bc0818ca9060e43'"
      ]
     },
     "execution_count": 360,
     "metadata": {},
     "output_type": "execute_result"
    }
   ],
   "source": [
    "b_r = re.compile(bookimed_pattern)\n",
    "re.match(b_r, data[12]['referrer']).groupdict()['tail']"
   ]
  },
  {
   "cell_type": "code",
   "execution_count": 252,
   "metadata": {
    "collapsed": false
   },
   "outputs": [
    {
     "data": {
      "text/plain": [
       "{u'fingerPrint': u'3ac84de680888c96e2d831413f8451ff',\n",
       " u'ip': u'95.135.169.42',\n",
       " u'path': u'/clinic/medicinskij-centr-samsung/',\n",
       " u'referrer': u'',\n",
       " u'search': u'',\n",
       " u'timestamp': u'2016-05-19T19:26:23.492+0000',\n",
       " u'type': 1,\n",
       " u'url': u'http://ru.bookimed.com/clinic/medicinskij-centr-samsung/',\n",
       " u'userId': None}"
      ]
     },
     "execution_count": 252,
     "metadata": {},
     "output_type": "execute_result"
    }
   ],
   "source": [
    "data[0]"
   ]
  }
 ],
 "metadata": {
  "kernelspec": {
   "display_name": "Python 2",
   "language": "python",
   "name": "python2"
  },
  "language_info": {
   "codemirror_mode": {
    "name": "ipython",
    "version": 2
   },
   "file_extension": ".py",
   "mimetype": "text/x-python",
   "name": "python",
   "nbconvert_exporter": "python",
   "pygments_lexer": "ipython2",
   "version": "2.7.6"
  }
 },
 "nbformat": 4,
 "nbformat_minor": 0
}
