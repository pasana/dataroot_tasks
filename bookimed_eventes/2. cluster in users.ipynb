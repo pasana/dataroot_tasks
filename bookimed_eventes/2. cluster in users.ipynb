{
 "cells": [
  {
   "cell_type": "code",
   "execution_count": 1,
   "metadata": {
    "collapsed": false
   },
   "outputs": [],
   "source": [
    "#create user data\n",
    "import json\n",
    "with open('./short_bookimed.json') as data_file: \n",
    "    for line in data_file:\n",
    "        try:\n",
    "            data = json.loads(line[:-1])\n",
    "            file_name=data.pop('anonymousId')\n",
    "            temp = data.pop('userAgent')\n",
    "            temp = data.pop('version')\n",
    "            temp = data.pop('title')\n",
    "            try:\n",
    "                f = open('./users/%s.json'%file_name)\n",
    "                f = open('./users/%s.json'%file_name, 'a')\n",
    "                #f.write(',\\n')\n",
    "            except:\n",
    "                f = open('./users/%s.json'%file_name, 'w+')\n",
    "                #f.write('[\\n')\n",
    "            json.dump(data, f)\n",
    "            f.write('\\n')\n",
    "            f.close()\n",
    "        except:\n",
    "            print json.loads(line[:-1])"
   ]
  }
 ],
 "metadata": {
  "kernelspec": {
   "display_name": "Python 2",
   "language": "python",
   "name": "python2"
  },
  "language_info": {
   "codemirror_mode": {
    "name": "ipython",
    "version": 2
   },
   "file_extension": ".py",
   "mimetype": "text/x-python",
   "name": "python",
   "nbconvert_exporter": "python",
   "pygments_lexer": "ipython2",
   "version": "2.7.6"
  }
 },
 "nbformat": 4,
 "nbformat_minor": 0
}
