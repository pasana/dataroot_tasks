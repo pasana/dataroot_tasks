{
 "cells": [
  {
   "cell_type": "code",
   "execution_count": 1,
   "metadata": {
    "collapsed": true
   },
   "outputs": [],
   "source": [
    "buttons = ['auto_help', 'clinic_get_cost', 'clinic_free_cost_calc', 'clinics_get_clinic_in_country', 'callback', 'clinic_get_cost_header', 'clinic_diagnostic', 'article_from_text', 'second_opinion', 'clinics_get_country', 'doctor_consult_price', 'prices_in_country', 'unknown', 'banner_get_best_clinic', 'wanna_cheaper', 'search_get_cost', 'doctor_diagnostic', 'sign_in', 'doctor_get_consult_header', 'clinic_operation', 'get_consult', 'program_from_text', 'doctor_get_consult']"
   ]
  },
  {
   "cell_type": "code",
   "execution_count": 12,
   "metadata": {
    "collapsed": false
   },
   "outputs": [],
   "source": [
    "opMod = []\n",
    "with open('all_paths.txt') as paths:\n",
    "    for line in paths:\n",
    "        for btn in buttons:\n",
    "            if btn in line:\n",
    "                #print line\n",
    "                opMod += [line]\n",
    "                break"
   ]
  },
  {
   "cell_type": "code",
   "execution_count": 13,
   "metadata": {
    "collapsed": false
   },
   "outputs": [
    {
     "data": {
      "text/plain": [
       "188550"
      ]
     },
     "execution_count": 13,
     "metadata": {},
     "output_type": "execute_result"
    }
   ],
   "source": [
    "len(opMod)"
   ]
  },
  {
   "cell_type": "code",
   "execution_count": 14,
   "metadata": {
    "collapsed": false
   },
   "outputs": [
    {
     "data": {
      "text/plain": [
       "23088"
      ]
     },
     "execution_count": 14,
     "metadata": {},
     "output_type": "execute_result"
    }
   ],
   "source": [
    "len(set(opMod))"
   ]
  },
  {
   "cell_type": "code",
   "execution_count": 15,
   "metadata": {
    "collapsed": false
   },
   "outputs": [],
   "source": [
    "srt = sorted(list(set(opMod)), key = lambda x: opMod.count(x), reverse=True)"
   ]
  },
  {
   "cell_type": "code",
   "execution_count": 16,
   "metadata": {
    "collapsed": false,
    "scrolled": true
   },
   "outputs": [],
   "source": [
    "f = open('event_1_path_count.txt', 'w+')\n",
    "for i in srt:\n",
    "    f.write(str(opMod.count(i)) +' '+i+'\\n')\n",
    "    #print"
   ]
  }
 ],
 "metadata": {
  "kernelspec": {
   "display_name": "Python 2",
   "language": "python",
   "name": "python2"
  },
  "language_info": {
   "codemirror_mode": {
    "name": "ipython",
    "version": 2
   },
   "file_extension": ".py",
   "mimetype": "text/x-python",
   "name": "python",
   "nbconvert_exporter": "python",
   "pygments_lexer": "ipython2",
   "version": "2.7.6"
  }
 },
 "nbformat": 4,
 "nbformat_minor": 0
}
