{
 "cells": [
  {
   "cell_type": "code",
   "execution_count": 1,
   "metadata": {
    "collapsed": false
   },
   "outputs": [],
   "source": [
    "#get features\n",
    "import json\n",
    "data = []\n",
    "data_1 = []\n",
    "data_2 = []\n",
    "#f_2 = open('./bookimed_v2.json', 'w') \n",
    "with open('./bookimed.json') as data_file: \n",
    "    for line in data_file:\n",
    "        try:\n",
    "            #data += [json.loads(line[:-1])['channel']]\n",
    "            #data += [json.loads(line[:-1])['event']]\n",
    "            #data += [json.loads(line[:-1])['type']]\n",
    "            #data += [json.loads(line[:-1])['anonymousId']]\n",
    "            #data += [json.loads(line[:-1])['fingerprint']]\n",
    "            #data += [json.loads(line[:-1])['userId']]\n",
    "            #data += json.loads(line[:-1])['context'].keys()\n",
    "            #data += [json.loads(line)['properties']]\n",
    "            #if json.loads(line)['properties'] == {u'button_type': u'auto_help'}:\n",
    "            #    data_1 += [json.loads(line)['context']['page']['url']]\n",
    "            data_1 += [json.loads(line)['context']['library']]\n",
    "            #ver = json.loads(line[:-1])['version']\n",
    "            #if int(ver) == 1:    \n",
    "                 #f_1.write(line[:-1]+',')\n",
    "#                data_1 += json.loads(line[:-1])['context'].keys()\n",
    "            #if int(ver) == 2:    \n",
    "                #f_2.write(line)\n",
    "#                data_2 += json.loads(line[:-1])['context'].keys()\n",
    "        except:\n",
    "            #print json.loads(line[:-1])\n",
    "            print \"no ver\"\n",
    "            #data += ['None']\n",
    "#    data = json.load(data_file)\n",
    "#f_2.close()"
   ]
  },
  {
   "cell_type": "code",
   "execution_count": null,
   "metadata": {
    "collapsed": false,
    "scrolled": true
   },
   "outputs": [],
   "source": [
    "for i in channels:\n",
    "    print i"
   ]
  },
  {
   "cell_type": "code",
   "execution_count": 53,
   "metadata": {
    "collapsed": false,
    "scrolled": true
   },
   "outputs": [
    {
     "name": "stdout",
     "output_type": "stream",
     "text": [
      "http://ru.bookimed.com/clinics/country=india/illness=virusnuj-gepatit/ 1205\n",
      "http://ru.bookimed.com/clinics/country=india/ 1233\n",
      "http://ru.bookimed.com/ 2581\n",
      "http://bookimed.com/ 1653\n",
      "http://bookimed.com/clinic/the-tata-memorial-hospital/ 1229\n",
      "http://ru.bookimed.com/clinic/klinika-assuta/ 1259\n",
      "http://ru.bookimed.com/clinic/medicinskij-centr-im-suraski/ 1708\n",
      "http://ru.bookimed.com/clinic/klinika-sharite/ 1666\n"
     ]
    }
   ],
   "source": [
    "for i in channels:\n",
    "    print i, data_1.count(i)"
   ]
  },
  {
   "cell_type": "code",
   "execution_count": 8,
   "metadata": {
    "collapsed": false
   },
   "outputs": [
    {
     "data": {
      "text/plain": [
       "{u'name': u'analytics.js', u'version': u'2.11.1'}"
      ]
     },
     "execution_count": 8,
     "metadata": {},
     "output_type": "execute_result"
    }
   ],
   "source": [
    "data_1[2]"
   ]
  },
  {
   "cell_type": "code",
   "execution_count": null,
   "metadata": {
    "collapsed": true
   },
   "outputs": [],
   "source": []
  },
  {
   "cell_type": "code",
   "execution_count": null,
   "metadata": {
    "collapsed": false
   },
   "outputs": [],
   "source": [
    "data[8].keys()"
   ]
  },
  {
   "cell_type": "code",
   "execution_count": null,
   "metadata": {
    "collapsed": false
   },
   "outputs": [],
   "source": [
    "len(filtered)"
   ]
  },
  {
   "cell_type": "code",
   "execution_count": 2,
   "metadata": {
    "collapsed": true
   },
   "outputs": [],
   "source": [
    "filtered = [i for i in data if i.keys() != [u'url', u'referrer', u'search', u'path', u'title']]"
   ]
  },
  {
   "cell_type": "code",
   "execution_count": 8,
   "metadata": {
    "collapsed": false
   },
   "outputs": [],
   "source": [
    "filtered2 = [i for i in filtered if i!={u'button_type': u'auto_help'}]"
   ]
  },
  {
   "cell_type": "code",
   "execution_count": 42,
   "metadata": {
    "collapsed": false
   },
   "outputs": [],
   "source": [
    "filtered3 = [i for i in filtered3 if i.keys()!= [u'button_type']]"
   ]
  },
  {
   "cell_type": "code",
   "execution_count": 47,
   "metadata": {
    "collapsed": true
   },
   "outputs": [
    {
     "data": {
      "text/plain": [
       "[{u'gaId': u'703686901.1448986554',\n",
       "  u'path': u'/Users/maxsilent/Work/dataroot.co/index.html',\n",
       "  u'referrer': u'',\n",
       "  u'search': u'',\n",
       "  u'title': u'DataRoot',\n",
       "  u'url': u'file:///Users/maxsilent/Work/dataroot.co/index.html'},\n",
       " {u'gaId': u'405762502.1448986560',\n",
       "  u'path': u'/Users/maxsilent/Work/dataroot.co/index.html',\n",
       "  u'referrer': u'',\n",
       "  u'search': u'',\n",
       "  u'title': u'DataRoot',\n",
       "  u'url': u'file:///Users/maxsilent/Work/dataroot.co/index.html'},\n",
       " {u'gaId': u'2004568688.1448986572',\n",
       "  u'path': u'/Users/maxsilent/Work/dataroot.co/index.html',\n",
       "  u'referrer': u'',\n",
       "  u'search': u'',\n",
       "  u'title': u'DataRoot',\n",
       "  u'url': u'file:///Users/maxsilent/Work/dataroot.co/index.html'},\n",
       " {u'gaId': u'2102573974.1448986646',\n",
       "  u'path': u'/Users/maxsilent/Work/dataroot.co/index.html',\n",
       "  u'referrer': u'',\n",
       "  u'search': u'',\n",
       "  u'title': u'DataRoot',\n",
       "  u'url': u'file:///Users/maxsilent/Work/dataroot.co/index.html'},\n",
       " {u'gaId': u'312533903.1448986738',\n",
       "  u'path': u'/Users/maxsilent/Work/dataroot.co/index.html',\n",
       "  u'referrer': u'',\n",
       "  u'search': u'',\n",
       "  u'title': u'DataRoot',\n",
       "  u'url': u'file:///Users/maxsilent/Work/dataroot.co/index.html'},\n",
       " {u'gaId': u'1867204731.1448986777',\n",
       "  u'path': u'/Users/maxsilent/Work/dataroot.co/index.html',\n",
       "  u'referrer': u'',\n",
       "  u'search': u'',\n",
       "  u'title': u'DataRoot',\n",
       "  u'url': u'file:///Users/maxsilent/Work/dataroot.co/index.html'},\n",
       " {u'gaId': u'1613675661.1448986823',\n",
       "  u'path': u'/Users/maxsilent/Work/dataroot.co/index.html',\n",
       "  u'referrer': u'',\n",
       "  u'search': u'',\n",
       "  u'title': u'DataRoot',\n",
       "  u'url': u'file:///Users/maxsilent/Work/dataroot.co/index.html'},\n",
       " {u'gaId': u'41127899.1448986839',\n",
       "  u'path': u'/Users/maxsilent/Work/dataroot.co/index.html',\n",
       "  u'referrer': u'',\n",
       "  u'search': u'',\n",
       "  u'title': u'DataRoot',\n",
       "  u'url': u'file:///Users/maxsilent/Work/dataroot.co/index.html'},\n",
       " {u'gaId': u'914951966.1448986956',\n",
       "  u'path': u'/Users/maxsilent/Work/dataroot.co/index.html',\n",
       "  u'referrer': u'',\n",
       "  u'search': u'',\n",
       "  u'title': u'DataRoot',\n",
       "  u'url': u'file:///Users/maxsilent/Work/dataroot.co/index.html'},\n",
       " {u'gaId': u'1740699367.1448986997',\n",
       "  u'path': u'/Users/maxsilent/Work/dataroot.co/index.html',\n",
       "  u'referrer': u'',\n",
       "  u'search': u'',\n",
       "  u'title': u'DataRoot',\n",
       "  u'url': u'file:///Users/maxsilent/Work/dataroot.co/index.html'},\n",
       " {u'gaClientId': u'1549404628.1443882102',\n",
       "  u'path': u'/',\n",
       "  u'referrer': u'',\n",
       "  u'search': u'',\n",
       "  u'title': u'Treatment abroad \\u2013 reviews, best clinics and prices| BOOKIMED',\n",
       "  u'url': u'http://bookimed.com/'},\n",
       " {u'gaClientId': u'1549404628.1443882102',\n",
       "  u'path': u'/',\n",
       "  u'referrer': u'',\n",
       "  u'search': u'',\n",
       "  u'title': u'Treatment abroad \\u2013 reviews, best clinics and prices| BOOKIMED',\n",
       "  u'url': u'http://bookimed.com/'},\n",
       " {u'path': u'/',\n",
       "  u'q': 1,\n",
       "  u'referrer': u'',\n",
       "  u'search': u'',\n",
       "  u'title': u'Treatment abroad \\u2013 reviews, best clinics and prices| BOOKIMED',\n",
       "  u'url': u'http://bookimed.com/'}]"
      ]
     },
     "execution_count": 47,
     "metadata": {},
     "output_type": "execute_result"
    }
   ],
   "source": [
    "filtered3"
   ]
  },
  {
   "cell_type": "code",
   "execution_count": 5,
   "metadata": {
    "collapsed": false
   },
   "outputs": [],
   "source": [
    "f = open('./users/%s'%files[6])\n",
    "context = f.readlines()\n",
    "data = []\n",
    "for i in context[1:]:\n",
    "    data += [json.loads(i.replace(',\\n','').replace('\\n',''))]"
   ]
  },
  {
   "cell_type": "code",
   "execution_count": 6,
   "metadata": {
    "collapsed": false
   },
   "outputs": [],
   "source": [
    "data=sorted(data, key=lambda i: i['timestamp'])"
   ]
  },
  {
   "cell_type": "code",
   "execution_count": 52,
   "metadata": {
    "collapsed": false
   },
   "outputs": [],
   "source": [
    "lens = []\n",
    "for file_name in files:\n",
    "    f = open('./users/%s'%file_name)\n",
    "    context = f.readlines()\n",
    "    lens += [len(context)-1]"
   ]
  },
  {
   "cell_type": "code",
   "execution_count": 86,
   "metadata": {
    "collapsed": false
   },
   "outputs": [
    {
     "data": {
      "text/plain": [
       "1"
      ]
     },
     "execution_count": 86,
     "metadata": {},
     "output_type": "execute_result"
    }
   ],
   "source": [
    "lens[3]"
   ]
  },
  {
   "cell_type": "code",
   "execution_count": 31,
   "metadata": {
    "collapsed": false
   },
   "outputs": [],
   "source": [
    "import ast\n",
    "x = '['+s.replace('\\n',',')+']'\n",
    "unique = ast.literal_eval(x)[1:]"
   ]
  },
  {
   "cell_type": "code",
   "execution_count": 84,
   "metadata": {
    "collapsed": true
   },
   "outputs": [],
   "source": [
    "indx = [i for i in,x enumerate(zip(lens,unique)) if x[0] != 1 and x[1]==1]"
   ]
  },
  {
   "cell_type": "code",
   "execution_count": 32,
   "metadata": {
    "collapsed": false
   },
   "outputs": [],
   "source": [
    "indx = [i for i,x in enumerate(unique) if x == 1]"
   ]
  },
  {
   "cell_type": "code",
   "execution_count": 33,
   "metadata": {
    "collapsed": false
   },
   "outputs": [
    {
     "data": {
      "text/plain": [
       "10"
      ]
     },
     "execution_count": 33,
     "metadata": {},
     "output_type": "execute_result"
    }
   ],
   "source": [
    "indx[0]"
   ]
  },
  {
   "cell_type": "code",
   "execution_count": 55,
   "metadata": {
    "collapsed": true
   },
   "outputs": [],
   "source": [
    "mn = min(lens)\n",
    "mx = max(lens)\n",
    "counts = [lens.count(i) for i in range(mn, mx)]"
   ]
  },
  {
   "cell_type": "code",
   "execution_count": 78,
   "metadata": {
    "collapsed": true
   },
   "outputs": [],
   "source": [
    "counts_no_zero = [i for i in counts if i != 0]"
   ]
  },
  {
   "cell_type": "code",
   "execution_count": null,
   "metadata": {
    "collapsed": false
   },
   "outputs": [],
   "source": [
    "import sys\n",
    "print sys.getsizeof(names)/5*350000"
   ]
  },
  {
   "cell_type": "code",
   "execution_count": 2,
   "metadata": {
    "collapsed": false,
    "scrolled": true
   },
   "outputs": [
    {
     "name": "stdout",
     "output_type": "stream",
     "text": [
      "a67d433d-758b-4c1a-95de-e21630af4976.json\n"
     ]
    }
   ],
   "source": [
    "import os\n",
    "for filename in os.listdir('./users')[:1]:\n",
    "    print filename"
   ]
  }
 ],
 "metadata": {
  "kernelspec": {
   "display_name": "Python 2",
   "language": "python",
   "name": "python2"
  },
  "language_info": {
   "codemirror_mode": {
    "name": "ipython",
    "version": 2
   },
   "file_extension": ".py",
   "mimetype": "text/x-python",
   "name": "python",
   "nbconvert_exporter": "python",
   "pygments_lexer": "ipython2",
   "version": "2.7.6"
  }
 },
 "nbformat": 4,
 "nbformat_minor": 0
}
