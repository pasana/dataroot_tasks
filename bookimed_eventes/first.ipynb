{
 "cells": [
  {
   "cell_type": "code",
   "execution_count": 1,
   "metadata": {
    "collapsed": false
   },
   "outputs": [],
   "source": [
    "#get features\n",
    "import json\n",
    "data = []\n",
    "data_1 = []\n",
    "data_2 = []\n",
    "#f_2 = open('./bookimed_v2.json', 'w') \n",
    "with open('./bookimed.json') as data_file: \n",
    "    for line in data_file:\n",
    "        try:\n",
    "            #data += [json.loads(line[:-1])['channel']]\n",
    "            #data += [json.loads(line[:-1])['event']]\n",
    "            #data += [json.loads(line[:-1])['type']]\n",
    "            #data += [json.loads(line[:-1])['anonymousId']]\n",
    "            #data += [json.loads(line[:-1])['fingerprint']]\n",
    "            #data += [json.loads(line[:-1])['userId']]\n",
    "            #data += json.loads(line[:-1])['context'].keys()\n",
    "            #data += [json.loads(line)['properties']]\n",
    "            #if json.loads(line)['properties'] == {u'button_type': u'auto_help'}:\n",
    "            #    data_1 += [json.loads(line)['context']['page']['url']]\n",
    "            data_1 += [json.loads(line)['context']['library']]\n",
    "            #ver = json.loads(line[:-1])['version']\n",
    "            #if int(ver) == 1:    \n",
    "                 #f_1.write(line[:-1]+',')\n",
    "#                data_1 += json.loads(line[:-1])['context'].keys()\n",
    "            #if int(ver) == 2:    \n",
    "                #f_2.write(line)\n",
    "#                data_2 += json.loads(line[:-1])['context'].keys()\n",
    "        except:\n",
    "            #print json.loads(line[:-1])\n",
    "            print \"no ver\"\n",
    "            #data += ['None']\n",
    "#    data = json.load(data_file)\n",
    "#f_2.close()"
   ]
  },
  {
   "cell_type": "code",
   "execution_count": null,
   "metadata": {
    "collapsed": true
   },
   "outputs": [],
   "source": [
    "f_1 = open('./bookimed_v1.json', 'w') \n",
    "f_2 = open('./bookimed_v2.json', 'w') \n",
    "f_1.write('[')\n",
    "f_2.write('[')\n",
    "f_1.write(']')\n",
    "f_2.write(']')\n",
    "f_1.close()\n",
    "f_2.close()"
   ]
  },
  {
   "cell_type": "code",
   "execution_count": 2,
   "metadata": {
    "collapsed": false
   },
   "outputs": [
    {
     "ename": "TypeError",
     "evalue": "unhashable type: 'dict'",
     "output_type": "error",
     "traceback": [
      "\u001b[1;31m---------------------------------------------------------------------------\u001b[0m",
      "\u001b[1;31mTypeError\u001b[0m                                 Traceback (most recent call last)",
      "\u001b[1;32m<ipython-input-2-23818c1af40d>\u001b[0m in \u001b[0;36m<module>\u001b[1;34m()\u001b[0m\n\u001b[1;32m----> 1\u001b[1;33m \u001b[0mchannels\u001b[0m \u001b[1;33m=\u001b[0m \u001b[0mlist\u001b[0m\u001b[1;33m(\u001b[0m\u001b[0mset\u001b[0m\u001b[1;33m(\u001b[0m\u001b[0mdata_1\u001b[0m\u001b[1;33m)\u001b[0m\u001b[1;33m)\u001b[0m\u001b[1;33m\u001b[0m\u001b[0m\n\u001b[0m\u001b[0;32m      2\u001b[0m \u001b[0mlen\u001b[0m\u001b[1;33m(\u001b[0m\u001b[0mchannels\u001b[0m\u001b[1;33m)\u001b[0m\u001b[1;33m\u001b[0m\u001b[0m\n",
      "\u001b[1;31mTypeError\u001b[0m: unhashable type: 'dict'"
     ]
    }
   ],
   "source": [
    "channels = list(set(data_1))\n",
    "len(channels)"
   ]
  },
  {
   "cell_type": "code",
   "execution_count": null,
   "metadata": {
    "collapsed": false,
    "scrolled": true
   },
   "outputs": [],
   "source": [
    "for i in channels:\n",
    "    print i"
   ]
  },
  {
   "cell_type": "code",
   "execution_count": 53,
   "metadata": {
    "collapsed": false,
    "scrolled": true
   },
   "outputs": [
    {
     "name": "stdout",
     "output_type": "stream",
     "text": [
      "http://ru.bookimed.com/clinics/country=india/illness=virusnuj-gepatit/ 1205\n",
      "http://ru.bookimed.com/clinics/country=india/ 1233\n",
      "http://ru.bookimed.com/ 2581\n",
      "http://bookimed.com/ 1653\n",
      "http://bookimed.com/clinic/the-tata-memorial-hospital/ 1229\n",
      "http://ru.bookimed.com/clinic/klinika-assuta/ 1259\n",
      "http://ru.bookimed.com/clinic/medicinskij-centr-im-suraski/ 1708\n",
      "http://ru.bookimed.com/clinic/klinika-sharite/ 1666\n"
     ]
    }
   ],
   "source": [
    "for i in channels:\n",
    "    print i, data_1.count(i)"
   ]
  },
  {
   "cell_type": "code",
   "execution_count": 8,
   "metadata": {
    "collapsed": false
   },
   "outputs": [
    {
     "data": {
      "text/plain": [
       "{u'name': u'analytics.js', u'version': u'2.11.1'}"
      ]
     },
     "execution_count": 8,
     "metadata": {},
     "output_type": "execute_result"
    }
   ],
   "source": [
    "data_1[2]"
   ]
  },
  {
   "cell_type": "code",
   "execution_count": null,
   "metadata": {
    "collapsed": true
   },
   "outputs": [],
   "source": []
  },
  {
   "cell_type": "code",
   "execution_count": null,
   "metadata": {
    "collapsed": false
   },
   "outputs": [],
   "source": [
    "data[8].keys()"
   ]
  },
  {
   "cell_type": "code",
   "execution_count": null,
   "metadata": {
    "collapsed": false
   },
   "outputs": [],
   "source": [
    "len(filtered)"
   ]
  },
  {
   "cell_type": "code",
   "execution_count": 2,
   "metadata": {
    "collapsed": true
   },
   "outputs": [],
   "source": [
    "filtered = [i for i in data if i.keys() != [u'url', u'referrer', u'search', u'path', u'title']]"
   ]
  },
  {
   "cell_type": "code",
   "execution_count": 8,
   "metadata": {
    "collapsed": false
   },
   "outputs": [],
   "source": [
    "filtered2 = [i for i in filtered if i!={u'button_type': u'auto_help'}]"
   ]
  },
  {
   "cell_type": "code",
   "execution_count": 42,
   "metadata": {
    "collapsed": false
   },
   "outputs": [],
   "source": [
    "filtered3 = [i for i in filtered3 if i.keys()!= [u'button_type']]"
   ]
  },
  {
   "cell_type": "code",
   "execution_count": 47,
   "metadata": {
    "collapsed": true
   },
   "outputs": [
    {
     "data": {
      "text/plain": [
       "[{u'gaId': u'703686901.1448986554',\n",
       "  u'path': u'/Users/maxsilent/Work/dataroot.co/index.html',\n",
       "  u'referrer': u'',\n",
       "  u'search': u'',\n",
       "  u'title': u'DataRoot',\n",
       "  u'url': u'file:///Users/maxsilent/Work/dataroot.co/index.html'},\n",
       " {u'gaId': u'405762502.1448986560',\n",
       "  u'path': u'/Users/maxsilent/Work/dataroot.co/index.html',\n",
       "  u'referrer': u'',\n",
       "  u'search': u'',\n",
       "  u'title': u'DataRoot',\n",
       "  u'url': u'file:///Users/maxsilent/Work/dataroot.co/index.html'},\n",
       " {u'gaId': u'2004568688.1448986572',\n",
       "  u'path': u'/Users/maxsilent/Work/dataroot.co/index.html',\n",
       "  u'referrer': u'',\n",
       "  u'search': u'',\n",
       "  u'title': u'DataRoot',\n",
       "  u'url': u'file:///Users/maxsilent/Work/dataroot.co/index.html'},\n",
       " {u'gaId': u'2102573974.1448986646',\n",
       "  u'path': u'/Users/maxsilent/Work/dataroot.co/index.html',\n",
       "  u'referrer': u'',\n",
       "  u'search': u'',\n",
       "  u'title': u'DataRoot',\n",
       "  u'url': u'file:///Users/maxsilent/Work/dataroot.co/index.html'},\n",
       " {u'gaId': u'312533903.1448986738',\n",
       "  u'path': u'/Users/maxsilent/Work/dataroot.co/index.html',\n",
       "  u'referrer': u'',\n",
       "  u'search': u'',\n",
       "  u'title': u'DataRoot',\n",
       "  u'url': u'file:///Users/maxsilent/Work/dataroot.co/index.html'},\n",
       " {u'gaId': u'1867204731.1448986777',\n",
       "  u'path': u'/Users/maxsilent/Work/dataroot.co/index.html',\n",
       "  u'referrer': u'',\n",
       "  u'search': u'',\n",
       "  u'title': u'DataRoot',\n",
       "  u'url': u'file:///Users/maxsilent/Work/dataroot.co/index.html'},\n",
       " {u'gaId': u'1613675661.1448986823',\n",
       "  u'path': u'/Users/maxsilent/Work/dataroot.co/index.html',\n",
       "  u'referrer': u'',\n",
       "  u'search': u'',\n",
       "  u'title': u'DataRoot',\n",
       "  u'url': u'file:///Users/maxsilent/Work/dataroot.co/index.html'},\n",
       " {u'gaId': u'41127899.1448986839',\n",
       "  u'path': u'/Users/maxsilent/Work/dataroot.co/index.html',\n",
       "  u'referrer': u'',\n",
       "  u'search': u'',\n",
       "  u'title': u'DataRoot',\n",
       "  u'url': u'file:///Users/maxsilent/Work/dataroot.co/index.html'},\n",
       " {u'gaId': u'914951966.1448986956',\n",
       "  u'path': u'/Users/maxsilent/Work/dataroot.co/index.html',\n",
       "  u'referrer': u'',\n",
       "  u'search': u'',\n",
       "  u'title': u'DataRoot',\n",
       "  u'url': u'file:///Users/maxsilent/Work/dataroot.co/index.html'},\n",
       " {u'gaId': u'1740699367.1448986997',\n",
       "  u'path': u'/Users/maxsilent/Work/dataroot.co/index.html',\n",
       "  u'referrer': u'',\n",
       "  u'search': u'',\n",
       "  u'title': u'DataRoot',\n",
       "  u'url': u'file:///Users/maxsilent/Work/dataroot.co/index.html'},\n",
       " {u'gaClientId': u'1549404628.1443882102',\n",
       "  u'path': u'/',\n",
       "  u'referrer': u'',\n",
       "  u'search': u'',\n",
       "  u'title': u'Treatment abroad \\u2013 reviews, best clinics and prices| BOOKIMED',\n",
       "  u'url': u'http://bookimed.com/'},\n",
       " {u'gaClientId': u'1549404628.1443882102',\n",
       "  u'path': u'/',\n",
       "  u'referrer': u'',\n",
       "  u'search': u'',\n",
       "  u'title': u'Treatment abroad \\u2013 reviews, best clinics and prices| BOOKIMED',\n",
       "  u'url': u'http://bookimed.com/'},\n",
       " {u'path': u'/',\n",
       "  u'q': 1,\n",
       "  u'referrer': u'',\n",
       "  u'search': u'',\n",
       "  u'title': u'Treatment abroad \\u2013 reviews, best clinics and prices| BOOKIMED',\n",
       "  u'url': u'http://bookimed.com/'}]"
      ]
     },
     "execution_count": 47,
     "metadata": {},
     "output_type": "execute_result"
    }
   ],
   "source": [
    "filtered3"
   ]
  },
  {
   "cell_type": "code",
   "execution_count": 22,
   "metadata": {
    "collapsed": false
   },
   "outputs": [
    {
     "ename": "KeyError",
     "evalue": "'button_type'",
     "output_type": "error",
     "traceback": [
      "\u001b[1;31m---------------------------------------------------------------------------\u001b[0m",
      "\u001b[1;31mKeyError\u001b[0m                                  Traceback (most recent call last)",
      "\u001b[1;32m<ipython-input-22-ca3861c0cbab>\u001b[0m in \u001b[0;36m<module>\u001b[1;34m()\u001b[0m\n\u001b[1;32m----> 1\u001b[1;33m \u001b[0mbtn_types\u001b[0m \u001b[1;33m=\u001b[0m \u001b[1;33m[\u001b[0m\u001b[0mi\u001b[0m\u001b[1;33m[\u001b[0m\u001b[1;34m'button_type'\u001b[0m\u001b[1;33m]\u001b[0m \u001b[1;32mfor\u001b[0m \u001b[0mi\u001b[0m \u001b[1;32min\u001b[0m \u001b[0mfiltered2\u001b[0m\u001b[1;33m]\u001b[0m\u001b[1;33m\u001b[0m\u001b[0m\n\u001b[0m",
      "\u001b[1;31mKeyError\u001b[0m: 'button_type'"
     ]
    }
   ],
   "source": [
    "btn_types = [i['button_type'] for i in filtered2]"
   ]
  },
  {
   "cell_type": "code",
   "execution_count": null,
   "metadata": {
    "collapsed": true
   },
   "outputs": [],
   "source": [
    "set(sum([i.keys() for i in filtered2], []))"
   ]
  },
  {
   "cell_type": "code",
   "execution_count": 16,
   "metadata": {
    "collapsed": false
   },
   "outputs": [
    {
     "ename": "KeyboardInterrupt",
     "evalue": "",
     "output_type": "error",
     "traceback": [
      "\u001b[1;31m---------------------------------------------------------------------------\u001b[0m",
      "\u001b[1;31mKeyboardInterrupt\u001b[0m                         Traceback (most recent call last)",
      "\u001b[1;32m<ipython-input-16-a7d58a68cce1>\u001b[0m in \u001b[0;36m<module>\u001b[1;34m()\u001b[0m\n\u001b[1;32m----> 1\u001b[1;33m \u001b[0mk\u001b[0m\u001b[1;33m=\u001b[0m\u001b[0msum\u001b[0m\u001b[1;33m(\u001b[0m\u001b[1;33m[\u001b[0m\u001b[0mi\u001b[0m\u001b[1;33m.\u001b[0m\u001b[0mkeys\u001b[0m\u001b[1;33m(\u001b[0m\u001b[1;33m)\u001b[0m \u001b[1;32mfor\u001b[0m \u001b[0mi\u001b[0m \u001b[1;32min\u001b[0m \u001b[0mfiltered2\u001b[0m\u001b[1;33m]\u001b[0m\u001b[1;33m,\u001b[0m\u001b[1;33m[\u001b[0m\u001b[1;33m]\u001b[0m\u001b[1;33m)\u001b[0m\u001b[1;33m\u001b[0m\u001b[0m\n\u001b[0m",
      "\u001b[1;31mKeyboardInterrupt\u001b[0m: "
     ]
    }
   ],
   "source": [
    "k=sum([i.keys() for i in filtered2],[])"
   ]
  },
  {
   "cell_type": "code",
   "execution_count": 32,
   "metadata": {
    "collapsed": false
   },
   "outputs": [
    {
     "data": {
      "text/plain": [
       "25680"
      ]
     },
     "execution_count": 32,
     "metadata": {},
     "output_type": "execute_result"
    }
   ],
   "source": [
    "k.count(k[-1])"
   ]
  },
  {
   "cell_type": "code",
   "execution_count": 33,
   "metadata": {
    "collapsed": false
   },
   "outputs": [
    {
     "data": {
      "text/plain": [
       "112446"
      ]
     },
     "execution_count": 33,
     "metadata": {},
     "output_type": "execute_result"
    }
   ],
   "source": [
    "57407+29359+25680"
   ]
  },
  {
   "cell_type": "code",
   "execution_count": 35,
   "metadata": {
    "collapsed": false
   },
   "outputs": [
    {
     "data": {
      "text/plain": [
       "[u'button_type']"
      ]
     },
     "execution_count": 35,
     "metadata": {},
     "output_type": "execute_result"
    }
   ],
   "source": [
    "k[-3]"
   ]
  },
  {
   "cell_type": "code",
   "execution_count": 10,
   "metadata": {
    "collapsed": true
   },
   "outputs": [],
   "source": [
    "def cut_the_dict(d):\n",
    "    #fields = ['__v','_id','gaClientId','messageId','projectId','receivedAt','sentAt', 'channel', 'originalTimestamp', 'version']\n",
    "    fields = ['__v','_id','gaClientId','messageId','projectId','receivedAt','sentAt', 'channel']\n",
    "    for field in fields:\n",
    "        try:\n",
    "            d.pop(field)\n",
    "        except:\n",
    "            pass\n",
    "    d['context']['page'].pop('url')\n",
    "    d['context'].pop('library')\n",
    "    d['timestamp']=d['timestamp'].pop('$date')\n",
    "    d.update(d.pop('context'))\n",
    "    d.update(d.pop('page'))\n",
    "    if d['type']=='page':\n",
    "        d.pop('properties')\n",
    "    if d['properties']=={u'button_type': u'auto_help'}:\n",
    "        d.pop('properties')"
   ]
  },
  {
   "cell_type": "code",
   "execution_count": null,
   "metadata": {
    "collapsed": false
   },
   "outputs": [],
   "source": [
    "#create user data\n",
    "import json\n",
    "with open('./bookimed.json') as data_file: \n",
    "    for line in data_file:\n",
    "        try:\n",
    "            data = json.loads(line[:-1])\n",
    "            cut_the_dict(data)\n",
    "            file_name=data.pop('anonymousId')\n",
    "            try:\n",
    "                f = open('./users/%s.json'%file_name)\n",
    "                f = open('./users/%s.json'%file_name, 'a')\n",
    "                f.write(',\\n')\n",
    "            except:\n",
    "                f = open('./users/%s.json'%file_name, 'w+')\n",
    "                f.write('[\\n')\n",
    "            #f.write(str(data))\n",
    "            json.dump(data, f)\n",
    "            #f.write(',\\n')\n",
    "            f.close()\n",
    "        except:\n",
    "            print json.loads(line[:-1])"
   ]
  },
  {
   "cell_type": "code",
   "execution_count": 2,
   "metadata": {
    "collapsed": false
   },
   "outputs": [
    {
     "name": "stdout",
     "output_type": "stream",
     "text": [
      "ok\n"
     ]
    }
   ],
   "source": [
    "import os\n",
    "import glob\n",
    "files = [os.path.basename(x) for x in glob.glob('./ununique_users/*.json')]\n",
    "print \"ok\"\n"
   ]
  },
  {
   "cell_type": "code",
   "execution_count": 58,
   "metadata": {
    "collapsed": false
   },
   "outputs": [
    {
     "data": {
      "text/plain": [
       "'280bf72f-3627-41dd-972f-bbdda29357c4.json'"
      ]
     },
     "execution_count": 58,
     "metadata": {},
     "output_type": "execute_result"
    }
   ],
   "source": [
    "files[3]"
   ]
  },
  {
   "cell_type": "code",
   "execution_count": 4,
   "metadata": {
    "collapsed": true
   },
   "outputs": [],
   "source": [
    "import json"
   ]
  },
  {
   "cell_type": "code",
   "execution_count": 5,
   "metadata": {
    "collapsed": false
   },
   "outputs": [],
   "source": [
    "f = open('./users/%s'%files[6])\n",
    "context = f.readlines()\n",
    "data = []\n",
    "for i in context[1:]:\n",
    "    data += [json.loads(i.replace(',\\n','').replace('\\n',''))]"
   ]
  },
  {
   "cell_type": "code",
   "execution_count": 6,
   "metadata": {
    "collapsed": false
   },
   "outputs": [],
   "source": [
    "data=sorted(data, key=lambda i: i['timestamp'])"
   ]
  },
  {
   "cell_type": "code",
   "execution_count": 7,
   "metadata": {
    "collapsed": false
   },
   "outputs": [
    {
     "data": {
      "text/plain": [
       "1"
      ]
     },
     "execution_count": 7,
     "metadata": {},
     "output_type": "execute_result"
    }
   ],
   "source": [
    "len(data)"
   ]
  },
  {
   "cell_type": "code",
   "execution_count": 8,
   "metadata": {
    "collapsed": false
   },
   "outputs": [
    {
     "data": {
      "text/plain": [
       "[None]"
      ]
     },
     "execution_count": 8,
     "metadata": {},
     "output_type": "execute_result"
    }
   ],
   "source": [
    "[i['userId'] for i in data]"
   ]
  },
  {
   "cell_type": "code",
   "execution_count": 9,
   "metadata": {
    "collapsed": false
   },
   "outputs": [
    {
     "data": {
      "text/plain": [
       "[u'178.34.162.137']"
      ]
     },
     "execution_count": 9,
     "metadata": {},
     "output_type": "execute_result"
    }
   ],
   "source": [
    "[i['ip'] for i in data]"
   ]
  },
  {
   "cell_type": "code",
   "execution_count": 10,
   "metadata": {
    "collapsed": false
   },
   "outputs": [
    {
     "data": {
      "text/plain": [
       "[u'73452d97ab881b1a8f88dc0310868cae']"
      ]
     },
     "execution_count": 10,
     "metadata": {},
     "output_type": "execute_result"
    }
   ],
   "source": [
    "[i['fingerPrint'] for i in data]"
   ]
  },
  {
   "cell_type": "code",
   "execution_count": 52,
   "metadata": {
    "collapsed": false
   },
   "outputs": [],
   "source": [
    "lens = []\n",
    "for file_name in files:\n",
    "    f = open('./users/%s'%file_name)\n",
    "    context = f.readlines()\n",
    "    lens += [len(context)-1]"
   ]
  },
  {
   "cell_type": "code",
   "execution_count": 86,
   "metadata": {
    "collapsed": false
   },
   "outputs": [
    {
     "data": {
      "text/plain": [
       "1"
      ]
     },
     "execution_count": 86,
     "metadata": {},
     "output_type": "execute_result"
    }
   ],
   "source": [
    "lens[3]"
   ]
  },
  {
   "cell_type": "code",
   "execution_count": 1,
   "metadata": {
    "collapsed": true
   },
   "outputs": [],
   "source": [
    "f = open('for_Anna (files to take).txt', 'r')\n",
    "content = f.readlines()\n",
    "#unique = [ ]"
   ]
  },
  {
   "cell_type": "code",
   "execution_count": 8,
   "metadata": {
    "collapsed": false
   },
   "outputs": [],
   "source": [
    "s = ''\n",
    "for c in content:\n",
    "    s+=c"
   ]
  },
  {
   "cell_type": "code",
   "execution_count": 31,
   "metadata": {
    "collapsed": false
   },
   "outputs": [],
   "source": [
    "import ast\n",
    "x = '['+s.replace('\\n',',')+']'\n",
    "unique = ast.literal_eval(x)[1:]"
   ]
  },
  {
   "cell_type": "code",
   "execution_count": 84,
   "metadata": {
    "collapsed": true
   },
   "outputs": [],
   "source": [
    "indx = [i for i in,x enumerate(zip(lens,unique)) if x[0] != 1 and x[1]==1]"
   ]
  },
  {
   "cell_type": "code",
   "execution_count": 32,
   "metadata": {
    "collapsed": false
   },
   "outputs": [],
   "source": [
    "indx = [i for i,x in enumerate(unique) if x == 1]"
   ]
  },
  {
   "cell_type": "code",
   "execution_count": 33,
   "metadata": {
    "collapsed": false
   },
   "outputs": [
    {
     "data": {
      "text/plain": [
       "10"
      ]
     },
     "execution_count": 33,
     "metadata": {},
     "output_type": "execute_result"
    }
   ],
   "source": [
    "indx[0]"
   ]
  },
  {
   "cell_type": "code",
   "execution_count": 34,
   "metadata": {
    "collapsed": false
   },
   "outputs": [
    {
     "data": {
      "text/plain": [
       "339349"
      ]
     },
     "execution_count": 34,
     "metadata": {},
     "output_type": "execute_result"
    }
   ],
   "source": [
    "len(files)"
   ]
  },
  {
   "cell_type": "code",
   "execution_count": 96,
   "metadata": {
    "collapsed": false
   },
   "outputs": [
    {
     "data": {
      "text/plain": [
       "True"
      ]
     },
     "execution_count": 96,
     "metadata": {},
     "output_type": "execute_result"
    }
   ],
   "source": []
  },
  {
   "cell_type": "code",
   "execution_count": 35,
   "metadata": {
    "collapsed": false
   },
   "outputs": [],
   "source": [
    "from shutil import copyfile\n",
    "for i in indx:\n",
    "    copyfile('./users/%s'%files[i], './ununique_users/%s'%files[i])"
   ]
  },
  {
   "cell_type": "code",
   "execution_count": 55,
   "metadata": {
    "collapsed": true
   },
   "outputs": [],
   "source": [
    "mn = min(lens)\n",
    "mx = max(lens)\n",
    "counts = [lens.count(i) for i in range(mn, mx)]"
   ]
  },
  {
   "cell_type": "code",
   "execution_count": 78,
   "metadata": {
    "collapsed": true
   },
   "outputs": [],
   "source": [
    "counts_no_zero = [i for i in counts if i != 0]"
   ]
  },
  {
   "cell_type": "code",
   "execution_count": 79,
   "metadata": {
    "collapsed": false
   },
   "outputs": [
    {
     "name": "stdout",
     "output_type": "stream",
     "text": [
      "1028.32727273\n",
      "2.0\n"
     ]
    }
   ],
   "source": [
    "import numpy as np \n",
    "print np.mean(counts_no_zero)\n",
    "print np.median(counts_no_zero)"
   ]
  },
  {
   "cell_type": "code",
   "execution_count": 43,
   "metadata": {
    "collapsed": false
   },
   "outputs": [
    {
     "data": {
      "text/plain": [
       "[u'2015-11-19T21:10:19.838+0000']"
      ]
     },
     "execution_count": 43,
     "metadata": {},
     "output_type": "execute_result"
    }
   ],
   "source": [
    "[i['timestamp'] for i in data]"
   ]
  },
  {
   "cell_type": "code",
   "execution_count": 20,
   "metadata": {
    "collapsed": false
   },
   "outputs": [
    {
     "data": {
      "text/plain": [
       "'{\"search\": \"\", \"timestamp\": \"2016-04-18T16:25:50.408+0000\", \"title\": \"\\\\u041b\\\\u0435\\\\u0447\\\\u0435\\\\u043d\\\\u0438\\\\u0435 \\\\u043e\\\\u043f\\\\u0443\\\\u0445\\\\u043e\\\\u043b\\\\u0435\\\\u0439 \\\\u0441\\\\u043f\\\\u0438\\\\u043d\\\\u043d\\\\u043e\\\\u0433\\\\u043e \\\\u043c\\\\u043e\\\\u0437\\\\u0433\\\\u0430 \\\\u0432 \\\\u0418\\\\u0437\\\\u0440\\\\u0430\\\\u0438\\\\u043b\\\\u0435 \\\\u2013 11 \\\\u043a\\\\u043b\\\\u0438\\\\u043d\\\\u0438\\\\u043a, \\\\u0446\\\\u0435\\\\u043d\\\\u044b \\\\u0438 \\\\u043e\\\\u0442\\\\u0437\\\\u044b\\\\u0432\\\\u044b \\\\u043e\\\\u0442 BOOKIMED\", \"url\": \"http://ru.bookimed.com/clinics/country=israel/illness=opuholi-spinnogo-mozga/\", \"referrer\": \"http://nova.rambler.ru/search?query=%D0%BB%D0%B5%D1%87%D0%B5%D0%BD%D0%B8%D0%B5%20%D1%81%D0%BF%D0%B8%D0%BD%D0%BD%D0%BE%D0%B3%D0%BE%20%D0%BC%D0%BE%D0%B7%D0%B3%D0%B0%20%D0%B2%20%D0%B8%D0%B7%D1%80%D0%B0%D0%B8%D0%BB%D0%B5\", \"fingerPrint\": \"cb4242a068a2ecd0703a64c2a84d99ac\", \"userId\": null, \"ip\": \"95.189.179.41\", \"path\": \"/clinics/country=israel/illness=opuholi-spinnogo-mozga/\", \"type\": 1}'"
      ]
     },
     "execution_count": 20,
     "metadata": {},
     "output_type": "execute_result"
    }
   ],
   "source": [
    "context[-1].replace(',\\n','').replace('\\n','')"
   ]
  },
  {
   "cell_type": "code",
   "execution_count": 5,
   "metadata": {
    "collapsed": false
   },
   "outputs": [
    {
     "ename": "ValueError",
     "evalue": "Expecting object: line 4 column 920 (char 2821)",
     "output_type": "error",
     "traceback": [
      "\u001b[1;31m---------------------------------------------------------------------------\u001b[0m",
      "\u001b[1;31mValueError\u001b[0m                                Traceback (most recent call last)",
      "\u001b[1;32m<ipython-input-5-c2c14712b734>\u001b[0m in \u001b[0;36m<module>\u001b[1;34m()\u001b[0m\n\u001b[0;32m      1\u001b[0m \u001b[1;32mimport\u001b[0m \u001b[0mjson\u001b[0m\u001b[1;33m\u001b[0m\u001b[0m\n\u001b[1;32m----> 2\u001b[1;33m \u001b[0mjson\u001b[0m\u001b[1;33m.\u001b[0m\u001b[0mload\u001b[0m\u001b[1;33m(\u001b[0m\u001b[0mf\u001b[0m\u001b[1;33m)\u001b[0m\u001b[1;33m\u001b[0m\u001b[0m\n\u001b[0m",
      "\u001b[1;32m/usr/lib/python2.7/json/__init__.pyc\u001b[0m in \u001b[0;36mload\u001b[1;34m(fp, encoding, cls, object_hook, parse_float, parse_int, parse_constant, object_pairs_hook, **kw)\u001b[0m\n\u001b[0;32m    288\u001b[0m         \u001b[0mparse_float\u001b[0m\u001b[1;33m=\u001b[0m\u001b[0mparse_float\u001b[0m\u001b[1;33m,\u001b[0m \u001b[0mparse_int\u001b[0m\u001b[1;33m=\u001b[0m\u001b[0mparse_int\u001b[0m\u001b[1;33m,\u001b[0m\u001b[1;33m\u001b[0m\u001b[0m\n\u001b[0;32m    289\u001b[0m         \u001b[0mparse_constant\u001b[0m\u001b[1;33m=\u001b[0m\u001b[0mparse_constant\u001b[0m\u001b[1;33m,\u001b[0m \u001b[0mobject_pairs_hook\u001b[0m\u001b[1;33m=\u001b[0m\u001b[0mobject_pairs_hook\u001b[0m\u001b[1;33m,\u001b[0m\u001b[1;33m\u001b[0m\u001b[0m\n\u001b[1;32m--> 290\u001b[1;33m         **kw)\n\u001b[0m\u001b[0;32m    291\u001b[0m \u001b[1;33m\u001b[0m\u001b[0m\n\u001b[0;32m    292\u001b[0m \u001b[1;33m\u001b[0m\u001b[0m\n",
      "\u001b[1;32m/usr/lib/python2.7/json/__init__.pyc\u001b[0m in \u001b[0;36mloads\u001b[1;34m(s, encoding, cls, object_hook, parse_float, parse_int, parse_constant, object_pairs_hook, **kw)\u001b[0m\n\u001b[0;32m    336\u001b[0m             \u001b[0mparse_int\u001b[0m \u001b[1;32mis\u001b[0m \u001b[0mNone\u001b[0m \u001b[1;32mand\u001b[0m \u001b[0mparse_float\u001b[0m \u001b[1;32mis\u001b[0m \u001b[0mNone\u001b[0m \u001b[1;32mand\u001b[0m\u001b[1;33m\u001b[0m\u001b[0m\n\u001b[0;32m    337\u001b[0m             parse_constant is None and object_pairs_hook is None and not kw):\n\u001b[1;32m--> 338\u001b[1;33m         \u001b[1;32mreturn\u001b[0m \u001b[0m_default_decoder\u001b[0m\u001b[1;33m.\u001b[0m\u001b[0mdecode\u001b[0m\u001b[1;33m(\u001b[0m\u001b[0ms\u001b[0m\u001b[1;33m)\u001b[0m\u001b[1;33m\u001b[0m\u001b[0m\n\u001b[0m\u001b[0;32m    339\u001b[0m     \u001b[1;32mif\u001b[0m \u001b[0mcls\u001b[0m \u001b[1;32mis\u001b[0m \u001b[0mNone\u001b[0m\u001b[1;33m:\u001b[0m\u001b[1;33m\u001b[0m\u001b[0m\n\u001b[0;32m    340\u001b[0m         \u001b[0mcls\u001b[0m \u001b[1;33m=\u001b[0m \u001b[0mJSONDecoder\u001b[0m\u001b[1;33m\u001b[0m\u001b[0m\n",
      "\u001b[1;32m/usr/lib/python2.7/json/decoder.pyc\u001b[0m in \u001b[0;36mdecode\u001b[1;34m(self, s, _w)\u001b[0m\n\u001b[0;32m    364\u001b[0m \u001b[1;33m\u001b[0m\u001b[0m\n\u001b[0;32m    365\u001b[0m         \"\"\"\n\u001b[1;32m--> 366\u001b[1;33m         \u001b[0mobj\u001b[0m\u001b[1;33m,\u001b[0m \u001b[0mend\u001b[0m \u001b[1;33m=\u001b[0m \u001b[0mself\u001b[0m\u001b[1;33m.\u001b[0m\u001b[0mraw_decode\u001b[0m\u001b[1;33m(\u001b[0m\u001b[0ms\u001b[0m\u001b[1;33m,\u001b[0m \u001b[0midx\u001b[0m\u001b[1;33m=\u001b[0m\u001b[0m_w\u001b[0m\u001b[1;33m(\u001b[0m\u001b[0ms\u001b[0m\u001b[1;33m,\u001b[0m \u001b[1;36m0\u001b[0m\u001b[1;33m)\u001b[0m\u001b[1;33m.\u001b[0m\u001b[0mend\u001b[0m\u001b[1;33m(\u001b[0m\u001b[1;33m)\u001b[0m\u001b[1;33m)\u001b[0m\u001b[1;33m\u001b[0m\u001b[0m\n\u001b[0m\u001b[0;32m    367\u001b[0m         \u001b[0mend\u001b[0m \u001b[1;33m=\u001b[0m \u001b[0m_w\u001b[0m\u001b[1;33m(\u001b[0m\u001b[0ms\u001b[0m\u001b[1;33m,\u001b[0m \u001b[0mend\u001b[0m\u001b[1;33m)\u001b[0m\u001b[1;33m.\u001b[0m\u001b[0mend\u001b[0m\u001b[1;33m(\u001b[0m\u001b[1;33m)\u001b[0m\u001b[1;33m\u001b[0m\u001b[0m\n\u001b[0;32m    368\u001b[0m         \u001b[1;32mif\u001b[0m \u001b[0mend\u001b[0m \u001b[1;33m!=\u001b[0m \u001b[0mlen\u001b[0m\u001b[1;33m(\u001b[0m\u001b[0ms\u001b[0m\u001b[1;33m)\u001b[0m\u001b[1;33m:\u001b[0m\u001b[1;33m\u001b[0m\u001b[0m\n",
      "\u001b[1;32m/usr/lib/python2.7/json/decoder.pyc\u001b[0m in \u001b[0;36mraw_decode\u001b[1;34m(self, s, idx)\u001b[0m\n\u001b[0;32m    380\u001b[0m         \"\"\"\n\u001b[0;32m    381\u001b[0m         \u001b[1;32mtry\u001b[0m\u001b[1;33m:\u001b[0m\u001b[1;33m\u001b[0m\u001b[0m\n\u001b[1;32m--> 382\u001b[1;33m             \u001b[0mobj\u001b[0m\u001b[1;33m,\u001b[0m \u001b[0mend\u001b[0m \u001b[1;33m=\u001b[0m \u001b[0mself\u001b[0m\u001b[1;33m.\u001b[0m\u001b[0mscan_once\u001b[0m\u001b[1;33m(\u001b[0m\u001b[0ms\u001b[0m\u001b[1;33m,\u001b[0m \u001b[0midx\u001b[0m\u001b[1;33m)\u001b[0m\u001b[1;33m\u001b[0m\u001b[0m\n\u001b[0m\u001b[0;32m    383\u001b[0m         \u001b[1;32mexcept\u001b[0m \u001b[0mStopIteration\u001b[0m\u001b[1;33m:\u001b[0m\u001b[1;33m\u001b[0m\u001b[0m\n\u001b[0;32m    384\u001b[0m             \u001b[1;32mraise\u001b[0m \u001b[0mValueError\u001b[0m\u001b[1;33m(\u001b[0m\u001b[1;34m\"No JSON object could be decoded\"\u001b[0m\u001b[1;33m)\u001b[0m\u001b[1;33m\u001b[0m\u001b[0m\n",
      "\u001b[1;31mValueError\u001b[0m: Expecting object: line 4 column 920 (char 2821)"
     ]
    }
   ],
   "source": [
    "import json\n",
    "json.load(f)"
   ]
  },
  {
   "cell_type": "code",
   "execution_count": null,
   "metadata": {
    "collapsed": true
   },
   "outputs": [],
   "source": [
    "for file_name in files:\n",
    "    f = open('./users/%s'%file_name, 'a')\n",
    "    f.write('\\n]')"
   ]
  },
  {
   "cell_type": "code",
   "execution_count": null,
   "metadata": {
    "collapsed": false
   },
   "outputs": [],
   "source": [
    "import sys\n",
    "print sys.getsizeof(names)/5*350000"
   ]
  },
  {
   "cell_type": "code",
   "execution_count": null,
   "metadata": {
    "collapsed": false
   },
   "outputs": [],
   "source": [
    "files"
   ]
  },
  {
   "cell_type": "code",
   "execution_count": null,
   "metadata": {
    "collapsed": false
   },
   "outputs": [],
   "source": [
    "import os\n",
    "for filename in os.listdir('./users'):\n",
    "    print filename"
   ]
  },
  {
   "cell_type": "code",
   "execution_count": null,
   "metadata": {
    "collapsed": false
   },
   "outputs": [],
   "source": [
    "#get user\n",
    "import json\n",
    "data = []\n",
    "with open('./users/d62c1e33-ddfc-468b-960a-171821b100bf.json') as data_file: \n",
    "    data = json.load(data_file)"
   ]
  },
  {
   "cell_type": "code",
   "execution_count": null,
   "metadata": {
    "collapsed": true
   },
   "outputs": [],
   "source": []
  },
  {
   "cell_type": "code",
   "execution_count": null,
   "metadata": {
    "collapsed": true
   },
   "outputs": [],
   "source": []
  },
  {
   "cell_type": "code",
   "execution_count": null,
   "metadata": {
    "collapsed": true
   },
   "outputs": [],
   "source": []
  },
  {
   "cell_type": "code",
   "execution_count": null,
   "metadata": {
    "collapsed": false
   },
   "outputs": [],
   "source": [
    "s='{\"__v\": 0, \"anonymousId\": \"64758d5f-bcdf-4c3a-95ad-d1bbe9fd43fa\", \"gaClientId\": \"836458242.1455543346\", \"projectId\": \"Gek65RzD8P\", \"messageId\": \"ajs-65b54e49800628622b7054fd8781d39c\", \"userId\": null, \"event\": \"Opened Request Treatment Modal\", \"receivedAt\": {\"$date\": \"2016-02-15T13:37:38.706+0000\"}, \"version\": 1, \"context\": {\"ip\": \"109.75.39.175\", \"page\": {\"url\": \"http://bookimed.com/clinics/country=germany/illness=breast-cancer/\", \"referrer\": \"http://bookimed.com/clinics/country=germany/illness=breast-cancer/page=3/\", \"search\": \"\", \"path\": \"/clinics/country=germany/illness=breast-cancer/\", \"title\": \"30 clinics for treatment of breast cancer in Germany \\u2013 prices and reviews about treatment abroad| BOOKIMED\"}, \"library\": {\"version\": \"2.11.1\", \"name\": \"analytics.js\"}, \"userAgent\": \"Mozilla/5.0 (Windows NT 6.3; WOW64) AppleWebKit/537.36 (KHTML, like Gecko) Chrome/48.0.2564.109 Safari/537.36\"}, \"timestamp\": {\"$date\": \"2016-02-15T13:37:40.178+0000\"}, \"_id\": {\"$oid\": \"56c1d4a26bfd371f107e2f22\"}, \"type\": \"track\", \"properties\": {\"button_type\": \"auto_help\"}, \"channel\": \"client\", \"sentAt\": {\"$date\": \"2016-02-15T13:37:40.179+0000\"}}'\n",
    "b=json.loads(s)"
   ]
  },
  {
   "cell_type": "code",
   "execution_count": null,
   "metadata": {
    "collapsed": false
   },
   "outputs": [],
   "source": [
    "import json\n",
    "\n",
    "data = []\n",
    "with open('./bookimed.json') as f:\n",
    "    for line in f:\n",
    "        data.append(json.loads(line))"
   ]
  },
  {
   "cell_type": "code",
   "execution_count": null,
   "metadata": {
    "collapsed": false
   },
   "outputs": [],
   "source": [
    "len(data)"
   ]
  },
  {
   "cell_type": "code",
   "execution_count": null,
   "metadata": {
    "collapsed": false
   },
   "outputs": [],
   "source": [
    "f = open('./users/ffffbdc1-6c9f-4fd0-9b65-1.json')\n",
    "content = f.readlines()"
   ]
  },
  {
   "cell_type": "code",
   "execution_count": null,
   "metadata": {
    "collapsed": false
   },
   "outputs": [],
   "source": [
    "content"
   ]
  },
  {
   "cell_type": "code",
   "execution_count": null,
   "metadata": {
    "collapsed": false
   },
   "outputs": [],
   "source": [
    "content = f.readline()\n",
    "json.loads(content[:-1])"
   ]
  },
  {
   "cell_type": "code",
   "execution_count": null,
   "metadata": {
    "collapsed": false
   },
   "outputs": [],
   "source": [
    "f_w = open('./1.json','a')"
   ]
  },
  {
   "cell_type": "code",
   "execution_count": null,
   "metadata": {
    "collapsed": false
   },
   "outputs": [],
   "source": [
    "import json\n",
    "json.loads(content)"
   ]
  },
  {
   "cell_type": "code",
   "execution_count": null,
   "metadata": {
    "collapsed": false
   },
   "outputs": [],
   "source": [
    "a=content.replace('\\n', ',\\n')"
   ]
  },
  {
   "cell_type": "code",
   "execution_count": null,
   "metadata": {
    "collapsed": false
   },
   "outputs": [],
   "source": [
    "f_w.write(b)"
   ]
  },
  {
   "cell_type": "code",
   "execution_count": null,
   "metadata": {
    "collapsed": false
   },
   "outputs": [],
   "source": [
    "json.dump(b, f_w)"
   ]
  },
  {
   "cell_type": "code",
   "execution_count": null,
   "metadata": {
    "collapsed": false
   },
   "outputs": [],
   "source": [
    "f_w.close()"
   ]
  },
  {
   "cell_type": "code",
   "execution_count": null,
   "metadata": {
    "collapsed": false
   },
   "outputs": [],
   "source": [
    "f_w = open('./data_1.json','w+')\n",
    "f_w.write('[\\n')\n",
    "with open('./bookimed.json') as f:\n",
    "    for line in f:\n",
    "        f_w.write(line.replace('\\n', ',\\n'))\n",
    "f_w.write('\\n]')"
   ]
  },
  {
   "cell_type": "code",
   "execution_count": null,
   "metadata": {
    "collapsed": true
   },
   "outputs": [],
   "source": []
  },
  {
   "cell_type": "code",
   "execution_count": null,
   "metadata": {
    "collapsed": false,
    "scrolled": true
   },
   "outputs": [],
   "source": [
    "data = []\n",
    "for i in range(1,102):\n",
    "    data = json.loads(content[i][:-1])\n",
    "    print i"
   ]
  },
  {
   "cell_type": "code",
   "execution_count": null,
   "metadata": {
    "collapsed": true
   },
   "outputs": [],
   "source": []
  },
  {
   "cell_type": "code",
   "execution_count": null,
   "metadata": {
    "collapsed": false
   },
   "outputs": [],
   "source": [
    "import json\n",
    "data = []\n",
    "\n",
    "f = open('./bookimed.json')\n",
    "line = f.readline()\n",
    "while line:\n",
    "    data += [json.loads(line[:-1])]\n",
    "    line = f.readline()\n",
    "\n",
    "f.close()"
   ]
  },
  {
   "cell_type": "code",
   "execution_count": null,
   "metadata": {
    "collapsed": false
   },
   "outputs": [],
   "source": [
    "i = 11\n",
    "data[i]['context']['page'] == data[i]['properties']"
   ]
  },
  {
   "cell_type": "code",
   "execution_count": null,
   "metadata": {
    "collapsed": false
   },
   "outputs": [],
   "source": [
    "data[i]['context']['page']"
   ]
  },
  {
   "cell_type": "code",
   "execution_count": null,
   "metadata": {
    "collapsed": false
   },
   "outputs": [],
   "source": [
    "data[i]['properties']"
   ]
  },
  {
   "cell_type": "code",
   "execution_count": null,
   "metadata": {
    "collapsed": false
   },
   "outputs": [],
   "source": [
    "data[i]"
   ]
  },
  {
   "cell_type": "code",
   "execution_count": null,
   "metadata": {
    "collapsed": true
   },
   "outputs": [],
   "source": []
  },
  {
   "cell_type": "code",
   "execution_count": null,
   "metadata": {
    "collapsed": false
   },
   "outputs": [],
   "source": [
    "for i in range(0, len(data)):\n",
    "    print i, data[i]['context']['page'] == data[i]['properties']"
   ]
  },
  {
   "cell_type": "code",
   "execution_count": null,
   "metadata": {
    "collapsed": true
   },
   "outputs": [],
   "source": [
    "with open('part.json', 'w') as outfile:\n",
    "    json.dump(data, outfile)"
   ]
  },
  {
   "cell_type": "code",
   "execution_count": null,
   "metadata": {
    "collapsed": false
   },
   "outputs": [],
   "source": [
    "data = []\n",
    "for element in content:\n",
    "    data += [json.loads(content[0][:-1])]"
   ]
  },
  {
   "cell_type": "code",
   "execution_count": null,
   "metadata": {
    "collapsed": false
   },
   "outputs": [],
   "source": [
    "content[0][:-1]"
   ]
  },
  {
   "cell_type": "code",
   "execution_count": null,
   "metadata": {
    "collapsed": true
   },
   "outputs": [],
   "source": [
    "cds"
   ]
  }
 ],
 "metadata": {
  "kernelspec": {
   "display_name": "Python 2",
   "language": "python",
   "name": "python2"
  },
  "language_info": {
   "codemirror_mode": {
    "name": "ipython",
    "version": 2
   },
   "file_extension": ".py",
   "mimetype": "text/x-python",
   "name": "python",
   "nbconvert_exporter": "python",
   "pygments_lexer": "ipython2",
   "version": "2.7.6"
  }
 },
 "nbformat": 4,
 "nbformat_minor": 0
}
