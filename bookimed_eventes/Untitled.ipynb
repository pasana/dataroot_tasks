{
 "cells": [
  {
   "cell_type": "code",
   "execution_count": 1,
   "metadata": {
    "collapsed": true
   },
   "outputs": [],
   "source": [
    "import json,re "
   ]
  },
  {
   "cell_type": "code",
   "execution_count": 2,
   "metadata": {
    "collapsed": true
   },
   "outputs": [],
   "source": [
    "with open('./short_bookimed.json') as data_file: \n",
    "    content = data_file.readlines()"
   ]
  },
  {
   "cell_type": "code",
   "execution_count": 21,
   "metadata": {
    "collapsed": false
   },
   "outputs": [
    {
     "data": {
      "text/plain": [
       "u'clinic_get_cost'"
      ]
     },
     "execution_count": 21,
     "metadata": {},
     "output_type": "execute_result"
    }
   ],
   "source": [
    "json.loads(content[110][:-3])['properties']['button_type']"
   ]
  },
  {
   "cell_type": "code",
   "execution_count": 3,
   "metadata": {
    "collapsed": false
   },
   "outputs": [],
   "source": [
    "refs = []\n",
    "for line in content[1:-1]:\n",
    "    try:\n",
    "        refs += [json.loads(line[:-3])['url']]\n",
    "    except:\n",
    "        refs += [json.loads(line[:-1])['url']]"
   ]
  },
  {
   "cell_type": "code",
   "execution_count": 28,
   "metadata": {
    "collapsed": false
   },
   "outputs": [
    {
     "ename": "KeyError",
     "evalue": "'properties'",
     "output_type": "error",
     "traceback": [
      "\u001b[1;31m---------------------------------------------------------------------------\u001b[0m",
      "\u001b[1;31mKeyError\u001b[0m                                  Traceback (most recent call last)",
      "\u001b[1;32m<ipython-input-28-c49bb7c433a2>\u001b[0m in \u001b[0;36m<module>\u001b[1;34m()\u001b[0m\n\u001b[0;32m      6\u001b[0m         \u001b[1;32mpass\u001b[0m\u001b[1;33m\u001b[0m\u001b[0m\n\u001b[0;32m      7\u001b[0m     \u001b[1;32mexcept\u001b[0m\u001b[1;33m:\u001b[0m\u001b[1;33m\u001b[0m\u001b[0m\n\u001b[1;32m----> 8\u001b[1;33m         \u001b[0mrefs\u001b[0m \u001b[1;33m+=\u001b[0m \u001b[1;33m[\u001b[0m\u001b[0mjson\u001b[0m\u001b[1;33m.\u001b[0m\u001b[0mloads\u001b[0m\u001b[1;33m(\u001b[0m\u001b[0mline\u001b[0m\u001b[1;33m[\u001b[0m\u001b[1;33m:\u001b[0m\u001b[1;33m-\u001b[0m\u001b[1;36m1\u001b[0m\u001b[1;33m]\u001b[0m\u001b[1;33m)\u001b[0m\u001b[1;33m[\u001b[0m\u001b[1;34m'properties'\u001b[0m\u001b[1;33m]\u001b[0m\u001b[1;33m[\u001b[0m\u001b[1;34m'button_type'\u001b[0m\u001b[1;33m]\u001b[0m\u001b[1;33m]\u001b[0m\u001b[1;33m\u001b[0m\u001b[0m\n\u001b[0m",
      "\u001b[1;31mKeyError\u001b[0m: 'properties'"
     ]
    }
   ],
   "source": [
    "refs = []\n",
    "for line in content[1:-1]:\n",
    "    try:\n",
    "        refs += [json.loads(line[:-3])['properties']['button_type']]\n",
    "    except KeyError:\n",
    "        pass\n",
    "    except:\n",
    "        refs += [json.loads(line[:-1])['properties']['button_type']]"
   ]
  },
  {
   "cell_type": "code",
   "execution_count": 69,
   "metadata": {
    "collapsed": false
   },
   "outputs": [],
   "source": [
    "f = open('urls.txt', 'w')\n",
    "for r in refs:\n",
    "    f.write(r.encode('utf-8'))\n",
    "    f.write('\\n')"
   ]
  },
  {
   "cell_type": "code",
   "execution_count": 26,
   "metadata": {
    "collapsed": false
   },
   "outputs": [
    {
     "data": {
      "text/plain": [
       "23"
      ]
     },
     "execution_count": 26,
     "metadata": {},
     "output_type": "execute_result"
    }
   ],
   "source": [
    "len(refs)"
   ]
  },
  {
   "cell_type": "code",
   "execution_count": 68,
   "metadata": {
    "collapsed": false
   },
   "outputs": [
    {
     "data": {
      "text/plain": [
       "'http://bookimed.com/clinic/ac\\xc4\\xb1badem-health-group/'"
      ]
     },
     "execution_count": 68,
     "metadata": {},
     "output_type": "execute_result"
    }
   ],
   "source": [
    "r.encode('utf-8')"
   ]
  },
  {
   "cell_type": "code",
   "execution_count": 9,
   "metadata": {
    "collapsed": false
   },
   "outputs": [],
   "source": [
    "#delete good one's\n",
    "domains = 'com|co.in|com.hk|de||co.uk|co.jp|fr|com.br|it|ru|es|ca|com.mx|co.id|com.tr|com.au|pl|com.sa|nl|com.ar|com.eg|co.th|com.pk|co.za|com.my|be|gr|com.vn|co.ve|com.tw|com.ua|at|se|com.co|ro|ch|pt|com.ph|cl|com.ng|com.sg|com.pe|ae|co.kr|co.hu|ie|dk|no|co.il|fi|cz|co.ma|sk|co.nz|com.kw|lk|bg|com.qa|az|kz|com.do|hr|by|com.ec|lt|iq|co.ke|com.bd|com.om|tn|si|co.cr|com.gt|com.pr|com.sv|lv|com.uy|jo|com.bo|ba|com.cu|rs|com.ly|cm|ee|co.ug|com.bh|com.np|com.gh|dz|lu|com.lb|co.uz|ci|com.py|com.ni|hn|com.et|tt|co.tz|mg|sn|cd|com.kh|am|com.af|ge|mu|com.bn|co.mz|com.jm|com.gi|is|com.pa|md|ps|com.na|mn|com.mt|co.bw|bj|kg|ml|rw|co.zm|bs|ht|la|com.bz|co.zw|as|cat|mk|ne|mw|tg|co.ao|gp|gy|bf|ga|li|co|tm|dj|mv|hk|sc|dm|bi|co.vi|vu|ad|com.vc|com.ag|com.fj|to|cf|fm|tk|gg|ws|vg|im|nu|gm|je|ms|me|co.im|tl|com.ai|gl|co.ls|co.je|st|it.ao|com.by|com.tj|pn|sh|com.sl|nr|sm|cg|co.ck|com.sb|com.cy|so|com.nf|com.ve|com.iq|jp|ac|com.tn|in|td'\n",
    "patterns = [\n",
    "    u'^(?P<ref>http[s]*://[www.]*clck.yandex.(ru|ua|kz|com|com.tr|by))',\n",
    "    u'^(?P<ref>http[s]*://[www.]*yandex.(ru|ua|kz|com|com.tr|by)/clck/)',\n",
    "    u'^(?P<ref>http[s]*://[www.]*yandex.(ru|ua|kz|com|com.tr|by)/(yandsearch|touchsearch|msearch|search))',\n",
    "    u'^http(?P<ref>[s]*://[www.]*google.(%s)/(search?|m))'%domains,\n",
    "    u'^(?P<ref>http[s]*://[www.]*google.(%s)/url)'%domains,\n",
    "    u'^(?P<ref>http[(?P<ref>s]*://[www.]*bing.com/search)'\n",
    "]\n",
    "\n",
    "for i in range(0, len(refs)):\n",
    "    flag = False\n",
    "    for pattern in patterns:\n",
    "        if re.match(pattern,refs[i]):\n",
    "            flag = True\n",
    "            refs[i]  = re.match(pattern,refs[i]).groupdict()['ref']\n",
    "            break"
   ]
  },
  {
   "cell_type": "code",
   "execution_count": 309,
   "metadata": {
    "collapsed": false
   },
   "outputs": [
    {
     "name": "stdout",
     "output_type": "stream",
     "text": [
      "1377052 1377052\n"
     ]
    }
   ],
   "source": [
    "print len(refs), len(new_ref)"
   ]
  },
  {
   "cell_type": "code",
   "execution_count": 15,
   "metadata": {
    "collapsed": false
   },
   "outputs": [
    {
     "name": "stdout",
     "output_type": "stream",
     "text": [
      "/diagnosticsKind/consultation-neurosurgeon/\n"
     ]
    }
   ],
   "source": [
    "i=10\n",
    "print refs[i]"
   ]
  },
  {
   "cell_type": "code",
   "execution_count": null,
   "metadata": {
    "collapsed": false
   },
   "outputs": [],
   "source": [
    "for i in refs[:100]:\n",
    "    print i"
   ]
  },
  {
   "cell_type": "code",
   "execution_count": 30,
   "metadata": {
    "collapsed": false
   },
   "outputs": [
    {
     "name": "stdout",
     "output_type": "stream",
     "text": [
      "2455\n",
      "128915\n",
      "204\n",
      "4588\n",
      "2670\n",
      "6475\n",
      "79918\n",
      "4253\n",
      "45\n",
      "6302\n",
      "1494\n",
      "692\n",
      "112\n",
      "4\n",
      "60\n",
      "31\n",
      "438\n",
      "8\n",
      "137\n",
      "1931\n",
      "77\n",
      "398\n",
      "154\n"
     ]
    }
   ],
   "source": [
    "for i in refs_set:\n",
    "    print refs.count(i)"
   ]
  },
  {
   "cell_type": "code",
   "execution_count": 29,
   "metadata": {
    "collapsed": false
   },
   "outputs": [],
   "source": [
    "refs_set = sorted(list(set(refs)))"
   ]
  },
  {
   "cell_type": "code",
   "execution_count": 282,
   "metadata": {
    "collapsed": true
   },
   "outputs": [],
   "source": [
    "#delete good one's\n",
    "patterns = [\n",
    "    u'^(?P<ref>http[s]*://[www.]*clck.yandex.(ru|ua|kz|com|com.tr|by))',\n",
    "    u'^(?P<ref>http[s]*://[www.]*yandex.(ru|ua|kz|com|com.tr|by)/clck/)',\n",
    "    u'^(?P<ref>http[s]*://[www.]*yandex.(ru|ua|kz|com|com.tr|by)/(yandsearch|touchsearch|msearch|search))',\n",
    "    u'^http(?P<ref>[s]*://[www.]*google.(%s)/(search?|m))'%domains,\n",
    "    u'^(?P<ref>http[s]*://[www.]*google.(%s)/url)'%domains,\n",
    "    u'^(?P<ref>http[(?P<ref>s]*://[www.]*bing.com/search)'\n",
    "]\n",
    "for pattern in patterns:\n",
    "    refs = [i for i in refs if not re.match(pattern,i)]"
   ]
  },
  {
   "cell_type": "code",
   "execution_count": 106,
   "metadata": {
    "collapsed": false
   },
   "outputs": [
    {
     "data": {
      "text/plain": [
       "3"
      ]
     },
     "execution_count": 106,
     "metadata": {},
     "output_type": "execute_result"
    }
   ],
   "source": [
    "refs.count(refs[2])"
   ]
  },
  {
   "cell_type": "code",
   "execution_count": 123,
   "metadata": {
    "collapsed": false
   },
   "outputs": [],
   "source": [
    "s = [i.keys() for i in refs]"
   ]
  },
  {
   "cell_type": "code",
   "execution_count": 101,
   "metadata": {
    "collapsed": true
   },
   "outputs": [],
   "source": [
    "refs = [i for i in refs if i!=r]"
   ]
  },
  {
   "cell_type": "code",
   "execution_count": 160,
   "metadata": {
    "collapsed": false
   },
   "outputs": [
    {
     "data": {
      "text/plain": [
       "{u'content': u'96078222',\n",
       " u'medium': u'email',\n",
       " u'name': u'Pismo_dlja_agentstv_RU',\n",
       " u'source': u'eSputnik-trigger'}"
      ]
     },
     "execution_count": 160,
     "metadata": {},
     "output_type": "execute_result"
    }
   ],
   "source": [
    "refs[0]"
   ]
  },
  {
   "cell_type": "code",
   "execution_count": null,
   "metadata": {
    "collapsed": false
   },
   "outputs": [],
   "source": []
  },
  {
   "cell_type": "code",
   "execution_count": 102,
   "metadata": {
    "collapsed": false
   },
   "outputs": [
    {
     "data": {
      "text/plain": [
       "21129"
      ]
     },
     "execution_count": 102,
     "metadata": {},
     "output_type": "execute_result"
    }
   ],
   "source": [
    "len(refs)"
   ]
  },
  {
   "cell_type": "code",
   "execution_count": 43,
   "metadata": {
    "collapsed": false
   },
   "outputs": [],
   "source": [
    "yandex = [i for i in refs if 'yahoo' in i]"
   ]
  },
  {
   "cell_type": "code",
   "execution_count": 40,
   "metadata": {
    "collapsed": false
   },
   "outputs": [],
   "source": [
    "yandex = [i for i in yandex if not re.match(pattern,i)]"
   ]
  },
  {
   "cell_type": "code",
   "execution_count": 44,
   "metadata": {
    "collapsed": false
   },
   "outputs": [
    {
     "data": {
      "text/plain": [
       "2014"
      ]
     },
     "execution_count": 44,
     "metadata": {},
     "output_type": "execute_result"
    }
   ],
   "source": [
    "len(yandex)"
   ]
  },
  {
   "cell_type": "code",
   "execution_count": 37,
   "metadata": {
    "collapsed": false
   },
   "outputs": [
    {
     "name": "stdout",
     "output_type": "stream",
     "text": [
      "ok http://ru.bookimed.dev/\n"
     ]
    }
   ],
   "source": [
    "import re\n",
    "domains = 'com|co.in|com.hk|de||co.uk|co.jp|fr|com.br|it|ru|es|ca|com.mx|co.id|com.tr|com.au|pl|com.sa|nl|com.ar|com.eg|co.th|com.pk|co.za|com.my|be|gr|com.vn|co.ve|com.tw|com.ua|at|se|com.co|ro|ch|pt|com.ph|cl|com.ng|com.sg|com.pe|ae|co.kr|co.hu|ie|dk|no|co.il|fi|cz|co.ma|sk|co.nz|com.kw|lk|bg|com.qa|az|kz|com.do|hr|by|com.ec|lt|iq|co.ke|com.bd|com.om|tn|si|co.cr|com.gt|com.pr|com.sv|lv|com.uy|jo|com.bo|ba|com.cu|rs|com.ly|cm|ee|co.ug|com.bh|com.np|com.gh|dz|lu|com.lb|co.uz|ci|com.py|com.ni|hn|com.et|tt|co.tz|mg|sn|cd|com.kh|am|com.af|ge|mu|com.bn|co.mz|com.jm|com.gi|is|com.pa|md|ps|com.na|mn|com.mt|co.bw|bj|kg|ml|rw|co.zm|bs|ht|la|com.bz|co.zw|as|cat|mk|ne|mw|tg|co.ao|gp|gy|bf|ga|li|co|tm|dj|mv|hk|sc|dm|bi|co.vi|vu|ad|com.vc|com.ag|com.fj|to|cf|fm|tk|gg|ws|vg|im|nu|gm|je|ms|me|co.im|tl|com.ai|gl|co.ls|co.je|st|it.ao|com.by|com.tj|pn|sh|com.sl|nr|sm|cg|co.ck|com.sb|com.cy|so|com.nf|com.ve|com.iq|jp|ac|com.tn|in|td'\n",
    "pattern = u'^(?P<ref>http[s]*://[www.]*[ru.]*.dev/)'\n",
    "\n",
    "string = yandex[-400]\n",
    "if re.match(pattern, string):\n",
    "    print \"ok\", re.match(pattern, string).groupdict()['ref']\n",
    "else:\n",
    "    print \"ne ok\""
   ]
  },
  {
   "cell_type": "code",
   "execution_count": 38,
   "metadata": {
    "collapsed": false
   },
   "outputs": [],
   "source": [
    "clck_yandex = [i for i in yandex if re.match(pattern,i)]"
   ]
  },
  {
   "cell_type": "code",
   "execution_count": 39,
   "metadata": {
    "collapsed": false
   },
   "outputs": [
    {
     "data": {
      "text/plain": [
       "308"
      ]
     },
     "execution_count": 39,
     "metadata": {},
     "output_type": "execute_result"
    }
   ],
   "source": [
    "len(clck_yandex)"
   ]
  }
 ],
 "metadata": {
  "kernelspec": {
   "display_name": "Python 2",
   "language": "python",
   "name": "python2"
  },
  "language_info": {
   "codemirror_mode": {
    "name": "ipython",
    "version": 2
   },
   "file_extension": ".py",
   "mimetype": "text/x-python",
   "name": "python",
   "nbconvert_exporter": "python",
   "pygments_lexer": "ipython2",
   "version": "2.7.6"
  }
 },
 "nbformat": 4,
 "nbformat_minor": 0
}
