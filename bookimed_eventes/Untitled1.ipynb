{
 "cells": [
  {
   "cell_type": "code",
   "execution_count": 1,
   "metadata": {
    "collapsed": true
   },
   "outputs": [],
   "source": [
    "import os\n",
    "import glob\n",
    "import json\n",
    "from dateutil import parser\n",
    "import pandas as pd\n",
    "import numpy as np"
   ]
  },
  {
   "cell_type": "code",
   "execution_count": 2,
   "metadata": {
    "collapsed": true
   },
   "outputs": [],
   "source": [
    "files = [os.path.basename(x) for x in glob.glob('./users_event_2/*.json')]"
   ]
  },
  {
   "cell_type": "code",
   "execution_count": null,
   "metadata": {
    "collapsed": true
   },
   "outputs": [],
   "source": [
    "data = []\n",
    "for file_name in files:\n",
    "    f = open('./users/%s'%file_name)\n",
    "    context = f.readlines()\n",
    "    ids = []\n",
    "    for i in context[:]:\n",
    "        ids += [json.loads(i.replace(',\\n','').replace('\\n',''))['userId']]\n",
    "    data += [ids]"
   ]
  },
  {
   "cell_type": "code",
   "execution_count": null,
   "metadata": {
    "collapsed": false
   },
   "outputs": [],
   "source": [
    "n_data = [set(i) for i in data]"
   ]
  },
  {
   "cell_type": "code",
   "execution_count": null,
   "metadata": {
    "collapsed": false
   },
   "outputs": [],
   "source": [
    "set([len(i) for i in n_data])"
   ]
  },
  {
   "cell_type": "code",
   "execution_count": null,
   "metadata": {
    "collapsed": false
   },
   "outputs": [],
   "source": [
    "dd = [i for i in n_data if not (None in i) ]"
   ]
  },
  {
   "cell_type": "code",
   "execution_count": null,
   "metadata": {
    "collapsed": false
   },
   "outputs": [],
   "source": [
    "dd_2 = [i for i in dd if len(i)>1]"
   ]
  },
  {
   "cell_type": "code",
   "execution_count": null,
   "metadata": {
    "collapsed": false
   },
   "outputs": [],
   "source": [
    "u_3 = [i for i in n_dataata if len(i)>2]"
   ]
  },
  {
   "cell_type": "code",
   "execution_count": null,
   "metadata": {
    "collapsed": false
   },
   "outputs": [],
   "source": [
    "u_3"
   ]
  },
  {
   "cell_type": "code",
   "execution_count": null,
   "metadata": {
    "collapsed": false
   },
   "outputs": [],
   "source": [
    "ids = [i for i,x in enumerate(n_data) if x in u_3]\n",
    "print ids"
   ]
  },
  {
   "cell_type": "code",
   "execution_count": null,
   "metadata": {
    "collapsed": false
   },
   "outputs": [],
   "source": [
    "for i in ids:\n",
    "    print files[i]"
   ]
  },
  {
   "cell_type": "code",
   "execution_count": null,
   "metadata": {
    "collapsed": false,
    "scrolled": true
   },
   "outputs": [],
   "source": [
    "#dt = pd.DataFrame()\n",
    "for file_name in files[7626:]:\n",
    "    f = open('./users_event_2/%s'%file_name)\n",
    "    context = f.readlines()\n",
    "    data = []\n",
    "    for i in context[:]:\n",
    "        data += [json.loads(i.replace(',\\n','').replace('\\n',''))]\n",
    "        \n",
    "    uIds = []\n",
    "    uIds_ind = []\n",
    "    fPs = []\n",
    "    fPs_ind = []\n",
    "    ips = []\n",
    "    ips_ind = []\n",
    "    #print files.index(file_name)\n",
    "    for field_name, list_mass, ind_mass in [('userId', uIds, uIds_ind), ('fingerPrint', fPs, fPs_ind), ('ip', ips, ips_ind)]:\n",
    "        try:\n",
    "            list_mass += [i[field_name] for i in data]\n",
    "            temp_set = list(set(list_mass))\n",
    "            if len(temp_set)>1:\n",
    "                ind_mass += sorted([list_mass.index(i) for i in temp_set])\n",
    "            else:\n",
    "                ind_mass += [None]\n",
    "        except KeyError:\n",
    "            list_mass += [None]\n",
    "            ind_mass += ['empty']\n",
    "            pass\n",
    "    deltas = [0]\n",
    "    times = [parser.parse(i['timestamp']) for i in data]\n",
    "    deltas += [(times[i] - times[i-1]).total_seconds() for i in range(1, len(times))]\n",
    "    dt=dt.append({\n",
    "            'UserIds': len(set(uIds)),\n",
    "            'UserIds_ind': uIds_ind,\n",
    "            'fingerPrint': len(set(fPs)),\n",
    "            'fingerPrint_ind': fPs_ind,\n",
    "            'ips': len(set(ips)),\n",
    "            'ips_ind': ips_ind,\n",
    "            'deltas': deltas\n",
    "        }, ignore_index=True)\n",
    "    print len(dt)"
   ]
  },
  {
   "cell_type": "code",
   "execution_count": 13,
   "metadata": {
    "collapsed": false
   },
   "outputs": [
    {
     "name": "stdout",
     "output_type": "stream",
     "text": [
      "7626\n",
      "2d0c62f4-4b46-4aa1-929f-7b53ded377bd.json\n"
     ]
    },
    {
     "data": {
      "text/plain": [
       "'2d0c62f4-4b46-4aa1-929f-7b53ded377bd.json'"
      ]
     },
     "execution_count": 13,
     "metadata": {},
     "output_type": "execute_result"
    }
   ],
   "source": [
    "print len(dt)\n",
    "print file_name\n",
    "files[7625]"
   ]
  },
  {
   "cell_type": "code",
   "execution_count": 185,
   "metadata": {
    "collapsed": false
   },
   "outputs": [
    {
     "name": "stdout",
     "output_type": "stream",
     "text": [
      "10370\n"
     ]
    }
   ],
   "source": [
    "print len(dt[dt['ips']==1][dt['fingerPrint'] ==1][dt['UserIds']==2].index)"
   ]
  },
  {
   "cell_type": "code",
   "execution_count": 19,
   "metadata": {
    "collapsed": false
   },
   "outputs": [],
   "source": [
    "max_times = []\n",
    "for i in range(0,len(dt)):\n",
    "    max_times += [max(dt.iloc[i]['deltas'])]"
   ]
  },
  {
   "cell_type": "code",
   "execution_count": 52,
   "metadata": {
    "collapsed": false
   },
   "outputs": [],
   "source": [
    "inds = [max_times.index(i) for i in max_times if i < 3600]"
   ]
  },
  {
   "cell_type": "code",
   "execution_count": 49,
   "metadata": {
    "collapsed": false
   },
   "outputs": [
    {
     "data": {
      "text/plain": [
       "3355281.267"
      ]
     },
     "execution_count": 49,
     "metadata": {},
     "output_type": "execute_result"
    }
   ],
   "source": []
  },
  {
   "cell_type": "code",
   "execution_count": 53,
   "metadata": {
    "collapsed": true
   },
   "outputs": [],
   "source": [
    "f = open('files_reg_users_one_session.txt', 'w')\n",
    "for i in inds:\n",
    "    f.write(files[i]+'\\n')\n",
    "f.close()"
   ]
  },
  {
   "cell_type": "code",
   "execution_count": 235,
   "metadata": {
    "collapsed": false
   },
   "outputs": [],
   "source": [
    "total = sorted(list(set(list(ar1)+ar2+ar3)))"
   ]
  },
  {
   "cell_type": "code",
   "execution_count": 54,
   "metadata": {
    "collapsed": false
   },
   "outputs": [],
   "source": [
    "f=open('files_reg_users_2+_session.txt','w')\n",
    "for i in range(0,len(files)):\n",
    "    if i not in inds:\n",
    "        f.write(files[i]+'\\n')\n",
    "f.close()"
   ]
  },
  {
   "cell_type": "code",
   "execution_count": 241,
   "metadata": {
    "collapsed": false
   },
   "outputs": [
    {
     "data": {
      "text/plain": [
       "46450"
      ]
     },
     "execution_count": 241,
     "metadata": {},
     "output_type": "execute_result"
    }
   ],
   "source": [
    "21978+24472"
   ]
  },
  {
   "cell_type": "code",
   "execution_count": 238,
   "metadata": {
    "collapsed": false
   },
   "outputs": [
    {
     "data": {
      "text/plain": [
       "24472"
      ]
     },
     "execution_count": 238,
     "metadata": {},
     "output_type": "execute_result"
    }
   ],
   "source": [
    "len(ar3)+len(ar1)+len(ar2)"
   ]
  },
  {
   "cell_type": "code",
   "execution_count": 181,
   "metadata": {
    "collapsed": false
   },
   "outputs": [
    {
     "name": "stdout",
     "output_type": "stream",
     "text": [
      "f607b20e-02bd-4a77-8b6f-691a55ce6c32.json\n",
      "f607b20e-02bd-4a77-8b6f-691a55ce6c32.json\n",
      "f607b20e-02bd-4a77-8b6f-691a55ce6c32.json\n"
     ]
    }
   ],
   "source": [
    "print file_name\n",
    "print files[:44722][-1]\n",
    "print files[44721]"
   ]
  },
  {
   "cell_type": "code",
   "execution_count": 115,
   "metadata": {
    "collapsed": false
   },
   "outputs": [
    {
     "data": {
      "text/plain": [
       "85603.008"
      ]
     },
     "execution_count": 115,
     "metadata": {},
     "output_type": "execute_result"
    }
   ],
   "source": [
    "d1=parser.parse(u'2016-03-22T17:14:55.235+0000')\n",
    "d2=parser.parse(u'2016-03-21T17:28:12.227+0000')\n",
    "(d1-d2).total_seconds()"
   ]
  },
  {
   "cell_type": "code",
   "execution_count": 158,
   "metadata": {
    "collapsed": false
   },
   "outputs": [
    {
     "data": {
      "text/plain": [
       "79"
      ]
     },
     "execution_count": 158,
     "metadata": {},
     "output_type": "execute_result"
    }
   ],
   "source": [
    "len(dt[dt['ips']>1][dt['fingerPrint']==1].index.values)"
   ]
  },
  {
   "cell_type": "code",
   "execution_count": 4,
   "metadata": {
    "collapsed": false
   },
   "outputs": [
    {
     "data": {
      "text/plain": [
       "UserIds                                      2\n",
       "UserIds_ind                             [0, 2]\n",
       "deltas             [0, 162.293, 193.01, 310.5]\n",
       "fingerPrint                                  1\n",
       "fingerPrint_ind                         [None]\n",
       "ips                                          1\n",
       "ips_ind                                 [None]\n",
       "Name: 1, dtype: object"
      ]
     },
     "execution_count": 4,
     "metadata": {},
     "output_type": "execute_result"
    }
   ],
   "source": [
    "dt.iloc[1]"
   ]
  },
  {
   "cell_type": "code",
   "execution_count": 200,
   "metadata": {
    "collapsed": false
   },
   "outputs": [
    {
     "name": "stdout",
     "output_type": "stream",
     "text": [
      "1 683.08 False\n",
      "2 3065649.028 True\n"
     ]
    }
   ],
   "source": [
    "k=39\n",
    "inds = sorted([i for i in dt.iloc[k]['ips_ind'] if i !=0])\n",
    "for i in inds:\n",
    "    print i, dt.iloc[k]['deltas'][i], abs(dt.iloc[k]['deltas'][i]) > 3600*12"
   ]
  },
  {
   "cell_type": "code",
   "execution_count": 245,
   "metadata": {
    "collapsed": true
   },
   "outputs": [],
   "source": [
    "dt.to_csv('46000.csv')"
   ]
  },
  {
   "cell_type": "code",
   "execution_count": 208,
   "metadata": {
    "collapsed": false
   },
   "outputs": [
    {
     "data": {
      "text/plain": [
       "array([    1,     2,     7, ..., 46445, 46447, 46448])"
      ]
     },
     "execution_count": 208,
     "metadata": {},
     "output_type": "execute_result"
    }
   ],
   "source": [
    "dt[dt['ips']==1][dt['fingerPrint']>1].index.values"
   ]
  },
  {
   "cell_type": "code",
   "execution_count": 242,
   "metadata": {
    "collapsed": false,
    "scrolled": true
   },
   "outputs": [
    {
     "name": "stdout",
     "output_type": "stream",
     "text": [
      "13395\n"
     ]
    }
   ],
   "source": [
    "hours = 12\n",
    "#f = open('files_slicable_users_by_ip.txt', 'w')\n",
    "ks = []\n",
    "for k in dt[dt['ips']>1][dt['fingerPrint']==1].index.values:\n",
    "    inds = sorted([i for i in dt.iloc[k]['ips_ind'] if i !=0])\n",
    "    flag = True\n",
    "    for i in inds:\n",
    "        if not abs(dt.iloc[k]['deltas'][i]) > 3600*hours:\n",
    "            flag = False\n",
    "            break\n",
    "    if flag:\n",
    "        #print k\n",
    "        ks += [k]\n",
    "        #f.write(files[k]+'\\n')\n",
    "print len(ks)\n",
    "#f.close()"
   ]
  },
  {
   "cell_type": "code",
   "execution_count": 244,
   "metadata": {
    "collapsed": false
   },
   "outputs": [
    {
     "name": "stdout",
     "output_type": "stream",
     "text": [
      "2403\n"
     ]
    }
   ],
   "source": [
    "hours = 12\n",
    "#f = open('files_slicable_users_by_fP.txt', 'w')\n",
    "ks = []\n",
    "for k in dt[dt['ips']==1][dt['fingerPrint']>1].index.values:\n",
    "    inds = sorted([i for i in dt.iloc[k]['fingerPrint_ind'] if i !=0])\n",
    "    if inds == [None]:\n",
    "        continue\n",
    "    flag = True\n",
    "    for i in inds:\n",
    "        if not abs(dt.iloc[k]['deltas'][i]) > 3600*hours:\n",
    "            flag = False\n",
    "            break\n",
    "    if flag:\n",
    "        #print k\n",
    "        ks += [k]\n",
    "        #f.write(files[k]+'\\n')\n",
    "print len(ks)\n",
    "#f.close()"
   ]
  },
  {
   "cell_type": "code",
   "execution_count": null,
   "metadata": {
    "collapsed": true
   },
   "outputs": [],
   "source": []
  }
 ],
 "metadata": {
  "kernelspec": {
   "display_name": "Python 2",
   "language": "python",
   "name": "python2"
  },
  "language_info": {
   "codemirror_mode": {
    "name": "ipython",
    "version": 2
   },
   "file_extension": ".py",
   "mimetype": "text/x-python",
   "name": "python",
   "nbconvert_exporter": "python",
   "pygments_lexer": "ipython2",
   "version": "2.7.6"
  }
 },
 "nbformat": 4,
 "nbformat_minor": 0
}
