{
 "cells": [
  {
   "cell_type": "code",
   "execution_count": null,
   "metadata": {
    "collapsed": true
   },
   "outputs": [],
   "source": [
    "import os\n",
    "import glob\n",
    "import json\n",
    "from dateutil import parser\n",
    "import pandas as pd\n",
    "import numpy as np"
   ]
  },
  {
   "cell_type": "code",
   "execution_count": null,
   "metadata": {
    "collapsed": true
   },
   "outputs": [],
   "source": [
    "files = [os.path.basename(x) for x in glob.glob('./un_users/*.json')]"
   ]
  },
  {
   "cell_type": "code",
   "execution_count": null,
   "metadata": {
    "collapsed": true
   },
   "outputs": [],
   "source": [
    "#dt = pd.DataFrame()\n",
    "for file_name in files:\n",
    "    f = open('./users/%s'%file_name)\n",
    "    context = f.readlines()\n",
    "    data = []\n",
    "    for i in context[:]:\n",
    "        data += [json.loads(i.replace(',\\n','').replace('\\n',''))]\n",
    "        \n",
    "    uIds = []\n",
    "    uIds_ind = []\n",
    "    fPs = []\n",
    "    fPs_ind = []\n",
    "    ips = []\n",
    "    ips_ind = []\n",
    "    #print files.index(file_name)\n",
    "    for field_name, list_mass, ind_mass in [('userId', uIds, uIds_ind), ('fingerPrint', fPs, fPs_ind), ('ip', ips, ips_ind)]:\n",
    "        try:\n",
    "            list_mass += [i[field_name] for i in data]\n",
    "            temp_set = list(set(list_mass))\n",
    "            if len(temp_set)>1:\n",
    "                ind_mass += sorted([list_mass.index(i) for i in temp_set])\n",
    "            else:\n",
    "                ind_mass += [None]\n",
    "        except KeyError:\n",
    "            list_mass += [None]\n",
    "            ind_mass += ['empty']\n",
    "            pass\n",
    "    deltas = [0]\n",
    "    times = [parser.parse(i['timestamp']) for i in data]\n",
    "    deltas += [(times[i] - times[i-1]).total_seconds() for i in range(1, len(times))]\n",
    "    dt=dt.append({\n",
    "            'UserIds': len(set(uIds)),\n",
    "            'UserIds_ind': uIds_ind,\n",
    "            'fingerPrint': len(set(fPs)),\n",
    "            'fingerPrint_ind': fPs_ind,\n",
    "            'ips': len(set(ips)),\n",
    "            'ips_ind': ips_ind,\n",
    "            'deltas': deltas\n",
    "        }, ignore_index=True)\n",
    "    print len(dt)"
   ]
  },
  {
   "cell_type": "code",
   "execution_count": null,
   "metadata": {
    "collapsed": true
   },
   "outputs": [],
   "source": [
    "#reg_users\n",
    "f = open('files_reg_users.txt', 'w')\n",
    "ar1 = dt[dt['ips']==1][dt['fingerPrint'] ==1][dt['UserIds']==2].index\n",
    "for i in ar1:\n",
    "    f.write(files[i]+'\\n')\n",
    "f.close()"
   ]
  },
  {
   "cell_type": "code",
   "execution_count": null,
   "metadata": {
    "collapsed": true
   },
   "outputs": [],
   "source": [
    "hours = 12\n",
    "f = open('files_slicable_users_by_ip.txt', 'w')\n",
    "ar2 = []\n",
    "for k in dt[dt['ips']>1][dt['fingerPrint']==1].index.values:\n",
    "    inds = sorted([i for i in dt.iloc[k]['ips_ind'] if i !=0])\n",
    "    flag = True\n",
    "    for i in inds:\n",
    "        if not abs(dt.iloc[k]['deltas'][i]) > 3600*hours:\n",
    "            flag = False\n",
    "            break\n",
    "    if flag:\n",
    "        #print k\n",
    "        ar2 += [k]\n",
    "        f.write(files[k]+'\\n')\n",
    "print len(ar2)\n",
    "f.close()"
   ]
  },
  {
   "cell_type": "code",
   "execution_count": null,
   "metadata": {
    "collapsed": true
   },
   "outputs": [],
   "source": [
    "hours = 12\n",
    "f = open('files_slicable_users_by_fP.txt', 'w')\n",
    "ar3 = []\n",
    "for k in dt[dt['ips']==1][dt['fingerPrint']>1].index.values:\n",
    "    inds = sorted([i for i in dt.iloc[k]['fingerPrint_ind'] if i !=0])\n",
    "    if inds == [None]:\n",
    "        continue\n",
    "    flag = True\n",
    "    for i in inds:\n",
    "        if not abs(dt.iloc[k]['deltas'][i]) > 3600*hours:\n",
    "            flag = False\n",
    "            break\n",
    "    if flag:\n",
    "        #print k\n",
    "        ar3 += [k]\n",
    "        f.write(files[k]+'\\n')\n",
    "print len(ar3)\n",
    "f.close()"
   ]
  },
  {
   "cell_type": "code",
   "execution_count": null,
   "metadata": {
    "collapsed": true
   },
   "outputs": [],
   "source": [
    "total = sorted(list(set(list(ar1)+ar2+ar3)))"
   ]
  },
  {
   "cell_type": "code",
   "execution_count": null,
   "metadata": {
    "collapsed": true
   },
   "outputs": [],
   "source": [
    "f=open('files_unun_users.txt','w')\n",
    "for i in range(0,len(files)):\n",
    "    if i not in total:\n",
    "        f.write(files[i]+'\\n')\n",
    "f.close()"
   ]
  },
  {
   "cell_type": "code",
   "execution_count": null,
   "metadata": {
    "collapsed": true
   },
   "outputs": [],
   "source": [
    "dt.to_csv('46000.csv')"
   ]
  }
 ],
 "metadata": {
  "kernelspec": {
   "display_name": "Python 2",
   "language": "python",
   "name": "python2"
  },
  "language_info": {
   "codemirror_mode": {
    "name": "ipython",
    "version": 2
   },
   "file_extension": ".py",
   "mimetype": "text/x-python",
   "name": "python",
   "nbconvert_exporter": "python",
   "pygments_lexer": "ipython2",
   "version": "2.7.6"
  }
 },
 "nbformat": 4,
 "nbformat_minor": 0
}
