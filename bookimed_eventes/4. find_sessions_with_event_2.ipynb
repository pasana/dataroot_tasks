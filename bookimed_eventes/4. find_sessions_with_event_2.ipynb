{
 "cells": [
  {
   "cell_type": "code",
   "execution_count": 1,
   "metadata": {
    "collapsed": true
   },
   "outputs": [],
   "source": [
    "import os\n",
    "import glob\n",
    "import json\n",
    "from dateutil import parser\n",
    "import pandas as pd\n",
    "import numpy as np\n",
    "from shutil import copyfile\n",
    "import threading"
   ]
  },
  {
   "cell_type": "code",
   "execution_count": 2,
   "metadata": {
    "collapsed": true
   },
   "outputs": [],
   "source": [
    "path_from = './sessions'\n",
    "path_to = './sessions_event_2'"
   ]
  },
  {
   "cell_type": "code",
   "execution_count": 3,
   "metadata": {
    "collapsed": true
   },
   "outputs": [],
   "source": [
    "files = [os.path.basename(x) for x in glob.glob('%s/*.json'%path_from)]"
   ]
  },
  {
   "cell_type": "code",
   "execution_count": 4,
   "metadata": {
    "collapsed": true
   },
   "outputs": [],
   "source": [
    "def pr(l,r):\n",
    "    print \"start %d - %d \" %(l,r)\n",
    "    for file_name in files[l:r]:\n",
    "        f = open('%s/%s'%(path_from,file_name))\n",
    "        context = f.readlines()\n",
    "        data = []\n",
    "        for i in context:\n",
    "            try:\n",
    "                data += [json.loads(i.replace(',\\n','').replace('\\n',''))['event']]\n",
    "            except:\n",
    "                pass\n",
    "        f.close()\n",
    "        #print data\n",
    "        if 1 in data:\n",
    "            copyfile('%s/%s'%(path_from,file_name), '%s/%s'%(path_to, file_name))\n",
    "    print \"Done %d = %d\"%(l,r)"
   ]
  },
  {
   "cell_type": "code",
   "execution_count": 5,
   "metadata": {
    "collapsed": false
   },
   "outputs": [
    {
     "name": "stdout",
     "output_type": "stream",
     "text": [
      "start 0 - 108890 \n",
      "start 108890 - 217780 \n",
      "start 217780 - 326670 \n",
      "start 326670 - 435560 \n",
      "Done 0 = 108890\n",
      "Done 217780 = 326670\n",
      "Done 108890 = 217780\n",
      "Done 326670 = 435560\n"
     ]
    }
   ],
   "source": [
    "l_files = len(files)\n",
    "ts = []\n",
    "N = 4\n",
    "for i in range(0,N):\n",
    "    ts += [threading.Thread(target=pr, args=(l_files*i/N,l_files*(i+1)/N))]\n",
    "\n",
    "for t in ts:\n",
    "    t.start()"
   ]
  },
  {
   "cell_type": "code",
   "execution_count": null,
   "metadata": {
    "collapsed": true
   },
   "outputs": [],
   "source": []
  },
  {
   "cell_type": "code",
   "execution_count": null,
   "metadata": {
    "collapsed": false
   },
   "outputs": [],
   "source": [
    "#one thread\n",
    "for file_name in files:\n",
    "    f = open('%s/%s'%(path_from,file_name))\n",
    "    context = f.readlines()\n",
    "    data = []\n",
    "    for i in context:\n",
    "        try:\n",
    "            data += [json.loads(i.replace(',\\n','').replace('\\n',''))['event']]\n",
    "        except:\n",
    "            pass\n",
    "    f.close()\n",
    "    #print data\n",
    "    if 1 in data:\n",
    "        copyfile('%s/%s'%(path_from,file_name), '%s/%s'%(path_to, file_name))     "
   ]
  }
 ],
 "metadata": {
  "kernelspec": {
   "display_name": "Python 2",
   "language": "python",
   "name": "python2"
  },
  "language_info": {
   "codemirror_mode": {
    "name": "ipython",
    "version": 2
   },
   "file_extension": ".py",
   "mimetype": "text/x-python",
   "name": "python",
   "nbconvert_exporter": "python",
   "pygments_lexer": "ipython2",
   "version": "2.7.6"
  }
 },
 "nbformat": 4,
 "nbformat_minor": 0
}
