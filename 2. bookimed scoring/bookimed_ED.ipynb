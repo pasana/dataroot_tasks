{
 "cells": [
  {
   "cell_type": "code",
   "execution_count": 1,
   "metadata": {
    "collapsed": true
   },
   "outputs": [],
   "source": [
    "from bookimed_lib import *"
   ]
  },
  {
   "cell_type": "code",
   "execution_count": 147,
   "metadata": {
    "collapsed": true
   },
   "outputs": [],
   "source": [
    "FEATURES = [\n",
    " \"doc_top_diag\", \n",
    " \"doc_gen_diag\", \n",
    " \"doc_top_oper\", \n",
    " \"doc_gen_oper\", \n",
    "]"
   ]
  },
  {
   "cell_type": "code",
   "execution_count": 149,
   "metadata": {
    "collapsed": false
   },
   "outputs": [],
   "source": [
    "def extract_data(clinic, clinic_estim):\n",
    "    X = []\n",
    "    y = []\n",
    "    try:\n",
    "        ids_diad = [i['id'] for i in clinic['procedures']['diagnostics'] if i['top']=='1']\n",
    "        ids_oper = [i['id'] for i in clinic['procedures']['operations'] if i['top']=='1']\n",
    "        X += [[\n",
    "            #len(list(set(ids_diad))),\n",
    "            len(list(set(ids_diad))) / float(len(clinic['procedures']['diagnostics'])),\n",
    "            len(clinic['procedures']['diagnostics']),\n",
    "            #len(list(set(ids_oper))),\n",
    "            len(list(set(ids_oper))) / float(len(clinic['procedures']['operations'])),\n",
    "            len(clinic['procedures']['operations']),\n",
    "        ]]\n",
    "    except:\n",
    "        pass\n",
    "    y=[int(clinic_estim['experience'])]\n",
    "    return [X, y]"
   ]
  },
  {
   "cell_type": "code",
   "execution_count": 4,
   "metadata": {
    "collapsed": true
   },
   "outputs": [],
   "source": [
    "def normale(mat):\n",
    "    for i in [0,1,2,3]:\n",
    "        mass = [k[i] for k in mat]\n",
    "        m = max(mass)\n",
    "        if m>0:\n",
    "            for j in mat:\n",
    "                j[i] = round(j[i] / float(m), 4)"
   ]
  },
  {
   "cell_type": "code",
   "execution_count": 4,
   "metadata": {
    "collapsed": true
   },
   "outputs": [],
   "source": [
    "#2\n",
    "def normale(mat):\n",
    "    for i in range(0,len(mat[0])):\n",
    "        mass = [k[i] for k in mat]\n",
    "        mean = np.mean(mass)\n",
    "        mx = max(mass)\n",
    "        mn = min(mass)\n",
    "        if mx!=mn:\n",
    "            for j in mat:\n",
    "                #print j[i], j[i] - mn, mx-mn\n",
    "                j[i] = round((j[i] - mn) / float(mx-mn), 4)\n",
    "                #print j[i]"
   ]
  },
  {
   "cell_type": "code",
   "execution_count": 150,
   "metadata": {
    "collapsed": false,
    "scrolled": true
   },
   "outputs": [],
   "source": [
    "X_all, X_1, X_2, X_3, X_4, X_5, y_all, y_1, y_2, y_3, y_4, y_5 = get_X_sets(extract_data)\n",
    "\n",
    "#normale(X_all)\n",
    "#normale(X_1)\n",
    "#normale(X_2)\n",
    "#normale(X_3)\n",
    "#normale(X_4)\n",
    "#normale(X_5)"
   ]
  },
  {
   "cell_type": "code",
   "execution_count": 143,
   "metadata": {
    "collapsed": false
   },
   "outputs": [
    {
     "data": {
      "text/plain": [
       "49"
      ]
     },
     "execution_count": 143,
     "metadata": {},
     "output_type": "execute_result"
    }
   ],
   "source": [
    "len(y_all)"
   ]
  },
  {
   "cell_type": "code",
   "execution_count": 151,
   "metadata": {
    "collapsed": false,
    "scrolled": true
   },
   "outputs": [
    {
     "name": "stdout",
     "output_type": "stream",
     "text": [
      "1\n",
      "Total: 49, train: 44, test: 5\n",
      "Residual sum of squares: 0.48\n",
      "Train absolute: 0.66\n",
      "Test absolute: 0.54\n",
      "Absolute to mean: 6.62%\n",
      "Train variance score: 0.16\n",
      "Test variance score: 0.14\n",
      "\n",
      "2\n",
      "Total: 49, train: 39, test: 10\n",
      "Residual sum of squares: 1.31\n",
      "Train absolute: 0.66\n",
      "Test absolute: 0.82\n",
      "Absolute to mean: 9.88%\n",
      "Train variance score: 0.28\n",
      "Test variance score: -2.21\n",
      "\n",
      "3\n",
      "Total: 49, train: 34, test: 15\n",
      "Residual sum of squares: 1.54\n",
      "Train absolute: 0.63\n",
      "Test absolute: 0.90\n",
      "Absolute to mean: 10.58%\n",
      "Train variance score: 0.27\n",
      "Test variance score: -1.37\n",
      "\n",
      "4\n",
      "Total: 49, train: 29, test: 20\n",
      "Residual sum of squares: 1.90\n",
      "Train absolute: 0.63\n",
      "Test absolute: 1.00\n",
      "Absolute to mean: 12.00%\n",
      "Train variance score: 0.34\n",
      "Test variance score: -1.05\n",
      "\n",
      "5\n",
      "Total: 49, train: 24, test: 25\n",
      "Residual sum of squares: 1.47\n",
      "Train absolute: 0.65\n",
      "Test absolute: 0.87\n",
      "Absolute to mean: 10.52%\n",
      "Train variance score: 0.32\n",
      "Test variance score: -0.75\n",
      "\n"
     ]
    }
   ],
   "source": [
    "for i in range(1,6):\n",
    "    print i\n",
    "    regr = process_with(X_all, y_all, info=True, ts=i/10.0)\n",
    "    print"
   ]
  },
  {
   "cell_type": "code",
   "execution_count": 152,
   "metadata": {
    "collapsed": false
   },
   "outputs": [
    {
     "name": "stdout",
     "output_type": "stream",
     "text": [
      "Total: 49, train: 44, test: 5\n",
      "Residual sum of squares: 0.48\n",
      "Train absolute: 0.66\n",
      "Test absolute: 0.54\n",
      "Absolute to mean: 6.62%\n",
      "Train variance score: 0.16\n",
      "Test variance score: 0.14\n"
     ]
    }
   ],
   "source": [
    "regr = process_with(X_all, y_all, info=True, ts=0.1)"
   ]
  },
  {
   "cell_type": "code",
   "execution_count": 13,
   "metadata": {
    "collapsed": true
   },
   "outputs": [
    {
     "name": "stdout",
     "output_type": "stream",
     "text": [
      "Real: 10.000000 \t Predicted: 8.227151\n",
      "Real: 10.000000 \t Predicted: 8.490209\n",
      "Real: 8.000000 \t Predicted: 8.930243\n",
      "Real: 8.000000 \t Predicted: 8.577778\n",
      "Real: 8.000000 \t Predicted: 8.745705\n",
      "Real: 10.000000 \t Predicted: 8.678352\n",
      "Real: 10.000000 \t Predicted: 8.577778\n",
      "Real: 8.000000 \t Predicted: 8.826063\n",
      "Real: 8.000000 \t Predicted: 8.661742\n",
      "Real: 8.000000 \t Predicted: 8.400805\n",
      "Real: 7.000000 \t Predicted: 8.374230\n",
      "Real: 8.000000 \t Predicted: 8.846279\n",
      "Real: 10.000000 \t Predicted: 8.661742\n",
      "Real: 10.000000 \t Predicted: 8.484768\n",
      "Real: 10.000000 \t Predicted: 8.829669\n",
      "Real: 10.000000 \t Predicted: 8.678352\n",
      "Real: 10.000000 \t Predicted: 8.374230\n",
      "Real: 9.000000 \t Predicted: 8.206303\n",
      "Real: 9.000000 \t Predicted: 8.910027\n",
      "Real: 9.000000 \t Predicted: 8.577778\n",
      "Real: 9.000000 \t Predicted: 8.400805\n",
      "Real: 9.000000 \t Predicted: 8.290266\n",
      "Real: 9.000000 \t Predicted: 8.374230\n",
      "Real: 8.000000 \t Predicted: 8.006250\n",
      "Real: 8.000000 \t Predicted: 8.227151\n",
      "Real: 8.000000 \t Predicted: 8.490209\n",
      "Real: 8.000000 \t Predicted: 8.283165\n",
      "Real: 8.000000 \t Predicted: 8.458193\n",
      "Real: 8.000000 \t Predicted: 8.374230\n",
      "Real: 8.000000 \t Predicted: 8.148914\n",
      "Real: 8.000000 \t Predicted: 8.577778\n",
      "Real: 8.000000 \t Predicted: 8.577778\n",
      "Real: 8.000000 \t Predicted: 8.598627\n",
      "Real: 8.000000 \t Predicted: 8.574173\n",
      "Real: 8.000000 \t Predicted: 8.658136\n",
      "Real: 8.000000 \t Predicted: 8.316841\n",
      "Real: 9.000000 \t Predicted: 7.809008\n",
      "Real: 9.000000 \t Predicted: 8.668387\n",
      "Real: 9.000000 \t Predicted: 8.473265\n",
      "Real: 8.000000 \t Predicted: 7.957374\n",
      "Real: 8.000000 \t Predicted: 8.367128\n",
      "Real: 8.000000 \t Predicted: 7.789642\n",
      "Real: 8.000000 \t Predicted: 8.678352\n",
      "Real: 6.000000 \t Predicted: 7.585994\n",
      "Real: 8.000000 \t Predicted: 8.012362\n",
      "Real: 8.000000 \t Predicted: 7.705678\n",
      "Real: 10.000000 \t Predicted: 8.370966\n",
      "Real: 10.000000 \t Predicted: 8.762892\n",
      "Real: 8.000000 \t Predicted: 8.478941\n",
      "Real: 8.000000 \t Predicted: 8.247197\n",
      "Real: 8.000000 \t Predicted: 8.910027\n",
      "Real: 8.000000 \t Predicted: 8.095078\n",
      "Real: 8.000000 \t Predicted: 8.272921\n",
      "Real: 8.000000 \t Predicted: 8.268136\n",
      "Real: 8.000000 \t Predicted: 8.591658\n",
      "Real: 8.000000 \t Predicted: 8.174737\n",
      "Real: 8.000000 \t Predicted: 8.380930\n",
      "Real: 8.000000 \t Predicted: 8.174737\n",
      "Real: 8.000000 \t Predicted: 8.278101\n",
      "Real: 8.000000 \t Predicted: 8.375750\n",
      "Real: 7.000000 \t Predicted: 8.153798\n",
      "Real: 7.000000 \t Predicted: 8.380930\n",
      "Real: 8.000000 \t Predicted: 8.174737\n",
      "Real: 10.000000 \t Predicted: 8.678352\n",
      "Real: 10.000000 \t Predicted: 8.370966\n",
      "Real: 8.000000 \t Predicted: 8.007339\n",
      "Real: 9.000000 \t Predicted: 8.514663\n",
      "Real: 9.000000 \t Predicted: 8.430699\n",
      "Real: 9.000000 \t Predicted: 8.430699\n",
      "Real: 8.000000 \t Predicted: 8.400805\n",
      "Real: 8.000000 \t Predicted: 8.143188\n",
      "Real: 8.000000 \t Predicted: 8.430699\n",
      "Real: 9.000000 \t Predicted: 8.678352\n",
      "Real: 9.000000 \t Predicted: 8.430699\n",
      "Real: 9.000000 \t Predicted: 8.598627\n",
      "Real: 7.000000 \t Predicted: 8.199201\n",
      "Real: 7.000000 \t Predicted: 8.514663\n",
      "Real: 7.000000 \t Predicted: 8.514663\n",
      "Real: 8.000000 \t Predicted: 8.430699\n",
      "Real: 8.000000 \t Predicted: 8.430699\n",
      "Real: 8.000000 \t Predicted: 8.430699\n",
      "Real: 8.000000 \t Predicted: 8.148914\n",
      "Real: 8.000000 \t Predicted: 8.430699\n",
      "Real: 8.000000 \t Predicted: 8.577778\n",
      "Real: 8.000000 \t Predicted: 8.514663\n",
      "Real: 8.000000 \t Predicted: 8.577778\n"
     ]
    }
   ],
   "source": [
    "import warnings\n",
    "warnings.filterwarnings(\"ignore\")\n",
    "for i in range(0,len(y_all)):\n",
    "    print \"Real: %f \\t Predicted: %f\" %(y_all[i], regr.predict(X_all[i]))"
   ]
  },
  {
   "cell_type": "code",
   "execution_count": 153,
   "metadata": {
    "collapsed": false
   },
   "outputs": [
    {
     "name": "stdout",
     "output_type": "stream",
     "text": [
      "Features sorted by their score:\n",
      "4\n",
      "-0.827900 \t doc_top_diag\n",
      "-0.033600 \t doc_gen_diag\n",
      "-3.794600 \t doc_top_oper\n",
      "0.045800 \t doc_gen_oper\n",
      "8.39142418155\n"
     ]
    }
   ],
   "source": [
    "print \"Features sorted by their score:\"\n",
    "#f = sorted(zip(map(lambda x: round(x, 4), regr.coef_), FEATURES), reverse=True)\n",
    "f = zip(map(lambda x: round(x, 4), regr.coef_), FEATURES)\n",
    "print len(FEATURES)\n",
    "for i in f:\n",
    "    print \"%4f \\t %s\" %(i[0], i[1])\n",
    "    #print i[0]\n",
    "print regr.intercept_"
   ]
  },
  {
   "cell_type": "code",
   "execution_count": 168,
   "metadata": {
    "collapsed": false
   },
   "outputs": [
    {
     "data": {
      "text/plain": [
       "array([-0.82789321, -0.03362197, -3.7946417 ,  0.04575388])"
      ]
     },
     "execution_count": 168,
     "metadata": {},
     "output_type": "execute_result"
    }
   ],
   "source": [
    "regr.coef_"
   ]
  },
  {
   "cell_type": "code",
   "execution_count": null,
   "metadata": {
    "collapsed": false,
    "scrolled": true
   },
   "outputs": [],
   "source": [
    "f = sorted(zip(map(lambda x: round(x, 4), regr.coef_), FEATURES), reverse=True)\n",
    "ind = [map(lambda x: x[1], f).index(i) for i in FEATURES]\n",
    "for i in ind:\n",
    "    print i+1"
   ]
  },
  {
   "cell_type": "code",
   "execution_count": null,
   "metadata": {
    "collapsed": true
   },
   "outputs": [],
   "source": []
  },
  {
   "cell_type": "code",
   "execution_count": null,
   "metadata": {
    "collapsed": false
   },
   "outputs": [],
   "source": [
    "plt.plot([i[2] for i in X_all])\n",
    "plt.show()"
   ]
  },
  {
   "cell_type": "code",
   "execution_count": 167,
   "metadata": {
    "collapsed": false
   },
   "outputs": [],
   "source": [
    "plt.scatter([i[3] for i in X_all], y_all)\n",
    "#plt.plot([i for i in range(0,10)],[i+7 for i in range(0,10)])\n",
    "plt.show()"
   ]
  },
  {
   "cell_type": "code",
   "execution_count": 157,
   "metadata": {
    "collapsed": false
   },
   "outputs": [],
   "source": [
    "plt.scatter([i[1] for i in X_all], [i[3] for i in X_all])\n",
    "plt.plot([i for i in range(0,60)],[i for i in range(0,60)])\n",
    "plt.show()"
   ]
  },
  {
   "cell_type": "code",
   "execution_count": 154,
   "metadata": {
    "collapsed": false
   },
   "outputs": [
    {
     "name": "stdout",
     "output_type": "stream",
     "text": [
      "10 [0.09523809523809523, 42, 0.08163265306122448, 49]\n",
      "8 [0.10714285714285714, 28, 0.09090909090909091, 22]\n",
      "8 [0.125, 32, 0.05, 20]\n",
      "7 [0.21428571428571427, 14, 0.08333333333333333, 12]\n",
      "10 [0.14285714285714285, 28, 0.07142857142857142, 42]\n",
      "7 [0.17647058823529413, 17, 0.125, 24]\n",
      "8 [0.25, 12, 0.0, 4]\n",
      "8 [0.17391304347826086, 23, 0.06896551724137931, 29]\n",
      "7 [0.16, 25, 0.08695652173913043, 23]\n",
      "8 [0.21428571428571427, 14, 0.0, 14]\n",
      "10 [0.10714285714285714, 28, 0.09090909090909091, 22]\n",
      "10 [0.14285714285714285, 28, 0.07142857142857142, 42]\n",
      "9 [0.375, 8, 0.0, 5]\n",
      "9 [0.125, 32, 0.05, 20]\n",
      "8 [0.21428571428571427, 14, 0.08333333333333333, 12]\n",
      "8 [0.09523809523809523, 42, 0.08163265306122448, 49]\n",
      "8 [0.16, 25, 0.08695652173913043, 23]\n",
      "8 [0.21428571428571427, 14, 0.0, 8]\n",
      "8 [0.21428571428571427, 14, 0.0, 14]\n",
      "8 [0.16666666666666666, 12, 0.0, 6]\n",
      "10 [0.0, 8, 0.0, 5]\n",
      "9 [0.3333333333333333, 12, 0.0, 8]\n",
      "8 [0.10714285714285714, 28, 0.09090909090909091, 22]\n",
      "8 [0.09523809523809523, 42, 0.08163265306122448, 49]\n",
      "8 [0.14285714285714285, 28, 0.07142857142857142, 42]\n",
      "6 [0.125, 32, 0.05, 20]\n",
      "9 [0.25, 4, 0.0, 8]\n",
      "8 [0.21428571428571427, 14, 0.08333333333333333, 12]\n",
      "8 [0.17391304347826086, 23, 0.06896551724137931, 29]\n",
      "10 [0.09523809523809523, 42, 0.08163265306122448, 49]\n",
      "8 [0.17647058823529413, 17, 0.125, 24]\n",
      "8 [0.125, 32, 0.05, 20]\n",
      "8 [0.10714285714285714, 28, 0.09090909090909091, 22]\n",
      "8 [0.21428571428571427, 14, 0.08333333333333333, 12]\n",
      "8 [0.16, 25, 0.08695652173913043, 23]\n",
      "7 [0.21428571428571427, 14, 0.0, 14]\n",
      "8 [0.3076923076923077, 13, 0.1111111111111111, 9]\n",
      "10 [0.14285714285714285, 28, 0.07142857142857142, 42]\n",
      "8 [0.17391304347826086, 23, 0.06896551724137931, 29]\n",
      "9 [0.09523809523809523, 42, 0.08163265306122448, 49]\n",
      "9 [0.10714285714285714, 28, 0.09090909090909091, 22]\n",
      "8 [0.125, 32, 0.05, 20]\n",
      "8 [0.21428571428571427, 14, 0.08333333333333333, 12]\n",
      "9 [0.14285714285714285, 28, 0.07142857142857142, 42]\n",
      "9 [0.5, 4, 0.18181818181818182, 11]\n",
      "7 [0.17647058823529413, 17, 0.125, 24]\n",
      "7 [0.16, 25, 0.08695652173913043, 23]\n",
      "8 [0.17391304347826086, 23, 0.06896551724137931, 29]\n",
      "8 [0.21428571428571427, 14, 0.0, 14]\n"
     ]
    }
   ],
   "source": [
    "for i in range(len(X_all)):\n",
    "    print y_all[i], X_all[i]"
   ]
  },
  {
   "cell_type": "code",
   "execution_count": null,
   "metadata": {
    "collapsed": true
   },
   "outputs": [],
   "source": []
  },
  {
   "cell_type": "code",
   "execution_count": null,
   "metadata": {
    "collapsed": true
   },
   "outputs": [],
   "source": [
    "#print FEATURES[8]\n",
    "[i[2] for i in X_all]"
   ]
  },
  {
   "cell_type": "code",
   "execution_count": null,
   "metadata": {
    "collapsed": false
   },
   "outputs": [],
   "source": [
    "for k in range(0,26):\n",
    "    print FEATURES[k], 10 - [i[k] for i in X].count(0)"
   ]
  }
 ],
 "metadata": {
  "kernelspec": {
   "display_name": "Python 2",
   "language": "python",
   "name": "python2"
  },
  "language_info": {
   "codemirror_mode": {
    "name": "ipython",
    "version": 2
   },
   "file_extension": ".py",
   "mimetype": "text/x-python",
   "name": "python",
   "nbconvert_exporter": "python",
   "pygments_lexer": "ipython2",
   "version": "2.7.6"
  }
 },
 "nbformat": 4,
 "nbformat_minor": 0
}
