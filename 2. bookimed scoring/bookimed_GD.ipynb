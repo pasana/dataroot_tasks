{
 "cells": [
  {
   "cell_type": "code",
   "execution_count": 1,
   "metadata": {
    "collapsed": true
   },
   "outputs": [],
   "source": [
    "from bookimed_lib import *"
   ]
  },
  {
   "cell_type": "code",
   "execution_count": 19,
   "metadata": {
    "collapsed": false
   },
   "outputs": [],
   "source": [
    "FEATURES = [\n",
    "    \"deg\",\n",
    "    \"top\", \n",
    "    \"illn\", \n",
    "    #\"lang\",\n",
    "#    \"ad_spec\",\n",
    "    \"h_index\",\n",
    "    \"exp_doc\", \n",
    "    ]"
   ]
  },
  {
   "cell_type": "code",
   "execution_count": 68,
   "metadata": {
    "collapsed": false
   },
   "outputs": [],
   "source": [
    "def extract_data(clinic, clinic_estim):\n",
    "    all_proc = clinic['procedures']['diagnostics'] + clinic['procedures']['operations']\n",
    "    all_doc = clinic['doctors']\n",
    "    X = []\n",
    "    for doc in all_doc:\n",
    "        if len(doc['illnesses'])>0:\n",
    "            X+=[[]]\n",
    "            X[-1]+=[doc['degree'].count(u'Профессор')]    #doctor_prof_count\n",
    "            X[-1]+=[int(doc['top'])]\n",
    "            X[-1]+=[len(doc['illnesses'])]\n",
    "            #X[-1]+=[0 if len(doc['illnesses'])>4 else 0]#len(doc['illnesses']) ]\n",
    "            #X[-1]+=[len(doc['languages'])]\n",
    "            #X[-1]+=[0]\n",
    "            #if len(doc['languages']) > 0:\n",
    "            #    lang=[int(k['id']) for k in doc['languages']]\n",
    "            #    if 1 in lang:\n",
    "            #        X[-1][-1]+=0.8\n",
    "            #    if 2 in lang:\n",
    "            #        X[-1][-1]+=0.2\n",
    "            X[-1]+=[int(doc['h_index'])]\n",
    "            #X[-1] +=[1 if len(doc['h_index'])>20 else 0 ]            \n",
    "            X[-1]+=[int(doc['experience'])]\n",
    "    y=[int(clinic_estim['specialist'])] * len(X)\n",
    "    return [X, y]"
   ]
  },
  {
   "cell_type": "code",
   "execution_count": 4,
   "metadata": {
    "collapsed": true
   },
   "outputs": [],
   "source": [
    "def normale(mat):\n",
    "    #for i in [2,4,5]:#lang\n",
    "    for i in [2,3,4]:#no lang\n",
    "        mass = [k[i] for k in mat]\n",
    "        m = max(mass)\n",
    "        if m>0:\n",
    "            for j in mat:\n",
    "                j[i] = round(j[i] / float(m), 4)\n",
    "    #return mat"
   ]
  },
  {
   "cell_type": "code",
   "execution_count": 5,
   "metadata": {
    "collapsed": true
   },
   "outputs": [],
   "source": [
    "#2\n",
    "def normale(mat):\n",
    "    for i in range(0,len(mat[0])):\n",
    "        mass = [k[i] for k in mat]\n",
    "        mean = np.mean(mass)\n",
    "        mx = max(mass)\n",
    "        mn = min(mass)\n",
    "        if mx!=mn:\n",
    "            for j in mat:\n",
    "                #print j[i], j[i] - mn, mx-mn\n",
    "                j[i] = round((j[i] - mn) / float(mx-mn), 4)\n",
    "                #print j[i]"
   ]
  },
  {
   "cell_type": "code",
   "execution_count": 28,
   "metadata": {
    "collapsed": true
   },
   "outputs": [],
   "source": [
    "def process_with(X,y, info=False, short=False, return_short = False, return_long = False, new_coef = [], ts=0.2):\n",
    "    train_X, test_X, train_y, test_y = cross_validation.train_test_split(X, y, test_size = ts, random_state = 3)\n",
    "    regr = linear_model.LinearRegression(fit_intercept=True, normalize=False)\n",
    "    if new_coef != []:\n",
    "        print \"new coefs\"\n",
    "        regr.coef_ = new_coef\n",
    "    regr.fit(train_X, train_y)\n",
    "    if info:\n",
    "        print \"Total: %d, train: %d, test: %d\" %(len(X), len(train_X), len(test_X))\n",
    "        print(\"Residual sum of squares: %.2f\"% np.mean((regr.predict(test_X) - test_y) ** 2))\n",
    "        print(\"Train absolute: %.2f\"% np.mean(abs(regr.predict(train_X) - train_y)))\n",
    "        print(\"Test absolute: %.2f\"% np.mean(abs(regr.predict(test_X) - test_y)))\n",
    "        print(\"Absolute to mean: %.2f%%\"% (np.mean(abs(regr.predict(test_X) - test_y))/np.mean(test_y)*100))\n",
    "        print('Train variance score: %.2f' % regr.score(train_X, train_y))\n",
    "        print('Test variance score: %.2f' % regr.score(test_X, test_y))\n",
    "    if short:\n",
    "        print \"Total: %d, train: %d, test: %d\" %(len(X), len(train_X), len(test_X))\n",
    "        print \"%.3f\" % np.mean(abs(regr.predict(train_X) - train_y))\n",
    "        print \"%.3f\" % np.mean(abs(regr.predict(test_X) - test_y))\n",
    "        print \"%.3f\" % (np.mean(abs(regr.predict(test_X) - test_y))/np.mean(test_y)*100)\n",
    "        print \"%.3f\" % regr.score(train_X, train_y)\n",
    "        print \"%.3f\" % regr.score(test_X, test_y)\n",
    "    if return_short:\n",
    "        return np.mean(abs(regr.predict(test_X) - test_y)),regr.score(test_X, test_y)\n",
    "    if return_long:\n",
    "        return {\"absolute_train\": np.mean(abs(regr.predict(train_X) - train_y)),\n",
    "               \"absolute_test\": np.mean(abs(regr.predict(test_X) - test_y)),\n",
    "               \"variance_train\": regr.score(train_X, train_y),\n",
    "               \"variance_test\": regr.score(test_X, test_y),\n",
    "               \"\"\n",
    "               \"ts\": ts}\n",
    "    #for i in regr.coef_:\n",
    "        #print \"%.3f\" % i\n",
    "    #print \"%.3f\" % regr.intercept_\n",
    "    return regr\n"
   ]
  },
  {
   "cell_type": "code",
   "execution_count": 69,
   "metadata": {
    "collapsed": false
   },
   "outputs": [],
   "source": [
    "X_all, X_1, X_2, X_3, X_4, X_5, y_all, y_1, y_2, y_3, y_4, y_5 = get_X_sets(extract_data)\n",
    "normale(X_all)\n",
    "#normale(X_1)\n",
    "#normale(X_2)\n",
    "#normale(X_3)\n",
    "#normale(X_4)\n",
    "#normale(X_5)"
   ]
  },
  {
   "cell_type": "code",
   "execution_count": 70,
   "metadata": {
    "collapsed": false
   },
   "outputs": [],
   "source": [
    "for i in range(len(X_all)-1,-1,-1):\n",
    "    if X_all[i][-1]==0 or X_all[i][-2]==0 or X_all[i][2]==0:\n",
    "        X_all.pop(i)\n",
    "        y_all.pop(i)"
   ]
  },
  {
   "cell_type": "code",
   "execution_count": 71,
   "metadata": {
    "collapsed": false
   },
   "outputs": [
    {
     "data": {
      "text/plain": [
       "32"
      ]
     },
     "execution_count": 71,
     "metadata": {},
     "output_type": "execute_result"
    }
   ],
   "source": [
    "len(X_all)"
   ]
  },
  {
   "cell_type": "code",
   "execution_count": null,
   "metadata": {
    "collapsed": true
   },
   "outputs": [],
   "source": []
  },
  {
   "cell_type": "code",
   "execution_count": 67,
   "metadata": {
    "collapsed": false,
    "scrolled": true
   },
   "outputs": [
    {
     "name": "stdout",
     "output_type": "stream",
     "text": [
      "1\n",
      "Total: 63, train: 56, test: 7\n",
      "Residual sum of squares: 0.66\n",
      "Train absolute: 0.53\n",
      "Test absolute: 0.55\n",
      "Absolute to mean: 6.34%\n",
      "Train variance score: 0.27\n",
      "Test variance score: 0.15\n",
      "[ -5.69980158e-02   5.31052648e-01   1.12242081e-17   9.11521450e-01\n",
      "   8.34201357e-01]\n",
      "\n",
      "2\n",
      "Total: 63, train: 50, test: 13\n",
      "Residual sum of squares: 0.52\n",
      "Train absolute: 0.56\n",
      "Test absolute: 0.51\n",
      "Absolute to mean: 6.11%\n",
      "Train variance score: 0.26\n",
      "Test variance score: 0.24\n",
      "[ -6.70913857e-02   5.16324033e-01  -9.76080267e-16   1.12048240e+00\n",
      "   6.08245066e-01]\n",
      "\n",
      "3\n",
      "Total: 63, train: 44, test: 19\n",
      "Residual sum of squares: 0.53\n",
      "Train absolute: 0.55\n",
      "Test absolute: 0.50\n",
      "Absolute to mean: 6.04%\n",
      "Train variance score: 0.29\n",
      "Test variance score: 0.17\n",
      "[ -5.58301236e-02   7.64477930e-01   1.32182980e-16   9.06542376e-01\n",
      "   5.89725684e-01]\n",
      "\n",
      "4\n",
      "Total: 63, train: 37, test: 26\n",
      "Residual sum of squares: 0.59\n",
      "Train absolute: 0.55\n",
      "Test absolute: 0.53\n",
      "Absolute to mean: 6.34%\n",
      "Train variance score: 0.31\n",
      "Test variance score: 0.16\n",
      "[ -4.49707765e-02   6.73086691e-01   1.84153215e-16   1.18652948e+00\n",
      "   3.65317227e-01]\n",
      "\n",
      "5\n",
      "Total: 63, train: 31, test: 32\n",
      "Residual sum of squares: 0.51\n",
      "Train absolute: 0.61\n",
      "Test absolute: 0.53\n",
      "Absolute to mean: 6.44%\n",
      "Train variance score: 0.26\n",
      "Test variance score: 0.20\n",
      "[ -2.45201629e-02   6.04389417e-01   1.34732689e-16   9.62461909e-01\n",
      "   4.81863701e-01]\n",
      "\n",
      "6\n",
      "Total: 63, train: 25, test: 38\n",
      "Residual sum of squares: 0.60\n",
      "Train absolute: 0.50\n",
      "Test absolute: 0.52\n",
      "Absolute to mean: 6.17%\n",
      "Train variance score: 0.32\n",
      "Test variance score: 0.22\n",
      "[ -2.42135348e-01   6.78020821e-01  -4.53038334e-17   9.97393858e-01\n",
      "   7.15248190e-01]\n",
      "\n",
      "7\n",
      "Total: 63, train: 18, test: 45\n",
      "Residual sum of squares: 0.69\n",
      "Train absolute: 0.38\n",
      "Test absolute: 0.55\n",
      "Absolute to mean: 6.54%\n",
      "Train variance score: 0.47\n",
      "Test variance score: 0.16\n",
      "[ -1.64286521e-01   9.66149640e-01  -2.20498078e-16   6.95294436e-01\n",
      "   1.73923413e-01]\n",
      "\n",
      "8\n",
      "Total: 63, train: 12, test: 51\n",
      "Residual sum of squares: 0.70\n",
      "Train absolute: 0.33\n",
      "Test absolute: 0.54\n",
      "Absolute to mean: 6.39%\n",
      "Train variance score: 0.60\n",
      "Test variance score: 0.07\n",
      "[ -1.52881466e-01   1.16129652e+00   5.07261162e-17   8.36891411e-01\n",
      "   1.26082002e-01]\n",
      "\n",
      "9\n",
      "Total: 63, train: 6, test: 57\n",
      "Residual sum of squares: 1.02\n",
      "Train absolute: 0.00\n",
      "Test absolute: 0.60\n",
      "Absolute to mean: 7.02%\n",
      "Train variance score: 1.00\n",
      "Test variance score: -0.31\n",
      "[ 0.  0.  0.  0.  0.]\n",
      "\n"
     ]
    }
   ],
   "source": [
    "for i in range(1,10):\n",
    "    print i\n",
    "    regr = process_with(X_all, y_all, info=True, ts=i/10.0)\n",
    "    print regr.coef_\n",
    "    print"
   ]
  },
  {
   "cell_type": "code",
   "execution_count": 73,
   "metadata": {
    "collapsed": false
   },
   "outputs": [
    {
     "name": "stdout",
     "output_type": "stream",
     "text": [
      "Total: 32, train: 19, test: 13\n",
      "Residual sum of squares: 1.12\n",
      "Train absolute: 0.50\n",
      "Test absolute: 0.78\n",
      "Absolute to mean: 8.86%\n",
      "Train variance score: 0.57\n",
      "Test variance score: -0.24\n"
     ]
    }
   ],
   "source": [
    "regr = process_with(X_all, y_all, info=True, ts=0.4)"
   ]
  },
  {
   "cell_type": "code",
   "execution_count": 75,
   "metadata": {
    "collapsed": false
   },
   "outputs": [
    {
     "data": {
      "text/plain": [
       "array([ 0.34073574,  0.63752363,  0.28220311,  0.38026313,  1.07172097])"
      ]
     },
     "execution_count": 75,
     "metadata": {},
     "output_type": "execute_result"
    }
   ],
   "source": [
    "regr.coef_"
   ]
  },
  {
   "cell_type": "code",
   "execution_count": 76,
   "metadata": {
    "collapsed": false
   },
   "outputs": [
    {
     "name": "stdout",
     "output_type": "stream",
     "text": [
      "7.10154227025\n"
     ]
    }
   ],
   "source": [
    "print regr.intercept_"
   ]
  },
  {
   "cell_type": "code",
   "execution_count": 62,
   "metadata": {
    "collapsed": true
   },
   "outputs": [
    {
     "name": "stdout",
     "output_type": "stream",
     "text": [
      "Real: 10.000000 \t Predicted: 7.791874\n",
      "Real: 10.000000 \t Predicted: 8.217326\n",
      "Real: 10.000000 \t Predicted: 7.907875\n",
      "Real: 10.000000 \t Predicted: 8.741323\n",
      "Real: 10.000000 \t Predicted: 7.698840\n",
      "Real: 10.000000 \t Predicted: 7.767454\n",
      "Real: 10.000000 \t Predicted: 8.760110\n",
      "Real: 10.000000 \t Predicted: 8.926070\n",
      "Real: 10.000000 \t Predicted: 7.818978\n",
      "Real: 9.000000 \t Predicted: 7.620211\n",
      "Real: 9.000000 \t Predicted: 7.620211\n",
      "Real: 9.000000 \t Predicted: 7.620211\n",
      "Real: 9.000000 \t Predicted: 9.240602\n",
      "Real: 9.000000 \t Predicted: 8.065396\n",
      "Real: 9.000000 \t Predicted: 8.331904\n",
      "Real: 9.000000 \t Predicted: 7.729460\n",
      "Real: 9.000000 \t Predicted: 7.860400\n",
      "Real: 8.000000 \t Predicted: 8.727321\n",
      "Real: 8.000000 \t Predicted: 8.467163\n",
      "Real: 8.000000 \t Predicted: 8.069797\n",
      "Real: 8.000000 \t Predicted: 7.912538\n",
      "Real: 8.000000 \t Predicted: 7.833909\n",
      "Real: 8.000000 \t Predicted: 8.722285\n",
      "Real: 8.000000 \t Predicted: 7.856099\n",
      "Real: 8.000000 \t Predicted: 7.620211\n",
      "Real: 8.000000 \t Predicted: 7.975571\n",
      "Real: 8.000000 \t Predicted: 8.604567\n",
      "Real: 8.000000 \t Predicted: 8.783078\n",
      "Real: 8.000000 \t Predicted: 8.200087\n",
      "Real: 8.000000 \t Predicted: 8.575180\n",
      "Real: 7.000000 \t Predicted: 7.728630\n",
      "Real: 7.000000 \t Predicted: 8.146430\n",
      "Real: 7.000000 \t Predicted: 7.923260\n",
      "Real: 7.000000 \t Predicted: 7.807259\n",
      "Real: 8.000000 \t Predicted: 8.160215\n",
      "Real: 8.000000 \t Predicted: 8.391483\n",
      "Real: 8.000000 \t Predicted: 7.620211\n",
      "Real: 8.000000 \t Predicted: 7.620211\n"
     ]
    }
   ],
   "source": [
    "import warnings\n",
    "warnings.filterwarnings(\"ignore\")\n",
    "for i in range(0,len(y_2)):\n",
    "    print \"Real: %f \\t Predicted: %f\" %(y_2[i], regr.predict(X_2[i]))"
   ]
  },
  {
   "cell_type": "code",
   "execution_count": 74,
   "metadata": {
    "collapsed": false
   },
   "outputs": [
    {
     "name": "stdout",
     "output_type": "stream",
     "text": [
      "Features sorted by their score:\n",
      "5\n",
      "0.340700 \t deg\n",
      "0.637500 \t top\n",
      "0.282200 \t illn\n",
      "0.380300 \t h_index\n",
      "1.071700 \t exp_doc\n",
      "7.10154227025\n"
     ]
    }
   ],
   "source": [
    "print \"Features sorted by their score:\"\n",
    "#f = sorted(zip(map(lambda x: round(x, 4), regr.coef_), FEATURES), reverse=True)\n",
    "f = zip(map(lambda x: round(x, 4), regr.coef_), FEATURES)\n",
    "print len(FEATURES)\n",
    "for i in f:\n",
    "    print \"%4f \\t %s\" %(i[0], i[1])\n",
    "    #print i[0]\n",
    "print regr.intercept_"
   ]
  },
  {
   "cell_type": "code",
   "execution_count": null,
   "metadata": {
    "collapsed": false
   },
   "outputs": [],
   "source": [
    "f = sorted(zip(map(lambda x: round(x, 4), regr.coef_), FEATURES), reverse=True)\n",
    "ind = [map(lambda x: x[1], f).index(i) for i in FEATURES]\n",
    "for i in ind:\n",
    "    print i+1"
   ]
  },
  {
   "cell_type": "code",
   "execution_count": null,
   "metadata": {
    "collapsed": false
   },
   "outputs": [],
   "source": [
    "plt.plot(sorted([i[-2] for i in X_all]))\n",
    "plt.show()"
   ]
  },
  {
   "cell_type": "code",
   "execution_count": 16,
   "metadata": {
    "collapsed": false
   },
   "outputs": [],
   "source": [
    "plt.scatter([i[3] for i in X_all], y_all)\n",
    "plt.show()"
   ]
  },
  {
   "cell_type": "code",
   "execution_count": null,
   "metadata": {
    "collapsed": true
   },
   "outputs": [],
   "source": [
    "plt.scatter([i[2] for i in X_all], [i[3] for i in X_all])\n",
    "plt.show()"
   ]
  },
  {
   "cell_type": "code",
   "execution_count": 61,
   "metadata": {
    "collapsed": false
   },
   "outputs": [
    {
     "name": "stdout",
     "output_type": "stream",
     "text": [
      "10 0.3462\n",
      "10 0.6538\n",
      "8 0.0577\n",
      "8 0.1154\n",
      "10 0.0769\n",
      "7 0.0192\n",
      "8 0.0577\n",
      "8 0.2115\n",
      "8 0.25\n",
      "8 0.2115\n",
      "8 0.0385\n",
      "8 0.0385\n",
      "10 0.3269\n",
      "10 0.0385\n",
      "10 0.6538\n",
      "8 0.4231\n",
      "8 0.3462\n",
      "8 0.1538\n",
      "8 0.4423\n",
      "8 0.6154\n",
      "8 0.4231\n",
      "8 0.3846\n",
      "7 0.2692\n",
      "7 0.0385\n",
      "8 0.0192\n",
      "8 0.2308\n",
      "9 0.5769\n",
      "8 0.5192\n",
      "8 0.2308\n",
      "8 0.3462\n",
      "8 0.0769\n",
      "10 0.8846\n",
      "8 0.1154\n",
      "8 0.1731\n",
      "8 0.2115\n",
      "8 0.0769\n",
      "8 0.3077\n",
      "8 0.1923\n",
      "9 0.0385\n",
      "9 0.0385\n",
      "9 0.1923\n",
      "8 0.3077\n",
      "8 0.2885\n",
      "8 0.2692\n",
      "8 0.1154\n",
      "8 0.2692\n",
      "8 0.0385\n",
      "8 0.25\n"
     ]
    }
   ],
   "source": [
    "for i in range(0, len(X_all)):\n",
    "    print y_all[i], X_all[i][-2]"
   ]
  }
 ],
 "metadata": {
  "kernelspec": {
   "display_name": "Python 2",
   "language": "python",
   "name": "python2"
  },
  "language_info": {
   "codemirror_mode": {
    "name": "ipython",
    "version": 2
   },
   "file_extension": ".py",
   "mimetype": "text/x-python",
   "name": "python",
   "nbconvert_exporter": "python",
   "pygments_lexer": "ipython2",
   "version": "2.7.6"
  }
 },
 "nbformat": 4,
 "nbformat_minor": 0
}
