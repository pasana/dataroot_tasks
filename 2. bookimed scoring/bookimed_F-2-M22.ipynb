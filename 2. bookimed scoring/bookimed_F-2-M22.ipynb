{
 "cells": [
  {
   "cell_type": "code",
   "execution_count": null,
   "metadata": {
    "collapsed": false
   },
   "outputs": [],
   "source": [
    "from bookimed_lib import *"
   ]
  },
  {
   "cell_type": "code",
   "execution_count": null,
   "metadata": {
    "collapsed": true
   },
   "outputs": [],
   "source": [
    "gd = [ 0.34073574,  0.63752363,  0.28220311,  0.38026313,  1.07172097, 7.10154227025] #40%"
   ]
  },
  {
   "cell_type": "code",
   "execution_count": null,
   "metadata": {
    "collapsed": false
   },
   "outputs": [],
   "source": [
    "FEATURES = [\n",
    "    \"gd\",\n",
    "    #\"ed\",\n",
    "    #\"gp\",\n",
    "#    \"isr\",\n",
    "    #\"large\", \n",
    "     #\"top\", \n",
    "#    \"speed_level\",\n",
    "    \"speed_level 1\",\n",
    "    \"speed_level 2\",\n",
    "    \"speed_level 3\",\n",
    "    \"price\",\n",
    "    #\"price_level 1\",\n",
    "    #\"price_level 2\",\n",
    "    #\"price_level 3\",\n",
    "#    \"views\", \n",
    "]"
   ]
  },
  {
   "cell_type": "code",
   "execution_count": null,
   "metadata": {
    "collapsed": false
   },
   "outputs": [],
   "source": [
    "def extract_data(clinic, clinic_estim):\n",
    "    all_doc = clinic['doctors']\n",
    "    X = []\n",
    "    for doc in all_doc:\n",
    "        X+=[[]]\n",
    "        #gd 0-7\n",
    "        X[-1]+=[doc['degree'].count(u'Профессор')]\n",
    "        X[-1]+=[int(doc['top'])]\n",
    "        X[-1]+=[len(doc['illnesses'])]\n",
    "        #X[-1]+=[len(doc['languages'])]\n",
    "        #X[-1]+=[1 if len(doc['illnesses'])>4 else 0 ]\n",
    "        X[-1]+=[int(doc['h_index'])]\n",
    "        X[-1]+=[int(doc['experience'])]\n",
    "        X[-1]+=[1]\n",
    "        #\n",
    "        #X[-1]+=[int(clinic['large'])]\n",
    "        #X[-1]+=[int(clinic['top'])]\n",
    "        #X[-1]+=[int(clinic['speed_level'])]\n",
    "        X[-1]+=get_speed_level(int(clinic['speed_level']))\n",
    "        #X[-1]+=get_speed_level(int(clinic['price_level']))\n",
    "        X[-1]+=[round(int(clinic['price_level'])/3.0,4)]\n",
    "    if clinic_estim != []:\n",
    "        y=[int(clinic_estim['rating'])] * len(X)\n",
    "        return [X, y]\n",
    "    else:\n",
    "        return X"
   ]
  },
  {
   "cell_type": "code",
   "execution_count": null,
   "metadata": {
    "collapsed": true
   },
   "outputs": [],
   "source": [
    "def pack(X, gd):\n",
    "    new_X = []\n",
    "    for x in X:\n",
    "        new_X+= [sum([\n",
    "            [round(sum(np.array(gd)*np.array(x[0:6])),5)],\n",
    "            x[6:]\n",
    "        ],[])]\n",
    "    return new_X"
   ]
  },
  {
   "cell_type": "code",
   "execution_count": null,
   "metadata": {
    "collapsed": true
   },
   "outputs": [],
   "source": [
    "#2\n",
    "def normale(mat):\n",
    "    for i in range(0,len(mat[0])):\n",
    "        mass = [k[i] for k in mat]\n",
    "        mean = np.mean(mass)\n",
    "        mx = max(mass)\n",
    "        mn = min(mass)\n",
    "        if mx!=mn:\n",
    "            for j in mat:\n",
    "                #print j[i], j[i] - mn, mx-mn\n",
    "                j[i] = round((j[i] - mn) / float(mx-mn), 4)\n",
    "                #print j[i]"
   ]
  },
  {
   "cell_type": "code",
   "execution_count": null,
   "metadata": {
    "collapsed": false
   },
   "outputs": [],
   "source": [
    "X_all, X_1, X_2, X_3, X_4, X_5, y_all, y_1, y_2, y_3, y_4, y_5 = get_X_sets(extract_data)\n",
    "\n",
    "for i in range(len(X_all)-1,-1,-1):\n",
    "    if X_all[i][4]==0 or X_all[i][3]==0 or X_all[i][2]==0:# or sum(X_all[i][6:10])==0:# or (X_all[i][6]==1 and y_all[i]<5):\n",
    "        X_all.pop(i)\n",
    "        y_all.pop(i)\n",
    "        \n",
    "for X,y in [[X_1, y_1],[X_2, y_2],[X_3, y_3],[X_4, y_4],[X_5, y_5]]:\n",
    "    for i in range(len(X)-1,-1,-1):\n",
    "        if X[i][4]==0 or X[i][3]==0 or X[i][2]==0:# or sum(X_all[i][6:10])==0:# or (X_all[i][6]==1 and y_all[i]<5):\n",
    "            X.pop(i)\n",
    "            y.pop(i)\n",
    "sp = 100"
   ]
  },
  {
   "cell_type": "code",
   "execution_count": null,
   "metadata": {
    "collapsed": false
   },
   "outputs": [],
   "source": [
    "normale(X_all)\n",
    "X_all=pack(X_all,gd)\n",
    "normale(X_all)\n",
    "\n",
    "normale(X_1)\n",
    "X_1=pack(X_1,gd)\n",
    "normale(X_1)\n",
    "\n",
    "normale(X_2)\n",
    "X_2=pack(X_2,gd)\n",
    "normale(X_2)\n",
    "\n",
    "normale(X_3)\n",
    "X_3=pack(X_3,gd)\n",
    "normale(X_3)\n",
    "\n",
    "normale(X_4)\n",
    "X_4=pack(X_4,gd)\n",
    "normale(X_4)\n",
    "\n",
    "normale(X_5)\n",
    "X_5=pack(X_5,gd)\n",
    "normale(X_5)"
   ]
  },
  {
   "cell_type": "code",
   "execution_count": null,
   "metadata": {
    "collapsed": false,
    "scrolled": true
   },
   "outputs": [],
   "source": [
    "for i in range(1,8):\n",
    "    print i\n",
    "    regr = process_with(X_all, y_all, info=True, ts=i/10.0)\n",
    "    print regr.coef_\n",
    "    print"
   ]
  },
  {
   "cell_type": "code",
   "execution_count": null,
   "metadata": {
    "collapsed": false,
    "scrolled": true
   },
   "outputs": [],
   "source": [
    "regr = process_with(X_all, y_all, info=True, ts=0.1)"
   ]
  },
  {
   "cell_type": "code",
   "execution_count": null,
   "metadata": {
    "collapsed": false
   },
   "outputs": [],
   "source": [
    "print \"Features sorted by their score:\"\n",
    "#f = sorted(zip(map(lambda x: round(x, 4), regr.coef_), FEATURES), reverse=True)\n",
    "f = zip(map(lambda x: round(x, 4), regr.coef_), FEATURES)\n",
    "print len(FEATURES)\n",
    "for i in f:\n",
    "    print \"%4f \\t %s\" %(i[0], i[1])\n",
    "    #print i[0] #, i[1]\n",
    "print regr.intercept_"
   ]
  },
  {
   "cell_type": "code",
   "execution_count": null,
   "metadata": {
    "collapsed": false
   },
   "outputs": [],
   "source": [
    "f = sorted(zip(map(lambda x: round(x, 4), regr.coef_), FEATURES), reverse=True)\n",
    "ind = [map(lambda x: x[1], f).index(i) for i in FEATURES]\n",
    "for i in ind:\n",
    "    print i+1"
   ]
  },
  {
   "cell_type": "code",
   "execution_count": null,
   "metadata": {
    "collapsed": true
   },
   "outputs": [],
   "source": [
    "Max_pos =[\n",
    "    [5, 4, 0, 0, 7, 6, 10, 2, 3, 0, 9, 8],\n",
    "    [8, 0, 3, 0, 9, 1, 5, 2, 4, 0, 6, 0, 0, 10, 7],\n",
    "    [0, 0, 0, 4, 0, 7, 8, 0, 5, 10, 0, 9, 6],\n",
    "    [3, 1, 0, 2, 9, 10, 4, 5, 6, 7, 8],\n",
    "    [4, 0, 0, 7, 6, 10, 3, 5, 9, 0, 8]\n",
    "]"
   ]
  },
  {
   "cell_type": "code",
   "execution_count": null,
   "metadata": {
    "collapsed": true
   },
   "outputs": [],
   "source": [
    "cancer_set = [\n",
    "    {'illness_name': 'Melanoma', 'file_name': 'меланома_все', 'M_pos': 0},\n",
    "    {'illness_name': 'Breast cancer', 'file_name': 'рак_груди_все', 'M_pos': 1},\n",
    "    {'illness_name': 'Prostate cancer', 'file_name': 'рак_простаты_все', 'M_pos': 2},\n",
    "    {'illness_name': 'Cervical cancer', 'file_name': 'рак_шейки_матки_все', 'M_pos': 3},\n",
    "    {'illness_name': 'Thyroid cancer', 'file_name': 'рак_щитовидки_все', 'M_pos': 4},\n",
    "    \n",
    "    {'illness_name': 'knee replacement', 'file_name': 'замена_колена_все', 'M_pos': None},\n",
    "    {'illness_name': 'shoulder replacement', 'file_name': 'замена_плеча_все', 'M_pos': None},\n",
    "    {'illness_name': 'hip replacement', 'file_name': 'замена_тазоб_все', 'M_pos': None},\n",
    "    {'illness_name': 'pancreatic cancer', 'file_name': 'рак_поджелудочной_все', 'M_pos': None},\n",
    "    {'illness_name': 'epilepsy', 'file_name': 'эпилепсия_все', 'M_pos': None},\n",
    "    \n",
    "]"
   ]
  },
  {
   "cell_type": "code",
   "execution_count": null,
   "metadata": {
    "collapsed": false
   },
   "outputs": [],
   "source": [
    "#create position xlsx\n",
    "\n",
    "import warnings\n",
    "this_path = path_2\n",
    "warnings.filterwarnings(\"ignore\")\n",
    "#dts = []\n",
    "stats = pd.DataFrame()\n",
    "writer = pd.ExcelWriter('./reports/to_choose/Positions .xlsx')\n",
    "for el in cancer_set:\n",
    "    with open('%s/%s.json'%(this_path, el['file_name'])) as data_file: #2\n",
    "        cancer_data = json.load(data_file)[0]['clinics']\n",
    "    X_test, names, ids = get_X_from(cancer_data, extract_data)\n",
    "    X_test = pack(X_test,gd)\n",
    "    normale(X_test)\n",
    "    M_pos = Max_pos[el['M_pos']] if el['M_pos']!= None else None\n",
    "    #get_res\n",
    "    results=[]\n",
    "    for i in range(0, len(X_test)):\n",
    "        results += [(regr.predict(X_test[i])[0], names[i])]\n",
    "    res=[]\n",
    "    for n in set(names):\n",
    "        indices = [j for j, x in enumerate(results) if x[1] == n]\n",
    "        m = max([i[0] for i in results[min(indices):max(indices)+1]])\n",
    "        res+=[(m,n, ids[indices[0]])]\n",
    "    #pos\n",
    "    pos = [10 - sorted(res, reverse=True).index(x) for x in res]\n",
    "    #illness_sheet\n",
    "    dt = pd.DataFrame()\n",
    "    for i in range(0,len(res)):\n",
    "        dt = dt.append({\n",
    "                '#': i,\n",
    "                'clinic id': res[i][2],\n",
    "                'clinic name': res[i][1],\n",
    "                'rate': res[i][0],\n",
    "                'position': pos[i],\n",
    "                'doc position': M_pos[i] if M_pos else 0\n",
    "            }, ignore_index=True)\n",
    "    #dts += [dt]\n",
    "    dt.to_excel(writer, el['illness_name'], index=False)\n",
    "    #stat\n",
    "    if M_pos:\n",
    "        dt_p = dt[dt['doc position']>0].sort(['doc position'], ascending=[0])['position']\n",
    "        pos = [10 - sorted(dt_p, reverse=True).index(x) for x in dt_p]\n",
    "        top_3 = len(set([10,9,8]).intersection(pos[0:3]))\n",
    "        top_3_strict = sum(pos[0:3] == np.array([10,9,8]))\n",
    "        top_5 = len(set([10,9,8,7,6]).intersection(pos[0:5]))\n",
    "        top_5_strict = sum(pos[0:5] == np.array([10,9,8,7,6]))\n",
    "        stats = stats.append({\n",
    "                'Illness': el['illness_name'],\n",
    "                'Sequence, %': seq_procent(pos),\n",
    "                'top-3 with 10': top_3_strict, \n",
    "                'top-3': top_3, \n",
    "                'top-5 with 10': top_5_strict, \n",
    "                'top-5': top_5,\n",
    "            }, ignore_index = True)\n",
    "\n",
    "stats = stats.append({\n",
    "        'Illness': 'Average',\n",
    "        'Sequence, %': stats['Sequence, %'].mean(),\n",
    "        'top-3 with 10': stats['top-3 with 10'].mean(), \n",
    "        'top-3': stats['top-3'].mean(), \n",
    "        'top-5 with 10': stats['top-5 with 10'].mean(), \n",
    "        'top-5': stats['top-5'].mean(),\n",
    "    }, ignore_index = True)\n",
    "stats.to_excel(writer, 'stats', index=False)\n",
    "writer.save()"
   ]
  },
  {
   "cell_type": "code",
   "execution_count": null,
   "metadata": {
    "collapsed": true
   },
   "outputs": [],
   "source": [
    "#check data manualy"
   ]
  },
  {
   "cell_type": "code",
   "execution_count": null,
   "metadata": {
    "collapsed": false
   },
   "outputs": [],
   "source": [
    "el"
   ]
  },
  {
   "cell_type": "code",
   "execution_count": null,
   "metadata": {
    "collapsed": false
   },
   "outputs": [],
   "source": [
    "for i,r in enumerate(results):\n",
    "    #print \"%2.4f\"%r[0], np.linalg.norm(X_test[i]), r[1]\n",
    "    print \"%2.4f\"%r[0], X_test[i], r[1]"
   ]
  },
  {
   "cell_type": "code",
   "execution_count": null,
   "metadata": {
    "collapsed": false
   },
   "outputs": [],
   "source": [
    "sorted([np.linalg.norm(i) for i in X_test], reverse=True)"
   ]
  },
  {
   "cell_type": "code",
   "execution_count": null,
   "metadata": {
    "collapsed": false
   },
   "outputs": [],
   "source": [
    "X_test, names, ids = get_X_from(cancer_data, extract_data)\n",
    "X_test"
   ]
  },
  {
   "cell_type": "code",
   "execution_count": null,
   "metadata": {
    "collapsed": false
   },
   "outputs": [],
   "source": [
    "#creare xlsx file for model trained on ALL data\n",
    "\n",
    "import xlsxwriter\n",
    "\n",
    "ed=gp=[]\n",
    "#pre\n",
    "f = zip(map(lambda x: round(x, 4), regr.coef_), FEATURES)\n",
    "#f = zip(map(lambda x: round(x, 4), [0] * len(FEATURES)), FEATURES)\n",
    "#for table filling\n",
    "res_X = []\n",
    "res_y = []\n",
    "t_amounts = [0]\n",
    "amounts = []\n",
    "\n",
    "for X,y in [(X_1, y_1),(X_2, y_2),(X_3, y_3),(X_4, y_4),(X_5, y_5)]:\n",
    "    #regr = process_with(X, y, ts=get_best_ts(X, y))\n",
    "    for i in range(10,0,-1):\n",
    "        try:\n",
    "            indices = [j for j, x in enumerate(y) if x == i]\n",
    "            res_X += [max(regr.predict(X[min(indices):max(indices)+1]))]\n",
    "            res_y += [i]\n",
    "            #print res_X[-1], res_y[-1]\n",
    "        except Exception, err:\n",
    "            #print err, i, indices\n",
    "            pass\n",
    "    t_amounts += [len(res_y)]\n",
    "\n",
    "\n",
    "for i in range(1, len(t_amounts)):\n",
    "    amounts += [t_amounts[i] - t_amounts[i-1]]\n",
    "    \n",
    "l=0\n",
    "r=0\n",
    "all_pos_model = []\n",
    "all_pos_doctor = []\n",
    "seq_pr = []\n",
    "top_3 = []\n",
    "top_3_strict = []\n",
    "for i in amounts:\n",
    "    l=r\n",
    "    r+=i\n",
    "    pos_for_x = [10-sorted(res_X[l:r], reverse=True).index(x) for x in res_X[l:r]]\n",
    "    all_pos_model += pos_for_x\n",
    "    all_pos_doctor += [10-sorted(res_y[l:r], reverse=True).index(x) for x in res_y[l:r]]\n",
    "    seq_pr += [seq_procent(pos_for_x)]\n",
    "    top_3 += [len(set([10,9,8]).intersection(pos_for_x[0:3]))]\n",
    "    top_3_strict += [sum(pos_for_x[0:3] == np.array([10,9,8]))]\n",
    "\n",
    "ranges = []\n",
    "r=1\n",
    "for a in amounts:\n",
    "    l=r+1\n",
    "    r=l+a-1\n",
    "    ranges+= [(l,r)]\n",
    "\n",
    "\n",
    "illnesses = [u\"Рак кожи\", u\"Рак груди\", u\"Рак простаты\", u\"Рак шейки матки\", u\"Рак щитовидки\"]\n",
    "\n",
    "\n",
    "workbook = xlsxwriter.Workbook('./reports/to_choose/M22: reduction, intercept gd, 10%.xls')\n",
    "\n",
    "#list 1\n",
    "worksheet = workbook.add_worksheet(\"coef\")\n",
    "worksheet.write(0, 0, \"f\")\n",
    "worksheet.write(0, 2, \"rating\")\n",
    "\n",
    "row = 1\n",
    "col = 2\n",
    "\n",
    "for num, feat in f:\n",
    "    worksheet.write(row, col, feat)\n",
    "    worksheet.write(row, col+1, num)\n",
    "    row+=1\n",
    "\n",
    "worksheet.write(row, col, \"intercept\")\n",
    "worksheet.write(row, col+1, regr.intercept_)\n",
    "row+=2\n",
    "col=0\n",
    "\n",
    "r=row\n",
    "\n",
    "worksheet.write(row, col, \"GD\")\n",
    "worksheet.write(row, col+2, \"specialist\")\n",
    "row+=1\n",
    "\n",
    "f_ = zip(map(lambda x: round(x, 4), gd), [\"deg\", \"top\", \"illn\", \"lang\", \"h_index\", \"exp\", \"intercept\"])\n",
    "for i, el in enumerate(f_):\n",
    "    worksheet.write(row, col, \"c_%d\"%i)\n",
    "    worksheet.write(row, col+1, el[0])\n",
    "    worksheet.write(row, col+2, el[1])\n",
    "    row+=1\n",
    "\n",
    "row = r\n",
    "col += 4\n",
    "worksheet.write(row, col, \"ED\")\n",
    "worksheet.write(row, col+2, \"experience\")\n",
    "row+=1\n",
    "\n",
    "f_ = zip(map(lambda x: round(x, 4), ed), [\"top_diag\", \"gen_diag\", \"top_oper\", \"gen_oper\", \"intercept\"])\n",
    "for i, el in enumerate(f_):\n",
    "    worksheet.write(row, col, \"c_%d\"%i)\n",
    "    worksheet.write(row, col+1, el[0])\n",
    "    worksheet.write(row, col+2, el[1])\n",
    "    row+=1\n",
    "    \n",
    "\n",
    "row = r\n",
    "col += 4\n",
    "worksheet.write(row, col, \"GP\")\n",
    "worksheet.write(row, col+2, \"experience\")\n",
    "row+=1\n",
    "\n",
    "f_ = zip(map(lambda x: round(x, 4), gp), [\"top_diag\", \"gen_diag\", \"top_oper\", \"gen_oper\"])\n",
    "for i, el in enumerate(f_):\n",
    "    worksheet.write(row, col, \"c_%d\"%i)\n",
    "    worksheet.write(row, col+1, el[0])\n",
    "    worksheet.write(row, col+2, el[1])\n",
    "    row+=1\n",
    "\n",
    "    \n",
    "#list 2\n",
    "worksheet = workbook.add_worksheet(\"tabl\")\n",
    "worksheet.freeze_panes(1, 0)\n",
    "col = 0\n",
    "row = 0\n",
    "\n",
    "for i in [u\"Болезнь\", u\"Клиника\", u\"Оценка врача\", u\"Оценка модели\", u\"Позиция врача\", u\"Позиция модели\", u\"Разница оценок врача и модели\", u\"Разница позиций врача и модели\"]:\n",
    "    worksheet.write(row, col, i)\n",
    "    col+=1\n",
    "\n",
    "col=0\n",
    "row=1\n",
    "temp = sum([[i[0]]*i[1] for i in zip(illnesses, amounts)],[])\n",
    "for i in temp:\n",
    "    worksheet.write(row, col, i)\n",
    "    row+=1\n",
    "\n",
    "col=1\n",
    "row=1\n",
    "temp = get_clinic_names_all()\n",
    "for i in temp:\n",
    "    worksheet.write(row, col, i)\n",
    "    row+=1\n",
    "    \n",
    "col=2\n",
    "row=1\n",
    "for i in res_y:\n",
    "    worksheet.write(row, col, i)\n",
    "    row+=1\n",
    "\n",
    "col=3\n",
    "row=1\n",
    "for i in res_X:\n",
    "    worksheet.write(row, col, i)\n",
    "    row+=1\n",
    "    \n",
    "col=4\n",
    "row=1\n",
    "for i in all_pos_doctor:\n",
    "    worksheet.write(row, col, i)\n",
    "    row+=1\n",
    "\n",
    "col=5\n",
    "row=1\n",
    "for i in all_pos_model:\n",
    "    worksheet.write(row, col, i)\n",
    "    row+=1\n",
    "\n",
    "\n",
    "col=6\n",
    "row=1\n",
    "for i in range(0, sum(amounts)):\n",
    "    worksheet.write_formula(row, col, '=C%d-D%d'%(row+1,row+1))\n",
    "    worksheet.write_formula(row, col+1, '=E%d-F%d'%(row+1,row+1))\n",
    "    worksheet.write_formula(row, col+2, '=ABS(G%d)'%(row+1))\n",
    "    worksheet.write_formula(row, col+3, '=ABS(H%d)'%(row+1))\n",
    "    row+=1\n",
    "\n",
    "for l,r in ranges:\n",
    "    worksheet.write_formula('K%d' % r, '=AVERAGE(I%d:I%d)'%(l,r))\n",
    "    worksheet.write_formula('L%d' % r, '=AVERAGE(J%d:J%d)'%(l,r))\n",
    "\n",
    "#list 3\n",
    "worksheet = workbook.add_worksheet(\"stat\")\n",
    "worksheet.freeze_panes(1, 0)\n",
    "col = 1\n",
    "row = 0\n",
    "\n",
    "for i in [ u\"Среднее по оценке\", u\"Среднее по позиции\", u\"% последовательности\", u\"топ-3 с 10\", u\"топ-3\"]:\n",
    "    worksheet.write(row, col, i)\n",
    "    col+=1\n",
    "\n",
    "col=0\n",
    "row=1\n",
    "for i in illnesses + ['', u\"Итого\"]:\n",
    "    worksheet.write(row, col, i)\n",
    "    row+=1\n",
    "\n",
    "col=1    \n",
    "row=1\n",
    "for i in [i[1] for i in ranges]:\n",
    "    worksheet.write(row, col, \"='tabl'!K%d\"%(i))\n",
    "    worksheet.write(row, col+1, \"='tabl'!L%d\"%(i))\n",
    "    row+=1\n",
    "\n",
    "col=3\n",
    "row=1\n",
    "for i in zip(seq_pr,top_3_strict, top_3):\n",
    "    worksheet.write(row, col, i[0])\n",
    "    worksheet.write(row, col+1, i[1])\n",
    "    worksheet.write(row, col+2, i[2])\n",
    "    row+=1\n",
    "    \n",
    "row+=1\n",
    "col=1\n",
    "for i in ['B', 'C', 'D', 'E', 'F']:\n",
    "    worksheet.write_formula(row, col, '=AVERAGE(%s2:%s6)'%(i,i))\n",
    "    col+=1\n",
    "\n",
    "workbook.close()"
   ]
  }
 ],
 "metadata": {
  "kernelspec": {
   "display_name": "Python 2",
   "language": "python",
   "name": "python2"
  },
  "language_info": {
   "codemirror_mode": {
    "name": "ipython",
    "version": 2
   },
   "file_extension": ".py",
   "mimetype": "text/x-python",
   "name": "python",
   "nbconvert_exporter": "python",
   "pygments_lexer": "ipython2",
   "version": "2.7.6"
  }
 },
 "nbformat": 4,
 "nbformat_minor": 0
}
