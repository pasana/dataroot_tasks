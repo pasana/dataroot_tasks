{
 "cells": [
  {
   "cell_type": "markdown",
   "metadata": {},
   "source": [
    "#with error"
   ]
  },
  {
   "cell_type": "code",
   "execution_count": null,
   "metadata": {
    "collapsed": false
   },
   "outputs": [],
   "source": [
    "import json\n",
    "import matplotlib.pyplot as plt\n",
    "import numpy as np\n",
    "from sklearn import datasets, linear_model\n",
    "from sklearn import preprocessing\n",
    "from sklearn import cross_validation"
   ]
  },
  {
   "cell_type": "code",
   "execution_count": null,
   "metadata": {
    "collapsed": true
   },
   "outputs": [],
   "source": []
  },
  {
   "cell_type": "code",
   "execution_count": null,
   "metadata": {
    "collapsed": true
   },
   "outputs": [],
   "source": [
    "FEATURES = [\n",
    "    \"gd\",\n",
    "    \"ed\",\n",
    "    \"gp\",\n",
    "    #\"isr\",\n",
    "#    \"views\", \n",
    "    \"large\", \n",
    "    \"top\", \n",
    "#    \"speed_level\",\n",
    "#    \"speed_level 1\",\n",
    "#    \"speed_level 2\",\n",
    "#    \"speed_level 3\",\n",
    "    \"price\"]"
   ]
  },
  {
   "cell_type": "code",
   "execution_count": null,
   "metadata": {
    "collapsed": true
   },
   "outputs": [],
   "source": [
    "def get_speed_level(speed_level):\n",
    "    if speed_level == 1:\n",
    "        return  [1]\n",
    "        #return [1,0,0]\n",
    "        #print X[-1], speed_level\n",
    "    elif speed_level == 2:\n",
    "        return [0.4]\n",
    "        #return [0,1,0]\n",
    "        #print X[-1], speed_level\n",
    "    elif speed_level == 3:\n",
    "        return [0.1]\n",
    "        #return [0,0,1]\n",
    "        #print X[-1], speed_level\n",
    "    else:\n",
    "        return [0]\n",
    "        #return [0,0,0]\n",
    "        #print X[-1], speed_level"
   ]
  },
  {
   "cell_type": "code",
   "execution_count": null,
   "metadata": {
    "collapsed": false
   },
   "outputs": [],
   "source": [
    "def extract_data(clinic, clinic_estim):\n",
    "    all_proc = clinic['procedures']['diagnostics'] + clinic['procedures']['operations']\n",
    "    all_doc = clinic['doctors']\n",
    "    X = []\n",
    "    for doc in all_doc:\n",
    "        X+=[[]]\n",
    "        \n",
    "        #gd\n",
    "        gd = [0.060, 0.223, 0.015, 0.039, -0.003, 0.011, 8.370] #unnormed\n",
    "        gd = [0.06, 0.223, 0.372, 0.196, -0.135, 0.426, 8.37]\n",
    "        #gd = [1, 1, 1, 1, 1, 1, 0]\n",
    "        x = [\n",
    "            doc['degree'].count(u'Профессор'),\n",
    "            int(doc['top']),\n",
    "            len(doc['illnesses']),\n",
    "            len(doc['languages']),\n",
    "            int(doc['h_index']),\n",
    "            int(doc['experience']),\n",
    "            1\n",
    "        ]\n",
    "        X[-1]+= [round(sum(np.array(gd)*np.array(x)),5)] \n",
    "        #ed\n",
    "        ed = [-0.552, -0.032, 0.533, 0.098, 8.945] #unnormed\n",
    "        ed = [-2.82, -1.104, 0.827, 0.96, 9.471]\n",
    "        #ed = [1, 1, 1, 1, 0]\n",
    "        ids_diad = [i['id'] for i in doc['procedures']['diagnostics'] if i['top']=='1']\n",
    "        ids_oper = [i['id'] for i in doc['procedures']['operations'] if i['top']=='1']\n",
    "        x = [\n",
    "            len(list(set(ids_diad))),\n",
    "            len(doc['procedures']['diagnostics']),\n",
    "            len(list(set(ids_oper))),\n",
    "            len(doc['procedures']['operations']),\n",
    "            1\n",
    "        ]\n",
    "        X[-1]+= [round(sum(np.array(ed)*np.array(x)),5)]\n",
    "        #gp\n",
    "        gp = [-1.547, -0.204, 1.837, 0.139] #unnormed\n",
    "        gp = [-3.094, -7.545, 11.025, 9.011]\n",
    "        #gp = [1, 1, 1, 1]\n",
    "        x = [\n",
    "            sum([int(i['top']) for i in all_proc]), #top_proc_cli\n",
    "            len(all_proc), #gen_proc_cli\n",
    "            sum([int(i['top']) for i in clinic['procedures']['operations']]), #top_oper_cli\n",
    "            len(clinic['procedures']['operations']), #gen_oper_cli\n",
    "        ]\n",
    "        X[-1]+= [round(sum(np.array(gp)*np.array(x)),5)]\n",
    "        #\n",
    "        c_id = int(clinic['country_id'])\n",
    "        #if c_id == 1:\n",
    "        #    X[-1]+=[1]\n",
    "        #else:\n",
    "        #    X[-1]+=[0]\n",
    "        #X[-1]+=[int(clinic['views'])]\n",
    "        X[-1]+=[int(clinic['large'])]\n",
    "        X[-1]+=[int(clinic['top'])]\n",
    "        #X[-1]+=[get_speed_level(int(clinic['speed_level']))]\n",
    "        #X[-1]+=[round(1-int(clinic_estim['price'])/10.0,4)]\n",
    "        X[-1]+=[round(int(clinic['price_level'])/3.0,4)]\n",
    "        \n",
    "    y=[int(clinic_estim['rating'])] * len(all_doc)\n",
    "    return [X, y]"
   ]
  },
  {
   "cell_type": "code",
   "execution_count": null,
   "metadata": {
    "collapsed": true
   },
   "outputs": [],
   "source": [
    "def get_X_y_from(t_data):\n",
    "    clinic_ids = [i['id'] for i in t_data]\n",
    "    t_cleaned_data = [extract_data(cancer_data[clinic_ids.index(i['id'])], i) for i in estims_data]\n",
    "    X = sum([i[0] for i in t_cleaned_data],[])\n",
    "    y = sum([i[1] for i in t_cleaned_data],[])\n",
    "    return X,y"
   ]
  },
  {
   "cell_type": "code",
   "execution_count": null,
   "metadata": {
    "collapsed": false
   },
   "outputs": [],
   "source": [
    "def normale(mat):\n",
    "    for i in [0,1,2]:\n",
    "        mass = [abs(k[i]) for k in mat]\n",
    "        m = max(mass)\n",
    "        if m>0:\n",
    "            for j in mat:\n",
    "                j[i] = round(j[i] / float(m), 4)"
   ]
  },
  {
   "cell_type": "code",
   "execution_count": null,
   "metadata": {
    "collapsed": true
   },
   "outputs": [],
   "source": [
    "def process_with(X,y, info=False, short=False, return_short = False, new_coef = [], ts=0.2):\n",
    "    train_X, test_X, train_y, test_y = cross_validation.train_test_split(X, y, test_size = ts, random_state = 2)\n",
    "    regr = linear_model.LinearRegression(fit_intercept=True, normalize=True)\n",
    "    if new_coef != []:\n",
    "        print \"new coefs\"\n",
    "        regr.coef_ = new_coef\n",
    "    regr.fit(train_X, train_y)\n",
    "    if info:\n",
    "        print \"Total: %d, train: %d, test: %d\" %(len(X), len(train_X), len(test_X))\n",
    "        print(\"Residual sum of squares: %.2f\"% np.mean((regr.predict(test_X) - test_y) ** 2))\n",
    "        print(\"Train absolute: %.2f\"% np.mean(abs(regr.predict(train_X) - train_y)))\n",
    "        print(\"Test absolute: %.2f\"% np.mean(abs(regr.predict(test_X) - test_y)))\n",
    "        print(\"Absolute to mean: %.2f%%\"% (np.mean(abs(regr.predict(test_X) - test_y))/np.mean(test_y)*100))\n",
    "        print('Train variance score: %.2f' % regr.score(train_X, train_y))\n",
    "        print('Test variance score: %.2f' % regr.score(test_X, test_y))\n",
    "    if short:\n",
    "        print np.mean(abs(regr.predict(test_X) - test_y)),regr.score(test_X, test_y)\n",
    "    if return_short:\n",
    "        return np.mean(abs(regr.predict(test_X) - test_y)),regr.score(test_X, test_y)\n",
    "    return regr"
   ]
  },
  {
   "cell_type": "code",
   "execution_count": null,
   "metadata": {
    "collapsed": false
   },
   "outputs": [],
   "source": [
    "X, y = get_X_y_from(cancer_data)"
   ]
  },
  {
   "cell_type": "code",
   "execution_count": null,
   "metadata": {
    "collapsed": false
   },
   "outputs": [],
   "source": [
    "X_all, y_all = [], []\n",
    "\n",
    "with open('./max/estims.json') as data_file: \n",
    "    estims_data = json.load(data_file)[2]['clinics']\n",
    "with open('./max/меланома_все.json') as data_file: #2\n",
    "    cancer_data = json.load(data_file)[0]['clinics']\n",
    "X_1, y_1 = get_X_y_from(cancer_data)\n",
    "X_all+=X_1\n",
    "y_all+=y_1\n",
    "    \n",
    "with open('./max/estims.json') as data_file: \n",
    "    estims_data = json.load(data_file)[0]['clinics']\n",
    "with open('./max/рак_груди_все.json') as data_file: #0\n",
    "    cancer_data = json.load(data_file)[0]['clinics']\n",
    "X_2, y_2 = get_X_y_from(cancer_data)\n",
    "X_all+=X_2\n",
    "y_all+=y_2\n",
    "    \n",
    "with open('./max/estims.json') as data_file: \n",
    "    estims_data = json.load(data_file)[4]['clinics']    \n",
    "with open('./max/рак_простаты_все.json') as data_file: #4\n",
    "    cancer_data = json.load(data_file)[0]['clinics']\n",
    "clinic_ids = [i['id'] for i in estims_data]\n",
    "estims_data.pop(clinic_ids.index('0'))\n",
    "X_3, y_3 = get_X_y_from(cancer_data)\n",
    "X_all+=X_3\n",
    "y_all+=y_3\n",
    "\n",
    "with open('./max/estims.json') as data_file: \n",
    "    estims_data = json.load(data_file)[1]['clinics']     \n",
    "with open('./max/рак_шейки_матки_все.json') as data_file: #1\n",
    "    cancer_data = json.load(data_file)[0]['clinics']\n",
    "X_4, y_4 = get_X_y_from(cancer_data)\n",
    "X_all+=X_4\n",
    "y_all+=y_4\n",
    "    \n",
    "with open('./max/estims.json') as data_file: \n",
    "    estims_data = json.load(data_file)[3]['clinics']         \n",
    "with open('./max/рак_щитовидки_все.json') as data_file: #3\n",
    "    cancer_data = json.load(data_file)[0]['clinics']\n",
    "X_5, y_5 = get_X_y_from(cancer_data)\n",
    "X_all+=X_5\n",
    "y_all+=y_5\n",
    "\n",
    "normale(X_all)\n",
    "normale(X_1)\n",
    "normale(X_2)\n",
    "normale(X_3)\n",
    "normale(X_4)\n",
    "normale(X_5)"
   ]
  },
  {
   "cell_type": "code",
   "execution_count": null,
   "metadata": {
    "collapsed": false
   },
   "outputs": [],
   "source": [
    "X_all"
   ]
  },
  {
   "cell_type": "code",
   "execution_count": null,
   "metadata": {
    "collapsed": true
   },
   "outputs": [],
   "source": []
  },
  {
   "cell_type": "code",
   "execution_count": null,
   "metadata": {
    "collapsed": false
   },
   "outputs": [],
   "source": [
    "estims_data[3]"
   ]
  },
  {
   "cell_type": "code",
   "execution_count": null,
   "metadata": {
    "collapsed": false
   },
   "outputs": [],
   "source": [
    "len(cancer_data[3]['doctors'])"
   ]
  },
  {
   "cell_type": "code",
   "execution_count": null,
   "metadata": {
    "collapsed": false
   },
   "outputs": [],
   "source": [
    "for i in range(1,10):\n",
    "    print i\n",
    "    regr = process_with(X_all, y_all, info=True, ts=i/10.0)\n",
    "    print"
   ]
  },
  {
   "cell_type": "code",
   "execution_count": null,
   "metadata": {
    "collapsed": false
   },
   "outputs": [],
   "source": [
    "regr = process_with(X_all, y_all, info=True, ts=0.7)"
   ]
  },
  {
   "cell_type": "code",
   "execution_count": null,
   "metadata": {
    "collapsed": false
   },
   "outputs": [],
   "source": [
    "import warnings\n",
    "warnings.filterwarnings(\"ignore\")\n",
    "for i in range(0,len(y_4)):    \n",
    "    print \"Real: %f \\t Predicted: %f\" %(y_4[i], regr.predict(X_4[i]))\n",
    "    print X_4[i]\n",
    "    print\n",
    "    #print y_5[i]\n",
    "    #print regr.predict(X_5[i])[0]"
   ]
  },
  {
   "cell_type": "code",
   "execution_count": null,
   "metadata": {
    "collapsed": false
   },
   "outputs": [],
   "source": [
    "print \"Features sorted by their score:\"\n",
    "#f = sorted(zip(map(lambda x: round(x, 4), regr.coef_), FEATURES), reverse=True)\n",
    "f = zip(map(lambda x: round(x, 4), regr.coef_), FEATURES)\n",
    "print regr.intercept_\n",
    "print len(FEATURES)\n",
    "for i in f:\n",
    "    print \"%4f \\t %s\" %(i[0], i[1])\n",
    "    #print i[0] #, i[1]"
   ]
  },
  {
   "cell_type": "code",
   "execution_count": null,
   "metadata": {
    "collapsed": false
   },
   "outputs": [],
   "source": [
    "ind = [map(lambda x: x[1], f).index(i) for i in FEATURES]\n",
    "for i in ind:\n",
    "    print i+1"
   ]
  },
  {
   "cell_type": "code",
   "execution_count": null,
   "metadata": {
    "collapsed": false
   },
   "outputs": [],
   "source": [
    "indices= [0, 1, 2, 3, 4, 5]\n",
    "regr.predict(X[min(indices):max(indices)+1])"
   ]
  },
  {
   "cell_type": "code",
   "execution_count": null,
   "metadata": {
    "collapsed": false
   },
   "outputs": [],
   "source": [
    "res_X = []\n",
    "res_y = []\n",
    "for X,y in [(X_1, y_1),(X_2, y_2),(X_3, y_3),(X_4, y_4),(X_5, y_5)]:\n",
    "    for i in range(10,0,-1):\n",
    "        try:\n",
    "            indices = [j for j, x in enumerate(y) if x == i]\n",
    "            res_X += [max(regr.predict(X[min(indices):max(indices)+1]))]\n",
    "            res_y += [i]\n",
    "            print res_X[-1], res_y[-1]\n",
    "        except Exception, err:\n",
    "            print err, i, indices\n",
    "            pass"
   ]
  },
  {
   "cell_type": "code",
   "execution_count": null,
   "metadata": {
    "collapsed": false
   },
   "outputs": [],
   "source": [
    "for x in res_X:\n",
    "    print x"
   ]
  },
  {
   "cell_type": "code",
   "execution_count": null,
   "metadata": {
    "collapsed": true
   },
   "outputs": [],
   "source": []
  },
  {
   "cell_type": "code",
   "execution_count": null,
   "metadata": {
    "collapsed": false
   },
   "outputs": [],
   "source": [
    "plt.plot([i[22] for i in X])\n",
    "plt.show()"
   ]
  },
  {
   "cell_type": "code",
   "execution_count": null,
   "metadata": {
    "collapsed": false
   },
   "outputs": [],
   "source": [
    "print FEATURES[8]\n",
    "[i[22] for i in X]"
   ]
  },
  {
   "cell_type": "code",
   "execution_count": null,
   "metadata": {
    "collapsed": false
   },
   "outputs": [],
   "source": [
    "for k in range(0,26):\n",
    "    print FEATURES[k], 10 - [i[k] for i in X].count(0)"
   ]
  }
 ],
 "metadata": {
  "kernelspec": {
   "display_name": "Python 2",
   "language": "python",
   "name": "python2"
  },
  "language_info": {
   "codemirror_mode": {
    "name": "ipython",
    "version": 2
   },
   "file_extension": ".py",
   "mimetype": "text/x-python",
   "name": "python",
   "nbconvert_exporter": "python",
   "pygments_lexer": "ipython2",
   "version": "2.7.6"
  }
 },
 "nbformat": 4,
 "nbformat_minor": 0
}
