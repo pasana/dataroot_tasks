{
 "cells": [
  {
   "cell_type": "code",
   "execution_count": null,
   "metadata": {
    "collapsed": false
   },
   "outputs": [],
   "source": [
    "import json\n",
    "import matplotlib.pyplot as plt\n",
    "import numpy as np\n",
    "from sklearn import datasets, linear_model\n",
    "from sklearn import preprocessing\n",
    "from sklearn import cross_validation\n",
    "from sklearn.feature_selection import VarianceThreshold\n",
    "with open('./max/estims.json') as data_file: \n",
    "    estims_data = json.load(data_file)[1]['clinics']\n",
    "print len(estims_data)\n",
    "#with open('./max/меланома_все.json') as data_file: #2\n",
    "#with open('./max/рак_груди_все.json') as data_file: #0\n",
    "#with open('./max/рак_простаты_все.json') as data_file: #4\n",
    "with open('./max/рак_шейки_матки_все.json') as data_file: #1\n",
    "#with open('./max/рак_щитовидки_все.json') as data_file: #3\n",
    "    cancer_data = json.load(data_file)[0]['clinics']\n",
    "print len(cancer_data)"
   ]
  },
  {
   "cell_type": "code",
   "execution_count": null,
   "metadata": {
    "collapsed": true
   },
   "outputs": [],
   "source": [
    "FEATURES = [\"views\", \"large\", \"top\", \"price_level\", \"speed_level\", \"count_orders\", \"count_orders_success\", \"count_reviews\", \"count_reviews_for_illness\", \"top_proc_cli\", \"gen_proc_cli\", \"top_oper_cli\", \"gen_oper_cli\", \"doc_count\", \"doctor_prof_count\", \"doctor_doc_count\", \"max_exp_doc\", \"mean_exp_doc\", \"max_h_index\", \"mean_h_index\", \"doc_top_diag\", \"doc_gen_diag\", \"doc_top_oper\", \"doc_gen_oper\", \"ill_cli\", \"lang_cli\", \"specialist\", \"experience\", \"variety\", \"price\"]"
   ]
  },
  {
   "cell_type": "code",
   "execution_count": null,
   "metadata": {
    "collapsed": false
   },
   "outputs": [],
   "source": [
    "clinic_ids = [i['id'] for i in estims_data]\n",
    "#estims_data.pop(clinic_ids.index('0'))\n",
    "print sorted(clinic_ids)\n",
    "print sorted([i['id'] for i in cancer_data])"
   ]
  },
  {
   "cell_type": "code",
   "execution_count": null,
   "metadata": {
    "collapsed": false
   },
   "outputs": [],
   "source": [
    "def extract_data(clinic, clinic_estim):\n",
    "    all_proc = clinic['procedures']['diagnostics'] + clinic['procedures']['operations']\n",
    "    all_doc = clinic['doctors']\n",
    "    X = []\n",
    "    X+=[int(clinic['views'])]\n",
    "    X+=[int(clinic['large'])]\n",
    "    X+=[int(clinic['top'])]\n",
    "    X+=[int(clinic['price_level'])]\n",
    "    X+=[int(clinic['speed_level'])]\n",
    "    X+=[int(clinic['count_orders'])]\n",
    "    X+=[int(clinic['count_orders_success'])]\n",
    "    X+=[int(clinic['count_reviews'])]\n",
    "    X+=[int(clinic['count_reviews_for_illness'])]\n",
    "    X+=[sum([int(i['top']) for i in all_proc])] #top_proc_cli\n",
    "    X+=[len(all_proc)] #gen_proc_cli\n",
    "    X+=[sum([int(i['top']) for i in clinic['procedures']['operations']])] #top_oper_cli\n",
    "    X+=[len(clinic['procedures']['operations'])] #gen_oper_cli\n",
    "    X+=[len(clinic['doctors'])] #doc_count\n",
    "    X+=[[i['degree'] for i in all_doc].count(u'Профессор')]    #doctor_prof_count\n",
    "    X+=[[i['degree'] for i in all_doc].count(u'Доцент')]    #doctor_doc_count\n",
    "    try:\n",
    "        X+=[max([int(i['experience']) for i in all_doc])] #max_exp_doc\n",
    "        X+=[np.mean([int(i['experience']) for i in all_doc])] #mean_exp_doc\n",
    "    except ValueError:\n",
    "        X+=[0,0]\n",
    "    try:\n",
    "        X+=[max([int(i['h_index']) for i in all_doc])] #max_h_index\n",
    "        X+=[np.mean([int(i['h_index']) for i in all_doc])] #mean_h_index\n",
    "    except ValueError:\n",
    "        X+=[0,0]\n",
    "    #doc_top_diag\n",
    "    tops = [i['procedures']['diagnostics'] for i in all_doc]\n",
    "    ids_diad = [i['id'] for i in sum(tops,[]) if i['top']=='1']\n",
    "    X+=[len(list(set(ids_diad)))]\n",
    "    #doc_gen_diag\n",
    "    tops = [i['procedures']['diagnostics'] for i in all_doc]\n",
    "    ids = [i['id'] for i in sum(tops,[])]\n",
    "    X+=[len(list(set(ids)))]\n",
    "    #doc_top_oper\n",
    "    tops = [i['procedures']['operations'] for i in all_doc]\n",
    "    ids = [i['id'] for i in sum(tops,[]) if i['top']=='1']\n",
    "    X+=[len(list(set(ids)))]\n",
    "    #doc_gen_oper\n",
    "    tops = [i['procedures']['operations'] for i in all_doc]\n",
    "    ids = [i['id'] for i in sum(tops,[])]\n",
    "    X+=[len(list(set(ids)))]\n",
    "    #ill_cli\n",
    "    tops = [i['illnesses'] for i in all_doc]\n",
    "    ids = [i['id'] for i in sum(tops,[])]\n",
    "    X+=[len(list(set(ids)))]\n",
    "    #lang_cli\n",
    "    tops = [i['languages'] for i in all_doc]\n",
    "    ids = [i['id'] for i in sum(tops,[])]\n",
    "    X+=[len(list(set(ids)))]\n",
    "    X+=[int(clinic_estim['specialist'])]\n",
    "    X+=[int(clinic_estim['experience'])]\n",
    "    X+=[int(clinic_estim['variety'])]\n",
    "    X+=[int(clinic_estim['price'])]\n",
    "    y=int(clinic_estim['rating'])\n",
    "    return [X, y]"
   ]
  },
  {
   "cell_type": "code",
   "execution_count": null,
   "metadata": {
    "collapsed": true
   },
   "outputs": [],
   "source": [
    "def get_X_y_from(t_data):\n",
    "    clinic_ids = [i['id'] for i in t_data]\n",
    "    t_cleaned_data = [extract_data(cancer_data[clinic_ids.index(i['id'])], i) for i in estims_data]\n",
    "    X = np.array([i[0] for i in t_cleaned_data])\n",
    "    y = np.array([i[1] for i in t_cleaned_data])\n",
    "    return X,y"
   ]
  },
  {
   "cell_type": "code",
   "execution_count": null,
   "metadata": {
    "collapsed": true
   },
   "outputs": [],
   "source": [
    "def process_with(X,y, info=False, short=False, return_short = False, new_coef = [], ts=0.2):\n",
    "    train_X, test_X, train_y, test_y = cross_validation.train_test_split(X, y, test_size = ts, random_state = 3)\n",
    "    regr = linear_model.LinearRegression(fit_intercept=False, normalize=False)\n",
    "    if new_coef != []:\n",
    "        print \"new coefs\"\n",
    "        regr.coef_ = new_coef\n",
    "    regr.fit(train_X, train_y)\n",
    "    if info:\n",
    "        print \"Total: %d, train: %d, test: %d\" %(len(X), len(train_X), len(test_X))\n",
    "        print(\"Residual sum of squares: %.2f\"% np.mean((regr.predict(test_X) - test_y) ** 2))\n",
    "        print(\"Train absolute: %.2f\"% np.mean(abs(regr.predict(train_X) - train_y)))\n",
    "        print(\"Test absolute: %.2f\"% np.mean(abs(regr.predict(test_X) - test_y)))\n",
    "        print(\"Absolute to mean: %.2f%%\"% (np.mean(abs(regr.predict(test_X) - test_y))/np.mean(test_y)*100))\n",
    "        print('Train variance score: %.2f' % regr.score(train_X, train_y))\n",
    "        print('Test variance score: %.2f' % regr.score(test_X, test_y))\n",
    "    if short:\n",
    "        print np.mean(abs(regr.predict(test_X) - test_y)),regr.score(test_X, test_y)\n",
    "    if return_short:\n",
    "        return np.mean(abs(regr.predict(test_X) - test_y)),regr.score(test_X, test_y)\n",
    "    return regr"
   ]
  },
  {
   "cell_type": "code",
   "execution_count": null,
   "metadata": {
    "collapsed": false
   },
   "outputs": [],
   "source": [
    "X, y = get_X_y_from(cancer_data)"
   ]
  },
  {
   "cell_type": "code",
   "execution_count": null,
   "metadata": {
    "collapsed": false
   },
   "outputs": [],
   "source": [
    "for i in range(1,10):\n",
    "    regr = process_with(X, y, info=True, ts=i/10.0)\n",
    "    print"
   ]
  },
  {
   "cell_type": "code",
   "execution_count": null,
   "metadata": {
    "collapsed": false
   },
   "outputs": [],
   "source": [
    "regr = process_with(X, y, info=True, ts=0.3)"
   ]
  },
  {
   "cell_type": "code",
   "execution_count": null,
   "metadata": {
    "collapsed": false
   },
   "outputs": [],
   "source": [
    "import warnings\n",
    "warnings.filterwarnings(\"ignore\")\n",
    "for i in range(0,len(y)):\n",
    "    print \"Real: %f \\t Predicted: %f\" %(y[i], regr.predict(X[i]))"
   ]
  },
  {
   "cell_type": "code",
   "execution_count": null,
   "metadata": {
    "collapsed": false
   },
   "outputs": [],
   "source": [
    "print \"Features sorted by their score:\"\n",
    "#f = sorted(zip(map(lambda x: round(x, 4), regr.coef_), FEATURES), reverse=True)\n",
    "f = zip(map(lambda x: round(x, 4), regr.coef_), FEATURES)\n",
    "print regr.intercept_\n",
    "print len(FEATURES)\n",
    "for i in f:\n",
    "    #print \"%4f \\t %s\" %(i[0], i[1])\n",
    "    print i[0]"
   ]
  },
  {
   "cell_type": "code",
   "execution_count": null,
   "metadata": {
    "collapsed": false
   },
   "outputs": [],
   "source": [
    "ind = [map(lambda x: x[1], f).index(i) for i in FEATURES]\n",
    "for i in ind:\n",
    "    print i+1"
   ]
  },
  {
   "cell_type": "code",
   "execution_count": null,
   "metadata": {
    "collapsed": false
   },
   "outputs": [],
   "source": [
    "plt.plot([i[13] for i in X])\n",
    "plt.show()"
   ]
  },
  {
   "cell_type": "code",
   "execution_count": null,
   "metadata": {
    "collapsed": false
   },
   "outputs": [],
   "source": [
    "print FEATURES[13]\n",
    "[i[13] for i in X]"
   ]
  },
  {
   "cell_type": "code",
   "execution_count": null,
   "metadata": {
    "collapsed": false
   },
   "outputs": [],
   "source": [
    "for k in range(0,26):\n",
    "    print FEATURES[k], 10 - [i[k] for i in X].count(0)"
   ]
  }
 ],
 "metadata": {
  "kernelspec": {
   "display_name": "Python 2",
   "language": "python",
   "name": "python2"
  },
  "language_info": {
   "codemirror_mode": {
    "name": "ipython",
    "version": 2
   },
   "file_extension": ".py",
   "mimetype": "text/x-python",
   "name": "python",
   "nbconvert_exporter": "python",
   "pygments_lexer": "ipython2",
   "version": "2.7.6"
  }
 },
 "nbformat": 4,
 "nbformat_minor": 0
}
