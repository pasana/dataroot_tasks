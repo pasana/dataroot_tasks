{
 "cells": [
  {
   "cell_type": "code",
   "execution_count": 1,
   "metadata": {
    "collapsed": false
   },
   "outputs": [],
   "source": [
    "from bookimed_lib import *"
   ]
  },
  {
   "cell_type": "code",
   "execution_count": 2,
   "metadata": {
    "collapsed": true
   },
   "outputs": [],
   "source": [
    "FEATURES = [\n",
    "    \"top_oper_cli\", \n",
    "    \"gen_oper_cli\",\n",
    "    \"top_proc_cli\", \n",
    "    \"gen_proc_cli\", \n",
    "]"
   ]
  },
  {
   "cell_type": "code",
   "execution_count": 3,
   "metadata": {
    "collapsed": false
   },
   "outputs": [],
   "source": [
    "def extract_data(clinic, clinic_estim):\n",
    "    all_proc = clinic['procedures']['diagnostics'] + clinic['procedures']['operations']\n",
    "    X = []\n",
    "    X += [[\n",
    "        #sum([int(i['top']) for i in clinic['procedures']['operations']]), #top_oper_cli\n",
    "        sum([int(i['top']) for i in clinic['procedures']['operations']]) / float(len(clinic['procedures']['operations'])),\n",
    "        len(clinic['procedures']['operations']), #gen_oper_cli\n",
    "        #sum([int(i['top']) for i in all_proc]), #top_proc_cli\n",
    "        sum([int(i['top']) for i in all_proc]) / float(len(all_proc)),\n",
    "        len(all_proc), #gen_proc_cli\n",
    "        ]]\n",
    "    y=[int(clinic_estim['variety'])]\n",
    "    return [X, y]"
   ]
  },
  {
   "cell_type": "code",
   "execution_count": 4,
   "metadata": {
    "collapsed": true
   },
   "outputs": [],
   "source": [
    "def normale(mat):\n",
    "    for i in [0,1,2,3]:\n",
    "        mass = [k[i] for k in mat]\n",
    "        m = max(mass)\n",
    "        if m>0:\n",
    "            for j in mat:\n",
    "                j[i] = round(j[i] / float(m), 4)"
   ]
  },
  {
   "cell_type": "code",
   "execution_count": 5,
   "metadata": {
    "collapsed": true
   },
   "outputs": [],
   "source": [
    "#2\n",
    "def normale(mat):\n",
    "    for i in range(0,len(mat[0])):\n",
    "        mass = [k[i] for k in mat]\n",
    "        mean = np.mean(mass)\n",
    "        mx = max(mass)\n",
    "        mn = min(mass)\n",
    "        if mx!=mn:\n",
    "            for j in mat:\n",
    "                #print j[i], j[i] - mn, mx-mn\n",
    "                j[i] = round((j[i] - mn) / float(mx-mn), 4)\n",
    "                #print j[i]"
   ]
  },
  {
   "cell_type": "code",
   "execution_count": 6,
   "metadata": {
    "collapsed": true
   },
   "outputs": [],
   "source": [
    "def process_with(X,y, info=False, short=False, return_short = False, new_coef = [], ts=0.2):\n",
    "    train_X, test_X, train_y, test_y = cross_validation.train_test_split(X, y, test_size = ts, random_state = 3)\n",
    "    regr = linear_model.LinearRegression(fit_intercept=False, normalize=False)\n",
    "    if new_coef != []:\n",
    "        print \"new coefs\"\n",
    "        regr.coef_ = new_coef\n",
    "    regr.fit(train_X, train_y)\n",
    "    if info:\n",
    "        print \"Total: %d, train: %d, test: %d\" %(len(X), len(train_X), len(test_X))\n",
    "        print(\"Residual sum of squares: %.2f\"% np.mean((regr.predict(test_X) - test_y) ** 2))\n",
    "        print(\"Train absolute: %.2f\"% np.mean(abs(regr.predict(train_X) - train_y)))\n",
    "        print(\"Test absolute: %.2f\"% np.mean(abs(regr.predict(test_X) - test_y)))\n",
    "        print(\"Absolute to mean: %.2f%%\"% (np.mean(abs(regr.predict(test_X) - test_y))/np.mean(test_y)*100))\n",
    "        print('Train variance score: %.2f' % regr.score(train_X, train_y))\n",
    "        print('Test variance score: %.2f' % regr.score(test_X, test_y))\n",
    "    if short:\n",
    "        print \"Total: %d, train: %d, test: %d\" %(len(X), len(train_X), len(test_X))\n",
    "        print \"%.3f\" % np.mean(abs(regr.predict(train_X) - train_y))\n",
    "        print \"%.3f\" % np.mean(abs(regr.predict(test_X) - test_y))\n",
    "        print \"%.3f\" % (np.mean(abs(regr.predict(test_X) - test_y))/np.mean(test_y)*100)\n",
    "        print \"%.3f\" % regr.score(train_X, train_y)\n",
    "        print \"%.3f\" % regr.score(test_X, test_y)\n",
    "    if return_short:\n",
    "        return np.mean(abs(regr.predict(test_X) - test_y)),regr.score(test_X, test_y)\n",
    "    for i in regr.coef_:\n",
    "        print \"%.3f\" % i\n",
    "    #print \"%.3f\" % regr.intercept_\n",
    "    return regr"
   ]
  },
  {
   "cell_type": "code",
   "execution_count": 7,
   "metadata": {
    "collapsed": false
   },
   "outputs": [],
   "source": [
    "X_all, X_1, X_2, X_3, X_4, X_5, y_all, y_1, y_2, y_3, y_4, y_5 = get_X_sets(extract_data)\n",
    "normale(X_all)\n",
    "normale(X_1)\n",
    "normale(X_2)\n",
    "normale(X_3)\n",
    "normale(X_4)\n",
    "normale(X_5)"
   ]
  },
  {
   "cell_type": "code",
   "execution_count": 8,
   "metadata": {
    "collapsed": false,
    "scrolled": true
   },
   "outputs": [
    {
     "name": "stdout",
     "output_type": "stream",
     "text": [
      "1\n",
      "Total: 49, train: 44, test: 5\n",
      "Residual sum of squares: 4.97\n",
      "Train absolute: 1.95\n",
      "Test absolute: 1.38\n",
      "Absolute to mean: 16.85%\n",
      "Train variance score: -1.01\n",
      "Test variance score: -30.04\n",
      "1.549\n",
      "-9.067\n",
      "6.772\n",
      "16.727\n",
      "\n",
      "2\n",
      "Total: 49, train: 39, test: 10\n",
      "Residual sum of squares: 4.17\n",
      "Train absolute: 2.06\n",
      "Test absolute: 1.54\n",
      "Absolute to mean: 18.50%\n",
      "Train variance score: -1.03\n",
      "Test variance score: -5.84\n",
      "2.381\n",
      "-9.953\n",
      "6.094\n",
      "17.105\n",
      "\n",
      "3\n",
      "Total: 49, train: 34, test: 15\n",
      "Residual sum of squares: 5.66\n",
      "Train absolute: 1.98\n",
      "Test absolute: 1.91\n",
      "Absolute to mean: 23.70%\n",
      "Train variance score: -0.74\n",
      "Test variance score: -8.50\n",
      "2.680\n",
      "-8.556\n",
      "5.817\n",
      "16.125\n",
      "\n",
      "4\n",
      "Total: 49, train: 29, test: 20\n",
      "Residual sum of squares: 5.36\n",
      "Train absolute: 2.09\n",
      "Test absolute: 1.88\n",
      "Absolute to mean: 22.92%\n",
      "Train variance score: -0.65\n",
      "Test variance score: -7.13\n",
      "2.320\n",
      "-11.045\n",
      "6.134\n",
      "18.751\n",
      "\n",
      "5\n",
      "Total: 49, train: 24, test: 25\n",
      "Residual sum of squares: 4.65\n",
      "Train absolute: 2.32\n",
      "Test absolute: 1.73\n",
      "Absolute to mean: 20.95%\n",
      "Train variance score: -0.70\n",
      "Test variance score: -5.11\n",
      "2.767\n",
      "-11.370\n",
      "6.082\n",
      "18.486\n",
      "\n"
     ]
    }
   ],
   "source": [
    "for i in range(1,6):\n",
    "    print i\n",
    "    regr = process_with(X_all, y_all, info=True, ts=i/10.0)\n",
    "    print"
   ]
  },
  {
   "cell_type": "code",
   "execution_count": 12,
   "metadata": {
    "collapsed": false
   },
   "outputs": [
    {
     "name": "stdout",
     "output_type": "stream",
     "text": [
      "Total: 49, train: 39, test: 10\n",
      "Residual sum of squares: 4.17\n",
      "Train absolute: 2.06\n",
      "Test absolute: 1.54\n",
      "Absolute to mean: 18.50%\n",
      "Train variance score: -1.03\n",
      "Test variance score: -5.84\n",
      "2.381\n",
      "-9.953\n",
      "6.094\n",
      "17.105\n"
     ]
    }
   ],
   "source": [
    "regr = process_with(X_all, y_all, info=True, ts=0.2)"
   ]
  },
  {
   "cell_type": "code",
   "execution_count": 10,
   "metadata": {
    "collapsed": false
   },
   "outputs": [
    {
     "data": {
      "text/plain": [
       "array([  2.38142122,  -9.95300862,   6.09372163,  17.10517242])"
      ]
     },
     "execution_count": 10,
     "metadata": {},
     "output_type": "execute_result"
    }
   ],
   "source": [
    "regr.coef_"
   ]
  },
  {
   "cell_type": "code",
   "execution_count": null,
   "metadata": {
    "collapsed": false
   },
   "outputs": [],
   "source": [
    "print \"Features sorted by their score:\"\n",
    "#f = sorted(zip(map(lambda x: round(x, 4), regr.coef_), FEATURES), reverse=True)\n",
    "f = zip(map(lambda x: round(x, 4), regr.coef_), FEATURES)\n",
    "print regr.intercept_\n",
    "print len(FEATURES)\n",
    "for i in f:\n",
    "    print \"%4f \\t %s\" %(i[0], i[1])\n",
    "    #print i[0]"
   ]
  },
  {
   "cell_type": "code",
   "execution_count": null,
   "metadata": {
    "collapsed": false
   },
   "outputs": [],
   "source": [
    "f = sorted(zip(map(lambda x: round(x, 4), regr.coef_), FEATURES), reverse=True)\n",
    "ind = [map(lambda x: x[1], f).index(i) for i in FEATURES]\n",
    "for i in ind:\n",
    "    print i+1"
   ]
  },
  {
   "cell_type": "code",
   "execution_count": null,
   "metadata": {
    "collapsed": false
   },
   "outputs": [],
   "source": [
    "import warnings\n",
    "warnings.filterwarnings(\"ignore\")\n",
    "for i in range(0,len(y_4)):\n",
    "    print \"Real: %f \\t Predicted: %f\" %(y_4[i], regr.predict(X_4[i]))\n",
    "    print X_4[i]\n",
    "    print sum(np.array(X_4[i]) * np.array([-3.094, -7.545, 11.025, 9.011]))\n",
    "    print"
   ]
  },
  {
   "cell_type": "code",
   "execution_count": null,
   "metadata": {
    "collapsed": false
   },
   "outputs": [],
   "source": [
    "plt.plot([i[2] for i in X_all])\n",
    "plt.show()"
   ]
  },
  {
   "cell_type": "code",
   "execution_count": null,
   "metadata": {
    "collapsed": false
   },
   "outputs": [],
   "source": [
    "print FEATURES[8]\n",
    "[i[22] for i in X]"
   ]
  },
  {
   "cell_type": "code",
   "execution_count": null,
   "metadata": {
    "collapsed": false
   },
   "outputs": [],
   "source": [
    "for k in range(0,26):\n",
    "    print FEATURES[k], 10 - [i[k] for i in X].count(0)"
   ]
  }
 ],
 "metadata": {
  "kernelspec": {
   "display_name": "Python 2",
   "language": "python",
   "name": "python2"
  },
  "language_info": {
   "codemirror_mode": {
    "name": "ipython",
    "version": 2
   },
   "file_extension": ".py",
   "mimetype": "text/x-python",
   "name": "python",
   "nbconvert_exporter": "python",
   "pygments_lexer": "ipython2",
   "version": "2.7.6"
  }
 },
 "nbformat": 4,
 "nbformat_minor": 0
}
