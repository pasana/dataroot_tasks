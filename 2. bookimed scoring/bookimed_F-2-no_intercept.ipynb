{
 "cells": [
  {
   "cell_type": "code",
   "execution_count": 1,
   "metadata": {
    "collapsed": false
   },
   "outputs": [],
   "source": [
    "from bookimed_lib import *\n",
    "from math import sqrt"
   ]
  },
  {
   "cell_type": "code",
   "execution_count": null,
   "metadata": {
    "collapsed": true
   },
   "outputs": [],
   "source": [
    "#ed = [ 1.36042885,  6.88723337, -2.75371749,  6.10902385] #30%\n",
    "ed = [ 11.91556902,   2.57126826,   2.02539935,   7.31073568] #10% with % no 0\n",
    "gd = [ 2.20655132,  0.56137078, -0.34676471,  3.05318613,  3.00630209, 9.72031092] #20%\n",
    "#gp = [ 8.21105664, -33.91364673,  11.01504383,  27.19710437] #50%\n",
    "gp = [  4.00621326, -16.21028222,   5.83723422,  23.46461818] #20% with %"
   ]
  },
  {
   "cell_type": "code",
   "execution_count": 2,
   "metadata": {
    "collapsed": true
   },
   "outputs": [],
   "source": [
    "ed = [ 7.97595949,  2.99958054,  3.14614609,  6.00143112] #30% with % no 0\n",
    "gd = [ 6.2984266 , -1.61526884,  3.0026383 ,  0.97934334,  0.34856172, 4.35150172] #40%\n",
    "gp = [  2.38142122,  -9.95300862,   6.09372163,  17.10517242] #20% with %"
   ]
  },
  {
   "cell_type": "code",
   "execution_count": 3,
   "metadata": {
    "collapsed": false
   },
   "outputs": [],
   "source": [
    "FEATURES = [\n",
    "    \"gd\",\n",
    "    \"ed\",\n",
    "    \"gp\",\n",
    "#    \"isr\",\n",
    "    \"large\", \n",
    "     \"top\", \n",
    "#    \"speed_level\",\n",
    "    \"speed_level 1\",\n",
    "    \"speed_level 2\",\n",
    "    \"speed_level 3\",\n",
    "    \"price\",\n",
    "#    \"price_level 1\",\n",
    "#    \"price_level 2\",\n",
    "#    \"price_level 3\",\n",
    "#    \"views\", \n",
    "]"
   ]
  },
  {
   "cell_type": "code",
   "execution_count": 4,
   "metadata": {
    "collapsed": true
   },
   "outputs": [],
   "source": [
    "def get_speed_level(speed_level):\n",
    "    if speed_level == 1:\n",
    "        #return  [1]\n",
    "        return [1,0,0]\n",
    "        #print X[-1], speed_level\n",
    "    elif speed_level == 2:\n",
    "        #return [0.4]\n",
    "        return [0,1,0]\n",
    "        #print X[-1], speed_level\n",
    "    elif speed_level == 3:\n",
    "        #return [0.1]\n",
    "        return [0,0,1]\n",
    "        #print X[-1], speed_level\n",
    "    else:\n",
    "        #return [0]\n",
    "        return [0,0,0]\n",
    "        #print X[-1], speed_level"
   ]
  },
  {
   "cell_type": "code",
   "execution_count": 5,
   "metadata": {
    "collapsed": false
   },
   "outputs": [],
   "source": [
    "def extract_data(clinic, clinic_estim):\n",
    "    all_proc = clinic['procedures']['diagnostics'] + clinic['procedures']['operations']\n",
    "    all_doc = clinic['doctors']\n",
    "    X = []\n",
    "    for doc in all_doc:\n",
    "        ids_diad = [i['id'] for i in doc['procedures']['diagnostics'] if i['top']=='1']\n",
    "        ids_oper = [i['id'] for i in doc['procedures']['operations'] if i['top']=='1']\n",
    "        if doc['procedures']['diagnostics'] != [] and doc['procedures']['operations'] != []:\n",
    "            X+=[[]]\n",
    "            #gd 0-6\n",
    "            X[-1]+=[doc['degree'].count(u'Профессор')]\n",
    "            X[-1]+=[int(doc['top'])]\n",
    "            X[-1]+=[len(doc['illnesses'])]\n",
    "            X[-1]+=[len(doc['languages'])]\n",
    "            X[-1]+=[int(doc['h_index'])]\n",
    "            X[-1]+=[int(doc['experience'])]\n",
    "            #ed 6-10\n",
    "            #X[-1]+=[len(list(set(ids_diad)))]\n",
    "            if len(doc['procedures']['diagnostics']) != 0:\n",
    "                X[-1]+= [sqrt(len(list(set(ids_diad))) / float(len(doc['procedures']['diagnostics'])))]\n",
    "            else:\n",
    "                X[-1] += [0]\n",
    "            X[-1]+=[len(doc['procedures']['diagnostics'])]\n",
    "            #X[-1]+=[len(list(set(ids_oper)))]\n",
    "            if len(doc['procedures']['operations']) != 0:\n",
    "                X[-1] += [sqrt(len(list(set(ids_oper))) / float(len(doc['procedures']['operations'])))]\n",
    "            else:\n",
    "                X[-1] += [0]\n",
    "            X[-1]+=[len(doc['procedures']['operations'])]\n",
    "            #gp 10-14\n",
    "            X[-1]+=[sqrt(sum([int(i['top']) for i in clinic['procedures']['diagnostics']]) / float(len(clinic['procedures']['diagnostics'])))] #top_proc_cli\n",
    "            X[-1]+=[len(clinic['procedures']['diagnostics'])] #gen_proc_cli\n",
    "            X[-1]+=[sqrt(sum([int(i['top']) for i in clinic['procedures']['operations']]) / float(len(clinic['procedures']['operations'])))] #top_oper_cli\n",
    "            X[-1]+=[len(clinic['procedures']['operations'])] #gen_oper_cli\n",
    "            #\n",
    "            c_id = int(clinic['country_id'])\n",
    "    #        if c_id == 1:\n",
    "    #            X[-1]+=[1]\n",
    "    #        else:\n",
    "    #            X[-1]+=[0]\n",
    "            #X[-1]+=[int(clinic['views'])]\n",
    "            X[-1]+=[int(clinic['large'])]\n",
    "            X[-1]+=[int(clinic['top'])]\n",
    "            #X[-1]+=[int(clinic['speed_level'])]\n",
    "            X[-1]+=get_speed_level(int(clinic['speed_level']))\n",
    "            #X[-1]+=get_speed_level(int(clinic['price_level']))\n",
    "            X[-1]+=[round(int(clinic['price_level'])/3.0,4)]\n",
    "\n",
    "            #X[-1] += [clinic['country_id']]\n",
    "            #X[-1]+=[int(clinic['count_reviews'])]\n",
    "            #X[-1]+=[int(clinic[\"count_orders\"])]\n",
    "        else:\n",
    "            print clinic['id']\n",
    "    if clinic_estim != []:\n",
    "        y=[int(clinic_estim['rating'])] * len(X)\n",
    "        return [X, y]\n",
    "    else:\n",
    "        return X"
   ]
  },
  {
   "cell_type": "code",
   "execution_count": 6,
   "metadata": {
    "collapsed": true
   },
   "outputs": [],
   "source": [
    "def pack(X, gd, ed, gp):\n",
    "    new_X = []\n",
    "    for x in X:\n",
    "        new_X+= [sum([\n",
    "            [round(sum(np.array(gd)*np.array(x[0:6])),5)],\n",
    "            [round(sum(np.array(ed)*np.array(x[6:10])),5)],\n",
    "            [round(sum(np.array(gp)*np.array(x[10:14])),5)],\n",
    "            x[14:]\n",
    "        ],[])]\n",
    "    return new_X"
   ]
  },
  {
   "cell_type": "code",
   "execution_count": 7,
   "metadata": {
    "collapsed": true
   },
   "outputs": [],
   "source": [
    "#1\n",
    "def normale(mat):\n",
    "    for i in range(0,len(mat[0])):\n",
    "        mass = [abs(k[i]) for k in mat]\n",
    "        m = max(mass)\n",
    "        if m>0:\n",
    "            for j in mat:\n",
    "                j[i] = round(j[i] / float(m), 4)"
   ]
  },
  {
   "cell_type": "code",
   "execution_count": 8,
   "metadata": {
    "collapsed": true
   },
   "outputs": [],
   "source": [
    "#2\n",
    "def normale(mat):\n",
    "    for i in range(0,len(mat[0])):\n",
    "        mass = [k[i] for k in mat]\n",
    "        mean = np.mean(mass)\n",
    "        mx = max(mass)\n",
    "        mn = min(mass)\n",
    "        if mx!=mn:\n",
    "            for j in mat:\n",
    "                #print j[i], j[i] - mn, mx-mn\n",
    "                j[i] = round((j[i] - mn) / float(mx-mn), 4)\n",
    "                #print j[i]"
   ]
  },
  {
   "cell_type": "code",
   "execution_count": null,
   "metadata": {
    "collapsed": true
   },
   "outputs": [],
   "source": [
    "#3\n",
    "def normale(mat):\n",
    "    for i in range(0,len(mat[0])):\n",
    "        mass = [k[i] for k in mat]\n",
    "        mean = np.mean(mass)\n",
    "        mx = max(mass)\n",
    "        mn = min(mass)\n",
    "        if mx!=mn:\n",
    "            for j in mat:\n",
    "                j[i] = round((j[i] - mean) / float(mx-mn), 4)"
   ]
  },
  {
   "cell_type": "code",
   "execution_count": null,
   "metadata": {
    "collapsed": true
   },
   "outputs": [],
   "source": [
    "#4\n",
    "def normale(mat):\n",
    "    for i in range(0,len(mat[0])):\n",
    "        mass = [k[i] for k in mat]\n",
    "        mean = np.mean(mass)\n",
    "        if mean!=0:\n",
    "            for j in mat:\n",
    "                j[i] = round((j[i] / mean), 4)\n",
    "        else:\n",
    "            print mean, mass"
   ]
  },
  {
   "cell_type": "code",
   "execution_count": null,
   "metadata": {
    "collapsed": true
   },
   "outputs": [],
   "source": [
    "#5\n",
    "def normale(mat):\n",
    "    for i in range(0,len(mat[0])):\n",
    "        mass = [k[i] for k in mat]\n",
    "        mean = np.mean(mass)\n",
    "        std = np.std(mass)\n",
    "        if std!=0:\n",
    "            for j in mat:\n",
    "                #print j[i], j[i] - mn, mx-mn\n",
    "                j[i] = round((j[i] - mean) / std, 4)\n",
    "                #print j[i]\n",
    "        else:\n",
    "            print std, mass"
   ]
  },
  {
   "cell_type": "code",
   "execution_count": 9,
   "metadata": {
    "collapsed": false
   },
   "outputs": [
    {
     "name": "stdout",
     "output_type": "stream",
     "text": [
      "1\n",
      "1\n",
      "8\n",
      "134\n",
      "8\n",
      "8\n",
      "8\n",
      "1\n",
      "1\n",
      "1\n",
      "1\n",
      "1\n",
      "8\n",
      "8\n",
      "1\n",
      "1\n",
      "8\n",
      "1\n",
      "1\n",
      "8\n",
      "\n",
      "\n"
     ]
    }
   ],
   "source": [
    "X_all, X_1, X_2, X_3, X_4, X_5, y_all, y_1, y_2, y_3, y_4, y_5 = get_X_sets(extract_data)\n",
    "normale(X_all)\n",
    "X_all=pack(X_all,gd, ed, gp)\n",
    "normale(X_all)\n",
    "\n",
    "normale(X_1)\n",
    "X_1=pack(X_1,gd, ed, gp)\n",
    "normale(X_1)\n",
    "\n",
    "normale(X_2)\n",
    "X_2=pack(X_2,gd, ed, gp)\n",
    "normale(X_2)\n",
    "\n",
    "normale(X_3)\n",
    "X_3=pack(X_3,gd, ed, gp)\n",
    "normale(X_3)\n",
    "\n",
    "normale(X_4)\n",
    "X_4=pack(X_4,gd, ed, gp)\n",
    "normale(X_4)\n",
    "print\n",
    "print\n",
    "normale(X_5)\n",
    "X_5=pack(X_5,gd, ed, gp)\n",
    "normale(X_5)\n",
    "\n",
    "sp = 100"
   ]
  },
  {
   "cell_type": "code",
   "execution_count": null,
   "metadata": {
    "collapsed": false,
    "scrolled": true
   },
   "outputs": [],
   "source": [
    "X_all, X_1, X_2, X_3, X_4, X_5, y_all, y_1, y_2, y_3, y_4, y_5 = get_X_sets(extract_data)\n",
    "\n",
    "X_all[0][14:]"
   ]
  },
  {
   "cell_type": "code",
   "execution_count": 10,
   "metadata": {
    "collapsed": false
   },
   "outputs": [
    {
     "data": {
      "text/plain": [
       "44"
      ]
     },
     "execution_count": 10,
     "metadata": {},
     "output_type": "execute_result"
    }
   ],
   "source": [
    "len(X_all)"
   ]
  },
  {
   "cell_type": "code",
   "execution_count": null,
   "metadata": {
    "collapsed": true
   },
   "outputs": [],
   "source": [
    "for X in [X_1, X_2, X_3, X_4, X_5]:\n",
    "    a=pd.ewma(pd.DataFrame([np.linalg.norm(i[0]) for i in X]), span=sp)\n",
    "    b=pd.ewma(pd.DataFrame([np.linalg.norm(i[1]) for i in X]), span=sp)\n",
    "    c=pd.ewma(pd.DataFrame([np.linalg.norm(i[2]) for i in X]), span=sp)\n",
    "    for i in range(0, len(X)):\n",
    "        X[i][0:3] = [a[0][i], b[0][i], c[0][i]]"
   ]
  },
  {
   "cell_type": "code",
   "execution_count": null,
   "metadata": {
    "collapsed": false
   },
   "outputs": [],
   "source": [
    "r=0\n",
    "l=0\n",
    "a = []\n",
    "b = []\n",
    "c = []\n",
    "\n",
    "for length in [len(X_1), len(X_2), len(X_3), len(X_4), len(X_5)]:\n",
    "    l=r\n",
    "    r+=length\n",
    "    a=pd.ewma(pd.DataFrame([np.linalg.norm(i[0]) for i in X_all[l:r]]), span=sp)\n",
    "    b=pd.ewma(pd.DataFrame([np.linalg.norm(i[1]) for i in X_all[l:r]]), span=sp)\n",
    "    c=pd.ewma(pd.DataFrame([np.linalg.norm(i[2]) for i in X_all[l:r]]), span=sp)\n",
    "    for i in range(0, length):\n",
    "        X_all[l+i][0:3] = [a[0][i], b[0][i], c[0][i]]"
   ]
  },
  {
   "cell_type": "code",
   "execution_count": null,
   "metadata": {
    "collapsed": false,
    "scrolled": true
   },
   "outputs": [],
   "source": [
    "for i in range(1,7):\n",
    "    print i\n",
    "    regr = process_with(X_all, y_all, info=True, ts=i/10.0)\n",
    "    print"
   ]
  },
  {
   "cell_type": "code",
   "execution_count": 15,
   "metadata": {
    "collapsed": false
   },
   "outputs": [
    {
     "name": "stdout",
     "output_type": "stream",
     "text": [
      "Total: 44, train: 39, test: 5\n",
      "Residual sum of squares: 3.24\n",
      "Train absolute: 1.76\n",
      "Test absolute: 1.64\n",
      "Absolute to mean: 30.45%\n",
      "Train variance score: 0.49\n",
      "Test variance score: 0.54\n"
     ]
    }
   ],
   "source": [
    "regr = process_with(X_all, y_all, info=True, ts=0.1)"
   ]
  },
  {
   "cell_type": "code",
   "execution_count": null,
   "metadata": {
    "collapsed": true
   },
   "outputs": [],
   "source": [
    "for x in [X_1, X_2, X_3, X_4, X_5]:\n",
    "    print \"min %f\" % min([i[2] for i in x])\n",
    "    print \"max %f\" % max([i[2] for i in x])\n",
    "    print"
   ]
  },
  {
   "cell_type": "code",
   "execution_count": null,
   "metadata": {
    "collapsed": false,
    "scrolled": true
   },
   "outputs": [],
   "source": [
    "for X,y in [(X_1, y_1),(X_2, y_2),(X_3, y_3),(X_4, y_4),(X_5, y_5)]:\n",
    "    print \"---\"\n",
    "    regr = process_with(X, y, ts=get_best_ts(X, y))\n",
    "    print \"---!\"\n",
    "    f = zip(map(lambda x: round(x, 4), regr.coef_), FEATURES)\n",
    "    for i in f:\n",
    "        #print \"%4f \\t %s\" %(i[0], i[1])\n",
    "        print i[0] #, i[1]\n",
    "    print regr.intercept_\n",
    "    print \"!\"\n",
    "    f = sorted(zip(map(lambda x: round(x, 4), regr.coef_), FEATURES), reverse=True)\n",
    "    ind = [map(lambda x: x[1], f).index(i) for i in FEATURES]\n",
    "    for i in ind:\n",
    "        print i+1"
   ]
  },
  {
   "cell_type": "code",
   "execution_count": null,
   "metadata": {
    "collapsed": false
   },
   "outputs": [],
   "source": [
    "print \"Features sorted by their score:\"\n",
    "#f = sorted(zip(map(lambda x: round(x, 4), regr.coef_), FEATURES), reverse=True)\n",
    "f = zip(map(lambda x: round(x, 4), regr.coef_), FEATURES)\n",
    "print len(FEATURES)\n",
    "for i in f:\n",
    "    print \"%4f \\t %s\" %(i[0], i[1])\n",
    "    #print i[0] #, i[1]\n",
    "print regr.intercept_"
   ]
  },
  {
   "cell_type": "code",
   "execution_count": null,
   "metadata": {
    "collapsed": false
   },
   "outputs": [],
   "source": [
    "f = sorted(zip(map(lambda x: round(x, 4), regr.coef_), FEATURES), reverse=True)\n",
    "ind = [map(lambda x: x[1], f).index(i) for i in FEATURES]\n",
    "for i in ind:\n",
    "    print i+1"
   ]
  },
  {
   "cell_type": "code",
   "execution_count": null,
   "metadata": {
    "collapsed": false
   },
   "outputs": [],
   "source": [
    "regr = process_with(X_1, y_1, ts=get_best_ts(X_1, y_1))"
   ]
  },
  {
   "cell_type": "code",
   "execution_count": null,
   "metadata": {
    "collapsed": false
   },
   "outputs": [],
   "source": [
    "this_path"
   ]
  },
  {
   "cell_type": "code",
   "execution_count": null,
   "metadata": {
    "collapsed": false
   },
   "outputs": [],
   "source": [
    "with open('%s/меланома_все.json'%this_path) as data_file: #2\n",
    "#with open('%s/рак_груди_все.json'%this_path) as data_file: #0\n",
    "#with open('%s/рак_простаты_все.json'%this_path) as data_file: #4\n",
    "#with open('%s/рак_шейки_матки_все.json'%this_path) as data_file: #1\n",
    "#with open('%s/рак_щитовидки_все.json'%this_path) as data_file: #3\n",
    "    cancer_data = json.load(data_file)[0]['clinics']\n",
    "X_test, names, ids = get_X_from(cancer_data, extract_data)\n",
    "normale(X_test)\n",
    "X_test = pack(X_test,gd, ed, gp)\n",
    "normale(X_test)"
   ]
  },
  {
   "cell_type": "code",
   "execution_count": null,
   "metadata": {
    "collapsed": false
   },
   "outputs": [],
   "source": [
    "import warnings\n",
    "warnings.filterwarnings(\"ignore\")\n",
    "results=[]\n",
    "for i in range(0, len(X_test)):\n",
    "    results += [(regr.predict(X_test[i])[0], names[i])]\n",
    "\n",
    "res=[]\n",
    "for n in set(names):\n",
    "    indices = [j for j, x in enumerate(results) if x[1] == n]\n",
    "    m = max([i[0] for i in results[min(indices):max(indices)+1]])\n",
    "    res+=[(m,n, ids[indices[0]])]\n",
    "\n",
    "for r in res:\n",
    "#for r in sorted(results, reverse=True):\n",
    "    #print \"%2.2f \\t %s\" % (r[0], r[1])\n",
    "    print r[0]"
   ]
  },
  {
   "cell_type": "code",
   "execution_count": null,
   "metadata": {
    "collapsed": false
   },
   "outputs": [],
   "source": [
    "pos = [10 - sorted(res, reverse=True).index(x) for x in res]\n",
    "for p in pos:\n",
    "    print p"
   ]
  },
  {
   "cell_type": "code",
   "execution_count": null,
   "metadata": {
    "collapsed": false,
    "scrolled": true
   },
   "outputs": [],
   "source": [
    "import warnings\n",
    "warnings.filterwarnings(\"ignore\")\n",
    "for i in range(0,len(y_2)):    \n",
    "    print \"Real: %f \\t Predicted: %f\" %(y_2[i], regr.predict(X_2[i]))\n",
    "    print X_2[i]\n",
    "    print\n",
    "    #print y_all[i]\n",
    "    #print regr.predict(X_all[i])[0]"
   ]
  },
  {
   "cell_type": "code",
   "execution_count": null,
   "metadata": {
    "collapsed": false
   },
   "outputs": [],
   "source": [
    "f=0\n",
    "for feature in [\"gd\", \"ed\", \"gp\"]:\n",
    "    k=0\n",
    "    for X in [X_1, X_2, X_3, X_4, X_5]:\n",
    "        k += 1\n",
    "        plt.plot(sorted([i[f] for i in X]))\n",
    "        #plt.show()\n",
    "        plt.savefig('%s - X%d.png' % (feature, k))\n",
    "        plt.clf()\n",
    "    f+=1"
   ]
  },
  {
   "cell_type": "code",
   "execution_count": null,
   "metadata": {
    "collapsed": false
   },
   "outputs": [],
   "source": [
    "f=0\n",
    "for feature in [\"gd\", \"ed\", \"gp\"]:\n",
    "    mass = [i[f] for i in X_all]\n",
    "    k=0\n",
    "    r=0\n",
    "    l=0\n",
    "    for length in [len(X_1), len(X_2), len(X_3), len(X_4), len(X_5)]:\n",
    "        l=r\n",
    "        r+=length\n",
    "        k+=1\n",
    "        plt.plot(sorted(mass[l:r]), label=\"X%d\"%k)\n",
    "        plt.ylim([min(mass),1])\n",
    "        legend = plt.legend(loc=4, shadow=True)\n",
    "        #plt.show()\n",
    "    plt.savefig('%s.png' % (feature))\n",
    "    plt.clf()\n",
    "    f+=1"
   ]
  },
  {
   "cell_type": "code",
   "execution_count": null,
   "metadata": {
    "collapsed": false
   },
   "outputs": [],
   "source": [
    "plt.plot([np.linalg.norm(i) for i in X_5], color='black')\n",
    "plt.xticks(())\n",
    "plt.yticks(())\n",
    "plt.show()"
   ]
  },
  {
   "cell_type": "code",
   "execution_count": null,
   "metadata": {
    "collapsed": false
   },
   "outputs": [],
   "source": [
    "f=0\n",
    "for feature in [\"gd\", \"ed\", \"gp\"]:\n",
    "    mass = [i[f] for i in X_all]\n",
    "    k=0\n",
    "    r=0\n",
    "    l=0\n",
    "    for length in [len(X_1), len(X_2), len(X_3), len(X_4), len(X_5)]:\n",
    "        l=r\n",
    "        r+=length\n",
    "        k+=1\n",
    "        plt.plot(y_all[l:r], [i[f] for i in X_all[l:r]], label=\"X%d\"%k)\n",
    "        plt.ylim([min(mass),1])\n",
    "        plt.xlim([0,11])\n",
    "        legend = plt.legend(loc=4, shadow=True)\n",
    "        plt.savefig('%s - X%d.png' % (feature, k))\n",
    "        plt.show()\n",
    "        plt.clf()\n",
    "    f+=1"
   ]
  },
  {
   "cell_type": "code",
   "execution_count": null,
   "metadata": {
    "collapsed": false
   },
   "outputs": [],
   "source": [
    "k=0\n",
    "r=0\n",
    "l=0\n",
    "for length in [len(X_1), len(X_2), len(X_3), len(X_4), len(X_5)]:\n",
    "    l=r\n",
    "    r+=length\n",
    "    k+=1\n",
    "    plt.plot(y_all[l:r], [np.linalg.norm(i) for i in X_all[l:r]], label=\"X%d\"%k)\n",
    "    legend = plt.legend(loc=4, shadow=True)\n",
    "    plt.xlim([0,11])\n",
    "    plt.savefig('norms - X%d.png'%k)\n",
    "    plt.clf()"
   ]
  },
  {
   "cell_type": "code",
   "execution_count": null,
   "metadata": {
    "collapsed": false
   },
   "outputs": [],
   "source": [
    "print FEATURES[2]\n",
    "print [i[0] for i in X_1]\n",
    "print [i for i in y_1]"
   ]
  },
  {
   "cell_type": "code",
   "execution_count": null,
   "metadata": {
    "collapsed": false
   },
   "outputs": [],
   "source": [
    "for k in range(0,26):\n",
    "    print FEATURES[k], 10 - [i[k] for i in X].count(0)"
   ]
  },
  {
   "cell_type": "code",
   "execution_count": null,
   "metadata": {
    "collapsed": false
   },
   "outputs": [],
   "source": [
    "x = [i[-2] for i in X_all]\n",
    "y_top = []\n",
    "y_n_top = []\n",
    "for l in range(0, len(x)):\n",
    "    if x:\n",
    "        y_top += [y[l]]\n",
    "    else:\n",
    "        y_n_top += [y[l]]\n",
    "#for l in range(0, len(x)):\n",
    "    #print x[l], y[l]"
   ]
  },
  {
   "cell_type": "code",
   "execution_count": null,
   "metadata": {
    "collapsed": false
   },
   "outputs": [],
   "source": [
    "for i in range(1,11):\n",
    "    print i, y_top.count(i)"
   ]
  },
  {
   "cell_type": "code",
   "execution_count": null,
   "metadata": {
    "collapsed": false
   },
   "outputs": [],
   "source": [
    "plt.plot( x, y_all, 'ro')\n",
    "plt.show()"
   ]
  },
  {
   "cell_type": "code",
   "execution_count": null,
   "metadata": {
    "collapsed": true
   },
   "outputs": [],
   "source": [
    "#for table filling\n",
    "res_X = []\n",
    "res_y = []\n",
    "for X,y in [(X_1, y_1),(X_2, y_2),(X_3, y_3),(X_4, y_4),(X_5, y_5)]:\n",
    "#for X,y in [(X_5, y_5)]:\n",
    "    for i in range(10,0,-1):\n",
    "        try:\n",
    "            indices = [j for j, x in enumerate(y) if x == i]\n",
    "            res_X += [max(regr.predict(X[min(indices):max(indices)+1]))]\n",
    "            res_y += [i]\n",
    "            #print res_X[-1], res_y[-1]\n",
    "        except Exception, err:\n",
    "            #print err, i, indices\n",
    "            pass\n",
    "for x in res_X:\n",
    "    print x"
   ]
  },
  {
   "cell_type": "code",
   "execution_count": null,
   "metadata": {
    "collapsed": false
   },
   "outputs": [],
   "source": [
    "pl = [ round(3*i[-1],0) for i in X_all]\n",
    "plt.hist(pl, bins=4)\n",
    "plt.title(\"Price level distribution\")\n",
    "plt.xlabel(\"Price level\")\n",
    "plt.ylabel(\"Frequency\")\n",
    "\n",
    "plt.show()"
   ]
  },
  {
   "cell_type": "code",
   "execution_count": null,
   "metadata": {
    "collapsed": false
   },
   "outputs": [],
   "source": [
    "indices = [i for i, x in enumerate(y_1) if x == 2]\n",
    "print indices\n",
    "for ind in indices:\n",
    "    print regr.predict(X_1[ind])\n",
    "\n",
    "print max(regr.predict(X_1[min(indices):max(indices)+1]))"
   ]
  },
  {
   "cell_type": "code",
   "execution_count": null,
   "metadata": {
    "collapsed": false
   },
   "outputs": [],
   "source": [
    "import xlsxwriter\n",
    "\n",
    "workbook = xlsxwriter.Workbook('Positions.xlsx')\n",
    "#list 1\n",
    "worksheet = workbook.add_worksheet(\"Рак кожи\")\n",
    "worksheet.freeze_panes(1, 0)\n",
    "col = 0\n",
    "row = 0\n",
    "\n",
    "temp = [u\"Клиника\", u\"Оценка (все)\", u\"Позиция (все)\", u\"Оценка (свои)\", u\"Позиция (свои)\", u\"Оценка (свои+vec pl)\", u\"Позиция (свои+vec pl)\", u\"Оценка врача\", u\"Позиция врача\", u\"Позиция на сайте\"]\n",
    "for i in temp:\n",
    "    worksheet.write(row, col, i)\n",
    "    col+=1\n",
    "\n",
    "row=1\n",
    "col=0\n",
    "\n",
    "# num and clinic name for any model\n",
    "for i, el in enumerate(zip(res,pos)):\n",
    "    worksheet.write(row, 0, i)\n",
    "    print el[0][1]\n",
    "    worksheet.write_string(row, 1, el[0][1].encode('utf-8').replace('ё', 'е'))\n",
    "    row+=1\n",
    "\n",
    "#rate and pos of model\n",
    "for el in zip(res,pos):    \n",
    "    worksheet.write(row, 2, el[0][0])\n",
    "    worksheet.write(row, 3, el[1])\n",
    "\n",
    "workbook.close()"
   ]
  },
  {
   "cell_type": "code",
   "execution_count": null,
   "metadata": {
    "collapsed": false
   },
   "outputs": [],
   "source": [
    "len(X_all)"
   ]
  },
  {
   "cell_type": "code",
   "execution_count": 16,
   "metadata": {
    "collapsed": false
   },
   "outputs": [],
   "source": [
    "#creare xlsx file for model trained on ALL data\n",
    "\n",
    "import xlsxwriter\n",
    "\n",
    "#pre\n",
    "f = zip(map(lambda x: round(x, 4), regr.coef_), FEATURES)\n",
    "#f = zip(map(lambda x: round(x, 4), [0] * len(FEATURES)), FEATURES)\n",
    "#for table filling\n",
    "res_X = []\n",
    "res_y = []\n",
    "t_amounts = [0]\n",
    "amounts = []\n",
    "\n",
    "for X,y in [(X_1, y_1),(X_2, y_2),(X_3, y_3),(X_4, y_4),(X_5, y_5)]:\n",
    "    #regr = process_with(X, y, ts=get_best_ts(X, y))\n",
    "    for i in range(10,0,-1):\n",
    "        try:\n",
    "            indices = [j for j, x in enumerate(y) if x == i]\n",
    "            res_X += [max(regr.predict(X[min(indices):max(indices)+1]))]\n",
    "            res_y += [i]\n",
    "            #print res_X[-1], res_y[-1]\n",
    "        except Exception, err:\n",
    "            #print err, i, indices\n",
    "            pass\n",
    "    t_amounts += [len(res_y)]\n",
    "\n",
    "\n",
    "for i in range(1, len(t_amounts)):\n",
    "    amounts += [t_amounts[i] - t_amounts[i-1]]\n",
    "    \n",
    "l=0\n",
    "r=0\n",
    "all_pos_model = []\n",
    "all_pos_doctor = []\n",
    "seq_pr = []\n",
    "top_3 = []\n",
    "top_3_strict = []\n",
    "for i in amounts:\n",
    "    l=r\n",
    "    r+=i\n",
    "    pos_for_x = [10-sorted(res_X[l:r], reverse=True).index(x) for x in res_X[l:r]]\n",
    "    all_pos_model += pos_for_x\n",
    "    all_pos_doctor += [10-sorted(res_y[l:r], reverse=True).index(x) for x in res_y[l:r]]\n",
    "    seq_pr += [seq_procent(pos_for_x)]\n",
    "    top_3 += [len(set([10,9,8]).intersection(pos_for_x[0:3]))]\n",
    "    top_3_strict += [sum(pos_for_x[0:3] == np.array([10,9,8]))]\n",
    "\n",
    "ranges = []\n",
    "r=1\n",
    "for a in amounts:\n",
    "    l=r+1\n",
    "    r=l+a-1\n",
    "    ranges+= [(l,r)]\n",
    "\n",
    "\n",
    "illnesses = [u\"Рак кожи\", u\"Рак груди\", u\"Рак простаты\", u\"Рак шейки матки\", u\"Рак щитовидки\"]\n",
    "\n",
    "\n",
    "workbook = xlsxwriter.Workbook('./reports/to_choose/M17:old data, sp, pl, om intercept,sqrt % insted top, no 0 and, 10%.xls')\n",
    "\n",
    "#list 1\n",
    "worksheet = workbook.add_worksheet(\"coef\")\n",
    "worksheet.write(0, 0, \"f\")\n",
    "worksheet.write(0, 2, \"rating\")\n",
    "\n",
    "row = 1\n",
    "col = 2\n",
    "\n",
    "for num, feat in f:\n",
    "    worksheet.write(row, col, feat)\n",
    "    worksheet.write(row, col+1, num)\n",
    "    row+=1\n",
    "\n",
    "worksheet.write(row, col, \"intercept\")\n",
    "worksheet.write(row, col+1, regr.intercept_)\n",
    "row+=2\n",
    "col=0\n",
    "\n",
    "r=row\n",
    "\n",
    "worksheet.write(row, col, \"GD\")\n",
    "worksheet.write(row, col+2, \"specialist\")\n",
    "row+=1\n",
    "\n",
    "f_ = zip(map(lambda x: round(x, 4), gd), [\"deg\", \"top\", \"illn\", \"lang\", \"h_index\", \"exp\", \"intercept\"])\n",
    "for i, el in enumerate(f_):\n",
    "    worksheet.write(row, col, \"c_%d\"%i)\n",
    "    worksheet.write(row, col+1, el[0])\n",
    "    worksheet.write(row, col+2, el[1])\n",
    "    row+=1\n",
    "\n",
    "row = r\n",
    "col += 4\n",
    "worksheet.write(row, col, \"ED\")\n",
    "worksheet.write(row, col+2, \"experience\")\n",
    "row+=1\n",
    "\n",
    "f_ = zip(map(lambda x: round(x, 4), ed), [\"top_diag\", \"gen_diag\", \"top_oper\", \"gen_oper\", \"intercept\"])\n",
    "for i, el in enumerate(f_):\n",
    "    worksheet.write(row, col, \"c_%d\"%i)\n",
    "    worksheet.write(row, col+1, el[0])\n",
    "    worksheet.write(row, col+2, el[1])\n",
    "    row+=1\n",
    "    \n",
    "\n",
    "row = r\n",
    "col += 4\n",
    "worksheet.write(row, col, \"GP\")\n",
    "worksheet.write(row, col+2, \"experience\")\n",
    "row+=1\n",
    "\n",
    "f_ = zip(map(lambda x: round(x, 4), gp), [\"top_diag\", \"gen_diag\", \"top_oper\", \"gen_oper\"])\n",
    "for i, el in enumerate(f_):\n",
    "    worksheet.write(row, col, \"c_%d\"%i)\n",
    "    worksheet.write(row, col+1, el[0])\n",
    "    worksheet.write(row, col+2, el[1])\n",
    "    row+=1\n",
    "\n",
    "    \n",
    "#list 2\n",
    "worksheet = workbook.add_worksheet(\"tabl\")\n",
    "worksheet.freeze_panes(1, 0)\n",
    "col = 0\n",
    "row = 0\n",
    "\n",
    "for i in [u\"Болезнь\", u\"Клиника\", u\"Оценка врача\", u\"Оценка модели\", u\"Позиция врача\", u\"Позиция модели\", u\"Разница оценок врача и модели\", u\"Разница позиций врача и модели\"]:\n",
    "    worksheet.write(row, col, i)\n",
    "    col+=1\n",
    "\n",
    "col=0\n",
    "row=1\n",
    "temp = sum([[i[0]]*i[1] for i in zip(illnesses, amounts)],[])\n",
    "for i in temp:\n",
    "    worksheet.write(row, col, i)\n",
    "    row+=1\n",
    "\n",
    "col=1\n",
    "row=1\n",
    "temp = get_clinic_names_all()\n",
    "for i in temp:\n",
    "    worksheet.write(row, col, i)\n",
    "    row+=1\n",
    "    \n",
    "col=2\n",
    "row=1\n",
    "for i in res_y:\n",
    "    worksheet.write(row, col, i)\n",
    "    row+=1\n",
    "\n",
    "col=3\n",
    "row=1\n",
    "for i in res_X:\n",
    "    worksheet.write(row, col, i)\n",
    "    row+=1\n",
    "    \n",
    "col=4\n",
    "row=1\n",
    "for i in all_pos_doctor:\n",
    "    worksheet.write(row, col, i)\n",
    "    row+=1\n",
    "\n",
    "col=5\n",
    "row=1\n",
    "for i in all_pos_model:\n",
    "    worksheet.write(row, col, i)\n",
    "    row+=1\n",
    "\n",
    "\n",
    "col=6\n",
    "row=1\n",
    "for i in range(0, sum(amounts)):\n",
    "    worksheet.write_formula(row, col, '=C%d-D%d'%(row+1,row+1))\n",
    "    worksheet.write_formula(row, col+1, '=E%d-F%d'%(row+1,row+1))\n",
    "    worksheet.write_formula(row, col+2, '=ABS(G%d)'%(row+1))\n",
    "    worksheet.write_formula(row, col+3, '=ABS(H%d)'%(row+1))\n",
    "    row+=1\n",
    "\n",
    "for l,r in ranges:\n",
    "    worksheet.write_formula('K%d' % r, '=AVERAGE(I%d:I%d)'%(l,r))\n",
    "    worksheet.write_formula('L%d' % r, '=AVERAGE(J%d:J%d)'%(l,r))\n",
    "\n",
    "#list 3\n",
    "worksheet = workbook.add_worksheet(\"stat\")\n",
    "worksheet.freeze_panes(1, 0)\n",
    "col = 1\n",
    "row = 0\n",
    "\n",
    "for i in [ u\"Среднее по оценке\", u\"Среднее по позиции\", u\"% последовательности\", u\"топ-3 с 10\", u\"топ-3\"]:\n",
    "    worksheet.write(row, col, i)\n",
    "    col+=1\n",
    "\n",
    "col=0\n",
    "row=1\n",
    "for i in illnesses + ['', u\"Итого\"]:\n",
    "    worksheet.write(row, col, i)\n",
    "    row+=1\n",
    "\n",
    "col=1    \n",
    "row=1\n",
    "for i in [i[1] for i in ranges]:\n",
    "    worksheet.write(row, col, \"='tabl'!K%d\"%(i))\n",
    "    worksheet.write(row, col+1, \"='tabl'!L%d\"%(i))\n",
    "    row+=1\n",
    "\n",
    "col=3\n",
    "row=1\n",
    "for i in zip(seq_pr,top_3_strict, top_3):\n",
    "    worksheet.write(row, col, i[0])\n",
    "    worksheet.write(row, col+1, i[1])\n",
    "    worksheet.write(row, col+2, i[2])\n",
    "    row+=1\n",
    "    \n",
    "row+=1\n",
    "col=1\n",
    "for i in ['B', 'C', 'D', 'E', 'F']:\n",
    "    worksheet.write_formula(row, col, '=AVERAGE(%s2:%s6)'%(i,i))\n",
    "    col+=1\n",
    "\n",
    "workbook.close()"
   ]
  }
 ],
 "metadata": {
  "kernelspec": {
   "display_name": "Python 2",
   "language": "python",
   "name": "python2"
  },
  "language_info": {
   "codemirror_mode": {
    "name": "ipython",
    "version": 2
   },
   "file_extension": ".py",
   "mimetype": "text/x-python",
   "name": "python",
   "nbconvert_exporter": "python",
   "pygments_lexer": "ipython2",
   "version": "2.7.6"
  }
 },
 "nbformat": 4,
 "nbformat_minor": 0
}
